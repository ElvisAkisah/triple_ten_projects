{
 "cells": [
  {
   "cell_type": "markdown",
   "metadata": {},
   "source": [
    "<div style=\"border:solid green 2px; padding: 20px\">\n",
    "    \n",
    "<b>Hello, Elvis!</b> We're glad to see you in code-reviewer territory. You've done a great job on the project, but let's get to know each other and make it even better! We have our own atmosphere here and a few rules:\n",
    "\n",
    "\n",
    "1. I work as a code reviewer, and my main goal is not to point out your mistakes, but to share my experience and help you become a data analyst.\n",
    "2. We speak on a first-come-first-served basis.\n",
    "3. if you want to write or ask a question, don't be shy. Just choose your color for your comment.  \n",
    "4. this is a training project, you don't have to be afraid of making a mistake.  \n",
    "5. You have an unlimited number of attempts to pass the project.  \n",
    "6. Let's Go!\n",
    "\n",
    "\n",
    "---\n",
    "I'll be color-coding comments, please don't delete them:\n",
    "\n",
    "<div class=\"alert alert-block alert-danger\">✍\n",
    "    \n",
    "\n",
    "__Reviewer's comment №1__\n",
    "\n",
    "Needs fixing. The block requires some corrections. Work can't be accepted with the red comments.\n",
    "</div>\n",
    "    \n",
    "---\n",
    "\n",
    "<div class=\"alert alert-block alert-warning\">📝\n",
    "    \n",
    "\n",
    "__Reviewer's comment №1__\n",
    "\n",
    "\n",
    "Remarks. Some recommendations.\n",
    "</div>\n",
    "\n",
    "---\n",
    "\n",
    "<div class=\"alert alert-block alert-success\">✔️\n",
    "    \n",
    "\n",
    "__Reviewer's comment №1__\n",
    "\n",
    "Success. Everything is done succesfully.\n",
    "</div>\n",
    "    \n",
    "---\n",
    "    \n",
    "I suggest that we work on the project in dialogue: if you change something in the project or respond to my comments, write about it. It will be easier for me to track changes if you highlight your comments:   \n",
    "    \n",
    "<div class=\"alert alert-info\"> <b>Student сomments:</b> Student answer..</div>\n",
    "    \n",
    "All this will help to make the recheck of your project faster. If you have any questions about my comments, let me know, we'll figure it out together :)   \n",
    "    \n",
    "---"
   ]
  },
  {
   "cell_type": "markdown",
   "metadata": {},
   "source": [
    "# Which one is a better plan?\n",
    "\n",
    "You work as an analyst for the telecom operator Megaline. The company offers its clients two prepaid plans, Surf and Ultimate. The commercial department wants to know which of the plans brings in more revenue in order to adjust the advertising budget.\n",
    "\n",
    "You are going to carry out a preliminary analysis of the plans based on a relatively small client selection. You'll have the data on 500 Megaline clients: who the clients are, where they're from, which plan they use, and the number of calls they made and text messages they sent in 2018. Your job is to analyze the clients' behavior and determine which prepaid plan brings in more revenue."
   ]
  },
  {
   "cell_type": "markdown",
   "metadata": {},
   "source": []
  },
  {
   "cell_type": "markdown",
   "metadata": {},
   "source": [
    "<div class=\"alert alert-block alert-warning\">📝\n",
    "    \n",
    "\n",
    "__Reviewer's comment №1__\n",
    "\n",
    "An excellent practice is to describe the goal and main steps in your own words (a skill that will help a lot on a final project). It would be good to add the progress and purpose of the study."
   ]
  },
  {
   "cell_type": "markdown",
   "metadata": {},
   "source": [
    "## PROJECT GOAL\n",
    "\n",
    "The goal of this project is to analyse the clien's behavior for Megaline's two prepaid plans, Surf and Ultimate, and determine which plan generates more revenue.\n",
    "\n",
    "To do so, I will\n",
    "* Collect the Data\n",
    "* Clean the data \n",
    "* Perform Exploratory Data Analysis to analyse the data\n",
    "* Calculate Estimated Revenue\n",
    "* formulate a null and alternative hypothesis\n",
    "* Give an overall recommendation that the company can follow\n"
   ]
  },
  {
   "cell_type": "markdown",
   "metadata": {},
   "source": [
    "## Initialization"
   ]
  },
  {
   "cell_type": "markdown",
   "metadata": {},
   "source": [
    "### LOADING LIBRIARIES\n",
    "\n",
    "The following libriaries will be used in this project:\n",
    "* pandas for data manipulation\n",
    "* matplotlip.pyplot and seaborn  for data visualization\n",
    "* numpy for mathematical functions\n",
    "* scipy for hypothesis testing\n"
   ]
  },
  {
   "cell_type": "code",
   "execution_count": 1,
   "metadata": {},
   "outputs": [],
   "source": [
    "import pandas as pd\n",
    "import matplotlib.pyplot as plt\n",
    "import numpy as np\n",
    "from scipy import stats as st\n",
    "from scipy.stats import ttest_ind\n",
    "import seaborn as sns\n",
    "# Loading all the libraries\n",
    "\n"
   ]
  },
  {
   "cell_type": "markdown",
   "metadata": {},
   "source": [
    "## Load data"
   ]
  },
  {
   "cell_type": "markdown",
   "metadata": {},
   "source": [
    "Let df_calls, df_internet, df_messages, df_plans and df_users be the data frames for the megaline calls, internet, messages, plans and users respectively.\n",
    "\n",
    "Using padas to read the given data sets gives :"
   ]
  },
  {
   "cell_type": "code",
   "execution_count": 2,
   "metadata": {},
   "outputs": [],
   "source": [
    "df_calls = pd.read_csv('/datasets/megaline_calls.csv')\n",
    "# df_calls\n",
    "df_internet = pd.read_csv('/datasets/megaline_internet.csv')\n",
    "# df_internet\n",
    "df_messages = pd.read_csv('/datasets/megaline_messages.csv')\n",
    "# df_messages\n",
    "df_plans = pd.read_csv('/datasets/megaline_plans.csv')\n",
    "# df_plans\n",
    "df_users = pd.read_csv('/datasets/megaline_users.csv')\n",
    "# df_users\n",
    "# Load the data files into different DataFrames\n",
    "\n"
   ]
  },
  {
   "cell_type": "markdown",
   "metadata": {},
   "source": [
    "## Prepare the data"
   ]
  },
  {
   "cell_type": "markdown",
   "metadata": {},
   "source": [
    "For each of the data frames, I will use the info() method to  get a summary of the different dataframes to enable proper cleansing.\n",
    "\n",
    "To fix the data, I will check for duplicates and possibly change the data type where necessary"
   ]
  },
  {
   "cell_type": "markdown",
   "metadata": {},
   "source": [
    "## Plans"
   ]
  },
  {
   "cell_type": "code",
   "execution_count": 3,
   "metadata": {},
   "outputs": [
    {
     "name": "stdout",
     "output_type": "stream",
     "text": [
      "<class 'pandas.core.frame.DataFrame'>\n",
      "RangeIndex: 2 entries, 0 to 1\n",
      "Data columns (total 8 columns):\n",
      " #   Column                 Non-Null Count  Dtype  \n",
      "---  ------                 --------------  -----  \n",
      " 0   messages_included      2 non-null      int64  \n",
      " 1   mb_per_month_included  2 non-null      int64  \n",
      " 2   minutes_included       2 non-null      int64  \n",
      " 3   usd_monthly_pay        2 non-null      int64  \n",
      " 4   usd_per_gb             2 non-null      int64  \n",
      " 5   usd_per_message        2 non-null      float64\n",
      " 6   usd_per_minute         2 non-null      float64\n",
      " 7   plan_name              2 non-null      object \n",
      "dtypes: float64(2), int64(5), object(1)\n",
      "memory usage: 256.0+ bytes\n"
     ]
    }
   ],
   "source": [
    "df_plans.info()\n",
    "# Print the general/summary information about the plans' DataFrame\n",
    "\n"
   ]
  },
  {
   "cell_type": "code",
   "execution_count": 4,
   "metadata": {
    "scrolled": true
   },
   "outputs": [
    {
     "data": {
      "text/html": [
       "<div>\n",
       "<style scoped>\n",
       "    .dataframe tbody tr th:only-of-type {\n",
       "        vertical-align: middle;\n",
       "    }\n",
       "\n",
       "    .dataframe tbody tr th {\n",
       "        vertical-align: top;\n",
       "    }\n",
       "\n",
       "    .dataframe thead th {\n",
       "        text-align: right;\n",
       "    }\n",
       "</style>\n",
       "<table border=\"1\" class=\"dataframe\">\n",
       "  <thead>\n",
       "    <tr style=\"text-align: right;\">\n",
       "      <th></th>\n",
       "      <th>messages_included</th>\n",
       "      <th>mb_per_month_included</th>\n",
       "      <th>minutes_included</th>\n",
       "      <th>usd_monthly_pay</th>\n",
       "      <th>usd_per_gb</th>\n",
       "      <th>usd_per_message</th>\n",
       "      <th>usd_per_minute</th>\n",
       "      <th>plan_name</th>\n",
       "    </tr>\n",
       "  </thead>\n",
       "  <tbody>\n",
       "    <tr>\n",
       "      <th>0</th>\n",
       "      <td>50</td>\n",
       "      <td>15360</td>\n",
       "      <td>500</td>\n",
       "      <td>20</td>\n",
       "      <td>10</td>\n",
       "      <td>0.03</td>\n",
       "      <td>0.03</td>\n",
       "      <td>surf</td>\n",
       "    </tr>\n",
       "    <tr>\n",
       "      <th>1</th>\n",
       "      <td>1000</td>\n",
       "      <td>30720</td>\n",
       "      <td>3000</td>\n",
       "      <td>70</td>\n",
       "      <td>7</td>\n",
       "      <td>0.01</td>\n",
       "      <td>0.01</td>\n",
       "      <td>ultimate</td>\n",
       "    </tr>\n",
       "  </tbody>\n",
       "</table>\n",
       "</div>"
      ],
      "text/plain": [
       "   messages_included  mb_per_month_included  minutes_included  \\\n",
       "0                 50                  15360               500   \n",
       "1               1000                  30720              3000   \n",
       "\n",
       "   usd_monthly_pay  usd_per_gb  usd_per_message  usd_per_minute plan_name  \n",
       "0               20          10             0.03            0.03      surf  \n",
       "1               70           7             0.01            0.01  ultimate  "
      ]
     },
     "execution_count": 4,
     "metadata": {},
     "output_type": "execute_result"
    }
   ],
   "source": [
    "df_plans\n",
    "# Print a sample of data for plans\n",
    "\n"
   ]
  },
  {
   "cell_type": "markdown",
   "metadata": {},
   "source": [
    "The plans data set has only two rows and eight columns.\n",
    "This confirms the two plans,  Surf and Ultimate plans offered by the Megaline telecom operator\n"
   ]
  },
  {
   "cell_type": "markdown",
   "metadata": {},
   "source": [
    " "
   ]
  },
  {
   "cell_type": "markdown",
   "metadata": {},
   "source": [
    "## Fix data"
   ]
  },
  {
   "cell_type": "markdown",
   "metadata": {},
   "source": [
    "From the above, there are no missing values."
   ]
  },
  {
   "cell_type": "code",
   "execution_count": 5,
   "metadata": {},
   "outputs": [
    {
     "data": {
      "text/plain": [
       "0"
      ]
     },
     "execution_count": 5,
     "metadata": {},
     "output_type": "execute_result"
    }
   ],
   "source": [
    "duplicated_plans = df_plans.duplicated().sum()\n",
    "duplicated_plans"
   ]
  },
  {
   "cell_type": "markdown",
   "metadata": {},
   "source": [
    "<div class=\"alert alert-block alert-success\">✔️\n",
    "    \n",
    "\n",
    "__Reviewer's comment №1__\n",
    "\n",
    "Duplicate checking is the basis of data preprocessing"
   ]
  },
  {
   "cell_type": "markdown",
   "metadata": {},
   "source": [
    "## Enrich data"
   ]
  },
  {
   "cell_type": "markdown",
   "metadata": {},
   "source": [
    "I will asign the column  plan_name from object to  category."
   ]
  },
  {
   "cell_type": "code",
   "execution_count": 6,
   "metadata": {},
   "outputs": [
    {
     "name": "stdout",
     "output_type": "stream",
     "text": [
      "<class 'pandas.core.frame.DataFrame'>\n",
      "RangeIndex: 2 entries, 0 to 1\n",
      "Data columns (total 8 columns):\n",
      " #   Column                 Non-Null Count  Dtype   \n",
      "---  ------                 --------------  -----   \n",
      " 0   messages_included      2 non-null      int64   \n",
      " 1   mb_per_month_included  2 non-null      int64   \n",
      " 2   minutes_included       2 non-null      int64   \n",
      " 3   usd_monthly_pay        2 non-null      int64   \n",
      " 4   usd_per_gb             2 non-null      int64   \n",
      " 5   usd_per_message        2 non-null      float64 \n",
      " 6   usd_per_minute         2 non-null      float64 \n",
      " 7   plan_name              2 non-null      category\n",
      "dtypes: category(1), float64(2), int64(5)\n",
      "memory usage: 366.0 bytes\n"
     ]
    }
   ],
   "source": [
    "df_plans['plan_name'] = df_plans['plan_name'].astype('category')\n",
    "df_plans.info()"
   ]
  },
  {
   "cell_type": "markdown",
   "metadata": {},
   "source": [
    "## Users"
   ]
  },
  {
   "cell_type": "code",
   "execution_count": 7,
   "metadata": {},
   "outputs": [
    {
     "name": "stdout",
     "output_type": "stream",
     "text": [
      "<class 'pandas.core.frame.DataFrame'>\n",
      "RangeIndex: 500 entries, 0 to 499\n",
      "Data columns (total 8 columns):\n",
      " #   Column      Non-Null Count  Dtype \n",
      "---  ------      --------------  ----- \n",
      " 0   user_id     500 non-null    int64 \n",
      " 1   first_name  500 non-null    object\n",
      " 2   last_name   500 non-null    object\n",
      " 3   age         500 non-null    int64 \n",
      " 4   city        500 non-null    object\n",
      " 5   reg_date    500 non-null    object\n",
      " 6   plan        500 non-null    object\n",
      " 7   churn_date  34 non-null     object\n",
      "dtypes: int64(2), object(6)\n",
      "memory usage: 31.4+ KB\n"
     ]
    }
   ],
   "source": [
    "df_users.info()\n",
    "# Print the general/summary information about the users' DataFrame\n",
    "\n"
   ]
  },
  {
   "cell_type": "code",
   "execution_count": 8,
   "metadata": {},
   "outputs": [
    {
     "data": {
      "text/html": [
       "<div>\n",
       "<style scoped>\n",
       "    .dataframe tbody tr th:only-of-type {\n",
       "        vertical-align: middle;\n",
       "    }\n",
       "\n",
       "    .dataframe tbody tr th {\n",
       "        vertical-align: top;\n",
       "    }\n",
       "\n",
       "    .dataframe thead th {\n",
       "        text-align: right;\n",
       "    }\n",
       "</style>\n",
       "<table border=\"1\" class=\"dataframe\">\n",
       "  <thead>\n",
       "    <tr style=\"text-align: right;\">\n",
       "      <th></th>\n",
       "      <th>user_id</th>\n",
       "      <th>first_name</th>\n",
       "      <th>last_name</th>\n",
       "      <th>age</th>\n",
       "      <th>city</th>\n",
       "      <th>reg_date</th>\n",
       "      <th>plan</th>\n",
       "      <th>churn_date</th>\n",
       "    </tr>\n",
       "  </thead>\n",
       "  <tbody>\n",
       "    <tr>\n",
       "      <th>0</th>\n",
       "      <td>1000</td>\n",
       "      <td>Anamaria</td>\n",
       "      <td>Bauer</td>\n",
       "      <td>45</td>\n",
       "      <td>Atlanta-Sandy Springs-Roswell, GA MSA</td>\n",
       "      <td>2018-12-24</td>\n",
       "      <td>ultimate</td>\n",
       "      <td>NaN</td>\n",
       "    </tr>\n",
       "    <tr>\n",
       "      <th>1</th>\n",
       "      <td>1001</td>\n",
       "      <td>Mickey</td>\n",
       "      <td>Wilkerson</td>\n",
       "      <td>28</td>\n",
       "      <td>Seattle-Tacoma-Bellevue, WA MSA</td>\n",
       "      <td>2018-08-13</td>\n",
       "      <td>surf</td>\n",
       "      <td>NaN</td>\n",
       "    </tr>\n",
       "    <tr>\n",
       "      <th>2</th>\n",
       "      <td>1002</td>\n",
       "      <td>Carlee</td>\n",
       "      <td>Hoffman</td>\n",
       "      <td>36</td>\n",
       "      <td>Las Vegas-Henderson-Paradise, NV MSA</td>\n",
       "      <td>2018-10-21</td>\n",
       "      <td>surf</td>\n",
       "      <td>NaN</td>\n",
       "    </tr>\n",
       "    <tr>\n",
       "      <th>3</th>\n",
       "      <td>1003</td>\n",
       "      <td>Reynaldo</td>\n",
       "      <td>Jenkins</td>\n",
       "      <td>52</td>\n",
       "      <td>Tulsa, OK MSA</td>\n",
       "      <td>2018-01-28</td>\n",
       "      <td>surf</td>\n",
       "      <td>NaN</td>\n",
       "    </tr>\n",
       "    <tr>\n",
       "      <th>4</th>\n",
       "      <td>1004</td>\n",
       "      <td>Leonila</td>\n",
       "      <td>Thompson</td>\n",
       "      <td>40</td>\n",
       "      <td>Seattle-Tacoma-Bellevue, WA MSA</td>\n",
       "      <td>2018-05-23</td>\n",
       "      <td>surf</td>\n",
       "      <td>NaN</td>\n",
       "    </tr>\n",
       "  </tbody>\n",
       "</table>\n",
       "</div>"
      ],
      "text/plain": [
       "   user_id first_name  last_name  age                                   city  \\\n",
       "0     1000   Anamaria      Bauer   45  Atlanta-Sandy Springs-Roswell, GA MSA   \n",
       "1     1001     Mickey  Wilkerson   28        Seattle-Tacoma-Bellevue, WA MSA   \n",
       "2     1002     Carlee    Hoffman   36   Las Vegas-Henderson-Paradise, NV MSA   \n",
       "3     1003   Reynaldo    Jenkins   52                          Tulsa, OK MSA   \n",
       "4     1004    Leonila   Thompson   40        Seattle-Tacoma-Bellevue, WA MSA   \n",
       "\n",
       "     reg_date      plan churn_date  \n",
       "0  2018-12-24  ultimate        NaN  \n",
       "1  2018-08-13      surf        NaN  \n",
       "2  2018-10-21      surf        NaN  \n",
       "3  2018-01-28      surf        NaN  \n",
       "4  2018-05-23      surf        NaN  "
      ]
     },
     "execution_count": 8,
     "metadata": {},
     "output_type": "execute_result"
    }
   ],
   "source": [
    "df_users.head()\n",
    "# Print a sample of data for users\n",
    "\n"
   ]
  },
  {
   "cell_type": "markdown",
   "metadata": {},
   "source": [
    "500 rows and 8 columns.\n",
    "The reg_date and Churn_date have a wrong data type. \n",
    "Unlike the other columns with 500 non_null values, The churn_date column has 34 non_null values.\n",
    "This indicates 466 out of the 500 customers are still active\n"
   ]
  },
  {
   "cell_type": "markdown",
   "metadata": {},
   "source": [
    " "
   ]
  },
  {
   "cell_type": "markdown",
   "metadata": {},
   "source": [
    "### Fix Data"
   ]
  },
  {
   "cell_type": "markdown",
   "metadata": {},
   "source": [
    "I will do the following: \n",
    "\n",
    "change the reg_date and churn_date data type to datetime64.\n",
    "\n"
   ]
  },
  {
   "cell_type": "code",
   "execution_count": 9,
   "metadata": {},
   "outputs": [],
   "source": [
    "df_users['reg_date'] = pd.to_datetime(df_users['reg_date'])\n",
    "df_users['churn_date'] = pd.to_datetime(df_users['churn_date'])\n"
   ]
  },
  {
   "cell_type": "markdown",
   "metadata": {},
   "source": [
    "### Enrich Data"
   ]
  },
  {
   "cell_type": "markdown",
   "metadata": {},
   "source": [
    "Create another column "
   ]
  },
  {
   "cell_type": "code",
   "execution_count": 10,
   "metadata": {},
   "outputs": [
    {
     "name": "stdout",
     "output_type": "stream",
     "text": [
      "<class 'pandas.core.frame.DataFrame'>\n",
      "RangeIndex: 500 entries, 0 to 499\n",
      "Data columns (total 9 columns):\n",
      " #   Column      Non-Null Count  Dtype         \n",
      "---  ------      --------------  -----         \n",
      " 0   user_id     500 non-null    int64         \n",
      " 1   first_name  500 non-null    object        \n",
      " 2   last_name   500 non-null    object        \n",
      " 3   age         500 non-null    int64         \n",
      " 4   city        500 non-null    object        \n",
      " 5   reg_date    500 non-null    datetime64[ns]\n",
      " 6   plan        500 non-null    object        \n",
      " 7   churn_date  34 non-null     datetime64[ns]\n",
      " 8   churned     500 non-null    int64         \n",
      "dtypes: datetime64[ns](2), int64(3), object(4)\n",
      "memory usage: 35.3+ KB\n"
     ]
    }
   ],
   "source": [
    "df_users['churned'] = df_users['churn_date'].notnull().astype(int)\n",
    "df_users.info()"
   ]
  },
  {
   "cell_type": "markdown",
   "metadata": {},
   "source": [
    "## Calls"
   ]
  },
  {
   "cell_type": "code",
   "execution_count": 11,
   "metadata": {},
   "outputs": [
    {
     "name": "stdout",
     "output_type": "stream",
     "text": [
      "<class 'pandas.core.frame.DataFrame'>\n",
      "RangeIndex: 137735 entries, 0 to 137734\n",
      "Data columns (total 4 columns):\n",
      " #   Column     Non-Null Count   Dtype  \n",
      "---  ------     --------------   -----  \n",
      " 0   id         137735 non-null  object \n",
      " 1   user_id    137735 non-null  int64  \n",
      " 2   call_date  137735 non-null  object \n",
      " 3   duration   137735 non-null  float64\n",
      "dtypes: float64(1), int64(1), object(2)\n",
      "memory usage: 4.2+ MB\n"
     ]
    }
   ],
   "source": [
    "df_calls.info()\n",
    "# Print the general/summary information about the calls' DataFrame\n",
    "\n"
   ]
  },
  {
   "cell_type": "code",
   "execution_count": 12,
   "metadata": {},
   "outputs": [
    {
     "data": {
      "text/html": [
       "<div>\n",
       "<style scoped>\n",
       "    .dataframe tbody tr th:only-of-type {\n",
       "        vertical-align: middle;\n",
       "    }\n",
       "\n",
       "    .dataframe tbody tr th {\n",
       "        vertical-align: top;\n",
       "    }\n",
       "\n",
       "    .dataframe thead th {\n",
       "        text-align: right;\n",
       "    }\n",
       "</style>\n",
       "<table border=\"1\" class=\"dataframe\">\n",
       "  <thead>\n",
       "    <tr style=\"text-align: right;\">\n",
       "      <th></th>\n",
       "      <th>id</th>\n",
       "      <th>user_id</th>\n",
       "      <th>call_date</th>\n",
       "      <th>duration</th>\n",
       "    </tr>\n",
       "  </thead>\n",
       "  <tbody>\n",
       "    <tr>\n",
       "      <th>0</th>\n",
       "      <td>1000_93</td>\n",
       "      <td>1000</td>\n",
       "      <td>2018-12-27</td>\n",
       "      <td>8.52</td>\n",
       "    </tr>\n",
       "    <tr>\n",
       "      <th>1</th>\n",
       "      <td>1000_145</td>\n",
       "      <td>1000</td>\n",
       "      <td>2018-12-27</td>\n",
       "      <td>13.66</td>\n",
       "    </tr>\n",
       "    <tr>\n",
       "      <th>2</th>\n",
       "      <td>1000_247</td>\n",
       "      <td>1000</td>\n",
       "      <td>2018-12-27</td>\n",
       "      <td>14.48</td>\n",
       "    </tr>\n",
       "    <tr>\n",
       "      <th>3</th>\n",
       "      <td>1000_309</td>\n",
       "      <td>1000</td>\n",
       "      <td>2018-12-28</td>\n",
       "      <td>5.76</td>\n",
       "    </tr>\n",
       "    <tr>\n",
       "      <th>4</th>\n",
       "      <td>1000_380</td>\n",
       "      <td>1000</td>\n",
       "      <td>2018-12-30</td>\n",
       "      <td>4.22</td>\n",
       "    </tr>\n",
       "  </tbody>\n",
       "</table>\n",
       "</div>"
      ],
      "text/plain": [
       "         id  user_id   call_date  duration\n",
       "0   1000_93     1000  2018-12-27      8.52\n",
       "1  1000_145     1000  2018-12-27     13.66\n",
       "2  1000_247     1000  2018-12-27     14.48\n",
       "3  1000_309     1000  2018-12-28      5.76\n",
       "4  1000_380     1000  2018-12-30      4.22"
      ]
     },
     "execution_count": 12,
     "metadata": {},
     "output_type": "execute_result"
    }
   ],
   "source": [
    "df_calls.head()\n",
    "# Print a sample of data for calls\n",
    "\n"
   ]
  },
  {
   "cell_type": "markdown",
   "metadata": {},
   "source": [
    "137735 row and 4 columns."
   ]
  },
  {
   "cell_type": "markdown",
   "metadata": {},
   "source": [
    " "
   ]
  },
  {
   "cell_type": "markdown",
   "metadata": {},
   "source": [
    "### Fix data"
   ]
  },
  {
   "cell_type": "markdown",
   "metadata": {},
   "source": [
    "change the data type of call_date to datetime"
   ]
  },
  {
   "cell_type": "code",
   "execution_count": 13,
   "metadata": {},
   "outputs": [
    {
     "data": {
      "text/plain": [
       "0"
      ]
     },
     "execution_count": 13,
     "metadata": {},
     "output_type": "execute_result"
    }
   ],
   "source": [
    "df_calls['call_date'] = pd.to_datetime(df_calls['call_date'])\n",
    "duplicated_calls = df_calls.duplicated().sum()\n",
    "\n",
    "duplicated_calls\n"
   ]
  },
  {
   "cell_type": "markdown",
   "metadata": {},
   "source": [
    "### Enrich data"
   ]
  },
  {
   "cell_type": "markdown",
   "metadata": {},
   "source": [
    "I will create another column with the duration rounded up to minutes.\n",
    "I will create another columns for the month the calls were made"
   ]
  },
  {
   "cell_type": "code",
   "execution_count": 14,
   "metadata": {
    "scrolled": true
   },
   "outputs": [
    {
     "data": {
      "text/html": [
       "<div>\n",
       "<style scoped>\n",
       "    .dataframe tbody tr th:only-of-type {\n",
       "        vertical-align: middle;\n",
       "    }\n",
       "\n",
       "    .dataframe tbody tr th {\n",
       "        vertical-align: top;\n",
       "    }\n",
       "\n",
       "    .dataframe thead th {\n",
       "        text-align: right;\n",
       "    }\n",
       "</style>\n",
       "<table border=\"1\" class=\"dataframe\">\n",
       "  <thead>\n",
       "    <tr style=\"text-align: right;\">\n",
       "      <th></th>\n",
       "      <th>id</th>\n",
       "      <th>user_id</th>\n",
       "      <th>call_date</th>\n",
       "      <th>duration</th>\n",
       "      <th>rounded_duration</th>\n",
       "      <th>month</th>\n",
       "    </tr>\n",
       "  </thead>\n",
       "  <tbody>\n",
       "    <tr>\n",
       "      <th>0</th>\n",
       "      <td>1000_93</td>\n",
       "      <td>1000</td>\n",
       "      <td>2018-12-27</td>\n",
       "      <td>8.52</td>\n",
       "      <td>9.0</td>\n",
       "      <td>12</td>\n",
       "    </tr>\n",
       "    <tr>\n",
       "      <th>1</th>\n",
       "      <td>1000_145</td>\n",
       "      <td>1000</td>\n",
       "      <td>2018-12-27</td>\n",
       "      <td>13.66</td>\n",
       "      <td>14.0</td>\n",
       "      <td>12</td>\n",
       "    </tr>\n",
       "    <tr>\n",
       "      <th>2</th>\n",
       "      <td>1000_247</td>\n",
       "      <td>1000</td>\n",
       "      <td>2018-12-27</td>\n",
       "      <td>14.48</td>\n",
       "      <td>15.0</td>\n",
       "      <td>12</td>\n",
       "    </tr>\n",
       "    <tr>\n",
       "      <th>3</th>\n",
       "      <td>1000_309</td>\n",
       "      <td>1000</td>\n",
       "      <td>2018-12-28</td>\n",
       "      <td>5.76</td>\n",
       "      <td>6.0</td>\n",
       "      <td>12</td>\n",
       "    </tr>\n",
       "    <tr>\n",
       "      <th>4</th>\n",
       "      <td>1000_380</td>\n",
       "      <td>1000</td>\n",
       "      <td>2018-12-30</td>\n",
       "      <td>4.22</td>\n",
       "      <td>5.0</td>\n",
       "      <td>12</td>\n",
       "    </tr>\n",
       "  </tbody>\n",
       "</table>\n",
       "</div>"
      ],
      "text/plain": [
       "         id  user_id  call_date  duration  rounded_duration  month\n",
       "0   1000_93     1000 2018-12-27      8.52               9.0     12\n",
       "1  1000_145     1000 2018-12-27     13.66              14.0     12\n",
       "2  1000_247     1000 2018-12-27     14.48              15.0     12\n",
       "3  1000_309     1000 2018-12-28      5.76               6.0     12\n",
       "4  1000_380     1000 2018-12-30      4.22               5.0     12"
      ]
     },
     "execution_count": 14,
     "metadata": {},
     "output_type": "execute_result"
    }
   ],
   "source": [
    "# df_calls['rounded_duration'] = df_calls['duration'].apply(lambda x: -(-x // 1))\n",
    "# df_calls['month'] = df_calls['call_date'].dt.month\n",
    "# df_calls.head()\n",
    "df_calls['rounded_duration'] = df_calls['duration'].apply(np.ceil)\n",
    "df_calls['month'] = df_calls['call_date'].dt.month\n",
    "df_calls.head()"
   ]
  },
  {
   "cell_type": "markdown",
   "metadata": {},
   "source": [
    "<div class=\"alert alert-block alert-danger\">✍\n",
    "    \n",
    "\n",
    "__Reviewer's comment №1__\n",
    "\n",
    "At the end of each call, the duration of the call is rounded up. The `np.ceil()` method should be used."
   ]
  },
  {
   "cell_type": "markdown",
   "metadata": {},
   "source": [
    "<div class=\"alert alert-info\"> <b>Student сomments 1:</b> Student answer..</div>\n",
    "    \n",
    "I have done the above correction and it still gave the same answer.\n",
    "I wish to know if there is any difference and how can it affect the results.\n",
    "Thanks for the correction"
   ]
  },
  {
   "cell_type": "markdown",
   "metadata": {},
   "source": [
    "<div class=\"alert alert-block alert-success\">✔️\n",
    "    \n",
    "\n",
    "__Reviewer's comment №2__\n",
    "\n",
    "Good for you for using the np.ceil() method\n",
    "    \n",
    "Yeah, there should be a difference    \n",
    "    "
   ]
  },
  {
   "cell_type": "markdown",
   "metadata": {},
   "source": [
    "## Messages"
   ]
  },
  {
   "cell_type": "code",
   "execution_count": 15,
   "metadata": {},
   "outputs": [
    {
     "name": "stdout",
     "output_type": "stream",
     "text": [
      "<class 'pandas.core.frame.DataFrame'>\n",
      "RangeIndex: 76051 entries, 0 to 76050\n",
      "Data columns (total 3 columns):\n",
      " #   Column        Non-Null Count  Dtype \n",
      "---  ------        --------------  ----- \n",
      " 0   id            76051 non-null  object\n",
      " 1   user_id       76051 non-null  int64 \n",
      " 2   message_date  76051 non-null  object\n",
      "dtypes: int64(1), object(2)\n",
      "memory usage: 1.7+ MB\n"
     ]
    }
   ],
   "source": [
    "df_messages.info()\n",
    "# Print the general/summary information about the messages' DataFrame\n",
    "\n"
   ]
  },
  {
   "cell_type": "code",
   "execution_count": 16,
   "metadata": {},
   "outputs": [
    {
     "data": {
      "text/html": [
       "<div>\n",
       "<style scoped>\n",
       "    .dataframe tbody tr th:only-of-type {\n",
       "        vertical-align: middle;\n",
       "    }\n",
       "\n",
       "    .dataframe tbody tr th {\n",
       "        vertical-align: top;\n",
       "    }\n",
       "\n",
       "    .dataframe thead th {\n",
       "        text-align: right;\n",
       "    }\n",
       "</style>\n",
       "<table border=\"1\" class=\"dataframe\">\n",
       "  <thead>\n",
       "    <tr style=\"text-align: right;\">\n",
       "      <th></th>\n",
       "      <th>id</th>\n",
       "      <th>user_id</th>\n",
       "      <th>message_date</th>\n",
       "    </tr>\n",
       "  </thead>\n",
       "  <tbody>\n",
       "    <tr>\n",
       "      <th>0</th>\n",
       "      <td>1000_125</td>\n",
       "      <td>1000</td>\n",
       "      <td>2018-12-27</td>\n",
       "    </tr>\n",
       "    <tr>\n",
       "      <th>1</th>\n",
       "      <td>1000_160</td>\n",
       "      <td>1000</td>\n",
       "      <td>2018-12-31</td>\n",
       "    </tr>\n",
       "    <tr>\n",
       "      <th>2</th>\n",
       "      <td>1000_223</td>\n",
       "      <td>1000</td>\n",
       "      <td>2018-12-31</td>\n",
       "    </tr>\n",
       "    <tr>\n",
       "      <th>3</th>\n",
       "      <td>1000_251</td>\n",
       "      <td>1000</td>\n",
       "      <td>2018-12-27</td>\n",
       "    </tr>\n",
       "    <tr>\n",
       "      <th>4</th>\n",
       "      <td>1000_255</td>\n",
       "      <td>1000</td>\n",
       "      <td>2018-12-26</td>\n",
       "    </tr>\n",
       "  </tbody>\n",
       "</table>\n",
       "</div>"
      ],
      "text/plain": [
       "         id  user_id message_date\n",
       "0  1000_125     1000   2018-12-27\n",
       "1  1000_160     1000   2018-12-31\n",
       "2  1000_223     1000   2018-12-31\n",
       "3  1000_251     1000   2018-12-27\n",
       "4  1000_255     1000   2018-12-26"
      ]
     },
     "execution_count": 16,
     "metadata": {},
     "output_type": "execute_result"
    }
   ],
   "source": [
    "df_messages.head()\n",
    "# Print a sample of data for messages\n",
    "\n"
   ]
  },
  {
   "cell_type": "markdown",
   "metadata": {},
   "source": [
    "76051 rows and 3 columns.\n",
    "message_date is an object data type instead of a datetime64."
   ]
  },
  {
   "cell_type": "markdown",
   "metadata": {},
   "source": [
    " "
   ]
  },
  {
   "cell_type": "markdown",
   "metadata": {},
   "source": [
    "### Fix data"
   ]
  },
  {
   "cell_type": "markdown",
   "metadata": {},
   "source": [
    "change the data type of call_date to datetime"
   ]
  },
  {
   "cell_type": "code",
   "execution_count": 17,
   "metadata": {},
   "outputs": [
    {
     "data": {
      "text/plain": [
       "0"
      ]
     },
     "execution_count": 17,
     "metadata": {},
     "output_type": "execute_result"
    }
   ],
   "source": [
    "df_messages['message_date'] = pd.to_datetime(df_messages['message_date'])\n",
    "duplicated_messages = df_messages.duplicated().sum()\n",
    "\n",
    "duplicated_messages "
   ]
  },
  {
   "cell_type": "markdown",
   "metadata": {},
   "source": [
    "### Enrich data"
   ]
  },
  {
   "cell_type": "markdown",
   "metadata": {},
   "source": [
    "Creating another column for the month"
   ]
  },
  {
   "cell_type": "code",
   "execution_count": 18,
   "metadata": {},
   "outputs": [
    {
     "data": {
      "text/html": [
       "<div>\n",
       "<style scoped>\n",
       "    .dataframe tbody tr th:only-of-type {\n",
       "        vertical-align: middle;\n",
       "    }\n",
       "\n",
       "    .dataframe tbody tr th {\n",
       "        vertical-align: top;\n",
       "    }\n",
       "\n",
       "    .dataframe thead th {\n",
       "        text-align: right;\n",
       "    }\n",
       "</style>\n",
       "<table border=\"1\" class=\"dataframe\">\n",
       "  <thead>\n",
       "    <tr style=\"text-align: right;\">\n",
       "      <th></th>\n",
       "      <th>id</th>\n",
       "      <th>user_id</th>\n",
       "      <th>message_date</th>\n",
       "      <th>month</th>\n",
       "    </tr>\n",
       "  </thead>\n",
       "  <tbody>\n",
       "    <tr>\n",
       "      <th>0</th>\n",
       "      <td>1000_125</td>\n",
       "      <td>1000</td>\n",
       "      <td>2018-12-27</td>\n",
       "      <td>12</td>\n",
       "    </tr>\n",
       "    <tr>\n",
       "      <th>1</th>\n",
       "      <td>1000_160</td>\n",
       "      <td>1000</td>\n",
       "      <td>2018-12-31</td>\n",
       "      <td>12</td>\n",
       "    </tr>\n",
       "    <tr>\n",
       "      <th>2</th>\n",
       "      <td>1000_223</td>\n",
       "      <td>1000</td>\n",
       "      <td>2018-12-31</td>\n",
       "      <td>12</td>\n",
       "    </tr>\n",
       "    <tr>\n",
       "      <th>3</th>\n",
       "      <td>1000_251</td>\n",
       "      <td>1000</td>\n",
       "      <td>2018-12-27</td>\n",
       "      <td>12</td>\n",
       "    </tr>\n",
       "    <tr>\n",
       "      <th>4</th>\n",
       "      <td>1000_255</td>\n",
       "      <td>1000</td>\n",
       "      <td>2018-12-26</td>\n",
       "      <td>12</td>\n",
       "    </tr>\n",
       "  </tbody>\n",
       "</table>\n",
       "</div>"
      ],
      "text/plain": [
       "         id  user_id message_date  month\n",
       "0  1000_125     1000   2018-12-27     12\n",
       "1  1000_160     1000   2018-12-31     12\n",
       "2  1000_223     1000   2018-12-31     12\n",
       "3  1000_251     1000   2018-12-27     12\n",
       "4  1000_255     1000   2018-12-26     12"
      ]
     },
     "execution_count": 18,
     "metadata": {},
     "output_type": "execute_result"
    }
   ],
   "source": [
    "df_messages['month'] = df_messages['message_date'].dt.month\n",
    "df_messages.head()"
   ]
  },
  {
   "cell_type": "markdown",
   "metadata": {},
   "source": [
    "## Internet"
   ]
  },
  {
   "cell_type": "code",
   "execution_count": 19,
   "metadata": {},
   "outputs": [
    {
     "name": "stdout",
     "output_type": "stream",
     "text": [
      "<class 'pandas.core.frame.DataFrame'>\n",
      "RangeIndex: 104825 entries, 0 to 104824\n",
      "Data columns (total 4 columns):\n",
      " #   Column        Non-Null Count   Dtype  \n",
      "---  ------        --------------   -----  \n",
      " 0   id            104825 non-null  object \n",
      " 1   user_id       104825 non-null  int64  \n",
      " 2   session_date  104825 non-null  object \n",
      " 3   mb_used       104825 non-null  float64\n",
      "dtypes: float64(1), int64(1), object(2)\n",
      "memory usage: 3.2+ MB\n"
     ]
    }
   ],
   "source": [
    "df_internet.info()\n",
    "# Print the general/summary information about the internet DataFrame\n",
    "\n"
   ]
  },
  {
   "cell_type": "code",
   "execution_count": 20,
   "metadata": {},
   "outputs": [
    {
     "data": {
      "text/html": [
       "<div>\n",
       "<style scoped>\n",
       "    .dataframe tbody tr th:only-of-type {\n",
       "        vertical-align: middle;\n",
       "    }\n",
       "\n",
       "    .dataframe tbody tr th {\n",
       "        vertical-align: top;\n",
       "    }\n",
       "\n",
       "    .dataframe thead th {\n",
       "        text-align: right;\n",
       "    }\n",
       "</style>\n",
       "<table border=\"1\" class=\"dataframe\">\n",
       "  <thead>\n",
       "    <tr style=\"text-align: right;\">\n",
       "      <th></th>\n",
       "      <th>id</th>\n",
       "      <th>user_id</th>\n",
       "      <th>session_date</th>\n",
       "      <th>mb_used</th>\n",
       "    </tr>\n",
       "  </thead>\n",
       "  <tbody>\n",
       "    <tr>\n",
       "      <th>0</th>\n",
       "      <td>1000_13</td>\n",
       "      <td>1000</td>\n",
       "      <td>2018-12-29</td>\n",
       "      <td>89.86</td>\n",
       "    </tr>\n",
       "    <tr>\n",
       "      <th>1</th>\n",
       "      <td>1000_204</td>\n",
       "      <td>1000</td>\n",
       "      <td>2018-12-31</td>\n",
       "      <td>0.00</td>\n",
       "    </tr>\n",
       "    <tr>\n",
       "      <th>2</th>\n",
       "      <td>1000_379</td>\n",
       "      <td>1000</td>\n",
       "      <td>2018-12-28</td>\n",
       "      <td>660.40</td>\n",
       "    </tr>\n",
       "    <tr>\n",
       "      <th>3</th>\n",
       "      <td>1000_413</td>\n",
       "      <td>1000</td>\n",
       "      <td>2018-12-26</td>\n",
       "      <td>270.99</td>\n",
       "    </tr>\n",
       "    <tr>\n",
       "      <th>4</th>\n",
       "      <td>1000_442</td>\n",
       "      <td>1000</td>\n",
       "      <td>2018-12-27</td>\n",
       "      <td>880.22</td>\n",
       "    </tr>\n",
       "  </tbody>\n",
       "</table>\n",
       "</div>"
      ],
      "text/plain": [
       "         id  user_id session_date  mb_used\n",
       "0   1000_13     1000   2018-12-29    89.86\n",
       "1  1000_204     1000   2018-12-31     0.00\n",
       "2  1000_379     1000   2018-12-28   660.40\n",
       "3  1000_413     1000   2018-12-26   270.99\n",
       "4  1000_442     1000   2018-12-27   880.22"
      ]
     },
     "execution_count": 20,
     "metadata": {},
     "output_type": "execute_result"
    }
   ],
   "source": [
    "df_internet.head()\n",
    "# Print a sample of data for the internet traffic\n",
    "\n"
   ]
  },
  {
   "cell_type": "markdown",
   "metadata": {},
   "source": [
    "104825 rows and 4 columns.\n",
    "seesion_date object data type instead of datetime.\n",
    "no missing values"
   ]
  },
  {
   "cell_type": "markdown",
   "metadata": {},
   "source": [
    " "
   ]
  },
  {
   "cell_type": "markdown",
   "metadata": {},
   "source": [
    "### Fix data"
   ]
  },
  {
   "cell_type": "markdown",
   "metadata": {},
   "source": [
    "change session_date data type"
   ]
  },
  {
   "cell_type": "code",
   "execution_count": 21,
   "metadata": {},
   "outputs": [
    {
     "data": {
      "text/plain": [
       "0"
      ]
     },
     "execution_count": 21,
     "metadata": {},
     "output_type": "execute_result"
    }
   ],
   "source": [
    "df_internet['session_date'] = pd.to_datetime(df_internet['session_date'])\n",
    "duplicated_internet  = df_internet.duplicated().sum()\n",
    "duplicated_internet"
   ]
  },
  {
   "cell_type": "markdown",
   "metadata": {},
   "source": []
  },
  {
   "cell_type": "markdown",
   "metadata": {},
   "source": [
    "### Enrich data"
   ]
  },
  {
   "cell_type": "markdown",
   "metadata": {},
   "source": [
    "Create another column for rounded_mb_used\n",
    "I will also create a column for session month."
   ]
  },
  {
   "cell_type": "code",
   "execution_count": 22,
   "metadata": {},
   "outputs": [
    {
     "data": {
      "text/html": [
       "<div>\n",
       "<style scoped>\n",
       "    .dataframe tbody tr th:only-of-type {\n",
       "        vertical-align: middle;\n",
       "    }\n",
       "\n",
       "    .dataframe tbody tr th {\n",
       "        vertical-align: top;\n",
       "    }\n",
       "\n",
       "    .dataframe thead th {\n",
       "        text-align: right;\n",
       "    }\n",
       "</style>\n",
       "<table border=\"1\" class=\"dataframe\">\n",
       "  <thead>\n",
       "    <tr style=\"text-align: right;\">\n",
       "      <th></th>\n",
       "      <th>id</th>\n",
       "      <th>user_id</th>\n",
       "      <th>session_date</th>\n",
       "      <th>mb_used</th>\n",
       "      <th>rounded_mb_used</th>\n",
       "      <th>month</th>\n",
       "    </tr>\n",
       "  </thead>\n",
       "  <tbody>\n",
       "    <tr>\n",
       "      <th>0</th>\n",
       "      <td>1000_13</td>\n",
       "      <td>1000</td>\n",
       "      <td>2018-12-29</td>\n",
       "      <td>89.86</td>\n",
       "      <td>90.0</td>\n",
       "      <td>12</td>\n",
       "    </tr>\n",
       "    <tr>\n",
       "      <th>1</th>\n",
       "      <td>1000_204</td>\n",
       "      <td>1000</td>\n",
       "      <td>2018-12-31</td>\n",
       "      <td>0.00</td>\n",
       "      <td>0.0</td>\n",
       "      <td>12</td>\n",
       "    </tr>\n",
       "    <tr>\n",
       "      <th>2</th>\n",
       "      <td>1000_379</td>\n",
       "      <td>1000</td>\n",
       "      <td>2018-12-28</td>\n",
       "      <td>660.40</td>\n",
       "      <td>661.0</td>\n",
       "      <td>12</td>\n",
       "    </tr>\n",
       "    <tr>\n",
       "      <th>3</th>\n",
       "      <td>1000_413</td>\n",
       "      <td>1000</td>\n",
       "      <td>2018-12-26</td>\n",
       "      <td>270.99</td>\n",
       "      <td>271.0</td>\n",
       "      <td>12</td>\n",
       "    </tr>\n",
       "    <tr>\n",
       "      <th>4</th>\n",
       "      <td>1000_442</td>\n",
       "      <td>1000</td>\n",
       "      <td>2018-12-27</td>\n",
       "      <td>880.22</td>\n",
       "      <td>881.0</td>\n",
       "      <td>12</td>\n",
       "    </tr>\n",
       "  </tbody>\n",
       "</table>\n",
       "</div>"
      ],
      "text/plain": [
       "         id  user_id session_date  mb_used  rounded_mb_used  month\n",
       "0   1000_13     1000   2018-12-29    89.86             90.0     12\n",
       "1  1000_204     1000   2018-12-31     0.00              0.0     12\n",
       "2  1000_379     1000   2018-12-28   660.40            661.0     12\n",
       "3  1000_413     1000   2018-12-26   270.99            271.0     12\n",
       "4  1000_442     1000   2018-12-27   880.22            881.0     12"
      ]
     },
     "execution_count": 22,
     "metadata": {},
     "output_type": "execute_result"
    }
   ],
   "source": [
    "# df_internet['rounded_mb_used'] = df_internet['mb_used'].apply(lambda x: -(-x // 1))\n",
    "# df_internet['month'] = df_internet['session_date'].dt.month\n",
    "# df_internet.head()\n",
    "df_internet['rounded_mb_used'] = df_internet['mb_used'].apply(np.ceil)\n",
    "df_internet['month'] = df_internet['session_date'].dt.month\n",
    "df_internet.head()"
   ]
  },
  {
   "cell_type": "markdown",
   "metadata": {},
   "source": [
    "<div class=\"alert alert-block alert-danger\">✍\n",
    "    \n",
    "\n",
    "__Reviewer's comment №1__\n",
    "\n",
    "\n",
    "At the end of each month, megabytes are converted to gigabytes and rounded up. Can you please fix this?"
   ]
  },
  {
   "cell_type": "markdown",
   "metadata": {},
   "source": [
    "<div class=\"alert alert-info\"> <b>Student сomments 1:</b> ..</div>\n",
    "    \n",
    "The correction has been done using the np.ceil() as corrected in cell 14."
   ]
  },
  {
   "cell_type": "markdown",
   "metadata": {},
   "source": [
    "<div class=\"alert alert-block alert-success\">✔️\n",
    "    \n",
    "\n",
    "__Reviewer's comment №2__\n",
    "\n",
    "Correct"
   ]
  },
  {
   "cell_type": "markdown",
   "metadata": {},
   "source": [
    "## Study plan conditions"
   ]
  },
  {
   "cell_type": "markdown",
   "metadata": {},
   "source": [
    "The Megaline has the follwing plans:\n"
   ]
  },
  {
   "cell_type": "code",
   "execution_count": 23,
   "metadata": {},
   "outputs": [
    {
     "name": "stdout",
     "output_type": "stream",
     "text": [
      "Surf\n",
      "  Monthly charge: $20\n",
      "  500 monthly minutes, 50 texts, and 15 GB of data\n",
      "  After exceeding the package limits:\n",
      "    1 minute: 3 cents\n",
      "    1 text message: 3 cents\n",
      "    1 GB of data: $10\n",
      "\n",
      "Ultimate\n",
      "  Monthly charge: $70\n",
      "  3000 monthly minutes, 1000 text messages, and 30 GB of data\n",
      "  After exceeding the package limits:\n",
      "    1 minute: 1 cent\n",
      "    1 text message: 1 cent\n",
      "    1 GB of data: $7\n"
     ]
    }
   ],
   "source": [
    "def plan_info():\n",
    "  \"\"\"Prints information about two phone plans.\"\"\"\n",
    "\n",
    "  print(\"Surf\")\n",
    "  print(\"  Monthly charge: $20\")\n",
    "  print(\"  500 monthly minutes, 50 texts, and 15 GB of data\")\n",
    "  print(\"  After exceeding the package limits:\")\n",
    "  print(\"    1 minute: 3 cents\")\n",
    "  print(\"    1 text message: 3 cents\")\n",
    "  print(\"    1 GB of data: $10\")\n",
    "  print(\"\\nUltimate\")\n",
    "  print(\"  Monthly charge: $70\")\n",
    "  print(\"  3000 monthly minutes, 1000 text messages, and 30 GB of data\")\n",
    "  print(\"  After exceeding the package limits:\")\n",
    "  print(\"    1 minute: 1 cent\")\n",
    "  print(\"    1 text message: 1 cent\")\n",
    "  print(\"    1 GB of data: $7\")\n",
    "plan_info()\n",
    "# Print out the plan conditions and make sure they are clear for you\n",
    "\n"
   ]
  },
  {
   "cell_type": "markdown",
   "metadata": {},
   "source": [
    "## Aggregate data per user\n",
    "This will help gain valuable insights into individual users behahiour , which can be used to improve the user experience.\n"
   ]
  },
  {
   "cell_type": "code",
   "execution_count": 24,
   "metadata": {},
   "outputs": [
    {
     "data": {
      "text/html": [
       "<div>\n",
       "<style scoped>\n",
       "    .dataframe tbody tr th:only-of-type {\n",
       "        vertical-align: middle;\n",
       "    }\n",
       "\n",
       "    .dataframe tbody tr th {\n",
       "        vertical-align: top;\n",
       "    }\n",
       "\n",
       "    .dataframe thead th {\n",
       "        text-align: right;\n",
       "    }\n",
       "</style>\n",
       "<table border=\"1\" class=\"dataframe\">\n",
       "  <thead>\n",
       "    <tr style=\"text-align: right;\">\n",
       "      <th></th>\n",
       "      <th>user_id</th>\n",
       "      <th>month</th>\n",
       "      <th>calls_count</th>\n",
       "    </tr>\n",
       "  </thead>\n",
       "  <tbody>\n",
       "    <tr>\n",
       "      <th>0</th>\n",
       "      <td>1000</td>\n",
       "      <td>12</td>\n",
       "      <td>16</td>\n",
       "    </tr>\n",
       "    <tr>\n",
       "      <th>1</th>\n",
       "      <td>1001</td>\n",
       "      <td>8</td>\n",
       "      <td>27</td>\n",
       "    </tr>\n",
       "    <tr>\n",
       "      <th>2</th>\n",
       "      <td>1001</td>\n",
       "      <td>9</td>\n",
       "      <td>49</td>\n",
       "    </tr>\n",
       "    <tr>\n",
       "      <th>3</th>\n",
       "      <td>1001</td>\n",
       "      <td>10</td>\n",
       "      <td>65</td>\n",
       "    </tr>\n",
       "    <tr>\n",
       "      <th>4</th>\n",
       "      <td>1001</td>\n",
       "      <td>11</td>\n",
       "      <td>64</td>\n",
       "    </tr>\n",
       "    <tr>\n",
       "      <th>...</th>\n",
       "      <td>...</td>\n",
       "      <td>...</td>\n",
       "      <td>...</td>\n",
       "    </tr>\n",
       "    <tr>\n",
       "      <th>2253</th>\n",
       "      <td>1498</td>\n",
       "      <td>12</td>\n",
       "      <td>39</td>\n",
       "    </tr>\n",
       "    <tr>\n",
       "      <th>2254</th>\n",
       "      <td>1499</td>\n",
       "      <td>9</td>\n",
       "      <td>41</td>\n",
       "    </tr>\n",
       "    <tr>\n",
       "      <th>2255</th>\n",
       "      <td>1499</td>\n",
       "      <td>10</td>\n",
       "      <td>53</td>\n",
       "    </tr>\n",
       "    <tr>\n",
       "      <th>2256</th>\n",
       "      <td>1499</td>\n",
       "      <td>11</td>\n",
       "      <td>45</td>\n",
       "    </tr>\n",
       "    <tr>\n",
       "      <th>2257</th>\n",
       "      <td>1499</td>\n",
       "      <td>12</td>\n",
       "      <td>65</td>\n",
       "    </tr>\n",
       "  </tbody>\n",
       "</table>\n",
       "<p>2258 rows × 3 columns</p>\n",
       "</div>"
      ],
      "text/plain": [
       "      user_id  month  calls_count\n",
       "0        1000     12           16\n",
       "1        1001      8           27\n",
       "2        1001      9           49\n",
       "3        1001     10           65\n",
       "4        1001     11           64\n",
       "...       ...    ...          ...\n",
       "2253     1498     12           39\n",
       "2254     1499      9           41\n",
       "2255     1499     10           53\n",
       "2256     1499     11           45\n",
       "2257     1499     12           65\n",
       "\n",
       "[2258 rows x 3 columns]"
      ]
     },
     "execution_count": 24,
     "metadata": {},
     "output_type": "execute_result"
    }
   ],
   "source": [
    "calls_per_user_per_month = df_calls.groupby(['user_id','month',]).size().reset_index(name = 'calls_count')\n",
    "calls_per_user_per_month\n",
    "# Calculate the number of calls made by each user per month. Save the result.\n",
    "\n"
   ]
  },
  {
   "cell_type": "code",
   "execution_count": 25,
   "metadata": {},
   "outputs": [
    {
     "data": {
      "text/html": [
       "<div>\n",
       "<style scoped>\n",
       "    .dataframe tbody tr th:only-of-type {\n",
       "        vertical-align: middle;\n",
       "    }\n",
       "\n",
       "    .dataframe tbody tr th {\n",
       "        vertical-align: top;\n",
       "    }\n",
       "\n",
       "    .dataframe thead th {\n",
       "        text-align: right;\n",
       "    }\n",
       "</style>\n",
       "<table border=\"1\" class=\"dataframe\">\n",
       "  <thead>\n",
       "    <tr style=\"text-align: right;\">\n",
       "      <th></th>\n",
       "      <th>user_id</th>\n",
       "      <th>month</th>\n",
       "      <th>rounded_duration</th>\n",
       "    </tr>\n",
       "  </thead>\n",
       "  <tbody>\n",
       "    <tr>\n",
       "      <th>0</th>\n",
       "      <td>1000</td>\n",
       "      <td>12</td>\n",
       "      <td>124.0</td>\n",
       "    </tr>\n",
       "    <tr>\n",
       "      <th>1</th>\n",
       "      <td>1001</td>\n",
       "      <td>8</td>\n",
       "      <td>182.0</td>\n",
       "    </tr>\n",
       "    <tr>\n",
       "      <th>2</th>\n",
       "      <td>1001</td>\n",
       "      <td>9</td>\n",
       "      <td>315.0</td>\n",
       "    </tr>\n",
       "    <tr>\n",
       "      <th>3</th>\n",
       "      <td>1001</td>\n",
       "      <td>10</td>\n",
       "      <td>393.0</td>\n",
       "    </tr>\n",
       "    <tr>\n",
       "      <th>4</th>\n",
       "      <td>1001</td>\n",
       "      <td>11</td>\n",
       "      <td>426.0</td>\n",
       "    </tr>\n",
       "    <tr>\n",
       "      <th>...</th>\n",
       "      <td>...</td>\n",
       "      <td>...</td>\n",
       "      <td>...</td>\n",
       "    </tr>\n",
       "    <tr>\n",
       "      <th>2253</th>\n",
       "      <td>1498</td>\n",
       "      <td>12</td>\n",
       "      <td>339.0</td>\n",
       "    </tr>\n",
       "    <tr>\n",
       "      <th>2254</th>\n",
       "      <td>1499</td>\n",
       "      <td>9</td>\n",
       "      <td>346.0</td>\n",
       "    </tr>\n",
       "    <tr>\n",
       "      <th>2255</th>\n",
       "      <td>1499</td>\n",
       "      <td>10</td>\n",
       "      <td>385.0</td>\n",
       "    </tr>\n",
       "    <tr>\n",
       "      <th>2256</th>\n",
       "      <td>1499</td>\n",
       "      <td>11</td>\n",
       "      <td>308.0</td>\n",
       "    </tr>\n",
       "    <tr>\n",
       "      <th>2257</th>\n",
       "      <td>1499</td>\n",
       "      <td>12</td>\n",
       "      <td>496.0</td>\n",
       "    </tr>\n",
       "  </tbody>\n",
       "</table>\n",
       "<p>2258 rows × 3 columns</p>\n",
       "</div>"
      ],
      "text/plain": [
       "      user_id  month  rounded_duration\n",
       "0        1000     12             124.0\n",
       "1        1001      8             182.0\n",
       "2        1001      9             315.0\n",
       "3        1001     10             393.0\n",
       "4        1001     11             426.0\n",
       "...       ...    ...               ...\n",
       "2253     1498     12             339.0\n",
       "2254     1499      9             346.0\n",
       "2255     1499     10             385.0\n",
       "2256     1499     11             308.0\n",
       "2257     1499     12             496.0\n",
       "\n",
       "[2258 rows x 3 columns]"
      ]
     },
     "execution_count": 25,
     "metadata": {},
     "output_type": "execute_result"
    }
   ],
   "source": [
    "minutes_call_per_user_per_month = df_calls.groupby(['user_id','month',])['rounded_duration'].sum().reset_index()\n",
    "minutes_call_per_user_per_month\n",
    "# Calculate the amount of minutes spent by each user per month. Save the result.\n",
    "\n"
   ]
  },
  {
   "cell_type": "code",
   "execution_count": 26,
   "metadata": {},
   "outputs": [
    {
     "data": {
      "text/html": [
       "<div>\n",
       "<style scoped>\n",
       "    .dataframe tbody tr th:only-of-type {\n",
       "        vertical-align: middle;\n",
       "    }\n",
       "\n",
       "    .dataframe tbody tr th {\n",
       "        vertical-align: top;\n",
       "    }\n",
       "\n",
       "    .dataframe thead th {\n",
       "        text-align: right;\n",
       "    }\n",
       "</style>\n",
       "<table border=\"1\" class=\"dataframe\">\n",
       "  <thead>\n",
       "    <tr style=\"text-align: right;\">\n",
       "      <th></th>\n",
       "      <th>user_id</th>\n",
       "      <th>month</th>\n",
       "      <th>message_count</th>\n",
       "    </tr>\n",
       "  </thead>\n",
       "  <tbody>\n",
       "    <tr>\n",
       "      <th>0</th>\n",
       "      <td>1000</td>\n",
       "      <td>12</td>\n",
       "      <td>11</td>\n",
       "    </tr>\n",
       "    <tr>\n",
       "      <th>1</th>\n",
       "      <td>1001</td>\n",
       "      <td>8</td>\n",
       "      <td>30</td>\n",
       "    </tr>\n",
       "    <tr>\n",
       "      <th>2</th>\n",
       "      <td>1001</td>\n",
       "      <td>9</td>\n",
       "      <td>44</td>\n",
       "    </tr>\n",
       "    <tr>\n",
       "      <th>3</th>\n",
       "      <td>1001</td>\n",
       "      <td>10</td>\n",
       "      <td>53</td>\n",
       "    </tr>\n",
       "    <tr>\n",
       "      <th>4</th>\n",
       "      <td>1001</td>\n",
       "      <td>11</td>\n",
       "      <td>36</td>\n",
       "    </tr>\n",
       "    <tr>\n",
       "      <th>...</th>\n",
       "      <td>...</td>\n",
       "      <td>...</td>\n",
       "      <td>...</td>\n",
       "    </tr>\n",
       "    <tr>\n",
       "      <th>1801</th>\n",
       "      <td>1496</td>\n",
       "      <td>9</td>\n",
       "      <td>21</td>\n",
       "    </tr>\n",
       "    <tr>\n",
       "      <th>1802</th>\n",
       "      <td>1496</td>\n",
       "      <td>10</td>\n",
       "      <td>18</td>\n",
       "    </tr>\n",
       "    <tr>\n",
       "      <th>1803</th>\n",
       "      <td>1496</td>\n",
       "      <td>11</td>\n",
       "      <td>13</td>\n",
       "    </tr>\n",
       "    <tr>\n",
       "      <th>1804</th>\n",
       "      <td>1496</td>\n",
       "      <td>12</td>\n",
       "      <td>11</td>\n",
       "    </tr>\n",
       "    <tr>\n",
       "      <th>1805</th>\n",
       "      <td>1497</td>\n",
       "      <td>12</td>\n",
       "      <td>50</td>\n",
       "    </tr>\n",
       "  </tbody>\n",
       "</table>\n",
       "<p>1806 rows × 3 columns</p>\n",
       "</div>"
      ],
      "text/plain": [
       "      user_id  month  message_count\n",
       "0        1000     12             11\n",
       "1        1001      8             30\n",
       "2        1001      9             44\n",
       "3        1001     10             53\n",
       "4        1001     11             36\n",
       "...       ...    ...            ...\n",
       "1801     1496      9             21\n",
       "1802     1496     10             18\n",
       "1803     1496     11             13\n",
       "1804     1496     12             11\n",
       "1805     1497     12             50\n",
       "\n",
       "[1806 rows x 3 columns]"
      ]
     },
     "execution_count": 26,
     "metadata": {},
     "output_type": "execute_result"
    }
   ],
   "source": [
    "messages_per_user_per_month = df_messages.groupby(['user_id','month']).size().reset_index(name = 'message_count')\n",
    "\n",
    "messages_per_user_per_month\n",
    "# Calculate the number of messages sent by each user per month. Save the result.\n",
    "\n"
   ]
  },
  {
   "cell_type": "code",
   "execution_count": 27,
   "metadata": {},
   "outputs": [
    {
     "data": {
      "text/html": [
       "<div>\n",
       "<style scoped>\n",
       "    .dataframe tbody tr th:only-of-type {\n",
       "        vertical-align: middle;\n",
       "    }\n",
       "\n",
       "    .dataframe tbody tr th {\n",
       "        vertical-align: top;\n",
       "    }\n",
       "\n",
       "    .dataframe thead th {\n",
       "        text-align: right;\n",
       "    }\n",
       "</style>\n",
       "<table border=\"1\" class=\"dataframe\">\n",
       "  <thead>\n",
       "    <tr style=\"text-align: right;\">\n",
       "      <th></th>\n",
       "      <th>user_id</th>\n",
       "      <th>month</th>\n",
       "      <th>rounded_mb_used</th>\n",
       "    </tr>\n",
       "  </thead>\n",
       "  <tbody>\n",
       "    <tr>\n",
       "      <th>0</th>\n",
       "      <td>1000</td>\n",
       "      <td>12</td>\n",
       "      <td>1903.0</td>\n",
       "    </tr>\n",
       "    <tr>\n",
       "      <th>1</th>\n",
       "      <td>1001</td>\n",
       "      <td>8</td>\n",
       "      <td>6929.0</td>\n",
       "    </tr>\n",
       "    <tr>\n",
       "      <th>2</th>\n",
       "      <td>1001</td>\n",
       "      <td>9</td>\n",
       "      <td>13333.0</td>\n",
       "    </tr>\n",
       "    <tr>\n",
       "      <th>3</th>\n",
       "      <td>1001</td>\n",
       "      <td>10</td>\n",
       "      <td>22356.0</td>\n",
       "    </tr>\n",
       "    <tr>\n",
       "      <th>4</th>\n",
       "      <td>1001</td>\n",
       "      <td>11</td>\n",
       "      <td>18524.0</td>\n",
       "    </tr>\n",
       "    <tr>\n",
       "      <th>...</th>\n",
       "      <td>...</td>\n",
       "      <td>...</td>\n",
       "      <td>...</td>\n",
       "    </tr>\n",
       "    <tr>\n",
       "      <th>2272</th>\n",
       "      <td>1498</td>\n",
       "      <td>12</td>\n",
       "      <td>23160.0</td>\n",
       "    </tr>\n",
       "    <tr>\n",
       "      <th>2273</th>\n",
       "      <td>1499</td>\n",
       "      <td>9</td>\n",
       "      <td>13004.0</td>\n",
       "    </tr>\n",
       "    <tr>\n",
       "      <th>2274</th>\n",
       "      <td>1499</td>\n",
       "      <td>10</td>\n",
       "      <td>19515.0</td>\n",
       "    </tr>\n",
       "    <tr>\n",
       "      <th>2275</th>\n",
       "      <td>1499</td>\n",
       "      <td>11</td>\n",
       "      <td>16834.0</td>\n",
       "    </tr>\n",
       "    <tr>\n",
       "      <th>2276</th>\n",
       "      <td>1499</td>\n",
       "      <td>12</td>\n",
       "      <td>22091.0</td>\n",
       "    </tr>\n",
       "  </tbody>\n",
       "</table>\n",
       "<p>2277 rows × 3 columns</p>\n",
       "</div>"
      ],
      "text/plain": [
       "      user_id  month  rounded_mb_used\n",
       "0        1000     12           1903.0\n",
       "1        1001      8           6929.0\n",
       "2        1001      9          13333.0\n",
       "3        1001     10          22356.0\n",
       "4        1001     11          18524.0\n",
       "...       ...    ...              ...\n",
       "2272     1498     12          23160.0\n",
       "2273     1499      9          13004.0\n",
       "2274     1499     10          19515.0\n",
       "2275     1499     11          16834.0\n",
       "2276     1499     12          22091.0\n",
       "\n",
       "[2277 rows x 3 columns]"
      ]
     },
     "execution_count": 27,
     "metadata": {},
     "output_type": "execute_result"
    }
   ],
   "source": [
    "monthly_internet = df_internet.groupby(['user_id','month'])['rounded_mb_used'].sum().reset_index()\n",
    "monthly_internet\n",
    "# Calculate the volume of internet traffic used by each user per month. Save the result.\n",
    "\n"
   ]
  },
  {
   "cell_type": "markdown",
   "metadata": {},
   "source": []
  },
  {
   "cell_type": "code",
   "execution_count": 28,
   "metadata": {},
   "outputs": [
    {
     "data": {
      "text/html": [
       "<div>\n",
       "<style scoped>\n",
       "    .dataframe tbody tr th:only-of-type {\n",
       "        vertical-align: middle;\n",
       "    }\n",
       "\n",
       "    .dataframe tbody tr th {\n",
       "        vertical-align: top;\n",
       "    }\n",
       "\n",
       "    .dataframe thead th {\n",
       "        text-align: right;\n",
       "    }\n",
       "</style>\n",
       "<table border=\"1\" class=\"dataframe\">\n",
       "  <thead>\n",
       "    <tr style=\"text-align: right;\">\n",
       "      <th></th>\n",
       "      <th>user_id</th>\n",
       "      <th>month</th>\n",
       "      <th>calls_count</th>\n",
       "      <th>rounded_duration</th>\n",
       "      <th>message_count</th>\n",
       "      <th>rounded_mb_used</th>\n",
       "      <th>first_name</th>\n",
       "      <th>last_name</th>\n",
       "      <th>age</th>\n",
       "      <th>city</th>\n",
       "      <th>reg_date</th>\n",
       "      <th>plan</th>\n",
       "      <th>churn_date</th>\n",
       "      <th>churned</th>\n",
       "    </tr>\n",
       "  </thead>\n",
       "  <tbody>\n",
       "    <tr>\n",
       "      <th>0</th>\n",
       "      <td>1000</td>\n",
       "      <td>12</td>\n",
       "      <td>16</td>\n",
       "      <td>124.0</td>\n",
       "      <td>11</td>\n",
       "      <td>1903.0</td>\n",
       "      <td>Anamaria</td>\n",
       "      <td>Bauer</td>\n",
       "      <td>45</td>\n",
       "      <td>Atlanta-Sandy Springs-Roswell, GA MSA</td>\n",
       "      <td>2018-12-24</td>\n",
       "      <td>ultimate</td>\n",
       "      <td>NaT</td>\n",
       "      <td>0</td>\n",
       "    </tr>\n",
       "    <tr>\n",
       "      <th>1</th>\n",
       "      <td>1001</td>\n",
       "      <td>8</td>\n",
       "      <td>27</td>\n",
       "      <td>182.0</td>\n",
       "      <td>30</td>\n",
       "      <td>6929.0</td>\n",
       "      <td>Mickey</td>\n",
       "      <td>Wilkerson</td>\n",
       "      <td>28</td>\n",
       "      <td>Seattle-Tacoma-Bellevue, WA MSA</td>\n",
       "      <td>2018-08-13</td>\n",
       "      <td>surf</td>\n",
       "      <td>NaT</td>\n",
       "      <td>0</td>\n",
       "    </tr>\n",
       "    <tr>\n",
       "      <th>2</th>\n",
       "      <td>1001</td>\n",
       "      <td>9</td>\n",
       "      <td>49</td>\n",
       "      <td>315.0</td>\n",
       "      <td>44</td>\n",
       "      <td>13333.0</td>\n",
       "      <td>Mickey</td>\n",
       "      <td>Wilkerson</td>\n",
       "      <td>28</td>\n",
       "      <td>Seattle-Tacoma-Bellevue, WA MSA</td>\n",
       "      <td>2018-08-13</td>\n",
       "      <td>surf</td>\n",
       "      <td>NaT</td>\n",
       "      <td>0</td>\n",
       "    </tr>\n",
       "    <tr>\n",
       "      <th>3</th>\n",
       "      <td>1001</td>\n",
       "      <td>10</td>\n",
       "      <td>65</td>\n",
       "      <td>393.0</td>\n",
       "      <td>53</td>\n",
       "      <td>22356.0</td>\n",
       "      <td>Mickey</td>\n",
       "      <td>Wilkerson</td>\n",
       "      <td>28</td>\n",
       "      <td>Seattle-Tacoma-Bellevue, WA MSA</td>\n",
       "      <td>2018-08-13</td>\n",
       "      <td>surf</td>\n",
       "      <td>NaT</td>\n",
       "      <td>0</td>\n",
       "    </tr>\n",
       "    <tr>\n",
       "      <th>4</th>\n",
       "      <td>1001</td>\n",
       "      <td>11</td>\n",
       "      <td>64</td>\n",
       "      <td>426.0</td>\n",
       "      <td>36</td>\n",
       "      <td>18524.0</td>\n",
       "      <td>Mickey</td>\n",
       "      <td>Wilkerson</td>\n",
       "      <td>28</td>\n",
       "      <td>Seattle-Tacoma-Bellevue, WA MSA</td>\n",
       "      <td>2018-08-13</td>\n",
       "      <td>surf</td>\n",
       "      <td>NaT</td>\n",
       "      <td>0</td>\n",
       "    </tr>\n",
       "    <tr>\n",
       "      <th>...</th>\n",
       "      <td>...</td>\n",
       "      <td>...</td>\n",
       "      <td>...</td>\n",
       "      <td>...</td>\n",
       "      <td>...</td>\n",
       "      <td>...</td>\n",
       "      <td>...</td>\n",
       "      <td>...</td>\n",
       "      <td>...</td>\n",
       "      <td>...</td>\n",
       "      <td>...</td>\n",
       "      <td>...</td>\n",
       "      <td>...</td>\n",
       "      <td>...</td>\n",
       "    </tr>\n",
       "    <tr>\n",
       "      <th>1754</th>\n",
       "      <td>1496</td>\n",
       "      <td>9</td>\n",
       "      <td>52</td>\n",
       "      <td>414.0</td>\n",
       "      <td>21</td>\n",
       "      <td>16412.0</td>\n",
       "      <td>Ariel</td>\n",
       "      <td>Shepherd</td>\n",
       "      <td>49</td>\n",
       "      <td>New Orleans-Metairie, LA MSA</td>\n",
       "      <td>2018-02-20</td>\n",
       "      <td>surf</td>\n",
       "      <td>NaT</td>\n",
       "      <td>0</td>\n",
       "    </tr>\n",
       "    <tr>\n",
       "      <th>1755</th>\n",
       "      <td>1496</td>\n",
       "      <td>10</td>\n",
       "      <td>46</td>\n",
       "      <td>317.0</td>\n",
       "      <td>18</td>\n",
       "      <td>14308.0</td>\n",
       "      <td>Ariel</td>\n",
       "      <td>Shepherd</td>\n",
       "      <td>49</td>\n",
       "      <td>New Orleans-Metairie, LA MSA</td>\n",
       "      <td>2018-02-20</td>\n",
       "      <td>surf</td>\n",
       "      <td>NaT</td>\n",
       "      <td>0</td>\n",
       "    </tr>\n",
       "    <tr>\n",
       "      <th>1756</th>\n",
       "      <td>1496</td>\n",
       "      <td>11</td>\n",
       "      <td>39</td>\n",
       "      <td>308.0</td>\n",
       "      <td>13</td>\n",
       "      <td>8561.0</td>\n",
       "      <td>Ariel</td>\n",
       "      <td>Shepherd</td>\n",
       "      <td>49</td>\n",
       "      <td>New Orleans-Metairie, LA MSA</td>\n",
       "      <td>2018-02-20</td>\n",
       "      <td>surf</td>\n",
       "      <td>NaT</td>\n",
       "      <td>0</td>\n",
       "    </tr>\n",
       "    <tr>\n",
       "      <th>1757</th>\n",
       "      <td>1496</td>\n",
       "      <td>12</td>\n",
       "      <td>40</td>\n",
       "      <td>294.0</td>\n",
       "      <td>11</td>\n",
       "      <td>16460.0</td>\n",
       "      <td>Ariel</td>\n",
       "      <td>Shepherd</td>\n",
       "      <td>49</td>\n",
       "      <td>New Orleans-Metairie, LA MSA</td>\n",
       "      <td>2018-02-20</td>\n",
       "      <td>surf</td>\n",
       "      <td>NaT</td>\n",
       "      <td>0</td>\n",
       "    </tr>\n",
       "    <tr>\n",
       "      <th>1758</th>\n",
       "      <td>1497</td>\n",
       "      <td>12</td>\n",
       "      <td>54</td>\n",
       "      <td>300.0</td>\n",
       "      <td>50</td>\n",
       "      <td>11120.0</td>\n",
       "      <td>Donte</td>\n",
       "      <td>Barrera</td>\n",
       "      <td>49</td>\n",
       "      <td>Los Angeles-Long Beach-Anaheim, CA MSA</td>\n",
       "      <td>2018-12-10</td>\n",
       "      <td>ultimate</td>\n",
       "      <td>NaT</td>\n",
       "      <td>0</td>\n",
       "    </tr>\n",
       "  </tbody>\n",
       "</table>\n",
       "<p>1759 rows × 14 columns</p>\n",
       "</div>"
      ],
      "text/plain": [
       "      user_id  month  calls_count  rounded_duration  message_count  \\\n",
       "0        1000     12           16             124.0             11   \n",
       "1        1001      8           27             182.0             30   \n",
       "2        1001      9           49             315.0             44   \n",
       "3        1001     10           65             393.0             53   \n",
       "4        1001     11           64             426.0             36   \n",
       "...       ...    ...          ...               ...            ...   \n",
       "1754     1496      9           52             414.0             21   \n",
       "1755     1496     10           46             317.0             18   \n",
       "1756     1496     11           39             308.0             13   \n",
       "1757     1496     12           40             294.0             11   \n",
       "1758     1497     12           54             300.0             50   \n",
       "\n",
       "      rounded_mb_used first_name  last_name  age  \\\n",
       "0              1903.0   Anamaria      Bauer   45   \n",
       "1              6929.0     Mickey  Wilkerson   28   \n",
       "2             13333.0     Mickey  Wilkerson   28   \n",
       "3             22356.0     Mickey  Wilkerson   28   \n",
       "4             18524.0     Mickey  Wilkerson   28   \n",
       "...               ...        ...        ...  ...   \n",
       "1754          16412.0      Ariel   Shepherd   49   \n",
       "1755          14308.0      Ariel   Shepherd   49   \n",
       "1756           8561.0      Ariel   Shepherd   49   \n",
       "1757          16460.0      Ariel   Shepherd   49   \n",
       "1758          11120.0      Donte    Barrera   49   \n",
       "\n",
       "                                        city   reg_date      plan churn_date  \\\n",
       "0      Atlanta-Sandy Springs-Roswell, GA MSA 2018-12-24  ultimate        NaT   \n",
       "1            Seattle-Tacoma-Bellevue, WA MSA 2018-08-13      surf        NaT   \n",
       "2            Seattle-Tacoma-Bellevue, WA MSA 2018-08-13      surf        NaT   \n",
       "3            Seattle-Tacoma-Bellevue, WA MSA 2018-08-13      surf        NaT   \n",
       "4            Seattle-Tacoma-Bellevue, WA MSA 2018-08-13      surf        NaT   \n",
       "...                                      ...        ...       ...        ...   \n",
       "1754            New Orleans-Metairie, LA MSA 2018-02-20      surf        NaT   \n",
       "1755            New Orleans-Metairie, LA MSA 2018-02-20      surf        NaT   \n",
       "1756            New Orleans-Metairie, LA MSA 2018-02-20      surf        NaT   \n",
       "1757            New Orleans-Metairie, LA MSA 2018-02-20      surf        NaT   \n",
       "1758  Los Angeles-Long Beach-Anaheim, CA MSA 2018-12-10  ultimate        NaT   \n",
       "\n",
       "      churned  \n",
       "0           0  \n",
       "1           0  \n",
       "2           0  \n",
       "3           0  \n",
       "4           0  \n",
       "...       ...  \n",
       "1754        0  \n",
       "1755        0  \n",
       "1756        0  \n",
       "1757        0  \n",
       "1758        0  \n",
       "\n",
       "[1759 rows x 14 columns]"
      ]
     },
     "execution_count": 28,
     "metadata": {},
     "output_type": "execute_result"
    }
   ],
   "source": [
    "merged_df = pd.merge(calls_per_user_per_month, minutes_call_per_user_per_month, on=['user_id', 'month'], how='inner')\n",
    "\n",
    "merged_df = pd.merge(merged_df, messages_per_user_per_month, on=['user_id', 'month'], how='inner')\n",
    "merged_df = pd.merge(merged_df, monthly_internet, on=['user_id', 'month'], how='inner')\n",
    "merged_df = pd.merge(merged_df, df_users, on=['user_id',], how='inner')\n",
    "merged_df\n",
    "# Merge the data for calls, minutes, messages, internet based on user_id and month\n",
    "\n"
   ]
  },
  {
   "cell_type": "code",
   "execution_count": 29,
   "metadata": {},
   "outputs": [
    {
     "name": "stdout",
     "output_type": "stream",
     "text": [
      "<class 'pandas.core.frame.DataFrame'>\n",
      "Int64Index: 1759 entries, 0 to 1758\n",
      "Data columns (total 14 columns):\n",
      " #   Column            Non-Null Count  Dtype         \n",
      "---  ------            --------------  -----         \n",
      " 0   user_id           1759 non-null   int64         \n",
      " 1   month             1759 non-null   int64         \n",
      " 2   calls_count       1759 non-null   int64         \n",
      " 3   rounded_duration  1759 non-null   float64       \n",
      " 4   message_count     1759 non-null   int64         \n",
      " 5   rounded_mb_used   1759 non-null   float64       \n",
      " 6   first_name        1759 non-null   object        \n",
      " 7   last_name         1759 non-null   object        \n",
      " 8   age               1759 non-null   int64         \n",
      " 9   city              1759 non-null   object        \n",
      " 10  reg_date          1759 non-null   datetime64[ns]\n",
      " 11  plan              1759 non-null   object        \n",
      " 12  churn_date        118 non-null    datetime64[ns]\n",
      " 13  churned           1759 non-null   int64         \n",
      "dtypes: datetime64[ns](2), float64(2), int64(6), object(4)\n",
      "memory usage: 206.1+ KB\n"
     ]
    }
   ],
   "source": [
    "# surf_plan = {'monthly_charge': 20,'minutes': 500,'texts': 50,'data': 15, 'extra_minute': 0.03,'extra_text': 0.03,\n",
    "#             'extra_data': 10}\n",
    "# ultimate_plan = {'monthly_charge': 70,'minutes': 3000,'texts': 1000,'data': 30,'extra_minute': 0.01,'extra_text': 0.01,\n",
    "#                  'extra_data': 7}\n",
    "merged_df.info()\n",
    "# Add the plan information\n",
    "\n"
   ]
  },
  {
   "cell_type": "markdown",
   "metadata": {},
   "source": []
  },
  {
   "cell_type": "code",
   "execution_count": 30,
   "metadata": {
    "scrolled": true
   },
   "outputs": [
    {
     "data": {
      "text/html": [
       "<div>\n",
       "<style scoped>\n",
       "    .dataframe tbody tr th:only-of-type {\n",
       "        vertical-align: middle;\n",
       "    }\n",
       "\n",
       "    .dataframe tbody tr th {\n",
       "        vertical-align: top;\n",
       "    }\n",
       "\n",
       "    .dataframe thead th {\n",
       "        text-align: right;\n",
       "    }\n",
       "</style>\n",
       "<table border=\"1\" class=\"dataframe\">\n",
       "  <thead>\n",
       "    <tr style=\"text-align: right;\">\n",
       "      <th></th>\n",
       "      <th>user_id</th>\n",
       "      <th>month</th>\n",
       "      <th>calls_count</th>\n",
       "      <th>rounded_duration</th>\n",
       "      <th>message_count</th>\n",
       "      <th>rounded_mb_used</th>\n",
       "      <th>first_name</th>\n",
       "      <th>last_name</th>\n",
       "      <th>age</th>\n",
       "      <th>city</th>\n",
       "      <th>reg_date</th>\n",
       "      <th>plan</th>\n",
       "      <th>churn_date</th>\n",
       "      <th>churned</th>\n",
       "      <th>calculated_revenue</th>\n",
       "    </tr>\n",
       "  </thead>\n",
       "  <tbody>\n",
       "    <tr>\n",
       "      <th>0</th>\n",
       "      <td>1000</td>\n",
       "      <td>12</td>\n",
       "      <td>16</td>\n",
       "      <td>124.0</td>\n",
       "      <td>11</td>\n",
       "      <td>1903.0</td>\n",
       "      <td>Anamaria</td>\n",
       "      <td>Bauer</td>\n",
       "      <td>45</td>\n",
       "      <td>Atlanta-Sandy Springs-Roswell, GA MSA</td>\n",
       "      <td>2018-12-24</td>\n",
       "      <td>ultimate</td>\n",
       "      <td>NaT</td>\n",
       "      <td>0</td>\n",
       "      <td>70.000000</td>\n",
       "    </tr>\n",
       "    <tr>\n",
       "      <th>1</th>\n",
       "      <td>1001</td>\n",
       "      <td>8</td>\n",
       "      <td>27</td>\n",
       "      <td>182.0</td>\n",
       "      <td>30</td>\n",
       "      <td>6929.0</td>\n",
       "      <td>Mickey</td>\n",
       "      <td>Wilkerson</td>\n",
       "      <td>28</td>\n",
       "      <td>Seattle-Tacoma-Bellevue, WA MSA</td>\n",
       "      <td>2018-08-13</td>\n",
       "      <td>surf</td>\n",
       "      <td>NaT</td>\n",
       "      <td>0</td>\n",
       "      <td>20.000000</td>\n",
       "    </tr>\n",
       "    <tr>\n",
       "      <th>2</th>\n",
       "      <td>1001</td>\n",
       "      <td>9</td>\n",
       "      <td>49</td>\n",
       "      <td>315.0</td>\n",
       "      <td>44</td>\n",
       "      <td>13333.0</td>\n",
       "      <td>Mickey</td>\n",
       "      <td>Wilkerson</td>\n",
       "      <td>28</td>\n",
       "      <td>Seattle-Tacoma-Bellevue, WA MSA</td>\n",
       "      <td>2018-08-13</td>\n",
       "      <td>surf</td>\n",
       "      <td>NaT</td>\n",
       "      <td>0</td>\n",
       "      <td>20.000000</td>\n",
       "    </tr>\n",
       "    <tr>\n",
       "      <th>3</th>\n",
       "      <td>1001</td>\n",
       "      <td>10</td>\n",
       "      <td>65</td>\n",
       "      <td>393.0</td>\n",
       "      <td>53</td>\n",
       "      <td>22356.0</td>\n",
       "      <td>Mickey</td>\n",
       "      <td>Wilkerson</td>\n",
       "      <td>28</td>\n",
       "      <td>Seattle-Tacoma-Bellevue, WA MSA</td>\n",
       "      <td>2018-08-13</td>\n",
       "      <td>surf</td>\n",
       "      <td>NaT</td>\n",
       "      <td>0</td>\n",
       "      <td>88.410313</td>\n",
       "    </tr>\n",
       "    <tr>\n",
       "      <th>4</th>\n",
       "      <td>1001</td>\n",
       "      <td>11</td>\n",
       "      <td>64</td>\n",
       "      <td>426.0</td>\n",
       "      <td>36</td>\n",
       "      <td>18524.0</td>\n",
       "      <td>Mickey</td>\n",
       "      <td>Wilkerson</td>\n",
       "      <td>28</td>\n",
       "      <td>Seattle-Tacoma-Bellevue, WA MSA</td>\n",
       "      <td>2018-08-13</td>\n",
       "      <td>surf</td>\n",
       "      <td>NaT</td>\n",
       "      <td>0</td>\n",
       "      <td>50.898438</td>\n",
       "    </tr>\n",
       "  </tbody>\n",
       "</table>\n",
       "</div>"
      ],
      "text/plain": [
       "   user_id  month  calls_count  rounded_duration  message_count  \\\n",
       "0     1000     12           16             124.0             11   \n",
       "1     1001      8           27             182.0             30   \n",
       "2     1001      9           49             315.0             44   \n",
       "3     1001     10           65             393.0             53   \n",
       "4     1001     11           64             426.0             36   \n",
       "\n",
       "   rounded_mb_used first_name  last_name  age  \\\n",
       "0           1903.0   Anamaria      Bauer   45   \n",
       "1           6929.0     Mickey  Wilkerson   28   \n",
       "2          13333.0     Mickey  Wilkerson   28   \n",
       "3          22356.0     Mickey  Wilkerson   28   \n",
       "4          18524.0     Mickey  Wilkerson   28   \n",
       "\n",
       "                                    city   reg_date      plan churn_date  \\\n",
       "0  Atlanta-Sandy Springs-Roswell, GA MSA 2018-12-24  ultimate        NaT   \n",
       "1        Seattle-Tacoma-Bellevue, WA MSA 2018-08-13      surf        NaT   \n",
       "2        Seattle-Tacoma-Bellevue, WA MSA 2018-08-13      surf        NaT   \n",
       "3        Seattle-Tacoma-Bellevue, WA MSA 2018-08-13      surf        NaT   \n",
       "4        Seattle-Tacoma-Bellevue, WA MSA 2018-08-13      surf        NaT   \n",
       "\n",
       "   churned  calculated_revenue  \n",
       "0        0           70.000000  \n",
       "1        0           20.000000  \n",
       "2        0           20.000000  \n",
       "3        0           88.410313  \n",
       "4        0           50.898438  "
      ]
     },
     "execution_count": 30,
     "metadata": {},
     "output_type": "execute_result"
    }
   ],
   "source": [
    "# def calculate_revenue(row, plan):\n",
    "#     \"\"\"\n",
    "#     Calculates monthly revenue for a user based on their usage and the plan.\n",
    "\n",
    "#     Args:\n",
    "#         row: A pandas Series representing a single user's data.\n",
    "#         plan: A dictionary containing plan details.\n",
    "\n",
    "#     Returns:\n",
    "#         The calculated monthly revenue.\n",
    "#     \"\"\"\n",
    "#     base_charge = plan['monthly_charge']\n",
    "#     extra_minutes = max(0, row['calls_count'] - plan['minutes'])\n",
    "#     extra_texts = max(0, row['message_count'] - plan['texts'])\n",
    "#     extra_data = max(0, row['rounded_mb_used'] - plan['data'])\n",
    "\n",
    "#     extra_cost = (extra_minutes * plan['extra_minute'] + extra_texts * plan['extra_text'] +\n",
    "#                     extra_data * plan['extra_data'])\n",
    "\n",
    "#     return base_charge + extra_cost\n",
    "# # merged_df['plan'] = merged_df['rounded_mb_used'].apply(lambda x: 'surf' if x < 3000 else 'ultimate')\n",
    "# merged_df['revenue'] = merged_df.apply(lambda row: calculate_revenue(row, surf_plan) if row['plan'] == 'surf' \n",
    "#                                 else calculate_revenue(row, ultimate_plan), axis=1)\n",
    "# merged_df\n",
    "# # Calculate the monthly revenue for each user\n",
    "\n",
    "def calculate_revenue(row):\n",
    "    \"\"\"\n",
    "    Calculates revenue for a given row in the DataFrame.\n",
    "\n",
    "    Args:\n",
    "        row: A single row from the merged_df DataFrame.\n",
    "\n",
    "    Returns:\n",
    "        The total revenue for the user in that month.\n",
    "    \"\"\"\n",
    "\n",
    "    plan = row['plan']\n",
    "    calls_count = row['calls_count']\n",
    "    message_count = row['message_count']\n",
    "    rounded_mb_used = row['rounded_mb_used'] \n",
    "\n",
    "    if plan == 'surf':\n",
    "        monthly_charge = 20\n",
    "        minute_overage_cost = 0.03\n",
    "        message_overage_cost = 0.03\n",
    "        data_overage_cost = 10\n",
    "        minute_limit = 500\n",
    "        message_limit = 50\n",
    "        data_limit = 15 * 1024  # Convert GB to MB\n",
    "\n",
    "    elif plan == 'ultimate':\n",
    "        monthly_charge = 70\n",
    "        minute_overage_cost = 0.01\n",
    "        message_overage_cost = 0.01\n",
    "        data_overage_cost = 7\n",
    "        minute_limit = 3000\n",
    "        message_limit = 1000\n",
    "        data_limit = 30 * 1024  # Convert GB to MB\n",
    "\n",
    "    else:\n",
    "        raise ValueError(f\"Invalid plan: {plan}. Valid plans are: surf, ultimate\") \n",
    "\n",
    "    # Calculate overage usage\n",
    "    overage_minutes = max(0, calls_count - minute_limit)\n",
    "    overage_messages = max(0, message_count - message_limit)\n",
    "    overage_data = max(0, rounded_mb_used - data_limit)\n",
    "\n",
    "    # Calculate total overage costs\n",
    "    overage_cost = (overage_minutes * minute_overage_cost) + \\\n",
    "                   (overage_messages * message_overage_cost) + \\\n",
    "                   (overage_data / 1024) * data_overage_cost\n",
    "\n",
    "    # Calculate total revenue\n",
    "    total_revenue = monthly_charge + overage_cost\n",
    "\n",
    "    return total_revenue\n",
    "\n",
    "# Assuming 'merged_df' is your DataFrame\n",
    "merged_df['calculated_revenue'] = merged_df.apply(calculate_revenue, axis=1)\n",
    "\n",
    "merged_df.head()"
   ]
  },
  {
   "cell_type": "markdown",
   "metadata": {},
   "source": [
    "<div class=\"alert alert-block alert-danger\">✍\n",
    "    \n",
    "\n",
    "__Reviewer's comment №1__\n",
    "\n",
    "\n",
    "revenue 223430.09$ in month for telephone?"
   ]
  },
  {
   "cell_type": "markdown",
   "metadata": {},
   "source": [
    "<div class=\"alert alert-info\"> <b>Student сomments 1:</b> ..</div>\n",
    "    \n",
    "The revenue was really too high for telephone per month.\n",
    "I have corrected the mistake in my calculations"
   ]
  },
  {
   "cell_type": "markdown",
   "metadata": {},
   "source": [
    "<div class=\"alert alert-block alert-success\">✔️\n",
    "    \n",
    "\n",
    "__Reviewer's comment №2__\n",
    "\n",
    "\n",
    "Great. Code"
   ]
  },
  {
   "cell_type": "markdown",
   "metadata": {},
   "source": [
    "## Study user behaviour"
   ]
  },
  {
   "cell_type": "markdown",
   "metadata": {},
   "source": [
    "[Calculate some useful descriptive statistics for the aggregated and merged data, which typically reveal an overall picture captured by the data. Draw useful plots to help the understanding. Given that the main task is to compare the plans and decide on which one is more profitable, the statistics and the plots should be calculated on a per-plan basis.]\n",
    "\n",
    "[There are relevant hints in the comments for Calls but they are not provided for Messages and Internet though the principle of statistical study is the same for them as for Calls.]"
   ]
  },
  {
   "cell_type": "markdown",
   "metadata": {},
   "source": [
    "### Calls"
   ]
  },
  {
   "cell_type": "code",
   "execution_count": 31,
   "metadata": {
    "scrolled": false
   },
   "outputs": [
    {
     "data": {
      "image/png": "[encoded data removed]",
      "text/plain": [
       "<Figure size 1000x600 with 1 Axes>"
      ]
     },
     "metadata": {},
     "output_type": "display_data"
    }
   ],
   "source": [
    "avg_duration_by_month_plan = merged_df.groupby(['month', 'plan'])['rounded_duration'].mean().reset_index()\n",
    "pivot_table1 = avg_duration_by_month_plan.pivot(index='month', columns='plan', values='rounded_duration')\n",
    "pivot_table1.plot(kind='bar', figsize=(10, 6))\n",
    "plt.xlabel('Month')\n",
    "plt.ylabel('Average Call Duration')\n",
    "plt.title('Average Call Duration per Month and Plan')\n",
    "plt.legend(title='Plan')\n",
    "plt.xticks(rotation=0)\n",
    "plt.show()\n",
    "# Compare average duration of calls per each plan per each distinct month. Plot a bar plat to visualize it.\n",
    "\n"
   ]
  },
  {
   "cell_type": "markdown",
   "metadata": {},
   "source": [
    "The average call durration for both plans almost follow the same patterns accross acrros the months of the year.\n",
    "The ultimate plans records the highest duration in the month of February while the surf plan does in the month of December.\n",
    "The surf plan dominates in many months over the ultimate plan ."
   ]
  },
  {
   "cell_type": "code",
   "execution_count": 32,
   "metadata": {},
   "outputs": [
    {
     "data": {
      "image/png": "[encoded data removed]",
      "text/plain": [
       "<Figure size 1000x600 with 1 Axes>"
      ]
     },
     "metadata": {},
     "output_type": "display_data"
    }
   ],
   "source": [
    "grouped_df2 = merged_df.groupby(['plan', 'month'])['rounded_duration'].sum().reset_index()\n",
    "pivot_table2 = grouped_df2.pivot(index='month', columns='plan', values='rounded_duration')\n",
    "pivot_table2.plot(kind='hist', bins=20, alpha=0.7, figsize=(10, 6))\n",
    "plt.xlabel('Minutes Used')\n",
    "plt.ylabel('Frequency')\n",
    "plt.title('Distribution of Minutes Used by Plan')\n",
    "plt.legend()\n",
    "plt.grid(True)\n",
    "plt.show()\n",
    "# Compare the number of minutes users of each plan require each month. Plot a histogram.\n",
    "\n"
   ]
  },
  {
   "cell_type": "markdown",
   "metadata": {},
   "source": [
    "From the above, most of the calls made by users of boths plans lasted for less than 70000 minutes, with the ultimate plan having the highest frequency."
   ]
  },
  {
   "cell_type": "code",
   "execution_count": 33,
   "metadata": {},
   "outputs": [
    {
     "data": {
      "text/plain": [
       "('The Mean and Variance of Monthly Call Duration are :', 444.702, 57582.921)"
      ]
     },
     "execution_count": 33,
     "metadata": {},
     "output_type": "execute_result"
    }
   ],
   "source": [
    "mean_duration = round(merged_df['rounded_duration'].mean(),3)\n",
    "variance_duration = round(merged_df['rounded_duration'].var(),3)\n",
    "\n",
    "\"The Mean and Variance of Monthly Call Duration are :\" , mean_duration, variance_duration\n",
    "\n",
    "# Calculate the mean and the variance of the monthly call duration\n",
    "\n"
   ]
  },
  {
   "cell_type": "code",
   "execution_count": 34,
   "metadata": {},
   "outputs": [
    {
     "data": {
      "image/png": "[encoded data removed]",
      "text/plain": [
       "<Figure size 640x480 with 1 Axes>"
      ]
     },
     "metadata": {},
     "output_type": "display_data"
    }
   ],
   "source": [
    "sns.boxplot(x='month', y='rounded_duration', data=merged_df)\n",
    "plt.title('Distribution of Monthly Call Duration')\n",
    "plt.xlabel('Month')\n",
    "plt.ylabel('Rounded Duration (minutes)')\n",
    "plt.show()\n",
    "# Plot a boxplot to visualize the distribution of the monthly call duration\n",
    "\n"
   ]
  },
  {
   "cell_type": "markdown",
   "metadata": {},
   "source": [
    "From the boxplot above,\n",
    "* January registered the least number of calls and a call that lasted for very few munutes.\n",
    "* Febraury and December are the months with the highest number of calls. \n",
    "* The highest call duration was made in the month of May\n"
   ]
  },
  {
   "cell_type": "markdown",
   "metadata": {},
   "source": [
    " "
   ]
  },
  {
   "cell_type": "markdown",
   "metadata": {},
   "source": [
    "### Messages"
   ]
  },
  {
   "cell_type": "code",
   "execution_count": 35,
   "metadata": {},
   "outputs": [
    {
     "data": {
      "image/png": "[encoded data removed]",
      "text/plain": [
       "<Figure size 640x480 with 1 Axes>"
      ]
     },
     "metadata": {},
     "output_type": "display_data"
    }
   ],
   "source": [
    "grouped_df3 = merged_df.groupby(['plan', 'month'])['message_count'].sum().reset_index()\n",
    "pivot_table3 = grouped_df3.pivot(index='month', columns='plan', values='message_count')\n",
    "pivot_table3.plot(kind='bar')\n",
    "plt.xlabel('Month')\n",
    "plt.ylabel('Total Messages')\n",
    "plt.title('Messages Sent by Plan per Month')\n",
    "plt.legend(title='Message Plan')\n",
    "plt.show()\n",
    "# Compare the number of messages users of each plan tend to send each month\n",
    "\n"
   ]
  },
  {
   "cell_type": "code",
   "execution_count": 36,
   "metadata": {},
   "outputs": [
    {
     "data": {
      "text/plain": [
       "plan\n",
       "surf        16648.568644\n",
       "ultimate    17270.944732\n",
       "Name: rounded_mb_used, dtype: float64"
      ]
     },
     "execution_count": 36,
     "metadata": {},
     "output_type": "execute_result"
    }
   ],
   "source": [
    "avg_traffic_per_plan = merged_df.groupby('plan')['rounded_mb_used'].mean()\n",
    "avg_traffic_per_plan\n",
    "# Compare the amount of internet traffic consumed by users per plan\n",
    "\n"
   ]
  },
  {
   "cell_type": "code",
   "execution_count": 37,
   "metadata": {},
   "outputs": [
    {
     "data": {
      "image/png": "[encoded data removed]",
      "text/plain": [
       "<Figure size 1000x600 with 1 Axes>"
      ]
     },
     "metadata": {},
     "output_type": "display_data"
    }
   ],
   "source": [
    "plt.figure(figsize=(10, 6))\n",
    "avg_traffic_per_plan.plot(kind='bar')\n",
    "plt.xlabel('Plan')\n",
    "plt.ylabel('Average Internet Traffic (MB)')\n",
    "plt.title('Average Internet Traffic per Plan')\n",
    "plt.show()"
   ]
  },
  {
   "cell_type": "markdown",
   "metadata": {},
   "source": [
    "Both plans almost have the same internet traffic plans to benefit the company though the ultimate plan is slightly above. "
   ]
  },
  {
   "cell_type": "markdown",
   "metadata": {},
   "source": [
    " "
   ]
  },
  {
   "cell_type": "markdown",
   "metadata": {},
   "source": [
    "### Internet"
   ]
  },
  {
   "cell_type": "code",
   "execution_count": 38,
   "metadata": {},
   "outputs": [
    {
     "data": {
      "image/png": "[encoded data removed]",
      "text/plain": [
       "<Figure size 640x480 with 1 Axes>"
      ]
     },
     "metadata": {},
     "output_type": "display_data"
    }
   ],
   "source": [
    "monthly_internet_usage = merged_df.groupby(['plan', 'month'])['rounded_mb_used'].sum().reset_index()\n",
    "pivot_table4 = monthly_internet_usage.pivot(index='month', columns='plan', values='rounded_mb_used')\n",
    "pivot_table4.plot(kind='bar')\n",
    "plt.xlabel('Monthly Internet Usage (MB)')\n",
    "plt.ylabel('Total Data')\n",
    "plt.title('Distribution of Monthly Internet Usage')\n",
    "plt.legend(title='Message Plan')\n",
    "plt.show()\n",
    "\n"
   ]
  },
  {
   "cell_type": "markdown",
   "metadata": {},
   "source": [
    "The plot shows that consumme intrnet using the surf plan more than the ultimate plan."
   ]
  },
  {
   "attachments": {
    "image.png": {
     "image/png": "[encoded data removed]"
    }
   },
   "cell_type": "markdown",
   "id": "e281513d",
   "metadata": {},
   "source": [
    "<div class=\"alert alert-block alert-danger\">✍\n",
    "    \n",
    "\n",
    "__Reviewer's comment №1__\n",
    "\n",
    "It is better after each section, graph (or series of tests) to write a conclusion on the obtained data taking into account the set business task - so it is easier to read the project, because future colleagues or customers will not have to interpret the results of each section, test or graph themselves.\n",
    "    \n",
    "---\n",
    "    \n",
    "In markdown ![image.png](attachment:image.png)"
   ]
  },
  {
   "cell_type": "markdown",
   "metadata": {},
   "source": [
    "<div class=\"alert alert-info\"> <b>Student сomments 1:</b> ..</div>\n",
    "    \n",
    "Thanks for the remark Sir.\n",
    "I have corrected them."
   ]
  },
  {
   "cell_type": "markdown",
   "metadata": {},
   "source": [
    "<div class=\"alert alert-block alert-success\">✔️\n",
    "    \n",
    "\n",
    "__Reviewer's comment №2__\n",
    "\n",
    "\n",
    "Well done"
   ]
  },
  {
   "cell_type": "markdown",
   "metadata": {},
   "source": []
  },
  {
   "cell_type": "markdown",
   "metadata": {},
   "source": [
    " "
   ]
  },
  {
   "cell_type": "markdown",
   "metadata": {},
   "source": [
    "## Revenue"
   ]
  },
  {
   "cell_type": "markdown",
   "metadata": {},
   "source": []
  },
  {
   "cell_type": "code",
   "execution_count": 39,
   "metadata": {},
   "outputs": [
    {
     "data": {
      "text/html": [
       "<div>\n",
       "<style scoped>\n",
       "    .dataframe tbody tr th:only-of-type {\n",
       "        vertical-align: middle;\n",
       "    }\n",
       "\n",
       "    .dataframe tbody tr th {\n",
       "        vertical-align: top;\n",
       "    }\n",
       "\n",
       "    .dataframe thead th {\n",
       "        text-align: right;\n",
       "    }\n",
       "</style>\n",
       "<table border=\"1\" class=\"dataframe\">\n",
       "  <thead>\n",
       "    <tr style=\"text-align: right;\">\n",
       "      <th></th>\n",
       "      <th>count</th>\n",
       "      <th>mean</th>\n",
       "      <th>std</th>\n",
       "      <th>min</th>\n",
       "      <th>25%</th>\n",
       "      <th>50%</th>\n",
       "      <th>75%</th>\n",
       "      <th>max</th>\n",
       "    </tr>\n",
       "    <tr>\n",
       "      <th>plan</th>\n",
       "      <th></th>\n",
       "      <th></th>\n",
       "      <th></th>\n",
       "      <th></th>\n",
       "      <th></th>\n",
       "      <th></th>\n",
       "      <th></th>\n",
       "      <th></th>\n",
       "    </tr>\n",
       "  </thead>\n",
       "  <tbody>\n",
       "    <tr>\n",
       "      <th>surf</th>\n",
       "      <td>1180.0</td>\n",
       "      <td>55.394314</td>\n",
       "      <td>51.012821</td>\n",
       "      <td>20.0</td>\n",
       "      <td>20.0</td>\n",
       "      <td>35.477227</td>\n",
       "      <td>75.244512</td>\n",
       "      <td>565.522187</td>\n",
       "    </tr>\n",
       "    <tr>\n",
       "      <th>ultimate</th>\n",
       "      <td>579.0</td>\n",
       "      <td>72.076082</td>\n",
       "      <td>10.528180</td>\n",
       "      <td>70.0</td>\n",
       "      <td>70.0</td>\n",
       "      <td>70.000000</td>\n",
       "      <td>70.000000</td>\n",
       "      <td>178.787109</td>\n",
       "    </tr>\n",
       "  </tbody>\n",
       "</table>\n",
       "</div>"
      ],
      "text/plain": [
       "           count       mean        std   min   25%        50%        75%  \\\n",
       "plan                                                                       \n",
       "surf      1180.0  55.394314  51.012821  20.0  20.0  35.477227  75.244512   \n",
       "ultimate   579.0  72.076082  10.528180  70.0  70.0  70.000000  70.000000   \n",
       "\n",
       "                 max  \n",
       "plan                  \n",
       "surf      565.522187  \n",
       "ultimate  178.787109  "
      ]
     },
     "execution_count": 39,
     "metadata": {},
     "output_type": "execute_result"
    }
   ],
   "source": [
    "# Print the summary statistics\n",
    "revenue_stats = merged_df.groupby('plan')['calculated_revenue']\n",
    "revenue_stats.describe()"
   ]
  },
  {
   "cell_type": "code",
   "execution_count": 40,
   "metadata": {},
   "outputs": [
    {
     "data": {
      "image/png": "[encoded data removed]",
      "text/plain": [
       "<Figure size 640x480 with 1 Axes>"
      ]
     },
     "metadata": {},
     "output_type": "display_data"
    }
   ],
   "source": [
    "monthly_revenue = merged_df.groupby(['plan', 'month'])['calculated_revenue'].sum().reset_index()\n",
    "pivot_table5 = monthly_revenue.pivot(index='month', columns='plan', values='calculated_revenue')\n",
    "pivot_table5.plot(kind='bar')\n",
    "plt.xlabel('Month')\n",
    "plt.ylabel('Total Revenue')\n",
    "plt.title('Distribution of Monthly Revenue')\n",
    "plt.legend(title='Revenue by Plan')\n",
    "plt.show()\n"
   ]
  },
  {
   "cell_type": "code",
   "execution_count": 41,
   "metadata": {},
   "outputs": [
    {
     "data": {
      "image/png": "[encoded data removed]",
      "text/plain": [
       "<Figure size 1000x600 with 1 Axes>"
      ]
     },
     "metadata": {},
     "output_type": "display_data"
    }
   ],
   "source": [
    "# Create a bar plot of mean revenue for each plan\n",
    "plt.figure(figsize=(10, 6))\n",
    "sns.barplot(x='plan', y='calculated_revenue', data=merged_df, ci=None)\n",
    "plt.title('Mean Revenue by Plan')\n",
    "plt.xlabel('Plan')\n",
    "plt.ylabel('Revenue')\n",
    "plt.show()"
   ]
  },
  {
   "cell_type": "markdown",
   "metadata": {},
   "source": [
    "The ultimate plan makes more revenue than the surf plan"
   ]
  },
  {
   "cell_type": "markdown",
   "metadata": {},
   "source": [
    " "
   ]
  },
  {
   "cell_type": "markdown",
   "metadata": {},
   "source": [
    "## Test statistical hypotheses"
   ]
  },
  {
   "cell_type": "markdown",
   "metadata": {},
   "source": [
    "Let the null hypothesis(Ho) be \"The average revenue from users of the Ultimate and Surf calling plans is equal.\""
   ]
  },
  {
   "cell_type": "markdown",
   "metadata": {},
   "source": [
    "Alternative Hypothesis (H1):The average revenue from users of the Ultimate and Surf calling plans are not equal."
   ]
  },
  {
   "cell_type": "markdown",
   "metadata": {},
   "source": [
    "<div class=\"alert alert-block alert-success\">✔️\n",
    "    \n",
    "\n",
    "__Reviewer's comment №1__\n",
    "\n",
    "Correct interpretation of the null and alternative hypotheses"
   ]
  },
  {
   "cell_type": "code",
   "execution_count": 42,
   "metadata": {},
   "outputs": [
    {
     "name": "stdout",
     "output_type": "stream",
     "text": [
      "1.1667834288194866e-14\n",
      "Reject the null hypothesis.\n"
     ]
    }
   ],
   "source": [
    "ultimate_users = merged_df[merged_df['plan'] == 'ultimate']\n",
    "surf_users = merged_df[merged_df['plan'] == 'surf']\n",
    "# Null Hypothesis (H0): \n",
    "# The average revenue from users of the Ultimate and Surf calling plans is equal.\n",
    "# Alternative Hypothesis (H1): \n",
    "# The average revenue from users of the Ultimate and Surf calling plans are not equal.\n",
    "alpha = 0.05\n",
    "t_stat, p_value = ttest_ind(ultimate_users['calculated_revenue'], surf_users['calculated_revenue'])\n",
    "print(p_value)\n",
    "if p_value < alpha:\n",
    "    print(\"Reject the null hypothesis.\")\n",
    "else:\n",
    "    print(\"Fail to reject the null hypothesis.\")\n",
    "# Test the hypotheses\n",
    "\n"
   ]
  },
  {
   "cell_type": "code",
   "execution_count": 43,
   "metadata": {},
   "outputs": [
    {
     "data": {
      "text/html": [
       "<div>\n",
       "<style scoped>\n",
       "    .dataframe tbody tr th:only-of-type {\n",
       "        vertical-align: middle;\n",
       "    }\n",
       "\n",
       "    .dataframe tbody tr th {\n",
       "        vertical-align: top;\n",
       "    }\n",
       "\n",
       "    .dataframe thead th {\n",
       "        text-align: right;\n",
       "    }\n",
       "</style>\n",
       "<table border=\"1\" class=\"dataframe\">\n",
       "  <thead>\n",
       "    <tr style=\"text-align: right;\">\n",
       "      <th></th>\n",
       "      <th>user_id</th>\n",
       "      <th>month</th>\n",
       "      <th>calls_count</th>\n",
       "      <th>rounded_duration</th>\n",
       "      <th>message_count</th>\n",
       "      <th>rounded_mb_used</th>\n",
       "      <th>first_name</th>\n",
       "      <th>last_name</th>\n",
       "      <th>age</th>\n",
       "      <th>city</th>\n",
       "      <th>reg_date</th>\n",
       "      <th>plan</th>\n",
       "      <th>churn_date</th>\n",
       "      <th>churned</th>\n",
       "      <th>calculated_revenue</th>\n",
       "    </tr>\n",
       "  </thead>\n",
       "  <tbody>\n",
       "    <tr>\n",
       "      <th>1</th>\n",
       "      <td>1001</td>\n",
       "      <td>8</td>\n",
       "      <td>27</td>\n",
       "      <td>182.0</td>\n",
       "      <td>30</td>\n",
       "      <td>6929.0</td>\n",
       "      <td>Mickey</td>\n",
       "      <td>Wilkerson</td>\n",
       "      <td>28</td>\n",
       "      <td>Seattle-Tacoma-Bellevue, WA MSA</td>\n",
       "      <td>2018-08-13</td>\n",
       "      <td>surf</td>\n",
       "      <td>NaT</td>\n",
       "      <td>0</td>\n",
       "      <td>20.0</td>\n",
       "    </tr>\n",
       "    <tr>\n",
       "      <th>2</th>\n",
       "      <td>1001</td>\n",
       "      <td>9</td>\n",
       "      <td>49</td>\n",
       "      <td>315.0</td>\n",
       "      <td>44</td>\n",
       "      <td>13333.0</td>\n",
       "      <td>Mickey</td>\n",
       "      <td>Wilkerson</td>\n",
       "      <td>28</td>\n",
       "      <td>Seattle-Tacoma-Bellevue, WA MSA</td>\n",
       "      <td>2018-08-13</td>\n",
       "      <td>surf</td>\n",
       "      <td>NaT</td>\n",
       "      <td>0</td>\n",
       "      <td>20.0</td>\n",
       "    </tr>\n",
       "  </tbody>\n",
       "</table>\n",
       "</div>"
      ],
      "text/plain": [
       "   user_id  month  calls_count  rounded_duration  message_count  \\\n",
       "1     1001      8           27             182.0             30   \n",
       "2     1001      9           49             315.0             44   \n",
       "\n",
       "   rounded_mb_used first_name  last_name  age  \\\n",
       "1           6929.0     Mickey  Wilkerson   28   \n",
       "2          13333.0     Mickey  Wilkerson   28   \n",
       "\n",
       "                              city   reg_date  plan churn_date  churned  \\\n",
       "1  Seattle-Tacoma-Bellevue, WA MSA 2018-08-13  surf        NaT        0   \n",
       "2  Seattle-Tacoma-Bellevue, WA MSA 2018-08-13  surf        NaT        0   \n",
       "\n",
       "   calculated_revenue  \n",
       "1                20.0  \n",
       "2                20.0  "
      ]
     },
     "execution_count": 43,
     "metadata": {},
     "output_type": "execute_result"
    }
   ],
   "source": [
    "surf_users.head(2)"
   ]
  },
  {
   "cell_type": "code",
   "execution_count": 44,
   "metadata": {},
   "outputs": [
    {
     "data": {
      "text/html": [
       "<div>\n",
       "<style scoped>\n",
       "    .dataframe tbody tr th:only-of-type {\n",
       "        vertical-align: middle;\n",
       "    }\n",
       "\n",
       "    .dataframe tbody tr th {\n",
       "        vertical-align: top;\n",
       "    }\n",
       "\n",
       "    .dataframe thead th {\n",
       "        text-align: right;\n",
       "    }\n",
       "</style>\n",
       "<table border=\"1\" class=\"dataframe\">\n",
       "  <thead>\n",
       "    <tr style=\"text-align: right;\">\n",
       "      <th></th>\n",
       "      <th>user_id</th>\n",
       "      <th>month</th>\n",
       "      <th>calls_count</th>\n",
       "      <th>rounded_duration</th>\n",
       "      <th>message_count</th>\n",
       "      <th>rounded_mb_used</th>\n",
       "      <th>first_name</th>\n",
       "      <th>last_name</th>\n",
       "      <th>age</th>\n",
       "      <th>city</th>\n",
       "      <th>reg_date</th>\n",
       "      <th>plan</th>\n",
       "      <th>churn_date</th>\n",
       "      <th>churned</th>\n",
       "      <th>calculated_revenue</th>\n",
       "    </tr>\n",
       "  </thead>\n",
       "  <tbody>\n",
       "    <tr>\n",
       "      <th>0</th>\n",
       "      <td>1000</td>\n",
       "      <td>12</td>\n",
       "      <td>16</td>\n",
       "      <td>124.0</td>\n",
       "      <td>11</td>\n",
       "      <td>1903.0</td>\n",
       "      <td>Anamaria</td>\n",
       "      <td>Bauer</td>\n",
       "      <td>45</td>\n",
       "      <td>Atlanta-Sandy Springs-Roswell, GA MSA</td>\n",
       "      <td>2018-12-24</td>\n",
       "      <td>ultimate</td>\n",
       "      <td>NaT</td>\n",
       "      <td>0</td>\n",
       "      <td>70.0</td>\n",
       "    </tr>\n",
       "    <tr>\n",
       "      <th>19</th>\n",
       "      <td>1006</td>\n",
       "      <td>11</td>\n",
       "      <td>2</td>\n",
       "      <td>10.0</td>\n",
       "      <td>15</td>\n",
       "      <td>2072.0</td>\n",
       "      <td>Jesusa</td>\n",
       "      <td>Bradford</td>\n",
       "      <td>73</td>\n",
       "      <td>San Francisco-Oakland-Berkeley, CA MSA</td>\n",
       "      <td>2018-11-27</td>\n",
       "      <td>ultimate</td>\n",
       "      <td>2018-12-18</td>\n",
       "      <td>1</td>\n",
       "      <td>70.0</td>\n",
       "    </tr>\n",
       "  </tbody>\n",
       "</table>\n",
       "</div>"
      ],
      "text/plain": [
       "    user_id  month  calls_count  rounded_duration  message_count  \\\n",
       "0      1000     12           16             124.0             11   \n",
       "19     1006     11            2              10.0             15   \n",
       "\n",
       "    rounded_mb_used first_name last_name  age  \\\n",
       "0            1903.0   Anamaria     Bauer   45   \n",
       "19           2072.0     Jesusa  Bradford   73   \n",
       "\n",
       "                                      city   reg_date      plan churn_date  \\\n",
       "0    Atlanta-Sandy Springs-Roswell, GA MSA 2018-12-24  ultimate        NaT   \n",
       "19  San Francisco-Oakland-Berkeley, CA MSA 2018-11-27  ultimate 2018-12-18   \n",
       "\n",
       "    churned  calculated_revenue  \n",
       "0         0                70.0  \n",
       "19        1                70.0  "
      ]
     },
     "execution_count": 44,
     "metadata": {},
     "output_type": "execute_result"
    }
   ],
   "source": [
    "ultimate_users.head(2)"
   ]
  },
  {
   "attachments": {
    "image.png": {
     "image/png": "[encoded data removed]"
    }
   },
   "cell_type": "markdown",
   "metadata": {},
   "source": [
    "<div class=\"alert alert-block alert-danger\">✍\n",
    "    \n",
    "\n",
    "__Reviewer's comment №2__\n",
    "\n",
    "Result nan - incorrect data in the hypothesis ![image.png](attachment:image.png)"
   ]
  },
  {
   "cell_type": "markdown",
   "metadata": {},
   "source": [
    "<div class=\"alert alert-info\"> <b>Student сomments 2:</b> ..</div>\n",
    "    \n",
    "Thanks for the remark Sir.\n",
    "I have done the correction."
   ]
  },
  {
   "attachments": {
    "image.png": {
     "image/png": "[encoded data removed]"
    }
   },
   "cell_type": "markdown",
   "metadata": {},
   "source": [
    "<div class=\"alert alert-block alert-danger\">✍\n",
    "    \n",
    "\n",
    "__Reviewer's comment №3__\n",
    "\n",
    "Unfortunately, the result is not. There is no information in the variables ![image.png](attachment:image.png)![image.png](attachment:image.png)"
   ]
  },
  {
   "cell_type": "markdown",
   "metadata": {},
   "source": [
    "<div class=\"alert alert-info\"> <b>Student сomments 3:</b> ..</div>\n",
    "    \n",
    "There was an error at the level of Ultimate_users and Surf_users, the first letters were suppose to be in small letters."
   ]
  },
  {
   "cell_type": "markdown",
   "metadata": {},
   "source": [
    "Let the null hypotheis be: The average revenue from users in the NY-NJ area is equal to that of users from other regions."
   ]
  },
  {
   "cell_type": "markdown",
   "metadata": {},
   "source": [
    "The alternative hypothesis be: The average revenue from users in the NY-NJ area is different from that of users from other regions.\""
   ]
  },
  {
   "cell_type": "code",
   "execution_count": 45,
   "metadata": {},
   "outputs": [
    {
     "name": "stdout",
     "output_type": "stream",
     "text": [
      "0.0048649286106909415\n",
      "Reject the null hypothesis.\n"
     ]
    }
   ],
   "source": [
    "# ny_nj_area = ['New York', 'New Jersey']\n",
    "# merged_df['city'] = merged_df['city'].apply(lambda x: 'NY-NJ' if x in ny_nj_area else 'Other')\n",
    "ny_nj_data = merged_df[merged_df['city'].str.contains('NY-NJ')]\n",
    "other_data = merged_df[~merged_df['city'].str.contains('NY-NJ')]\n",
    "H0 = \"The average revenue from users in the NY-NJ area is equal to that of users from other regions.\"\n",
    "H1 = \"The average revenue from users in the NY-NJ area is different from that of users from other regions.\"\n",
    "alpha = 0.05\n",
    "test_statistic, p_value = ttest_ind(ny_nj_data['calculated_revenue'], other_data['calculated_revenue'])\n",
    "print(p_value)\n",
    "if p_value < alpha:\n",
    "    print(\"Reject the null hypothesis.\")\n",
    "else:\n",
    "    print(\"Fail to reject the null hypothesis\")\n",
    "# Test the hypotheses\n",
    "\n"
   ]
  },
  {
   "cell_type": "markdown",
   "metadata": {},
   "source": [
    "<div class=\"alert alert-info\"> <b>Student сomments 3:</b> ..</div>\n",
    "    \n",
    "I failed to filter the users in the NY and NJ area."
   ]
  },
  {
   "cell_type": "code",
   "execution_count": 46,
   "metadata": {},
   "outputs": [
    {
     "data": {
      "text/html": [
       "<div>\n",
       "<style scoped>\n",
       "    .dataframe tbody tr th:only-of-type {\n",
       "        vertical-align: middle;\n",
       "    }\n",
       "\n",
       "    .dataframe tbody tr th {\n",
       "        vertical-align: top;\n",
       "    }\n",
       "\n",
       "    .dataframe thead th {\n",
       "        text-align: right;\n",
       "    }\n",
       "</style>\n",
       "<table border=\"1\" class=\"dataframe\">\n",
       "  <thead>\n",
       "    <tr style=\"text-align: right;\">\n",
       "      <th></th>\n",
       "      <th>user_id</th>\n",
       "      <th>month</th>\n",
       "      <th>calls_count</th>\n",
       "      <th>rounded_duration</th>\n",
       "      <th>message_count</th>\n",
       "      <th>rounded_mb_used</th>\n",
       "      <th>first_name</th>\n",
       "      <th>last_name</th>\n",
       "      <th>age</th>\n",
       "      <th>city</th>\n",
       "      <th>reg_date</th>\n",
       "      <th>plan</th>\n",
       "      <th>churn_date</th>\n",
       "      <th>churned</th>\n",
       "      <th>calculated_revenue</th>\n",
       "    </tr>\n",
       "  </thead>\n",
       "  <tbody>\n",
       "    <tr>\n",
       "      <th>37</th>\n",
       "      <td>1014</td>\n",
       "      <td>11</td>\n",
       "      <td>28</td>\n",
       "      <td>163.0</td>\n",
       "      <td>9</td>\n",
       "      <td>1176.0</td>\n",
       "      <td>Edmundo</td>\n",
       "      <td>Simon</td>\n",
       "      <td>61</td>\n",
       "      <td>New York-Newark-Jersey City, NY-NJ-PA MSA</td>\n",
       "      <td>2018-11-25</td>\n",
       "      <td>surf</td>\n",
       "      <td>NaT</td>\n",
       "      <td>0</td>\n",
       "      <td>20.00</td>\n",
       "    </tr>\n",
       "    <tr>\n",
       "      <th>38</th>\n",
       "      <td>1014</td>\n",
       "      <td>12</td>\n",
       "      <td>150</td>\n",
       "      <td>1114.0</td>\n",
       "      <td>64</td>\n",
       "      <td>7803.0</td>\n",
       "      <td>Edmundo</td>\n",
       "      <td>Simon</td>\n",
       "      <td>61</td>\n",
       "      <td>New York-Newark-Jersey City, NY-NJ-PA MSA</td>\n",
       "      <td>2018-11-25</td>\n",
       "      <td>surf</td>\n",
       "      <td>NaT</td>\n",
       "      <td>0</td>\n",
       "      <td>20.42</td>\n",
       "    </tr>\n",
       "  </tbody>\n",
       "</table>\n",
       "</div>"
      ],
      "text/plain": [
       "    user_id  month  calls_count  rounded_duration  message_count  \\\n",
       "37     1014     11           28             163.0              9   \n",
       "38     1014     12          150            1114.0             64   \n",
       "\n",
       "    rounded_mb_used first_name last_name  age  \\\n",
       "37           1176.0    Edmundo     Simon   61   \n",
       "38           7803.0    Edmundo     Simon   61   \n",
       "\n",
       "                                         city   reg_date  plan churn_date  \\\n",
       "37  New York-Newark-Jersey City, NY-NJ-PA MSA 2018-11-25  surf        NaT   \n",
       "38  New York-Newark-Jersey City, NY-NJ-PA MSA 2018-11-25  surf        NaT   \n",
       "\n",
       "    churned  calculated_revenue  \n",
       "37        0               20.00  \n",
       "38        0               20.42  "
      ]
     },
     "execution_count": 46,
     "metadata": {},
     "output_type": "execute_result"
    }
   ],
   "source": [
    "ny_nj_data = merged_df[merged_df['city'].str.contains('NY-NJ')]\n",
    "ny_nj_data.head(2)"
   ]
  },
  {
   "cell_type": "code",
   "execution_count": 47,
   "metadata": {},
   "outputs": [
    {
     "data": {
      "text/html": [
       "<div>\n",
       "<style scoped>\n",
       "    .dataframe tbody tr th:only-of-type {\n",
       "        vertical-align: middle;\n",
       "    }\n",
       "\n",
       "    .dataframe tbody tr th {\n",
       "        vertical-align: top;\n",
       "    }\n",
       "\n",
       "    .dataframe thead th {\n",
       "        text-align: right;\n",
       "    }\n",
       "</style>\n",
       "<table border=\"1\" class=\"dataframe\">\n",
       "  <thead>\n",
       "    <tr style=\"text-align: right;\">\n",
       "      <th></th>\n",
       "      <th>user_id</th>\n",
       "      <th>month</th>\n",
       "      <th>calls_count</th>\n",
       "      <th>rounded_duration</th>\n",
       "      <th>message_count</th>\n",
       "      <th>rounded_mb_used</th>\n",
       "      <th>first_name</th>\n",
       "      <th>last_name</th>\n",
       "      <th>age</th>\n",
       "      <th>city</th>\n",
       "      <th>reg_date</th>\n",
       "      <th>plan</th>\n",
       "      <th>churn_date</th>\n",
       "      <th>churned</th>\n",
       "      <th>calculated_revenue</th>\n",
       "    </tr>\n",
       "  </thead>\n",
       "  <tbody>\n",
       "    <tr>\n",
       "      <th>0</th>\n",
       "      <td>1000</td>\n",
       "      <td>12</td>\n",
       "      <td>16</td>\n",
       "      <td>124.0</td>\n",
       "      <td>11</td>\n",
       "      <td>1903.0</td>\n",
       "      <td>Anamaria</td>\n",
       "      <td>Bauer</td>\n",
       "      <td>45</td>\n",
       "      <td>Atlanta-Sandy Springs-Roswell, GA MSA</td>\n",
       "      <td>2018-12-24</td>\n",
       "      <td>ultimate</td>\n",
       "      <td>NaT</td>\n",
       "      <td>0</td>\n",
       "      <td>70.0</td>\n",
       "    </tr>\n",
       "    <tr>\n",
       "      <th>1</th>\n",
       "      <td>1001</td>\n",
       "      <td>8</td>\n",
       "      <td>27</td>\n",
       "      <td>182.0</td>\n",
       "      <td>30</td>\n",
       "      <td>6929.0</td>\n",
       "      <td>Mickey</td>\n",
       "      <td>Wilkerson</td>\n",
       "      <td>28</td>\n",
       "      <td>Seattle-Tacoma-Bellevue, WA MSA</td>\n",
       "      <td>2018-08-13</td>\n",
       "      <td>surf</td>\n",
       "      <td>NaT</td>\n",
       "      <td>0</td>\n",
       "      <td>20.0</td>\n",
       "    </tr>\n",
       "  </tbody>\n",
       "</table>\n",
       "</div>"
      ],
      "text/plain": [
       "   user_id  month  calls_count  rounded_duration  message_count  \\\n",
       "0     1000     12           16             124.0             11   \n",
       "1     1001      8           27             182.0             30   \n",
       "\n",
       "   rounded_mb_used first_name  last_name  age  \\\n",
       "0           1903.0   Anamaria      Bauer   45   \n",
       "1           6929.0     Mickey  Wilkerson   28   \n",
       "\n",
       "                                    city   reg_date      plan churn_date  \\\n",
       "0  Atlanta-Sandy Springs-Roswell, GA MSA 2018-12-24  ultimate        NaT   \n",
       "1        Seattle-Tacoma-Bellevue, WA MSA 2018-08-13      surf        NaT   \n",
       "\n",
       "   churned  calculated_revenue  \n",
       "0        0                70.0  \n",
       "1        0                20.0  "
      ]
     },
     "execution_count": 47,
     "metadata": {},
     "output_type": "execute_result"
    }
   ],
   "source": [
    "other_data = merged_df[~merged_df['city'].str.contains('NY-NJ')]\n",
    "other_data.head(2)"
   ]
  },
  {
   "cell_type": "markdown",
   "metadata": {},
   "source": [
    "## General conclusion\n",
    "\n",
    "Based on the results of the t-test, we  reject the null hypothesis. This means that there is sufficient evidence to conclude that the average revenue from users of the Ultimate and Surf calling plans are statistically different.\n"
   ]
  },
  {
   "cell_type": "markdown",
   "metadata": {},
   "source": [
    "<div class=\"alert alert-block alert-danger\">✍\n",
    "    \n",
    "\n",
    "__Reviewer's comment №1__\n",
    "\n",
    "\n",
    "We need to describe in text the result of the work (main results. What was conducted in the exploratory analysis, etc.)"
   ]
  },
  {
   "cell_type": "markdown",
   "metadata": {},
   "source": [
    "<div class=\"alert alert-block alert-success\">✔️\n",
    "    \n",
    "\n",
    "__Reviewer's comment №3__\n",
    "\n",
    "\n",
    "Otherwise it's great😊. Your project is begging for github =)   \n",
    "    \n",
    "Congratulations on the successful completion of the project 😊👍\n",
    "And I wish you success in new works 😊"
   ]
  },
  {
   "cell_type": "markdown",
   "metadata": {},
   "source": [
    " "
   ]
  }
 ],
 "metadata": {
  "ExecuteTimeLog": [
   {
    "duration": 828,
    "start_time": "2021-11-16T09:21:11.304Z"
   },
   {
    "duration": 893,
    "start_time": "2021-11-16T09:21:17.728Z"
   },
   {
    "duration": 1150,
    "start_time": "2021-11-16T09:21:29.568Z"
   },
   {
    "duration": 3,
    "start_time": "2021-11-16T09:24:14.495Z"
   },
   {
    "duration": 120,
    "start_time": "2021-11-16T09:24:46.630Z"
   },
   {
    "duration": 3,
    "start_time": "2021-11-16T09:28:27.882Z"
   },
   {
    "duration": 4,
    "start_time": "2021-11-16T09:29:54.281Z"
   },
   {
    "duration": 3,
    "start_time": "2021-11-16T09:30:45.936Z"
   },
   {
    "duration": 4,
    "start_time": "2021-11-16T09:31:06.300Z"
   },
   {
    "duration": 113,
    "start_time": "2021-11-16T09:31:37.208Z"
   },
   {
    "duration": 143,
    "start_time": "2021-11-16T09:31:48.656Z"
   },
   {
    "duration": 98,
    "start_time": "2021-11-16T09:31:55.678Z"
   },
   {
    "duration": 3,
    "start_time": "2021-11-16T09:32:08.535Z"
   },
   {
    "duration": 111,
    "start_time": "2021-11-16T09:32:10.120Z"
   },
   {
    "duration": 3,
    "start_time": "2021-11-16T09:32:15.732Z"
   },
   {
    "duration": 4,
    "start_time": "2021-11-16T09:32:29.423Z"
   },
   {
    "duration": 3,
    "start_time": "2021-11-16T10:03:03.074Z"
   },
   {
    "duration": 3,
    "start_time": "2021-11-16T10:10:01.288Z"
   },
   {
    "duration": 3,
    "start_time": "2021-11-16T10:10:46.923Z"
   },
   {
    "duration": 121,
    "start_time": "2021-11-16T10:37:46.494Z"
   },
   {
    "duration": 125,
    "start_time": "2021-11-16T10:38:20.632Z"
   },
   {
    "duration": 112,
    "start_time": "2021-11-16T10:46:53.001Z"
   },
   {
    "duration": 110,
    "start_time": "2021-11-16T10:48:25.775Z"
   },
   {
    "duration": 3,
    "start_time": "2021-11-16T10:50:18.720Z"
   },
   {
    "duration": 4,
    "start_time": "2021-11-16T10:50:37.649Z"
   },
   {
    "duration": 2,
    "start_time": "2021-11-16T10:50:51.884Z"
   },
   {
    "duration": 3,
    "start_time": "2021-11-16T10:51:56.237Z"
   },
   {
    "duration": 101,
    "start_time": "2021-11-16T10:53:13.791Z"
   },
   {
    "duration": 3,
    "start_time": "2021-11-16T10:55:59.186Z"
   },
   {
    "duration": 3,
    "start_time": "2021-11-16T10:56:10.751Z"
   },
   {
    "duration": 3,
    "start_time": "2021-11-16T10:56:49.038Z"
   },
   {
    "duration": 3,
    "start_time": "2021-11-16T10:56:49.174Z"
   },
   {
    "duration": 4,
    "start_time": "2021-11-16T10:56:49.414Z"
   },
   {
    "duration": 3,
    "start_time": "2021-11-16T10:56:49.680Z"
   },
   {
    "duration": 3,
    "start_time": "2021-11-16T10:56:50.370Z"
   },
   {
    "duration": 114,
    "start_time": "2021-11-16T10:59:34.518Z"
   },
   {
    "duration": 3,
    "start_time": "2021-11-16T11:01:41.201Z"
   },
   {
    "duration": 116,
    "start_time": "2021-11-16T11:01:48.754Z"
   },
   {
    "duration": 3,
    "start_time": "2021-11-16T11:02:16.685Z"
   },
   {
    "duration": 3,
    "start_time": "2021-11-16T11:02:19.479Z"
   },
   {
    "duration": 3,
    "start_time": "2021-11-16T11:02:47.067Z"
   },
   {
    "duration": 3,
    "start_time": "2021-11-16T11:02:49.353Z"
   },
   {
    "duration": 3,
    "start_time": "2021-11-16T11:03:07.835Z"
   },
   {
    "duration": 3,
    "start_time": "2021-11-16T11:03:07.953Z"
   },
   {
    "duration": 112,
    "start_time": "2021-11-16T11:07:52.072Z"
   },
   {
    "duration": 187,
    "start_time": "2021-11-16T11:09:23.468Z"
   },
   {
    "duration": 4,
    "start_time": "2021-11-16T11:10:01.455Z"
   },
   {
    "duration": 3,
    "start_time": "2021-11-16T11:10:05.069Z"
   },
   {
    "duration": 4,
    "start_time": "2021-11-16T11:10:13.376Z"
   },
   {
    "duration": 3,
    "start_time": "2021-11-16T11:10:14.434Z"
   },
   {
    "duration": 3,
    "start_time": "2021-11-16T11:10:22.853Z"
   },
   {
    "duration": 4,
    "start_time": "2021-11-16T11:27:29.279Z"
   },
   {
    "duration": 4,
    "start_time": "2021-11-16T11:29:08.919Z"
   },
   {
    "duration": 118,
    "start_time": "2021-11-16T11:29:46.703Z"
   },
   {
    "duration": 437,
    "start_time": "2021-11-16T11:36:02.181Z"
   },
   {
    "duration": 157,
    "start_time": "2021-11-16T11:36:14.388Z"
   },
   {
    "duration": 207,
    "start_time": "2021-11-16T11:47:15.898Z"
   },
   {
    "duration": 3,
    "start_time": "2021-11-16T11:53:52.092Z"
   },
   {
    "duration": 3,
    "start_time": "2021-11-16T11:53:52.236Z"
   },
   {
    "duration": 3,
    "start_time": "2021-11-16T11:59:12.005Z"
   },
   {
    "duration": 112,
    "start_time": "2021-11-16T12:00:33.446Z"
   },
   {
    "duration": 3,
    "start_time": "2021-11-16T12:02:14.453Z"
   },
   {
    "duration": 3,
    "start_time": "2021-11-16T12:02:39.512Z"
   },
   {
    "duration": 106,
    "start_time": "2021-11-16T12:03:03.460Z"
   },
   {
    "duration": 3,
    "start_time": "2021-11-17T20:37:21.139Z"
   },
   {
    "duration": 3,
    "start_time": "2021-11-17T20:37:22.229Z"
   },
   {
    "duration": 3,
    "start_time": "2021-11-17T20:38:38.806Z"
   },
   {
    "duration": 3,
    "start_time": "2021-11-17T20:38:41.958Z"
   },
   {
    "duration": 3,
    "start_time": "2021-11-17T20:43:46.551Z"
   },
   {
    "duration": 4,
    "start_time": "2021-11-17T20:58:21.835Z"
   },
   {
    "duration": 3,
    "start_time": "2021-11-17T20:59:21.872Z"
   },
   {
    "duration": 4,
    "start_time": "2021-11-17T20:59:45.352Z"
   },
   {
    "duration": 4,
    "start_time": "2021-11-17T20:59:49.646Z"
   },
   {
    "duration": 159,
    "start_time": "2021-11-17T21:02:26.949Z"
   },
   {
    "duration": 3,
    "start_time": "2021-11-17T21:03:53.461Z"
   },
   {
    "duration": 3,
    "start_time": "2021-11-17T21:03:53.694Z"
   },
   {
    "duration": 3,
    "start_time": "2021-11-17T21:05:28.145Z"
   },
   {
    "duration": 116,
    "start_time": "2021-11-17T21:05:57.787Z"
   },
   {
    "duration": 3,
    "start_time": "2021-11-17T21:06:37.993Z"
   },
   {
    "duration": 3,
    "start_time": "2021-11-17T21:06:38.261Z"
   },
   {
    "duration": 3,
    "start_time": "2021-11-17T21:11:54.358Z"
   },
   {
    "duration": 3,
    "start_time": "2021-11-17T21:12:43.846Z"
   },
   {
    "duration": 4,
    "start_time": "2021-11-17T21:13:08.773Z"
   },
   {
    "duration": 3,
    "start_time": "2021-11-17T21:14:44.441Z"
   },
   {
    "duration": 3,
    "start_time": "2021-11-17T21:15:42.059Z"
   },
   {
    "duration": 4,
    "start_time": "2021-11-17T21:15:51.995Z"
   },
   {
    "duration": 3,
    "start_time": "2021-11-17T21:15:53.923Z"
   },
   {
    "duration": 3,
    "start_time": "2021-11-17T21:15:55.282Z"
   },
   {
    "duration": 3,
    "start_time": "2021-11-17T21:16:28.492Z"
   },
   {
    "duration": 3,
    "start_time": "2021-11-17T21:16:32.603Z"
   },
   {
    "duration": 3,
    "start_time": "2021-11-17T21:17:06.941Z"
   },
   {
    "duration": 98,
    "start_time": "2021-11-17T21:18:05.733Z"
   },
   {
    "duration": 4,
    "start_time": "2021-11-17T21:21:35.255Z"
   },
   {
    "duration": 3,
    "start_time": "2021-11-17T21:21:37.804Z"
   },
   {
    "duration": 4,
    "start_time": "2021-11-17T21:23:06.071Z"
   },
   {
    "duration": 3,
    "start_time": "2021-11-17T21:23:24.799Z"
   },
   {
    "duration": 3,
    "start_time": "2021-11-17T21:23:32.591Z"
   },
   {
    "duration": 98,
    "start_time": "2021-11-17T21:28:31.559Z"
   },
   {
    "duration": 3,
    "start_time": "2021-11-17T21:28:45.448Z"
   },
   {
    "duration": 3,
    "start_time": "2021-11-17T21:29:17.303Z"
   },
   {
    "duration": 3,
    "start_time": "2021-11-17T21:29:29.617Z"
   },
   {
    "duration": 3,
    "start_time": "2021-11-17T21:29:32.681Z"
   },
   {
    "duration": 3,
    "start_time": "2021-11-17T21:36:11.474Z"
   },
   {
    "duration": 3,
    "start_time": "2021-11-17T21:36:14.791Z"
   },
   {
    "duration": 3,
    "start_time": "2021-11-17T21:36:53.943Z"
   },
   {
    "duration": 3,
    "start_time": "2021-11-17T21:36:56.165Z"
   },
   {
    "duration": 4,
    "start_time": "2021-11-17T21:37:16.590Z"
   },
   {
    "duration": 3,
    "start_time": "2021-11-17T21:37:22.702Z"
   },
   {
    "duration": 4,
    "start_time": "2021-11-17T21:38:03.479Z"
   },
   {
    "duration": 3,
    "start_time": "2021-11-17T21:38:08.601Z"
   },
   {
    "duration": 3,
    "start_time": "2021-11-17T21:38:12.928Z"
   },
   {
    "duration": 3,
    "start_time": "2021-11-17T21:38:48.896Z"
   },
   {
    "duration": 2,
    "start_time": "2021-11-17T21:38:49.171Z"
   },
   {
    "duration": 4,
    "start_time": "2021-11-17T21:39:57.889Z"
   },
   {
    "duration": 3,
    "start_time": "2021-11-17T21:39:58.057Z"
   },
   {
    "duration": 3,
    "start_time": "2021-11-17T21:41:20.108Z"
   },
   {
    "duration": 3,
    "start_time": "2021-11-17T21:41:20.629Z"
   },
   {
    "duration": 3,
    "start_time": "2021-11-17T21:42:49.136Z"
   },
   {
    "duration": 3,
    "start_time": "2021-11-17T21:43:15.137Z"
   },
   {
    "duration": 4,
    "start_time": "2021-11-17T21:43:16.766Z"
   },
   {
    "duration": 4,
    "start_time": "2021-11-17T21:43:31.711Z"
   },
   {
    "duration": 3,
    "start_time": "2021-11-17T21:43:36.312Z"
   },
   {
    "duration": 4,
    "start_time": "2021-11-17T21:45:08.825Z"
   },
   {
    "duration": 4,
    "start_time": "2021-11-17T21:45:10.119Z"
   },
   {
    "duration": 4,
    "start_time": "2021-11-17T21:45:13.748Z"
   },
   {
    "duration": 3,
    "start_time": "2021-11-17T21:45:22.219Z"
   },
   {
    "duration": 3,
    "start_time": "2021-11-17T21:45:33.412Z"
   },
   {
    "duration": 2,
    "start_time": "2021-11-17T21:46:01.885Z"
   },
   {
    "duration": 3,
    "start_time": "2021-11-17T21:46:03.628Z"
   },
   {
    "duration": 107,
    "start_time": "2021-11-17T21:47:32.512Z"
   },
   {
    "duration": 103,
    "start_time": "2021-11-17T21:50:36.243Z"
   },
   {
    "duration": 3,
    "start_time": "2021-11-18T06:28:31.440Z"
   },
   {
    "duration": 3,
    "start_time": "2021-11-18T06:29:00.168Z"
   },
   {
    "duration": 3,
    "start_time": "2021-11-18T06:31:27.008Z"
   },
   {
    "duration": 2,
    "start_time": "2021-11-18T06:35:34.288Z"
   },
   {
    "duration": 2,
    "start_time": "2021-11-18T06:38:04.527Z"
   },
   {
    "duration": 2377,
    "start_time": "2024-12-21T01:42:36.411Z"
   },
   {
    "duration": 367,
    "start_time": "2024-12-21T01:42:51.126Z"
   },
   {
    "duration": 97,
    "start_time": "2024-12-21T01:46:40.789Z"
   },
   {
    "duration": 162,
    "start_time": "2024-12-21T01:47:47.660Z"
   },
   {
    "duration": 166,
    "start_time": "2024-12-21T01:48:54.434Z"
   },
   {
    "duration": 162,
    "start_time": "2024-12-21T01:54:13.542Z"
   },
   {
    "duration": 163,
    "start_time": "2024-12-21T01:55:22.786Z"
   },
   {
    "duration": 151,
    "start_time": "2024-12-21T01:55:41.615Z"
   },
   {
    "duration": 7,
    "start_time": "2024-12-21T01:57:32.601Z"
   },
   {
    "duration": 7,
    "start_time": "2024-12-21T01:57:41.805Z"
   },
   {
    "duration": 10,
    "start_time": "2024-12-21T01:58:00.253Z"
   },
   {
    "duration": 7,
    "start_time": "2024-12-21T01:59:23.909Z"
   },
   {
    "duration": 7,
    "start_time": "2024-12-21T01:59:29.503Z"
   },
   {
    "duration": 40,
    "start_time": "2024-12-21T02:09:18.475Z"
   },
   {
    "duration": 14,
    "start_time": "2024-12-21T02:10:15.326Z"
   },
   {
    "duration": 6,
    "start_time": "2024-12-21T02:16:59.425Z"
   },
   {
    "duration": 6,
    "start_time": "2024-12-21T02:17:31.370Z"
   },
   {
    "duration": 7,
    "start_time": "2024-12-21T02:17:42.326Z"
   },
   {
    "duration": 8,
    "start_time": "2024-12-21T02:17:56.659Z"
   },
   {
    "duration": 8,
    "start_time": "2024-12-21T02:18:08.694Z"
   },
   {
    "duration": 6,
    "start_time": "2024-12-21T02:18:21.635Z"
   },
   {
    "duration": 8,
    "start_time": "2024-12-21T02:18:37.601Z"
   },
   {
    "duration": 14,
    "start_time": "2024-12-21T02:19:17.102Z"
   },
   {
    "duration": 8,
    "start_time": "2024-12-21T02:21:35.241Z"
   },
   {
    "duration": 7,
    "start_time": "2024-12-21T02:21:46.918Z"
   },
   {
    "duration": 6,
    "start_time": "2024-12-21T02:22:40.947Z"
   },
   {
    "duration": 6,
    "start_time": "2024-12-21T02:23:07.305Z"
   },
   {
    "duration": 4,
    "start_time": "2024-12-21T02:35:10.690Z"
   },
   {
    "duration": 11,
    "start_time": "2024-12-21T02:35:57.744Z"
   },
   {
    "duration": 818,
    "start_time": "2024-12-21T02:45:53.121Z"
   },
   {
    "duration": 162,
    "start_time": "2024-12-21T02:45:53.941Z"
   },
   {
    "duration": 9,
    "start_time": "2024-12-21T02:45:54.105Z"
   },
   {
    "duration": 9,
    "start_time": "2024-12-21T02:45:54.116Z"
   },
   {
    "duration": 10,
    "start_time": "2024-12-21T02:45:54.127Z"
   },
   {
    "duration": 2,
    "start_time": "2024-12-21T02:45:54.139Z"
   },
   {
    "duration": 3,
    "start_time": "2024-12-21T02:45:54.143Z"
   },
   {
    "duration": 3,
    "start_time": "2024-12-21T02:45:54.147Z"
   },
   {
    "duration": 2,
    "start_time": "2024-12-21T02:45:54.152Z"
   },
   {
    "duration": 2,
    "start_time": "2024-12-21T02:45:54.157Z"
   },
   {
    "duration": 3,
    "start_time": "2024-12-21T02:45:54.161Z"
   },
   {
    "duration": 43,
    "start_time": "2024-12-21T02:45:54.166Z"
   },
   {
    "duration": 2,
    "start_time": "2024-12-21T02:45:54.210Z"
   },
   {
    "duration": 2,
    "start_time": "2024-12-21T02:45:54.214Z"
   },
   {
    "duration": 2,
    "start_time": "2024-12-21T02:45:54.219Z"
   },
   {
    "duration": 3,
    "start_time": "2024-12-21T02:45:54.223Z"
   },
   {
    "duration": 2,
    "start_time": "2024-12-21T02:45:54.227Z"
   },
   {
    "duration": 3,
    "start_time": "2024-12-21T02:45:54.231Z"
   },
   {
    "duration": 2,
    "start_time": "2024-12-21T02:45:54.236Z"
   },
   {
    "duration": 3,
    "start_time": "2024-12-21T02:45:54.240Z"
   },
   {
    "duration": 3,
    "start_time": "2024-12-21T02:45:54.244Z"
   },
   {
    "duration": 3,
    "start_time": "2024-12-21T02:45:54.249Z"
   },
   {
    "duration": 3,
    "start_time": "2024-12-21T02:45:54.253Z"
   },
   {
    "duration": 3,
    "start_time": "2024-12-21T02:45:54.257Z"
   },
   {
    "duration": 47,
    "start_time": "2024-12-21T02:45:54.262Z"
   },
   {
    "duration": 3,
    "start_time": "2024-12-21T02:45:54.310Z"
   },
   {
    "duration": 2,
    "start_time": "2024-12-21T02:45:54.315Z"
   },
   {
    "duration": 1,
    "start_time": "2024-12-21T02:45:54.321Z"
   },
   {
    "duration": 3,
    "start_time": "2024-12-21T02:45:54.324Z"
   },
   {
    "duration": 159,
    "start_time": "2024-12-25T14:36:48.007Z"
   },
   {
    "duration": 2486,
    "start_time": "2024-12-25T14:36:55.193Z"
   },
   {
    "duration": 212,
    "start_time": "2024-12-25T14:36:57.682Z"
   },
   {
    "duration": 10,
    "start_time": "2024-12-25T14:36:57.896Z"
   },
   {
    "duration": 10,
    "start_time": "2024-12-25T14:36:57.908Z"
   },
   {
    "duration": 9,
    "start_time": "2024-12-25T14:36:57.920Z"
   },
   {
    "duration": 8,
    "start_time": "2024-12-25T14:36:57.930Z"
   },
   {
    "duration": 2,
    "start_time": "2024-12-25T14:36:57.940Z"
   },
   {
    "duration": 2,
    "start_time": "2024-12-25T14:36:57.944Z"
   },
   {
    "duration": 3,
    "start_time": "2024-12-25T14:36:57.948Z"
   },
   {
    "duration": 3,
    "start_time": "2024-12-25T14:36:57.952Z"
   },
   {
    "duration": 3,
    "start_time": "2024-12-25T14:36:57.956Z"
   },
   {
    "duration": 2,
    "start_time": "2024-12-25T14:36:57.961Z"
   },
   {
    "duration": 3,
    "start_time": "2024-12-25T14:36:57.965Z"
   },
   {
    "duration": 2,
    "start_time": "2024-12-25T14:36:58.011Z"
   },
   {
    "duration": 3,
    "start_time": "2024-12-25T14:36:58.014Z"
   },
   {
    "duration": 3,
    "start_time": "2024-12-25T14:36:58.018Z"
   },
   {
    "duration": 2,
    "start_time": "2024-12-25T14:36:58.023Z"
   },
   {
    "duration": 3,
    "start_time": "2024-12-25T14:36:58.027Z"
   },
   {
    "duration": 3,
    "start_time": "2024-12-25T14:36:58.031Z"
   },
   {
    "duration": 2,
    "start_time": "2024-12-25T14:36:58.036Z"
   },
   {
    "duration": 3,
    "start_time": "2024-12-25T14:36:58.040Z"
   },
   {
    "duration": 3,
    "start_time": "2024-12-25T14:36:58.044Z"
   },
   {
    "duration": 4,
    "start_time": "2024-12-25T14:36:58.048Z"
   },
   {
    "duration": 4,
    "start_time": "2024-12-25T14:36:58.053Z"
   },
   {
    "duration": 50,
    "start_time": "2024-12-25T14:36:58.059Z"
   },
   {
    "duration": 3,
    "start_time": "2024-12-25T14:36:58.110Z"
   },
   {
    "duration": 2,
    "start_time": "2024-12-25T14:36:58.115Z"
   },
   {
    "duration": 2,
    "start_time": "2024-12-25T14:36:58.119Z"
   },
   {
    "duration": 3,
    "start_time": "2024-12-25T14:36:58.123Z"
   },
   {
    "duration": 8,
    "start_time": "2024-12-25T14:37:28.697Z"
   },
   {
    "duration": 207,
    "start_time": "2024-12-25T14:54:39.957Z"
   },
   {
    "duration": 783,
    "start_time": "2024-12-25T14:54:51.350Z"
   },
   {
    "duration": 155,
    "start_time": "2024-12-25T14:54:52.137Z"
   },
   {
    "duration": 10,
    "start_time": "2024-12-25T14:54:52.293Z"
   },
   {
    "duration": 10,
    "start_time": "2024-12-25T14:54:52.309Z"
   },
   {
    "duration": 9,
    "start_time": "2024-12-25T14:54:52.320Z"
   },
   {
    "duration": 7,
    "start_time": "2024-12-25T14:54:52.331Z"
   },
   {
    "duration": 8,
    "start_time": "2024-12-25T14:54:52.340Z"
   },
   {
    "duration": 239,
    "start_time": "2024-12-25T14:54:52.350Z"
   },
   {
    "duration": 0,
    "start_time": "2024-12-25T14:54:52.592Z"
   },
   {
    "duration": 0,
    "start_time": "2024-12-25T14:54:52.593Z"
   },
   {
    "duration": 0,
    "start_time": "2024-12-25T14:54:52.594Z"
   },
   {
    "duration": 0,
    "start_time": "2024-12-25T14:54:52.596Z"
   },
   {
    "duration": 0,
    "start_time": "2024-12-25T14:54:52.597Z"
   },
   {
    "duration": 0,
    "start_time": "2024-12-25T14:54:52.609Z"
   },
   {
    "duration": 0,
    "start_time": "2024-12-25T14:54:52.611Z"
   },
   {
    "duration": 0,
    "start_time": "2024-12-25T14:54:52.612Z"
   },
   {
    "duration": 0,
    "start_time": "2024-12-25T14:54:52.614Z"
   },
   {
    "duration": 0,
    "start_time": "2024-12-25T14:54:52.614Z"
   },
   {
    "duration": 0,
    "start_time": "2024-12-25T14:54:52.615Z"
   },
   {
    "duration": 0,
    "start_time": "2024-12-25T14:54:52.616Z"
   },
   {
    "duration": 0,
    "start_time": "2024-12-25T14:54:52.617Z"
   },
   {
    "duration": 0,
    "start_time": "2024-12-25T14:54:52.620Z"
   },
   {
    "duration": 0,
    "start_time": "2024-12-25T14:54:52.621Z"
   },
   {
    "duration": 0,
    "start_time": "2024-12-25T14:54:52.622Z"
   },
   {
    "duration": 0,
    "start_time": "2024-12-25T14:54:52.624Z"
   },
   {
    "duration": 0,
    "start_time": "2024-12-25T14:54:52.625Z"
   },
   {
    "duration": 0,
    "start_time": "2024-12-25T14:54:52.626Z"
   },
   {
    "duration": 0,
    "start_time": "2024-12-25T14:54:52.627Z"
   },
   {
    "duration": 0,
    "start_time": "2024-12-25T14:54:52.628Z"
   },
   {
    "duration": 0,
    "start_time": "2024-12-25T14:54:52.629Z"
   },
   {
    "duration": 4,
    "start_time": "2024-12-25T14:55:17.538Z"
   },
   {
    "duration": 6,
    "start_time": "2024-12-25T14:57:45.800Z"
   },
   {
    "duration": 4,
    "start_time": "2024-12-25T14:58:32.049Z"
   },
   {
    "duration": 13,
    "start_time": "2024-12-25T14:58:42.124Z"
   },
   {
    "duration": 3,
    "start_time": "2024-12-25T14:59:05.271Z"
   },
   {
    "duration": 4,
    "start_time": "2024-12-25T14:59:10.715Z"
   },
   {
    "duration": 9,
    "start_time": "2024-12-25T14:59:16.997Z"
   },
   {
    "duration": 5,
    "start_time": "2024-12-25T14:59:51.318Z"
   },
   {
    "duration": 11,
    "start_time": "2024-12-25T15:12:23.000Z"
   },
   {
    "duration": 11,
    "start_time": "2024-12-25T15:12:49.445Z"
   },
   {
    "duration": 14,
    "start_time": "2024-12-25T15:29:23.198Z"
   },
   {
    "duration": 10,
    "start_time": "2024-12-25T15:29:36.642Z"
   },
   {
    "duration": 16,
    "start_time": "2024-12-25T15:30:01.021Z"
   },
   {
    "duration": 14,
    "start_time": "2024-12-25T15:30:51.346Z"
   },
   {
    "duration": 16,
    "start_time": "2024-12-25T15:30:59.779Z"
   },
   {
    "duration": 16,
    "start_time": "2024-12-25T15:32:14.693Z"
   },
   {
    "duration": 9,
    "start_time": "2024-12-25T15:36:16.511Z"
   },
   {
    "duration": 14,
    "start_time": "2024-12-25T15:45:46.710Z"
   },
   {
    "duration": 777,
    "start_time": "2024-12-25T15:45:53.362Z"
   },
   {
    "duration": 151,
    "start_time": "2024-12-25T15:45:54.143Z"
   },
   {
    "duration": 9,
    "start_time": "2024-12-25T15:45:54.296Z"
   },
   {
    "duration": 8,
    "start_time": "2024-12-25T15:45:54.307Z"
   },
   {
    "duration": 221,
    "start_time": "2024-12-25T15:45:54.318Z"
   },
   {
    "duration": 0,
    "start_time": "2024-12-25T15:45:54.542Z"
   },
   {
    "duration": 0,
    "start_time": "2024-12-25T15:45:54.543Z"
   },
   {
    "duration": 0,
    "start_time": "2024-12-25T15:45:54.544Z"
   },
   {
    "duration": 0,
    "start_time": "2024-12-25T15:45:54.545Z"
   },
   {
    "duration": 0,
    "start_time": "2024-12-25T15:45:54.546Z"
   },
   {
    "duration": 0,
    "start_time": "2024-12-25T15:45:54.547Z"
   },
   {
    "duration": 0,
    "start_time": "2024-12-25T15:45:54.549Z"
   },
   {
    "duration": 0,
    "start_time": "2024-12-25T15:45:54.550Z"
   },
   {
    "duration": 0,
    "start_time": "2024-12-25T15:45:54.552Z"
   },
   {
    "duration": 0,
    "start_time": "2024-12-25T15:45:54.554Z"
   },
   {
    "duration": 0,
    "start_time": "2024-12-25T15:45:54.556Z"
   },
   {
    "duration": 0,
    "start_time": "2024-12-25T15:45:54.557Z"
   },
   {
    "duration": 0,
    "start_time": "2024-12-25T15:45:54.559Z"
   },
   {
    "duration": 0,
    "start_time": "2024-12-25T15:45:54.560Z"
   },
   {
    "duration": 0,
    "start_time": "2024-12-25T15:45:54.561Z"
   },
   {
    "duration": 0,
    "start_time": "2024-12-25T15:45:54.563Z"
   },
   {
    "duration": 0,
    "start_time": "2024-12-25T15:45:54.565Z"
   },
   {
    "duration": 0,
    "start_time": "2024-12-25T15:45:54.566Z"
   },
   {
    "duration": 0,
    "start_time": "2024-12-25T15:45:54.608Z"
   },
   {
    "duration": 0,
    "start_time": "2024-12-25T15:45:54.610Z"
   },
   {
    "duration": 0,
    "start_time": "2024-12-25T15:45:54.611Z"
   },
   {
    "duration": 0,
    "start_time": "2024-12-25T15:45:54.613Z"
   },
   {
    "duration": 0,
    "start_time": "2024-12-25T15:45:54.614Z"
   },
   {
    "duration": 0,
    "start_time": "2024-12-25T15:45:54.616Z"
   },
   {
    "duration": 0,
    "start_time": "2024-12-25T15:45:54.618Z"
   },
   {
    "duration": 0,
    "start_time": "2024-12-25T15:45:54.619Z"
   },
   {
    "duration": 0,
    "start_time": "2024-12-25T15:45:54.621Z"
   },
   {
    "duration": 4,
    "start_time": "2024-12-25T15:46:12.338Z"
   },
   {
    "duration": 5,
    "start_time": "2024-12-25T15:46:22.828Z"
   },
   {
    "duration": 11,
    "start_time": "2024-12-25T15:46:32.005Z"
   },
   {
    "duration": 781,
    "start_time": "2024-12-25T16:18:12.225Z"
   },
   {
    "duration": 151,
    "start_time": "2024-12-25T16:18:13.009Z"
   },
   {
    "duration": 9,
    "start_time": "2024-12-25T16:18:13.161Z"
   },
   {
    "duration": 9,
    "start_time": "2024-12-25T16:18:13.172Z"
   },
   {
    "duration": 4,
    "start_time": "2024-12-25T16:18:13.183Z"
   },
   {
    "duration": 26,
    "start_time": "2024-12-25T16:18:13.188Z"
   },
   {
    "duration": 8,
    "start_time": "2024-12-25T16:18:13.215Z"
   },
   {
    "duration": 7,
    "start_time": "2024-12-25T16:18:13.225Z"
   },
   {
    "duration": 5,
    "start_time": "2024-12-25T16:18:13.234Z"
   },
   {
    "duration": 9,
    "start_time": "2024-12-25T16:18:13.243Z"
   },
   {
    "duration": 3,
    "start_time": "2024-12-25T16:18:13.253Z"
   },
   {
    "duration": 3,
    "start_time": "2024-12-25T16:18:13.257Z"
   },
   {
    "duration": 2,
    "start_time": "2024-12-25T16:18:13.262Z"
   },
   {
    "duration": 2,
    "start_time": "2024-12-25T16:18:13.266Z"
   },
   {
    "duration": 2,
    "start_time": "2024-12-25T16:18:13.310Z"
   },
   {
    "duration": 2,
    "start_time": "2024-12-25T16:18:13.314Z"
   },
   {
    "duration": 3,
    "start_time": "2024-12-25T16:18:13.318Z"
   },
   {
    "duration": 3,
    "start_time": "2024-12-25T16:18:13.322Z"
   },
   {
    "duration": 3,
    "start_time": "2024-12-25T16:18:13.326Z"
   },
   {
    "duration": 3,
    "start_time": "2024-12-25T16:18:13.331Z"
   },
   {
    "duration": 2,
    "start_time": "2024-12-25T16:18:13.336Z"
   },
   {
    "duration": 3,
    "start_time": "2024-12-25T16:18:13.339Z"
   },
   {
    "duration": 3,
    "start_time": "2024-12-25T16:18:13.344Z"
   },
   {
    "duration": 2,
    "start_time": "2024-12-25T16:18:13.349Z"
   },
   {
    "duration": 3,
    "start_time": "2024-12-25T16:18:13.353Z"
   },
   {
    "duration": 3,
    "start_time": "2024-12-25T16:18:13.357Z"
   },
   {
    "duration": 4,
    "start_time": "2024-12-25T16:18:13.361Z"
   },
   {
    "duration": 2,
    "start_time": "2024-12-25T16:18:13.412Z"
   },
   {
    "duration": 3,
    "start_time": "2024-12-25T16:18:13.416Z"
   },
   {
    "duration": 3,
    "start_time": "2024-12-25T16:18:13.420Z"
   },
   {
    "duration": 2,
    "start_time": "2024-12-25T16:18:13.425Z"
   },
   {
    "duration": 3,
    "start_time": "2024-12-25T16:18:13.429Z"
   },
   {
    "duration": 10,
    "start_time": "2024-12-25T16:19:21.031Z"
   },
   {
    "duration": 16,
    "start_time": "2024-12-25T16:19:31.423Z"
   },
   {
    "duration": 7,
    "start_time": "2024-12-25T16:20:05.943Z"
   },
   {
    "duration": 19,
    "start_time": "2024-12-25T16:25:16.179Z"
   },
   {
    "duration": 21,
    "start_time": "2024-12-25T16:25:35.944Z"
   },
   {
    "duration": 4,
    "start_time": "2024-12-25T16:28:40.473Z"
   },
   {
    "duration": 42,
    "start_time": "2024-12-25T16:28:50.457Z"
   },
   {
    "duration": 42,
    "start_time": "2024-12-25T16:29:06.389Z"
   },
   {
    "duration": 82,
    "start_time": "2024-12-25T16:29:20.721Z"
   },
   {
    "duration": 34,
    "start_time": "2024-12-25T16:30:04.605Z"
   },
   {
    "duration": 14,
    "start_time": "2024-12-25T16:31:32.871Z"
   },
   {
    "duration": 34,
    "start_time": "2024-12-25T16:43:48.931Z"
   },
   {
    "duration": 39,
    "start_time": "2024-12-25T16:44:08.334Z"
   },
   {
    "duration": 9,
    "start_time": "2024-12-25T16:45:20.975Z"
   },
   {
    "duration": 7,
    "start_time": "2024-12-25T16:45:31.529Z"
   },
   {
    "duration": 12,
    "start_time": "2024-12-25T16:45:42.991Z"
   },
   {
    "duration": 7,
    "start_time": "2024-12-25T16:46:36.364Z"
   },
   {
    "duration": 20,
    "start_time": "2024-12-25T16:49:04.633Z"
   },
   {
    "duration": 11,
    "start_time": "2024-12-25T16:52:27.018Z"
   },
   {
    "duration": 11,
    "start_time": "2024-12-25T16:59:57.354Z"
   },
   {
    "duration": 3,
    "start_time": "2024-12-25T17:01:01.460Z"
   },
   {
    "duration": 4,
    "start_time": "2024-12-25T17:01:13.078Z"
   },
   {
    "duration": 12,
    "start_time": "2024-12-25T17:01:42.539Z"
   },
   {
    "duration": 50,
    "start_time": "2024-12-25T17:04:16.767Z"
   },
   {
    "duration": 772,
    "start_time": "2024-12-25T17:04:39.569Z"
   },
   {
    "duration": 156,
    "start_time": "2024-12-25T17:04:40.345Z"
   },
   {
    "duration": 11,
    "start_time": "2024-12-25T17:04:40.503Z"
   },
   {
    "duration": 9,
    "start_time": "2024-12-25T17:04:40.517Z"
   },
   {
    "duration": 4,
    "start_time": "2024-12-25T17:04:40.528Z"
   },
   {
    "duration": 9,
    "start_time": "2024-12-25T17:04:40.534Z"
   },
   {
    "duration": 8,
    "start_time": "2024-12-25T17:04:40.544Z"
   },
   {
    "duration": 8,
    "start_time": "2024-12-25T17:04:40.553Z"
   },
   {
    "duration": 5,
    "start_time": "2024-12-25T17:04:40.562Z"
   },
   {
    "duration": 46,
    "start_time": "2024-12-25T17:04:40.570Z"
   },
   {
    "duration": 16,
    "start_time": "2024-12-25T17:04:40.618Z"
   },
   {
    "duration": 6,
    "start_time": "2024-12-25T17:04:40.636Z"
   },
   {
    "duration": 42,
    "start_time": "2024-12-25T17:04:40.643Z"
   },
   {
    "duration": 37,
    "start_time": "2024-12-25T17:04:40.708Z"
   },
   {
    "duration": 12,
    "start_time": "2024-12-25T17:04:40.747Z"
   },
   {
    "duration": 6,
    "start_time": "2024-12-25T17:04:40.760Z"
   },
   {
    "duration": 42,
    "start_time": "2024-12-25T17:04:40.767Z"
   },
   {
    "duration": 3,
    "start_time": "2024-12-25T17:04:40.811Z"
   },
   {
    "duration": 2,
    "start_time": "2024-12-25T17:04:40.816Z"
   },
   {
    "duration": 2,
    "start_time": "2024-12-25T17:04:40.820Z"
   },
   {
    "duration": 2,
    "start_time": "2024-12-25T17:04:40.824Z"
   },
   {
    "duration": 2,
    "start_time": "2024-12-25T17:04:40.828Z"
   },
   {
    "duration": 3,
    "start_time": "2024-12-25T17:04:40.832Z"
   },
   {
    "duration": 3,
    "start_time": "2024-12-25T17:04:40.836Z"
   },
   {
    "duration": 3,
    "start_time": "2024-12-25T17:04:40.840Z"
   },
   {
    "duration": 3,
    "start_time": "2024-12-25T17:04:40.844Z"
   },
   {
    "duration": 3,
    "start_time": "2024-12-25T17:04:40.849Z"
   },
   {
    "duration": 2,
    "start_time": "2024-12-25T17:04:40.855Z"
   },
   {
    "duration": 3,
    "start_time": "2024-12-25T17:04:40.858Z"
   },
   {
    "duration": 2,
    "start_time": "2024-12-25T17:04:40.909Z"
   },
   {
    "duration": 3,
    "start_time": "2024-12-25T17:04:40.913Z"
   },
   {
    "duration": 3,
    "start_time": "2024-12-25T17:04:40.917Z"
   },
   {
    "duration": 3,
    "start_time": "2024-12-25T17:04:40.921Z"
   },
   {
    "duration": 2,
    "start_time": "2024-12-25T17:04:40.926Z"
   },
   {
    "duration": 4,
    "start_time": "2024-12-25T17:04:40.929Z"
   },
   {
    "duration": 10,
    "start_time": "2024-12-25T17:06:52.033Z"
   },
   {
    "duration": 768,
    "start_time": "2024-12-25T17:14:33.364Z"
   },
   {
    "duration": 155,
    "start_time": "2024-12-25T17:14:34.134Z"
   },
   {
    "duration": 9,
    "start_time": "2024-12-25T17:14:34.291Z"
   },
   {
    "duration": 9,
    "start_time": "2024-12-25T17:14:34.310Z"
   },
   {
    "duration": 5,
    "start_time": "2024-12-25T17:14:34.320Z"
   },
   {
    "duration": 10,
    "start_time": "2024-12-25T17:14:34.327Z"
   },
   {
    "duration": 7,
    "start_time": "2024-12-25T17:14:34.339Z"
   },
   {
    "duration": 8,
    "start_time": "2024-12-25T17:14:34.348Z"
   },
   {
    "duration": 5,
    "start_time": "2024-12-25T17:14:34.357Z"
   },
   {
    "duration": 45,
    "start_time": "2024-12-25T17:14:34.366Z"
   },
   {
    "duration": 14,
    "start_time": "2024-12-25T17:14:34.413Z"
   },
   {
    "duration": 6,
    "start_time": "2024-12-25T17:14:34.429Z"
   },
   {
    "duration": 41,
    "start_time": "2024-12-25T17:14:34.437Z"
   },
   {
    "duration": 61,
    "start_time": "2024-12-25T17:14:34.480Z"
   },
   {
    "duration": 12,
    "start_time": "2024-12-25T17:14:34.543Z"
   },
   {
    "duration": 6,
    "start_time": "2024-12-25T17:14:34.556Z"
   },
   {
    "duration": 22,
    "start_time": "2024-12-25T17:14:34.564Z"
   },
   {
    "duration": 3,
    "start_time": "2024-12-25T17:14:34.609Z"
   },
   {
    "duration": 4,
    "start_time": "2024-12-25T17:14:34.613Z"
   },
   {
    "duration": 3,
    "start_time": "2024-12-25T17:14:34.618Z"
   },
   {
    "duration": 3,
    "start_time": "2024-12-25T17:14:34.622Z"
   },
   {
    "duration": 3,
    "start_time": "2024-12-25T17:14:34.627Z"
   },
   {
    "duration": 3,
    "start_time": "2024-12-25T17:14:34.631Z"
   },
   {
    "duration": 3,
    "start_time": "2024-12-25T17:14:34.636Z"
   },
   {
    "duration": 3,
    "start_time": "2024-12-25T17:14:34.640Z"
   },
   {
    "duration": 3,
    "start_time": "2024-12-25T17:14:34.646Z"
   },
   {
    "duration": 3,
    "start_time": "2024-12-25T17:14:34.650Z"
   },
   {
    "duration": 1,
    "start_time": "2024-12-25T17:14:34.658Z"
   },
   {
    "duration": 3,
    "start_time": "2024-12-25T17:14:34.661Z"
   },
   {
    "duration": 45,
    "start_time": "2024-12-25T17:14:34.665Z"
   },
   {
    "duration": 2,
    "start_time": "2024-12-25T17:14:34.712Z"
   },
   {
    "duration": 2,
    "start_time": "2024-12-25T17:14:34.716Z"
   },
   {
    "duration": 4,
    "start_time": "2024-12-25T17:14:34.720Z"
   },
   {
    "duration": 3,
    "start_time": "2024-12-25T17:14:34.725Z"
   },
   {
    "duration": 3,
    "start_time": "2024-12-25T17:14:34.729Z"
   },
   {
    "duration": 15,
    "start_time": "2024-12-25T17:15:27.540Z"
   },
   {
    "duration": 6,
    "start_time": "2024-12-25T17:15:41.134Z"
   },
   {
    "duration": 43,
    "start_time": "2024-12-25T17:22:18.127Z"
   },
   {
    "duration": 42,
    "start_time": "2024-12-25T17:22:29.777Z"
   },
   {
    "duration": 33,
    "start_time": "2024-12-25T17:26:53.578Z"
   },
   {
    "duration": 33,
    "start_time": "2024-12-25T17:27:09.263Z"
   },
   {
    "duration": 2,
    "start_time": "2024-12-25T17:32:07.563Z"
   },
   {
    "duration": 46,
    "start_time": "2024-12-25T17:51:34.151Z"
   },
   {
    "duration": 42,
    "start_time": "2024-12-25T17:53:31.240Z"
   },
   {
    "duration": 584,
    "start_time": "2024-12-25T17:56:16.563Z"
   },
   {
    "duration": 109,
    "start_time": "2024-12-25T17:56:27.805Z"
   },
   {
    "duration": 10,
    "start_time": "2024-12-25T17:56:52.182Z"
   },
   {
    "duration": 65,
    "start_time": "2024-12-25T17:58:42.290Z"
   },
   {
    "duration": 42,
    "start_time": "2024-12-25T17:59:01.618Z"
   },
   {
    "duration": 24,
    "start_time": "2024-12-25T18:02:37.257Z"
   },
   {
    "duration": 13,
    "start_time": "2024-12-25T18:03:20.879Z"
   },
   {
    "duration": 25,
    "start_time": "2024-12-25T18:05:15.331Z"
   },
   {
    "duration": 13,
    "start_time": "2024-12-25T18:05:34.055Z"
   },
   {
    "duration": 22,
    "start_time": "2024-12-25T18:05:48.735Z"
   },
   {
    "duration": 12,
    "start_time": "2024-12-25T18:06:14.532Z"
   },
   {
    "duration": 15,
    "start_time": "2024-12-25T18:09:12.976Z"
   },
   {
    "duration": 19,
    "start_time": "2024-12-25T18:09:28.213Z"
   },
   {
    "duration": 19,
    "start_time": "2024-12-25T18:10:04.891Z"
   },
   {
    "duration": 14,
    "start_time": "2024-12-25T18:10:39.170Z"
   },
   {
    "duration": 21,
    "start_time": "2024-12-25T18:10:57.894Z"
   },
   {
    "duration": 22,
    "start_time": "2024-12-25T18:13:52.860Z"
   },
   {
    "duration": 13,
    "start_time": "2024-12-25T18:14:08.537Z"
   },
   {
    "duration": 16,
    "start_time": "2024-12-25T18:14:22.657Z"
   },
   {
    "duration": 21,
    "start_time": "2024-12-25T18:17:46.409Z"
   },
   {
    "duration": 746,
    "start_time": "2024-12-25T18:18:15.800Z"
   },
   {
    "duration": 156,
    "start_time": "2024-12-25T18:18:16.549Z"
   },
   {
    "duration": 10,
    "start_time": "2024-12-25T18:18:16.706Z"
   },
   {
    "duration": 10,
    "start_time": "2024-12-25T18:18:16.718Z"
   },
   {
    "duration": 5,
    "start_time": "2024-12-25T18:18:16.729Z"
   },
   {
    "duration": 10,
    "start_time": "2024-12-25T18:18:16.736Z"
   },
   {
    "duration": 8,
    "start_time": "2024-12-25T18:18:16.748Z"
   },
   {
    "duration": 9,
    "start_time": "2024-12-25T18:18:16.757Z"
   },
   {
    "duration": 42,
    "start_time": "2024-12-25T18:18:16.768Z"
   },
   {
    "duration": 9,
    "start_time": "2024-12-25T18:18:16.814Z"
   },
   {
    "duration": 15,
    "start_time": "2024-12-25T18:18:16.825Z"
   },
   {
    "duration": 6,
    "start_time": "2024-12-25T18:18:16.841Z"
   },
   {
    "duration": 65,
    "start_time": "2024-12-25T18:18:16.850Z"
   },
   {
    "duration": 43,
    "start_time": "2024-12-25T18:18:16.917Z"
   },
   {
    "duration": 13,
    "start_time": "2024-12-25T18:18:16.961Z"
   },
   {
    "duration": 6,
    "start_time": "2024-12-25T18:18:16.975Z"
   },
   {
    "duration": 45,
    "start_time": "2024-12-25T18:18:16.983Z"
   },
   {
    "duration": 9,
    "start_time": "2024-12-25T18:18:17.031Z"
   },
   {
    "duration": 14,
    "start_time": "2024-12-25T18:18:17.042Z"
   },
   {
    "duration": 6,
    "start_time": "2024-12-25T18:18:17.058Z"
   },
   {
    "duration": 65,
    "start_time": "2024-12-25T18:18:17.066Z"
   },
   {
    "duration": 37,
    "start_time": "2024-12-25T18:18:17.133Z"
   },
   {
    "duration": 2,
    "start_time": "2024-12-25T18:18:17.172Z"
   },
   {
    "duration": 39,
    "start_time": "2024-12-25T18:18:17.176Z"
   },
   {
    "duration": 35,
    "start_time": "2024-12-25T18:18:17.217Z"
   },
   {
    "duration": 3,
    "start_time": "2024-12-25T18:18:17.254Z"
   },
   {
    "duration": 155,
    "start_time": "2024-12-25T18:18:17.259Z"
   },
   {
    "duration": 0,
    "start_time": "2024-12-25T18:18:17.416Z"
   },
   {
    "duration": 0,
    "start_time": "2024-12-25T18:18:17.419Z"
   },
   {
    "duration": 0,
    "start_time": "2024-12-25T18:18:17.420Z"
   },
   {
    "duration": 0,
    "start_time": "2024-12-25T18:18:17.422Z"
   },
   {
    "duration": 0,
    "start_time": "2024-12-25T18:18:17.424Z"
   },
   {
    "duration": 0,
    "start_time": "2024-12-25T18:18:17.425Z"
   },
   {
    "duration": 0,
    "start_time": "2024-12-25T18:18:17.427Z"
   },
   {
    "duration": 0,
    "start_time": "2024-12-25T18:18:17.428Z"
   },
   {
    "duration": 0,
    "start_time": "2024-12-25T18:18:17.428Z"
   },
   {
    "duration": 0,
    "start_time": "2024-12-25T18:18:17.430Z"
   },
   {
    "duration": 0,
    "start_time": "2024-12-25T18:18:17.431Z"
   },
   {
    "duration": 18,
    "start_time": "2024-12-25T18:18:57.435Z"
   },
   {
    "duration": 15,
    "start_time": "2024-12-25T18:20:12.006Z"
   },
   {
    "duration": 36,
    "start_time": "2024-12-25T18:20:41.906Z"
   },
   {
    "duration": 4,
    "start_time": "2024-12-25T18:22:09.583Z"
   },
   {
    "duration": 8,
    "start_time": "2024-12-25T18:22:16.586Z"
   },
   {
    "duration": 14,
    "start_time": "2024-12-25T18:22:24.701Z"
   },
   {
    "duration": 7,
    "start_time": "2024-12-25T18:29:26.193Z"
   },
   {
    "duration": 12,
    "start_time": "2024-12-25T18:29:37.035Z"
   },
   {
    "duration": 483,
    "start_time": "2024-12-25T18:31:01.653Z"
   },
   {
    "duration": 47,
    "start_time": "2024-12-25T18:31:06.727Z"
   },
   {
    "duration": 46,
    "start_time": "2024-12-25T18:31:14.204Z"
   },
   {
    "duration": 734,
    "start_time": "2024-12-25T18:31:25.114Z"
   },
   {
    "duration": 158,
    "start_time": "2024-12-25T18:31:25.851Z"
   },
   {
    "duration": 9,
    "start_time": "2024-12-25T18:31:26.011Z"
   },
   {
    "duration": 9,
    "start_time": "2024-12-25T18:31:26.023Z"
   },
   {
    "duration": 4,
    "start_time": "2024-12-25T18:31:26.034Z"
   },
   {
    "duration": 9,
    "start_time": "2024-12-25T18:31:26.040Z"
   },
   {
    "duration": 7,
    "start_time": "2024-12-25T18:31:26.051Z"
   },
   {
    "duration": 8,
    "start_time": "2024-12-25T18:31:26.059Z"
   },
   {
    "duration": 39,
    "start_time": "2024-12-25T18:31:26.070Z"
   },
   {
    "duration": 8,
    "start_time": "2024-12-25T18:31:26.113Z"
   },
   {
    "duration": 14,
    "start_time": "2024-12-25T18:31:26.123Z"
   },
   {
    "duration": 6,
    "start_time": "2024-12-25T18:31:26.139Z"
   },
   {
    "duration": 63,
    "start_time": "2024-12-25T18:31:26.147Z"
   },
   {
    "duration": 43,
    "start_time": "2024-12-25T18:31:26.212Z"
   },
   {
    "duration": 11,
    "start_time": "2024-12-25T18:31:26.257Z"
   },
   {
    "duration": 6,
    "start_time": "2024-12-25T18:31:26.270Z"
   },
   {
    "duration": 46,
    "start_time": "2024-12-25T18:31:26.277Z"
   },
   {
    "duration": 9,
    "start_time": "2024-12-25T18:31:26.325Z"
   },
   {
    "duration": 14,
    "start_time": "2024-12-25T18:31:26.335Z"
   },
   {
    "duration": 7,
    "start_time": "2024-12-25T18:31:26.350Z"
   },
   {
    "duration": 68,
    "start_time": "2024-12-25T18:31:26.359Z"
   },
   {
    "duration": 38,
    "start_time": "2024-12-25T18:31:26.429Z"
   },
   {
    "duration": 2,
    "start_time": "2024-12-25T18:31:26.469Z"
   },
   {
    "duration": 36,
    "start_time": "2024-12-25T18:31:26.473Z"
   },
   {
    "duration": 15,
    "start_time": "2024-12-25T18:31:26.511Z"
   },
   {
    "duration": 605,
    "start_time": "2024-12-25T18:31:26.528Z"
   },
   {
    "duration": 0,
    "start_time": "2024-12-25T18:31:27.136Z"
   },
   {
    "duration": 0,
    "start_time": "2024-12-25T18:31:27.137Z"
   },
   {
    "duration": 0,
    "start_time": "2024-12-25T18:31:27.138Z"
   },
   {
    "duration": 0,
    "start_time": "2024-12-25T18:31:27.140Z"
   },
   {
    "duration": 0,
    "start_time": "2024-12-25T18:31:27.141Z"
   },
   {
    "duration": 0,
    "start_time": "2024-12-25T18:31:27.142Z"
   },
   {
    "duration": 0,
    "start_time": "2024-12-25T18:31:27.143Z"
   },
   {
    "duration": 0,
    "start_time": "2024-12-25T18:31:27.144Z"
   },
   {
    "duration": 0,
    "start_time": "2024-12-25T18:31:27.146Z"
   },
   {
    "duration": 0,
    "start_time": "2024-12-25T18:31:27.147Z"
   },
   {
    "duration": 0,
    "start_time": "2024-12-25T18:31:27.147Z"
   },
   {
    "duration": 0,
    "start_time": "2024-12-25T18:31:27.149Z"
   },
   {
    "duration": 12,
    "start_time": "2024-12-25T18:32:00.918Z"
   },
   {
    "duration": 47,
    "start_time": "2024-12-25T18:32:12.612Z"
   },
   {
    "duration": 48,
    "start_time": "2024-12-25T18:32:33.327Z"
   },
   {
    "duration": 13,
    "start_time": "2024-12-25T18:33:55.051Z"
   },
   {
    "duration": 13,
    "start_time": "2024-12-25T18:35:21.945Z"
   },
   {
    "duration": 15,
    "start_time": "2024-12-25T18:35:45.477Z"
   },
   {
    "duration": 16,
    "start_time": "2024-12-25T18:35:58.515Z"
   },
   {
    "duration": 6,
    "start_time": "2024-12-25T18:39:55.867Z"
   },
   {
    "duration": 6,
    "start_time": "2024-12-25T18:39:58.565Z"
   },
   {
    "duration": 12,
    "start_time": "2024-12-25T18:40:08.730Z"
   },
   {
    "duration": 4,
    "start_time": "2024-12-25T18:41:08.031Z"
   },
   {
    "duration": 4,
    "start_time": "2024-12-25T18:41:14.409Z"
   },
   {
    "duration": 15,
    "start_time": "2024-12-25T18:41:28.753Z"
   },
   {
    "duration": 12,
    "start_time": "2024-12-25T18:41:41.885Z"
   },
   {
    "duration": 86,
    "start_time": "2024-12-25T18:41:47.658Z"
   },
   {
    "duration": 15,
    "start_time": "2024-12-25T18:46:41.375Z"
   },
   {
    "duration": 12,
    "start_time": "2024-12-25T18:49:52.705Z"
   },
   {
    "duration": 15,
    "start_time": "2024-12-25T18:50:29.450Z"
   },
   {
    "duration": 19,
    "start_time": "2024-12-25T18:51:06.045Z"
   },
   {
    "duration": 20,
    "start_time": "2024-12-25T18:54:32.277Z"
   },
   {
    "duration": 6,
    "start_time": "2024-12-25T18:55:28.639Z"
   },
   {
    "duration": 738,
    "start_time": "2024-12-25T18:56:03.300Z"
   },
   {
    "duration": 160,
    "start_time": "2024-12-25T18:56:04.040Z"
   },
   {
    "duration": 9,
    "start_time": "2024-12-25T18:56:04.202Z"
   },
   {
    "duration": 8,
    "start_time": "2024-12-25T18:56:04.214Z"
   },
   {
    "duration": 5,
    "start_time": "2024-12-25T18:56:04.224Z"
   },
   {
    "duration": 9,
    "start_time": "2024-12-25T18:56:04.230Z"
   },
   {
    "duration": 9,
    "start_time": "2024-12-25T18:56:04.240Z"
   },
   {
    "duration": 7,
    "start_time": "2024-12-25T18:56:04.251Z"
   },
   {
    "duration": 4,
    "start_time": "2024-12-25T18:56:04.260Z"
   },
   {
    "duration": 46,
    "start_time": "2024-12-25T18:56:04.268Z"
   },
   {
    "duration": 15,
    "start_time": "2024-12-25T18:56:04.316Z"
   },
   {
    "duration": 6,
    "start_time": "2024-12-25T18:56:04.332Z"
   },
   {
    "duration": 40,
    "start_time": "2024-12-25T18:56:04.340Z"
   },
   {
    "duration": 65,
    "start_time": "2024-12-25T18:56:04.381Z"
   },
   {
    "duration": 12,
    "start_time": "2024-12-25T18:56:04.447Z"
   },
   {
    "duration": 7,
    "start_time": "2024-12-25T18:56:04.460Z"
   },
   {
    "duration": 43,
    "start_time": "2024-12-25T18:56:04.469Z"
   },
   {
    "duration": 9,
    "start_time": "2024-12-25T18:56:04.513Z"
   },
   {
    "duration": 14,
    "start_time": "2024-12-25T18:56:04.523Z"
   },
   {
    "duration": 6,
    "start_time": "2024-12-25T18:56:04.538Z"
   },
   {
    "duration": 67,
    "start_time": "2024-12-25T18:56:04.547Z"
   },
   {
    "duration": 37,
    "start_time": "2024-12-25T18:56:04.616Z"
   },
   {
    "duration": 3,
    "start_time": "2024-12-25T18:56:04.654Z"
   },
   {
    "duration": 17,
    "start_time": "2024-12-25T18:56:04.658Z"
   },
   {
    "duration": 37,
    "start_time": "2024-12-25T18:56:04.677Z"
   },
   {
    "duration": 12,
    "start_time": "2024-12-25T18:56:04.715Z"
   },
   {
    "duration": 13,
    "start_time": "2024-12-25T18:56:04.729Z"
   },
   {
    "duration": 17,
    "start_time": "2024-12-25T18:56:04.745Z"
   },
   {
    "duration": 2,
    "start_time": "2024-12-25T18:56:04.764Z"
   },
   {
    "duration": 2,
    "start_time": "2024-12-25T18:56:04.768Z"
   },
   {
    "duration": 3,
    "start_time": "2024-12-25T18:56:04.772Z"
   },
   {
    "duration": 2,
    "start_time": "2024-12-25T18:56:04.810Z"
   },
   {
    "duration": 2,
    "start_time": "2024-12-25T18:56:04.814Z"
   },
   {
    "duration": 2,
    "start_time": "2024-12-25T18:56:04.819Z"
   },
   {
    "duration": 2,
    "start_time": "2024-12-25T18:56:04.823Z"
   },
   {
    "duration": 3,
    "start_time": "2024-12-25T18:56:04.826Z"
   },
   {
    "duration": 3,
    "start_time": "2024-12-25T18:56:04.830Z"
   },
   {
    "duration": 3,
    "start_time": "2024-12-25T18:56:04.835Z"
   },
   {
    "duration": 5,
    "start_time": "2024-12-25T19:51:39.874Z"
   },
   {
    "duration": 9,
    "start_time": "2024-12-25T19:57:23.304Z"
   },
   {
    "duration": 3,
    "start_time": "2024-12-25T20:03:49.177Z"
   },
   {
    "duration": 214,
    "start_time": "2024-12-25T20:08:28.920Z"
   },
   {
    "duration": 760,
    "start_time": "2024-12-25T20:08:45.976Z"
   },
   {
    "duration": 162,
    "start_time": "2024-12-25T20:08:46.739Z"
   },
   {
    "duration": 9,
    "start_time": "2024-12-25T20:08:46.906Z"
   },
   {
    "duration": 10,
    "start_time": "2024-12-25T20:08:46.917Z"
   },
   {
    "duration": 5,
    "start_time": "2024-12-25T20:08:46.928Z"
   },
   {
    "duration": 9,
    "start_time": "2024-12-25T20:08:46.935Z"
   },
   {
    "duration": 8,
    "start_time": "2024-12-25T20:08:46.946Z"
   },
   {
    "duration": 8,
    "start_time": "2024-12-25T20:08:46.956Z"
   },
   {
    "duration": 5,
    "start_time": "2024-12-25T20:08:46.967Z"
   },
   {
    "duration": 44,
    "start_time": "2024-12-25T20:08:46.973Z"
   },
   {
    "duration": 15,
    "start_time": "2024-12-25T20:08:47.019Z"
   },
   {
    "duration": 6,
    "start_time": "2024-12-25T20:08:47.035Z"
   },
   {
    "duration": 40,
    "start_time": "2024-12-25T20:08:47.043Z"
   },
   {
    "duration": 44,
    "start_time": "2024-12-25T20:08:47.109Z"
   },
   {
    "duration": 11,
    "start_time": "2024-12-25T20:08:47.155Z"
   },
   {
    "duration": 6,
    "start_time": "2024-12-25T20:08:47.168Z"
   },
   {
    "duration": 57,
    "start_time": "2024-12-25T20:08:47.176Z"
   },
   {
    "duration": 11,
    "start_time": "2024-12-25T20:08:47.235Z"
   },
   {
    "duration": 17,
    "start_time": "2024-12-25T20:08:47.248Z"
   },
   {
    "duration": 7,
    "start_time": "2024-12-25T20:08:47.267Z"
   },
   {
    "duration": 66,
    "start_time": "2024-12-25T20:08:47.276Z"
   },
   {
    "duration": 39,
    "start_time": "2024-12-25T20:08:47.344Z"
   },
   {
    "duration": 2,
    "start_time": "2024-12-25T20:08:47.385Z"
   },
   {
    "duration": 36,
    "start_time": "2024-12-25T20:08:47.389Z"
   },
   {
    "duration": 17,
    "start_time": "2024-12-25T20:08:47.426Z"
   },
   {
    "duration": 11,
    "start_time": "2024-12-25T20:08:47.444Z"
   },
   {
    "duration": 12,
    "start_time": "2024-12-25T20:08:47.460Z"
   },
   {
    "duration": 49,
    "start_time": "2024-12-25T20:08:47.474Z"
   },
   {
    "duration": 3,
    "start_time": "2024-12-25T20:08:47.525Z"
   },
   {
    "duration": 228,
    "start_time": "2024-12-25T20:08:47.529Z"
   },
   {
    "duration": 0,
    "start_time": "2024-12-25T20:08:47.759Z"
   },
   {
    "duration": 0,
    "start_time": "2024-12-25T20:08:47.760Z"
   },
   {
    "duration": 0,
    "start_time": "2024-12-25T20:08:47.762Z"
   },
   {
    "duration": 0,
    "start_time": "2024-12-25T20:08:47.762Z"
   },
   {
    "duration": 0,
    "start_time": "2024-12-25T20:08:47.764Z"
   },
   {
    "duration": 0,
    "start_time": "2024-12-25T20:08:47.765Z"
   },
   {
    "duration": 0,
    "start_time": "2024-12-25T20:08:47.766Z"
   },
   {
    "duration": 0,
    "start_time": "2024-12-25T20:08:47.767Z"
   },
   {
    "duration": 19,
    "start_time": "2024-12-25T20:09:04.401Z"
   },
   {
    "duration": 16,
    "start_time": "2024-12-25T20:09:55.997Z"
   },
   {
    "duration": 20,
    "start_time": "2024-12-25T20:11:00.207Z"
   },
   {
    "duration": 36,
    "start_time": "2024-12-25T20:11:10.562Z"
   },
   {
    "duration": 36,
    "start_time": "2024-12-25T20:13:22.221Z"
   },
   {
    "duration": 35,
    "start_time": "2024-12-25T20:13:55.921Z"
   },
   {
    "duration": 40,
    "start_time": "2024-12-25T20:16:29.376Z"
   },
   {
    "duration": 36,
    "start_time": "2024-12-25T20:16:56.131Z"
   },
   {
    "duration": 29,
    "start_time": "2024-12-25T20:17:27.140Z"
   },
   {
    "duration": 37,
    "start_time": "2024-12-25T20:17:51.494Z"
   },
   {
    "duration": 36,
    "start_time": "2024-12-25T20:23:06.391Z"
   },
   {
    "duration": 290,
    "start_time": "2024-12-25T20:23:14.574Z"
   },
   {
    "duration": 36,
    "start_time": "2024-12-25T20:23:19.341Z"
   },
   {
    "duration": 9,
    "start_time": "2024-12-25T20:25:09.789Z"
   },
   {
    "duration": 165,
    "start_time": "2024-12-25T20:28:24.850Z"
   },
   {
    "duration": 160,
    "start_time": "2024-12-25T20:35:34.625Z"
   },
   {
    "duration": 5,
    "start_time": "2024-12-25T20:40:07.925Z"
   },
   {
    "duration": 16,
    "start_time": "2024-12-25T20:40:19.959Z"
   },
   {
    "duration": 5,
    "start_time": "2024-12-25T20:40:27.462Z"
   },
   {
    "duration": 5,
    "start_time": "2024-12-25T20:40:45.963Z"
   },
   {
    "duration": 5,
    "start_time": "2024-12-25T20:40:49.631Z"
   },
   {
    "duration": 5,
    "start_time": "2024-12-25T20:41:55.645Z"
   },
   {
    "duration": 14,
    "start_time": "2024-12-25T20:47:53.774Z"
   },
   {
    "duration": 66,
    "start_time": "2024-12-25T20:48:35.943Z"
   },
   {
    "duration": 808,
    "start_time": "2024-12-25T20:48:41.582Z"
   },
   {
    "duration": 156,
    "start_time": "2024-12-25T20:48:42.392Z"
   },
   {
    "duration": 9,
    "start_time": "2024-12-25T20:48:42.549Z"
   },
   {
    "duration": 9,
    "start_time": "2024-12-25T20:48:42.560Z"
   },
   {
    "duration": 4,
    "start_time": "2024-12-25T20:48:42.572Z"
   },
   {
    "duration": 9,
    "start_time": "2024-12-25T20:48:42.578Z"
   },
   {
    "duration": 26,
    "start_time": "2024-12-25T20:48:42.589Z"
   },
   {
    "duration": 8,
    "start_time": "2024-12-25T20:48:42.616Z"
   },
   {
    "duration": 5,
    "start_time": "2024-12-25T20:48:42.626Z"
   },
   {
    "duration": 8,
    "start_time": "2024-12-25T20:48:42.634Z"
   },
   {
    "duration": 15,
    "start_time": "2024-12-25T20:48:42.644Z"
   },
   {
    "duration": 8,
    "start_time": "2024-12-25T20:48:42.660Z"
   },
   {
    "duration": 69,
    "start_time": "2024-12-25T20:48:42.669Z"
   },
   {
    "duration": 43,
    "start_time": "2024-12-25T20:48:42.740Z"
   },
   {
    "duration": 25,
    "start_time": "2024-12-25T20:48:42.785Z"
   },
   {
    "duration": 6,
    "start_time": "2024-12-25T20:48:42.811Z"
   },
   {
    "duration": 21,
    "start_time": "2024-12-25T20:48:42.819Z"
   },
   {
    "duration": 9,
    "start_time": "2024-12-25T20:48:42.842Z"
   },
   {
    "duration": 13,
    "start_time": "2024-12-25T20:48:42.852Z"
   },
   {
    "duration": 6,
    "start_time": "2024-12-25T20:48:42.867Z"
   },
   {
    "duration": 42,
    "start_time": "2024-12-25T20:48:42.909Z"
   },
   {
    "duration": 38,
    "start_time": "2024-12-25T20:48:42.953Z"
   },
   {
    "duration": 17,
    "start_time": "2024-12-25T20:48:42.992Z"
   },
   {
    "duration": 16,
    "start_time": "2024-12-25T20:48:43.011Z"
   },
   {
    "duration": 15,
    "start_time": "2024-12-25T20:48:43.028Z"
   },
   {
    "duration": 13,
    "start_time": "2024-12-25T20:48:43.045Z"
   },
   {
    "duration": 14,
    "start_time": "2024-12-25T20:48:43.059Z"
   },
   {
    "duration": 48,
    "start_time": "2024-12-25T20:48:43.077Z"
   },
   {
    "duration": 3,
    "start_time": "2024-12-25T20:48:43.126Z"
   },
   {
    "duration": 41,
    "start_time": "2024-12-25T20:48:43.131Z"
   },
   {
    "duration": 181,
    "start_time": "2024-12-25T20:48:43.174Z"
   },
   {
    "duration": 178,
    "start_time": "2024-12-25T20:48:43.357Z"
   },
   {
    "duration": 4,
    "start_time": "2024-12-25T20:48:43.538Z"
   },
   {
    "duration": 256,
    "start_time": "2024-12-25T20:48:43.544Z"
   },
   {
    "duration": 8,
    "start_time": "2024-12-25T20:48:43.801Z"
   },
   {
    "duration": 3,
    "start_time": "2024-12-25T20:48:43.811Z"
   },
   {
    "duration": 2,
    "start_time": "2024-12-25T20:48:43.816Z"
   },
   {
    "duration": 3,
    "start_time": "2024-12-25T20:48:43.820Z"
   },
   {
    "duration": 9,
    "start_time": "2024-12-25T20:50:57.790Z"
   },
   {
    "duration": 153,
    "start_time": "2024-12-25T21:14:15.399Z"
   },
   {
    "duration": 220,
    "start_time": "2024-12-25T21:14:49.500Z"
   },
   {
    "duration": 164,
    "start_time": "2024-12-25T21:14:57.765Z"
   },
   {
    "duration": 2691,
    "start_time": "2024-12-26T08:08:41.275Z"
   },
   {
    "duration": 229,
    "start_time": "2024-12-26T08:08:43.969Z"
   },
   {
    "duration": 10,
    "start_time": "2024-12-26T08:08:44.199Z"
   },
   {
    "duration": 9,
    "start_time": "2024-12-26T08:08:44.211Z"
   },
   {
    "duration": 5,
    "start_time": "2024-12-26T08:08:44.224Z"
   },
   {
    "duration": 11,
    "start_time": "2024-12-26T08:08:44.230Z"
   },
   {
    "duration": 9,
    "start_time": "2024-12-26T08:08:44.243Z"
   },
   {
    "duration": 9,
    "start_time": "2024-12-26T08:08:44.253Z"
   },
   {
    "duration": 5,
    "start_time": "2024-12-26T08:08:44.263Z"
   },
   {
    "duration": 10,
    "start_time": "2024-12-26T08:08:44.271Z"
   },
   {
    "duration": 14,
    "start_time": "2024-12-26T08:08:44.282Z"
   },
   {
    "duration": 39,
    "start_time": "2024-12-26T08:08:44.298Z"
   },
   {
    "duration": 40,
    "start_time": "2024-12-26T08:08:44.338Z"
   },
   {
    "duration": 59,
    "start_time": "2024-12-26T08:08:44.380Z"
   },
   {
    "duration": 11,
    "start_time": "2024-12-26T08:08:44.441Z"
   },
   {
    "duration": 6,
    "start_time": "2024-12-26T08:08:44.453Z"
   },
   {
    "duration": 20,
    "start_time": "2024-12-26T08:08:44.460Z"
   },
   {
    "duration": 9,
    "start_time": "2024-12-26T08:08:44.482Z"
   },
   {
    "duration": 44,
    "start_time": "2024-12-26T08:08:44.493Z"
   },
   {
    "duration": 8,
    "start_time": "2024-12-26T08:08:44.539Z"
   },
   {
    "duration": 45,
    "start_time": "2024-12-26T08:08:44.549Z"
   },
   {
    "duration": 54,
    "start_time": "2024-12-26T08:08:44.595Z"
   },
   {
    "duration": 2,
    "start_time": "2024-12-26T08:08:44.651Z"
   },
   {
    "duration": 18,
    "start_time": "2024-12-26T08:08:44.654Z"
   },
   {
    "duration": 17,
    "start_time": "2024-12-26T08:08:44.673Z"
   },
   {
    "duration": 12,
    "start_time": "2024-12-26T08:08:44.692Z"
   },
   {
    "duration": 15,
    "start_time": "2024-12-26T08:08:44.731Z"
   },
   {
    "duration": 17,
    "start_time": "2024-12-26T08:08:44.750Z"
   },
   {
    "duration": 3,
    "start_time": "2024-12-26T08:08:44.769Z"
   },
   {
    "duration": 58,
    "start_time": "2024-12-26T08:08:44.774Z"
   },
   {
    "duration": 176,
    "start_time": "2024-12-26T08:08:44.833Z"
   },
   {
    "duration": 174,
    "start_time": "2024-12-26T08:08:45.011Z"
   },
   {
    "duration": 5,
    "start_time": "2024-12-26T08:08:45.187Z"
   },
   {
    "duration": 210,
    "start_time": "2024-12-26T08:08:45.193Z"
   },
   {
    "duration": 295,
    "start_time": "2024-12-26T08:08:45.404Z"
   },
   {
    "duration": 0,
    "start_time": "2024-12-26T08:08:45.701Z"
   },
   {
    "duration": 0,
    "start_time": "2024-12-26T08:08:45.703Z"
   },
   {
    "duration": 0,
    "start_time": "2024-12-26T08:08:45.704Z"
   },
   {
    "duration": 0,
    "start_time": "2024-12-26T08:08:45.706Z"
   },
   {
    "duration": 20,
    "start_time": "2024-12-26T08:09:09.319Z"
   },
   {
    "duration": 8,
    "start_time": "2024-12-26T08:09:13.874Z"
   },
   {
    "duration": 11,
    "start_time": "2024-12-26T08:09:24.720Z"
   },
   {
    "duration": 147,
    "start_time": "2024-12-26T08:10:17.678Z"
   },
   {
    "duration": 10,
    "start_time": "2024-12-26T08:10:31.266Z"
   },
   {
    "duration": 6,
    "start_time": "2024-12-26T08:15:09.489Z"
   },
   {
    "duration": 108,
    "start_time": "2024-12-26T08:16:20.003Z"
   },
   {
    "duration": 107,
    "start_time": "2024-12-26T08:16:32.047Z"
   },
   {
    "duration": 142,
    "start_time": "2024-12-26T08:20:25.031Z"
   },
   {
    "duration": 3,
    "start_time": "2024-12-26T08:22:30.589Z"
   },
   {
    "duration": 17,
    "start_time": "2024-12-26T08:26:42.880Z"
   },
   {
    "duration": 112,
    "start_time": "2024-12-26T08:26:59.046Z"
   },
   {
    "duration": 44,
    "start_time": "2024-12-26T08:45:10.615Z"
   },
   {
    "duration": 34,
    "start_time": "2024-12-26T08:46:00.260Z"
   },
   {
    "duration": 39,
    "start_time": "2024-12-26T08:46:29.194Z"
   },
   {
    "duration": 35,
    "start_time": "2024-12-26T08:46:43.384Z"
   },
   {
    "duration": 37,
    "start_time": "2024-12-26T08:47:34.303Z"
   },
   {
    "duration": 38,
    "start_time": "2024-12-26T08:48:41.963Z"
   },
   {
    "duration": 7,
    "start_time": "2024-12-26T08:50:31.014Z"
   },
   {
    "duration": 824,
    "start_time": "2024-12-26T08:50:39.796Z"
   },
   {
    "duration": 159,
    "start_time": "2024-12-26T08:50:40.622Z"
   },
   {
    "duration": 10,
    "start_time": "2024-12-26T08:50:40.782Z"
   },
   {
    "duration": 9,
    "start_time": "2024-12-26T08:50:40.794Z"
   },
   {
    "duration": 4,
    "start_time": "2024-12-26T08:50:40.805Z"
   },
   {
    "duration": 23,
    "start_time": "2024-12-26T08:50:40.811Z"
   },
   {
    "duration": 9,
    "start_time": "2024-12-26T08:50:40.835Z"
   },
   {
    "duration": 8,
    "start_time": "2024-12-26T08:50:40.846Z"
   },
   {
    "duration": 4,
    "start_time": "2024-12-26T08:50:40.856Z"
   },
   {
    "duration": 8,
    "start_time": "2024-12-26T08:50:40.863Z"
   },
   {
    "duration": 14,
    "start_time": "2024-12-26T08:50:40.873Z"
   },
   {
    "duration": 42,
    "start_time": "2024-12-26T08:50:40.889Z"
   },
   {
    "duration": 40,
    "start_time": "2024-12-26T08:50:40.933Z"
   },
   {
    "duration": 57,
    "start_time": "2024-12-26T08:50:40.975Z"
   },
   {
    "duration": 15,
    "start_time": "2024-12-26T08:50:41.033Z"
   },
   {
    "duration": 8,
    "start_time": "2024-12-26T08:50:41.049Z"
   },
   {
    "duration": 22,
    "start_time": "2024-12-26T08:50:41.059Z"
   },
   {
    "duration": 9,
    "start_time": "2024-12-26T08:50:41.083Z"
   },
   {
    "duration": 41,
    "start_time": "2024-12-26T08:50:41.094Z"
   },
   {
    "duration": 7,
    "start_time": "2024-12-26T08:50:41.137Z"
   },
   {
    "duration": 41,
    "start_time": "2024-12-26T08:50:41.146Z"
   },
   {
    "duration": 59,
    "start_time": "2024-12-26T08:50:41.188Z"
   },
   {
    "duration": 2,
    "start_time": "2024-12-26T08:50:41.248Z"
   },
   {
    "duration": 18,
    "start_time": "2024-12-26T08:50:41.252Z"
   },
   {
    "duration": 17,
    "start_time": "2024-12-26T08:50:41.271Z"
   },
   {
    "duration": 12,
    "start_time": "2024-12-26T08:50:41.290Z"
   },
   {
    "duration": 39,
    "start_time": "2024-12-26T08:50:41.304Z"
   },
   {
    "duration": 19,
    "start_time": "2024-12-26T08:50:41.347Z"
   },
   {
    "duration": 2,
    "start_time": "2024-12-26T08:50:41.368Z"
   },
   {
    "duration": 6,
    "start_time": "2024-12-26T08:50:41.372Z"
   },
   {
    "duration": 0,
    "start_time": "2024-12-26T08:50:41.380Z"
   },
   {
    "duration": 0,
    "start_time": "2024-12-26T08:50:41.381Z"
   },
   {
    "duration": 0,
    "start_time": "2024-12-26T08:50:41.383Z"
   },
   {
    "duration": 0,
    "start_time": "2024-12-26T08:50:41.384Z"
   },
   {
    "duration": 0,
    "start_time": "2024-12-26T08:50:41.385Z"
   },
   {
    "duration": 0,
    "start_time": "2024-12-26T08:50:41.387Z"
   },
   {
    "duration": 0,
    "start_time": "2024-12-26T08:50:41.389Z"
   },
   {
    "duration": 0,
    "start_time": "2024-12-26T08:50:41.390Z"
   },
   {
    "duration": 0,
    "start_time": "2024-12-26T08:50:41.431Z"
   },
   {
    "duration": 0,
    "start_time": "2024-12-26T08:50:41.433Z"
   },
   {
    "duration": 0,
    "start_time": "2024-12-26T08:50:41.434Z"
   },
   {
    "duration": 42,
    "start_time": "2024-12-26T08:52:38.160Z"
   },
   {
    "duration": 36,
    "start_time": "2024-12-26T08:53:00.623Z"
   },
   {
    "duration": 882,
    "start_time": "2024-12-26T08:53:09.041Z"
   },
   {
    "duration": 160,
    "start_time": "2024-12-26T08:53:09.925Z"
   },
   {
    "duration": 10,
    "start_time": "2024-12-26T08:53:10.086Z"
   },
   {
    "duration": 9,
    "start_time": "2024-12-26T08:53:10.098Z"
   },
   {
    "duration": 5,
    "start_time": "2024-12-26T08:53:10.109Z"
   },
   {
    "duration": 24,
    "start_time": "2024-12-26T08:53:10.116Z"
   },
   {
    "duration": 7,
    "start_time": "2024-12-26T08:53:10.142Z"
   },
   {
    "duration": 8,
    "start_time": "2024-12-26T08:53:10.151Z"
   },
   {
    "duration": 5,
    "start_time": "2024-12-26T08:53:10.160Z"
   },
   {
    "duration": 9,
    "start_time": "2024-12-26T08:53:10.168Z"
   },
   {
    "duration": 14,
    "start_time": "2024-12-26T08:53:10.179Z"
   },
   {
    "duration": 42,
    "start_time": "2024-12-26T08:53:10.195Z"
   },
   {
    "duration": 42,
    "start_time": "2024-12-26T08:53:10.238Z"
   },
   {
    "duration": 60,
    "start_time": "2024-12-26T08:53:10.282Z"
   },
   {
    "duration": 12,
    "start_time": "2024-12-26T08:53:10.344Z"
   },
   {
    "duration": 5,
    "start_time": "2024-12-26T08:53:10.357Z"
   },
   {
    "duration": 23,
    "start_time": "2024-12-26T08:53:10.364Z"
   },
   {
    "duration": 11,
    "start_time": "2024-12-26T08:53:10.389Z"
   },
   {
    "duration": 39,
    "start_time": "2024-12-26T08:53:10.402Z"
   },
   {
    "duration": 6,
    "start_time": "2024-12-26T08:53:10.443Z"
   },
   {
    "duration": 41,
    "start_time": "2024-12-26T08:53:10.450Z"
   },
   {
    "duration": 62,
    "start_time": "2024-12-26T08:53:10.493Z"
   },
   {
    "duration": 2,
    "start_time": "2024-12-26T08:53:10.557Z"
   },
   {
    "duration": 18,
    "start_time": "2024-12-26T08:53:10.561Z"
   },
   {
    "duration": 17,
    "start_time": "2024-12-26T08:53:10.581Z"
   },
   {
    "duration": 33,
    "start_time": "2024-12-26T08:53:10.600Z"
   },
   {
    "duration": 15,
    "start_time": "2024-12-26T08:53:10.634Z"
   },
   {
    "duration": 18,
    "start_time": "2024-12-26T08:53:10.652Z"
   },
   {
    "duration": 3,
    "start_time": "2024-12-26T08:53:10.672Z"
   },
   {
    "duration": 65,
    "start_time": "2024-12-26T08:53:10.677Z"
   },
   {
    "duration": 193,
    "start_time": "2024-12-26T08:53:10.744Z"
   },
   {
    "duration": 193,
    "start_time": "2024-12-26T08:53:10.939Z"
   },
   {
    "duration": 6,
    "start_time": "2024-12-26T08:53:11.134Z"
   },
   {
    "duration": 267,
    "start_time": "2024-12-26T08:53:11.141Z"
   },
   {
    "duration": 170,
    "start_time": "2024-12-26T08:53:11.409Z"
   },
   {
    "duration": 5,
    "start_time": "2024-12-26T08:53:11.581Z"
   },
   {
    "duration": 134,
    "start_time": "2024-12-26T08:53:11.588Z"
   },
   {
    "duration": 180,
    "start_time": "2024-12-26T08:53:11.724Z"
   },
   {
    "duration": 10,
    "start_time": "2024-12-26T08:53:11.906Z"
   },
   {
    "duration": 13,
    "start_time": "2024-12-26T08:53:11.918Z"
   },
   {
    "duration": 3,
    "start_time": "2024-12-26T08:53:11.933Z"
   },
   {
    "duration": 34,
    "start_time": "2024-12-26T08:56:15.424Z"
   },
   {
    "duration": 849,
    "start_time": "2024-12-26T08:56:30.963Z"
   },
   {
    "duration": 166,
    "start_time": "2024-12-26T08:56:31.814Z"
   },
   {
    "duration": 9,
    "start_time": "2024-12-26T08:56:31.982Z"
   },
   {
    "duration": 10,
    "start_time": "2024-12-26T08:56:31.993Z"
   },
   {
    "duration": 6,
    "start_time": "2024-12-26T08:56:32.004Z"
   },
   {
    "duration": 23,
    "start_time": "2024-12-26T08:56:32.012Z"
   },
   {
    "duration": 8,
    "start_time": "2024-12-26T08:56:32.036Z"
   },
   {
    "duration": 8,
    "start_time": "2024-12-26T08:56:32.046Z"
   },
   {
    "duration": 6,
    "start_time": "2024-12-26T08:56:32.055Z"
   },
   {
    "duration": 10,
    "start_time": "2024-12-26T08:56:32.064Z"
   },
   {
    "duration": 15,
    "start_time": "2024-12-26T08:56:32.075Z"
   },
   {
    "duration": 44,
    "start_time": "2024-12-26T08:56:32.092Z"
   },
   {
    "duration": 42,
    "start_time": "2024-12-26T08:56:32.138Z"
   },
   {
    "duration": 61,
    "start_time": "2024-12-26T08:56:32.181Z"
   },
   {
    "duration": 12,
    "start_time": "2024-12-26T08:56:32.244Z"
   },
   {
    "duration": 6,
    "start_time": "2024-12-26T08:56:32.258Z"
   },
   {
    "duration": 22,
    "start_time": "2024-12-26T08:56:32.265Z"
   },
   {
    "duration": 9,
    "start_time": "2024-12-26T08:56:32.291Z"
   },
   {
    "duration": 42,
    "start_time": "2024-12-26T08:56:32.302Z"
   },
   {
    "duration": 7,
    "start_time": "2024-12-26T08:56:32.345Z"
   },
   {
    "duration": 42,
    "start_time": "2024-12-26T08:56:32.354Z"
   },
   {
    "duration": 57,
    "start_time": "2024-12-26T08:56:32.397Z"
   },
   {
    "duration": 2,
    "start_time": "2024-12-26T08:56:32.456Z"
   },
   {
    "duration": 16,
    "start_time": "2024-12-26T08:56:32.460Z"
   },
   {
    "duration": 16,
    "start_time": "2024-12-26T08:56:32.478Z"
   },
   {
    "duration": 38,
    "start_time": "2024-12-26T08:56:32.495Z"
   },
   {
    "duration": 15,
    "start_time": "2024-12-26T08:56:32.535Z"
   },
   {
    "duration": 18,
    "start_time": "2024-12-26T08:56:32.554Z"
   },
   {
    "duration": 2,
    "start_time": "2024-12-26T08:56:32.574Z"
   },
   {
    "duration": 56,
    "start_time": "2024-12-26T08:56:32.578Z"
   },
   {
    "duration": 197,
    "start_time": "2024-12-26T08:56:32.636Z"
   },
   {
    "duration": 192,
    "start_time": "2024-12-26T08:56:32.835Z"
   },
   {
    "duration": 5,
    "start_time": "2024-12-26T08:56:33.028Z"
   },
   {
    "duration": 264,
    "start_time": "2024-12-26T08:56:33.034Z"
   },
   {
    "duration": 172,
    "start_time": "2024-12-26T08:56:33.301Z"
   },
   {
    "duration": 6,
    "start_time": "2024-12-26T08:56:33.475Z"
   },
   {
    "duration": 135,
    "start_time": "2024-12-26T08:56:33.484Z"
   },
   {
    "duration": 175,
    "start_time": "2024-12-26T08:56:33.621Z"
   },
   {
    "duration": 9,
    "start_time": "2024-12-26T08:56:33.797Z"
   },
   {
    "duration": 2,
    "start_time": "2024-12-26T08:56:33.808Z"
   },
   {
    "duration": 2,
    "start_time": "2024-12-26T08:56:33.812Z"
   },
   {
    "duration": 166,
    "start_time": "2024-12-26T09:01:05.844Z"
   },
   {
    "duration": 160,
    "start_time": "2024-12-26T09:02:32.499Z"
   },
   {
    "duration": 163,
    "start_time": "2024-12-26T09:03:11.240Z"
   },
   {
    "duration": 157,
    "start_time": "2024-12-26T09:20:57.610Z"
   },
   {
    "duration": 145,
    "start_time": "2024-12-26T09:29:06.667Z"
   },
   {
    "duration": 164,
    "start_time": "2024-12-26T09:34:36.301Z"
   },
   {
    "duration": 229,
    "start_time": "2024-12-26T09:35:26.274Z"
   },
   {
    "duration": 15,
    "start_time": "2024-12-26T09:40:33.147Z"
   },
   {
    "duration": 216,
    "start_time": "2024-12-26T09:41:59.113Z"
   },
   {
    "duration": 109,
    "start_time": "2024-12-26T09:42:09.186Z"
   },
   {
    "duration": 209,
    "start_time": "2024-12-26T09:42:55.422Z"
   },
   {
    "duration": 16,
    "start_time": "2024-12-26T09:45:15.065Z"
   },
   {
    "duration": 99,
    "start_time": "2024-12-26T09:45:22.011Z"
   },
   {
    "duration": 488,
    "start_time": "2024-12-26T09:48:03.694Z"
   },
   {
    "duration": 811,
    "start_time": "2024-12-26T09:48:28.309Z"
   },
   {
    "duration": 166,
    "start_time": "2024-12-26T09:48:29.122Z"
   },
   {
    "duration": 9,
    "start_time": "2024-12-26T09:48:29.289Z"
   },
   {
    "duration": 8,
    "start_time": "2024-12-26T09:48:29.301Z"
   },
   {
    "duration": 4,
    "start_time": "2024-12-26T09:48:29.311Z"
   },
   {
    "duration": 23,
    "start_time": "2024-12-26T09:48:29.317Z"
   },
   {
    "duration": 8,
    "start_time": "2024-12-26T09:48:29.342Z"
   },
   {
    "duration": 9,
    "start_time": "2024-12-26T09:48:29.351Z"
   },
   {
    "duration": 5,
    "start_time": "2024-12-26T09:48:29.361Z"
   },
   {
    "duration": 10,
    "start_time": "2024-12-26T09:48:29.369Z"
   },
   {
    "duration": 15,
    "start_time": "2024-12-26T09:48:29.380Z"
   },
   {
    "duration": 7,
    "start_time": "2024-12-26T09:48:29.430Z"
   },
   {
    "duration": 40,
    "start_time": "2024-12-26T09:48:29.439Z"
   },
   {
    "duration": 60,
    "start_time": "2024-12-26T09:48:29.480Z"
   },
   {
    "duration": 13,
    "start_time": "2024-12-26T09:48:29.542Z"
   },
   {
    "duration": 6,
    "start_time": "2024-12-26T09:48:29.556Z"
   },
   {
    "duration": 20,
    "start_time": "2024-12-26T09:48:29.564Z"
   },
   {
    "duration": 10,
    "start_time": "2024-12-26T09:48:29.585Z"
   },
   {
    "duration": 42,
    "start_time": "2024-12-26T09:48:29.596Z"
   },
   {
    "duration": 6,
    "start_time": "2024-12-26T09:48:29.640Z"
   },
   {
    "duration": 40,
    "start_time": "2024-12-26T09:48:29.648Z"
   },
   {
    "duration": 54,
    "start_time": "2024-12-26T09:48:29.689Z"
   },
   {
    "duration": 2,
    "start_time": "2024-12-26T09:48:29.745Z"
   },
   {
    "duration": 16,
    "start_time": "2024-12-26T09:48:29.749Z"
   },
   {
    "duration": 17,
    "start_time": "2024-12-26T09:48:29.767Z"
   },
   {
    "duration": 12,
    "start_time": "2024-12-26T09:48:29.786Z"
   },
   {
    "duration": 45,
    "start_time": "2024-12-26T09:48:29.799Z"
   },
   {
    "duration": 19,
    "start_time": "2024-12-26T09:48:29.848Z"
   },
   {
    "duration": 3,
    "start_time": "2024-12-26T09:48:29.869Z"
   },
   {
    "duration": 57,
    "start_time": "2024-12-26T09:48:29.874Z"
   },
   {
    "duration": 191,
    "start_time": "2024-12-26T09:48:29.933Z"
   },
   {
    "duration": 201,
    "start_time": "2024-12-26T09:48:30.130Z"
   },
   {
    "duration": 5,
    "start_time": "2024-12-26T09:48:30.333Z"
   },
   {
    "duration": 281,
    "start_time": "2024-12-26T09:48:30.340Z"
   },
   {
    "duration": 181,
    "start_time": "2024-12-26T09:48:30.623Z"
   },
   {
    "duration": 6,
    "start_time": "2024-12-26T09:48:30.805Z"
   },
   {
    "duration": 131,
    "start_time": "2024-12-26T09:48:30.812Z"
   },
   {
    "duration": 169,
    "start_time": "2024-12-26T09:48:30.944Z"
   },
   {
    "duration": 17,
    "start_time": "2024-12-26T09:48:31.115Z"
   },
   {
    "duration": 13,
    "start_time": "2024-12-26T09:48:31.134Z"
   },
   {
    "duration": 720,
    "start_time": "2024-12-26T09:48:31.148Z"
   },
   {
    "duration": 0,
    "start_time": "2024-12-26T09:48:31.870Z"
   },
   {
    "duration": 0,
    "start_time": "2024-12-26T09:48:31.874Z"
   },
   {
    "duration": 0,
    "start_time": "2024-12-26T09:48:31.875Z"
   },
   {
    "duration": 16,
    "start_time": "2024-12-26T09:57:11.534Z"
   },
   {
    "duration": 166,
    "start_time": "2024-12-26T09:57:27.734Z"
   },
   {
    "duration": 112,
    "start_time": "2024-12-26T09:59:28.990Z"
   },
   {
    "duration": 230,
    "start_time": "2024-12-26T09:59:58.895Z"
   },
   {
    "duration": 19,
    "start_time": "2024-12-26T10:04:28.406Z"
   },
   {
    "duration": 154,
    "start_time": "2024-12-26T10:04:33.316Z"
   },
   {
    "duration": 101,
    "start_time": "2024-12-26T10:05:11.808Z"
   },
   {
    "duration": 19,
    "start_time": "2024-12-26T10:09:46.063Z"
   },
   {
    "duration": 811,
    "start_time": "2024-12-26T10:15:17.820Z"
   },
   {
    "duration": 161,
    "start_time": "2024-12-26T10:15:18.633Z"
   },
   {
    "duration": 9,
    "start_time": "2024-12-26T10:15:18.795Z"
   },
   {
    "duration": 9,
    "start_time": "2024-12-26T10:15:18.806Z"
   },
   {
    "duration": 15,
    "start_time": "2024-12-26T10:15:18.816Z"
   },
   {
    "duration": 9,
    "start_time": "2024-12-26T10:15:18.833Z"
   },
   {
    "duration": 8,
    "start_time": "2024-12-26T10:15:18.845Z"
   },
   {
    "duration": 8,
    "start_time": "2024-12-26T10:15:18.855Z"
   },
   {
    "duration": 5,
    "start_time": "2024-12-26T10:15:18.865Z"
   },
   {
    "duration": 9,
    "start_time": "2024-12-26T10:15:18.873Z"
   },
   {
    "duration": 52,
    "start_time": "2024-12-26T10:15:18.883Z"
   },
   {
    "duration": 10,
    "start_time": "2024-12-26T10:15:18.937Z"
   },
   {
    "duration": 39,
    "start_time": "2024-12-26T10:15:18.949Z"
   },
   {
    "duration": 56,
    "start_time": "2024-12-26T10:15:18.990Z"
   },
   {
    "duration": 12,
    "start_time": "2024-12-26T10:15:19.047Z"
   },
   {
    "duration": 8,
    "start_time": "2024-12-26T10:15:19.060Z"
   },
   {
    "duration": 22,
    "start_time": "2024-12-26T10:15:19.069Z"
   },
   {
    "duration": 10,
    "start_time": "2024-12-26T10:15:19.092Z"
   },
   {
    "duration": 15,
    "start_time": "2024-12-26T10:15:19.130Z"
   },
   {
    "duration": 7,
    "start_time": "2024-12-26T10:15:19.147Z"
   },
   {
    "duration": 44,
    "start_time": "2024-12-26T10:15:19.155Z"
   },
   {
    "duration": 58,
    "start_time": "2024-12-26T10:15:19.200Z"
   },
   {
    "duration": 3,
    "start_time": "2024-12-26T10:15:19.259Z"
   },
   {
    "duration": 18,
    "start_time": "2024-12-26T10:15:19.263Z"
   },
   {
    "duration": 17,
    "start_time": "2024-12-26T10:15:19.283Z"
   },
   {
    "duration": 36,
    "start_time": "2024-12-26T10:15:19.302Z"
   },
   {
    "duration": 15,
    "start_time": "2024-12-26T10:15:19.340Z"
   },
   {
    "duration": 19,
    "start_time": "2024-12-26T10:15:19.359Z"
   },
   {
    "duration": 3,
    "start_time": "2024-12-26T10:15:19.379Z"
   },
   {
    "duration": 61,
    "start_time": "2024-12-26T10:15:19.384Z"
   },
   {
    "duration": 197,
    "start_time": "2024-12-26T10:15:19.447Z"
   },
   {
    "duration": 219,
    "start_time": "2024-12-26T10:15:19.645Z"
   },
   {
    "duration": 5,
    "start_time": "2024-12-26T10:15:19.866Z"
   },
   {
    "duration": 259,
    "start_time": "2024-12-26T10:15:19.872Z"
   },
   {
    "duration": 171,
    "start_time": "2024-12-26T10:15:20.133Z"
   },
   {
    "duration": 8,
    "start_time": "2024-12-26T10:15:20.306Z"
   },
   {
    "duration": 133,
    "start_time": "2024-12-26T10:15:20.316Z"
   },
   {
    "duration": 174,
    "start_time": "2024-12-26T10:15:20.451Z"
   },
   {
    "duration": 10,
    "start_time": "2024-12-26T10:15:20.627Z"
   },
   {
    "duration": 14,
    "start_time": "2024-12-26T10:15:20.639Z"
   },
   {
    "duration": 172,
    "start_time": "2024-12-26T10:15:20.655Z"
   },
   {
    "duration": 110,
    "start_time": "2024-12-26T10:15:20.829Z"
   },
   {
    "duration": 6,
    "start_time": "2024-12-26T10:15:20.941Z"
   },
   {
    "duration": 3,
    "start_time": "2024-12-26T10:15:20.949Z"
   },
   {
    "duration": 6,
    "start_time": "2024-12-26T10:16:51.212Z"
   },
   {
    "duration": 7,
    "start_time": "2024-12-26T10:17:41.763Z"
   },
   {
    "duration": 817,
    "start_time": "2024-12-26T10:18:09.898Z"
   },
   {
    "duration": 159,
    "start_time": "2024-12-26T10:18:10.717Z"
   },
   {
    "duration": 8,
    "start_time": "2024-12-26T10:18:10.878Z"
   },
   {
    "duration": 10,
    "start_time": "2024-12-26T10:18:10.888Z"
   },
   {
    "duration": 5,
    "start_time": "2024-12-26T10:18:10.899Z"
   },
   {
    "duration": 10,
    "start_time": "2024-12-26T10:18:10.905Z"
   },
   {
    "duration": 8,
    "start_time": "2024-12-26T10:18:10.932Z"
   },
   {
    "duration": 8,
    "start_time": "2024-12-26T10:18:10.942Z"
   },
   {
    "duration": 6,
    "start_time": "2024-12-26T10:18:10.952Z"
   },
   {
    "duration": 9,
    "start_time": "2024-12-26T10:18:10.962Z"
   },
   {
    "duration": 15,
    "start_time": "2024-12-26T10:18:10.973Z"
   },
   {
    "duration": 43,
    "start_time": "2024-12-26T10:18:10.989Z"
   },
   {
    "duration": 40,
    "start_time": "2024-12-26T10:18:11.034Z"
   },
   {
    "duration": 56,
    "start_time": "2024-12-26T10:18:11.076Z"
   },
   {
    "duration": 12,
    "start_time": "2024-12-26T10:18:11.134Z"
   },
   {
    "duration": 6,
    "start_time": "2024-12-26T10:18:11.148Z"
   },
   {
    "duration": 21,
    "start_time": "2024-12-26T10:18:11.155Z"
   },
   {
    "duration": 10,
    "start_time": "2024-12-26T10:18:11.178Z"
   },
   {
    "duration": 47,
    "start_time": "2024-12-26T10:18:11.189Z"
   },
   {
    "duration": 7,
    "start_time": "2024-12-26T10:18:11.238Z"
   },
   {
    "duration": 45,
    "start_time": "2024-12-26T10:18:11.247Z"
   },
   {
    "duration": 61,
    "start_time": "2024-12-26T10:18:11.294Z"
   },
   {
    "duration": 2,
    "start_time": "2024-12-26T10:18:11.357Z"
   },
   {
    "duration": 17,
    "start_time": "2024-12-26T10:18:11.361Z"
   },
   {
    "duration": 17,
    "start_time": "2024-12-26T10:18:11.380Z"
   },
   {
    "duration": 42,
    "start_time": "2024-12-26T10:18:11.399Z"
   },
   {
    "duration": 15,
    "start_time": "2024-12-26T10:18:11.443Z"
   },
   {
    "duration": 19,
    "start_time": "2024-12-26T10:18:11.461Z"
   },
   {
    "duration": 3,
    "start_time": "2024-12-26T10:18:11.482Z"
   },
   {
    "duration": 57,
    "start_time": "2024-12-26T10:18:11.487Z"
   },
   {
    "duration": 204,
    "start_time": "2024-12-26T10:18:11.546Z"
   },
   {
    "duration": 205,
    "start_time": "2024-12-26T10:18:11.752Z"
   },
   {
    "duration": 5,
    "start_time": "2024-12-26T10:18:11.958Z"
   },
   {
    "duration": 264,
    "start_time": "2024-12-26T10:18:11.964Z"
   },
   {
    "duration": 169,
    "start_time": "2024-12-26T10:18:12.230Z"
   },
   {
    "duration": 6,
    "start_time": "2024-12-26T10:18:12.401Z"
   },
   {
    "duration": 130,
    "start_time": "2024-12-26T10:18:12.409Z"
   },
   {
    "duration": 178,
    "start_time": "2024-12-26T10:18:12.541Z"
   },
   {
    "duration": 12,
    "start_time": "2024-12-26T10:18:12.721Z"
   },
   {
    "duration": 13,
    "start_time": "2024-12-26T10:18:12.735Z"
   },
   {
    "duration": 170,
    "start_time": "2024-12-26T10:18:12.750Z"
   },
   {
    "duration": 111,
    "start_time": "2024-12-26T10:18:12.922Z"
   },
   {
    "duration": 7,
    "start_time": "2024-12-26T10:18:13.035Z"
   },
   {
    "duration": 3,
    "start_time": "2024-12-26T10:18:13.043Z"
   },
   {
    "duration": 28,
    "start_time": "2024-12-26T10:27:34.040Z"
   },
   {
    "duration": 141,
    "start_time": "2024-12-26T10:28:02.304Z"
   },
   {
    "duration": 30,
    "start_time": "2024-12-26T10:29:36.834Z"
   },
   {
    "duration": 45,
    "start_time": "2024-12-26T10:30:43.427Z"
   },
   {
    "duration": 829,
    "start_time": "2024-12-26T10:31:34.400Z"
   },
   {
    "duration": 162,
    "start_time": "2024-12-26T10:31:35.231Z"
   },
   {
    "duration": 10,
    "start_time": "2024-12-26T10:31:35.394Z"
   },
   {
    "duration": 8,
    "start_time": "2024-12-26T10:31:35.406Z"
   },
   {
    "duration": 4,
    "start_time": "2024-12-26T10:31:35.416Z"
   },
   {
    "duration": 13,
    "start_time": "2024-12-26T10:31:35.421Z"
   },
   {
    "duration": 8,
    "start_time": "2024-12-26T10:31:35.435Z"
   },
   {
    "duration": 8,
    "start_time": "2024-12-26T10:31:35.445Z"
   },
   {
    "duration": 5,
    "start_time": "2024-12-26T10:31:35.454Z"
   },
   {
    "duration": 8,
    "start_time": "2024-12-26T10:31:35.462Z"
   },
   {
    "duration": 14,
    "start_time": "2024-12-26T10:31:35.472Z"
   },
   {
    "duration": 43,
    "start_time": "2024-12-26T10:31:35.488Z"
   },
   {
    "duration": 39,
    "start_time": "2024-12-26T10:31:35.533Z"
   },
   {
    "duration": 60,
    "start_time": "2024-12-26T10:31:35.573Z"
   },
   {
    "duration": 12,
    "start_time": "2024-12-26T10:31:35.635Z"
   },
   {
    "duration": 6,
    "start_time": "2024-12-26T10:31:35.649Z"
   },
   {
    "duration": 21,
    "start_time": "2024-12-26T10:31:35.656Z"
   },
   {
    "duration": 10,
    "start_time": "2024-12-26T10:31:35.678Z"
   },
   {
    "duration": 42,
    "start_time": "2024-12-26T10:31:35.690Z"
   },
   {
    "duration": 6,
    "start_time": "2024-12-26T10:31:35.734Z"
   },
   {
    "duration": 41,
    "start_time": "2024-12-26T10:31:35.742Z"
   },
   {
    "duration": 54,
    "start_time": "2024-12-26T10:31:35.785Z"
   },
   {
    "duration": 3,
    "start_time": "2024-12-26T10:31:35.840Z"
   },
   {
    "duration": 15,
    "start_time": "2024-12-26T10:31:35.845Z"
   },
   {
    "duration": 16,
    "start_time": "2024-12-26T10:31:35.862Z"
   },
   {
    "duration": 13,
    "start_time": "2024-12-26T10:31:35.880Z"
   },
   {
    "duration": 43,
    "start_time": "2024-12-26T10:31:35.895Z"
   },
   {
    "duration": 28,
    "start_time": "2024-12-26T10:31:35.942Z"
   },
   {
    "duration": 3,
    "start_time": "2024-12-26T10:31:35.971Z"
   },
   {
    "duration": 67,
    "start_time": "2024-12-26T10:31:35.976Z"
   },
   {
    "duration": 197,
    "start_time": "2024-12-26T10:31:36.045Z"
   },
   {
    "duration": 244,
    "start_time": "2024-12-26T10:31:36.243Z"
   },
   {
    "duration": 5,
    "start_time": "2024-12-26T10:31:36.489Z"
   },
   {
    "duration": 202,
    "start_time": "2024-12-26T10:31:36.495Z"
   },
   {
    "duration": 167,
    "start_time": "2024-12-26T10:31:36.699Z"
   },
   {
    "duration": 6,
    "start_time": "2024-12-26T10:31:36.868Z"
   },
   {
    "duration": 129,
    "start_time": "2024-12-26T10:31:36.876Z"
   },
   {
    "duration": 164,
    "start_time": "2024-12-26T10:31:37.009Z"
   },
   {
    "duration": 10,
    "start_time": "2024-12-26T10:31:37.175Z"
   },
   {
    "duration": 13,
    "start_time": "2024-12-26T10:31:37.187Z"
   },
   {
    "duration": 172,
    "start_time": "2024-12-26T10:31:37.202Z"
   },
   {
    "duration": 114,
    "start_time": "2024-12-26T10:31:37.377Z"
   },
   {
    "duration": 5,
    "start_time": "2024-12-26T10:31:37.493Z"
   },
   {
    "duration": 3,
    "start_time": "2024-12-26T10:31:37.500Z"
   },
   {
    "duration": 525,
    "start_time": "2024-12-26T10:34:51.673Z"
   },
   {
    "duration": 3,
    "start_time": "2024-12-26T10:35:35.398Z"
   },
   {
    "duration": 45,
    "start_time": "2024-12-26T10:35:39.397Z"
   },
   {
    "duration": 796,
    "start_time": "2024-12-26T10:35:57.432Z"
   },
   {
    "duration": 162,
    "start_time": "2024-12-26T10:35:58.230Z"
   },
   {
    "duration": 9,
    "start_time": "2024-12-26T10:35:58.394Z"
   },
   {
    "duration": 9,
    "start_time": "2024-12-26T10:35:58.405Z"
   },
   {
    "duration": 5,
    "start_time": "2024-12-26T10:35:58.415Z"
   },
   {
    "duration": 10,
    "start_time": "2024-12-26T10:35:58.430Z"
   },
   {
    "duration": 9,
    "start_time": "2024-12-26T10:35:58.442Z"
   },
   {
    "duration": 8,
    "start_time": "2024-12-26T10:35:58.452Z"
   },
   {
    "duration": 10,
    "start_time": "2024-12-26T10:35:58.462Z"
   },
   {
    "duration": 12,
    "start_time": "2024-12-26T10:35:58.476Z"
   },
   {
    "duration": 46,
    "start_time": "2024-12-26T10:35:58.490Z"
   },
   {
    "duration": 9,
    "start_time": "2024-12-26T10:35:58.537Z"
   },
   {
    "duration": 40,
    "start_time": "2024-12-26T10:35:58.548Z"
   },
   {
    "duration": 60,
    "start_time": "2024-12-26T10:35:58.590Z"
   },
   {
    "duration": 12,
    "start_time": "2024-12-26T10:35:58.651Z"
   },
   {
    "duration": 6,
    "start_time": "2024-12-26T10:35:58.664Z"
   },
   {
    "duration": 22,
    "start_time": "2024-12-26T10:35:58.671Z"
   },
   {
    "duration": 36,
    "start_time": "2024-12-26T10:35:58.695Z"
   },
   {
    "duration": 14,
    "start_time": "2024-12-26T10:35:58.733Z"
   },
   {
    "duration": 6,
    "start_time": "2024-12-26T10:35:58.749Z"
   },
   {
    "duration": 42,
    "start_time": "2024-12-26T10:35:58.757Z"
   },
   {
    "duration": 62,
    "start_time": "2024-12-26T10:35:58.801Z"
   },
   {
    "duration": 2,
    "start_time": "2024-12-26T10:35:58.865Z"
   },
   {
    "duration": 17,
    "start_time": "2024-12-26T10:35:58.869Z"
   },
   {
    "duration": 17,
    "start_time": "2024-12-26T10:35:58.888Z"
   },
   {
    "duration": 35,
    "start_time": "2024-12-26T10:35:58.907Z"
   },
   {
    "duration": 14,
    "start_time": "2024-12-26T10:35:58.944Z"
   },
   {
    "duration": 29,
    "start_time": "2024-12-26T10:35:58.961Z"
   },
   {
    "duration": 3,
    "start_time": "2024-12-26T10:35:58.992Z"
   },
   {
    "duration": 72,
    "start_time": "2024-12-26T10:35:58.996Z"
   },
   {
    "duration": 197,
    "start_time": "2024-12-26T10:35:59.070Z"
   },
   {
    "duration": 264,
    "start_time": "2024-12-26T10:35:59.269Z"
   },
   {
    "duration": 5,
    "start_time": "2024-12-26T10:35:59.535Z"
   },
   {
    "duration": 211,
    "start_time": "2024-12-26T10:35:59.541Z"
   },
   {
    "duration": 177,
    "start_time": "2024-12-26T10:35:59.754Z"
   },
   {
    "duration": 5,
    "start_time": "2024-12-26T10:35:59.933Z"
   },
   {
    "duration": 122,
    "start_time": "2024-12-26T10:35:59.940Z"
   },
   {
    "duration": 175,
    "start_time": "2024-12-26T10:36:00.064Z"
   },
   {
    "duration": 10,
    "start_time": "2024-12-26T10:36:00.240Z"
   },
   {
    "duration": 13,
    "start_time": "2024-12-26T10:36:00.252Z"
   },
   {
    "duration": 177,
    "start_time": "2024-12-26T10:36:00.267Z"
   },
   {
    "duration": 109,
    "start_time": "2024-12-26T10:36:00.445Z"
   },
   {
    "duration": 6,
    "start_time": "2024-12-26T10:36:00.556Z"
   },
   {
    "duration": 4,
    "start_time": "2024-12-26T10:36:00.563Z"
   },
   {
    "duration": 10,
    "start_time": "2024-12-26T10:38:59.097Z"
   },
   {
    "duration": 4,
    "start_time": "2024-12-26T10:43:05.299Z"
   },
   {
    "duration": 6,
    "start_time": "2024-12-26T10:43:15.038Z"
   },
   {
    "duration": 798,
    "start_time": "2024-12-26T10:43:52.523Z"
   },
   {
    "duration": 159,
    "start_time": "2024-12-26T10:43:53.324Z"
   },
   {
    "duration": 10,
    "start_time": "2024-12-26T10:43:53.484Z"
   },
   {
    "duration": 9,
    "start_time": "2024-12-26T10:43:53.496Z"
   },
   {
    "duration": 5,
    "start_time": "2024-12-26T10:43:53.506Z"
   },
   {
    "duration": 24,
    "start_time": "2024-12-26T10:43:53.513Z"
   },
   {
    "duration": 9,
    "start_time": "2024-12-26T10:43:53.539Z"
   },
   {
    "duration": 8,
    "start_time": "2024-12-26T10:43:53.550Z"
   },
   {
    "duration": 5,
    "start_time": "2024-12-26T10:43:53.561Z"
   },
   {
    "duration": 10,
    "start_time": "2024-12-26T10:43:53.569Z"
   },
   {
    "duration": 14,
    "start_time": "2024-12-26T10:43:53.581Z"
   },
   {
    "duration": 36,
    "start_time": "2024-12-26T10:43:53.597Z"
   },
   {
    "duration": 44,
    "start_time": "2024-12-26T10:43:53.634Z"
   },
   {
    "duration": 61,
    "start_time": "2024-12-26T10:43:53.681Z"
   },
   {
    "duration": 11,
    "start_time": "2024-12-26T10:43:53.744Z"
   },
   {
    "duration": 6,
    "start_time": "2024-12-26T10:43:53.756Z"
   },
   {
    "duration": 21,
    "start_time": "2024-12-26T10:43:53.764Z"
   },
   {
    "duration": 9,
    "start_time": "2024-12-26T10:43:53.787Z"
   },
   {
    "duration": 45,
    "start_time": "2024-12-26T10:43:53.798Z"
   },
   {
    "duration": 6,
    "start_time": "2024-12-26T10:43:53.845Z"
   },
   {
    "duration": 42,
    "start_time": "2024-12-26T10:43:53.853Z"
   },
   {
    "duration": 58,
    "start_time": "2024-12-26T10:43:53.897Z"
   },
   {
    "duration": 2,
    "start_time": "2024-12-26T10:43:53.957Z"
   },
   {
    "duration": 19,
    "start_time": "2024-12-26T10:43:53.960Z"
   },
   {
    "duration": 17,
    "start_time": "2024-12-26T10:43:53.981Z"
   },
   {
    "duration": 33,
    "start_time": "2024-12-26T10:43:53.999Z"
   },
   {
    "duration": 14,
    "start_time": "2024-12-26T10:43:54.033Z"
   },
   {
    "duration": 27,
    "start_time": "2024-12-26T10:43:54.052Z"
   },
   {
    "duration": 3,
    "start_time": "2024-12-26T10:43:54.081Z"
   },
   {
    "duration": 68,
    "start_time": "2024-12-26T10:43:54.086Z"
   },
   {
    "duration": 198,
    "start_time": "2024-12-26T10:43:54.156Z"
   },
   {
    "duration": 250,
    "start_time": "2024-12-26T10:43:54.356Z"
   },
   {
    "duration": 5,
    "start_time": "2024-12-26T10:43:54.608Z"
   },
   {
    "duration": 200,
    "start_time": "2024-12-26T10:43:54.615Z"
   },
   {
    "duration": 171,
    "start_time": "2024-12-26T10:43:54.817Z"
   },
   {
    "duration": 6,
    "start_time": "2024-12-26T10:43:54.990Z"
   },
   {
    "duration": 132,
    "start_time": "2024-12-26T10:43:54.998Z"
   },
   {
    "duration": 169,
    "start_time": "2024-12-26T10:43:55.132Z"
   },
   {
    "duration": 10,
    "start_time": "2024-12-26T10:43:55.303Z"
   },
   {
    "duration": 28,
    "start_time": "2024-12-26T10:43:55.314Z"
   },
   {
    "duration": 164,
    "start_time": "2024-12-26T10:43:55.343Z"
   },
   {
    "duration": 117,
    "start_time": "2024-12-26T10:43:55.509Z"
   },
   {
    "duration": 6,
    "start_time": "2024-12-26T10:43:55.627Z"
   },
   {
    "duration": 6,
    "start_time": "2024-12-26T10:43:55.635Z"
   },
   {
    "duration": 4,
    "start_time": "2024-12-26T10:51:55.572Z"
   },
   {
    "duration": 797,
    "start_time": "2024-12-26T10:55:04.622Z"
   },
   {
    "duration": 158,
    "start_time": "2024-12-26T10:55:05.421Z"
   },
   {
    "duration": 8,
    "start_time": "2024-12-26T10:55:05.582Z"
   },
   {
    "duration": 9,
    "start_time": "2024-12-26T10:55:05.593Z"
   },
   {
    "duration": 5,
    "start_time": "2024-12-26T10:55:05.603Z"
   },
   {
    "duration": 29,
    "start_time": "2024-12-26T10:55:05.609Z"
   },
   {
    "duration": 8,
    "start_time": "2024-12-26T10:55:05.639Z"
   },
   {
    "duration": 8,
    "start_time": "2024-12-26T10:55:05.649Z"
   },
   {
    "duration": 5,
    "start_time": "2024-12-26T10:55:05.659Z"
   },
   {
    "duration": 9,
    "start_time": "2024-12-26T10:55:05.667Z"
   },
   {
    "duration": 15,
    "start_time": "2024-12-26T10:55:05.677Z"
   },
   {
    "duration": 40,
    "start_time": "2024-12-26T10:55:05.694Z"
   },
   {
    "duration": 40,
    "start_time": "2024-12-26T10:55:05.736Z"
   },
   {
    "duration": 57,
    "start_time": "2024-12-26T10:55:05.778Z"
   },
   {
    "duration": 12,
    "start_time": "2024-12-26T10:55:05.837Z"
   },
   {
    "duration": 6,
    "start_time": "2024-12-26T10:55:05.851Z"
   },
   {
    "duration": 22,
    "start_time": "2024-12-26T10:55:05.858Z"
   },
   {
    "duration": 10,
    "start_time": "2024-12-26T10:55:05.882Z"
   },
   {
    "duration": 42,
    "start_time": "2024-12-26T10:55:05.894Z"
   },
   {
    "duration": 7,
    "start_time": "2024-12-26T10:55:05.937Z"
   },
   {
    "duration": 40,
    "start_time": "2024-12-26T10:55:05.945Z"
   },
   {
    "duration": 58,
    "start_time": "2024-12-26T10:55:05.987Z"
   },
   {
    "duration": 4,
    "start_time": "2024-12-26T10:55:06.047Z"
   },
   {
    "duration": 18,
    "start_time": "2024-12-26T10:55:06.052Z"
   },
   {
    "duration": 16,
    "start_time": "2024-12-26T10:55:06.072Z"
   },
   {
    "duration": 12,
    "start_time": "2024-12-26T10:55:06.089Z"
   },
   {
    "duration": 41,
    "start_time": "2024-12-26T10:55:06.103Z"
   },
   {
    "duration": 29,
    "start_time": "2024-12-26T10:55:06.148Z"
   },
   {
    "duration": 3,
    "start_time": "2024-12-26T10:55:06.179Z"
   },
   {
    "duration": 67,
    "start_time": "2024-12-26T10:55:06.183Z"
   },
   {
    "duration": 196,
    "start_time": "2024-12-26T10:55:06.252Z"
   },
   {
    "duration": 248,
    "start_time": "2024-12-26T10:55:06.450Z"
   },
   {
    "duration": 5,
    "start_time": "2024-12-26T10:55:06.700Z"
   },
   {
    "duration": 215,
    "start_time": "2024-12-26T10:55:06.707Z"
   },
   {
    "duration": 174,
    "start_time": "2024-12-26T10:55:06.923Z"
   },
   {
    "duration": 6,
    "start_time": "2024-12-26T10:55:07.098Z"
   },
   {
    "duration": 131,
    "start_time": "2024-12-26T10:55:07.106Z"
   },
   {
    "duration": 164,
    "start_time": "2024-12-26T10:55:07.239Z"
   },
   {
    "duration": 13,
    "start_time": "2024-12-26T10:55:07.405Z"
   },
   {
    "duration": 154,
    "start_time": "2024-12-26T10:55:07.431Z"
   },
   {
    "duration": 125,
    "start_time": "2024-12-26T10:55:07.587Z"
   },
   {
    "duration": 6,
    "start_time": "2024-12-26T10:55:07.713Z"
   },
   {
    "duration": 7,
    "start_time": "2024-12-26T10:55:07.732Z"
   },
   {
    "duration": 2513,
    "start_time": "2024-12-26T11:35:10.674Z"
   },
   {
    "duration": 236,
    "start_time": "2024-12-26T11:35:13.190Z"
   },
   {
    "duration": 9,
    "start_time": "2024-12-26T11:35:13.428Z"
   },
   {
    "duration": 9,
    "start_time": "2024-12-26T11:35:13.439Z"
   },
   {
    "duration": 4,
    "start_time": "2024-12-26T11:35:13.451Z"
   },
   {
    "duration": 10,
    "start_time": "2024-12-26T11:35:13.457Z"
   },
   {
    "duration": 22,
    "start_time": "2024-12-26T11:35:13.469Z"
   },
   {
    "duration": 9,
    "start_time": "2024-12-26T11:35:13.494Z"
   },
   {
    "duration": 5,
    "start_time": "2024-12-26T11:35:13.505Z"
   },
   {
    "duration": 9,
    "start_time": "2024-12-26T11:35:13.512Z"
   },
   {
    "duration": 15,
    "start_time": "2024-12-26T11:35:13.523Z"
   },
   {
    "duration": 6,
    "start_time": "2024-12-26T11:35:13.540Z"
   },
   {
    "duration": 75,
    "start_time": "2024-12-26T11:35:13.548Z"
   },
   {
    "duration": 45,
    "start_time": "2024-12-26T11:35:13.628Z"
   },
   {
    "duration": 15,
    "start_time": "2024-12-26T11:35:13.687Z"
   },
   {
    "duration": 6,
    "start_time": "2024-12-26T11:35:13.704Z"
   },
   {
    "duration": 23,
    "start_time": "2024-12-26T11:35:13.712Z"
   },
   {
    "duration": 10,
    "start_time": "2024-12-26T11:35:13.737Z"
   },
   {
    "duration": 44,
    "start_time": "2024-12-26T11:35:13.748Z"
   },
   {
    "duration": 9,
    "start_time": "2024-12-26T11:35:13.794Z"
   },
   {
    "duration": 44,
    "start_time": "2024-12-26T11:35:13.805Z"
   },
   {
    "duration": 56,
    "start_time": "2024-12-26T11:35:13.852Z"
   },
   {
    "duration": 4,
    "start_time": "2024-12-26T11:35:13.910Z"
   },
   {
    "duration": 17,
    "start_time": "2024-12-26T11:35:13.916Z"
   },
   {
    "duration": 16,
    "start_time": "2024-12-26T11:35:13.935Z"
   },
   {
    "duration": 37,
    "start_time": "2024-12-26T11:35:13.952Z"
   },
   {
    "duration": 15,
    "start_time": "2024-12-26T11:35:13.991Z"
   },
   {
    "duration": 27,
    "start_time": "2024-12-26T11:35:14.008Z"
   },
   {
    "duration": 3,
    "start_time": "2024-12-26T11:35:14.037Z"
   },
   {
    "duration": 74,
    "start_time": "2024-12-26T11:35:14.042Z"
   },
   {
    "duration": 197,
    "start_time": "2024-12-26T11:35:14.118Z"
   },
   {
    "duration": 198,
    "start_time": "2024-12-26T11:35:14.317Z"
   },
   {
    "duration": 6,
    "start_time": "2024-12-26T11:35:14.517Z"
   },
   {
    "duration": 268,
    "start_time": "2024-12-26T11:35:14.524Z"
   },
   {
    "duration": 169,
    "start_time": "2024-12-26T11:35:14.793Z"
   },
   {
    "duration": 5,
    "start_time": "2024-12-26T11:35:14.964Z"
   },
   {
    "duration": 132,
    "start_time": "2024-12-26T11:35:14.971Z"
   },
   {
    "duration": 165,
    "start_time": "2024-12-26T11:35:15.106Z"
   },
   {
    "duration": 23,
    "start_time": "2024-12-26T11:35:15.273Z"
   },
   {
    "duration": 162,
    "start_time": "2024-12-26T11:35:15.297Z"
   },
   {
    "duration": 114,
    "start_time": "2024-12-26T11:35:15.463Z"
   },
   {
    "duration": 10,
    "start_time": "2024-12-26T11:35:15.579Z"
   },
   {
    "duration": 7,
    "start_time": "2024-12-26T11:35:15.591Z"
   },
   {
    "duration": 171,
    "start_time": "2025-01-13T17:54:04.241Z"
   },
   {
    "duration": 2533,
    "start_time": "2025-01-13T17:54:15.103Z"
   },
   {
    "duration": 207,
    "start_time": "2025-01-13T17:54:17.638Z"
   },
   {
    "duration": 10,
    "start_time": "2025-01-13T17:54:17.846Z"
   },
   {
    "duration": 9,
    "start_time": "2025-01-13T17:54:17.858Z"
   },
   {
    "duration": 6,
    "start_time": "2025-01-13T17:54:17.868Z"
   },
   {
    "duration": 10,
    "start_time": "2025-01-13T17:54:17.877Z"
   },
   {
    "duration": 24,
    "start_time": "2025-01-13T17:54:17.889Z"
   },
   {
    "duration": 8,
    "start_time": "2025-01-13T17:54:17.914Z"
   },
   {
    "duration": 5,
    "start_time": "2025-01-13T17:54:17.923Z"
   },
   {
    "duration": 9,
    "start_time": "2025-01-13T17:54:17.931Z"
   },
   {
    "duration": 15,
    "start_time": "2025-01-13T17:54:17.941Z"
   },
   {
    "duration": 6,
    "start_time": "2025-01-13T17:54:17.958Z"
   },
   {
    "duration": 84,
    "start_time": "2025-01-13T17:54:17.965Z"
   },
   {
    "duration": 15,
    "start_time": "2025-01-13T17:54:18.050Z"
   },
   {
    "duration": 12,
    "start_time": "2025-01-13T17:54:18.066Z"
   },
   {
    "duration": 6,
    "start_time": "2025-01-13T17:54:18.079Z"
   },
   {
    "duration": 45,
    "start_time": "2025-01-13T17:54:18.086Z"
   },
   {
    "duration": 9,
    "start_time": "2025-01-13T17:54:18.133Z"
   },
   {
    "duration": 14,
    "start_time": "2025-01-13T17:54:18.144Z"
   },
   {
    "duration": 6,
    "start_time": "2025-01-13T17:54:18.159Z"
   },
   {
    "duration": 70,
    "start_time": "2025-01-13T17:54:18.167Z"
   },
   {
    "duration": 37,
    "start_time": "2025-01-13T17:54:18.239Z"
   },
   {
    "duration": 4,
    "start_time": "2025-01-13T17:54:18.278Z"
   },
   {
    "duration": 33,
    "start_time": "2025-01-13T17:54:18.284Z"
   },
   {
    "duration": 17,
    "start_time": "2025-01-13T17:54:18.318Z"
   },
   {
    "duration": 12,
    "start_time": "2025-01-13T17:54:18.336Z"
   },
   {
    "duration": 13,
    "start_time": "2025-01-13T17:54:18.350Z"
   },
   {
    "duration": 57,
    "start_time": "2025-01-13T17:54:18.368Z"
   },
   {
    "duration": 2,
    "start_time": "2025-01-13T17:54:18.427Z"
   },
   {
    "duration": 46,
    "start_time": "2025-01-13T17:54:18.431Z"
   },
   {
    "duration": 200,
    "start_time": "2025-01-13T17:54:18.478Z"
   },
   {
    "duration": 201,
    "start_time": "2025-01-13T17:54:18.680Z"
   },
   {
    "duration": 5,
    "start_time": "2025-01-13T17:54:18.883Z"
   },
   {
    "duration": 205,
    "start_time": "2025-01-13T17:54:18.889Z"
   },
   {
    "duration": 172,
    "start_time": "2025-01-13T17:54:19.096Z"
   },
   {
    "duration": 5,
    "start_time": "2025-01-13T17:54:19.270Z"
   },
   {
    "duration": 125,
    "start_time": "2025-01-13T17:54:19.277Z"
   },
   {
    "duration": 216,
    "start_time": "2025-01-13T17:54:19.412Z"
   },
   {
    "duration": 15,
    "start_time": "2025-01-13T17:54:19.630Z"
   },
   {
    "duration": 170,
    "start_time": "2025-01-13T17:54:19.646Z"
   },
   {
    "duration": 118,
    "start_time": "2025-01-13T17:54:19.818Z"
   },
   {
    "duration": 6,
    "start_time": "2025-01-13T17:54:19.938Z"
   },
   {
    "duration": 8,
    "start_time": "2025-01-13T17:54:19.948Z"
   },
   {
    "duration": 14,
    "start_time": "2025-01-13T17:58:10.117Z"
   },
   {
    "duration": 785,
    "start_time": "2025-01-13T17:58:21.814Z"
   },
   {
    "duration": 161,
    "start_time": "2025-01-13T17:58:22.602Z"
   },
   {
    "duration": 9,
    "start_time": "2025-01-13T17:58:22.765Z"
   },
   {
    "duration": 9,
    "start_time": "2025-01-13T17:58:22.776Z"
   },
   {
    "duration": 4,
    "start_time": "2025-01-13T17:58:22.788Z"
   },
   {
    "duration": 10,
    "start_time": "2025-01-13T17:58:22.812Z"
   },
   {
    "duration": 12,
    "start_time": "2025-01-13T17:58:22.823Z"
   },
   {
    "duration": 8,
    "start_time": "2025-01-13T17:58:22.838Z"
   },
   {
    "duration": 6,
    "start_time": "2025-01-13T17:58:22.847Z"
   },
   {
    "duration": 9,
    "start_time": "2025-01-13T17:58:22.855Z"
   },
   {
    "duration": 15,
    "start_time": "2025-01-13T17:58:22.865Z"
   },
   {
    "duration": 36,
    "start_time": "2025-01-13T17:58:22.881Z"
   },
   {
    "duration": 40,
    "start_time": "2025-01-13T17:58:22.918Z"
   },
   {
    "duration": 14,
    "start_time": "2025-01-13T17:58:22.961Z"
   },
   {
    "duration": 37,
    "start_time": "2025-01-13T17:58:22.977Z"
   },
   {
    "duration": 5,
    "start_time": "2025-01-13T17:58:23.016Z"
   },
   {
    "duration": 22,
    "start_time": "2025-01-13T17:58:23.023Z"
   },
   {
    "duration": 9,
    "start_time": "2025-01-13T17:58:23.047Z"
   },
   {
    "duration": 12,
    "start_time": "2025-01-13T17:58:23.058Z"
   },
   {
    "duration": 6,
    "start_time": "2025-01-13T17:58:23.072Z"
   },
   {
    "duration": 40,
    "start_time": "2025-01-13T17:58:23.112Z"
   },
   {
    "duration": 13,
    "start_time": "2025-01-13T17:58:23.154Z"
   },
   {
    "duration": 4,
    "start_time": "2025-01-13T17:58:23.168Z"
   },
   {
    "duration": 38,
    "start_time": "2025-01-13T17:58:23.174Z"
   },
   {
    "duration": 16,
    "start_time": "2025-01-13T17:58:23.214Z"
   },
   {
    "duration": 17,
    "start_time": "2025-01-13T17:58:23.232Z"
   },
   {
    "duration": 21,
    "start_time": "2025-01-13T17:58:23.252Z"
   },
   {
    "duration": 52,
    "start_time": "2025-01-13T17:58:23.275Z"
   },
   {
    "duration": 3,
    "start_time": "2025-01-13T17:58:23.329Z"
   },
   {
    "duration": 46,
    "start_time": "2025-01-13T17:58:23.333Z"
   },
   {
    "duration": 201,
    "start_time": "2025-01-13T17:58:23.381Z"
   },
   {
    "duration": 244,
    "start_time": "2025-01-13T17:58:23.584Z"
   },
   {
    "duration": 5,
    "start_time": "2025-01-13T17:58:23.830Z"
   },
   {
    "duration": 204,
    "start_time": "2025-01-13T17:58:23.836Z"
   },
   {
    "duration": 169,
    "start_time": "2025-01-13T17:58:24.042Z"
   },
   {
    "duration": 6,
    "start_time": "2025-01-13T17:58:24.213Z"
   },
   {
    "duration": 128,
    "start_time": "2025-01-13T17:58:24.220Z"
   },
   {
    "duration": 165,
    "start_time": "2025-01-13T17:58:24.351Z"
   },
   {
    "duration": 14,
    "start_time": "2025-01-13T17:58:24.517Z"
   },
   {
    "duration": 171,
    "start_time": "2025-01-13T17:58:24.532Z"
   },
   {
    "duration": 111,
    "start_time": "2025-01-13T17:58:24.720Z"
   },
   {
    "duration": 6,
    "start_time": "2025-01-13T17:58:24.833Z"
   },
   {
    "duration": 7,
    "start_time": "2025-01-13T17:58:24.840Z"
   },
   {
    "duration": 872,
    "start_time": "2025-01-13T19:19:28.726Z"
   },
   {
    "duration": 179,
    "start_time": "2025-01-13T19:19:29.601Z"
   },
   {
    "duration": 11,
    "start_time": "2025-01-13T19:19:29.782Z"
   },
   {
    "duration": 22,
    "start_time": "2025-01-13T19:19:29.796Z"
   },
   {
    "duration": 5,
    "start_time": "2025-01-13T19:19:29.821Z"
   },
   {
    "duration": 10,
    "start_time": "2025-01-13T19:19:29.829Z"
   },
   {
    "duration": 8,
    "start_time": "2025-01-13T19:19:29.841Z"
   },
   {
    "duration": 8,
    "start_time": "2025-01-13T19:19:29.851Z"
   },
   {
    "duration": 5,
    "start_time": "2025-01-13T19:19:29.862Z"
   },
   {
    "duration": 41,
    "start_time": "2025-01-13T19:19:29.871Z"
   },
   {
    "duration": 21,
    "start_time": "2025-01-13T19:19:29.915Z"
   },
   {
    "duration": 11,
    "start_time": "2025-01-13T19:19:29.938Z"
   },
   {
    "duration": 66,
    "start_time": "2025-01-13T19:19:29.952Z"
   },
   {
    "duration": 20,
    "start_time": "2025-01-13T19:19:30.021Z"
   },
   {
    "duration": 12,
    "start_time": "2025-01-13T19:19:30.042Z"
   },
   {
    "duration": 8,
    "start_time": "2025-01-13T19:19:30.056Z"
   },
   {
    "duration": 23,
    "start_time": "2025-01-13T19:19:30.066Z"
   },
   {
    "duration": 10,
    "start_time": "2025-01-13T19:19:30.112Z"
   },
   {
    "duration": 16,
    "start_time": "2025-01-13T19:19:30.124Z"
   },
   {
    "duration": 9,
    "start_time": "2025-01-13T19:19:30.141Z"
   },
   {
    "duration": 67,
    "start_time": "2025-01-13T19:19:30.153Z"
   },
   {
    "duration": 13,
    "start_time": "2025-01-13T19:19:30.222Z"
   },
   {
    "duration": 6,
    "start_time": "2025-01-13T19:19:30.236Z"
   },
   {
    "duration": 19,
    "start_time": "2025-01-13T19:19:30.244Z"
   },
   {
    "duration": 45,
    "start_time": "2025-01-13T19:19:30.267Z"
   },
   {
    "duration": 16,
    "start_time": "2025-01-13T19:19:30.315Z"
   },
   {
    "duration": 16,
    "start_time": "2025-01-13T19:19:30.333Z"
   },
   {
    "duration": 29,
    "start_time": "2025-01-13T19:19:30.352Z"
   },
   {
    "duration": 3,
    "start_time": "2025-01-13T19:19:30.382Z"
   },
   {
    "duration": 70,
    "start_time": "2025-01-13T19:19:30.387Z"
   },
   {
    "duration": 215,
    "start_time": "2025-01-13T19:19:30.459Z"
   },
   {
    "duration": 259,
    "start_time": "2025-01-13T19:19:30.676Z"
   },
   {
    "duration": 7,
    "start_time": "2025-01-13T19:19:30.937Z"
   },
   {
    "duration": 210,
    "start_time": "2025-01-13T19:19:30.946Z"
   },
   {
    "duration": 172,
    "start_time": "2025-01-13T19:19:31.158Z"
   },
   {
    "duration": 7,
    "start_time": "2025-01-13T19:19:31.332Z"
   },
   {
    "duration": 142,
    "start_time": "2025-01-13T19:19:31.340Z"
   },
   {
    "duration": 219,
    "start_time": "2025-01-13T19:19:31.486Z"
   },
   {
    "duration": 18,
    "start_time": "2025-01-13T19:19:31.711Z"
   },
   {
    "duration": 166,
    "start_time": "2025-01-13T19:19:31.732Z"
   },
   {
    "duration": 125,
    "start_time": "2025-01-13T19:19:31.900Z"
   },
   {
    "duration": 6,
    "start_time": "2025-01-13T19:19:32.027Z"
   },
   {
    "duration": 7,
    "start_time": "2025-01-13T19:19:32.035Z"
   },
   {
    "duration": 280,
    "start_time": "2025-01-13T19:22:51.937Z"
   },
   {
    "duration": 10,
    "start_time": "2025-01-13T19:23:06.838Z"
   },
   {
    "duration": 24,
    "start_time": "2025-01-13T19:29:21.538Z"
   },
   {
    "duration": 232,
    "start_time": "2025-01-13T19:29:55.863Z"
   },
   {
    "duration": 49,
    "start_time": "2025-01-13T19:30:57.425Z"
   },
   {
    "duration": 861,
    "start_time": "2025-01-13T19:31:08.527Z"
   },
   {
    "duration": 153,
    "start_time": "2025-01-13T19:31:09.390Z"
   },
   {
    "duration": 9,
    "start_time": "2025-01-13T19:31:09.545Z"
   },
   {
    "duration": 10,
    "start_time": "2025-01-13T19:31:09.557Z"
   },
   {
    "duration": 4,
    "start_time": "2025-01-13T19:31:09.569Z"
   },
   {
    "duration": 9,
    "start_time": "2025-01-13T19:31:09.575Z"
   },
   {
    "duration": 26,
    "start_time": "2025-01-13T19:31:09.586Z"
   },
   {
    "duration": 8,
    "start_time": "2025-01-13T19:31:09.613Z"
   },
   {
    "duration": 5,
    "start_time": "2025-01-13T19:31:09.622Z"
   },
   {
    "duration": 9,
    "start_time": "2025-01-13T19:31:09.628Z"
   },
   {
    "duration": 15,
    "start_time": "2025-01-13T19:31:09.638Z"
   },
   {
    "duration": 13,
    "start_time": "2025-01-13T19:31:09.654Z"
   },
   {
    "duration": 68,
    "start_time": "2025-01-13T19:31:09.669Z"
   },
   {
    "duration": 14,
    "start_time": "2025-01-13T19:31:09.741Z"
   },
   {
    "duration": 11,
    "start_time": "2025-01-13T19:31:09.757Z"
   },
   {
    "duration": 6,
    "start_time": "2025-01-13T19:31:09.770Z"
   },
   {
    "duration": 47,
    "start_time": "2025-01-13T19:31:09.778Z"
   },
   {
    "duration": 10,
    "start_time": "2025-01-13T19:31:09.826Z"
   },
   {
    "duration": 14,
    "start_time": "2025-01-13T19:31:09.837Z"
   },
   {
    "duration": 7,
    "start_time": "2025-01-13T19:31:09.852Z"
   },
   {
    "duration": 71,
    "start_time": "2025-01-13T19:31:09.861Z"
   },
   {
    "duration": 18,
    "start_time": "2025-01-13T19:31:09.934Z"
   },
   {
    "duration": 11,
    "start_time": "2025-01-13T19:31:09.954Z"
   },
   {
    "duration": 25,
    "start_time": "2025-01-13T19:31:09.967Z"
   },
   {
    "duration": 35,
    "start_time": "2025-01-13T19:31:09.994Z"
   },
   {
    "duration": 12,
    "start_time": "2025-01-13T19:31:10.031Z"
   },
   {
    "duration": 14,
    "start_time": "2025-01-13T19:31:10.045Z"
   },
   {
    "duration": 28,
    "start_time": "2025-01-13T19:31:10.060Z"
   },
   {
    "duration": 12,
    "start_time": "2025-01-13T19:31:10.111Z"
   },
   {
    "duration": 494,
    "start_time": "2025-01-13T19:31:10.124Z"
   },
   {
    "duration": 0,
    "start_time": "2025-01-13T19:31:10.619Z"
   },
   {
    "duration": 0,
    "start_time": "2025-01-13T19:31:10.620Z"
   },
   {
    "duration": 0,
    "start_time": "2025-01-13T19:31:10.622Z"
   },
   {
    "duration": 0,
    "start_time": "2025-01-13T19:31:10.624Z"
   },
   {
    "duration": 0,
    "start_time": "2025-01-13T19:31:10.625Z"
   },
   {
    "duration": 0,
    "start_time": "2025-01-13T19:31:10.626Z"
   },
   {
    "duration": 0,
    "start_time": "2025-01-13T19:31:10.628Z"
   },
   {
    "duration": 0,
    "start_time": "2025-01-13T19:31:10.629Z"
   },
   {
    "duration": 0,
    "start_time": "2025-01-13T19:31:10.630Z"
   },
   {
    "duration": 0,
    "start_time": "2025-01-13T19:31:10.632Z"
   },
   {
    "duration": 0,
    "start_time": "2025-01-13T19:31:10.633Z"
   },
   {
    "duration": 0,
    "start_time": "2025-01-13T19:31:10.634Z"
   },
   {
    "duration": 1,
    "start_time": "2025-01-13T19:31:10.635Z"
   },
   {
    "duration": 49,
    "start_time": "2025-01-13T19:32:40.013Z"
   },
   {
    "duration": 9,
    "start_time": "2025-01-13T19:34:50.995Z"
   },
   {
    "duration": 6,
    "start_time": "2025-01-13T19:35:13.522Z"
   },
   {
    "duration": 48,
    "start_time": "2025-01-13T19:35:33.734Z"
   },
   {
    "duration": 50,
    "start_time": "2025-01-13T19:41:38.367Z"
   },
   {
    "duration": 19,
    "start_time": "2025-01-13T19:42:22.248Z"
   },
   {
    "duration": 20,
    "start_time": "2025-01-13T19:43:09.890Z"
   },
   {
    "duration": 117,
    "start_time": "2025-01-13T19:43:18.488Z"
   },
   {
    "duration": 146,
    "start_time": "2025-01-13T19:44:08.731Z"
   },
   {
    "duration": 50,
    "start_time": "2025-01-13T19:44:49.004Z"
   },
   {
    "duration": 46,
    "start_time": "2025-01-13T19:45:42.760Z"
   },
   {
    "duration": 20,
    "start_time": "2025-01-13T19:50:14.947Z"
   },
   {
    "duration": 795,
    "start_time": "2025-01-13T19:50:30.803Z"
   },
   {
    "duration": 159,
    "start_time": "2025-01-13T19:50:31.600Z"
   },
   {
    "duration": 9,
    "start_time": "2025-01-13T19:50:31.761Z"
   },
   {
    "duration": 9,
    "start_time": "2025-01-13T19:50:31.773Z"
   },
   {
    "duration": 4,
    "start_time": "2025-01-13T19:50:31.784Z"
   },
   {
    "duration": 22,
    "start_time": "2025-01-13T19:50:31.790Z"
   },
   {
    "duration": 8,
    "start_time": "2025-01-13T19:50:31.814Z"
   },
   {
    "duration": 9,
    "start_time": "2025-01-13T19:50:31.823Z"
   },
   {
    "duration": 5,
    "start_time": "2025-01-13T19:50:31.833Z"
   },
   {
    "duration": 9,
    "start_time": "2025-01-13T19:50:31.841Z"
   },
   {
    "duration": 15,
    "start_time": "2025-01-13T19:50:31.851Z"
   },
   {
    "duration": 7,
    "start_time": "2025-01-13T19:50:31.868Z"
   },
   {
    "duration": 70,
    "start_time": "2025-01-13T19:50:31.876Z"
   },
   {
    "duration": 15,
    "start_time": "2025-01-13T19:50:31.947Z"
   },
   {
    "duration": 11,
    "start_time": "2025-01-13T19:50:31.964Z"
   },
   {
    "duration": 5,
    "start_time": "2025-01-13T19:50:31.977Z"
   },
   {
    "duration": 49,
    "start_time": "2025-01-13T19:50:31.984Z"
   },
   {
    "duration": 9,
    "start_time": "2025-01-13T19:50:32.035Z"
   },
   {
    "duration": 14,
    "start_time": "2025-01-13T19:50:32.045Z"
   },
   {
    "duration": 7,
    "start_time": "2025-01-13T19:50:32.060Z"
   },
   {
    "duration": 69,
    "start_time": "2025-01-13T19:50:32.068Z"
   },
   {
    "duration": 13,
    "start_time": "2025-01-13T19:50:32.139Z"
   },
   {
    "duration": 5,
    "start_time": "2025-01-13T19:50:32.153Z"
   },
   {
    "duration": 18,
    "start_time": "2025-01-13T19:50:32.159Z"
   },
   {
    "duration": 42,
    "start_time": "2025-01-13T19:50:32.178Z"
   },
   {
    "duration": 12,
    "start_time": "2025-01-13T19:50:32.222Z"
   },
   {
    "duration": 14,
    "start_time": "2025-01-13T19:50:32.236Z"
   },
   {
    "duration": 27,
    "start_time": "2025-01-13T19:50:32.253Z"
   },
   {
    "duration": 29,
    "start_time": "2025-01-13T19:50:32.283Z"
   },
   {
    "duration": 277,
    "start_time": "2025-01-13T19:50:32.314Z"
   },
   {
    "duration": 0,
    "start_time": "2025-01-13T19:50:32.593Z"
   },
   {
    "duration": 0,
    "start_time": "2025-01-13T19:50:32.594Z"
   },
   {
    "duration": 0,
    "start_time": "2025-01-13T19:50:32.596Z"
   },
   {
    "duration": 0,
    "start_time": "2025-01-13T19:50:32.597Z"
   },
   {
    "duration": 0,
    "start_time": "2025-01-13T19:50:32.598Z"
   },
   {
    "duration": 0,
    "start_time": "2025-01-13T19:50:32.611Z"
   },
   {
    "duration": 0,
    "start_time": "2025-01-13T19:50:32.613Z"
   },
   {
    "duration": 0,
    "start_time": "2025-01-13T19:50:32.613Z"
   },
   {
    "duration": 0,
    "start_time": "2025-01-13T19:50:32.614Z"
   },
   {
    "duration": 0,
    "start_time": "2025-01-13T19:50:32.615Z"
   },
   {
    "duration": 0,
    "start_time": "2025-01-13T19:50:32.616Z"
   },
   {
    "duration": 0,
    "start_time": "2025-01-13T19:50:32.617Z"
   },
   {
    "duration": 0,
    "start_time": "2025-01-13T19:50:32.618Z"
   },
   {
    "duration": 43,
    "start_time": "2025-01-13T19:51:06.245Z"
   },
   {
    "duration": 44,
    "start_time": "2025-01-13T19:52:05.797Z"
   },
   {
    "duration": 45,
    "start_time": "2025-01-13T19:58:05.514Z"
   },
   {
    "duration": 790,
    "start_time": "2025-01-13T20:11:57.517Z"
   },
   {
    "duration": 152,
    "start_time": "2025-01-13T20:11:58.309Z"
   },
   {
    "duration": 10,
    "start_time": "2025-01-13T20:11:58.462Z"
   },
   {
    "duration": 9,
    "start_time": "2025-01-13T20:11:58.474Z"
   },
   {
    "duration": 5,
    "start_time": "2025-01-13T20:11:58.484Z"
   },
   {
    "duration": 28,
    "start_time": "2025-01-13T20:11:58.490Z"
   },
   {
    "duration": 8,
    "start_time": "2025-01-13T20:11:58.520Z"
   },
   {
    "duration": 7,
    "start_time": "2025-01-13T20:11:58.530Z"
   },
   {
    "duration": 5,
    "start_time": "2025-01-13T20:11:58.540Z"
   },
   {
    "duration": 10,
    "start_time": "2025-01-13T20:11:58.548Z"
   },
   {
    "duration": 15,
    "start_time": "2025-01-13T20:11:58.559Z"
   },
   {
    "duration": 39,
    "start_time": "2025-01-13T20:11:58.575Z"
   },
   {
    "duration": 40,
    "start_time": "2025-01-13T20:11:58.615Z"
   },
   {
    "duration": 14,
    "start_time": "2025-01-13T20:11:58.656Z"
   },
   {
    "duration": 12,
    "start_time": "2025-01-13T20:11:58.672Z"
   },
   {
    "duration": 31,
    "start_time": "2025-01-13T20:11:58.685Z"
   },
   {
    "duration": 22,
    "start_time": "2025-01-13T20:11:58.718Z"
   },
   {
    "duration": 9,
    "start_time": "2025-01-13T20:11:58.741Z"
   },
   {
    "duration": 13,
    "start_time": "2025-01-13T20:11:58.751Z"
   },
   {
    "duration": 6,
    "start_time": "2025-01-13T20:11:58.766Z"
   },
   {
    "duration": 81,
    "start_time": "2025-01-13T20:11:58.774Z"
   },
   {
    "duration": 14,
    "start_time": "2025-01-13T20:11:58.857Z"
   },
   {
    "duration": 3,
    "start_time": "2025-01-13T20:11:58.873Z"
   },
   {
    "duration": 40,
    "start_time": "2025-01-13T20:11:58.878Z"
   },
   {
    "duration": 18,
    "start_time": "2025-01-13T20:11:58.920Z"
   },
   {
    "duration": 12,
    "start_time": "2025-01-13T20:11:58.939Z"
   },
   {
    "duration": 14,
    "start_time": "2025-01-13T20:11:58.953Z"
   },
   {
    "duration": 51,
    "start_time": "2025-01-13T20:11:58.970Z"
   },
   {
    "duration": 3,
    "start_time": "2025-01-13T20:11:59.023Z"
   },
   {
    "duration": 45,
    "start_time": "2025-01-13T20:11:59.028Z"
   },
   {
    "duration": 201,
    "start_time": "2025-01-13T20:11:59.074Z"
   },
   {
    "duration": 241,
    "start_time": "2025-01-13T20:11:59.277Z"
   },
   {
    "duration": 9,
    "start_time": "2025-01-13T20:11:59.521Z"
   },
   {
    "duration": 209,
    "start_time": "2025-01-13T20:11:59.534Z"
   },
   {
    "duration": 177,
    "start_time": "2025-01-13T20:11:59.745Z"
   },
   {
    "duration": 6,
    "start_time": "2025-01-13T20:11:59.924Z"
   },
   {
    "duration": 135,
    "start_time": "2025-01-13T20:11:59.932Z"
   },
   {
    "duration": 162,
    "start_time": "2025-01-13T20:12:00.069Z"
   },
   {
    "duration": 14,
    "start_time": "2025-01-13T20:12:00.233Z"
   },
   {
    "duration": 167,
    "start_time": "2025-01-13T20:12:00.249Z"
   },
   {
    "duration": 113,
    "start_time": "2025-01-13T20:12:00.417Z"
   },
   {
    "duration": 6,
    "start_time": "2025-01-13T20:12:00.531Z"
   },
   {
    "duration": 8,
    "start_time": "2025-01-13T20:12:00.538Z"
   },
   {
    "duration": 2609,
    "start_time": "2025-01-13T21:54:20.420Z"
   },
   {
    "duration": 204,
    "start_time": "2025-01-13T21:54:23.031Z"
   },
   {
    "duration": 10,
    "start_time": "2025-01-13T21:54:23.236Z"
   },
   {
    "duration": 10,
    "start_time": "2025-01-13T21:54:23.247Z"
   },
   {
    "duration": 4,
    "start_time": "2025-01-13T21:54:23.258Z"
   },
   {
    "duration": 11,
    "start_time": "2025-01-13T21:54:23.264Z"
   },
   {
    "duration": 7,
    "start_time": "2025-01-13T21:54:23.276Z"
   },
   {
    "duration": 26,
    "start_time": "2025-01-13T21:54:23.285Z"
   },
   {
    "duration": 5,
    "start_time": "2025-01-13T21:54:23.313Z"
   },
   {
    "duration": 10,
    "start_time": "2025-01-13T21:54:23.321Z"
   },
   {
    "duration": 17,
    "start_time": "2025-01-13T21:54:23.332Z"
   },
   {
    "duration": 6,
    "start_time": "2025-01-13T21:54:23.350Z"
   },
   {
    "duration": 75,
    "start_time": "2025-01-13T21:54:23.358Z"
   },
   {
    "duration": 14,
    "start_time": "2025-01-13T21:54:23.435Z"
   },
   {
    "duration": 12,
    "start_time": "2025-01-13T21:54:23.451Z"
   },
   {
    "duration": 6,
    "start_time": "2025-01-13T21:54:23.465Z"
   },
   {
    "duration": 45,
    "start_time": "2025-01-13T21:54:23.472Z"
   },
   {
    "duration": 9,
    "start_time": "2025-01-13T21:54:23.519Z"
   },
   {
    "duration": 13,
    "start_time": "2025-01-13T21:54:23.529Z"
   },
   {
    "duration": 7,
    "start_time": "2025-01-13T21:54:23.543Z"
   },
   {
    "duration": 70,
    "start_time": "2025-01-13T21:54:23.552Z"
   },
   {
    "duration": 13,
    "start_time": "2025-01-13T21:54:23.623Z"
   },
   {
    "duration": 3,
    "start_time": "2025-01-13T21:54:23.638Z"
   },
   {
    "duration": 17,
    "start_time": "2025-01-13T21:54:23.643Z"
   },
   {
    "duration": 17,
    "start_time": "2025-01-13T21:54:23.661Z"
   },
   {
    "duration": 12,
    "start_time": "2025-01-13T21:54:23.706Z"
   },
   {
    "duration": 14,
    "start_time": "2025-01-13T21:54:23.720Z"
   },
   {
    "duration": 28,
    "start_time": "2025-01-13T21:54:23.738Z"
   },
   {
    "duration": 5,
    "start_time": "2025-01-13T21:54:23.767Z"
   },
   {
    "duration": 70,
    "start_time": "2025-01-13T21:54:23.774Z"
   },
   {
    "duration": 198,
    "start_time": "2025-01-13T21:54:23.846Z"
   },
   {
    "duration": 210,
    "start_time": "2025-01-13T21:54:24.046Z"
   },
   {
    "duration": 4,
    "start_time": "2025-01-13T21:54:24.258Z"
   },
   {
    "duration": 199,
    "start_time": "2025-01-13T21:54:24.264Z"
   },
   {
    "duration": 174,
    "start_time": "2025-01-13T21:54:24.465Z"
   },
   {
    "duration": 6,
    "start_time": "2025-01-13T21:54:24.641Z"
   },
   {
    "duration": 135,
    "start_time": "2025-01-13T21:54:24.648Z"
   },
   {
    "duration": 166,
    "start_time": "2025-01-13T21:54:24.784Z"
   },
   {
    "duration": 14,
    "start_time": "2025-01-13T21:54:24.952Z"
   },
   {
    "duration": 230,
    "start_time": "2025-01-13T21:54:24.967Z"
   },
   {
    "duration": 112,
    "start_time": "2025-01-13T21:54:25.200Z"
   },
   {
    "duration": 7,
    "start_time": "2025-01-13T21:54:25.314Z"
   },
   {
    "duration": 7,
    "start_time": "2025-01-13T21:54:25.323Z"
   },
   {
    "duration": 6,
    "start_time": "2025-01-13T22:06:38.396Z"
   },
   {
    "duration": 803,
    "start_time": "2025-01-13T22:07:42.984Z"
   },
   {
    "duration": 177,
    "start_time": "2025-01-13T22:07:43.789Z"
   },
   {
    "duration": 9,
    "start_time": "2025-01-13T22:07:43.967Z"
   },
   {
    "duration": 9,
    "start_time": "2025-01-13T22:07:43.979Z"
   },
   {
    "duration": 4,
    "start_time": "2025-01-13T22:07:43.989Z"
   },
   {
    "duration": 13,
    "start_time": "2025-01-13T22:07:43.995Z"
   },
   {
    "duration": 8,
    "start_time": "2025-01-13T22:07:44.009Z"
   },
   {
    "duration": 9,
    "start_time": "2025-01-13T22:07:44.019Z"
   },
   {
    "duration": 4,
    "start_time": "2025-01-13T22:07:44.030Z"
   },
   {
    "duration": 10,
    "start_time": "2025-01-13T22:07:44.038Z"
   },
   {
    "duration": 16,
    "start_time": "2025-01-13T22:07:44.050Z"
   },
   {
    "duration": 10,
    "start_time": "2025-01-13T22:07:44.106Z"
   },
   {
    "duration": 46,
    "start_time": "2025-01-13T22:07:44.117Z"
   },
   {
    "duration": 15,
    "start_time": "2025-01-13T22:07:44.164Z"
   },
   {
    "duration": 32,
    "start_time": "2025-01-13T22:07:44.180Z"
   },
   {
    "duration": 6,
    "start_time": "2025-01-13T22:07:44.213Z"
   },
   {
    "duration": 20,
    "start_time": "2025-01-13T22:07:44.221Z"
   },
   {
    "duration": 9,
    "start_time": "2025-01-13T22:07:44.243Z"
   },
   {
    "duration": 13,
    "start_time": "2025-01-13T22:07:44.254Z"
   },
   {
    "duration": 39,
    "start_time": "2025-01-13T22:07:44.268Z"
   },
   {
    "duration": 42,
    "start_time": "2025-01-13T22:07:44.309Z"
   },
   {
    "duration": 14,
    "start_time": "2025-01-13T22:07:44.352Z"
   },
   {
    "duration": 4,
    "start_time": "2025-01-13T22:07:44.368Z"
   },
   {
    "duration": 43,
    "start_time": "2025-01-13T22:07:44.374Z"
   },
   {
    "duration": 17,
    "start_time": "2025-01-13T22:07:44.419Z"
   },
   {
    "duration": 11,
    "start_time": "2025-01-13T22:07:44.438Z"
   },
   {
    "duration": 13,
    "start_time": "2025-01-13T22:07:44.450Z"
   },
   {
    "duration": 54,
    "start_time": "2025-01-13T22:07:44.466Z"
   },
   {
    "duration": 3,
    "start_time": "2025-01-13T22:07:44.522Z"
   },
   {
    "duration": 44,
    "start_time": "2025-01-13T22:07:44.527Z"
   },
   {
    "duration": 199,
    "start_time": "2025-01-13T22:07:44.573Z"
   },
   {
    "duration": 241,
    "start_time": "2025-01-13T22:07:44.774Z"
   },
   {
    "duration": 5,
    "start_time": "2025-01-13T22:07:45.017Z"
   },
   {
    "duration": 205,
    "start_time": "2025-01-13T22:07:45.023Z"
   },
   {
    "duration": 171,
    "start_time": "2025-01-13T22:07:45.229Z"
   },
   {
    "duration": 7,
    "start_time": "2025-01-13T22:07:45.404Z"
   },
   {
    "duration": 128,
    "start_time": "2025-01-13T22:07:45.412Z"
   },
   {
    "duration": 165,
    "start_time": "2025-01-13T22:07:45.542Z"
   },
   {
    "duration": 14,
    "start_time": "2025-01-13T22:07:45.708Z"
   },
   {
    "duration": 165,
    "start_time": "2025-01-13T22:07:45.723Z"
   },
   {
    "duration": 116,
    "start_time": "2025-01-13T22:07:45.890Z"
   },
   {
    "duration": 7,
    "start_time": "2025-01-13T22:07:46.008Z"
   },
   {
    "duration": 10,
    "start_time": "2025-01-13T22:07:46.017Z"
   },
   {
    "duration": 816,
    "start_time": "2025-01-13T22:30:44.505Z"
   },
   {
    "duration": 158,
    "start_time": "2025-01-13T22:30:45.322Z"
   },
   {
    "duration": 10,
    "start_time": "2025-01-13T22:30:45.482Z"
   },
   {
    "duration": 13,
    "start_time": "2025-01-13T22:30:45.494Z"
   },
   {
    "duration": 5,
    "start_time": "2025-01-13T22:30:45.509Z"
   },
   {
    "duration": 9,
    "start_time": "2025-01-13T22:30:45.516Z"
   },
   {
    "duration": 10,
    "start_time": "2025-01-13T22:30:45.527Z"
   },
   {
    "duration": 9,
    "start_time": "2025-01-13T22:30:45.539Z"
   },
   {
    "duration": 7,
    "start_time": "2025-01-13T22:30:45.550Z"
   },
   {
    "duration": 12,
    "start_time": "2025-01-13T22:30:45.560Z"
   },
   {
    "duration": 17,
    "start_time": "2025-01-13T22:30:45.605Z"
   },
   {
    "duration": 7,
    "start_time": "2025-01-13T22:30:45.623Z"
   },
   {
    "duration": 39,
    "start_time": "2025-01-13T22:30:45.632Z"
   },
   {
    "duration": 35,
    "start_time": "2025-01-13T22:30:45.673Z"
   },
   {
    "duration": 12,
    "start_time": "2025-01-13T22:30:45.709Z"
   },
   {
    "duration": 5,
    "start_time": "2025-01-13T22:30:45.723Z"
   },
   {
    "duration": 20,
    "start_time": "2025-01-13T22:30:45.730Z"
   },
   {
    "duration": 11,
    "start_time": "2025-01-13T22:30:45.751Z"
   },
   {
    "duration": 47,
    "start_time": "2025-01-13T22:30:45.764Z"
   },
   {
    "duration": 7,
    "start_time": "2025-01-13T22:30:45.812Z"
   },
   {
    "duration": 42,
    "start_time": "2025-01-13T22:30:45.821Z"
   },
   {
    "duration": 13,
    "start_time": "2025-01-13T22:30:45.865Z"
   },
   {
    "duration": 27,
    "start_time": "2025-01-13T22:30:45.880Z"
   },
   {
    "duration": 18,
    "start_time": "2025-01-13T22:30:45.908Z"
   },
   {
    "duration": 17,
    "start_time": "2025-01-13T22:30:45.928Z"
   },
   {
    "duration": 12,
    "start_time": "2025-01-13T22:30:45.946Z"
   },
   {
    "duration": 44,
    "start_time": "2025-01-13T22:30:45.960Z"
   },
   {
    "duration": 28,
    "start_time": "2025-01-13T22:30:46.009Z"
   },
   {
    "duration": 3,
    "start_time": "2025-01-13T22:30:46.038Z"
   },
   {
    "duration": 64,
    "start_time": "2025-01-13T22:30:46.042Z"
   },
   {
    "duration": 187,
    "start_time": "2025-01-13T22:30:46.108Z"
   },
   {
    "duration": 242,
    "start_time": "2025-01-13T22:30:46.297Z"
   },
   {
    "duration": 5,
    "start_time": "2025-01-13T22:30:46.542Z"
   },
   {
    "duration": 225,
    "start_time": "2025-01-13T22:30:46.548Z"
   },
   {
    "duration": 169,
    "start_time": "2025-01-13T22:30:46.775Z"
   },
   {
    "duration": 6,
    "start_time": "2025-01-13T22:30:46.945Z"
   },
   {
    "duration": 131,
    "start_time": "2025-01-13T22:30:46.952Z"
   },
   {
    "duration": 163,
    "start_time": "2025-01-13T22:30:47.085Z"
   },
   {
    "duration": 13,
    "start_time": "2025-01-13T22:30:47.249Z"
   },
   {
    "duration": 167,
    "start_time": "2025-01-13T22:30:47.264Z"
   },
   {
    "duration": 115,
    "start_time": "2025-01-13T22:30:47.433Z"
   },
   {
    "duration": 11,
    "start_time": "2025-01-13T22:30:47.551Z"
   },
   {
    "duration": 7,
    "start_time": "2025-01-13T22:30:47.565Z"
   },
   {
    "duration": 11,
    "start_time": "2025-01-13T22:31:55.722Z"
   },
   {
    "duration": 528,
    "start_time": "2025-01-13T22:36:38.556Z"
   },
   {
    "duration": 54,
    "start_time": "2025-01-13T22:39:00.862Z"
   },
   {
    "duration": 47,
    "start_time": "2025-01-13T22:39:56.836Z"
   },
   {
    "duration": 41,
    "start_time": "2025-01-13T22:41:23.029Z"
   },
   {
    "duration": 863,
    "start_time": "2025-01-13T22:42:07.620Z"
   },
   {
    "duration": 162,
    "start_time": "2025-01-13T22:42:08.485Z"
   },
   {
    "duration": 9,
    "start_time": "2025-01-13T22:42:08.648Z"
   },
   {
    "duration": 9,
    "start_time": "2025-01-13T22:42:08.659Z"
   },
   {
    "duration": 4,
    "start_time": "2025-01-13T22:42:08.671Z"
   },
   {
    "duration": 9,
    "start_time": "2025-01-13T22:42:08.676Z"
   },
   {
    "duration": 27,
    "start_time": "2025-01-13T22:42:08.686Z"
   },
   {
    "duration": 8,
    "start_time": "2025-01-13T22:42:08.715Z"
   },
   {
    "duration": 5,
    "start_time": "2025-01-13T22:42:08.724Z"
   },
   {
    "duration": 10,
    "start_time": "2025-01-13T22:42:08.730Z"
   },
   {
    "duration": 15,
    "start_time": "2025-01-13T22:42:08.742Z"
   },
   {
    "duration": 6,
    "start_time": "2025-01-13T22:42:08.759Z"
   },
   {
    "duration": 78,
    "start_time": "2025-01-13T22:42:08.767Z"
   },
   {
    "duration": 15,
    "start_time": "2025-01-13T22:42:08.849Z"
   },
   {
    "duration": 12,
    "start_time": "2025-01-13T22:42:08.866Z"
   },
   {
    "duration": 30,
    "start_time": "2025-01-13T22:42:08.880Z"
   },
   {
    "duration": 39,
    "start_time": "2025-01-13T22:42:08.912Z"
   },
   {
    "duration": 9,
    "start_time": "2025-01-13T22:42:08.953Z"
   },
   {
    "duration": 16,
    "start_time": "2025-01-13T22:42:08.964Z"
   },
   {
    "duration": 6,
    "start_time": "2025-01-13T22:42:08.982Z"
   },
   {
    "duration": 59,
    "start_time": "2025-01-13T22:42:08.990Z"
   },
   {
    "duration": 13,
    "start_time": "2025-01-13T22:42:09.052Z"
   },
   {
    "duration": 3,
    "start_time": "2025-01-13T22:42:09.067Z"
   },
   {
    "duration": 36,
    "start_time": "2025-01-13T22:42:09.072Z"
   },
   {
    "duration": 18,
    "start_time": "2025-01-13T22:42:09.111Z"
   },
   {
    "duration": 12,
    "start_time": "2025-01-13T22:42:09.130Z"
   },
   {
    "duration": 14,
    "start_time": "2025-01-13T22:42:09.144Z"
   },
   {
    "duration": 52,
    "start_time": "2025-01-13T22:42:09.159Z"
   },
   {
    "duration": 11,
    "start_time": "2025-01-13T22:42:09.212Z"
   },
   {
    "duration": 41,
    "start_time": "2025-01-13T22:42:09.225Z"
   },
   {
    "duration": 208,
    "start_time": "2025-01-13T22:42:09.268Z"
   },
   {
    "duration": 249,
    "start_time": "2025-01-13T22:42:09.478Z"
   },
   {
    "duration": 4,
    "start_time": "2025-01-13T22:42:09.729Z"
   },
   {
    "duration": 211,
    "start_time": "2025-01-13T22:42:09.735Z"
   },
   {
    "duration": 175,
    "start_time": "2025-01-13T22:42:09.948Z"
   },
   {
    "duration": 6,
    "start_time": "2025-01-13T22:42:10.125Z"
   },
   {
    "duration": 127,
    "start_time": "2025-01-13T22:42:10.132Z"
   },
   {
    "duration": 165,
    "start_time": "2025-01-13T22:42:10.260Z"
   },
   {
    "duration": 403,
    "start_time": "2025-01-13T22:42:10.428Z"
   },
   {
    "duration": 0,
    "start_time": "2025-01-13T22:42:10.832Z"
   },
   {
    "duration": 0,
    "start_time": "2025-01-13T22:42:10.834Z"
   },
   {
    "duration": 0,
    "start_time": "2025-01-13T22:42:10.835Z"
   },
   {
    "duration": 0,
    "start_time": "2025-01-13T22:42:10.837Z"
   },
   {
    "duration": 16,
    "start_time": "2025-01-13T22:45:38.839Z"
   },
   {
    "duration": 25,
    "start_time": "2025-01-13T22:46:24.907Z"
   },
   {
    "duration": 483,
    "start_time": "2025-01-13T22:46:35.199Z"
   },
   {
    "duration": 171,
    "start_time": "2025-01-13T22:46:51.104Z"
   },
   {
    "duration": 5,
    "start_time": "2025-01-13T22:48:24.257Z"
   },
   {
    "duration": 99,
    "start_time": "2025-01-13T22:48:44.264Z"
   },
   {
    "duration": 47,
    "start_time": "2025-01-13T22:49:14.374Z"
   },
   {
    "duration": 53,
    "start_time": "2025-01-13T22:49:32.708Z"
   },
   {
    "duration": 7,
    "start_time": "2025-01-13T22:49:45.892Z"
   },
   {
    "duration": 798,
    "start_time": "2025-01-13T22:50:15.969Z"
   },
   {
    "duration": 160,
    "start_time": "2025-01-13T22:50:16.770Z"
   },
   {
    "duration": 9,
    "start_time": "2025-01-13T22:50:16.934Z"
   },
   {
    "duration": 9,
    "start_time": "2025-01-13T22:50:16.945Z"
   },
   {
    "duration": 5,
    "start_time": "2025-01-13T22:50:16.955Z"
   },
   {
    "duration": 10,
    "start_time": "2025-01-13T22:50:16.961Z"
   },
   {
    "duration": 37,
    "start_time": "2025-01-13T22:50:16.972Z"
   },
   {
    "duration": 8,
    "start_time": "2025-01-13T22:50:17.011Z"
   },
   {
    "duration": 5,
    "start_time": "2025-01-13T22:50:17.023Z"
   },
   {
    "duration": 10,
    "start_time": "2025-01-13T22:50:17.029Z"
   },
   {
    "duration": 14,
    "start_time": "2025-01-13T22:50:17.041Z"
   },
   {
    "duration": 6,
    "start_time": "2025-01-13T22:50:17.057Z"
   },
   {
    "duration": 74,
    "start_time": "2025-01-13T22:50:17.065Z"
   },
   {
    "duration": 15,
    "start_time": "2025-01-13T22:50:17.141Z"
   },
   {
    "duration": 12,
    "start_time": "2025-01-13T22:50:17.157Z"
   },
   {
    "duration": 5,
    "start_time": "2025-01-13T22:50:17.171Z"
   },
   {
    "duration": 45,
    "start_time": "2025-01-13T22:50:17.177Z"
   },
   {
    "duration": 9,
    "start_time": "2025-01-13T22:50:17.223Z"
   },
   {
    "duration": 13,
    "start_time": "2025-01-13T22:50:17.234Z"
   },
   {
    "duration": 6,
    "start_time": "2025-01-13T22:50:17.249Z"
   },
   {
    "duration": 75,
    "start_time": "2025-01-13T22:50:17.256Z"
   },
   {
    "duration": 12,
    "start_time": "2025-01-13T22:50:17.333Z"
   },
   {
    "duration": 4,
    "start_time": "2025-01-13T22:50:17.347Z"
   },
   {
    "duration": 21,
    "start_time": "2025-01-13T22:50:17.352Z"
   },
   {
    "duration": 38,
    "start_time": "2025-01-13T22:50:17.374Z"
   },
   {
    "duration": 13,
    "start_time": "2025-01-13T22:50:17.413Z"
   },
   {
    "duration": 19,
    "start_time": "2025-01-13T22:50:17.429Z"
   },
   {
    "duration": 27,
    "start_time": "2025-01-13T22:50:17.450Z"
   },
   {
    "duration": 35,
    "start_time": "2025-01-13T22:50:17.479Z"
   },
   {
    "duration": 42,
    "start_time": "2025-01-13T22:50:17.517Z"
   },
   {
    "duration": 195,
    "start_time": "2025-01-13T22:50:17.561Z"
   },
   {
    "duration": 238,
    "start_time": "2025-01-13T22:50:17.757Z"
   },
   {
    "duration": 9,
    "start_time": "2025-01-13T22:50:17.997Z"
   },
   {
    "duration": 193,
    "start_time": "2025-01-13T22:50:18.008Z"
   },
   {
    "duration": 160,
    "start_time": "2025-01-13T22:50:18.205Z"
   },
   {
    "duration": 5,
    "start_time": "2025-01-13T22:50:18.367Z"
   },
   {
    "duration": 131,
    "start_time": "2025-01-13T22:50:18.374Z"
   },
   {
    "duration": 181,
    "start_time": "2025-01-13T22:50:18.507Z"
   },
   {
    "duration": 16,
    "start_time": "2025-01-13T22:50:18.690Z"
   },
   {
    "duration": 174,
    "start_time": "2025-01-13T22:50:18.708Z"
   },
   {
    "duration": 109,
    "start_time": "2025-01-13T22:50:18.884Z"
   },
   {
    "duration": 11,
    "start_time": "2025-01-13T22:50:18.994Z"
   },
   {
    "duration": 7,
    "start_time": "2025-01-13T22:50:19.007Z"
   },
   {
    "duration": 5,
    "start_time": "2025-01-13T22:54:35.646Z"
   },
   {
    "duration": 3,
    "start_time": "2025-01-13T23:23:29.958Z"
   },
   {
    "duration": 361,
    "start_time": "2025-01-13T23:23:43.238Z"
   },
   {
    "duration": 790,
    "start_time": "2025-01-13T23:23:54.493Z"
   },
   {
    "duration": 156,
    "start_time": "2025-01-13T23:23:55.285Z"
   },
   {
    "duration": 9,
    "start_time": "2025-01-13T23:23:55.442Z"
   },
   {
    "duration": 10,
    "start_time": "2025-01-13T23:23:55.454Z"
   },
   {
    "duration": 4,
    "start_time": "2025-01-13T23:23:55.465Z"
   },
   {
    "duration": 9,
    "start_time": "2025-01-13T23:23:55.471Z"
   },
   {
    "duration": 28,
    "start_time": "2025-01-13T23:23:55.482Z"
   },
   {
    "duration": 9,
    "start_time": "2025-01-13T23:23:55.513Z"
   },
   {
    "duration": 5,
    "start_time": "2025-01-13T23:23:55.523Z"
   },
   {
    "duration": 9,
    "start_time": "2025-01-13T23:23:55.531Z"
   },
   {
    "duration": 14,
    "start_time": "2025-01-13T23:23:55.542Z"
   },
   {
    "duration": 6,
    "start_time": "2025-01-13T23:23:55.558Z"
   },
   {
    "duration": 82,
    "start_time": "2025-01-13T23:23:55.565Z"
   },
   {
    "duration": 19,
    "start_time": "2025-01-13T23:23:55.649Z"
   },
   {
    "duration": 12,
    "start_time": "2025-01-13T23:23:55.670Z"
   },
   {
    "duration": 26,
    "start_time": "2025-01-13T23:23:55.684Z"
   },
   {
    "duration": 22,
    "start_time": "2025-01-13T23:23:55.711Z"
   },
   {
    "duration": 10,
    "start_time": "2025-01-13T23:23:55.734Z"
   },
   {
    "duration": 14,
    "start_time": "2025-01-13T23:23:55.745Z"
   },
   {
    "duration": 7,
    "start_time": "2025-01-13T23:23:55.760Z"
   },
   {
    "duration": 76,
    "start_time": "2025-01-13T23:23:55.769Z"
   },
   {
    "duration": 12,
    "start_time": "2025-01-13T23:23:55.847Z"
   },
   {
    "duration": 3,
    "start_time": "2025-01-13T23:23:55.861Z"
   },
   {
    "duration": 40,
    "start_time": "2025-01-13T23:23:55.866Z"
   },
   {
    "duration": 19,
    "start_time": "2025-01-13T23:23:55.908Z"
   },
   {
    "duration": 12,
    "start_time": "2025-01-13T23:23:55.929Z"
   },
   {
    "duration": 13,
    "start_time": "2025-01-13T23:23:55.943Z"
   },
   {
    "duration": 51,
    "start_time": "2025-01-13T23:23:55.960Z"
   },
   {
    "duration": 10,
    "start_time": "2025-01-13T23:23:56.013Z"
   },
   {
    "duration": 39,
    "start_time": "2025-01-13T23:23:56.025Z"
   },
   {
    "duration": 203,
    "start_time": "2025-01-13T23:23:56.065Z"
   },
   {
    "duration": 238,
    "start_time": "2025-01-13T23:23:56.269Z"
   },
   {
    "duration": 5,
    "start_time": "2025-01-13T23:23:56.509Z"
   },
   {
    "duration": 206,
    "start_time": "2025-01-13T23:23:56.515Z"
   },
   {
    "duration": 184,
    "start_time": "2025-01-13T23:23:56.723Z"
   },
   {
    "duration": 6,
    "start_time": "2025-01-13T23:23:56.908Z"
   },
   {
    "duration": 132,
    "start_time": "2025-01-13T23:23:56.915Z"
   },
   {
    "duration": 161,
    "start_time": "2025-01-13T23:23:57.049Z"
   },
   {
    "duration": 14,
    "start_time": "2025-01-13T23:23:57.212Z"
   },
   {
    "duration": 178,
    "start_time": "2025-01-13T23:23:57.227Z"
   },
   {
    "duration": 106,
    "start_time": "2025-01-13T23:23:57.407Z"
   },
   {
    "duration": 6,
    "start_time": "2025-01-13T23:23:57.515Z"
   },
   {
    "duration": 6,
    "start_time": "2025-01-13T23:23:57.522Z"
   },
   {
    "duration": 364,
    "start_time": "2025-01-13T23:23:57.530Z"
   },
   {
    "duration": 14,
    "start_time": "2025-01-13T23:24:15.490Z"
   },
   {
    "duration": 5,
    "start_time": "2025-01-13T23:24:45.578Z"
   },
   {
    "duration": 19,
    "start_time": "2025-01-13T23:25:00.344Z"
   },
   {
    "duration": 4,
    "start_time": "2025-01-13T23:25:15.075Z"
   },
   {
    "duration": 5,
    "start_time": "2025-01-13T23:25:22.895Z"
   },
   {
    "duration": 23,
    "start_time": "2025-01-13T23:25:45.035Z"
   },
   {
    "duration": 14,
    "start_time": "2025-01-13T23:26:03.912Z"
   },
   {
    "duration": 22,
    "start_time": "2025-01-13T23:27:06.311Z"
   },
   {
    "duration": 11,
    "start_time": "2025-01-13T23:27:26.920Z"
   },
   {
    "duration": 821,
    "start_time": "2025-01-13T23:36:39.598Z"
   },
   {
    "duration": 157,
    "start_time": "2025-01-13T23:36:40.421Z"
   },
   {
    "duration": 9,
    "start_time": "2025-01-13T23:36:40.580Z"
   },
   {
    "duration": 14,
    "start_time": "2025-01-13T23:36:40.592Z"
   },
   {
    "duration": 5,
    "start_time": "2025-01-13T23:36:40.607Z"
   },
   {
    "duration": 11,
    "start_time": "2025-01-13T23:36:40.614Z"
   },
   {
    "duration": 8,
    "start_time": "2025-01-13T23:36:40.626Z"
   },
   {
    "duration": 8,
    "start_time": "2025-01-13T23:36:40.636Z"
   },
   {
    "duration": 5,
    "start_time": "2025-01-13T23:36:40.645Z"
   },
   {
    "duration": 9,
    "start_time": "2025-01-13T23:36:40.653Z"
   },
   {
    "duration": 53,
    "start_time": "2025-01-13T23:36:40.664Z"
   },
   {
    "duration": 7,
    "start_time": "2025-01-13T23:36:40.718Z"
   },
   {
    "duration": 38,
    "start_time": "2025-01-13T23:36:40.727Z"
   },
   {
    "duration": 38,
    "start_time": "2025-01-13T23:36:40.767Z"
   },
   {
    "duration": 12,
    "start_time": "2025-01-13T23:36:40.806Z"
   },
   {
    "duration": 6,
    "start_time": "2025-01-13T23:36:40.819Z"
   },
   {
    "duration": 19,
    "start_time": "2025-01-13T23:36:40.827Z"
   },
   {
    "duration": 10,
    "start_time": "2025-01-13T23:36:40.847Z"
   },
   {
    "duration": 14,
    "start_time": "2025-01-13T23:36:40.859Z"
   },
   {
    "duration": 36,
    "start_time": "2025-01-13T23:36:40.874Z"
   },
   {
    "duration": 41,
    "start_time": "2025-01-13T23:36:40.912Z"
   },
   {
    "duration": 13,
    "start_time": "2025-01-13T23:36:40.954Z"
   },
   {
    "duration": 4,
    "start_time": "2025-01-13T23:36:40.969Z"
   },
   {
    "duration": 42,
    "start_time": "2025-01-13T23:36:40.974Z"
   },
   {
    "duration": 19,
    "start_time": "2025-01-13T23:36:41.018Z"
   },
   {
    "duration": 13,
    "start_time": "2025-01-13T23:36:41.039Z"
   },
   {
    "duration": 13,
    "start_time": "2025-01-13T23:36:41.053Z"
   },
   {
    "duration": 56,
    "start_time": "2025-01-13T23:36:41.070Z"
   },
   {
    "duration": 10,
    "start_time": "2025-01-13T23:36:41.128Z"
   },
   {
    "duration": 41,
    "start_time": "2025-01-13T23:36:41.140Z"
   },
   {
    "duration": 217,
    "start_time": "2025-01-13T23:36:41.182Z"
   },
   {
    "duration": 249,
    "start_time": "2025-01-13T23:36:41.401Z"
   },
   {
    "duration": 4,
    "start_time": "2025-01-13T23:36:41.652Z"
   },
   {
    "duration": 202,
    "start_time": "2025-01-13T23:36:41.657Z"
   },
   {
    "duration": 173,
    "start_time": "2025-01-13T23:36:41.861Z"
   },
   {
    "duration": 6,
    "start_time": "2025-01-13T23:36:42.036Z"
   },
   {
    "duration": 128,
    "start_time": "2025-01-13T23:36:42.043Z"
   },
   {
    "duration": 164,
    "start_time": "2025-01-13T23:36:42.173Z"
   },
   {
    "duration": 14,
    "start_time": "2025-01-13T23:36:42.339Z"
   },
   {
    "duration": 212,
    "start_time": "2025-01-13T23:36:42.355Z"
   },
   {
    "duration": 120,
    "start_time": "2025-01-13T23:36:42.569Z"
   },
   {
    "duration": 6,
    "start_time": "2025-01-13T23:36:42.692Z"
   },
   {
    "duration": 18,
    "start_time": "2025-01-13T23:36:42.699Z"
   },
   {
    "duration": 158,
    "start_time": "2025-01-14T08:05:32.108Z"
   },
   {
    "duration": 853,
    "start_time": "2025-01-14T08:05:36.211Z"
   },
   {
    "duration": 233,
    "start_time": "2025-01-14T08:05:37.066Z"
   },
   {
    "duration": 10,
    "start_time": "2025-01-14T08:05:37.300Z"
   },
   {
    "duration": 9,
    "start_time": "2025-01-14T08:05:37.311Z"
   },
   {
    "duration": 6,
    "start_time": "2025-01-14T08:05:37.323Z"
   },
   {
    "duration": 11,
    "start_time": "2025-01-14T08:05:37.330Z"
   },
   {
    "duration": 9,
    "start_time": "2025-01-14T08:05:37.344Z"
   },
   {
    "duration": 21,
    "start_time": "2025-01-14T08:05:37.354Z"
   },
   {
    "duration": 5,
    "start_time": "2025-01-14T08:05:37.377Z"
   },
   {
    "duration": 9,
    "start_time": "2025-01-14T08:05:37.384Z"
   },
   {
    "duration": 15,
    "start_time": "2025-01-14T08:05:37.394Z"
   },
   {
    "duration": 7,
    "start_time": "2025-01-14T08:05:37.411Z"
   },
   {
    "duration": 70,
    "start_time": "2025-01-14T08:05:37.419Z"
   },
   {
    "duration": 17,
    "start_time": "2025-01-14T08:05:37.492Z"
   },
   {
    "duration": 11,
    "start_time": "2025-01-14T08:05:37.511Z"
   },
   {
    "duration": 5,
    "start_time": "2025-01-14T08:05:37.524Z"
   },
   {
    "duration": 42,
    "start_time": "2025-01-14T08:05:37.531Z"
   },
   {
    "duration": 9,
    "start_time": "2025-01-14T08:05:37.575Z"
   },
   {
    "duration": 13,
    "start_time": "2025-01-14T08:05:37.586Z"
   },
   {
    "duration": 6,
    "start_time": "2025-01-14T08:05:37.601Z"
   },
   {
    "duration": 66,
    "start_time": "2025-01-14T08:05:37.610Z"
   },
   {
    "duration": 14,
    "start_time": "2025-01-14T08:05:37.677Z"
   },
   {
    "duration": 4,
    "start_time": "2025-01-14T08:05:37.692Z"
   },
   {
    "duration": 18,
    "start_time": "2025-01-14T08:05:37.698Z"
   },
   {
    "duration": 18,
    "start_time": "2025-01-14T08:05:37.717Z"
   },
   {
    "duration": 40,
    "start_time": "2025-01-14T08:05:37.737Z"
   },
   {
    "duration": 14,
    "start_time": "2025-01-14T08:05:37.778Z"
   },
   {
    "duration": 27,
    "start_time": "2025-01-14T08:05:37.794Z"
   },
   {
    "duration": 9,
    "start_time": "2025-01-14T08:05:37.823Z"
   },
   {
    "duration": 71,
    "start_time": "2025-01-14T08:05:37.834Z"
   },
   {
    "duration": 5,
    "start_time": "2025-01-14T08:05:37.906Z"
   },
   {
    "duration": 214,
    "start_time": "2025-01-14T08:05:37.913Z"
   },
   {
    "duration": 258,
    "start_time": "2025-01-14T08:05:38.128Z"
   },
   {
    "duration": 5,
    "start_time": "2025-01-14T08:05:38.388Z"
   },
   {
    "duration": 207,
    "start_time": "2025-01-14T08:05:38.395Z"
   },
   {
    "duration": 170,
    "start_time": "2025-01-14T08:05:38.603Z"
   },
   {
    "duration": 5,
    "start_time": "2025-01-14T08:05:38.775Z"
   },
   {
    "duration": 129,
    "start_time": "2025-01-14T08:05:38.783Z"
   },
   {
    "duration": 172,
    "start_time": "2025-01-14T08:05:38.914Z"
   },
   {
    "duration": 14,
    "start_time": "2025-01-14T08:05:39.088Z"
   },
   {
    "duration": 188,
    "start_time": "2025-01-14T08:05:39.107Z"
   },
   {
    "duration": 108,
    "start_time": "2025-01-14T08:05:39.297Z"
   },
   {
    "duration": 7,
    "start_time": "2025-01-14T08:05:39.406Z"
   },
   {
    "duration": 7,
    "start_time": "2025-01-14T08:05:39.414Z"
   },
   {
    "duration": 4,
    "start_time": "2025-01-14T08:05:49.876Z"
   },
   {
    "duration": 282,
    "start_time": "2025-01-14T08:06:27.549Z"
   },
   {
    "duration": 5,
    "start_time": "2025-01-14T08:06:42.553Z"
   },
   {
    "duration": 7,
    "start_time": "2025-01-14T08:06:51.104Z"
   },
   {
    "duration": 160,
    "start_time": "2025-01-14T08:13:29.367Z"
   },
   {
    "duration": 2499,
    "start_time": "2025-01-14T08:13:41.001Z"
   },
   {
    "duration": 224,
    "start_time": "2025-01-14T08:13:43.502Z"
   },
   {
    "duration": 10,
    "start_time": "2025-01-14T08:13:43.728Z"
   },
   {
    "duration": 9,
    "start_time": "2025-01-14T08:13:43.740Z"
   },
   {
    "duration": 6,
    "start_time": "2025-01-14T08:13:43.751Z"
   },
   {
    "duration": 9,
    "start_time": "2025-01-14T08:13:43.759Z"
   },
   {
    "duration": 8,
    "start_time": "2025-01-14T08:13:43.770Z"
   },
   {
    "duration": 33,
    "start_time": "2025-01-14T08:13:43.780Z"
   },
   {
    "duration": 5,
    "start_time": "2025-01-14T08:13:43.815Z"
   },
   {
    "duration": 10,
    "start_time": "2025-01-14T08:13:43.824Z"
   },
   {
    "duration": 14,
    "start_time": "2025-01-14T08:13:43.836Z"
   },
   {
    "duration": 6,
    "start_time": "2025-01-14T08:13:43.852Z"
   },
   {
    "duration": 71,
    "start_time": "2025-01-14T08:13:43.860Z"
   },
   {
    "duration": 14,
    "start_time": "2025-01-14T08:13:43.933Z"
   },
   {
    "duration": 11,
    "start_time": "2025-01-14T08:13:43.949Z"
   },
   {
    "duration": 7,
    "start_time": "2025-01-14T08:13:43.962Z"
   },
   {
    "duration": 45,
    "start_time": "2025-01-14T08:13:43.971Z"
   },
   {
    "duration": 9,
    "start_time": "2025-01-14T08:13:44.018Z"
   },
   {
    "duration": 12,
    "start_time": "2025-01-14T08:13:44.029Z"
   },
   {
    "duration": 6,
    "start_time": "2025-01-14T08:13:44.043Z"
   },
   {
    "duration": 69,
    "start_time": "2025-01-14T08:13:44.051Z"
   },
   {
    "duration": 13,
    "start_time": "2025-01-14T08:13:44.122Z"
   },
   {
    "duration": 4,
    "start_time": "2025-01-14T08:13:44.137Z"
   },
   {
    "duration": 18,
    "start_time": "2025-01-14T08:13:44.143Z"
   },
   {
    "duration": 18,
    "start_time": "2025-01-14T08:13:44.162Z"
   },
   {
    "duration": 37,
    "start_time": "2025-01-14T08:13:44.181Z"
   },
   {
    "duration": 13,
    "start_time": "2025-01-14T08:13:44.220Z"
   },
   {
    "duration": 26,
    "start_time": "2025-01-14T08:13:44.238Z"
   },
   {
    "duration": 10,
    "start_time": "2025-01-14T08:13:44.266Z"
   },
   {
    "duration": 71,
    "start_time": "2025-01-14T08:13:44.277Z"
   },
   {
    "duration": 199,
    "start_time": "2025-01-14T08:13:44.350Z"
   },
   {
    "duration": 203,
    "start_time": "2025-01-14T08:13:44.551Z"
   },
   {
    "duration": 6,
    "start_time": "2025-01-14T08:13:44.756Z"
   },
   {
    "duration": 212,
    "start_time": "2025-01-14T08:13:44.764Z"
   },
   {
    "duration": 216,
    "start_time": "2025-01-14T08:13:44.978Z"
   },
   {
    "duration": 14,
    "start_time": "2025-01-14T08:13:45.197Z"
   },
   {
    "duration": 127,
    "start_time": "2025-01-14T08:13:45.212Z"
   },
   {
    "duration": 156,
    "start_time": "2025-01-14T08:13:45.342Z"
   },
   {
    "duration": 17,
    "start_time": "2025-01-14T08:13:45.500Z"
   },
   {
    "duration": 174,
    "start_time": "2025-01-14T08:13:45.518Z"
   },
   {
    "duration": 115,
    "start_time": "2025-01-14T08:13:45.694Z"
   },
   {
    "duration": 6,
    "start_time": "2025-01-14T08:13:45.811Z"
   },
   {
    "duration": 8,
    "start_time": "2025-01-14T08:13:45.819Z"
   },
   {
    "duration": 7,
    "start_time": "2025-01-14T08:14:00.093Z"
   },
   {
    "duration": 6,
    "start_time": "2025-01-14T08:15:17.041Z"
   },
   {
    "duration": 822,
    "start_time": "2025-01-14T08:17:01.874Z"
   },
   {
    "duration": 154,
    "start_time": "2025-01-14T08:17:02.698Z"
   },
   {
    "duration": 9,
    "start_time": "2025-01-14T08:17:02.853Z"
   },
   {
    "duration": 9,
    "start_time": "2025-01-14T08:17:02.865Z"
   },
   {
    "duration": 5,
    "start_time": "2025-01-14T08:17:02.875Z"
   },
   {
    "duration": 29,
    "start_time": "2025-01-14T08:17:02.882Z"
   },
   {
    "duration": 8,
    "start_time": "2025-01-14T08:17:02.913Z"
   },
   {
    "duration": 9,
    "start_time": "2025-01-14T08:17:02.923Z"
   },
   {
    "duration": 5,
    "start_time": "2025-01-14T08:17:02.933Z"
   },
   {
    "duration": 8,
    "start_time": "2025-01-14T08:17:02.941Z"
   },
   {
    "duration": 15,
    "start_time": "2025-01-14T08:17:02.950Z"
   },
   {
    "duration": 42,
    "start_time": "2025-01-14T08:17:02.966Z"
   },
   {
    "duration": 41,
    "start_time": "2025-01-14T08:17:03.010Z"
   },
   {
    "duration": 15,
    "start_time": "2025-01-14T08:17:03.053Z"
   },
   {
    "duration": 11,
    "start_time": "2025-01-14T08:17:03.069Z"
   },
   {
    "duration": 28,
    "start_time": "2025-01-14T08:17:03.082Z"
   },
   {
    "duration": 21,
    "start_time": "2025-01-14T08:17:03.111Z"
   },
   {
    "duration": 10,
    "start_time": "2025-01-14T08:17:03.134Z"
   },
   {
    "duration": 13,
    "start_time": "2025-01-14T08:17:03.145Z"
   },
   {
    "duration": 6,
    "start_time": "2025-01-14T08:17:03.160Z"
   },
   {
    "duration": 77,
    "start_time": "2025-01-14T08:17:03.169Z"
   },
   {
    "duration": 13,
    "start_time": "2025-01-14T08:17:03.248Z"
   },
   {
    "duration": 4,
    "start_time": "2025-01-14T08:17:03.262Z"
   },
   {
    "duration": 18,
    "start_time": "2025-01-14T08:17:03.268Z"
   },
   {
    "duration": 37,
    "start_time": "2025-01-14T08:17:03.287Z"
   },
   {
    "duration": 12,
    "start_time": "2025-01-14T08:17:03.326Z"
   },
   {
    "duration": 14,
    "start_time": "2025-01-14T08:17:03.340Z"
   },
   {
    "duration": 28,
    "start_time": "2025-01-14T08:17:03.357Z"
   },
   {
    "duration": 10,
    "start_time": "2025-01-14T08:17:03.410Z"
   },
   {
    "duration": 40,
    "start_time": "2025-01-14T08:17:03.423Z"
   },
   {
    "duration": 206,
    "start_time": "2025-01-14T08:17:03.465Z"
   },
   {
    "duration": 246,
    "start_time": "2025-01-14T08:17:03.673Z"
   },
   {
    "duration": 11,
    "start_time": "2025-01-14T08:17:03.921Z"
   },
   {
    "duration": 199,
    "start_time": "2025-01-14T08:17:03.934Z"
   },
   {
    "duration": 170,
    "start_time": "2025-01-14T08:17:04.134Z"
   },
   {
    "duration": 6,
    "start_time": "2025-01-14T08:17:04.309Z"
   },
   {
    "duration": 134,
    "start_time": "2025-01-14T08:17:04.317Z"
   },
   {
    "duration": 173,
    "start_time": "2025-01-14T08:17:04.454Z"
   },
   {
    "duration": 14,
    "start_time": "2025-01-14T08:17:04.629Z"
   },
   {
    "duration": 181,
    "start_time": "2025-01-14T08:17:04.645Z"
   },
   {
    "duration": 108,
    "start_time": "2025-01-14T08:17:04.828Z"
   },
   {
    "duration": 6,
    "start_time": "2025-01-14T08:17:04.938Z"
   },
   {
    "duration": 6,
    "start_time": "2025-01-14T08:17:04.946Z"
   },
   {
    "duration": 2592,
    "start_time": "2025-01-14T15:40:06.790Z"
   },
   {
    "duration": 228,
    "start_time": "2025-01-14T15:40:09.385Z"
   },
   {
    "duration": 9,
    "start_time": "2025-01-14T15:40:09.615Z"
   },
   {
    "duration": 9,
    "start_time": "2025-01-14T15:40:09.626Z"
   },
   {
    "duration": 4,
    "start_time": "2025-01-14T15:40:09.637Z"
   },
   {
    "duration": 9,
    "start_time": "2025-01-14T15:40:09.643Z"
   },
   {
    "duration": 7,
    "start_time": "2025-01-14T15:40:09.654Z"
   },
   {
    "duration": 8,
    "start_time": "2025-01-14T15:40:09.664Z"
   },
   {
    "duration": 5,
    "start_time": "2025-01-14T15:40:09.673Z"
   },
   {
    "duration": 9,
    "start_time": "2025-01-14T15:40:09.680Z"
   },
   {
    "duration": 49,
    "start_time": "2025-01-14T15:40:09.691Z"
   },
   {
    "duration": 9,
    "start_time": "2025-01-14T15:40:09.742Z"
   },
   {
    "duration": 54,
    "start_time": "2025-01-14T15:40:09.753Z"
   },
   {
    "duration": 15,
    "start_time": "2025-01-14T15:40:09.830Z"
   },
   {
    "duration": 11,
    "start_time": "2025-01-14T15:40:09.847Z"
   },
   {
    "duration": 6,
    "start_time": "2025-01-14T15:40:09.859Z"
   },
   {
    "duration": 22,
    "start_time": "2025-01-14T15:40:09.867Z"
   },
   {
    "duration": 9,
    "start_time": "2025-01-14T15:40:09.891Z"
   },
   {
    "duration": 13,
    "start_time": "2025-01-14T15:40:09.932Z"
   },
   {
    "duration": 6,
    "start_time": "2025-01-14T15:40:09.947Z"
   },
   {
    "duration": 42,
    "start_time": "2025-01-14T15:40:09.955Z"
   },
   {
    "duration": 33,
    "start_time": "2025-01-14T15:40:09.999Z"
   },
   {
    "duration": 4,
    "start_time": "2025-01-14T15:40:10.034Z"
   },
   {
    "duration": 17,
    "start_time": "2025-01-14T15:40:10.040Z"
   },
   {
    "duration": 17,
    "start_time": "2025-01-14T15:40:10.059Z"
   },
   {
    "duration": 11,
    "start_time": "2025-01-14T15:40:10.078Z"
   },
   {
    "duration": 47,
    "start_time": "2025-01-14T15:40:10.091Z"
   },
   {
    "duration": 29,
    "start_time": "2025-01-14T15:40:10.140Z"
   },
   {
    "duration": 13,
    "start_time": "2025-01-14T15:40:10.171Z"
   },
   {
    "duration": 62,
    "start_time": "2025-01-14T15:40:10.186Z"
   },
   {
    "duration": 204,
    "start_time": "2025-01-14T15:40:10.249Z"
   },
   {
    "duration": 205,
    "start_time": "2025-01-14T15:40:10.454Z"
   },
   {
    "duration": 4,
    "start_time": "2025-01-14T15:40:10.661Z"
   },
   {
    "duration": 204,
    "start_time": "2025-01-14T15:40:10.667Z"
   },
   {
    "duration": 177,
    "start_time": "2025-01-14T15:40:10.873Z"
   },
   {
    "duration": 7,
    "start_time": "2025-01-14T15:40:11.052Z"
   },
   {
    "duration": 195,
    "start_time": "2025-01-14T15:40:11.060Z"
   },
   {
    "duration": 164,
    "start_time": "2025-01-14T15:40:11.256Z"
   },
   {
    "duration": 19,
    "start_time": "2025-01-14T15:40:11.422Z"
   },
   {
    "duration": 176,
    "start_time": "2025-01-14T15:40:11.442Z"
   },
   {
    "duration": 116,
    "start_time": "2025-01-14T15:40:11.630Z"
   },
   {
    "duration": 7,
    "start_time": "2025-01-14T15:40:11.748Z"
   },
   {
    "duration": 8,
    "start_time": "2025-01-14T15:40:11.757Z"
   },
   {
    "duration": 6,
    "start_time": "2025-01-14T15:40:23.393Z"
   },
   {
    "duration": 10,
    "start_time": "2025-01-14T15:40:34.321Z"
   },
   {
    "duration": 7,
    "start_time": "2025-01-14T15:40:42.972Z"
   },
   {
    "duration": 7,
    "start_time": "2025-01-14T15:40:46.923Z"
   },
   {
    "duration": 8,
    "start_time": "2025-01-14T15:41:55.770Z"
   },
   {
    "duration": 170,
    "start_time": "2025-01-14T17:04:57.457Z"
   },
   {
    "duration": 2630,
    "start_time": "2025-01-14T17:05:06.897Z"
   },
   {
    "duration": 226,
    "start_time": "2025-01-14T17:05:09.529Z"
   },
   {
    "duration": 10,
    "start_time": "2025-01-14T17:05:09.757Z"
   },
   {
    "duration": 9,
    "start_time": "2025-01-14T17:05:09.770Z"
   },
   {
    "duration": 5,
    "start_time": "2025-01-14T17:05:09.781Z"
   },
   {
    "duration": 10,
    "start_time": "2025-01-14T17:05:09.787Z"
   },
   {
    "duration": 9,
    "start_time": "2025-01-14T17:05:09.799Z"
   },
   {
    "duration": 24,
    "start_time": "2025-01-14T17:05:09.810Z"
   },
   {
    "duration": 5,
    "start_time": "2025-01-14T17:05:09.837Z"
   },
   {
    "duration": 10,
    "start_time": "2025-01-14T17:05:09.846Z"
   },
   {
    "duration": 16,
    "start_time": "2025-01-14T17:05:09.859Z"
   },
   {
    "duration": 6,
    "start_time": "2025-01-14T17:05:09.877Z"
   },
   {
    "duration": 70,
    "start_time": "2025-01-14T17:05:09.885Z"
   },
   {
    "duration": 16,
    "start_time": "2025-01-14T17:05:09.956Z"
   },
   {
    "duration": 12,
    "start_time": "2025-01-14T17:05:09.974Z"
   },
   {
    "duration": 6,
    "start_time": "2025-01-14T17:05:09.988Z"
   },
   {
    "duration": 50,
    "start_time": "2025-01-14T17:05:09.996Z"
   },
   {
    "duration": 10,
    "start_time": "2025-01-14T17:05:10.049Z"
   },
   {
    "duration": 13,
    "start_time": "2025-01-14T17:05:10.060Z"
   },
   {
    "duration": 7,
    "start_time": "2025-01-14T17:05:10.075Z"
   },
   {
    "duration": 66,
    "start_time": "2025-01-14T17:05:10.084Z"
   },
   {
    "duration": 14,
    "start_time": "2025-01-14T17:05:10.152Z"
   },
   {
    "duration": 4,
    "start_time": "2025-01-14T17:05:10.168Z"
   },
   {
    "duration": 19,
    "start_time": "2025-01-14T17:05:10.174Z"
   },
   {
    "duration": 42,
    "start_time": "2025-01-14T17:05:10.195Z"
   },
   {
    "duration": 13,
    "start_time": "2025-01-14T17:05:10.239Z"
   },
   {
    "duration": 15,
    "start_time": "2025-01-14T17:05:10.253Z"
   },
   {
    "duration": 28,
    "start_time": "2025-01-14T17:05:10.272Z"
   },
   {
    "duration": 37,
    "start_time": "2025-01-14T17:05:10.302Z"
   },
   {
    "duration": 43,
    "start_time": "2025-01-14T17:05:10.341Z"
   },
   {
    "duration": 229,
    "start_time": "2025-01-14T17:05:10.385Z"
   },
   {
    "duration": 201,
    "start_time": "2025-01-14T17:05:10.616Z"
   },
   {
    "duration": 5,
    "start_time": "2025-01-14T17:05:10.819Z"
   },
   {
    "duration": 268,
    "start_time": "2025-01-14T17:05:10.832Z"
   },
   {
    "duration": 173,
    "start_time": "2025-01-14T17:05:11.102Z"
   },
   {
    "duration": 5,
    "start_time": "2025-01-14T17:05:11.278Z"
   },
   {
    "duration": 133,
    "start_time": "2025-01-14T17:05:11.285Z"
   },
   {
    "duration": 192,
    "start_time": "2025-01-14T17:05:11.419Z"
   },
   {
    "duration": 20,
    "start_time": "2025-01-14T17:05:11.612Z"
   },
   {
    "duration": 176,
    "start_time": "2025-01-14T17:05:11.633Z"
   },
   {
    "duration": 110,
    "start_time": "2025-01-14T17:05:11.811Z"
   },
   {
    "duration": 10,
    "start_time": "2025-01-14T17:05:11.923Z"
   },
   {
    "duration": 12,
    "start_time": "2025-01-14T17:05:11.935Z"
   },
   {
    "duration": 15,
    "start_time": "2025-01-14T17:05:11.949Z"
   },
   {
    "duration": 7,
    "start_time": "2025-01-14T17:05:11.968Z"
   },
   {
    "duration": 226,
    "start_time": "2025-01-14T17:06:14.541Z"
   },
   {
    "duration": 6,
    "start_time": "2025-01-14T17:06:45.967Z"
   },
   {
    "duration": 6,
    "start_time": "2025-01-14T17:08:21.383Z"
   },
   {
    "duration": 11,
    "start_time": "2025-01-14T17:08:56.540Z"
   },
   {
    "duration": 11,
    "start_time": "2025-01-14T17:09:13.512Z"
   },
   {
    "duration": 6,
    "start_time": "2025-01-14T17:09:36.672Z"
   },
   {
    "duration": 7,
    "start_time": "2025-01-14T17:11:28.325Z"
   },
   {
    "duration": 8,
    "start_time": "2025-01-14T17:11:48.090Z"
   },
   {
    "duration": 7,
    "start_time": "2025-01-14T17:12:26.501Z"
   },
   {
    "duration": 7,
    "start_time": "2025-01-14T17:12:40.286Z"
   },
   {
    "duration": 10,
    "start_time": "2025-01-14T17:12:59.193Z"
   },
   {
    "duration": 10,
    "start_time": "2025-01-14T17:13:02.766Z"
   },
   {
    "duration": 8,
    "start_time": "2025-01-14T17:13:51.777Z"
   },
   {
    "duration": 7,
    "start_time": "2025-01-14T17:14:36.062Z"
   },
   {
    "duration": 7,
    "start_time": "2025-01-14T17:14:46.843Z"
   },
   {
    "duration": 10,
    "start_time": "2025-01-14T17:14:53.282Z"
   },
   {
    "duration": 8,
    "start_time": "2025-01-14T17:15:01.574Z"
   },
   {
    "duration": 45,
    "start_time": "2025-01-14T17:15:39.707Z"
   },
   {
    "duration": 43,
    "start_time": "2025-01-14T17:15:57.825Z"
   },
   {
    "duration": 40,
    "start_time": "2025-01-14T17:16:16.284Z"
   },
   {
    "duration": 5,
    "start_time": "2025-01-14T17:17:13.904Z"
   },
   {
    "duration": 4,
    "start_time": "2025-01-14T17:18:36.985Z"
   },
   {
    "duration": 3,
    "start_time": "2025-01-14T17:18:51.208Z"
   },
   {
    "duration": 4,
    "start_time": "2025-01-14T17:19:31.013Z"
   },
   {
    "duration": 15,
    "start_time": "2025-01-14T17:19:42.852Z"
   },
   {
    "duration": 8,
    "start_time": "2025-01-14T17:20:26.669Z"
   },
   {
    "duration": 12,
    "start_time": "2025-01-14T17:20:49.911Z"
   },
   {
    "duration": 4,
    "start_time": "2025-01-14T17:21:12.021Z"
   },
   {
    "duration": 8,
    "start_time": "2025-01-14T17:21:18.385Z"
   },
   {
    "duration": 7,
    "start_time": "2025-01-14T17:21:24.310Z"
   },
   {
    "duration": 851,
    "start_time": "2025-01-14T17:21:38.766Z"
   },
   {
    "duration": 154,
    "start_time": "2025-01-14T17:21:39.619Z"
   },
   {
    "duration": 9,
    "start_time": "2025-01-14T17:21:39.775Z"
   },
   {
    "duration": 11,
    "start_time": "2025-01-14T17:21:39.786Z"
   },
   {
    "duration": 5,
    "start_time": "2025-01-14T17:21:39.799Z"
   },
   {
    "duration": 27,
    "start_time": "2025-01-14T17:21:39.806Z"
   },
   {
    "duration": 8,
    "start_time": "2025-01-14T17:21:39.835Z"
   },
   {
    "duration": 8,
    "start_time": "2025-01-14T17:21:39.844Z"
   },
   {
    "duration": 5,
    "start_time": "2025-01-14T17:21:39.853Z"
   },
   {
    "duration": 10,
    "start_time": "2025-01-14T17:21:39.862Z"
   },
   {
    "duration": 15,
    "start_time": "2025-01-14T17:21:39.874Z"
   },
   {
    "duration": 41,
    "start_time": "2025-01-14T17:21:39.890Z"
   },
   {
    "duration": 41,
    "start_time": "2025-01-14T17:21:39.933Z"
   },
   {
    "duration": 15,
    "start_time": "2025-01-14T17:21:39.976Z"
   },
   {
    "duration": 11,
    "start_time": "2025-01-14T17:21:39.993Z"
   },
   {
    "duration": 31,
    "start_time": "2025-01-14T17:21:40.006Z"
   },
   {
    "duration": 20,
    "start_time": "2025-01-14T17:21:40.039Z"
   },
   {
    "duration": 9,
    "start_time": "2025-01-14T17:21:40.061Z"
   },
   {
    "duration": 14,
    "start_time": "2025-01-14T17:21:40.072Z"
   },
   {
    "duration": 6,
    "start_time": "2025-01-14T17:21:40.088Z"
   },
   {
    "duration": 71,
    "start_time": "2025-01-14T17:21:40.096Z"
   },
   {
    "duration": 13,
    "start_time": "2025-01-14T17:21:40.169Z"
   },
   {
    "duration": 4,
    "start_time": "2025-01-14T17:21:40.183Z"
   },
   {
    "duration": 17,
    "start_time": "2025-01-14T17:21:40.189Z"
   },
   {
    "duration": 18,
    "start_time": "2025-01-14T17:21:40.231Z"
   },
   {
    "duration": 12,
    "start_time": "2025-01-14T17:21:40.250Z"
   },
   {
    "duration": 15,
    "start_time": "2025-01-14T17:21:40.264Z"
   },
   {
    "duration": 53,
    "start_time": "2025-01-14T17:21:40.283Z"
   },
   {
    "duration": 9,
    "start_time": "2025-01-14T17:21:40.338Z"
   },
   {
    "duration": 44,
    "start_time": "2025-01-14T17:21:40.349Z"
   },
   {
    "duration": 213,
    "start_time": "2025-01-14T17:21:40.395Z"
   },
   {
    "duration": 252,
    "start_time": "2025-01-14T17:21:40.610Z"
   },
   {
    "duration": 5,
    "start_time": "2025-01-14T17:21:40.863Z"
   },
   {
    "duration": 205,
    "start_time": "2025-01-14T17:21:40.869Z"
   },
   {
    "duration": 169,
    "start_time": "2025-01-14T17:21:41.076Z"
   },
   {
    "duration": 6,
    "start_time": "2025-01-14T17:21:41.247Z"
   },
   {
    "duration": 133,
    "start_time": "2025-01-14T17:21:41.254Z"
   },
   {
    "duration": 166,
    "start_time": "2025-01-14T17:21:41.389Z"
   },
   {
    "duration": 16,
    "start_time": "2025-01-14T17:21:41.557Z"
   },
   {
    "duration": 199,
    "start_time": "2025-01-14T17:21:41.574Z"
   },
   {
    "duration": 111,
    "start_time": "2025-01-14T17:21:41.775Z"
   },
   {
    "duration": 7,
    "start_time": "2025-01-14T17:21:41.888Z"
   },
   {
    "duration": 10,
    "start_time": "2025-01-14T17:21:41.896Z"
   },
   {
    "duration": 32,
    "start_time": "2025-01-14T17:21:41.908Z"
   },
   {
    "duration": 11,
    "start_time": "2025-01-14T17:21:41.942Z"
   },
   {
    "duration": 13,
    "start_time": "2025-01-14T17:21:41.954Z"
   },
   {
    "duration": 8,
    "start_time": "2025-01-14T17:22:08.145Z"
   },
   {
    "duration": 13,
    "start_time": "2025-01-14T17:22:22.055Z"
   },
   {
    "duration": 8,
    "start_time": "2025-01-14T17:22:40.991Z"
   },
   {
    "duration": 12,
    "start_time": "2025-01-14T17:22:57.059Z"
   },
   {
    "duration": 879,
    "start_time": "2025-01-14T17:26:30.844Z"
   },
   {
    "duration": 161,
    "start_time": "2025-01-14T17:26:31.725Z"
   },
   {
    "duration": 10,
    "start_time": "2025-01-14T17:26:31.888Z"
   },
   {
    "duration": 9,
    "start_time": "2025-01-14T17:26:31.900Z"
   },
   {
    "duration": 4,
    "start_time": "2025-01-14T17:26:31.911Z"
   },
   {
    "duration": 10,
    "start_time": "2025-01-14T17:26:31.932Z"
   },
   {
    "duration": 11,
    "start_time": "2025-01-14T17:26:31.945Z"
   },
   {
    "duration": 11,
    "start_time": "2025-01-14T17:26:31.960Z"
   },
   {
    "duration": 5,
    "start_time": "2025-01-14T17:26:31.972Z"
   },
   {
    "duration": 9,
    "start_time": "2025-01-14T17:26:31.981Z"
   },
   {
    "duration": 45,
    "start_time": "2025-01-14T17:26:31.992Z"
   },
   {
    "duration": 7,
    "start_time": "2025-01-14T17:26:32.039Z"
   },
   {
    "duration": 40,
    "start_time": "2025-01-14T17:26:32.047Z"
   },
   {
    "duration": 14,
    "start_time": "2025-01-14T17:26:32.089Z"
   },
   {
    "duration": 35,
    "start_time": "2025-01-14T17:26:32.104Z"
   },
   {
    "duration": 6,
    "start_time": "2025-01-14T17:26:32.141Z"
   },
   {
    "duration": 20,
    "start_time": "2025-01-14T17:26:32.149Z"
   },
   {
    "duration": 9,
    "start_time": "2025-01-14T17:26:32.172Z"
   },
   {
    "duration": 14,
    "start_time": "2025-01-14T17:26:32.182Z"
   },
   {
    "duration": 36,
    "start_time": "2025-01-14T17:26:32.197Z"
   },
   {
    "duration": 40,
    "start_time": "2025-01-14T17:26:32.234Z"
   },
   {
    "duration": 13,
    "start_time": "2025-01-14T17:26:32.276Z"
   },
   {
    "duration": 4,
    "start_time": "2025-01-14T17:26:32.291Z"
   },
   {
    "duration": 51,
    "start_time": "2025-01-14T17:26:32.297Z"
   },
   {
    "duration": 19,
    "start_time": "2025-01-14T17:26:32.350Z"
   },
   {
    "duration": 11,
    "start_time": "2025-01-14T17:26:32.371Z"
   },
   {
    "duration": 14,
    "start_time": "2025-01-14T17:26:32.385Z"
   },
   {
    "duration": 53,
    "start_time": "2025-01-14T17:26:32.403Z"
   },
   {
    "duration": 11,
    "start_time": "2025-01-14T17:26:32.458Z"
   },
   {
    "duration": 41,
    "start_time": "2025-01-14T17:26:32.470Z"
   },
   {
    "duration": 218,
    "start_time": "2025-01-14T17:26:32.513Z"
   },
   {
    "duration": 253,
    "start_time": "2025-01-14T17:26:32.733Z"
   },
   {
    "duration": 7,
    "start_time": "2025-01-14T17:26:32.987Z"
   },
   {
    "duration": 210,
    "start_time": "2025-01-14T17:26:32.995Z"
   },
   {
    "duration": 182,
    "start_time": "2025-01-14T17:26:33.207Z"
   },
   {
    "duration": 6,
    "start_time": "2025-01-14T17:26:33.391Z"
   },
   {
    "duration": 136,
    "start_time": "2025-01-14T17:26:33.399Z"
   },
   {
    "duration": 164,
    "start_time": "2025-01-14T17:26:33.537Z"
   },
   {
    "duration": 14,
    "start_time": "2025-01-14T17:26:33.704Z"
   },
   {
    "duration": 174,
    "start_time": "2025-01-14T17:26:33.732Z"
   },
   {
    "duration": 113,
    "start_time": "2025-01-14T17:26:33.908Z"
   },
   {
    "duration": 12,
    "start_time": "2025-01-14T17:26:34.022Z"
   },
   {
    "duration": 10,
    "start_time": "2025-01-14T17:26:34.036Z"
   },
   {
    "duration": 11,
    "start_time": "2025-01-14T17:26:34.048Z"
   },
   {
    "duration": 8,
    "start_time": "2025-01-14T17:26:34.061Z"
   },
   {
    "duration": 830,
    "start_time": "2025-01-14T17:40:30.290Z"
   },
   {
    "duration": 166,
    "start_time": "2025-01-14T17:40:31.123Z"
   },
   {
    "duration": 11,
    "start_time": "2025-01-14T17:40:31.291Z"
   },
   {
    "duration": 9,
    "start_time": "2025-01-14T17:40:31.304Z"
   },
   {
    "duration": 4,
    "start_time": "2025-01-14T17:40:31.316Z"
   },
   {
    "duration": 18,
    "start_time": "2025-01-14T17:40:31.322Z"
   },
   {
    "duration": 9,
    "start_time": "2025-01-14T17:40:31.342Z"
   },
   {
    "duration": 8,
    "start_time": "2025-01-14T17:40:31.352Z"
   },
   {
    "duration": 7,
    "start_time": "2025-01-14T17:40:31.362Z"
   },
   {
    "duration": 10,
    "start_time": "2025-01-14T17:40:31.371Z"
   },
   {
    "duration": 49,
    "start_time": "2025-01-14T17:40:31.383Z"
   },
   {
    "duration": 7,
    "start_time": "2025-01-14T17:40:31.434Z"
   },
   {
    "duration": 45,
    "start_time": "2025-01-14T17:40:31.442Z"
   },
   {
    "duration": 18,
    "start_time": "2025-01-14T17:40:31.492Z"
   },
   {
    "duration": 29,
    "start_time": "2025-01-14T17:40:31.512Z"
   },
   {
    "duration": 6,
    "start_time": "2025-01-14T17:40:31.542Z"
   },
   {
    "duration": 21,
    "start_time": "2025-01-14T17:40:31.549Z"
   },
   {
    "duration": 10,
    "start_time": "2025-01-14T17:40:31.572Z"
   },
   {
    "duration": 13,
    "start_time": "2025-01-14T17:40:31.583Z"
   },
   {
    "duration": 39,
    "start_time": "2025-01-14T17:40:31.598Z"
   },
   {
    "duration": 43,
    "start_time": "2025-01-14T17:40:31.639Z"
   },
   {
    "duration": 13,
    "start_time": "2025-01-14T17:40:31.683Z"
   },
   {
    "duration": 3,
    "start_time": "2025-01-14T17:40:31.699Z"
   },
   {
    "duration": 21,
    "start_time": "2025-01-14T17:40:31.731Z"
   },
   {
    "duration": 19,
    "start_time": "2025-01-14T17:40:31.753Z"
   },
   {
    "duration": 16,
    "start_time": "2025-01-14T17:40:31.773Z"
   },
   {
    "duration": 14,
    "start_time": "2025-01-14T17:40:31.790Z"
   },
   {
    "duration": 29,
    "start_time": "2025-01-14T17:40:31.830Z"
   },
   {
    "duration": 12,
    "start_time": "2025-01-14T17:40:31.861Z"
   },
   {
    "duration": 60,
    "start_time": "2025-01-14T17:40:31.874Z"
   },
   {
    "duration": 205,
    "start_time": "2025-01-14T17:40:31.936Z"
   },
   {
    "duration": 252,
    "start_time": "2025-01-14T17:40:32.143Z"
   },
   {
    "duration": 5,
    "start_time": "2025-01-14T17:40:32.397Z"
   },
   {
    "duration": 208,
    "start_time": "2025-01-14T17:40:32.403Z"
   },
   {
    "duration": 175,
    "start_time": "2025-01-14T17:40:32.613Z"
   },
   {
    "duration": 5,
    "start_time": "2025-01-14T17:40:32.790Z"
   },
   {
    "duration": 136,
    "start_time": "2025-01-14T17:40:32.797Z"
   },
   {
    "duration": 173,
    "start_time": "2025-01-14T17:40:32.935Z"
   },
   {
    "duration": 14,
    "start_time": "2025-01-14T17:40:33.109Z"
   },
   {
    "duration": 182,
    "start_time": "2025-01-14T17:40:33.124Z"
   },
   {
    "duration": 113,
    "start_time": "2025-01-14T17:40:33.311Z"
   },
   {
    "duration": 8,
    "start_time": "2025-01-14T17:40:33.431Z"
   },
   {
    "duration": 11,
    "start_time": "2025-01-14T17:40:33.441Z"
   },
   {
    "duration": 10,
    "start_time": "2025-01-14T17:40:33.454Z"
   },
   {
    "duration": 7,
    "start_time": "2025-01-14T17:40:33.466Z"
   },
   {
    "duration": 8,
    "start_time": "2025-01-14T17:51:28.912Z"
   },
   {
    "duration": 7,
    "start_time": "2025-01-14T17:51:44.585Z"
   },
   {
    "duration": 7,
    "start_time": "2025-01-14T17:52:54.510Z"
   },
   {
    "duration": 7,
    "start_time": "2025-01-14T17:53:15.264Z"
   },
   {
    "duration": 7,
    "start_time": "2025-01-14T17:53:24.905Z"
   },
   {
    "duration": 4,
    "start_time": "2025-01-14T18:01:24.788Z"
   },
   {
    "duration": 4,
    "start_time": "2025-01-14T18:01:39.467Z"
   },
   {
    "duration": 4,
    "start_time": "2025-01-14T18:01:58.229Z"
   },
   {
    "duration": 9,
    "start_time": "2025-01-14T18:02:14.825Z"
   },
   {
    "duration": 8,
    "start_time": "2025-01-14T18:02:32.886Z"
   },
   {
    "duration": 7,
    "start_time": "2025-01-14T18:05:27.547Z"
   },
   {
    "duration": 300,
    "start_time": "2025-01-14T18:05:39.103Z"
   },
   {
    "duration": 5,
    "start_time": "2025-01-14T18:05:48.082Z"
   },
   {
    "duration": 13,
    "start_time": "2025-01-14T18:05:54.542Z"
   },
   {
    "duration": 7,
    "start_time": "2025-01-14T18:10:12.635Z"
   },
   {
    "duration": 5,
    "start_time": "2025-01-14T18:10:52.841Z"
   },
   {
    "duration": 9,
    "start_time": "2025-01-14T18:13:33.763Z"
   },
   {
    "duration": 8,
    "start_time": "2025-01-14T18:13:52.695Z"
   },
   {
    "duration": 5,
    "start_time": "2025-01-14T18:14:24.921Z"
   },
   {
    "duration": 6,
    "start_time": "2025-01-14T18:14:32.578Z"
   },
   {
    "duration": 4,
    "start_time": "2025-01-14T18:15:06.367Z"
   },
   {
    "duration": 11,
    "start_time": "2025-01-14T18:15:27.722Z"
   },
   {
    "duration": 4,
    "start_time": "2025-01-14T18:16:10.900Z"
   },
   {
    "duration": 7,
    "start_time": "2025-01-14T18:16:15.945Z"
   },
   {
    "duration": 8,
    "start_time": "2025-01-14T18:16:34.407Z"
   },
   {
    "duration": 10,
    "start_time": "2025-01-14T18:17:47.329Z"
   },
   {
    "duration": 9,
    "start_time": "2025-01-14T18:18:11.519Z"
   },
   {
    "duration": 12,
    "start_time": "2025-01-14T18:18:39.662Z"
   },
   {
    "duration": 17,
    "start_time": "2025-01-14T18:19:26.740Z"
   },
   {
    "duration": 855,
    "start_time": "2025-01-14T18:20:23.476Z"
   },
   {
    "duration": 165,
    "start_time": "2025-01-14T18:20:24.334Z"
   },
   {
    "duration": 11,
    "start_time": "2025-01-14T18:20:24.501Z"
   },
   {
    "duration": 10,
    "start_time": "2025-01-14T18:20:24.514Z"
   },
   {
    "duration": 5,
    "start_time": "2025-01-14T18:20:24.533Z"
   },
   {
    "duration": 16,
    "start_time": "2025-01-14T18:20:24.540Z"
   },
   {
    "duration": 9,
    "start_time": "2025-01-14T18:20:24.558Z"
   },
   {
    "duration": 9,
    "start_time": "2025-01-14T18:20:24.569Z"
   },
   {
    "duration": 12,
    "start_time": "2025-01-14T18:20:24.581Z"
   },
   {
    "duration": 36,
    "start_time": "2025-01-14T18:20:24.595Z"
   },
   {
    "duration": 11,
    "start_time": "2025-01-14T18:20:24.633Z"
   },
   {
    "duration": 15,
    "start_time": "2025-01-14T18:20:24.646Z"
   },
   {
    "duration": 7,
    "start_time": "2025-01-14T18:20:24.663Z"
   },
   {
    "duration": 66,
    "start_time": "2025-01-14T18:20:24.675Z"
   },
   {
    "duration": 15,
    "start_time": "2025-01-14T18:20:24.742Z"
   },
   {
    "duration": 13,
    "start_time": "2025-01-14T18:20:24.758Z"
   },
   {
    "duration": 6,
    "start_time": "2025-01-14T18:20:24.773Z"
   },
   {
    "duration": 22,
    "start_time": "2025-01-14T18:20:24.781Z"
   },
   {
    "duration": 34,
    "start_time": "2025-01-14T18:20:24.805Z"
   },
   {
    "duration": 14,
    "start_time": "2025-01-14T18:20:24.841Z"
   },
   {
    "duration": 7,
    "start_time": "2025-01-14T18:20:24.856Z"
   },
   {
    "duration": 67,
    "start_time": "2025-01-14T18:20:24.865Z"
   },
   {
    "duration": 15,
    "start_time": "2025-01-14T18:20:24.934Z"
   },
   {
    "duration": 4,
    "start_time": "2025-01-14T18:20:24.950Z"
   },
   {
    "duration": 19,
    "start_time": "2025-01-14T18:20:24.956Z"
   },
   {
    "duration": 20,
    "start_time": "2025-01-14T18:20:24.977Z"
   },
   {
    "duration": 41,
    "start_time": "2025-01-14T18:20:25.001Z"
   },
   {
    "duration": 15,
    "start_time": "2025-01-14T18:20:25.043Z"
   },
   {
    "duration": 30,
    "start_time": "2025-01-14T18:20:25.060Z"
   },
   {
    "duration": 10,
    "start_time": "2025-01-14T18:20:25.092Z"
   },
   {
    "duration": 69,
    "start_time": "2025-01-14T18:20:25.104Z"
   },
   {
    "duration": 218,
    "start_time": "2025-01-14T18:20:25.175Z"
   },
   {
    "duration": 249,
    "start_time": "2025-01-14T18:20:25.395Z"
   },
   {
    "duration": 5,
    "start_time": "2025-01-14T18:20:25.645Z"
   },
   {
    "duration": 206,
    "start_time": "2025-01-14T18:20:25.651Z"
   },
   {
    "duration": 175,
    "start_time": "2025-01-14T18:20:25.859Z"
   },
   {
    "duration": 7,
    "start_time": "2025-01-14T18:20:26.037Z"
   },
   {
    "duration": 135,
    "start_time": "2025-01-14T18:20:26.046Z"
   },
   {
    "duration": 178,
    "start_time": "2025-01-14T18:20:26.183Z"
   },
   {
    "duration": 14,
    "start_time": "2025-01-14T18:20:26.363Z"
   },
   {
    "duration": 179,
    "start_time": "2025-01-14T18:20:26.381Z"
   },
   {
    "duration": 111,
    "start_time": "2025-01-14T18:20:26.562Z"
   },
   {
    "duration": 6,
    "start_time": "2025-01-14T18:20:26.675Z"
   },
   {
    "duration": 9,
    "start_time": "2025-01-14T18:20:26.683Z"
   },
   {
    "duration": 10,
    "start_time": "2025-01-14T18:20:26.694Z"
   },
   {
    "duration": 29,
    "start_time": "2025-01-14T18:20:26.705Z"
   },
   {
    "duration": 879,
    "start_time": "2025-01-14T18:23:26.237Z"
   },
   {
    "duration": 160,
    "start_time": "2025-01-14T18:23:27.119Z"
   },
   {
    "duration": 10,
    "start_time": "2025-01-14T18:23:27.281Z"
   },
   {
    "duration": 9,
    "start_time": "2025-01-14T18:23:27.294Z"
   },
   {
    "duration": 4,
    "start_time": "2025-01-14T18:23:27.305Z"
   },
   {
    "duration": 28,
    "start_time": "2025-01-14T18:23:27.311Z"
   },
   {
    "duration": 9,
    "start_time": "2025-01-14T18:23:27.341Z"
   },
   {
    "duration": 8,
    "start_time": "2025-01-14T18:23:27.352Z"
   },
   {
    "duration": 12,
    "start_time": "2025-01-14T18:23:27.362Z"
   },
   {
    "duration": 4,
    "start_time": "2025-01-14T18:23:27.378Z"
   },
   {
    "duration": 48,
    "start_time": "2025-01-14T18:23:27.384Z"
   },
   {
    "duration": 15,
    "start_time": "2025-01-14T18:23:27.433Z"
   },
   {
    "duration": 7,
    "start_time": "2025-01-14T18:23:27.450Z"
   },
   {
    "duration": 41,
    "start_time": "2025-01-14T18:23:27.458Z"
   },
   {
    "duration": 36,
    "start_time": "2025-01-14T18:23:27.501Z"
   },
   {
    "duration": 13,
    "start_time": "2025-01-14T18:23:27.540Z"
   },
   {
    "duration": 6,
    "start_time": "2025-01-14T18:23:27.555Z"
   },
   {
    "duration": 22,
    "start_time": "2025-01-14T18:23:27.562Z"
   },
   {
    "duration": 10,
    "start_time": "2025-01-14T18:23:27.586Z"
   },
   {
    "duration": 51,
    "start_time": "2025-01-14T18:23:27.597Z"
   },
   {
    "duration": 8,
    "start_time": "2025-01-14T18:23:27.650Z"
   },
   {
    "duration": 73,
    "start_time": "2025-01-14T18:23:27.660Z"
   },
   {
    "duration": 14,
    "start_time": "2025-01-14T18:23:27.735Z"
   },
   {
    "duration": 4,
    "start_time": "2025-01-14T18:23:27.751Z"
   },
   {
    "duration": 18,
    "start_time": "2025-01-14T18:23:27.757Z"
   },
   {
    "duration": 18,
    "start_time": "2025-01-14T18:23:27.777Z"
   },
   {
    "duration": 37,
    "start_time": "2025-01-14T18:23:27.797Z"
   },
   {
    "duration": 16,
    "start_time": "2025-01-14T18:23:27.839Z"
   },
   {
    "duration": 30,
    "start_time": "2025-01-14T18:23:27.856Z"
   },
   {
    "duration": 13,
    "start_time": "2025-01-14T18:23:27.888Z"
   },
   {
    "duration": 71,
    "start_time": "2025-01-14T18:23:27.903Z"
   },
   {
    "duration": 209,
    "start_time": "2025-01-14T18:23:27.975Z"
   },
   {
    "duration": 268,
    "start_time": "2025-01-14T18:23:28.187Z"
   },
   {
    "duration": 5,
    "start_time": "2025-01-14T18:23:28.456Z"
   },
   {
    "duration": 210,
    "start_time": "2025-01-14T18:23:28.463Z"
   },
   {
    "duration": 192,
    "start_time": "2025-01-14T18:23:28.675Z"
   },
   {
    "duration": 6,
    "start_time": "2025-01-14T18:23:28.869Z"
   },
   {
    "duration": 127,
    "start_time": "2025-01-14T18:23:28.876Z"
   },
   {
    "duration": 168,
    "start_time": "2025-01-14T18:23:29.005Z"
   },
   {
    "duration": 15,
    "start_time": "2025-01-14T18:23:29.175Z"
   },
   {
    "duration": 195,
    "start_time": "2025-01-14T18:23:29.192Z"
   },
   {
    "duration": 112,
    "start_time": "2025-01-14T18:23:29.389Z"
   },
   {
    "duration": 7,
    "start_time": "2025-01-14T18:23:29.503Z"
   },
   {
    "duration": 23,
    "start_time": "2025-01-14T18:23:29.512Z"
   },
   {
    "duration": 11,
    "start_time": "2025-01-14T18:23:29.536Z"
   },
   {
    "duration": 3,
    "start_time": "2025-01-14T18:23:29.548Z"
   },
   {
    "duration": 5,
    "start_time": "2025-01-14T18:23:29.553Z"
   },
   {
    "duration": 21,
    "start_time": "2025-01-14T18:23:35.944Z"
   },
   {
    "duration": 8,
    "start_time": "2025-01-14T18:25:52.543Z"
   },
   {
    "duration": 5,
    "start_time": "2025-01-14T18:28:33.307Z"
   },
   {
    "duration": 5,
    "start_time": "2025-01-14T18:30:29.366Z"
   },
   {
    "duration": 11,
    "start_time": "2025-01-14T18:33:37.141Z"
   },
   {
    "duration": 13,
    "start_time": "2025-01-14T18:34:37.672Z"
   },
   {
    "duration": 875,
    "start_time": "2025-01-14T18:34:56.870Z"
   },
   {
    "duration": 165,
    "start_time": "2025-01-14T18:34:57.747Z"
   },
   {
    "duration": 11,
    "start_time": "2025-01-14T18:34:57.915Z"
   },
   {
    "duration": 12,
    "start_time": "2025-01-14T18:34:57.930Z"
   },
   {
    "duration": 7,
    "start_time": "2025-01-14T18:34:57.945Z"
   },
   {
    "duration": 13,
    "start_time": "2025-01-14T18:34:57.953Z"
   },
   {
    "duration": 11,
    "start_time": "2025-01-14T18:34:57.968Z"
   },
   {
    "duration": 9,
    "start_time": "2025-01-14T18:34:57.983Z"
   },
   {
    "duration": 5,
    "start_time": "2025-01-14T18:34:57.995Z"
   },
   {
    "duration": 11,
    "start_time": "2025-01-14T18:34:58.035Z"
   },
   {
    "duration": 15,
    "start_time": "2025-01-14T18:34:58.047Z"
   },
   {
    "duration": 7,
    "start_time": "2025-01-14T18:34:58.064Z"
   },
   {
    "duration": 69,
    "start_time": "2025-01-14T18:34:58.073Z"
   },
   {
    "duration": 15,
    "start_time": "2025-01-14T18:34:58.144Z"
   },
   {
    "duration": 12,
    "start_time": "2025-01-14T18:34:58.161Z"
   },
   {
    "duration": 9,
    "start_time": "2025-01-14T18:34:58.177Z"
   },
   {
    "duration": 44,
    "start_time": "2025-01-14T18:34:58.188Z"
   },
   {
    "duration": 11,
    "start_time": "2025-01-14T18:34:58.235Z"
   },
   {
    "duration": 14,
    "start_time": "2025-01-14T18:34:58.247Z"
   },
   {
    "duration": 7,
    "start_time": "2025-01-14T18:34:58.263Z"
   },
   {
    "duration": 63,
    "start_time": "2025-01-14T18:34:58.271Z"
   },
   {
    "duration": 15,
    "start_time": "2025-01-14T18:34:58.337Z"
   },
   {
    "duration": 3,
    "start_time": "2025-01-14T18:34:58.354Z"
   },
   {
    "duration": 18,
    "start_time": "2025-01-14T18:34:58.359Z"
   },
   {
    "duration": 17,
    "start_time": "2025-01-14T18:34:58.379Z"
   },
   {
    "duration": 42,
    "start_time": "2025-01-14T18:34:58.398Z"
   },
   {
    "duration": 14,
    "start_time": "2025-01-14T18:34:58.441Z"
   },
   {
    "duration": 28,
    "start_time": "2025-01-14T18:34:58.459Z"
   },
   {
    "duration": 9,
    "start_time": "2025-01-14T18:34:58.489Z"
   },
   {
    "duration": 70,
    "start_time": "2025-01-14T18:34:58.500Z"
   },
   {
    "duration": 204,
    "start_time": "2025-01-14T18:34:58.571Z"
   },
   {
    "duration": 261,
    "start_time": "2025-01-14T18:34:58.778Z"
   },
   {
    "duration": 6,
    "start_time": "2025-01-14T18:34:59.042Z"
   },
   {
    "duration": 203,
    "start_time": "2025-01-14T18:34:59.050Z"
   },
   {
    "duration": 174,
    "start_time": "2025-01-14T18:34:59.255Z"
   },
   {
    "duration": 6,
    "start_time": "2025-01-14T18:34:59.431Z"
   },
   {
    "duration": 129,
    "start_time": "2025-01-14T18:34:59.438Z"
   },
   {
    "duration": 165,
    "start_time": "2025-01-14T18:34:59.569Z"
   },
   {
    "duration": 14,
    "start_time": "2025-01-14T18:34:59.736Z"
   },
   {
    "duration": 187,
    "start_time": "2025-01-14T18:34:59.752Z"
   },
   {
    "duration": 115,
    "start_time": "2025-01-14T18:34:59.940Z"
   },
   {
    "duration": 7,
    "start_time": "2025-01-14T18:35:00.058Z"
   },
   {
    "duration": 17,
    "start_time": "2025-01-14T18:35:00.067Z"
   },
   {
    "duration": 14,
    "start_time": "2025-01-14T18:35:00.086Z"
   },
   {
    "duration": 30,
    "start_time": "2025-01-14T18:35:00.102Z"
   },
   {
    "duration": 14,
    "start_time": "2025-01-14T18:35:00.134Z"
   },
   {
    "duration": 11,
    "start_time": "2025-01-14T18:35:00.151Z"
   }
  ],
  "kernelspec": {
   "display_name": "Python 3 (ipykernel)",
   "language": "python",
   "name": "python3"
  },
  "language_info": {
   "codemirror_mode": {
    "name": "ipython",
    "version": 3
   },
   "file_extension": ".py",
   "mimetype": "text/x-python",
   "name": "python",
   "nbconvert_exporter": "python",
   "pygments_lexer": "ipython3",
   "version": "3.9.19"
  },
  "toc": {
   "base_numbering": 1,
   "nav_menu": {},
   "number_sections": true,
   "sideBar": true,
   "skip_h1_title": false,
   "title_cell": "Table of Contents",
   "title_sidebar": "Contents",
   "toc_cell": false,
   "toc_position": {},
   "toc_section_display": true,
   "toc_window_display": true
  }
 },
 "nbformat": 4,
 "nbformat_minor": 2
}
