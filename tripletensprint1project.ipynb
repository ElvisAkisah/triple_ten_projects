{
 "cells": [
  {
   "cell_type": "markdown",
   "id": "c62c9a67",
   "metadata": {},
   "source": [
    "<div style=\"border:solid green 2px; padding: 20px\"> <h1 style=\"color:green; margin-bottom:20px\">Reviewer's comment v1</h1>\n",
    "\n",
    "Hello Elvis!\n",
    "\n",
    "I'm happy to review your project today  🙌\n",
    "\n",
    "You can find my comments under the heading **«Review»**. I will categorize my comments in green, blue or red boxes like this:\n",
    "\n",
    "<div class=\"alert alert-success\">\n",
    "    <b>Success:</b> if everything is done successfully\n",
    "</div>\n",
    "<div class=\"alert alert-warning\">\n",
    "    <b>Remarks:</b> if I can give some recommendations or ways to improve the project\n",
    "</div>\n",
    "<div class=\"alert alert-danger\">\n",
    "    <b>Needs fixing:</b> if the block requires some corrections. Work can't be accepted with the red comments\n",
    "</div>\n",
    "\n",
    "Please don't remove my comments. If you have any questions, don't hesitate to respond to my comments in a different section.\n",
    "<div class=\"alert alert-info\"> <b>Student comments: </div>    \n"
   ]
  },
  {
   "cell_type": "markdown",
   "id": "6723fae8",
   "metadata": {},
   "source": [
    "<div style=\"border:solid green 2px; padding: 20px\">\n",
    "<b>Reviewer's comment v1</b>\n",
    "    \n",
    "<b>Overall Feedback</b> \n",
    "    \n",
    "\n",
    "First of all, congratulations on submitting your very first project! 🎉\n",
    "\n",
    "Taking this step is a big part of your journey into the world of Data, and it’s clear you’re putting in the effort to succeed.\n",
    "\n",
    "Our team is here to support your growth, and to help you get the most out of this experience, I’ve returned your project with some suggestions for improvement.\n",
    "    \n",
    "You’ll find specific feedback in the notebook in the ‘Comments’ (`Reviewer's comment v1`) sections.\n",
    "   \n",
    "Don’t be discouraged - this is all part of the learning process! Take your time to review the feedback and make the necessary adjustments. Resubmit when you’re ready, and I’m confident you’ll nail it on the next go. Remember, every challenge is an opportunity to grow. You’ve got this! 🏄\n",
    "    \n",
    "And of course, if you have any questions along the way, remember that you can always reach out to your tutor for clarification.\n",
    "</div>"
   ]
  },
  {
   "cell_type": "markdown",
   "id": "f265422d",
   "metadata": {},
   "source": [
    "<div style=\"border:solid green 2px; padding: 20px\">\n",
    "<b>Reviewer's comment v2:</b>\n",
    "    \n",
    "<b>Overall Feedback</b> \n",
    "\n",
    "Thank you for making changes to your project! Could you please take a look at additional comments: title - `Reviewer's comment v2:`?\n",
    "    \n",
    "And of course, if you have any questions along the way, remember that you can always reach out to your tutor for any clarification.\n",
    "\n",
    "I will wait for you to send me a new version of the project :)\n",
    "</div>"
   ]
  },
  {
   "cell_type": "markdown",
   "id": "fb3bfc83",
   "metadata": {},
   "source": [
    "<div style=\"border:solid green 2px; padding: 20px\">\n",
    "<b>Reviewer's comment v3:</b>\n",
    "    \n",
    "<b>Overall Feedback</b> \n",
    "\n",
    "Thank you for making changes to your project! Could you please take a look at additional comments: title - `Reviewer's comment v3:`?\n",
    "    \n",
    "Could you please address issues in your notebook first? It's crucial that the notebook is fully executable from start to finish before it undergoes a code review. This ensures that anyone reviewing your work can run each cell in sequence without encountering errors, which can significantly impact the review process.\n",
    "\n",
    "Ensuring your notebook's full executability involves running all cells before submission: Before submitting your notebook, please use the `Kernel -> Run All` feature to execute all cells in sequence. This helps to catch any errors or issues that might not be immediately obvious\n",
    "    \n",
    "And of course, if you have any questions along the way, remember that you can always reach out to your tutor for any clarification.\n",
    "\n",
    "I will wait for you to send me a new version of the project :)\n",
    "</div>"
   ]
  },
  {
   "cell_type": "markdown",
   "id": "4527fc03",
   "metadata": {},
   "source": [
    "<div style=\"border:solid green 2px; padding: 20px\">\n",
    "<b>Reviewer's comment v4:</b>\n",
    "    \n",
    "<b>Overall Feedback</b> \n",
    "\n",
    "Thank you for making changes to your project! Could you please take a look at additional comments: title - `Reviewer's comment v4:`?\n",
    "    \n",
    "And of course, if you have any questions along the way, remember that you can always reach out to your tutor for any clarification.\n",
    "\n",
    "I will wait for you to send me a new version of the project :)\n",
    "</div>"
   ]
  },
  {
   "cell_type": "markdown",
   "id": "8a4782aa",
   "metadata": {},
   "source": [
    "<div style=\"border:solid green 2px; padding: 20px\">\n",
    "<b>Reviewer's comment v5:</b>\n",
    "    \n",
    "<b>Overall Feedback</b> \n",
    "\n",
    "Thank you for making changes to your project! Could you please take a look at additional comments: title - `Reviewer's comment v5:`?\n",
    "    \n",
    "And of course, if you have any questions along the way, remember that you can always reach out to your tutor for any clarification.\n",
    "\n",
    "I will wait for you to send me a new version of the project :)\n",
    "</div>"
   ]
  },
  {
   "cell_type": "markdown",
   "id": "9f1fe7e5",
   "metadata": {},
   "source": [
    "<div style=\"border:solid green 2px; padding: 20px\">\n",
    "<b>Reviewer's comment v6:</b>\n",
    "    \n",
    "<b>Overall Feedback</b> \n",
    "\n",
    "Thank you for making all improvements in your project! It looks perfect now and there are no critical issues. \n",
    "    \n",
    "Please keep up great work and don't hesitate to use this project as a reference in your future sprints. \n",
    "   \n",
    "Good luck on the next project 🍀 \n",
    "</div>"
   ]
  },
  {
   "cell_type": "markdown",
   "id": "f85a80d2",
   "metadata": {},
   "source": [
    "## Basic Python - Project <a id='intro'></a>"
   ]
  },
  {
   "cell_type": "markdown",
   "id": "a1262df4",
   "metadata": {},
   "source": [
    "## Introduction <a id='intro'></a>\n",
    "In this project, you will work with data from the entertainment industry. You will study a dataset with records on movies and shows. The research will focus on the \"Golden Age\" of television, which began in 1999 with the release of *The Sopranos* and is still ongoing.\n",
    "\n",
    "The aim of this project is to investigate how the number of votes a title receives impacts its ratings. The assumption is that highly-rated shows (we will focus on TV shows, ignoring movies) released during the \"Golden Age\" of television also have the most votes.\n",
    "\n",
    "### Stages \n",
    "Data on movies and shows is stored in the `/datasets/movies_and_shows.csv` file. There is no information about the quality of the data, so you will need to explore it before doing the analysis.\n",
    "\n",
    "First, you'll evaluate the quality of the data and see whether its issues are significant. Then, during data preprocessing, you will try to account for the most critical problems.\n",
    " \n",
    "Your project will consist of three stages:\n",
    " 1. Data overview\n",
    " 2. Data preprocessing\n",
    " 3. Data analysis"
   ]
  },
  {
   "cell_type": "markdown",
   "id": "c5f7ea57",
   "metadata": {},
   "source": [
    "<div class=\"alert alert-success\">\n",
    "<b>Reviewer's comment v1:</b>\n",
    "    \n",
    "It is always helpful for the reader to have additional information about project tasks. It gives an overview of what you are going to achieve in this project.\n"
   ]
  },
  {
   "cell_type": "markdown",
   "id": "ac0593ac",
   "metadata": {},
   "source": [
    "## Stage 1. Data overview <a id='data_review'></a>\n",
    "\n",
    "Open and explore the data."
   ]
  },
  {
   "cell_type": "markdown",
   "id": "e86ed00e",
   "metadata": {},
   "source": [
    "You'll need `pandas`, so import it."
   ]
  },
  {
   "cell_type": "code",
   "execution_count": 1,
   "id": "1727d3f8",
   "metadata": {},
   "outputs": [],
   "source": [
    "import pandas as pd # importing pandas"
   ]
  },
  {
   "cell_type": "markdown",
   "id": "9821beeb",
   "metadata": {},
   "source": [
    "Read the `movies_and_shows.csv` file from the `datasets` folder and save it in the `df` variable:"
   ]
  },
  {
   "cell_type": "code",
   "execution_count": 2,
   "id": "fc5a1402",
   "metadata": {},
   "outputs": [
    {
     "data": {
      "text/html": [
       "<div>\n",
       "<style scoped>\n",
       "    .dataframe tbody tr th:only-of-type {\n",
       "        vertical-align: middle;\n",
       "    }\n",
       "\n",
       "    .dataframe tbody tr th {\n",
       "        vertical-align: top;\n",
       "    }\n",
       "\n",
       "    .dataframe thead th {\n",
       "        text-align: right;\n",
       "    }\n",
       "</style>\n",
       "<table border=\"1\" class=\"dataframe\">\n",
       "  <thead>\n",
       "    <tr style=\"text-align: right;\">\n",
       "      <th></th>\n",
       "      <th>name</th>\n",
       "      <th>Character</th>\n",
       "      <th>r0le</th>\n",
       "      <th>TITLE</th>\n",
       "      <th>Type</th>\n",
       "      <th>release Year</th>\n",
       "      <th>genres</th>\n",
       "      <th>imdb sc0re</th>\n",
       "      <th>imdb v0tes</th>\n",
       "    </tr>\n",
       "  </thead>\n",
       "  <tbody>\n",
       "    <tr>\n",
       "      <th>0</th>\n",
       "      <td>Robert De Niro</td>\n",
       "      <td>Travis Bickle</td>\n",
       "      <td>ACTOR</td>\n",
       "      <td>Taxi Driver</td>\n",
       "      <td>MOVIE</td>\n",
       "      <td>1976</td>\n",
       "      <td>['drama', 'crime']</td>\n",
       "      <td>8.2</td>\n",
       "      <td>808582.0</td>\n",
       "    </tr>\n",
       "    <tr>\n",
       "      <th>1</th>\n",
       "      <td>Jodie Foster</td>\n",
       "      <td>Iris Steensma</td>\n",
       "      <td>ACTOR</td>\n",
       "      <td>Taxi Driver</td>\n",
       "      <td>MOVIE</td>\n",
       "      <td>1976</td>\n",
       "      <td>['drama', 'crime']</td>\n",
       "      <td>8.2</td>\n",
       "      <td>808582.0</td>\n",
       "    </tr>\n",
       "    <tr>\n",
       "      <th>2</th>\n",
       "      <td>Albert Brooks</td>\n",
       "      <td>Tom</td>\n",
       "      <td>ACTOR</td>\n",
       "      <td>Taxi Driver</td>\n",
       "      <td>MOVIE</td>\n",
       "      <td>1976</td>\n",
       "      <td>['drama', 'crime']</td>\n",
       "      <td>8.2</td>\n",
       "      <td>808582.0</td>\n",
       "    </tr>\n",
       "    <tr>\n",
       "      <th>3</th>\n",
       "      <td>Harvey Keitel</td>\n",
       "      <td>Matthew 'Sport' Higgins</td>\n",
       "      <td>ACTOR</td>\n",
       "      <td>Taxi Driver</td>\n",
       "      <td>MOVIE</td>\n",
       "      <td>1976</td>\n",
       "      <td>['drama', 'crime']</td>\n",
       "      <td>8.2</td>\n",
       "      <td>808582.0</td>\n",
       "    </tr>\n",
       "    <tr>\n",
       "      <th>4</th>\n",
       "      <td>Cybill Shepherd</td>\n",
       "      <td>Betsy</td>\n",
       "      <td>ACTOR</td>\n",
       "      <td>Taxi Driver</td>\n",
       "      <td>MOVIE</td>\n",
       "      <td>1976</td>\n",
       "      <td>['drama', 'crime']</td>\n",
       "      <td>8.2</td>\n",
       "      <td>808582.0</td>\n",
       "    </tr>\n",
       "    <tr>\n",
       "      <th>...</th>\n",
       "      <td>...</td>\n",
       "      <td>...</td>\n",
       "      <td>...</td>\n",
       "      <td>...</td>\n",
       "      <td>...</td>\n",
       "      <td>...</td>\n",
       "      <td>...</td>\n",
       "      <td>...</td>\n",
       "      <td>...</td>\n",
       "    </tr>\n",
       "    <tr>\n",
       "      <th>85574</th>\n",
       "      <td>Adelaida Buscato</td>\n",
       "      <td>Mar??a Paz</td>\n",
       "      <td>ACTOR</td>\n",
       "      <td>Lokillo</td>\n",
       "      <td>the movie</td>\n",
       "      <td>2021</td>\n",
       "      <td>['comedy']</td>\n",
       "      <td>3.8</td>\n",
       "      <td>68.0</td>\n",
       "    </tr>\n",
       "    <tr>\n",
       "      <th>85575</th>\n",
       "      <td>Luz Stella Luengas</td>\n",
       "      <td>Karen Bayona</td>\n",
       "      <td>ACTOR</td>\n",
       "      <td>Lokillo</td>\n",
       "      <td>the movie</td>\n",
       "      <td>2021</td>\n",
       "      <td>['comedy']</td>\n",
       "      <td>3.8</td>\n",
       "      <td>68.0</td>\n",
       "    </tr>\n",
       "    <tr>\n",
       "      <th>85576</th>\n",
       "      <td>In??s Prieto</td>\n",
       "      <td>Fanny</td>\n",
       "      <td>ACTOR</td>\n",
       "      <td>Lokillo</td>\n",
       "      <td>the movie</td>\n",
       "      <td>2021</td>\n",
       "      <td>['comedy']</td>\n",
       "      <td>3.8</td>\n",
       "      <td>68.0</td>\n",
       "    </tr>\n",
       "    <tr>\n",
       "      <th>85577</th>\n",
       "      <td>Isabel Gaona</td>\n",
       "      <td>Cacica</td>\n",
       "      <td>ACTOR</td>\n",
       "      <td>Lokillo</td>\n",
       "      <td>MOVIE</td>\n",
       "      <td>2021</td>\n",
       "      <td>['comedy']</td>\n",
       "      <td>3.8</td>\n",
       "      <td>68.0</td>\n",
       "    </tr>\n",
       "    <tr>\n",
       "      <th>85578</th>\n",
       "      <td>Julian Gaviria</td>\n",
       "      <td>unknown</td>\n",
       "      <td>DIRECTOR</td>\n",
       "      <td>Lokillo</td>\n",
       "      <td>the movie</td>\n",
       "      <td>2021</td>\n",
       "      <td>['comedy']</td>\n",
       "      <td>3.8</td>\n",
       "      <td>68.0</td>\n",
       "    </tr>\n",
       "  </tbody>\n",
       "</table>\n",
       "<p>85579 rows × 9 columns</p>\n",
       "</div>"
      ],
      "text/plain": [
       "                     name                Character      r0le        TITLE  \\\n",
       "0          Robert De Niro            Travis Bickle     ACTOR  Taxi Driver   \n",
       "1            Jodie Foster            Iris Steensma     ACTOR  Taxi Driver   \n",
       "2           Albert Brooks                      Tom     ACTOR  Taxi Driver   \n",
       "3           Harvey Keitel  Matthew 'Sport' Higgins     ACTOR  Taxi Driver   \n",
       "4         Cybill Shepherd                    Betsy     ACTOR  Taxi Driver   \n",
       "...                   ...                      ...       ...          ...   \n",
       "85574    Adelaida Buscato               Mar??a Paz     ACTOR      Lokillo   \n",
       "85575  Luz Stella Luengas             Karen Bayona     ACTOR      Lokillo   \n",
       "85576        In??s Prieto                    Fanny     ACTOR      Lokillo   \n",
       "85577        Isabel Gaona                   Cacica     ACTOR      Lokillo   \n",
       "85578      Julian Gaviria                  unknown  DIRECTOR      Lokillo   \n",
       "\n",
       "            Type  release Year              genres  imdb sc0re  imdb v0tes  \n",
       "0          MOVIE          1976  ['drama', 'crime']         8.2    808582.0  \n",
       "1          MOVIE          1976  ['drama', 'crime']         8.2    808582.0  \n",
       "2          MOVIE          1976  ['drama', 'crime']         8.2    808582.0  \n",
       "3          MOVIE          1976  ['drama', 'crime']         8.2    808582.0  \n",
       "4          MOVIE          1976  ['drama', 'crime']         8.2    808582.0  \n",
       "...          ...           ...                 ...         ...         ...  \n",
       "85574  the movie          2021          ['comedy']         3.8        68.0  \n",
       "85575  the movie          2021          ['comedy']         3.8        68.0  \n",
       "85576  the movie          2021          ['comedy']         3.8        68.0  \n",
       "85577      MOVIE          2021          ['comedy']         3.8        68.0  \n",
       "85578  the movie          2021          ['comedy']         3.8        68.0  \n",
       "\n",
       "[85579 rows x 9 columns]"
      ]
     },
     "execution_count": 2,
     "metadata": {},
     "output_type": "execute_result"
    }
   ],
   "source": [
    "df = pd.read_csv('/datasets/movies_and_shows.csv')\n",
    "df # reading the files and storing them to df\n"
   ]
  },
  {
   "cell_type": "markdown",
   "id": "e8d8b291",
   "metadata": {},
   "source": [
    "<div class=\"alert alert-success\">\n",
    "<b>Reviewer's comment v1:</b>\n",
    "    \n",
    "Well done! Required library has been imported."
   ]
  },
  {
   "cell_type": "markdown",
   "id": "1cd0a96d",
   "metadata": {},
   "source": [
    "Print the first 10 table rows:"
   ]
  },
  {
   "cell_type": "code",
   "execution_count": 3,
   "id": "acd92001",
   "metadata": {},
   "outputs": [
    {
     "data": {
      "text/html": [
       "<div>\n",
       "<style scoped>\n",
       "    .dataframe tbody tr th:only-of-type {\n",
       "        vertical-align: middle;\n",
       "    }\n",
       "\n",
       "    .dataframe tbody tr th {\n",
       "        vertical-align: top;\n",
       "    }\n",
       "\n",
       "    .dataframe thead th {\n",
       "        text-align: right;\n",
       "    }\n",
       "</style>\n",
       "<table border=\"1\" class=\"dataframe\">\n",
       "  <thead>\n",
       "    <tr style=\"text-align: right;\">\n",
       "      <th></th>\n",
       "      <th>name</th>\n",
       "      <th>Character</th>\n",
       "      <th>r0le</th>\n",
       "      <th>TITLE</th>\n",
       "      <th>Type</th>\n",
       "      <th>release Year</th>\n",
       "      <th>genres</th>\n",
       "      <th>imdb sc0re</th>\n",
       "      <th>imdb v0tes</th>\n",
       "    </tr>\n",
       "  </thead>\n",
       "  <tbody>\n",
       "    <tr>\n",
       "      <th>0</th>\n",
       "      <td>Robert De Niro</td>\n",
       "      <td>Travis Bickle</td>\n",
       "      <td>ACTOR</td>\n",
       "      <td>Taxi Driver</td>\n",
       "      <td>MOVIE</td>\n",
       "      <td>1976</td>\n",
       "      <td>['drama', 'crime']</td>\n",
       "      <td>8.2</td>\n",
       "      <td>808582.0</td>\n",
       "    </tr>\n",
       "    <tr>\n",
       "      <th>1</th>\n",
       "      <td>Jodie Foster</td>\n",
       "      <td>Iris Steensma</td>\n",
       "      <td>ACTOR</td>\n",
       "      <td>Taxi Driver</td>\n",
       "      <td>MOVIE</td>\n",
       "      <td>1976</td>\n",
       "      <td>['drama', 'crime']</td>\n",
       "      <td>8.2</td>\n",
       "      <td>808582.0</td>\n",
       "    </tr>\n",
       "    <tr>\n",
       "      <th>2</th>\n",
       "      <td>Albert Brooks</td>\n",
       "      <td>Tom</td>\n",
       "      <td>ACTOR</td>\n",
       "      <td>Taxi Driver</td>\n",
       "      <td>MOVIE</td>\n",
       "      <td>1976</td>\n",
       "      <td>['drama', 'crime']</td>\n",
       "      <td>8.2</td>\n",
       "      <td>808582.0</td>\n",
       "    </tr>\n",
       "    <tr>\n",
       "      <th>3</th>\n",
       "      <td>Harvey Keitel</td>\n",
       "      <td>Matthew 'Sport' Higgins</td>\n",
       "      <td>ACTOR</td>\n",
       "      <td>Taxi Driver</td>\n",
       "      <td>MOVIE</td>\n",
       "      <td>1976</td>\n",
       "      <td>['drama', 'crime']</td>\n",
       "      <td>8.2</td>\n",
       "      <td>808582.0</td>\n",
       "    </tr>\n",
       "    <tr>\n",
       "      <th>4</th>\n",
       "      <td>Cybill Shepherd</td>\n",
       "      <td>Betsy</td>\n",
       "      <td>ACTOR</td>\n",
       "      <td>Taxi Driver</td>\n",
       "      <td>MOVIE</td>\n",
       "      <td>1976</td>\n",
       "      <td>['drama', 'crime']</td>\n",
       "      <td>8.2</td>\n",
       "      <td>808582.0</td>\n",
       "    </tr>\n",
       "    <tr>\n",
       "      <th>5</th>\n",
       "      <td>Peter Boyle</td>\n",
       "      <td>Wizard</td>\n",
       "      <td>ACTOR</td>\n",
       "      <td>Taxi Driver</td>\n",
       "      <td>MOVIE</td>\n",
       "      <td>1976</td>\n",
       "      <td>['drama', 'crime']</td>\n",
       "      <td>8.2</td>\n",
       "      <td>808582.0</td>\n",
       "    </tr>\n",
       "    <tr>\n",
       "      <th>6</th>\n",
       "      <td>Leonard Harris</td>\n",
       "      <td>Senator Charles Palantine</td>\n",
       "      <td>ACTOR</td>\n",
       "      <td>Taxi Driver</td>\n",
       "      <td>MOVIE</td>\n",
       "      <td>1976</td>\n",
       "      <td>['drama', 'crime']</td>\n",
       "      <td>8.2</td>\n",
       "      <td>808582.0</td>\n",
       "    </tr>\n",
       "    <tr>\n",
       "      <th>7</th>\n",
       "      <td>Diahnne Abbott</td>\n",
       "      <td>Concession Girl</td>\n",
       "      <td>ACTOR</td>\n",
       "      <td>Taxi Driver</td>\n",
       "      <td>MOVIE</td>\n",
       "      <td>1976</td>\n",
       "      <td>['drama', 'crime']</td>\n",
       "      <td>8.2</td>\n",
       "      <td>808582.0</td>\n",
       "    </tr>\n",
       "    <tr>\n",
       "      <th>8</th>\n",
       "      <td>Gino Ardito</td>\n",
       "      <td>Policeman at Rally</td>\n",
       "      <td>ACTOR</td>\n",
       "      <td>Taxi Driver</td>\n",
       "      <td>MOVIE</td>\n",
       "      <td>1976</td>\n",
       "      <td>['drama', 'crime']</td>\n",
       "      <td>8.2</td>\n",
       "      <td>808582.0</td>\n",
       "    </tr>\n",
       "    <tr>\n",
       "      <th>9</th>\n",
       "      <td>Martin Scorsese</td>\n",
       "      <td>Passenger Watching Silhouette</td>\n",
       "      <td>ACTOR</td>\n",
       "      <td>Taxi Driver</td>\n",
       "      <td>MOVIE</td>\n",
       "      <td>1976</td>\n",
       "      <td>['drama', 'crime']</td>\n",
       "      <td>8.2</td>\n",
       "      <td>808582.0</td>\n",
       "    </tr>\n",
       "  </tbody>\n",
       "</table>\n",
       "</div>"
      ],
      "text/plain": [
       "              name                      Character   r0le        TITLE   Type  \\\n",
       "0   Robert De Niro                  Travis Bickle  ACTOR  Taxi Driver  MOVIE   \n",
       "1     Jodie Foster                  Iris Steensma  ACTOR  Taxi Driver  MOVIE   \n",
       "2    Albert Brooks                            Tom  ACTOR  Taxi Driver  MOVIE   \n",
       "3    Harvey Keitel        Matthew 'Sport' Higgins  ACTOR  Taxi Driver  MOVIE   \n",
       "4  Cybill Shepherd                          Betsy  ACTOR  Taxi Driver  MOVIE   \n",
       "5      Peter Boyle                         Wizard  ACTOR  Taxi Driver  MOVIE   \n",
       "6   Leonard Harris      Senator Charles Palantine  ACTOR  Taxi Driver  MOVIE   \n",
       "7   Diahnne Abbott                Concession Girl  ACTOR  Taxi Driver  MOVIE   \n",
       "8      Gino Ardito             Policeman at Rally  ACTOR  Taxi Driver  MOVIE   \n",
       "9  Martin Scorsese  Passenger Watching Silhouette  ACTOR  Taxi Driver  MOVIE   \n",
       "\n",
       "   release Year              genres  imdb sc0re  imdb v0tes  \n",
       "0          1976  ['drama', 'crime']         8.2    808582.0  \n",
       "1          1976  ['drama', 'crime']         8.2    808582.0  \n",
       "2          1976  ['drama', 'crime']         8.2    808582.0  \n",
       "3          1976  ['drama', 'crime']         8.2    808582.0  \n",
       "4          1976  ['drama', 'crime']         8.2    808582.0  \n",
       "5          1976  ['drama', 'crime']         8.2    808582.0  \n",
       "6          1976  ['drama', 'crime']         8.2    808582.0  \n",
       "7          1976  ['drama', 'crime']         8.2    808582.0  \n",
       "8          1976  ['drama', 'crime']         8.2    808582.0  \n",
       "9          1976  ['drama', 'crime']         8.2    808582.0  "
      ]
     },
     "execution_count": 3,
     "metadata": {},
     "output_type": "execute_result"
    }
   ],
   "source": [
    "df.head(10) # obtaining the first 10 rows from the df table\n",
    "# hint: you can use head() and tail() in Jupyter Notebook without wrapping them into print()\n"
   ]
  },
  {
   "cell_type": "markdown",
   "id": "e579aa91",
   "metadata": {},
   "source": [
    "Obtain the general information about the table with one command:"
   ]
  },
  {
   "cell_type": "code",
   "execution_count": 4,
   "id": "7bf66d2a",
   "metadata": {},
   "outputs": [
    {
     "name": "stdout",
     "output_type": "stream",
     "text": [
      "<class 'pandas.core.frame.DataFrame'>\n",
      "RangeIndex: 85579 entries, 0 to 85578\n",
      "Data columns (total 9 columns):\n",
      " #   Column        Non-Null Count  Dtype  \n",
      "---  ------        --------------  -----  \n",
      " 0      name       85579 non-null  object \n",
      " 1   Character     85579 non-null  object \n",
      " 2   r0le          85579 non-null  object \n",
      " 3   TITLE         85578 non-null  object \n",
      " 4     Type        85579 non-null  object \n",
      " 5   release Year  85579 non-null  int64  \n",
      " 6   genres        85579 non-null  object \n",
      " 7   imdb sc0re    80970 non-null  float64\n",
      " 8   imdb v0tes    80853 non-null  float64\n",
      "dtypes: float64(2), int64(1), object(6)\n",
      "memory usage: 5.9+ MB\n"
     ]
    }
   ],
   "source": [
    "df.info() # obtaining general information about the data in df\n"
   ]
  },
  {
   "cell_type": "markdown",
   "id": "e91f62a7",
   "metadata": {},
   "source": [
    "The table contains nine columns. The majority store the same data type: object. The only exceptions are `'release Year'` (int64 type), `'imdb sc0re'` (float64 type) and `'imdb v0tes'` (float64 type). Scores and votes will be used in our analysis, so it's important to verify that they are present in the dataframe in the appropriate numeric format. Three columns (`'TITLE'`, `'imdb sc0re'` and `'imdb v0tes'`) have missing values.\n",
    "\n",
    "According to the documentation:\n",
    "- `'name'` — actor/director's name and last name\n",
    "- `'Character'` — character played (for actors)\n",
    "- `'r0le '` — the person's contribution to the title (it can be in the capacity of either actor or director)\n",
    "- `'TITLE '` — title of the movie (show)\n",
    "- `'  Type'` — show or movie\n",
    "- `'release Year'` — year when movie (show) was released\n",
    "- `'genres'` — list of genres under which the movie (show) falls\n",
    "- `'imdb sc0re'` — score on IMDb\n",
    "- `'imdb v0tes'` — votes on IMDb\n",
    "\n",
    "We can see three issues with the column names:\n",
    "1. Some names are uppercase, while others are lowercase.\n",
    "2. There are names containing whitespace.\n",
    "3. A few column names have digit '0' instead of letter 'o'. \n"
   ]
  },
  {
   "cell_type": "markdown",
   "id": "4355de7b",
   "metadata": {},
   "source": [
    "### Conclusions <a id='data_review_conclusions'></a> \n",
    "\n",
    "Each row in the table stores data about a movie or show. The columns can be divided into two categories: the first is about the roles held by different people who worked on the movie or show (role, name of the actor or director, and character if the row is about an actor); the second category is information about the movie or show itself (title, release year, genre, imdb figures).\n",
    "\n",
    "It's clear that there is sufficient data to do the analysis and evaluate our assumption. However, to move forward, we need to preprocess the data."
   ]
  },
  {
   "cell_type": "markdown",
   "id": "74a54eef",
   "metadata": {},
   "source": [
    "<div class=\"alert alert-success\">\n",
    "<b>Reviewer's comment v1:</b>\n",
    "    \n",
    "Great data overview and correct conclusions. "
   ]
  },
  {
   "cell_type": "markdown",
   "id": "c5dc9111",
   "metadata": {},
   "source": [
    "## Stage 2. Data preprocessing <a id='data_preprocessing'></a>\n",
    "Correct the formatting in the column headers and deal with the missing values. Then, check whether there are duplicates in the data."
   ]
  },
  {
   "cell_type": "code",
   "execution_count": 5,
   "id": "9c850d13",
   "metadata": {},
   "outputs": [
    {
     "data": {
      "text/plain": [
       "['   name',\n",
       " 'Character',\n",
       " 'r0le',\n",
       " 'TITLE',\n",
       " '  Type',\n",
       " 'release Year',\n",
       " 'genres',\n",
       " 'imdb sc0re',\n",
       " 'imdb v0tes']"
      ]
     },
     "execution_count": 5,
     "metadata": {},
     "output_type": "execute_result"
    }
   ],
   "source": [
    " df.columns.tolist() # the list of column names in the df table\n"
   ]
  },
  {
   "cell_type": "markdown",
   "id": "5f966df9",
   "metadata": {},
   "source": [
    "Change the column names according to the rules of good style:\n",
    "* If the name has several words, use snake_case\n",
    "* All characters must be lowercase\n",
    "* Remove whitespace\n",
    "* Replace zero with letter 'o'"
   ]
  },
  {
   "cell_type": "code",
   "execution_count": 6,
   "id": "23a1dc11",
   "metadata": {},
   "outputs": [
    {
     "data": {
      "text/html": [
       "<div>\n",
       "<style scoped>\n",
       "    .dataframe tbody tr th:only-of-type {\n",
       "        vertical-align: middle;\n",
       "    }\n",
       "\n",
       "    .dataframe tbody tr th {\n",
       "        vertical-align: top;\n",
       "    }\n",
       "\n",
       "    .dataframe thead th {\n",
       "        text-align: right;\n",
       "    }\n",
       "</style>\n",
       "<table border=\"1\" class=\"dataframe\">\n",
       "  <thead>\n",
       "    <tr style=\"text-align: right;\">\n",
       "      <th></th>\n",
       "      <th>name</th>\n",
       "      <th>character</th>\n",
       "      <th>role</th>\n",
       "      <th>title</th>\n",
       "      <th>type</th>\n",
       "      <th>release_year</th>\n",
       "      <th>genres</th>\n",
       "      <th>imdb_scores</th>\n",
       "      <th>imdb_votes</th>\n",
       "    </tr>\n",
       "  </thead>\n",
       "  <tbody>\n",
       "    <tr>\n",
       "      <th>0</th>\n",
       "      <td>Robert De Niro</td>\n",
       "      <td>Travis Bickle</td>\n",
       "      <td>ACTOR</td>\n",
       "      <td>Taxi Driver</td>\n",
       "      <td>MOVIE</td>\n",
       "      <td>1976</td>\n",
       "      <td>['drama', 'crime']</td>\n",
       "      <td>8.2</td>\n",
       "      <td>808582.0</td>\n",
       "    </tr>\n",
       "    <tr>\n",
       "      <th>1</th>\n",
       "      <td>Jodie Foster</td>\n",
       "      <td>Iris Steensma</td>\n",
       "      <td>ACTOR</td>\n",
       "      <td>Taxi Driver</td>\n",
       "      <td>MOVIE</td>\n",
       "      <td>1976</td>\n",
       "      <td>['drama', 'crime']</td>\n",
       "      <td>8.2</td>\n",
       "      <td>808582.0</td>\n",
       "    </tr>\n",
       "    <tr>\n",
       "      <th>2</th>\n",
       "      <td>Albert Brooks</td>\n",
       "      <td>Tom</td>\n",
       "      <td>ACTOR</td>\n",
       "      <td>Taxi Driver</td>\n",
       "      <td>MOVIE</td>\n",
       "      <td>1976</td>\n",
       "      <td>['drama', 'crime']</td>\n",
       "      <td>8.2</td>\n",
       "      <td>808582.0</td>\n",
       "    </tr>\n",
       "    <tr>\n",
       "      <th>3</th>\n",
       "      <td>Harvey Keitel</td>\n",
       "      <td>Matthew 'Sport' Higgins</td>\n",
       "      <td>ACTOR</td>\n",
       "      <td>Taxi Driver</td>\n",
       "      <td>MOVIE</td>\n",
       "      <td>1976</td>\n",
       "      <td>['drama', 'crime']</td>\n",
       "      <td>8.2</td>\n",
       "      <td>808582.0</td>\n",
       "    </tr>\n",
       "    <tr>\n",
       "      <th>4</th>\n",
       "      <td>Cybill Shepherd</td>\n",
       "      <td>Betsy</td>\n",
       "      <td>ACTOR</td>\n",
       "      <td>Taxi Driver</td>\n",
       "      <td>MOVIE</td>\n",
       "      <td>1976</td>\n",
       "      <td>['drama', 'crime']</td>\n",
       "      <td>8.2</td>\n",
       "      <td>808582.0</td>\n",
       "    </tr>\n",
       "    <tr>\n",
       "      <th>...</th>\n",
       "      <td>...</td>\n",
       "      <td>...</td>\n",
       "      <td>...</td>\n",
       "      <td>...</td>\n",
       "      <td>...</td>\n",
       "      <td>...</td>\n",
       "      <td>...</td>\n",
       "      <td>...</td>\n",
       "      <td>...</td>\n",
       "    </tr>\n",
       "    <tr>\n",
       "      <th>85574</th>\n",
       "      <td>Adelaida Buscato</td>\n",
       "      <td>Mar??a Paz</td>\n",
       "      <td>ACTOR</td>\n",
       "      <td>Lokillo</td>\n",
       "      <td>the movie</td>\n",
       "      <td>2021</td>\n",
       "      <td>['comedy']</td>\n",
       "      <td>3.8</td>\n",
       "      <td>68.0</td>\n",
       "    </tr>\n",
       "    <tr>\n",
       "      <th>85575</th>\n",
       "      <td>Luz Stella Luengas</td>\n",
       "      <td>Karen Bayona</td>\n",
       "      <td>ACTOR</td>\n",
       "      <td>Lokillo</td>\n",
       "      <td>the movie</td>\n",
       "      <td>2021</td>\n",
       "      <td>['comedy']</td>\n",
       "      <td>3.8</td>\n",
       "      <td>68.0</td>\n",
       "    </tr>\n",
       "    <tr>\n",
       "      <th>85576</th>\n",
       "      <td>In??s Prieto</td>\n",
       "      <td>Fanny</td>\n",
       "      <td>ACTOR</td>\n",
       "      <td>Lokillo</td>\n",
       "      <td>the movie</td>\n",
       "      <td>2021</td>\n",
       "      <td>['comedy']</td>\n",
       "      <td>3.8</td>\n",
       "      <td>68.0</td>\n",
       "    </tr>\n",
       "    <tr>\n",
       "      <th>85577</th>\n",
       "      <td>Isabel Gaona</td>\n",
       "      <td>Cacica</td>\n",
       "      <td>ACTOR</td>\n",
       "      <td>Lokillo</td>\n",
       "      <td>MOVIE</td>\n",
       "      <td>2021</td>\n",
       "      <td>['comedy']</td>\n",
       "      <td>3.8</td>\n",
       "      <td>68.0</td>\n",
       "    </tr>\n",
       "    <tr>\n",
       "      <th>85578</th>\n",
       "      <td>Julian Gaviria</td>\n",
       "      <td>unknown</td>\n",
       "      <td>DIRECTOR</td>\n",
       "      <td>Lokillo</td>\n",
       "      <td>the movie</td>\n",
       "      <td>2021</td>\n",
       "      <td>['comedy']</td>\n",
       "      <td>3.8</td>\n",
       "      <td>68.0</td>\n",
       "    </tr>\n",
       "  </tbody>\n",
       "</table>\n",
       "<p>85579 rows × 9 columns</p>\n",
       "</div>"
      ],
      "text/plain": [
       "                     name                character      role        title  \\\n",
       "0          Robert De Niro            Travis Bickle     ACTOR  Taxi Driver   \n",
       "1            Jodie Foster            Iris Steensma     ACTOR  Taxi Driver   \n",
       "2           Albert Brooks                      Tom     ACTOR  Taxi Driver   \n",
       "3           Harvey Keitel  Matthew 'Sport' Higgins     ACTOR  Taxi Driver   \n",
       "4         Cybill Shepherd                    Betsy     ACTOR  Taxi Driver   \n",
       "...                   ...                      ...       ...          ...   \n",
       "85574    Adelaida Buscato               Mar??a Paz     ACTOR      Lokillo   \n",
       "85575  Luz Stella Luengas             Karen Bayona     ACTOR      Lokillo   \n",
       "85576        In??s Prieto                    Fanny     ACTOR      Lokillo   \n",
       "85577        Isabel Gaona                   Cacica     ACTOR      Lokillo   \n",
       "85578      Julian Gaviria                  unknown  DIRECTOR      Lokillo   \n",
       "\n",
       "            type  release_year              genres  imdb_scores  imdb_votes  \n",
       "0          MOVIE          1976  ['drama', 'crime']          8.2    808582.0  \n",
       "1          MOVIE          1976  ['drama', 'crime']          8.2    808582.0  \n",
       "2          MOVIE          1976  ['drama', 'crime']          8.2    808582.0  \n",
       "3          MOVIE          1976  ['drama', 'crime']          8.2    808582.0  \n",
       "4          MOVIE          1976  ['drama', 'crime']          8.2    808582.0  \n",
       "...          ...           ...                 ...          ...         ...  \n",
       "85574  the movie          2021          ['comedy']          3.8        68.0  \n",
       "85575  the movie          2021          ['comedy']          3.8        68.0  \n",
       "85576  the movie          2021          ['comedy']          3.8        68.0  \n",
       "85577      MOVIE          2021          ['comedy']          3.8        68.0  \n",
       "85578  the movie          2021          ['comedy']          3.8        68.0  \n",
       "\n",
       "[85579 rows x 9 columns]"
      ]
     },
     "execution_count": 6,
     "metadata": {},
     "output_type": "execute_result"
    }
   ],
   "source": [
    "df = df.rename(columns = {'   name':'name',\n",
    " 'Character':'character',\n",
    " 'r0le':'role',\n",
    " 'TITLE':'title',\n",
    " '  Type':'type',\n",
    " 'release Year':'release_year',\n",
    " 'genres':'genres',\n",
    " 'imdb sc0re':'imdb_scores',\n",
    " 'imdb v0tes':'imdb_votes'})\n",
    "df# renaming columns\n"
   ]
  },
  {
   "cell_type": "markdown",
   "id": "4c37d4ee",
   "metadata": {},
   "source": [
    "<div class=\"alert alert-danger\">\n",
    "<b>Reviewer's comment v1:</b>\n",
    "    \n",
    "As you can see, the column names remain in the same format because `rename` requires the `columns` parameter. You can check it here:\n",
    "   \n",
    "https://pandas.pydata.org/docs/reference/api/pandas.DataFrame.rename.html\n",
    "    \n",
    "`df = df.rename(columns={..`"
   ]
  },
  {
   "cell_type": "markdown",
   "id": "464fbd04",
   "metadata": {},
   "source": [
    "Check the result. Print the names of the columns once more:"
   ]
  },
  {
   "cell_type": "code",
   "execution_count": 7,
   "id": "0eb6527f",
   "metadata": {},
   "outputs": [
    {
     "data": {
      "text/plain": [
       "['name',\n",
       " 'character',\n",
       " 'role',\n",
       " 'title',\n",
       " 'type',\n",
       " 'release_year',\n",
       " 'genres',\n",
       " 'imdb_scores',\n",
       " 'imdb_votes']"
      ]
     },
     "execution_count": 7,
     "metadata": {},
     "output_type": "execute_result"
    }
   ],
   "source": [
    " df.columns.tolist()# checking result: the list of column names\n"
   ]
  },
  {
   "cell_type": "markdown",
   "id": "1b5c3d2e",
   "metadata": {},
   "source": [
    "<div class=\"alert alert-success\">\n",
    "<b>Reviewer's comment v2:</b>\n",
    "    \n",
    "Well done! Everything is correct now. "
   ]
  },
  {
   "cell_type": "markdown",
   "id": "14d9c319",
   "metadata": {},
   "source": [
    "### Missing values <a id='missing_values'></a>\n",
    "First, find the number of missing values in the table. To do so, combine two `pandas` methods:"
   ]
  },
  {
   "cell_type": "code",
   "execution_count": 8,
   "id": "21c427f2",
   "metadata": {},
   "outputs": [
    {
     "data": {
      "text/plain": [
       "name               0\n",
       "character          0\n",
       "role               0\n",
       "title              1\n",
       "type               0\n",
       "release_year       0\n",
       "genres             0\n",
       "imdb_scores     4609\n",
       "imdb_votes      4726\n",
       "dtype: int64"
      ]
     },
     "execution_count": 8,
     "metadata": {},
     "output_type": "execute_result"
    }
   ],
   "source": [
    "missing_values = df.isnull().sum()\n",
    "missing_values # calculating missing values\n"
   ]
  },
  {
   "cell_type": "markdown",
   "id": "d883c314",
   "metadata": {},
   "source": [
    "<div class=\"alert alert-success\">\n",
    "<b>Reviewer's comment v1</b>\n",
    "    \n",
    "Great that you selected `isnull()` method to find missing values! \n",
    "\n",
    "It is also sometimes helpful to check not only the total amount of missing values in each column but also look at the percentage of missing values. It helps to understand the overall impact. You can check percentage using, for example, this code:\n",
    "\n",
    "`df.isnull().sum()/len(df)`"
   ]
  },
  {
   "cell_type": "markdown",
   "id": "c8272df3",
   "metadata": {},
   "source": [
    "We identified missing values in several columns. While the missing value in `'title'` isn't critical, missing values in `'imdb_score'` and `'imdb_votes'` affect around 6% of the data, which could impact our analysis. To ensure data integrity, we'll drop all rows with missing values."
   ]
  },
  {
   "cell_type": "code",
   "execution_count": 9,
   "id": "599d5550",
   "metadata": {},
   "outputs": [
    {
     "data": {
      "text/html": [
       "<div>\n",
       "<style scoped>\n",
       "    .dataframe tbody tr th:only-of-type {\n",
       "        vertical-align: middle;\n",
       "    }\n",
       "\n",
       "    .dataframe tbody tr th {\n",
       "        vertical-align: top;\n",
       "    }\n",
       "\n",
       "    .dataframe thead th {\n",
       "        text-align: right;\n",
       "    }\n",
       "</style>\n",
       "<table border=\"1\" class=\"dataframe\">\n",
       "  <thead>\n",
       "    <tr style=\"text-align: right;\">\n",
       "      <th></th>\n",
       "      <th>name</th>\n",
       "      <th>character</th>\n",
       "      <th>role</th>\n",
       "      <th>title</th>\n",
       "      <th>type</th>\n",
       "      <th>release_year</th>\n",
       "      <th>genres</th>\n",
       "      <th>imdb_scores</th>\n",
       "      <th>imdb_votes</th>\n",
       "    </tr>\n",
       "  </thead>\n",
       "  <tbody>\n",
       "    <tr>\n",
       "      <th>0</th>\n",
       "      <td>Robert De Niro</td>\n",
       "      <td>Travis Bickle</td>\n",
       "      <td>ACTOR</td>\n",
       "      <td>Taxi Driver</td>\n",
       "      <td>MOVIE</td>\n",
       "      <td>1976</td>\n",
       "      <td>['drama', 'crime']</td>\n",
       "      <td>8.2</td>\n",
       "      <td>808582.0</td>\n",
       "    </tr>\n",
       "    <tr>\n",
       "      <th>1</th>\n",
       "      <td>Jodie Foster</td>\n",
       "      <td>Iris Steensma</td>\n",
       "      <td>ACTOR</td>\n",
       "      <td>Taxi Driver</td>\n",
       "      <td>MOVIE</td>\n",
       "      <td>1976</td>\n",
       "      <td>['drama', 'crime']</td>\n",
       "      <td>8.2</td>\n",
       "      <td>808582.0</td>\n",
       "    </tr>\n",
       "    <tr>\n",
       "      <th>2</th>\n",
       "      <td>Albert Brooks</td>\n",
       "      <td>Tom</td>\n",
       "      <td>ACTOR</td>\n",
       "      <td>Taxi Driver</td>\n",
       "      <td>MOVIE</td>\n",
       "      <td>1976</td>\n",
       "      <td>['drama', 'crime']</td>\n",
       "      <td>8.2</td>\n",
       "      <td>808582.0</td>\n",
       "    </tr>\n",
       "    <tr>\n",
       "      <th>3</th>\n",
       "      <td>Harvey Keitel</td>\n",
       "      <td>Matthew 'Sport' Higgins</td>\n",
       "      <td>ACTOR</td>\n",
       "      <td>Taxi Driver</td>\n",
       "      <td>MOVIE</td>\n",
       "      <td>1976</td>\n",
       "      <td>['drama', 'crime']</td>\n",
       "      <td>8.2</td>\n",
       "      <td>808582.0</td>\n",
       "    </tr>\n",
       "    <tr>\n",
       "      <th>4</th>\n",
       "      <td>Cybill Shepherd</td>\n",
       "      <td>Betsy</td>\n",
       "      <td>ACTOR</td>\n",
       "      <td>Taxi Driver</td>\n",
       "      <td>MOVIE</td>\n",
       "      <td>1976</td>\n",
       "      <td>['drama', 'crime']</td>\n",
       "      <td>8.2</td>\n",
       "      <td>808582.0</td>\n",
       "    </tr>\n",
       "    <tr>\n",
       "      <th>...</th>\n",
       "      <td>...</td>\n",
       "      <td>...</td>\n",
       "      <td>...</td>\n",
       "      <td>...</td>\n",
       "      <td>...</td>\n",
       "      <td>...</td>\n",
       "      <td>...</td>\n",
       "      <td>...</td>\n",
       "      <td>...</td>\n",
       "    </tr>\n",
       "    <tr>\n",
       "      <th>85574</th>\n",
       "      <td>Adelaida Buscato</td>\n",
       "      <td>Mar??a Paz</td>\n",
       "      <td>ACTOR</td>\n",
       "      <td>Lokillo</td>\n",
       "      <td>the movie</td>\n",
       "      <td>2021</td>\n",
       "      <td>['comedy']</td>\n",
       "      <td>3.8</td>\n",
       "      <td>68.0</td>\n",
       "    </tr>\n",
       "    <tr>\n",
       "      <th>85575</th>\n",
       "      <td>Luz Stella Luengas</td>\n",
       "      <td>Karen Bayona</td>\n",
       "      <td>ACTOR</td>\n",
       "      <td>Lokillo</td>\n",
       "      <td>the movie</td>\n",
       "      <td>2021</td>\n",
       "      <td>['comedy']</td>\n",
       "      <td>3.8</td>\n",
       "      <td>68.0</td>\n",
       "    </tr>\n",
       "    <tr>\n",
       "      <th>85576</th>\n",
       "      <td>In??s Prieto</td>\n",
       "      <td>Fanny</td>\n",
       "      <td>ACTOR</td>\n",
       "      <td>Lokillo</td>\n",
       "      <td>the movie</td>\n",
       "      <td>2021</td>\n",
       "      <td>['comedy']</td>\n",
       "      <td>3.8</td>\n",
       "      <td>68.0</td>\n",
       "    </tr>\n",
       "    <tr>\n",
       "      <th>85577</th>\n",
       "      <td>Isabel Gaona</td>\n",
       "      <td>Cacica</td>\n",
       "      <td>ACTOR</td>\n",
       "      <td>Lokillo</td>\n",
       "      <td>MOVIE</td>\n",
       "      <td>2021</td>\n",
       "      <td>['comedy']</td>\n",
       "      <td>3.8</td>\n",
       "      <td>68.0</td>\n",
       "    </tr>\n",
       "    <tr>\n",
       "      <th>85578</th>\n",
       "      <td>Julian Gaviria</td>\n",
       "      <td>unknown</td>\n",
       "      <td>DIRECTOR</td>\n",
       "      <td>Lokillo</td>\n",
       "      <td>the movie</td>\n",
       "      <td>2021</td>\n",
       "      <td>['comedy']</td>\n",
       "      <td>3.8</td>\n",
       "      <td>68.0</td>\n",
       "    </tr>\n",
       "  </tbody>\n",
       "</table>\n",
       "<p>80853 rows × 9 columns</p>\n",
       "</div>"
      ],
      "text/plain": [
       "                     name                character      role        title  \\\n",
       "0          Robert De Niro            Travis Bickle     ACTOR  Taxi Driver   \n",
       "1            Jodie Foster            Iris Steensma     ACTOR  Taxi Driver   \n",
       "2           Albert Brooks                      Tom     ACTOR  Taxi Driver   \n",
       "3           Harvey Keitel  Matthew 'Sport' Higgins     ACTOR  Taxi Driver   \n",
       "4         Cybill Shepherd                    Betsy     ACTOR  Taxi Driver   \n",
       "...                   ...                      ...       ...          ...   \n",
       "85574    Adelaida Buscato               Mar??a Paz     ACTOR      Lokillo   \n",
       "85575  Luz Stella Luengas             Karen Bayona     ACTOR      Lokillo   \n",
       "85576        In??s Prieto                    Fanny     ACTOR      Lokillo   \n",
       "85577        Isabel Gaona                   Cacica     ACTOR      Lokillo   \n",
       "85578      Julian Gaviria                  unknown  DIRECTOR      Lokillo   \n",
       "\n",
       "            type  release_year              genres  imdb_scores  imdb_votes  \n",
       "0          MOVIE          1976  ['drama', 'crime']          8.2    808582.0  \n",
       "1          MOVIE          1976  ['drama', 'crime']          8.2    808582.0  \n",
       "2          MOVIE          1976  ['drama', 'crime']          8.2    808582.0  \n",
       "3          MOVIE          1976  ['drama', 'crime']          8.2    808582.0  \n",
       "4          MOVIE          1976  ['drama', 'crime']          8.2    808582.0  \n",
       "...          ...           ...                 ...          ...         ...  \n",
       "85574  the movie          2021          ['comedy']          3.8        68.0  \n",
       "85575  the movie          2021          ['comedy']          3.8        68.0  \n",
       "85576  the movie          2021          ['comedy']          3.8        68.0  \n",
       "85577      MOVIE          2021          ['comedy']          3.8        68.0  \n",
       "85578  the movie          2021          ['comedy']          3.8        68.0  \n",
       "\n",
       "[80853 rows x 9 columns]"
      ]
     },
     "execution_count": 9,
     "metadata": {},
     "output_type": "execute_result"
    }
   ],
   "source": [
    "df = df.dropna()\n",
    "df # dropping rows where columns with scores, and votes have missing values\n"
   ]
  },
  {
   "cell_type": "markdown",
   "id": "2156887f",
   "metadata": {},
   "source": [
    "Make sure the table doesn't contain any more missing values. Count the missing values again."
   ]
  },
  {
   "cell_type": "code",
   "execution_count": 10,
   "id": "55c0b0ce",
   "metadata": {},
   "outputs": [
    {
     "data": {
      "text/plain": [
       "name            0\n",
       "character       0\n",
       "role            0\n",
       "title           0\n",
       "type            0\n",
       "release_year    0\n",
       "genres          0\n",
       "imdb_scores     0\n",
       "imdb_votes      0\n",
       "dtype: int64"
      ]
     },
     "execution_count": 10,
     "metadata": {},
     "output_type": "execute_result"
    }
   ],
   "source": [
    "missing_values = df.isnull().sum()\n",
    "missing_values# counting missing values\n"
   ]
  },
  {
   "cell_type": "markdown",
   "id": "c81b87d5",
   "metadata": {},
   "source": [
    "<div class=\"alert alert-success\">\n",
    "<b>Reviewer's comment v1:</b>\n",
    "    \n",
    "Everything is correct here!"
   ]
  },
  {
   "cell_type": "markdown",
   "id": "a7dc7aa0",
   "metadata": {},
   "source": [
    "### Duplicates <a id='duplicates'></a>\n",
    "Find the number of duplicate rows in the table using one command:"
   ]
  },
  {
   "cell_type": "code",
   "execution_count": 11,
   "id": "9227df01",
   "metadata": {},
   "outputs": [
    {
     "data": {
      "text/plain": [
       "6994"
      ]
     },
     "execution_count": 11,
     "metadata": {},
     "output_type": "execute_result"
    }
   ],
   "source": [
    "num_duplicates = df.duplicated().sum()\n",
    "num_duplicates # counting duplicate rows\n"
   ]
  },
  {
   "cell_type": "markdown",
   "id": "5f6eb0fc",
   "metadata": {},
   "source": [
    "Review the duplicate rows to determine if removing them would distort our dataset."
   ]
  },
  {
   "cell_type": "code",
   "execution_count": 12,
   "id": "bcf32fcb",
   "metadata": {},
   "outputs": [
    {
     "data": {
      "text/html": [
       "<div>\n",
       "<style scoped>\n",
       "    .dataframe tbody tr th:only-of-type {\n",
       "        vertical-align: middle;\n",
       "    }\n",
       "\n",
       "    .dataframe tbody tr th {\n",
       "        vertical-align: top;\n",
       "    }\n",
       "\n",
       "    .dataframe thead th {\n",
       "        text-align: right;\n",
       "    }\n",
       "</style>\n",
       "<table border=\"1\" class=\"dataframe\">\n",
       "  <thead>\n",
       "    <tr style=\"text-align: right;\">\n",
       "      <th></th>\n",
       "      <th>name</th>\n",
       "      <th>character</th>\n",
       "      <th>role</th>\n",
       "      <th>title</th>\n",
       "      <th>type</th>\n",
       "      <th>release_year</th>\n",
       "      <th>genres</th>\n",
       "      <th>imdb_scores</th>\n",
       "      <th>imdb_votes</th>\n",
       "    </tr>\n",
       "  </thead>\n",
       "  <tbody>\n",
       "    <tr>\n",
       "      <th>85569</th>\n",
       "      <td>Jessica Cediel</td>\n",
       "      <td>Liliana Navarro</td>\n",
       "      <td>ACTOR</td>\n",
       "      <td>Lokillo</td>\n",
       "      <td>MOVIE</td>\n",
       "      <td>2021</td>\n",
       "      <td>['comedy']</td>\n",
       "      <td>3.8</td>\n",
       "      <td>68.0</td>\n",
       "    </tr>\n",
       "    <tr>\n",
       "      <th>85570</th>\n",
       "      <td>Javier Gardeaz?­bal</td>\n",
       "      <td>Agust??n \"Peluca\" Ort??z</td>\n",
       "      <td>ACTOR</td>\n",
       "      <td>Lokillo</td>\n",
       "      <td>MOVIE</td>\n",
       "      <td>2021</td>\n",
       "      <td>['comedy']</td>\n",
       "      <td>3.8</td>\n",
       "      <td>68.0</td>\n",
       "    </tr>\n",
       "    <tr>\n",
       "      <th>85571</th>\n",
       "      <td>Carla Giraldo</td>\n",
       "      <td>Valery Reinoso</td>\n",
       "      <td>ACTOR</td>\n",
       "      <td>Lokillo</td>\n",
       "      <td>MOVIE</td>\n",
       "      <td>2021</td>\n",
       "      <td>['comedy']</td>\n",
       "      <td>3.8</td>\n",
       "      <td>68.0</td>\n",
       "    </tr>\n",
       "    <tr>\n",
       "      <th>85572</th>\n",
       "      <td>Ana Mar??a S?­nchez</td>\n",
       "      <td>Lourdes</td>\n",
       "      <td>ACTOR</td>\n",
       "      <td>Lokillo</td>\n",
       "      <td>MOVIE</td>\n",
       "      <td>2021</td>\n",
       "      <td>['comedy']</td>\n",
       "      <td>3.8</td>\n",
       "      <td>68.0</td>\n",
       "    </tr>\n",
       "    <tr>\n",
       "      <th>85577</th>\n",
       "      <td>Isabel Gaona</td>\n",
       "      <td>Cacica</td>\n",
       "      <td>ACTOR</td>\n",
       "      <td>Lokillo</td>\n",
       "      <td>MOVIE</td>\n",
       "      <td>2021</td>\n",
       "      <td>['comedy']</td>\n",
       "      <td>3.8</td>\n",
       "      <td>68.0</td>\n",
       "    </tr>\n",
       "  </tbody>\n",
       "</table>\n",
       "</div>"
      ],
      "text/plain": [
       "                      name                 character   role    title   type  \\\n",
       "85569       Jessica Cediel           Liliana Navarro  ACTOR  Lokillo  MOVIE   \n",
       "85570  Javier Gardeaz?­bal  Agust??n \"Peluca\" Ort??z  ACTOR  Lokillo  MOVIE   \n",
       "85571        Carla Giraldo            Valery Reinoso  ACTOR  Lokillo  MOVIE   \n",
       "85572  Ana Mar??a S?­nchez                   Lourdes  ACTOR  Lokillo  MOVIE   \n",
       "85577         Isabel Gaona                    Cacica  ACTOR  Lokillo  MOVIE   \n",
       "\n",
       "       release_year      genres  imdb_scores  imdb_votes  \n",
       "85569          2021  ['comedy']          3.8        68.0  \n",
       "85570          2021  ['comedy']          3.8        68.0  \n",
       "85571          2021  ['comedy']          3.8        68.0  \n",
       "85572          2021  ['comedy']          3.8        68.0  \n",
       "85577          2021  ['comedy']          3.8        68.0  "
      ]
     },
     "execution_count": 12,
     "metadata": {},
     "output_type": "execute_result"
    }
   ],
   "source": [
    "duplicate_rows = df[df.duplicated(keep=False)]\n",
    "duplicate_rows.tail(5)# Produce table with duplicates (with original rows included) and review last 5 rows\n"
   ]
  },
  {
   "cell_type": "markdown",
   "id": "a1ed6640",
   "metadata": {},
   "source": [
    "There are two clear duplicates in the printed rows. We can safely remove them.\n",
    "Call the `pandas` method for getting rid of duplicate rows:"
   ]
  },
  {
   "cell_type": "code",
   "execution_count": 13,
   "id": "724d5bc8",
   "metadata": {},
   "outputs": [
    {
     "name": "stderr",
     "output_type": "stream",
     "text": [
      "/tmp/ipykernel_100/106953768.py:1: SettingWithCopyWarning: \n",
      "A value is trying to be set on a copy of a slice from a DataFrame\n",
      "\n",
      "See the caveats in the documentation: https://pandas.pydata.org/pandas-docs/stable/user_guide/indexing.html#returning-a-view-versus-a-copy\n",
      "  df.drop_duplicates(inplace=True)\n"
     ]
    },
    {
     "data": {
      "text/html": [
       "<div>\n",
       "<style scoped>\n",
       "    .dataframe tbody tr th:only-of-type {\n",
       "        vertical-align: middle;\n",
       "    }\n",
       "\n",
       "    .dataframe tbody tr th {\n",
       "        vertical-align: top;\n",
       "    }\n",
       "\n",
       "    .dataframe thead th {\n",
       "        text-align: right;\n",
       "    }\n",
       "</style>\n",
       "<table border=\"1\" class=\"dataframe\">\n",
       "  <thead>\n",
       "    <tr style=\"text-align: right;\">\n",
       "      <th></th>\n",
       "      <th>name</th>\n",
       "      <th>character</th>\n",
       "      <th>role</th>\n",
       "      <th>title</th>\n",
       "      <th>type</th>\n",
       "      <th>release_year</th>\n",
       "      <th>genres</th>\n",
       "      <th>imdb_scores</th>\n",
       "      <th>imdb_votes</th>\n",
       "    </tr>\n",
       "  </thead>\n",
       "  <tbody>\n",
       "    <tr>\n",
       "      <th>0</th>\n",
       "      <td>Robert De Niro</td>\n",
       "      <td>Travis Bickle</td>\n",
       "      <td>ACTOR</td>\n",
       "      <td>Taxi Driver</td>\n",
       "      <td>MOVIE</td>\n",
       "      <td>1976</td>\n",
       "      <td>['drama', 'crime']</td>\n",
       "      <td>8.2</td>\n",
       "      <td>808582.0</td>\n",
       "    </tr>\n",
       "    <tr>\n",
       "      <th>1</th>\n",
       "      <td>Jodie Foster</td>\n",
       "      <td>Iris Steensma</td>\n",
       "      <td>ACTOR</td>\n",
       "      <td>Taxi Driver</td>\n",
       "      <td>MOVIE</td>\n",
       "      <td>1976</td>\n",
       "      <td>['drama', 'crime']</td>\n",
       "      <td>8.2</td>\n",
       "      <td>808582.0</td>\n",
       "    </tr>\n",
       "    <tr>\n",
       "      <th>2</th>\n",
       "      <td>Albert Brooks</td>\n",
       "      <td>Tom</td>\n",
       "      <td>ACTOR</td>\n",
       "      <td>Taxi Driver</td>\n",
       "      <td>MOVIE</td>\n",
       "      <td>1976</td>\n",
       "      <td>['drama', 'crime']</td>\n",
       "      <td>8.2</td>\n",
       "      <td>808582.0</td>\n",
       "    </tr>\n",
       "    <tr>\n",
       "      <th>3</th>\n",
       "      <td>Harvey Keitel</td>\n",
       "      <td>Matthew 'Sport' Higgins</td>\n",
       "      <td>ACTOR</td>\n",
       "      <td>Taxi Driver</td>\n",
       "      <td>MOVIE</td>\n",
       "      <td>1976</td>\n",
       "      <td>['drama', 'crime']</td>\n",
       "      <td>8.2</td>\n",
       "      <td>808582.0</td>\n",
       "    </tr>\n",
       "    <tr>\n",
       "      <th>4</th>\n",
       "      <td>Cybill Shepherd</td>\n",
       "      <td>Betsy</td>\n",
       "      <td>ACTOR</td>\n",
       "      <td>Taxi Driver</td>\n",
       "      <td>MOVIE</td>\n",
       "      <td>1976</td>\n",
       "      <td>['drama', 'crime']</td>\n",
       "      <td>8.2</td>\n",
       "      <td>808582.0</td>\n",
       "    </tr>\n",
       "    <tr>\n",
       "      <th>...</th>\n",
       "      <td>...</td>\n",
       "      <td>...</td>\n",
       "      <td>...</td>\n",
       "      <td>...</td>\n",
       "      <td>...</td>\n",
       "      <td>...</td>\n",
       "      <td>...</td>\n",
       "      <td>...</td>\n",
       "      <td>...</td>\n",
       "    </tr>\n",
       "    <tr>\n",
       "      <th>85573</th>\n",
       "      <td>A??da Morales</td>\n",
       "      <td>Maritza</td>\n",
       "      <td>ACTOR</td>\n",
       "      <td>Lokillo</td>\n",
       "      <td>the movie</td>\n",
       "      <td>2021</td>\n",
       "      <td>['comedy']</td>\n",
       "      <td>3.8</td>\n",
       "      <td>68.0</td>\n",
       "    </tr>\n",
       "    <tr>\n",
       "      <th>85574</th>\n",
       "      <td>Adelaida Buscato</td>\n",
       "      <td>Mar??a Paz</td>\n",
       "      <td>ACTOR</td>\n",
       "      <td>Lokillo</td>\n",
       "      <td>the movie</td>\n",
       "      <td>2021</td>\n",
       "      <td>['comedy']</td>\n",
       "      <td>3.8</td>\n",
       "      <td>68.0</td>\n",
       "    </tr>\n",
       "    <tr>\n",
       "      <th>85575</th>\n",
       "      <td>Luz Stella Luengas</td>\n",
       "      <td>Karen Bayona</td>\n",
       "      <td>ACTOR</td>\n",
       "      <td>Lokillo</td>\n",
       "      <td>the movie</td>\n",
       "      <td>2021</td>\n",
       "      <td>['comedy']</td>\n",
       "      <td>3.8</td>\n",
       "      <td>68.0</td>\n",
       "    </tr>\n",
       "    <tr>\n",
       "      <th>85576</th>\n",
       "      <td>In??s Prieto</td>\n",
       "      <td>Fanny</td>\n",
       "      <td>ACTOR</td>\n",
       "      <td>Lokillo</td>\n",
       "      <td>the movie</td>\n",
       "      <td>2021</td>\n",
       "      <td>['comedy']</td>\n",
       "      <td>3.8</td>\n",
       "      <td>68.0</td>\n",
       "    </tr>\n",
       "    <tr>\n",
       "      <th>85578</th>\n",
       "      <td>Julian Gaviria</td>\n",
       "      <td>unknown</td>\n",
       "      <td>DIRECTOR</td>\n",
       "      <td>Lokillo</td>\n",
       "      <td>the movie</td>\n",
       "      <td>2021</td>\n",
       "      <td>['comedy']</td>\n",
       "      <td>3.8</td>\n",
       "      <td>68.0</td>\n",
       "    </tr>\n",
       "  </tbody>\n",
       "</table>\n",
       "<p>73859 rows × 9 columns</p>\n",
       "</div>"
      ],
      "text/plain": [
       "                     name                character      role        title  \\\n",
       "0          Robert De Niro            Travis Bickle     ACTOR  Taxi Driver   \n",
       "1            Jodie Foster            Iris Steensma     ACTOR  Taxi Driver   \n",
       "2           Albert Brooks                      Tom     ACTOR  Taxi Driver   \n",
       "3           Harvey Keitel  Matthew 'Sport' Higgins     ACTOR  Taxi Driver   \n",
       "4         Cybill Shepherd                    Betsy     ACTOR  Taxi Driver   \n",
       "...                   ...                      ...       ...          ...   \n",
       "85573       A??da Morales                  Maritza     ACTOR      Lokillo   \n",
       "85574    Adelaida Buscato               Mar??a Paz     ACTOR      Lokillo   \n",
       "85575  Luz Stella Luengas             Karen Bayona     ACTOR      Lokillo   \n",
       "85576        In??s Prieto                    Fanny     ACTOR      Lokillo   \n",
       "85578      Julian Gaviria                  unknown  DIRECTOR      Lokillo   \n",
       "\n",
       "            type  release_year              genres  imdb_scores  imdb_votes  \n",
       "0          MOVIE          1976  ['drama', 'crime']          8.2    808582.0  \n",
       "1          MOVIE          1976  ['drama', 'crime']          8.2    808582.0  \n",
       "2          MOVIE          1976  ['drama', 'crime']          8.2    808582.0  \n",
       "3          MOVIE          1976  ['drama', 'crime']          8.2    808582.0  \n",
       "4          MOVIE          1976  ['drama', 'crime']          8.2    808582.0  \n",
       "...          ...           ...                 ...          ...         ...  \n",
       "85573  the movie          2021          ['comedy']          3.8        68.0  \n",
       "85574  the movie          2021          ['comedy']          3.8        68.0  \n",
       "85575  the movie          2021          ['comedy']          3.8        68.0  \n",
       "85576  the movie          2021          ['comedy']          3.8        68.0  \n",
       "85578  the movie          2021          ['comedy']          3.8        68.0  \n",
       "\n",
       "[73859 rows x 9 columns]"
      ]
     },
     "execution_count": 13,
     "metadata": {},
     "output_type": "execute_result"
    }
   ],
   "source": [
    "df.drop_duplicates(inplace=True)\n",
    "df\n",
    "# df_cleaned = df.drop_duplicates()\n",
    "# df_cleaned # removing duplicate rows\n"
   ]
  },
  {
   "cell_type": "markdown",
   "id": "d5c6257e",
   "metadata": {},
   "source": [
    "<div class=\"alert alert-warning\">\n",
    "<b>Reviewer's comment v1</b>\n",
    "    \n",
    "Note that it is also required additionally to re-create the indexes in your dataframe. To achieve that, you can use `reset_index()`.\n",
    "    \n",
    "Without that, the index column will not be ordinal anymore, as `drop_duplicates()` deleted some lines, hence the dataframe becomes less informative.\n",
    "    \n",
    "    \n",
    "You can read about it here: https://pandas.pydata.org/docs/reference/api/pandas.DataFrame.reset_index.html\n",
    "    \n",
    "And parameter `drop=True` could be helpful to rewrite existent index instead of creating a second ordinal column.\n"
   ]
  },
  {
   "cell_type": "markdown",
   "id": "fc8c77ba",
   "metadata": {},
   "source": [
    "Check for duplicate rows once more to make sure you have removed all of them:"
   ]
  },
  {
   "cell_type": "code",
   "execution_count": 14,
   "id": "8091a9bc",
   "metadata": {},
   "outputs": [
    {
     "name": "stdout",
     "output_type": "stream",
     "text": [
      "0\n"
     ]
    }
   ],
   "source": [
    "df_cleaned = df.drop_duplicates()\n",
    "print(df_cleaned.duplicated().sum())\n"
   ]
  },
  {
   "cell_type": "markdown",
   "id": "994e460d",
   "metadata": {},
   "source": [
    "<div class=\"alert alert-danger\">\n",
    "<b>Reviewer's comment v3:</b>\n",
    "    \n",
    "\n",
    "The error suggests that `df_cleaned` hasn't been defined in the code. Make sure that the line\n",
    "\n",
    "`df_cleaned = df.drop_duplicates()` \n",
    "    \n",
    "is executed before you attempt to check for duplicates in `df_cleaned`. Here’s the corrected code:\n",
    " \n",
    "```    \n",
    "# Remove duplicates and assign the result to df_cleaned\n",
    "df_cleaned = df.drop_duplicates()\n",
    "\n",
    "# Now, check the number of duplicates in df_cleaned\n",
    "print(df_cleaned.duplicated().sum()) \n",
    "``` \n",
    "    \n",
    "Second option, as you've also removed duplicates from the `df.drop_duplicates(inplace=True)` you could check number of duplicate values there instead `print(df.duplicated().sum())`"
   ]
  },
  {
   "cell_type": "markdown",
   "id": "a2399518",
   "metadata": {},
   "source": [
    "<div class=\"alert alert-danger\">\n",
    "<b>Reviewer's comment v1:</b>\n",
    "    \n",
    "Here and below, you need to use the `df_cleaned` dataframe, as duplicates have been removed from it.\n",
    "\n",
    "\n",
    "Could you please double-check the number of duplicates as follows:\n",
    "\n",
    "    \n",
    "`print(df_cleaned.duplicated().sum())`\n",
    "    \n",
    "You could also use f-strings to print this value:\n",
    "    \n",
    "`f\"Number of duplicates: {df_cleaned.duplicated().sum()}\"`"
   ]
  },
  {
   "cell_type": "markdown",
   "id": "7da617e3",
   "metadata": {},
   "source": [
    "<div class=\"alert alert-danger\">\n",
    "<b>Reviewer's comment v2:</b>\n",
    "    \n",
    "In the following code, `df_cleaned = df.drop_duplicates()`, you’ve removed duplicates from the `df` dataframe and assigned the result to `df_cleaned`, leaving `df` unchanged.\n",
    "\n",
    "Therefore, to check the number of duplicates, you should use `df_cleaned` instead of `df`.\n",
    "    \n",
    "Could you please update that? "
   ]
  },
  {
   "cell_type": "markdown",
   "id": "1d802b07",
   "metadata": {},
   "source": [
    "Now get rid of implicit duplicates in the `'type'` column. For example, the string `'SHOW'` can be written in different ways. These kinds of errors will also affect the result."
   ]
  },
  {
   "cell_type": "markdown",
   "id": "d5f987ed",
   "metadata": {},
   "source": [
    "Print a list of unique `'type'` names, sorted in alphabetical order. To do so:\n",
    "* Retrieve the intended dataframe column \n",
    "* Apply a sorting method to it\n",
    "* For the sorted column, call the method that will return all unique column values"
   ]
  },
  {
   "cell_type": "code",
   "execution_count": 15,
   "id": "3d7b0ac5",
   "metadata": {},
   "outputs": [
    {
     "data": {
      "text/plain": [
       "['movie',\n",
       " 'movies',\n",
       " 'show',\n",
       " 'shows',\n",
       " 'the movie',\n",
       " 'tv',\n",
       " 'tv series',\n",
       " 'tv show',\n",
       " 'tv shows']"
      ]
     },
     "execution_count": 15,
     "metadata": {},
     "output_type": "execute_result"
    }
   ],
   "source": [
    "df_cleaned['type'] = df_cleaned['type'].str.lower()\n",
    "unique_types = sorted(df_cleaned['type'].unique())\n",
    "unique_types"
   ]
  },
  {
   "cell_type": "markdown",
   "id": "b99efc5c",
   "metadata": {},
   "source": [
    "<div class=\"alert alert-danger\">\n",
    "<b>Reviewer's comment v4:</b>\n",
    "    \n",
    "Great that you've managed to remove duplicates. You've assigned the result of this transformation to `df_cleaned`; however, in the code above and below, `df` is still used, which still contains some duplicates. \n",
    "    \n",
    "    \n",
    "Could you please ensure that the dataframe is updated consistently after each transformation?\n",
    " \n",
    "Please let me know if you have questions about this. "
   ]
  },
  {
   "cell_type": "markdown",
   "id": "cd6f6492",
   "metadata": {},
   "source": [
    "<div class=\"alert alert-danger\">\n",
    "<b>Reviewer's comment v1:</b>\n",
    "    \n",
    "The KeyError: 'type' error occurs because the column 'type' doesn't exist in your DataFrame df. \n",
    "    \n",
    "1. This should be fixed after updating column names.\n",
    "2. Plese note which dataframe should be used - we want to select the last one with all transformations. "
   ]
  },
  {
   "cell_type": "markdown",
   "id": "ac6e8b18",
   "metadata": {},
   "source": [
    "Look through the list to find implicit duplicates of `'show'` (`'movie'` duplicates will be ignored since the assumption is about shows). These could be names written incorrectly or alternative names of the same genre.\n",
    "\n",
    "You will see the following implicit duplicates:\n",
    "* `'shows'`\n",
    "* `'SHOW'`\n",
    "* `'tv show'`\n",
    "* `'tv shows'`\n",
    "* `'tv series'`\n",
    "* `'tv'`\n",
    "\n",
    "To get rid of them, declare the function `replace_wrong_show()` with two parameters: \n",
    "* `wrong_shows_list=` — the list of duplicates\n",
    "* `correct_show=` — the string with the correct value\n",
    "\n",
    "The function should correct the names in the `'type'` column from the `df` table (i.e., replace each value from the `wrong_shows_list` list with the value in `correct_show`)."
   ]
  },
  {
   "cell_type": "code",
   "execution_count": 16,
   "id": "bff944f9",
   "metadata": {},
   "outputs": [
    {
     "data": {
      "text/plain": [
       "array(['movie', 'movies', 'show', 'shows', 'the movie', 'tv', 'tv series',\n",
       "       'tv show', 'tv shows'], dtype=object)"
      ]
     },
     "execution_count": 16,
     "metadata": {},
     "output_type": "execute_result"
    }
   ],
   "source": [
    "def replace_wrong_show(df_cleaned, wrong_show_list, correct_show):\n",
    "    df_cleaned.loc[:, \"type\"] = df_cleaned[\"type\"].replace(wrong_show_list, correct_show)\n",
    "    return df_cleaned\n",
    "\n",
    "# def replace_wrong_show(wrong_shows_list,correct_show):\n",
    "#     for wrong_show in wrong_shows_list:\n",
    "#         df_cleaned['type'] = df_cleaned['type'].replace(wrong_show, correct_show, regex=True)\n",
    "\n",
    "#     return df_cleaned\n",
    "\n",
    "df_cleaned['type'].sort_values().unique()\n",
    "\n",
    "\n",
    "# function for replacing implicit duplicates\n"
   ]
  },
  {
   "cell_type": "markdown",
   "id": "762287c4",
   "metadata": {},
   "source": [
    "<div class=\"alert alert-danger\">\n",
    "<b>Reviewer's comment v3:</b>\n",
    "    \n",
    "Could you please create a function here and call it afterwards? Let me know you if you have any questions. \n",
    "    \n",
    "You could check unique genre names in the following way: \n",
    "    \n",
    "`df['type'].sort_values().unique()`"
   ]
  },
  {
   "cell_type": "markdown",
   "id": "bb3ccf2e",
   "metadata": {},
   "source": [
    "<div class=\"alert alert-danger\">\n",
    "<b>Reviewer's comment v2:</b>\n",
    "    \n",
    "The same comment here, firstly you need to use the latest dataframe without duplicates `df_cleaned` instead of `df`. \n",
    "    \n",
    "Also you could update your function in the following way: \n",
    "    \n",
    "```\n",
    "def replace_wrong_show (wrong_shows_list, correct_show):\n",
    "    df['type'] = df['type'].replace(wrong_shows_list,correct_show)\n",
    "```\n",
    "   \n",
    "Then you could create 2 lists with wrong and correct shows and lastly call your function `replace_wrong_show(wrong_shows_list, correct_show)`\n",
    "    \n",
    "You could read more about python functions here: https://www.datacamp.com/tutorial/functions-python-tutorial"
   ]
  },
  {
   "cell_type": "markdown",
   "id": "d02d13a6",
   "metadata": {},
   "source": [
    "Call `replace_wrong_show()` and pass it arguments so that it clears implicit duplicates and replaces them with `SHOW`:"
   ]
  },
  {
   "cell_type": "code",
   "execution_count": 17,
   "id": "a2217e53",
   "metadata": {},
   "outputs": [],
   "source": [
    "wrong_shows_list = [\"shows\", \"SHOW\", \"tv show\", \"tv shows\", \"tv series\", \"tv\"]\n",
    "correct_show = \"show\"\n",
    "df_cleaned = replace_wrong_show(df_cleaned, wrong_shows_list, correct_show)\n",
    "\n",
    "# removing implicit duplicates\n"
   ]
  },
  {
   "cell_type": "markdown",
   "id": "318b09f7",
   "metadata": {},
   "source": [
    "Make sure the duplicate names are removed. Print the list of unique values from the `'type'` column:"
   ]
  },
  {
   "cell_type": "code",
   "execution_count": 18,
   "id": "25d49d73",
   "metadata": {},
   "outputs": [
    {
     "name": "stdout",
     "output_type": "stream",
     "text": [
      "['movie' 'the movie' 'show' 'movies']\n"
     ]
    }
   ],
   "source": [
    "print (df_cleaned['type'].unique())\n",
    "# viewing unique genre names\n"
   ]
  },
  {
   "cell_type": "markdown",
   "id": "18b2049e",
   "metadata": {},
   "source": [
    "### Conclusions <a id='data_preprocessing_conclusions'></a>\n",
    "We detected three issues with the data:\n",
    "\n",
    "- Incorrect header styles\n",
    "- Missing values\n",
    "- Duplicate rows and implicit duplicates\n",
    "\n",
    "The headers have been cleaned up to make processing the table simpler.\n",
    "\n",
    "All rows with missing values have been removed. \n",
    "\n",
    "The absence of duplicates will make the results more precise and easier to understand.\n",
    "\n",
    "Now we can move on to our analysis of the prepared data."
   ]
  },
  {
   "cell_type": "markdown",
   "id": "1665d938",
   "metadata": {},
   "source": [
    "<div class=\"alert alert-success\">\n",
    "<b>Reviewer's comment v5</b>\n",
    "    \n",
    "Your function works perfectly fine.\n",
    "    \n",
    "    "
   ]
  },
  {
   "cell_type": "markdown",
   "id": "1aa0f1b1",
   "metadata": {},
   "source": [
    "## Stage 3. Data analysis <a id='hypotheses'></a>"
   ]
  },
  {
   "cell_type": "markdown",
   "id": "f8fb6a0e",
   "metadata": {},
   "source": [
    "Based on the previous project stages, you can now define how the assumption will be checked. Calculate the average amount of votes for each score (this data is available in the `imdb_score` and `imdb_votes` columns), and then check how these averages relate to each other. If the averages for shows with the highest scores are bigger than those for shows with lower scores, the assumption appears to be true.\n",
    "\n",
    "Based on this, complete the following steps:\n",
    "\n",
    "- Filter the dataframe to only include shows released in 1999 or later.\n",
    "- Group scores into buckets by rounding the values of the appropriate column (a set of 1-10 integers will help us make the outcome of our calculations more evident without damaging the quality of our research).\n",
    "- Identify outliers among scores based on their number of votes, and exclude scores with few votes.\n",
    "- Calculate the average votes for each score and check whether the assumption matches the results."
   ]
  },
  {
   "cell_type": "markdown",
   "id": "0ea2cb51",
   "metadata": {},
   "source": [
    "To filter the dataframe and only include shows released in 1999 or later, you will take two steps. First, keep only titles published in 1999 or later in our dataframe. Then, filter the table to only contain shows (movies will be removed)."
   ]
  },
  {
   "cell_type": "code",
   "execution_count": 19,
   "id": "6a704aa1",
   "metadata": {},
   "outputs": [
    {
     "data": {
      "text/html": [
       "<div>\n",
       "<style scoped>\n",
       "    .dataframe tbody tr th:only-of-type {\n",
       "        vertical-align: middle;\n",
       "    }\n",
       "\n",
       "    .dataframe tbody tr th {\n",
       "        vertical-align: top;\n",
       "    }\n",
       "\n",
       "    .dataframe thead th {\n",
       "        text-align: right;\n",
       "    }\n",
       "</style>\n",
       "<table border=\"1\" class=\"dataframe\">\n",
       "  <thead>\n",
       "    <tr style=\"text-align: right;\">\n",
       "      <th></th>\n",
       "      <th>name</th>\n",
       "      <th>character</th>\n",
       "      <th>role</th>\n",
       "      <th>title</th>\n",
       "      <th>type</th>\n",
       "      <th>release_year</th>\n",
       "      <th>genres</th>\n",
       "      <th>imdb_scores</th>\n",
       "      <th>imdb_votes</th>\n",
       "    </tr>\n",
       "  </thead>\n",
       "  <tbody>\n",
       "    <tr>\n",
       "      <th>1664</th>\n",
       "      <td>Jeff Probst</td>\n",
       "      <td>Himself - Host</td>\n",
       "      <td>ACTOR</td>\n",
       "      <td>Survivor</td>\n",
       "      <td>show</td>\n",
       "      <td>2000</td>\n",
       "      <td>['reality']</td>\n",
       "      <td>7.4</td>\n",
       "      <td>24687.0</td>\n",
       "    </tr>\n",
       "    <tr>\n",
       "      <th>1955</th>\n",
       "      <td>Benicio del Toro</td>\n",
       "      <td>Franky Four Fingers</td>\n",
       "      <td>ACTOR</td>\n",
       "      <td>Snatch</td>\n",
       "      <td>movie</td>\n",
       "      <td>2000</td>\n",
       "      <td>['crime', 'comedy']</td>\n",
       "      <td>8.3</td>\n",
       "      <td>841435.0</td>\n",
       "    </tr>\n",
       "    <tr>\n",
       "      <th>1956</th>\n",
       "      <td>Dennis Farina</td>\n",
       "      <td>Cousin Avi</td>\n",
       "      <td>ACTOR</td>\n",
       "      <td>Snatch</td>\n",
       "      <td>movie</td>\n",
       "      <td>2000</td>\n",
       "      <td>['crime', 'comedy']</td>\n",
       "      <td>8.3</td>\n",
       "      <td>841435.0</td>\n",
       "    </tr>\n",
       "    <tr>\n",
       "      <th>1957</th>\n",
       "      <td>Vinnie Jones</td>\n",
       "      <td>Bullet Tooth Tony</td>\n",
       "      <td>ACTOR</td>\n",
       "      <td>Snatch</td>\n",
       "      <td>movie</td>\n",
       "      <td>2000</td>\n",
       "      <td>['crime', 'comedy']</td>\n",
       "      <td>8.3</td>\n",
       "      <td>841435.0</td>\n",
       "    </tr>\n",
       "    <tr>\n",
       "      <th>1958</th>\n",
       "      <td>Brad Pitt</td>\n",
       "      <td>Mickey O'Neil</td>\n",
       "      <td>ACTOR</td>\n",
       "      <td>Snatch</td>\n",
       "      <td>movie</td>\n",
       "      <td>2000</td>\n",
       "      <td>['crime', 'comedy']</td>\n",
       "      <td>8.3</td>\n",
       "      <td>841435.0</td>\n",
       "    </tr>\n",
       "    <tr>\n",
       "      <th>...</th>\n",
       "      <td>...</td>\n",
       "      <td>...</td>\n",
       "      <td>...</td>\n",
       "      <td>...</td>\n",
       "      <td>...</td>\n",
       "      <td>...</td>\n",
       "      <td>...</td>\n",
       "      <td>...</td>\n",
       "      <td>...</td>\n",
       "    </tr>\n",
       "    <tr>\n",
       "      <th>85573</th>\n",
       "      <td>A??da Morales</td>\n",
       "      <td>Maritza</td>\n",
       "      <td>ACTOR</td>\n",
       "      <td>Lokillo</td>\n",
       "      <td>the movie</td>\n",
       "      <td>2021</td>\n",
       "      <td>['comedy']</td>\n",
       "      <td>3.8</td>\n",
       "      <td>68.0</td>\n",
       "    </tr>\n",
       "    <tr>\n",
       "      <th>85574</th>\n",
       "      <td>Adelaida Buscato</td>\n",
       "      <td>Mar??a Paz</td>\n",
       "      <td>ACTOR</td>\n",
       "      <td>Lokillo</td>\n",
       "      <td>the movie</td>\n",
       "      <td>2021</td>\n",
       "      <td>['comedy']</td>\n",
       "      <td>3.8</td>\n",
       "      <td>68.0</td>\n",
       "    </tr>\n",
       "    <tr>\n",
       "      <th>85575</th>\n",
       "      <td>Luz Stella Luengas</td>\n",
       "      <td>Karen Bayona</td>\n",
       "      <td>ACTOR</td>\n",
       "      <td>Lokillo</td>\n",
       "      <td>the movie</td>\n",
       "      <td>2021</td>\n",
       "      <td>['comedy']</td>\n",
       "      <td>3.8</td>\n",
       "      <td>68.0</td>\n",
       "    </tr>\n",
       "    <tr>\n",
       "      <th>85576</th>\n",
       "      <td>In??s Prieto</td>\n",
       "      <td>Fanny</td>\n",
       "      <td>ACTOR</td>\n",
       "      <td>Lokillo</td>\n",
       "      <td>the movie</td>\n",
       "      <td>2021</td>\n",
       "      <td>['comedy']</td>\n",
       "      <td>3.8</td>\n",
       "      <td>68.0</td>\n",
       "    </tr>\n",
       "    <tr>\n",
       "      <th>85578</th>\n",
       "      <td>Julian Gaviria</td>\n",
       "      <td>unknown</td>\n",
       "      <td>DIRECTOR</td>\n",
       "      <td>Lokillo</td>\n",
       "      <td>the movie</td>\n",
       "      <td>2021</td>\n",
       "      <td>['comedy']</td>\n",
       "      <td>3.8</td>\n",
       "      <td>68.0</td>\n",
       "    </tr>\n",
       "  </tbody>\n",
       "</table>\n",
       "<p>69881 rows × 9 columns</p>\n",
       "</div>"
      ],
      "text/plain": [
       "                     name            character      role     title       type  \\\n",
       "1664          Jeff Probst       Himself - Host     ACTOR  Survivor       show   \n",
       "1955     Benicio del Toro  Franky Four Fingers     ACTOR    Snatch      movie   \n",
       "1956        Dennis Farina           Cousin Avi     ACTOR    Snatch      movie   \n",
       "1957         Vinnie Jones    Bullet Tooth Tony     ACTOR    Snatch      movie   \n",
       "1958            Brad Pitt        Mickey O'Neil     ACTOR    Snatch      movie   \n",
       "...                   ...                  ...       ...       ...        ...   \n",
       "85573       A??da Morales              Maritza     ACTOR   Lokillo  the movie   \n",
       "85574    Adelaida Buscato           Mar??a Paz     ACTOR   Lokillo  the movie   \n",
       "85575  Luz Stella Luengas         Karen Bayona     ACTOR   Lokillo  the movie   \n",
       "85576        In??s Prieto                Fanny     ACTOR   Lokillo  the movie   \n",
       "85578      Julian Gaviria              unknown  DIRECTOR   Lokillo  the movie   \n",
       "\n",
       "       release_year               genres  imdb_scores  imdb_votes  \n",
       "1664           2000          ['reality']          7.4     24687.0  \n",
       "1955           2000  ['crime', 'comedy']          8.3    841435.0  \n",
       "1956           2000  ['crime', 'comedy']          8.3    841435.0  \n",
       "1957           2000  ['crime', 'comedy']          8.3    841435.0  \n",
       "1958           2000  ['crime', 'comedy']          8.3    841435.0  \n",
       "...             ...                  ...          ...         ...  \n",
       "85573          2021           ['comedy']          3.8        68.0  \n",
       "85574          2021           ['comedy']          3.8        68.0  \n",
       "85575          2021           ['comedy']          3.8        68.0  \n",
       "85576          2021           ['comedy']          3.8        68.0  \n",
       "85578          2021           ['comedy']          3.8        68.0  \n",
       "\n",
       "[69881 rows x 9 columns]"
      ]
     },
     "execution_count": 19,
     "metadata": {},
     "output_type": "execute_result"
    }
   ],
   "source": [
    "df_after_1999 = df_cleaned[df_cleaned['release_year'] >= 1999]\n",
    "df_after_1999\n",
    "# using conditional indexing modify df so it has only titles released after 1999 (with 1999 included)\n",
    "# give the slice of dataframe new name\n"
   ]
  },
  {
   "cell_type": "code",
   "execution_count": 20,
   "id": "128dc6a9",
   "metadata": {
    "scrolled": false
   },
   "outputs": [
    {
     "data": {
      "text/html": [
       "<div>\n",
       "<style scoped>\n",
       "    .dataframe tbody tr th:only-of-type {\n",
       "        vertical-align: middle;\n",
       "    }\n",
       "\n",
       "    .dataframe tbody tr th {\n",
       "        vertical-align: top;\n",
       "    }\n",
       "\n",
       "    .dataframe thead th {\n",
       "        text-align: right;\n",
       "    }\n",
       "</style>\n",
       "<table border=\"1\" class=\"dataframe\">\n",
       "  <thead>\n",
       "    <tr style=\"text-align: right;\">\n",
       "      <th></th>\n",
       "      <th>name</th>\n",
       "      <th>character</th>\n",
       "      <th>role</th>\n",
       "      <th>title</th>\n",
       "      <th>type</th>\n",
       "      <th>release_year</th>\n",
       "      <th>genres</th>\n",
       "      <th>imdb_scores</th>\n",
       "      <th>imdb_votes</th>\n",
       "    </tr>\n",
       "  </thead>\n",
       "  <tbody>\n",
       "    <tr>\n",
       "      <th>1664</th>\n",
       "      <td>Jeff Probst</td>\n",
       "      <td>Himself - Host</td>\n",
       "      <td>ACTOR</td>\n",
       "      <td>Survivor</td>\n",
       "      <td>show</td>\n",
       "      <td>2000</td>\n",
       "      <td>['reality']</td>\n",
       "      <td>7.4</td>\n",
       "      <td>24687.0</td>\n",
       "    </tr>\n",
       "    <tr>\n",
       "      <th>2076</th>\n",
       "      <td>Mayumi Tanaka</td>\n",
       "      <td>Monkey D. Luffy (voice)</td>\n",
       "      <td>ACTOR</td>\n",
       "      <td>One Piece</td>\n",
       "      <td>show</td>\n",
       "      <td>1999</td>\n",
       "      <td>['animation', 'action', 'comedy', 'drama', 'fa...</td>\n",
       "      <td>8.8</td>\n",
       "      <td>117129.0</td>\n",
       "    </tr>\n",
       "    <tr>\n",
       "      <th>2077</th>\n",
       "      <td>Kazuya Nakai</td>\n",
       "      <td>Roronoa Zoro (voice)</td>\n",
       "      <td>ACTOR</td>\n",
       "      <td>One Piece</td>\n",
       "      <td>show</td>\n",
       "      <td>1999</td>\n",
       "      <td>['animation', 'action', 'comedy', 'drama', 'fa...</td>\n",
       "      <td>8.8</td>\n",
       "      <td>117129.0</td>\n",
       "    </tr>\n",
       "    <tr>\n",
       "      <th>2078</th>\n",
       "      <td>Akemi Okamura</td>\n",
       "      <td>Nami (voice)</td>\n",
       "      <td>ACTOR</td>\n",
       "      <td>One Piece</td>\n",
       "      <td>show</td>\n",
       "      <td>1999</td>\n",
       "      <td>['animation', 'action', 'comedy', 'drama', 'fa...</td>\n",
       "      <td>8.8</td>\n",
       "      <td>117129.0</td>\n",
       "    </tr>\n",
       "    <tr>\n",
       "      <th>2079</th>\n",
       "      <td>Kappei Yamaguchi</td>\n",
       "      <td>Usopp (voice)</td>\n",
       "      <td>ACTOR</td>\n",
       "      <td>One Piece</td>\n",
       "      <td>show</td>\n",
       "      <td>1999</td>\n",
       "      <td>['animation', 'action', 'comedy', 'drama', 'fa...</td>\n",
       "      <td>8.8</td>\n",
       "      <td>117129.0</td>\n",
       "    </tr>\n",
       "    <tr>\n",
       "      <th>...</th>\n",
       "      <td>...</td>\n",
       "      <td>...</td>\n",
       "      <td>...</td>\n",
       "      <td>...</td>\n",
       "      <td>...</td>\n",
       "      <td>...</td>\n",
       "      <td>...</td>\n",
       "      <td>...</td>\n",
       "      <td>...</td>\n",
       "    </tr>\n",
       "    <tr>\n",
       "      <th>85433</th>\n",
       "      <td>Maneerat Kam-Uan</td>\n",
       "      <td>Ae</td>\n",
       "      <td>ACTOR</td>\n",
       "      <td>Let's Eat</td>\n",
       "      <td>show</td>\n",
       "      <td>2021</td>\n",
       "      <td>['drama', 'comedy']</td>\n",
       "      <td>8.2</td>\n",
       "      <td>5.0</td>\n",
       "    </tr>\n",
       "    <tr>\n",
       "      <th>85434</th>\n",
       "      <td>Rudklao Amratisha</td>\n",
       "      <td>unknown</td>\n",
       "      <td>ACTOR</td>\n",
       "      <td>Let's Eat</td>\n",
       "      <td>show</td>\n",
       "      <td>2021</td>\n",
       "      <td>['drama', 'comedy']</td>\n",
       "      <td>8.2</td>\n",
       "      <td>5.0</td>\n",
       "    </tr>\n",
       "    <tr>\n",
       "      <th>85435</th>\n",
       "      <td>Jaturong Mokjok</td>\n",
       "      <td>unknown</td>\n",
       "      <td>ACTOR</td>\n",
       "      <td>Let's Eat</td>\n",
       "      <td>show</td>\n",
       "      <td>2021</td>\n",
       "      <td>['drama', 'comedy']</td>\n",
       "      <td>8.2</td>\n",
       "      <td>5.0</td>\n",
       "    </tr>\n",
       "    <tr>\n",
       "      <th>85436</th>\n",
       "      <td>Pisamai Wilaisak</td>\n",
       "      <td>unknown</td>\n",
       "      <td>ACTOR</td>\n",
       "      <td>Let's Eat</td>\n",
       "      <td>show</td>\n",
       "      <td>2021</td>\n",
       "      <td>['drama', 'comedy']</td>\n",
       "      <td>8.2</td>\n",
       "      <td>5.0</td>\n",
       "    </tr>\n",
       "    <tr>\n",
       "      <th>85437</th>\n",
       "      <td>Sarawut Wichiensarn</td>\n",
       "      <td>unknown</td>\n",
       "      <td>DIRECTOR</td>\n",
       "      <td>Let's Eat</td>\n",
       "      <td>show</td>\n",
       "      <td>2021</td>\n",
       "      <td>['drama', 'comedy']</td>\n",
       "      <td>8.2</td>\n",
       "      <td>5.0</td>\n",
       "    </tr>\n",
       "  </tbody>\n",
       "</table>\n",
       "<p>13430 rows × 9 columns</p>\n",
       "</div>"
      ],
      "text/plain": [
       "                      name                character      role      title  \\\n",
       "1664           Jeff Probst           Himself - Host     ACTOR   Survivor   \n",
       "2076         Mayumi Tanaka  Monkey D. Luffy (voice)     ACTOR  One Piece   \n",
       "2077          Kazuya Nakai     Roronoa Zoro (voice)     ACTOR  One Piece   \n",
       "2078         Akemi Okamura             Nami (voice)     ACTOR  One Piece   \n",
       "2079      Kappei Yamaguchi            Usopp (voice)     ACTOR  One Piece   \n",
       "...                    ...                      ...       ...        ...   \n",
       "85433     Maneerat Kam-Uan                       Ae     ACTOR  Let's Eat   \n",
       "85434    Rudklao Amratisha                  unknown     ACTOR  Let's Eat   \n",
       "85435      Jaturong Mokjok                  unknown     ACTOR  Let's Eat   \n",
       "85436     Pisamai Wilaisak                  unknown     ACTOR  Let's Eat   \n",
       "85437  Sarawut Wichiensarn                  unknown  DIRECTOR  Let's Eat   \n",
       "\n",
       "       type  release_year                                             genres  \\\n",
       "1664   show          2000                                        ['reality']   \n",
       "2076   show          1999  ['animation', 'action', 'comedy', 'drama', 'fa...   \n",
       "2077   show          1999  ['animation', 'action', 'comedy', 'drama', 'fa...   \n",
       "2078   show          1999  ['animation', 'action', 'comedy', 'drama', 'fa...   \n",
       "2079   show          1999  ['animation', 'action', 'comedy', 'drama', 'fa...   \n",
       "...     ...           ...                                                ...   \n",
       "85433  show          2021                                ['drama', 'comedy']   \n",
       "85434  show          2021                                ['drama', 'comedy']   \n",
       "85435  show          2021                                ['drama', 'comedy']   \n",
       "85436  show          2021                                ['drama', 'comedy']   \n",
       "85437  show          2021                                ['drama', 'comedy']   \n",
       "\n",
       "       imdb_scores  imdb_votes  \n",
       "1664           7.4     24687.0  \n",
       "2076           8.8    117129.0  \n",
       "2077           8.8    117129.0  \n",
       "2078           8.8    117129.0  \n",
       "2079           8.8    117129.0  \n",
       "...            ...         ...  \n",
       "85433          8.2         5.0  \n",
       "85434          8.2         5.0  \n",
       "85435          8.2         5.0  \n",
       "85436          8.2         5.0  \n",
       "85437          8.2         5.0  \n",
       "\n",
       "[13430 rows x 9 columns]"
      ]
     },
     "execution_count": 20,
     "metadata": {},
     "output_type": "execute_result"
    }
   ],
   "source": [
    "df_shows_only = df_after_1999[df_after_1999['type'] == 'show']\n",
    "df_shows_only\n",
    "# df_shows_only = df_cleaned[df_cleaned['type'] == 'Show']\n",
    "# df_shows_only\n",
    "# repeat conditional indexing so df has only shows (movies are removed as result)\n"
   ]
  },
  {
   "cell_type": "markdown",
   "id": "e7f942d8",
   "metadata": {},
   "source": [
    "<div class=\"alert alert-danger\">\n",
    "<b>Reviewer's comment v5:</b>\n",
    "    \n",
    "This is the correct data filtering in the second step: \n",
    "    \n",
    "```\n",
    "df_shows_only = df_after_1999[df_after_1999['type'] == 'show']\n",
    "df_shows_only\n",
    "```\n",
    "\n",
    "Could you please update that?"
   ]
  },
  {
   "cell_type": "markdown",
   "id": "256e64a0",
   "metadata": {},
   "source": [
    "<div class=\"alert alert-danger\">\n",
    "<b>Reviewer's comment v4:</b>\n",
    "    \n",
    "The same comment as above. \n",
    "    \n",
    "Additionally there is a small typo in this filtering step. Data filtering is case sensitive in python. Could you please double check what values in the `type` column are available. "
   ]
  },
  {
   "cell_type": "markdown",
   "id": "9413b5be",
   "metadata": {},
   "source": [
    "<div class=\"alert alert-danger\">\n",
    "<b>Reviewer's comment v3:</b>\n",
    "    \n",
    "There is a small typo in the code above. The error you're seeing, IndexingError: Unalignable boolean Series provided as indexer, indicates that the index of df and df_after_1999 do not match, which is causing issues with boolean indexing.\n",
    "\n",
    "Could you please check that? "
   ]
  },
  {
   "attachments": {
    "image.png": {
     "image/png": "[encoded data removed]"
    }
   },
   "cell_type": "markdown",
   "id": "f6a3d4d2",
   "metadata": {},
   "source": [
    "<div class=\"alert alert-danger\">\n",
    "<b>Reviewer's comment v2:</b>\n",
    "    \n",
    "In the second condition you need to re-use dataframe from the first step instead of the original `df`. \n",
    "\n",
    "![image.png](attachment:image.png)\n",
    "    \n",
    "  \n",
    "Usually we want to re-use results of the operations in a sequential order. You could read about python variable and assgnment here: https://cs.stanford.edu/people/nick/py/python-var.html"
   ]
  },
  {
   "cell_type": "markdown",
   "id": "9648040c",
   "metadata": {},
   "source": [
    "The scores that are to be grouped should be rounded. For instance, titles with scores like 7.8, 8.1, and 8.3 will all be placed in the same bucket with a score of 8."
   ]
  },
  {
   "cell_type": "markdown",
   "id": "8025725e",
   "metadata": {},
   "source": [
    "<div class=\"alert alert-danger\">\n",
    "<b>Reviewer's comment v3:</b>\n",
    "    \n",
    "In the code below, `df_shows_only` should be used instead, as it is our filtered dataframe. "
   ]
  },
  {
   "cell_type": "code",
   "execution_count": 21,
   "id": "54bbd5c0",
   "metadata": {},
   "outputs": [
    {
     "name": "stderr",
     "output_type": "stream",
     "text": [
      "/tmp/ipykernel_100/540466990.py:1: SettingWithCopyWarning: \n",
      "A value is trying to be set on a copy of a slice from a DataFrame.\n",
      "Try using .loc[row_indexer,col_indexer] = value instead\n",
      "\n",
      "See the caveats in the documentation: https://pandas.pydata.org/pandas-docs/stable/user_guide/indexing.html#returning-a-view-versus-a-copy\n",
      "  df_shows_only['imdb_scores'] = df_shows_only['imdb_scores'].round(0)\n"
     ]
    },
    {
     "data": {
      "text/html": [
       "<div>\n",
       "<style scoped>\n",
       "    .dataframe tbody tr th:only-of-type {\n",
       "        vertical-align: middle;\n",
       "    }\n",
       "\n",
       "    .dataframe tbody tr th {\n",
       "        vertical-align: top;\n",
       "    }\n",
       "\n",
       "    .dataframe thead th {\n",
       "        text-align: right;\n",
       "    }\n",
       "</style>\n",
       "<table border=\"1\" class=\"dataframe\">\n",
       "  <thead>\n",
       "    <tr style=\"text-align: right;\">\n",
       "      <th></th>\n",
       "      <th>name</th>\n",
       "      <th>character</th>\n",
       "      <th>role</th>\n",
       "      <th>title</th>\n",
       "      <th>type</th>\n",
       "      <th>release_year</th>\n",
       "      <th>genres</th>\n",
       "      <th>imdb_scores</th>\n",
       "      <th>imdb_votes</th>\n",
       "    </tr>\n",
       "  </thead>\n",
       "  <tbody>\n",
       "    <tr>\n",
       "      <th>85433</th>\n",
       "      <td>Maneerat Kam-Uan</td>\n",
       "      <td>Ae</td>\n",
       "      <td>ACTOR</td>\n",
       "      <td>Let's Eat</td>\n",
       "      <td>show</td>\n",
       "      <td>2021</td>\n",
       "      <td>['drama', 'comedy']</td>\n",
       "      <td>8.0</td>\n",
       "      <td>5.0</td>\n",
       "    </tr>\n",
       "    <tr>\n",
       "      <th>85434</th>\n",
       "      <td>Rudklao Amratisha</td>\n",
       "      <td>unknown</td>\n",
       "      <td>ACTOR</td>\n",
       "      <td>Let's Eat</td>\n",
       "      <td>show</td>\n",
       "      <td>2021</td>\n",
       "      <td>['drama', 'comedy']</td>\n",
       "      <td>8.0</td>\n",
       "      <td>5.0</td>\n",
       "    </tr>\n",
       "    <tr>\n",
       "      <th>85435</th>\n",
       "      <td>Jaturong Mokjok</td>\n",
       "      <td>unknown</td>\n",
       "      <td>ACTOR</td>\n",
       "      <td>Let's Eat</td>\n",
       "      <td>show</td>\n",
       "      <td>2021</td>\n",
       "      <td>['drama', 'comedy']</td>\n",
       "      <td>8.0</td>\n",
       "      <td>5.0</td>\n",
       "    </tr>\n",
       "    <tr>\n",
       "      <th>85436</th>\n",
       "      <td>Pisamai Wilaisak</td>\n",
       "      <td>unknown</td>\n",
       "      <td>ACTOR</td>\n",
       "      <td>Let's Eat</td>\n",
       "      <td>show</td>\n",
       "      <td>2021</td>\n",
       "      <td>['drama', 'comedy']</td>\n",
       "      <td>8.0</td>\n",
       "      <td>5.0</td>\n",
       "    </tr>\n",
       "    <tr>\n",
       "      <th>85437</th>\n",
       "      <td>Sarawut Wichiensarn</td>\n",
       "      <td>unknown</td>\n",
       "      <td>DIRECTOR</td>\n",
       "      <td>Let's Eat</td>\n",
       "      <td>show</td>\n",
       "      <td>2021</td>\n",
       "      <td>['drama', 'comedy']</td>\n",
       "      <td>8.0</td>\n",
       "      <td>5.0</td>\n",
       "    </tr>\n",
       "  </tbody>\n",
       "</table>\n",
       "</div>"
      ],
      "text/plain": [
       "                      name character      role      title  type  release_year  \\\n",
       "85433     Maneerat Kam-Uan        Ae     ACTOR  Let's Eat  show          2021   \n",
       "85434    Rudklao Amratisha   unknown     ACTOR  Let's Eat  show          2021   \n",
       "85435      Jaturong Mokjok   unknown     ACTOR  Let's Eat  show          2021   \n",
       "85436     Pisamai Wilaisak   unknown     ACTOR  Let's Eat  show          2021   \n",
       "85437  Sarawut Wichiensarn   unknown  DIRECTOR  Let's Eat  show          2021   \n",
       "\n",
       "                    genres  imdb_scores  imdb_votes  \n",
       "85433  ['drama', 'comedy']          8.0         5.0  \n",
       "85434  ['drama', 'comedy']          8.0         5.0  \n",
       "85435  ['drama', 'comedy']          8.0         5.0  \n",
       "85436  ['drama', 'comedy']          8.0         5.0  \n",
       "85437  ['drama', 'comedy']          8.0         5.0  "
      ]
     },
     "execution_count": 21,
     "metadata": {},
     "output_type": "execute_result"
    }
   ],
   "source": [
    "df_shows_only['imdb_scores'] = df_shows_only['imdb_scores'].round(0)\n",
    "df_score_8 = df_shows_only[df_shows_only['imdb_scores'] == 8]\n",
    "df_score_8.tail()\n",
    "# rounding column with scores\n",
    "\n",
    "#checking the outcome with tail()\n"
   ]
  },
  {
   "cell_type": "markdown",
   "id": "36dbd00a",
   "metadata": {},
   "source": [
    "It is now time to identify outliers based on the number of votes."
   ]
  },
  {
   "cell_type": "code",
   "execution_count": 22,
   "id": "b8b55e95",
   "metadata": {},
   "outputs": [
    {
     "data": {
      "text/html": [
       "<div>\n",
       "<style scoped>\n",
       "    .dataframe tbody tr th:only-of-type {\n",
       "        vertical-align: middle;\n",
       "    }\n",
       "\n",
       "    .dataframe tbody tr th {\n",
       "        vertical-align: top;\n",
       "    }\n",
       "\n",
       "    .dataframe thead th {\n",
       "        text-align: right;\n",
       "    }\n",
       "</style>\n",
       "<table border=\"1\" class=\"dataframe\">\n",
       "  <thead>\n",
       "    <tr style=\"text-align: right;\">\n",
       "      <th></th>\n",
       "      <th>imdb_scores</th>\n",
       "      <th>imdb_votes</th>\n",
       "    </tr>\n",
       "  </thead>\n",
       "  <tbody>\n",
       "    <tr>\n",
       "      <th>0</th>\n",
       "      <td>4.0</td>\n",
       "      <td>5277.583333</td>\n",
       "    </tr>\n",
       "    <tr>\n",
       "      <th>1</th>\n",
       "      <td>5.0</td>\n",
       "      <td>3143.942568</td>\n",
       "    </tr>\n",
       "    <tr>\n",
       "      <th>2</th>\n",
       "      <td>6.0</td>\n",
       "      <td>3481.717322</td>\n",
       "    </tr>\n",
       "    <tr>\n",
       "      <th>3</th>\n",
       "      <td>7.0</td>\n",
       "      <td>8727.068211</td>\n",
       "    </tr>\n",
       "    <tr>\n",
       "      <th>4</th>\n",
       "      <td>8.0</td>\n",
       "      <td>30299.460967</td>\n",
       "    </tr>\n",
       "    <tr>\n",
       "      <th>5</th>\n",
       "      <td>9.0</td>\n",
       "      <td>126904.109515</td>\n",
       "    </tr>\n",
       "  </tbody>\n",
       "</table>\n",
       "</div>"
      ],
      "text/plain": [
       "   imdb_scores     imdb_votes\n",
       "0          4.0    5277.583333\n",
       "1          5.0    3143.942568\n",
       "2          6.0    3481.717322\n",
       "3          7.0    8727.068211\n",
       "4          8.0   30299.460967\n",
       "5          9.0  126904.109515"
      ]
     },
     "execution_count": 22,
     "metadata": {},
     "output_type": "execute_result"
    }
   ],
   "source": [
    "df_shows_only = df_shows_only [(df_shows_only['imdb_scores'] >=4) & (df_shows_only['imdb_scores'] <=9)]\n",
    "df_shows_only\n",
    "df_shows_only_agg = df_shows_only.groupby('imdb_scores')['imdb_votes'].mean().reset_index()\n",
    "df_shows_only_agg  \n",
    "# grouped_df = df.groupby('imdb_scores').size()\n",
    "# grouped_df\n",
    "# Use groupby() for scores and count all unique values in each group, print the result\n"
   ]
  },
  {
   "cell_type": "markdown",
   "id": "1ba6daae",
   "metadata": {},
   "source": [
    "Based on the aggregation performed, it is evident that scores 2 (24 voted shows), 3 (27 voted shows), and 10 (only 8 voted shows) are outliers. There isn't enough data for these scores for the average number of votes to be meaningful."
   ]
  },
  {
   "cell_type": "markdown",
   "id": "bd468c46",
   "metadata": {},
   "source": [
    "To obtain the mean numbers of votes for the selected scores (we identified a range of 4-9 as acceptable), use conditional filtering and grouping."
   ]
  },
  {
   "cell_type": "markdown",
   "id": "b92d44a3",
   "metadata": {},
   "source": [
    "<div class=\"alert alert-danger\">\n",
    "<b>Reviewer's comment v5:</b>\n",
    "    \n",
    "This is the correct data filtering: \n",
    "    \n",
    "```\n",
    "df_shows_only = df_shows_only [(df_shows_only['imdb_scores'] >=4) & (df_shows_only['imdb_scores'] <=9)]\n",
    "df_shows_only                              \n",
    "```\n",
    "                                                                                                       \n",
    "Could you please update that?                                                          "
   ]
  },
  {
   "cell_type": "markdown",
   "id": "b1ee57c2",
   "metadata": {},
   "source": [
    "<div class=\"alert alert-danger\">\n",
    "<b>Reviewer's comment v5:</b>\n",
    "    \n",
    "And data aggregation: \n",
    "    \n",
    "```\n",
    "df_shows_only_agg = df_shows_only.groupby('imdb_scores')['imdb_votes'].mean().reset_index()\n",
    "df_shows_only_agg                          \n",
    "```\n",
    "                                                                                                       \n",
    "Could you please update that?                                                          "
   ]
  },
  {
   "cell_type": "code",
   "execution_count": 23,
   "id": "d1867e0e",
   "metadata": {},
   "outputs": [
    {
     "data": {
      "text/html": [
       "<div>\n",
       "<style scoped>\n",
       "    .dataframe tbody tr th:only-of-type {\n",
       "        vertical-align: middle;\n",
       "    }\n",
       "\n",
       "    .dataframe tbody tr th {\n",
       "        vertical-align: top;\n",
       "    }\n",
       "\n",
       "    .dataframe thead th {\n",
       "        text-align: right;\n",
       "    }\n",
       "</style>\n",
       "<table border=\"1\" class=\"dataframe\">\n",
       "  <thead>\n",
       "    <tr style=\"text-align: right;\">\n",
       "      <th></th>\n",
       "      <th>imdb_scores</th>\n",
       "      <th>imdb_votes</th>\n",
       "    </tr>\n",
       "  </thead>\n",
       "  <tbody>\n",
       "    <tr>\n",
       "      <th>0</th>\n",
       "      <td>4.0</td>\n",
       "      <td>5277.583333</td>\n",
       "    </tr>\n",
       "    <tr>\n",
       "      <th>1</th>\n",
       "      <td>5.0</td>\n",
       "      <td>3143.942568</td>\n",
       "    </tr>\n",
       "    <tr>\n",
       "      <th>2</th>\n",
       "      <td>6.0</td>\n",
       "      <td>3481.717322</td>\n",
       "    </tr>\n",
       "    <tr>\n",
       "      <th>3</th>\n",
       "      <td>7.0</td>\n",
       "      <td>8727.068211</td>\n",
       "    </tr>\n",
       "    <tr>\n",
       "      <th>4</th>\n",
       "      <td>8.0</td>\n",
       "      <td>30299.460967</td>\n",
       "    </tr>\n",
       "  </tbody>\n",
       "</table>\n",
       "</div>"
      ],
      "text/plain": [
       "   imdb_scores    imdb_votes\n",
       "0          4.0   5277.583333\n",
       "1          5.0   3143.942568\n",
       "2          6.0   3481.717322\n",
       "3          7.0   8727.068211\n",
       "4          8.0  30299.460967"
      ]
     },
     "execution_count": 23,
     "metadata": {},
     "output_type": "execute_result"
    }
   ],
   "source": [
    "filtered_df = df_shows_only[(df_shows_only['imdb_scores'] >= 4) & (df_shows_only['imdb_scores'] <= 9)]\n",
    "# filter dataframe using two conditions (scores to be in the range 4-9)\n",
    "\n",
    "grouped_df = filtered_df.groupby('imdb_scores')['imdb_votes'].mean().reset_index()\n",
    "grouped_df.head()\n",
    "# group scores and corresponding average number of votes, reset index and print the result\n"
   ]
  },
  {
   "cell_type": "markdown",
   "id": "96a66d14",
   "metadata": {},
   "source": [
    "Now for the final step! Round the column with the averages, rename both columns, and print the dataframe in descending order."
   ]
  },
  {
   "cell_type": "markdown",
   "id": "cdcd69d8",
   "metadata": {},
   "source": [
    "<div class=\"alert alert-danger\">\n",
    "<b>Reviewer's comment v5:</b>\n",
    "    \n",
    "Lastly you need to re-use `df_shows_only_agg` to round the column with averages, rename columns and print dataframe in descending order. \n",
    "    \n",
    "Could you please update that? You need to get a dataframe with a score column from 4 to 9 with an average votes value for each. "
   ]
  },
  {
   "cell_type": "code",
   "execution_count": 25,
   "id": "5999051b",
   "metadata": {},
   "outputs": [
    {
     "data": {
      "text/html": [
       "<div>\n",
       "<style scoped>\n",
       "    .dataframe tbody tr th:only-of-type {\n",
       "        vertical-align: middle;\n",
       "    }\n",
       "\n",
       "    .dataframe tbody tr th {\n",
       "        vertical-align: top;\n",
       "    }\n",
       "\n",
       "    .dataframe thead th {\n",
       "        text-align: right;\n",
       "    }\n",
       "</style>\n",
       "<table border=\"1\" class=\"dataframe\">\n",
       "  <thead>\n",
       "    <tr style=\"text-align: right;\">\n",
       "      <th></th>\n",
       "      <th>imdb_scores</th>\n",
       "      <th>imdb_votes</th>\n",
       "    </tr>\n",
       "  </thead>\n",
       "  <tbody>\n",
       "    <tr>\n",
       "      <th>5</th>\n",
       "      <td>9.0</td>\n",
       "      <td>126904.11</td>\n",
       "    </tr>\n",
       "    <tr>\n",
       "      <th>4</th>\n",
       "      <td>8.0</td>\n",
       "      <td>30299.46</td>\n",
       "    </tr>\n",
       "    <tr>\n",
       "      <th>3</th>\n",
       "      <td>7.0</td>\n",
       "      <td>8727.07</td>\n",
       "    </tr>\n",
       "    <tr>\n",
       "      <th>0</th>\n",
       "      <td>4.0</td>\n",
       "      <td>5277.58</td>\n",
       "    </tr>\n",
       "    <tr>\n",
       "      <th>2</th>\n",
       "      <td>6.0</td>\n",
       "      <td>3481.72</td>\n",
       "    </tr>\n",
       "    <tr>\n",
       "      <th>1</th>\n",
       "      <td>5.0</td>\n",
       "      <td>3143.94</td>\n",
       "    </tr>\n",
       "  </tbody>\n",
       "</table>\n",
       "</div>"
      ],
      "text/plain": [
       "   imdb_scores  imdb_votes\n",
       "5          9.0   126904.11\n",
       "4          8.0    30299.46\n",
       "3          7.0     8727.07\n",
       "0          4.0     5277.58\n",
       "2          6.0     3481.72\n",
       "1          5.0     3143.94"
      ]
     },
     "execution_count": 25,
     "metadata": {},
     "output_type": "execute_result"
    }
   ],
   "source": [
    "grouped_df['imdb_votes'] = grouped_df['imdb_votes'].round(2)  # round column with averages\n",
    "\n",
    "grouped_df# rename columns\n",
    "\n",
    "df_sorted = grouped_df.sort_values(by='imdb_votes', ascending=False)\n",
    "df_sorted # print dataframe in descending order\n"
   ]
  },
  {
   "cell_type": "markdown",
   "id": "af07386d",
   "metadata": {},
   "source": [
    "The assumption macthes the analysis: the shows with the top 3 scores have the most amounts of votes."
   ]
  },
  {
   "cell_type": "markdown",
   "id": "9aa2ffa1",
   "metadata": {},
   "source": [
    "<div class=\"alert alert-success\">\n",
    "<b>Reviewer's comment v6:</b>\n",
    "    \n",
    "👏"
   ]
  },
  {
   "cell_type": "markdown",
   "id": "84e29a37",
   "metadata": {},
   "source": [
    "## Conclusion <a id='hypotheses'></a>"
   ]
  },
  {
   "cell_type": "markdown",
   "id": "984766a3",
   "metadata": {},
   "source": [
    "The research done confirms that highly-rated shows released during the \"Golden Age\" of television also have the most votes. While shows with score 4 have more votes than ones with scores 5 and 6, the top three (scores 7-9) have the largest number. The data studied represents around 94% of the original set, so we can be confident in our findings."
   ]
  },
  {
   "cell_type": "markdown",
   "id": "9f405ce4",
   "metadata": {},
   "source": [
    "<div class=\"alert alert-success\">\n",
    "<b>Reviewer's comment v1:</b>\n",
    " \n",
    "Overall you did a great research.\n",
    "    \n",
    "A small tip regarding overall conclusion in the project: \n",
    "    It represents the overall work progress that you achieved. On a real project, this is probably the only thing the business will read. Therefore, it is crucial to indicate in a structured way all conclusions that you made on each step in the project.\n",
    "\n",
    "For example:\n",
    "\n",
    "- Replaced missing values in the following data with the following method.\n",
    "- Replaced data types in the following columns.\n",
    "- etc.\n",
    "- We observe that ... factors impact ... \n",
    "- My analysis show ...\n",
    "- I can recommend the following next steps / activities ...\n",
    "\n",
    "It is also important to provide explanations and interpretations that will be interesting for business based on your analysis.\n"
   ]
  }
 ],
 "metadata": {
  "ExecuteTimeLog": [
   {
    "duration": 270,
    "start_time": "2024-10-31T02:19:27.202Z"
   },
   {
    "duration": 3,
    "start_time": "2024-10-31T02:19:41.934Z"
   },
   {
    "duration": 3,
    "start_time": "2024-10-31T02:19:49.015Z"
   },
   {
    "duration": 748,
    "start_time": "2024-10-31T02:22:57.728Z"
   },
   {
    "duration": 12,
    "start_time": "2024-10-31T02:24:45.137Z"
   },
   {
    "duration": 13,
    "start_time": "2024-10-31T02:25:50.456Z"
   },
   {
    "duration": 14,
    "start_time": "2024-10-31T02:27:38.176Z"
   },
   {
    "duration": 114,
    "start_time": "2024-10-31T02:28:54.136Z"
   },
   {
    "duration": 114,
    "start_time": "2024-10-31T02:29:06.937Z"
   },
   {
    "duration": 117,
    "start_time": "2024-10-31T02:29:34.104Z"
   },
   {
    "duration": 135,
    "start_time": "2024-10-31T02:29:47.468Z"
   },
   {
    "duration": 10,
    "start_time": "2024-10-31T02:30:03.779Z"
   },
   {
    "duration": 25,
    "start_time": "2024-10-31T02:30:10.505Z"
   },
   {
    "duration": 118,
    "start_time": "2024-10-31T02:30:39.785Z"
   },
   {
    "duration": 116,
    "start_time": "2024-10-31T02:30:59.141Z"
   },
   {
    "duration": 122,
    "start_time": "2024-10-31T02:31:07.693Z"
   },
   {
    "duration": 115,
    "start_time": "2024-10-31T02:31:12.435Z"
   },
   {
    "duration": 119,
    "start_time": "2024-10-31T02:31:20.415Z"
   },
   {
    "duration": 3,
    "start_time": "2024-10-31T02:33:10.168Z"
   },
   {
    "duration": 3,
    "start_time": "2024-10-31T02:33:29.794Z"
   },
   {
    "duration": 4,
    "start_time": "2024-10-31T03:10:28.905Z"
   },
   {
    "duration": 3,
    "start_time": "2024-10-31T03:10:49.663Z"
   },
   {
    "duration": 13,
    "start_time": "2024-10-31T03:11:15.390Z"
   },
   {
    "duration": 5,
    "start_time": "2024-10-31T03:12:08.473Z"
   },
   {
    "duration": 4,
    "start_time": "2024-10-31T03:17:28.387Z"
   },
   {
    "duration": 5,
    "start_time": "2024-10-31T03:17:59.896Z"
   },
   {
    "duration": 2,
    "start_time": "2024-10-31T03:23:14.154Z"
   },
   {
    "duration": 4,
    "start_time": "2024-10-31T03:25:03.411Z"
   },
   {
    "duration": 4,
    "start_time": "2024-10-31T03:25:53.359Z"
   },
   {
    "duration": 23,
    "start_time": "2024-10-31T03:26:21.361Z"
   },
   {
    "duration": 3,
    "start_time": "2024-10-31T03:26:44.564Z"
   },
   {
    "duration": 28,
    "start_time": "2024-10-31T03:26:55.796Z"
   },
   {
    "duration": 37,
    "start_time": "2024-10-31T03:27:06.513Z"
   },
   {
    "duration": 17,
    "start_time": "2024-10-31T03:28:59.593Z"
   },
   {
    "duration": 4,
    "start_time": "2024-10-31T03:29:18.556Z"
   },
   {
    "duration": 21,
    "start_time": "2024-10-31T03:29:27.214Z"
   },
   {
    "duration": 35,
    "start_time": "2024-10-31T03:30:38.394Z"
   },
   {
    "duration": 41,
    "start_time": "2024-10-31T03:34:33.864Z"
   },
   {
    "duration": 35,
    "start_time": "2024-10-31T03:35:08.207Z"
   },
   {
    "duration": 19,
    "start_time": "2024-10-31T03:35:34.241Z"
   },
   {
    "duration": 19,
    "start_time": "2024-10-31T03:35:55.502Z"
   },
   {
    "duration": 162,
    "start_time": "2024-10-31T04:23:44.222Z"
   },
   {
    "duration": 11,
    "start_time": "2024-10-31T04:23:47.977Z"
   },
   {
    "duration": 11,
    "start_time": "2024-10-31T04:24:57.152Z"
   },
   {
    "duration": 272,
    "start_time": "2024-10-31T04:25:32.687Z"
   },
   {
    "duration": 132,
    "start_time": "2024-10-31T04:25:32.962Z"
   },
   {
    "duration": 9,
    "start_time": "2024-10-31T04:25:33.096Z"
   },
   {
    "duration": 34,
    "start_time": "2024-10-31T04:25:33.108Z"
   },
   {
    "duration": 4,
    "start_time": "2024-10-31T04:25:33.143Z"
   },
   {
    "duration": 34,
    "start_time": "2024-10-31T04:25:33.148Z"
   },
   {
    "duration": 4,
    "start_time": "2024-10-31T04:25:33.184Z"
   },
   {
    "duration": 40,
    "start_time": "2024-10-31T04:25:33.189Z"
   },
   {
    "duration": 33,
    "start_time": "2024-10-31T04:25:33.231Z"
   },
   {
    "duration": 18,
    "start_time": "2024-10-31T04:25:33.266Z"
   },
   {
    "duration": 98,
    "start_time": "2024-10-31T04:25:33.286Z"
   },
   {
    "duration": 0,
    "start_time": "2024-10-31T04:25:33.386Z"
   },
   {
    "duration": 0,
    "start_time": "2024-10-31T04:25:33.387Z"
   },
   {
    "duration": 0,
    "start_time": "2024-10-31T04:25:33.388Z"
   },
   {
    "duration": 0,
    "start_time": "2024-10-31T04:25:33.389Z"
   },
   {
    "duration": 0,
    "start_time": "2024-10-31T04:25:33.391Z"
   },
   {
    "duration": 1,
    "start_time": "2024-10-31T04:25:33.392Z"
   },
   {
    "duration": 0,
    "start_time": "2024-10-31T04:25:33.394Z"
   },
   {
    "duration": 0,
    "start_time": "2024-10-31T04:25:33.395Z"
   },
   {
    "duration": 0,
    "start_time": "2024-10-31T04:25:33.395Z"
   },
   {
    "duration": 0,
    "start_time": "2024-10-31T04:25:33.396Z"
   },
   {
    "duration": 0,
    "start_time": "2024-10-31T04:25:33.397Z"
   },
   {
    "duration": 0,
    "start_time": "2024-10-31T04:25:33.398Z"
   },
   {
    "duration": 1,
    "start_time": "2024-10-31T04:25:33.398Z"
   },
   {
    "duration": 52,
    "start_time": "2024-10-31T04:25:41.337Z"
   },
   {
    "duration": 56,
    "start_time": "2024-10-31T04:26:08.542Z"
   },
   {
    "duration": 50,
    "start_time": "2024-10-31T04:26:55.545Z"
   },
   {
    "duration": 52,
    "start_time": "2024-10-31T04:27:55.970Z"
   },
   {
    "duration": 43,
    "start_time": "2024-10-31T04:29:18.522Z"
   },
   {
    "duration": 50,
    "start_time": "2024-10-31T04:29:30.268Z"
   },
   {
    "duration": 392,
    "start_time": "2024-10-31T04:31:21.119Z"
   },
   {
    "duration": 37,
    "start_time": "2024-10-31T04:31:37.161Z"
   },
   {
    "duration": 38,
    "start_time": "2024-10-31T04:33:35.576Z"
   },
   {
    "duration": 37,
    "start_time": "2024-10-31T04:33:46.556Z"
   },
   {
    "duration": 297,
    "start_time": "2024-10-31T08:08:23.179Z"
   },
   {
    "duration": 155,
    "start_time": "2024-10-31T08:08:23.478Z"
   },
   {
    "duration": 9,
    "start_time": "2024-10-31T08:08:23.636Z"
   },
   {
    "duration": 23,
    "start_time": "2024-10-31T08:08:23.647Z"
   },
   {
    "duration": 3,
    "start_time": "2024-10-31T08:08:23.687Z"
   },
   {
    "duration": 35,
    "start_time": "2024-10-31T08:08:23.692Z"
   },
   {
    "duration": 3,
    "start_time": "2024-10-31T08:08:23.729Z"
   },
   {
    "duration": 19,
    "start_time": "2024-10-31T08:08:23.734Z"
   },
   {
    "duration": 61,
    "start_time": "2024-10-31T08:08:23.754Z"
   },
   {
    "duration": 17,
    "start_time": "2024-10-31T08:08:23.819Z"
   },
   {
    "duration": 62,
    "start_time": "2024-10-31T08:08:23.838Z"
   },
   {
    "duration": 59,
    "start_time": "2024-10-31T08:08:23.902Z"
   },
   {
    "duration": 69,
    "start_time": "2024-10-31T08:08:23.963Z"
   },
   {
    "duration": 59,
    "start_time": "2024-10-31T08:08:24.034Z"
   },
   {
    "duration": 535,
    "start_time": "2024-10-31T08:08:24.095Z"
   },
   {
    "duration": 0,
    "start_time": "2024-10-31T08:08:24.632Z"
   },
   {
    "duration": 0,
    "start_time": "2024-10-31T08:08:24.633Z"
   },
   {
    "duration": 0,
    "start_time": "2024-10-31T08:08:24.634Z"
   },
   {
    "duration": 0,
    "start_time": "2024-10-31T08:08:24.635Z"
   },
   {
    "duration": 0,
    "start_time": "2024-10-31T08:08:24.636Z"
   },
   {
    "duration": 0,
    "start_time": "2024-10-31T08:08:24.637Z"
   },
   {
    "duration": 0,
    "start_time": "2024-10-31T08:08:24.639Z"
   },
   {
    "duration": 0,
    "start_time": "2024-10-31T08:08:24.640Z"
   },
   {
    "duration": 0,
    "start_time": "2024-10-31T08:08:24.641Z"
   },
   {
    "duration": 38,
    "start_time": "2024-10-31T08:11:01.930Z"
   },
   {
    "duration": 21,
    "start_time": "2024-10-31T08:11:23.581Z"
   },
   {
    "duration": 45,
    "start_time": "2024-10-31T08:11:28.529Z"
   },
   {
    "duration": 39,
    "start_time": "2024-10-31T08:17:15.024Z"
   },
   {
    "duration": 39,
    "start_time": "2024-10-31T08:17:29.024Z"
   },
   {
    "duration": 40,
    "start_time": "2024-10-31T08:17:32.439Z"
   },
   {
    "duration": 163,
    "start_time": "2024-11-02T14:53:08.512Z"
   },
   {
    "duration": 13,
    "start_time": "2024-11-02T14:54:22.439Z"
   },
   {
    "duration": 4,
    "start_time": "2024-11-02T14:56:38.845Z"
   },
   {
    "duration": 12,
    "start_time": "2024-11-02T14:58:06.732Z"
   },
   {
    "duration": 12,
    "start_time": "2024-11-02T14:58:52.979Z"
   },
   {
    "duration": 12,
    "start_time": "2024-11-02T15:03:57.482Z"
   },
   {
    "duration": 11,
    "start_time": "2024-11-02T15:04:29.620Z"
   },
   {
    "duration": 2,
    "start_time": "2024-11-02T15:06:17.529Z"
   },
   {
    "duration": 14,
    "start_time": "2024-11-02T15:09:53.670Z"
   },
   {
    "duration": 278,
    "start_time": "2024-11-02T15:56:22.895Z"
   },
   {
    "duration": 164,
    "start_time": "2024-11-02T15:56:25.758Z"
   },
   {
    "duration": 12,
    "start_time": "2024-11-02T15:56:30.245Z"
   },
   {
    "duration": 23,
    "start_time": "2024-11-02T15:56:35.195Z"
   },
   {
    "duration": 4,
    "start_time": "2024-11-02T15:56:41.803Z"
   },
   {
    "duration": 16,
    "start_time": "2024-11-02T15:56:57.689Z"
   },
   {
    "duration": 4,
    "start_time": "2024-11-02T15:57:22.962Z"
   },
   {
    "duration": 20,
    "start_time": "2024-11-02T15:59:47.912Z"
   },
   {
    "duration": 46,
    "start_time": "2024-11-02T15:59:57.657Z"
   },
   {
    "duration": 53,
    "start_time": "2024-11-02T16:00:07.854Z"
   },
   {
    "duration": 53,
    "start_time": "2024-11-02T16:00:41.424Z"
   },
   {
    "duration": 218,
    "start_time": "2024-11-02T16:03:36.735Z"
   },
   {
    "duration": 54,
    "start_time": "2024-11-02T16:04:20.825Z"
   },
   {
    "duration": 47,
    "start_time": "2024-11-02T16:06:00.271Z"
   },
   {
    "duration": 45,
    "start_time": "2024-11-02T16:07:03.677Z"
   },
   {
    "duration": 25,
    "start_time": "2024-11-02T16:08:01.496Z"
   },
   {
    "duration": 8,
    "start_time": "2024-11-02T16:12:13.435Z"
   },
   {
    "duration": 3,
    "start_time": "2024-11-02T16:12:48.735Z"
   },
   {
    "duration": 4,
    "start_time": "2024-11-02T16:14:48.684Z"
   },
   {
    "duration": 4,
    "start_time": "2024-11-02T16:14:58.927Z"
   },
   {
    "duration": 4,
    "start_time": "2024-11-02T16:15:10.166Z"
   },
   {
    "duration": 4,
    "start_time": "2024-11-02T16:17:46.260Z"
   },
   {
    "duration": 13,
    "start_time": "2024-11-02T16:18:52.020Z"
   },
   {
    "duration": 406,
    "start_time": "2024-11-02T16:19:44.184Z"
   },
   {
    "duration": 4,
    "start_time": "2024-11-02T16:21:12.186Z"
   },
   {
    "duration": 25,
    "start_time": "2024-11-02T16:22:35.517Z"
   },
   {
    "duration": 10,
    "start_time": "2024-11-02T16:24:06.131Z"
   },
   {
    "duration": 38,
    "start_time": "2024-11-02T16:25:39.255Z"
   },
   {
    "duration": 42,
    "start_time": "2024-11-02T16:27:15.050Z"
   },
   {
    "duration": 38,
    "start_time": "2024-11-02T16:27:41.153Z"
   },
   {
    "duration": 15,
    "start_time": "2024-11-02T16:33:21.084Z"
   },
   {
    "duration": 13,
    "start_time": "2024-11-02T16:35:32.311Z"
   },
   {
    "duration": 6,
    "start_time": "2024-11-02T16:37:27.936Z"
   },
   {
    "duration": 17,
    "start_time": "2024-11-02T16:41:32.833Z"
   },
   {
    "duration": 17,
    "start_time": "2024-11-02T16:43:35.040Z"
   },
   {
    "duration": 27,
    "start_time": "2024-11-02T16:44:24.220Z"
   },
   {
    "duration": 15,
    "start_time": "2024-11-02T16:51:31.477Z"
   },
   {
    "duration": 14,
    "start_time": "2024-11-02T16:53:30.117Z"
   },
   {
    "duration": 30,
    "start_time": "2024-11-02T16:56:00.287Z"
   },
   {
    "duration": 327,
    "start_time": "2024-11-03T13:01:59.651Z"
   },
   {
    "duration": 157,
    "start_time": "2024-11-03T13:01:59.980Z"
   },
   {
    "duration": 10,
    "start_time": "2024-11-03T13:02:00.143Z"
   },
   {
    "duration": 24,
    "start_time": "2024-11-03T13:02:00.156Z"
   },
   {
    "duration": 4,
    "start_time": "2024-11-03T13:02:00.182Z"
   },
   {
    "duration": 15,
    "start_time": "2024-11-03T13:02:00.188Z"
   },
   {
    "duration": 3,
    "start_time": "2024-11-03T13:02:00.205Z"
   },
   {
    "duration": 53,
    "start_time": "2024-11-03T13:02:00.210Z"
   },
   {
    "duration": 35,
    "start_time": "2024-11-03T13:02:00.265Z"
   },
   {
    "duration": 17,
    "start_time": "2024-11-03T13:02:00.303Z"
   },
   {
    "duration": 45,
    "start_time": "2024-11-03T13:02:00.342Z"
   },
   {
    "duration": 61,
    "start_time": "2024-11-03T13:02:00.389Z"
   },
   {
    "duration": 68,
    "start_time": "2024-11-03T13:02:00.452Z"
   },
   {
    "duration": 59,
    "start_time": "2024-11-03T13:02:00.522Z"
   },
   {
    "duration": 25,
    "start_time": "2024-11-03T13:02:00.583Z"
   },
   {
    "duration": 4,
    "start_time": "2024-11-03T13:02:00.610Z"
   },
   {
    "duration": 39,
    "start_time": "2024-11-03T13:02:00.616Z"
   },
   {
    "duration": 10,
    "start_time": "2024-11-03T13:02:00.656Z"
   },
   {
    "duration": 26,
    "start_time": "2024-11-03T13:02:00.668Z"
   },
   {
    "duration": 14,
    "start_time": "2024-11-03T13:02:00.696Z"
   },
   {
    "duration": 35,
    "start_time": "2024-11-03T13:02:00.711Z"
   },
   {
    "duration": 8,
    "start_time": "2024-11-03T13:02:00.747Z"
   },
   {
    "duration": 17,
    "start_time": "2024-11-03T13:02:00.760Z"
   },
   {
    "duration": 29,
    "start_time": "2024-11-03T13:02:00.780Z"
   },
   {
    "duration": 42,
    "start_time": "2024-11-03T13:03:54.854Z"
   },
   {
    "duration": 45,
    "start_time": "2024-11-03T13:05:49.331Z"
   },
   {
    "duration": 157,
    "start_time": "2024-11-04T21:18:29.350Z"
   },
   {
    "duration": 17,
    "start_time": "2024-11-04T21:18:39.426Z"
   },
   {
    "duration": 277,
    "start_time": "2024-11-04T21:18:51.963Z"
   },
   {
    "duration": 157,
    "start_time": "2024-11-04T21:18:55.270Z"
   },
   {
    "duration": 10,
    "start_time": "2024-11-04T21:19:01.354Z"
   },
   {
    "duration": 25,
    "start_time": "2024-11-04T21:19:07.743Z"
   },
   {
    "duration": 4,
    "start_time": "2024-11-04T21:19:25.819Z"
   },
   {
    "duration": 15,
    "start_time": "2024-11-04T21:19:30.396Z"
   },
   {
    "duration": 58,
    "start_time": "2024-11-04T21:20:56.352Z"
   },
   {
    "duration": 3,
    "start_time": "2024-11-04T21:24:47.811Z"
   },
   {
    "duration": 58,
    "start_time": "2024-11-04T21:25:56.056Z"
   },
   {
    "duration": 48,
    "start_time": "2024-11-04T21:27:24.010Z"
   },
   {
    "duration": 44,
    "start_time": "2024-11-04T21:27:29.707Z"
   },
   {
    "duration": 61,
    "start_time": "2024-11-04T21:28:48.111Z"
   },
   {
    "duration": 52,
    "start_time": "2024-11-04T21:29:07.184Z"
   },
   {
    "duration": 51,
    "start_time": "2024-11-04T21:30:56.501Z"
   },
   {
    "duration": 33,
    "start_time": "2024-11-04T21:31:35.801Z"
   },
   {
    "duration": 26,
    "start_time": "2024-11-04T21:31:43.351Z"
   },
   {
    "duration": 2,
    "start_time": "2024-11-04T21:32:37.780Z"
   },
   {
    "duration": 2,
    "start_time": "2024-11-04T21:32:44.824Z"
   },
   {
    "duration": 3,
    "start_time": "2024-11-04T21:33:55.454Z"
   },
   {
    "duration": 2,
    "start_time": "2024-11-04T21:33:58.726Z"
   },
   {
    "duration": 34,
    "start_time": "2024-11-04T21:35:02.151Z"
   },
   {
    "duration": 13,
    "start_time": "2024-11-04T21:35:15.595Z"
   },
   {
    "duration": 14,
    "start_time": "2024-11-04T21:36:14.169Z"
   },
   {
    "duration": 26,
    "start_time": "2024-11-04T21:36:21.699Z"
   },
   {
    "duration": 24,
    "start_time": "2024-11-04T21:36:25.364Z"
   },
   {
    "duration": 10,
    "start_time": "2024-11-04T21:36:54.797Z"
   },
   {
    "duration": 10,
    "start_time": "2024-11-04T21:37:10.384Z"
   },
   {
    "duration": 16,
    "start_time": "2024-11-04T21:41:03.872Z"
   },
   {
    "duration": 13,
    "start_time": "2024-11-04T21:41:14.537Z"
   },
   {
    "duration": 12,
    "start_time": "2024-11-04T21:41:22.990Z"
   },
   {
    "duration": 3,
    "start_time": "2024-11-04T21:41:40.253Z"
   },
   {
    "duration": 3,
    "start_time": "2024-11-04T21:42:03.454Z"
   },
   {
    "duration": 13,
    "start_time": "2024-11-04T21:44:19.340Z"
   },
   {
    "duration": 4,
    "start_time": "2024-11-04T21:45:35.176Z"
   },
   {
    "duration": 6,
    "start_time": "2024-11-04T21:46:01.609Z"
   },
   {
    "duration": 4,
    "start_time": "2024-11-04T21:46:15.394Z"
   },
   {
    "duration": 17,
    "start_time": "2024-11-04T21:46:26.544Z"
   },
   {
    "duration": 348,
    "start_time": "2024-11-04T21:53:53.596Z"
   },
   {
    "duration": 94,
    "start_time": "2024-11-04T21:54:56.972Z"
   },
   {
    "duration": 3,
    "start_time": "2024-11-04T21:57:46.285Z"
   },
   {
    "duration": 28,
    "start_time": "2024-11-04T21:58:05.660Z"
   },
   {
    "duration": 21,
    "start_time": "2024-11-04T22:31:23.782Z"
   },
   {
    "duration": 14,
    "start_time": "2024-11-04T22:32:02.762Z"
   },
   {
    "duration": 38,
    "start_time": "2024-11-04T22:34:44.133Z"
   },
   {
    "duration": 13,
    "start_time": "2024-11-04T22:35:35.985Z"
   },
   {
    "duration": 2,
    "start_time": "2024-11-04T22:36:00.850Z"
   },
   {
    "duration": 136,
    "start_time": "2024-11-04T22:36:03.299Z"
   },
   {
    "duration": 10,
    "start_time": "2024-11-04T22:36:06.273Z"
   },
   {
    "duration": 4,
    "start_time": "2024-11-04T22:36:11.030Z"
   },
   {
    "duration": 15,
    "start_time": "2024-11-04T22:36:14.485Z"
   },
   {
    "duration": 4,
    "start_time": "2024-11-04T22:36:17.853Z"
   },
   {
    "duration": 21,
    "start_time": "2024-11-04T22:36:22.240Z"
   },
   {
    "duration": 32,
    "start_time": "2024-11-04T22:36:25.341Z"
   },
   {
    "duration": 19,
    "start_time": "2024-11-04T22:36:29.590Z"
   },
   {
    "duration": 58,
    "start_time": "2024-11-04T22:36:33.979Z"
   },
   {
    "duration": 48,
    "start_time": "2024-11-04T22:36:37.690Z"
   },
   {
    "duration": 54,
    "start_time": "2024-11-04T22:36:42.146Z"
   },
   {
    "duration": 42,
    "start_time": "2024-11-04T22:37:11.374Z"
   },
   {
    "duration": 23,
    "start_time": "2024-11-04T22:37:16.120Z"
   },
   {
    "duration": 25,
    "start_time": "2024-11-04T22:37:23.442Z"
   },
   {
    "duration": 18,
    "start_time": "2024-11-04T22:37:29.923Z"
   },
   {
    "duration": 17,
    "start_time": "2024-11-04T22:37:36.234Z"
   },
   {
    "duration": 12,
    "start_time": "2024-11-04T22:38:05.091Z"
   },
   {
    "duration": 4,
    "start_time": "2024-11-04T22:39:34.775Z"
   },
   {
    "duration": 0,
    "start_time": "2024-11-04T22:42:34.540Z"
   },
   {
    "duration": 2,
    "start_time": "2024-11-04T22:42:45.350Z"
   },
   {
    "duration": 12,
    "start_time": "2024-11-04T22:42:51.495Z"
   },
   {
    "duration": 13,
    "start_time": "2024-11-04T22:43:58.400Z"
   },
   {
    "duration": 12,
    "start_time": "2024-11-04T22:44:01.291Z"
   },
   {
    "duration": 421,
    "start_time": "2024-11-05T07:21:27.716Z"
   },
   {
    "duration": 196,
    "start_time": "2024-11-05T07:21:28.143Z"
   },
   {
    "duration": 15,
    "start_time": "2024-11-05T07:21:28.341Z"
   },
   {
    "duration": 27,
    "start_time": "2024-11-05T07:21:28.360Z"
   },
   {
    "duration": 20,
    "start_time": "2024-11-05T07:21:28.389Z"
   },
   {
    "duration": 23,
    "start_time": "2024-11-05T07:21:28.410Z"
   },
   {
    "duration": 5,
    "start_time": "2024-11-05T07:21:28.435Z"
   },
   {
    "duration": 28,
    "start_time": "2024-11-05T07:21:28.442Z"
   },
   {
    "duration": 66,
    "start_time": "2024-11-05T07:21:28.472Z"
   },
   {
    "duration": 27,
    "start_time": "2024-11-05T07:21:28.542Z"
   },
   {
    "duration": 87,
    "start_time": "2024-11-05T07:21:28.571Z"
   },
   {
    "duration": 85,
    "start_time": "2024-11-05T07:21:28.659Z"
   },
   {
    "duration": 93,
    "start_time": "2024-11-05T07:21:28.746Z"
   },
   {
    "duration": 293,
    "start_time": "2024-11-05T07:21:28.841Z"
   },
   {
    "duration": 0,
    "start_time": "2024-11-05T07:21:29.137Z"
   },
   {
    "duration": 0,
    "start_time": "2024-11-05T07:21:29.141Z"
   },
   {
    "duration": 0,
    "start_time": "2024-11-05T07:21:29.142Z"
   },
   {
    "duration": 0,
    "start_time": "2024-11-05T07:21:29.144Z"
   },
   {
    "duration": 0,
    "start_time": "2024-11-05T07:21:29.145Z"
   },
   {
    "duration": 0,
    "start_time": "2024-11-05T07:21:29.147Z"
   },
   {
    "duration": 0,
    "start_time": "2024-11-05T07:21:29.148Z"
   },
   {
    "duration": 0,
    "start_time": "2024-11-05T07:21:29.149Z"
   },
   {
    "duration": 0,
    "start_time": "2024-11-05T07:21:29.151Z"
   },
   {
    "duration": 0,
    "start_time": "2024-11-05T07:21:29.152Z"
   },
   {
    "duration": 35,
    "start_time": "2024-11-05T07:26:07.648Z"
   },
   {
    "duration": 20,
    "start_time": "2024-11-05T07:26:08.999Z"
   },
   {
    "duration": 15,
    "start_time": "2024-11-05T07:26:09.896Z"
   },
   {
    "duration": 5,
    "start_time": "2024-11-05T07:26:10.561Z"
   },
   {
    "duration": 54,
    "start_time": "2024-11-05T07:28:23.194Z"
   },
   {
    "duration": 23,
    "start_time": "2024-11-05T07:29:04.822Z"
   },
   {
    "duration": 422,
    "start_time": "2024-11-05T07:29:05.905Z"
   },
   {
    "duration": 18,
    "start_time": "2024-11-05T07:30:31.526Z"
   },
   {
    "duration": 7,
    "start_time": "2024-11-05T07:30:32.664Z"
   },
   {
    "duration": 16,
    "start_time": "2024-11-05T07:30:33.266Z"
   },
   {
    "duration": 31,
    "start_time": "2024-11-05T07:30:33.635Z"
   },
   {
    "duration": 158,
    "start_time": "2024-11-11T15:18:25.727Z"
   },
   {
    "duration": 288,
    "start_time": "2024-11-11T17:30:28.256Z"
   },
   {
    "duration": 157,
    "start_time": "2024-11-11T17:30:30.945Z"
   },
   {
    "duration": 12,
    "start_time": "2024-11-11T17:30:37.217Z"
   },
   {
    "duration": 23,
    "start_time": "2024-11-11T17:30:41.285Z"
   },
   {
    "duration": 4,
    "start_time": "2024-11-11T17:30:49.484Z"
   },
   {
    "duration": 15,
    "start_time": "2024-11-11T17:30:56.627Z"
   },
   {
    "duration": 4,
    "start_time": "2024-11-11T17:31:07.209Z"
   },
   {
    "duration": 26,
    "start_time": "2024-11-11T17:31:13.895Z"
   },
   {
    "duration": 45,
    "start_time": "2024-11-11T17:31:30.960Z"
   },
   {
    "duration": 18,
    "start_time": "2024-11-11T17:31:36.623Z"
   },
   {
    "duration": 61,
    "start_time": "2024-11-11T17:31:42.368Z"
   },
   {
    "duration": 65,
    "start_time": "2024-11-11T17:32:22.243Z"
   },
   {
    "duration": 79,
    "start_time": "2024-11-11T17:32:32.600Z"
   },
   {
    "duration": 184,
    "start_time": "2024-11-11T17:32:39.894Z"
   },
   {
    "duration": 50,
    "start_time": "2024-11-11T17:33:57.372Z"
   },
   {
    "duration": 97,
    "start_time": "2024-11-11T17:35:19.327Z"
   },
   {
    "duration": 13,
    "start_time": "2024-11-11T17:37:29.529Z"
   },
   {
    "duration": 36,
    "start_time": "2024-11-11T17:48:28.498Z"
   },
   {
    "duration": 29,
    "start_time": "2024-11-11T17:49:32.568Z"
   },
   {
    "duration": 15,
    "start_time": "2024-11-11T17:51:28.999Z"
   },
   {
    "duration": 9,
    "start_time": "2024-11-11T17:55:59.461Z"
   },
   {
    "duration": 13,
    "start_time": "2024-11-11T17:56:11.732Z"
   },
   {
    "duration": 15,
    "start_time": "2024-11-11T17:56:42.547Z"
   },
   {
    "duration": 14,
    "start_time": "2024-11-11T17:56:58.855Z"
   },
   {
    "duration": 14,
    "start_time": "2024-11-11T17:57:10.535Z"
   },
   {
    "duration": 40,
    "start_time": "2024-11-11T17:57:45.277Z"
   },
   {
    "duration": 30,
    "start_time": "2024-11-11T18:01:17.112Z"
   },
   {
    "duration": 13,
    "start_time": "2024-11-11T18:09:44.891Z"
   },
   {
    "duration": 3,
    "start_time": "2024-11-11T18:10:30.294Z"
   },
   {
    "duration": 41,
    "start_time": "2024-11-11T18:11:07.886Z"
   },
   {
    "duration": 296,
    "start_time": "2024-11-11T18:16:15.141Z"
   },
   {
    "duration": 5,
    "start_time": "2024-11-11T18:16:35.054Z"
   },
   {
    "duration": 248,
    "start_time": "2024-11-11T18:32:23.272Z"
   },
   {
    "duration": 40,
    "start_time": "2024-11-11T18:36:24.464Z"
   },
   {
    "duration": 64,
    "start_time": "2024-11-11T18:36:51.204Z"
   },
   {
    "duration": 25,
    "start_time": "2024-11-11T18:36:58.961Z"
   },
   {
    "duration": 99,
    "start_time": "2024-11-11T18:37:07.124Z"
   },
   {
    "duration": 42,
    "start_time": "2024-11-11T18:37:22.217Z"
   },
   {
    "duration": 3,
    "start_time": "2024-11-11T18:37:51.254Z"
   },
   {
    "duration": 43,
    "start_time": "2024-11-11T18:37:59.865Z"
   },
   {
    "duration": 130,
    "start_time": "2024-11-11T18:38:25.342Z"
   },
   {
    "duration": 10,
    "start_time": "2024-11-11T18:38:32.547Z"
   },
   {
    "duration": 31,
    "start_time": "2024-11-11T18:38:37.514Z"
   },
   {
    "duration": 4,
    "start_time": "2024-11-11T18:38:46.720Z"
   },
   {
    "duration": 18,
    "start_time": "2024-11-11T18:38:52.204Z"
   },
   {
    "duration": 4,
    "start_time": "2024-11-11T18:38:56.817Z"
   },
   {
    "duration": 20,
    "start_time": "2024-11-11T18:39:00.989Z"
   },
   {
    "duration": 41,
    "start_time": "2024-11-11T18:39:05.418Z"
   },
   {
    "duration": 26,
    "start_time": "2024-11-11T18:39:11.022Z"
   },
   {
    "duration": 59,
    "start_time": "2024-11-11T18:39:15.132Z"
   },
   {
    "duration": 47,
    "start_time": "2024-11-11T18:39:20.050Z"
   },
   {
    "duration": 55,
    "start_time": "2024-11-11T18:39:49.008Z"
   },
   {
    "duration": 26,
    "start_time": "2024-11-11T18:40:11.867Z"
   },
   {
    "duration": 42,
    "start_time": "2024-11-11T18:40:23.949Z"
   },
   {
    "duration": 356,
    "start_time": "2024-11-11T18:43:25.213Z"
   },
   {
    "duration": 275,
    "start_time": "2024-11-11T18:44:24.840Z"
   },
   {
    "duration": 4,
    "start_time": "2024-11-11T18:44:30.551Z"
   },
   {
    "duration": 3,
    "start_time": "2024-11-11T18:44:35.762Z"
   },
   {
    "duration": 13,
    "start_time": "2024-11-11T18:45:20.219Z"
   },
   {
    "duration": 269,
    "start_time": "2024-11-11T18:45:49.360Z"
   },
   {
    "duration": 336,
    "start_time": "2024-11-11T18:46:05.753Z"
   },
   {
    "duration": 4,
    "start_time": "2024-11-11T18:46:17.329Z"
   },
   {
    "duration": 312,
    "start_time": "2024-11-11T18:47:10.804Z"
   },
   {
    "duration": 7,
    "start_time": "2024-11-11T18:47:23.528Z"
   },
   {
    "duration": 17,
    "start_time": "2024-11-11T18:47:51.161Z"
   },
   {
    "duration": 10,
    "start_time": "2024-11-11T18:48:40.711Z"
   },
   {
    "duration": 14,
    "start_time": "2024-11-11T18:48:54.611Z"
   },
   {
    "duration": 310,
    "start_time": "2024-11-11T18:49:06.571Z"
   },
   {
    "duration": 9,
    "start_time": "2024-11-11T18:49:30.837Z"
   },
   {
    "duration": 11,
    "start_time": "2024-11-11T18:50:50.042Z"
   },
   {
    "duration": 318,
    "start_time": "2024-11-12T22:18:47.576Z"
   },
   {
    "duration": 168,
    "start_time": "2024-11-12T22:18:47.896Z"
   },
   {
    "duration": 12,
    "start_time": "2024-11-12T22:18:48.066Z"
   },
   {
    "duration": 26,
    "start_time": "2024-11-12T22:18:48.081Z"
   },
   {
    "duration": 22,
    "start_time": "2024-11-12T22:18:48.109Z"
   },
   {
    "duration": 19,
    "start_time": "2024-11-12T22:18:48.134Z"
   },
   {
    "duration": 4,
    "start_time": "2024-11-12T22:18:48.155Z"
   },
   {
    "duration": 21,
    "start_time": "2024-11-12T22:18:48.161Z"
   },
   {
    "duration": 63,
    "start_time": "2024-11-12T22:18:48.184Z"
   },
   {
    "duration": 18,
    "start_time": "2024-11-12T22:18:48.251Z"
   },
   {
    "duration": 45,
    "start_time": "2024-11-12T22:18:48.270Z"
   },
   {
    "duration": 65,
    "start_time": "2024-11-12T22:18:48.317Z"
   },
   {
    "duration": 78,
    "start_time": "2024-11-12T22:18:48.384Z"
   },
   {
    "duration": 82,
    "start_time": "2024-11-12T22:18:48.464Z"
   },
   {
    "duration": 20,
    "start_time": "2024-11-12T22:18:48.548Z"
   },
   {
    "duration": 62,
    "start_time": "2024-11-12T22:18:48.570Z"
   },
   {
    "duration": 281,
    "start_time": "2024-11-12T22:18:48.634Z"
   },
   {
    "duration": 3,
    "start_time": "2024-11-12T22:18:48.917Z"
   },
   {
    "duration": 25,
    "start_time": "2024-11-12T22:18:48.922Z"
   },
   {
    "duration": 11,
    "start_time": "2024-11-12T22:18:48.948Z"
   },
   {
    "duration": 11,
    "start_time": "2024-11-12T22:18:48.960Z"
   },
   {
    "duration": 7,
    "start_time": "2024-11-12T22:18:48.973Z"
   },
   {
    "duration": 19,
    "start_time": "2024-11-12T22:18:48.982Z"
   },
   {
    "duration": 29,
    "start_time": "2024-11-12T22:18:49.031Z"
   },
   {
    "duration": 160,
    "start_time": "2024-11-13T00:50:25.582Z"
   },
   {
    "duration": 296,
    "start_time": "2024-11-13T00:50:37.453Z"
   },
   {
    "duration": 148,
    "start_time": "2024-11-13T00:50:41.615Z"
   },
   {
    "duration": 10,
    "start_time": "2024-11-13T00:50:47.284Z"
   },
   {
    "duration": 23,
    "start_time": "2024-11-13T00:50:51.699Z"
   },
   {
    "duration": 4,
    "start_time": "2024-11-13T00:50:57.502Z"
   },
   {
    "duration": 15,
    "start_time": "2024-11-13T00:51:03.089Z"
   },
   {
    "duration": 17,
    "start_time": "2024-11-13T00:51:13.116Z"
   },
   {
    "duration": 3,
    "start_time": "2024-11-13T00:51:20.492Z"
   },
   {
    "duration": 21,
    "start_time": "2024-11-13T00:51:25.784Z"
   },
   {
    "duration": 34,
    "start_time": "2024-11-13T00:51:38.294Z"
   },
   {
    "duration": 18,
    "start_time": "2024-11-13T00:51:43.752Z"
   },
   {
    "duration": 42,
    "start_time": "2024-11-13T00:51:47.450Z"
   },
   {
    "duration": 49,
    "start_time": "2024-11-13T00:51:51.003Z"
   },
   {
    "duration": 56,
    "start_time": "2024-11-13T00:51:55.891Z"
   },
   {
    "duration": 75,
    "start_time": "2024-11-13T00:52:02.577Z"
   },
   {
    "duration": 54,
    "start_time": "2024-11-13T00:52:33.737Z"
   },
   {
    "duration": 73,
    "start_time": "2024-11-13T00:52:40.280Z"
   },
   {
    "duration": 21,
    "start_time": "2024-11-13T00:52:58.053Z"
   },
   {
    "duration": 19,
    "start_time": "2024-11-13T00:54:59.365Z"
   },
   {
    "duration": 73,
    "start_time": "2024-11-13T00:55:43.883Z"
   },
   {
    "duration": 19,
    "start_time": "2024-11-13T00:55:55.531Z"
   },
   {
    "duration": 23,
    "start_time": "2024-11-13T00:57:44.111Z"
   },
   {
    "duration": 41,
    "start_time": "2024-11-13T00:59:06.248Z"
   },
   {
    "duration": 265,
    "start_time": "2024-11-13T00:59:53.908Z"
   },
   {
    "duration": 16,
    "start_time": "2024-11-13T01:02:27.755Z"
   },
   {
    "duration": 14,
    "start_time": "2024-11-13T01:02:45.277Z"
   },
   {
    "duration": 14,
    "start_time": "2024-11-13T01:04:11.609Z"
   },
   {
    "duration": 12,
    "start_time": "2024-11-13T01:04:17.440Z"
   },
   {
    "duration": 18,
    "start_time": "2024-11-13T01:04:24.760Z"
   },
   {
    "duration": 28,
    "start_time": "2024-11-13T01:04:29.031Z"
   },
   {
    "duration": 28,
    "start_time": "2024-11-13T01:09:06.773Z"
   },
   {
    "duration": 21,
    "start_time": "2024-11-13T01:09:19.418Z"
   },
   {
    "duration": 80,
    "start_time": "2024-11-13T01:09:33.443Z"
   },
   {
    "duration": 21,
    "start_time": "2024-11-13T01:09:38.448Z"
   },
   {
    "duration": 22,
    "start_time": "2024-11-13T01:09:43.352Z"
   },
   {
    "duration": 29,
    "start_time": "2024-11-13T01:10:05.457Z"
   },
   {
    "duration": 21,
    "start_time": "2024-11-13T01:10:12.208Z"
   },
   {
    "duration": 43,
    "start_time": "2024-11-13T01:10:27.723Z"
   },
   {
    "duration": 295,
    "start_time": "2024-11-14T03:30:58.783Z"
   },
   {
    "duration": 213,
    "start_time": "2024-11-14T03:31:01.793Z"
   },
   {
    "duration": 13,
    "start_time": "2024-11-14T03:31:06.185Z"
   },
   {
    "duration": 3,
    "start_time": "2024-11-14T03:31:29.362Z"
   },
   {
    "duration": 24,
    "start_time": "2024-11-14T03:31:38.724Z"
   },
   {
    "duration": 6,
    "start_time": "2024-11-14T03:31:46.032Z"
   },
   {
    "duration": 21,
    "start_time": "2024-11-14T03:31:50.474Z"
   },
   {
    "duration": 35,
    "start_time": "2024-11-14T03:31:54.060Z"
   },
   {
    "duration": 39,
    "start_time": "2024-11-14T03:31:58.108Z"
   },
   {
    "duration": 42,
    "start_time": "2024-11-14T03:32:06.167Z"
   },
   {
    "duration": 77,
    "start_time": "2024-11-14T03:32:14.243Z"
   },
   {
    "duration": 86,
    "start_time": "2024-11-14T03:32:27.557Z"
   },
   {
    "duration": 81,
    "start_time": "2024-11-14T03:32:46.635Z"
   },
   {
    "duration": 47,
    "start_time": "2024-11-14T03:34:02.602Z"
   },
   {
    "duration": 61,
    "start_time": "2024-11-14T03:35:40.902Z"
   },
   {
    "duration": 25,
    "start_time": "2024-11-14T03:36:42.040Z"
   },
   {
    "duration": 89,
    "start_time": "2024-11-14T03:36:55.790Z"
   },
   {
    "duration": 69,
    "start_time": "2024-11-14T03:37:02.928Z"
   },
   {
    "duration": 23,
    "start_time": "2024-11-14T03:38:51.920Z"
   },
   {
    "duration": 207,
    "start_time": "2024-11-14T03:39:09.646Z"
   },
   {
    "duration": 43,
    "start_time": "2024-11-14T03:42:14.792Z"
   },
   {
    "duration": 17,
    "start_time": "2024-11-14T03:43:21.603Z"
   },
   {
    "duration": 5,
    "start_time": "2024-11-14T03:43:32.302Z"
   },
   {
    "duration": 4,
    "start_time": "2024-11-14T03:43:36.752Z"
   },
   {
    "duration": 13,
    "start_time": "2024-11-14T03:43:58.553Z"
   },
   {
    "duration": 4,
    "start_time": "2024-11-14T03:44:11.645Z"
   },
   {
    "duration": 3,
    "start_time": "2024-11-14T03:44:15.077Z"
   },
   {
    "duration": 32,
    "start_time": "2024-11-14T03:44:23.150Z"
   },
   {
    "duration": 22,
    "start_time": "2024-11-14T03:45:54.308Z"
   },
   {
    "duration": 22,
    "start_time": "2024-11-14T03:46:45.650Z"
   },
   {
    "duration": 3,
    "start_time": "2024-11-14T03:47:22.295Z"
   },
   {
    "duration": 13,
    "start_time": "2024-11-14T03:47:34.851Z"
   },
   {
    "duration": 27,
    "start_time": "2024-11-14T03:47:43.224Z"
   },
   {
    "duration": 10,
    "start_time": "2024-11-14T03:48:05.900Z"
   },
   {
    "duration": 20,
    "start_time": "2024-11-14T03:48:23.432Z"
   },
   {
    "duration": 15,
    "start_time": "2024-11-14T03:49:21.640Z"
   },
   {
    "duration": 15,
    "start_time": "2024-11-14T03:49:32.237Z"
   },
   {
    "duration": 291,
    "start_time": "2024-11-14T14:15:01.866Z"
   },
   {
    "duration": 156,
    "start_time": "2024-11-14T14:15:02.159Z"
   },
   {
    "duration": 10,
    "start_time": "2024-11-14T14:15:02.317Z"
   },
   {
    "duration": 23,
    "start_time": "2024-11-14T14:15:02.330Z"
   },
   {
    "duration": 3,
    "start_time": "2024-11-14T14:15:02.355Z"
   },
   {
    "duration": 15,
    "start_time": "2024-11-14T14:15:02.360Z"
   },
   {
    "duration": 4,
    "start_time": "2024-11-14T14:15:02.377Z"
   },
   {
    "duration": 24,
    "start_time": "2024-11-14T14:15:02.406Z"
   },
   {
    "duration": 38,
    "start_time": "2024-11-14T14:15:02.432Z"
   },
   {
    "duration": 37,
    "start_time": "2024-11-14T14:15:02.473Z"
   },
   {
    "duration": 44,
    "start_time": "2024-11-14T14:15:02.512Z"
   },
   {
    "duration": 63,
    "start_time": "2024-11-14T14:15:02.559Z"
   },
   {
    "duration": 58,
    "start_time": "2024-11-14T14:15:02.624Z"
   },
   {
    "duration": 97,
    "start_time": "2024-11-14T14:15:02.684Z"
   },
   {
    "duration": 26,
    "start_time": "2024-11-14T14:15:02.782Z"
   },
   {
    "duration": 46,
    "start_time": "2024-11-14T14:15:02.810Z"
   },
   {
    "duration": 24,
    "start_time": "2024-11-14T14:15:02.858Z"
   },
   {
    "duration": 24,
    "start_time": "2024-11-14T14:15:02.884Z"
   },
   {
    "duration": 18,
    "start_time": "2024-11-14T14:15:02.910Z"
   },
   {
    "duration": 11,
    "start_time": "2024-11-14T14:15:02.930Z"
   },
   {
    "duration": 10,
    "start_time": "2024-11-14T14:15:02.943Z"
   },
   {
    "duration": 6,
    "start_time": "2024-11-14T14:15:02.955Z"
   },
   {
    "duration": 52,
    "start_time": "2024-11-14T14:15:02.963Z"
   },
   {
    "duration": 25,
    "start_time": "2024-11-14T14:15:03.017Z"
   },
   {
    "duration": 300,
    "start_time": "2024-11-14T14:19:38.052Z"
   },
   {
    "duration": 133,
    "start_time": "2024-11-14T14:19:38.354Z"
   },
   {
    "duration": 10,
    "start_time": "2024-11-14T14:19:38.488Z"
   },
   {
    "duration": 23,
    "start_time": "2024-11-14T14:19:38.504Z"
   },
   {
    "duration": 4,
    "start_time": "2024-11-14T14:19:38.528Z"
   },
   {
    "duration": 15,
    "start_time": "2024-11-14T14:19:38.534Z"
   },
   {
    "duration": 5,
    "start_time": "2024-11-14T14:19:38.551Z"
   },
   {
    "duration": 51,
    "start_time": "2024-11-14T14:19:38.558Z"
   },
   {
    "duration": 34,
    "start_time": "2024-11-14T14:19:38.611Z"
   },
   {
    "duration": 19,
    "start_time": "2024-11-14T14:19:38.648Z"
   },
   {
    "duration": 71,
    "start_time": "2024-11-14T14:19:38.669Z"
   },
   {
    "duration": 49,
    "start_time": "2024-11-14T14:19:38.742Z"
   },
   {
    "duration": 68,
    "start_time": "2024-11-14T14:19:38.793Z"
   },
   {
    "duration": 93,
    "start_time": "2024-11-14T14:19:38.863Z"
   },
   {
    "duration": 21,
    "start_time": "2024-11-14T14:19:38.958Z"
   },
   {
    "duration": 54,
    "start_time": "2024-11-14T14:19:38.981Z"
   },
   {
    "duration": 25,
    "start_time": "2024-11-14T14:19:39.036Z"
   },
   {
    "duration": 3,
    "start_time": "2024-11-14T14:19:39.062Z"
   },
   {
    "duration": 17,
    "start_time": "2024-11-14T14:19:39.067Z"
   },
   {
    "duration": 28,
    "start_time": "2024-11-14T14:19:39.085Z"
   },
   {
    "duration": 11,
    "start_time": "2024-11-14T14:19:39.115Z"
   },
   {
    "duration": 7,
    "start_time": "2024-11-14T14:19:39.127Z"
   },
   {
    "duration": 18,
    "start_time": "2024-11-14T14:19:39.135Z"
   },
   {
    "duration": 59,
    "start_time": "2024-11-14T14:19:39.155Z"
   },
   {
    "duration": 188,
    "start_time": "2024-11-14T14:20:58.973Z"
   },
   {
    "duration": 7,
    "start_time": "2024-11-14T14:21:01.044Z"
   },
   {
    "duration": 16,
    "start_time": "2024-11-14T14:21:06.644Z"
   },
   {
    "duration": 10,
    "start_time": "2024-11-14T14:21:50.165Z"
   },
   {
    "duration": 10,
    "start_time": "2024-11-14T14:21:57.724Z"
   },
   {
    "duration": 18,
    "start_time": "2024-11-14T14:22:15.193Z"
   },
   {
    "duration": 423,
    "start_time": "2024-11-14T14:23:42.794Z"
   },
   {
    "duration": 15,
    "start_time": "2024-11-14T14:23:50.991Z"
   },
   {
    "duration": 13,
    "start_time": "2024-11-14T14:24:30.239Z"
   },
   {
    "duration": 15,
    "start_time": "2024-11-14T14:24:53.389Z"
   },
   {
    "duration": 12,
    "start_time": "2024-11-14T14:25:31.976Z"
   },
   {
    "duration": 9,
    "start_time": "2024-11-14T14:25:33.874Z"
   },
   {
    "duration": 11,
    "start_time": "2024-11-14T14:25:35.338Z"
   },
   {
    "duration": 20,
    "start_time": "2024-11-14T14:25:36.998Z"
   },
   {
    "duration": 329,
    "start_time": "2024-11-14T15:12:29.435Z"
   },
   {
    "duration": 152,
    "start_time": "2024-11-14T15:12:32.382Z"
   },
   {
    "duration": 12,
    "start_time": "2024-11-14T15:12:37.157Z"
   },
   {
    "duration": 23,
    "start_time": "2024-11-14T15:12:42.306Z"
   },
   {
    "duration": 10,
    "start_time": "2024-11-14T15:12:57.011Z"
   },
   {
    "duration": 22,
    "start_time": "2024-11-14T15:13:02.301Z"
   },
   {
    "duration": 3,
    "start_time": "2024-11-14T15:13:08.416Z"
   },
   {
    "duration": 15,
    "start_time": "2024-11-14T15:13:12.407Z"
   },
   {
    "duration": 4,
    "start_time": "2024-11-14T15:13:17.439Z"
   },
   {
    "duration": 19,
    "start_time": "2024-11-14T15:13:21.700Z"
   },
   {
    "duration": 39,
    "start_time": "2024-11-14T15:13:26.959Z"
   },
   {
    "duration": 18,
    "start_time": "2024-11-14T15:13:31.976Z"
   },
   {
    "duration": 43,
    "start_time": "2024-11-14T15:13:41.598Z"
   },
   {
    "duration": 47,
    "start_time": "2024-11-14T15:13:46.218Z"
   },
   {
    "duration": 57,
    "start_time": "2024-11-14T15:13:50.408Z"
   },
   {
    "duration": 73,
    "start_time": "2024-11-14T15:13:56.822Z"
   },
   {
    "duration": 20,
    "start_time": "2024-11-14T15:14:04.184Z"
   },
   {
    "duration": 20,
    "start_time": "2024-11-14T15:14:45.156Z"
   },
   {
    "duration": 41,
    "start_time": "2024-11-14T15:14:50.701Z"
   },
   {
    "duration": 15,
    "start_time": "2024-11-14T15:15:06.534Z"
   },
   {
    "duration": 17,
    "start_time": "2024-11-14T15:15:36.991Z"
   },
   {
    "duration": 17,
    "start_time": "2024-11-14T15:16:25.754Z"
   },
   {
    "duration": 16,
    "start_time": "2024-11-14T15:16:37.807Z"
   },
   {
    "duration": 15,
    "start_time": "2024-11-14T15:18:49.393Z"
   },
   {
    "duration": 10,
    "start_time": "2024-11-14T15:19:35.544Z"
   },
   {
    "duration": 175,
    "start_time": "2024-11-14T15:21:56.680Z"
   },
   {
    "duration": 19,
    "start_time": "2024-11-14T15:22:07.101Z"
   },
   {
    "duration": 10,
    "start_time": "2024-11-14T15:22:15.333Z"
   },
   {
    "duration": 16,
    "start_time": "2024-11-14T15:24:00.861Z"
   },
   {
    "duration": 327,
    "start_time": "2024-11-15T01:17:38.376Z"
   },
   {
    "duration": 148,
    "start_time": "2024-11-15T01:17:40.998Z"
   },
   {
    "duration": 12,
    "start_time": "2024-11-15T01:17:44.517Z"
   },
   {
    "duration": 23,
    "start_time": "2024-11-15T01:17:47.734Z"
   },
   {
    "duration": 4,
    "start_time": "2024-11-15T01:17:52.541Z"
   },
   {
    "duration": 14,
    "start_time": "2024-11-15T01:17:55.824Z"
   },
   {
    "duration": 7,
    "start_time": "2024-11-15T01:18:11.936Z"
   },
   {
    "duration": 20,
    "start_time": "2024-11-15T01:18:20.285Z"
   },
   {
    "duration": 35,
    "start_time": "2024-11-15T01:18:31.828Z"
   },
   {
    "duration": 19,
    "start_time": "2024-11-15T01:18:36.787Z"
   },
   {
    "duration": 42,
    "start_time": "2024-11-15T01:18:45.607Z"
   },
   {
    "duration": 55,
    "start_time": "2024-11-15T01:19:32.097Z"
   },
   {
    "duration": 73,
    "start_time": "2024-11-15T01:19:39.612Z"
   },
   {
    "duration": 21,
    "start_time": "2024-11-15T01:20:08.042Z"
   },
   {
    "duration": 41,
    "start_time": "2024-11-15T01:20:14.704Z"
   },
   {
    "duration": 45,
    "start_time": "2024-11-15T01:20:33.208Z"
   },
   {
    "duration": 20,
    "start_time": "2024-11-15T01:20:44.937Z"
   },
   {
    "duration": 5,
    "start_time": "2024-11-15T01:20:47.812Z"
   },
   {
    "duration": 18,
    "start_time": "2024-11-15T01:21:04.742Z"
   },
   {
    "duration": 18,
    "start_time": "2024-11-15T01:21:23.495Z"
   },
   {
    "duration": 11,
    "start_time": "2024-11-15T01:22:08.419Z"
   },
   {
    "duration": 180,
    "start_time": "2024-11-15T01:24:51.876Z"
   },
   {
    "duration": 21,
    "start_time": "2024-11-15T01:25:30.530Z"
   },
   {
    "duration": 12,
    "start_time": "2024-11-15T01:26:45.097Z"
   },
   {
    "duration": 12,
    "start_time": "2024-11-15T01:26:58.955Z"
   },
   {
    "duration": 10,
    "start_time": "2024-11-15T01:27:30.794Z"
   },
   {
    "duration": 2,
    "start_time": "2024-11-15T01:27:46.126Z"
   },
   {
    "duration": 12,
    "start_time": "2024-11-15T01:28:32.368Z"
   },
   {
    "duration": 26,
    "start_time": "2024-11-15T01:28:51.239Z"
   },
   {
    "duration": 17,
    "start_time": "2024-11-15T01:29:45.855Z"
   },
   {
    "duration": 330,
    "start_time": "2024-11-15T13:33:55.821Z"
   },
   {
    "duration": 150,
    "start_time": "2024-11-15T13:33:56.153Z"
   },
   {
    "duration": 10,
    "start_time": "2024-11-15T13:33:56.305Z"
   },
   {
    "duration": 23,
    "start_time": "2024-11-15T13:33:56.318Z"
   },
   {
    "duration": 3,
    "start_time": "2024-11-15T13:33:56.343Z"
   },
   {
    "duration": 16,
    "start_time": "2024-11-15T13:33:56.348Z"
   },
   {
    "duration": 5,
    "start_time": "2024-11-15T13:33:56.365Z"
   },
   {
    "duration": 47,
    "start_time": "2024-11-15T13:33:56.372Z"
   },
   {
    "duration": 34,
    "start_time": "2024-11-15T13:33:56.421Z"
   },
   {
    "duration": 18,
    "start_time": "2024-11-15T13:33:56.459Z"
   },
   {
    "duration": 62,
    "start_time": "2024-11-15T13:33:56.479Z"
   },
   {
    "duration": 47,
    "start_time": "2024-11-15T13:33:56.543Z"
   },
   {
    "duration": 67,
    "start_time": "2024-11-15T13:33:56.592Z"
   },
   {
    "duration": 85,
    "start_time": "2024-11-15T13:33:56.660Z"
   },
   {
    "duration": 19,
    "start_time": "2024-11-15T13:33:56.747Z"
   },
   {
    "duration": 57,
    "start_time": "2024-11-15T13:33:56.768Z"
   },
   {
    "duration": 16,
    "start_time": "2024-11-15T13:33:56.827Z"
   },
   {
    "duration": 5,
    "start_time": "2024-11-15T13:33:56.845Z"
   },
   {
    "duration": 16,
    "start_time": "2024-11-15T13:33:56.852Z"
   },
   {
    "duration": 53,
    "start_time": "2024-11-15T13:33:56.870Z"
   },
   {
    "duration": 10,
    "start_time": "2024-11-15T13:33:56.925Z"
   },
   {
    "duration": 11,
    "start_time": "2024-11-15T13:33:56.937Z"
   },
   {
    "duration": 9,
    "start_time": "2024-11-15T13:33:56.949Z"
   },
   {
    "duration": 14,
    "start_time": "2024-11-15T13:33:56.960Z"
   },
   {
    "duration": 8,
    "start_time": "2024-11-15T13:34:14.312Z"
   }
  ],
  "kernelspec": {
   "display_name": "Python 3 (ipykernel)",
   "language": "python",
   "name": "python3"
  },
  "language_info": {
   "codemirror_mode": {
    "name": "ipython",
    "version": 3
   },
   "file_extension": ".py",
   "mimetype": "text/x-python",
   "name": "python",
   "nbconvert_exporter": "python",
   "pygments_lexer": "ipython3",
   "version": "3.9.19"
  },
  "toc": {
   "base_numbering": 1,
   "nav_menu": {},
   "number_sections": true,
   "sideBar": true,
   "skip_h1_title": true,
   "title_cell": "Table of Contents",
   "title_sidebar": "Contents",
   "toc_cell": false,
   "toc_position": {},
   "toc_section_display": true,
   "toc_window_display": false
  }
 },
 "nbformat": 4,
 "nbformat_minor": 5
}
