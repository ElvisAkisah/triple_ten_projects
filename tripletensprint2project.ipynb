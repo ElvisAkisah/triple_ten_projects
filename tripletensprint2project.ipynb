{
 "cells": [
  {
   "cell_type": "markdown",
   "id": "12b2ee24",
   "metadata": {},
   "source": [
    "<div style=\"border:solid green 2px; padding: 20px\">\n",
    "    \n",
    "<b>Hello, Elvis!</b> We're glad to see you in code-reviewer territory. You've done a great job on the project, but let's get to know each other and make it even better! We have our own atmosphere here and a few rules:\n",
    "\n",
    "\n",
    "1. I work as a code reviewer, and my main goal is not to point out your mistakes, but to share my experience and help you become a data analyst.\n",
    "2. We speak on a first-come-first-served basis.\n",
    "3. if you want to write or ask a question, don't be shy. Just choose your color for your comment.  \n",
    "4. this is a training project, you don't have to be afraid of making a mistake.  \n",
    "5. You have an unlimited number of attempts to pass the project.  \n",
    "6. Let's Go!\n",
    "\n",
    "\n",
    "---\n",
    "I'll be color-coding comments, please don't delete them:\n",
    "\n",
    "<div class=\"alert alert-block alert-danger\">✍\n",
    "    \n",
    "\n",
    "__Reviewer's comment №1__\n",
    "\n",
    "Needs fixing. The block requires some corrections. Work can't be accepted with the red comments.\n",
    "</div>\n",
    "    \n",
    "---\n",
    "\n",
    "<div class=\"alert alert-block alert-warning\">📝\n",
    "    \n",
    "\n",
    "__Reviewer's comment №1__\n",
    "\n",
    "\n",
    "Remarks. Some recommendations.\n",
    "</div>\n",
    "\n",
    "---\n",
    "\n",
    "<div class=\"alert alert-block alert-success\">✔️\n",
    "    \n",
    "\n",
    "__Reviewer's comment №1__\n",
    "\n",
    "Success. Everything is done succesfully.\n",
    "</div>\n",
    "    \n",
    "---\n",
    "    \n",
    "I suggest that we work on the project in dialogue: if you change something in the project or respond to my comments, write about it. It will be easier for me to track changes if you highlight your comments:   \n",
    "    \n",
    "<div class=\"alert alert-info\"> <b>Student сomments:</b> Student answer..</div>\n",
    "    \n",
    "All this will help to make the recheck of your project faster. If you have any questions about my comments, let me know, we'll figure it out together :)   \n",
    "    \n",
    "---"
   ]
  },
  {
   "cell_type": "markdown",
   "id": "e2ec4c50",
   "metadata": {},
   "source": [
    "<div class=\"alert alert-info\"> <b>Student сomments:</b>..</div>\n",
    "For this project I will need to import the following libraries:\n",
    "1. panda  for data analysis\n",
    "2. matplotlib.pyplot for data visualization and \n",
    "3. numpy for mathematical operations on arrays."
   ]
  },
  {
   "cell_type": "markdown",
   "id": "230e6fd5",
   "metadata": {},
   "source": [
    "<div class=\"alert alert-block alert-danger\">✍\n",
    "    \n",
    "\n",
    "__Reviewer's comment №1__\n",
    "\n",
    "An excellent practice is to describe the goal and main steps in your own words (a skill that will help a lot on a final project). It would be good to add the progress and purpose of the study."
   ]
  },
  {
   "cell_type": "markdown",
   "id": "8fbbfb05",
   "metadata": {},
   "source": [
    "<div class=\"alert alert-block alert-danger\">✍\n",
    "    \n",
    "\n",
    "__Reviewer's comment №2__\n",
    "\n",
    "You're missing the introductory part of the project. In which you have to describe in the markdown cell the purpose of the study and the course of action. So that the customer immediately understands what the project is about"
   ]
  },
  {
   "cell_type": "markdown",
   "id": "fc3db02e",
   "metadata": {},
   "source": [
    "<div class=\"alert alert-info\"> <b>Student сomments:</b> ..</div>\n",
    "This lesson is to  clean up the data and prepare a report that gives insight into the shopping habits of Instacart customers of a procery shop."
   ]
  },
  {
   "cell_type": "markdown",
   "id": "1118b020",
   "metadata": {},
   "source": [
    "<div class=\"alert alert-block alert-warning\">📝\n",
    "    \n",
    "\n",
    "__Reviewer's comment №3__\n",
    "\n",
    "please see an example\n",
    "    \n",
    "For this project, you’ll work with data from Instacart.\n",
    "\n",
    "Instacart is a grocery delivery platform where customers can place a grocery order and have it delivered to them, similar to how Uber Eats and Door Dash work. This particular dataset was publicly released by Instacart in 2017 for a Kaggle competition.\n",
    "\n",
    "Your mission is to clean up the data and prepare a report that gives insight into the shopping habits of Instacart customers.\n",
    "\n",
    "</div>"
   ]
  },
  {
   "cell_type": "markdown",
   "id": "c8252dc2",
   "metadata": {},
   "source": []
  },
  {
   "cell_type": "code",
   "execution_count": 1,
   "id": "fbf1adab",
   "metadata": {},
   "outputs": [],
   "source": [
    "import pandas as pd\n",
    "import matplotlib.pyplot as plt\n",
    "import numpy as np"
   ]
  },
  {
   "cell_type": "markdown",
   "id": "d339e71d",
   "metadata": {},
   "source": [
    "<div class=\"alert alert-block alert-warning\">📝\n",
    "    \n",
    "\n",
    "__Reviewer's comment №1__\n",
    "\n",
    "All necessary libraries should be unloaded at the beginning of the project in one code cell"
   ]
  },
  {
   "cell_type": "markdown",
   "id": "6a54ad36",
   "metadata": {},
   "source": [
    "only instacart_orders and "
   ]
  },
  {
   "cell_type": "code",
   "execution_count": 2,
   "id": "ad36396d",
   "metadata": {},
   "outputs": [
    {
     "name": "stdout",
     "output_type": "stream",
     "text": [
      "<class 'pandas.core.frame.DataFrame'>\n",
      "RangeIndex: 478967 entries, 0 to 478966\n",
      "Data columns (total 6 columns):\n",
      " #   Column                  Non-Null Count   Dtype  \n",
      "---  ------                  --------------   -----  \n",
      " 0   order_id                478967 non-null  int64  \n",
      " 1   user_id                 478967 non-null  int64  \n",
      " 2   order_number            478967 non-null  int64  \n",
      " 3   order_dow               478967 non-null  int64  \n",
      " 4   order_hour_of_day       478967 non-null  int64  \n",
      " 5   days_since_prior_order  450148 non-null  float64\n",
      "dtypes: float64(1), int64(5)\n",
      "memory usage: 21.9 MB\n"
     ]
    }
   ],
   "source": [
    "df_orders = pd.read_csv('/datasets/instacart_orders.csv',sep = ';')\n",
    "# df_orders.info(show_counts = True)\n",
    "# df_orders.head(1)\n",
    "df_orders.info()"
   ]
  },
  {
   "cell_type": "code",
   "execution_count": 3,
   "id": "ad6a1efa",
   "metadata": {},
   "outputs": [
    {
     "name": "stdout",
     "output_type": "stream",
     "text": [
      "<class 'pandas.core.frame.DataFrame'>\n",
      "RangeIndex: 49694 entries, 0 to 49693\n",
      "Data columns (total 4 columns):\n",
      " #   Column         Non-Null Count  Dtype \n",
      "---  ------         --------------  ----- \n",
      " 0   product_id     49694 non-null  int64 \n",
      " 1   product_name   48436 non-null  object\n",
      " 2   aisle_id       49694 non-null  int64 \n",
      " 3   department_id  49694 non-null  int64 \n",
      "dtypes: int64(3), object(1)\n",
      "memory usage: 1.5+ MB\n"
     ]
    }
   ],
   "source": [
    "df_products = pd.read_csv('/datasets/products.csv',sep = ';')\n",
    "df_products.head(1)\n",
    "df_products.info(show_counts = True)"
   ]
  },
  {
   "cell_type": "code",
   "execution_count": 4,
   "id": "5130e05e",
   "metadata": {},
   "outputs": [
    {
     "name": "stdout",
     "output_type": "stream",
     "text": [
      "<class 'pandas.core.frame.DataFrame'>\n",
      "RangeIndex: 134 entries, 0 to 133\n",
      "Data columns (total 2 columns):\n",
      " #   Column    Non-Null Count  Dtype \n",
      "---  ------    --------------  ----- \n",
      " 0   aisle_id  134 non-null    int64 \n",
      " 1   aisle     134 non-null    object\n",
      "dtypes: int64(1), object(1)\n",
      "memory usage: 2.2+ KB\n"
     ]
    }
   ],
   "source": [
    "df_aisles = pd.read_csv('/datasets/aisles.csv',sep =';')\n",
    "df_aisles.head(1)\n",
    "df_aisles.info()"
   ]
  },
  {
   "cell_type": "code",
   "execution_count": 5,
   "id": "d8370c05",
   "metadata": {},
   "outputs": [
    {
     "data": {
      "text/html": [
       "<div>\n",
       "<style scoped>\n",
       "    .dataframe tbody tr th:only-of-type {\n",
       "        vertical-align: middle;\n",
       "    }\n",
       "\n",
       "    .dataframe tbody tr th {\n",
       "        vertical-align: top;\n",
       "    }\n",
       "\n",
       "    .dataframe thead th {\n",
       "        text-align: right;\n",
       "    }\n",
       "</style>\n",
       "<table border=\"1\" class=\"dataframe\">\n",
       "  <thead>\n",
       "    <tr style=\"text-align: right;\">\n",
       "      <th></th>\n",
       "      <th>department_id</th>\n",
       "      <th>department</th>\n",
       "    </tr>\n",
       "  </thead>\n",
       "  <tbody>\n",
       "    <tr>\n",
       "      <th>0</th>\n",
       "      <td>1</td>\n",
       "      <td>frozen</td>\n",
       "    </tr>\n",
       "  </tbody>\n",
       "</table>\n",
       "</div>"
      ],
      "text/plain": [
       "   department_id department\n",
       "0              1     frozen"
      ]
     },
     "execution_count": 5,
     "metadata": {},
     "output_type": "execute_result"
    }
   ],
   "source": [
    "df_departments = pd.read_csv('/datasets/departments.csv',sep = ';')\n",
    "# df_departments.info()\n",
    "df_departments.head(1)"
   ]
  },
  {
   "cell_type": "code",
   "execution_count": 6,
   "id": "59e2090f",
   "metadata": {},
   "outputs": [
    {
     "data": {
      "text/html": [
       "<div>\n",
       "<style scoped>\n",
       "    .dataframe tbody tr th:only-of-type {\n",
       "        vertical-align: middle;\n",
       "    }\n",
       "\n",
       "    .dataframe tbody tr th {\n",
       "        vertical-align: top;\n",
       "    }\n",
       "\n",
       "    .dataframe thead th {\n",
       "        text-align: right;\n",
       "    }\n",
       "</style>\n",
       "<table border=\"1\" class=\"dataframe\">\n",
       "  <thead>\n",
       "    <tr style=\"text-align: right;\">\n",
       "      <th></th>\n",
       "      <th>order_id</th>\n",
       "      <th>product_id</th>\n",
       "      <th>add_to_cart_order</th>\n",
       "      <th>reordered</th>\n",
       "    </tr>\n",
       "  </thead>\n",
       "  <tbody>\n",
       "    <tr>\n",
       "      <th>0</th>\n",
       "      <td>2141543</td>\n",
       "      <td>11440</td>\n",
       "      <td>17.0</td>\n",
       "      <td>0</td>\n",
       "    </tr>\n",
       "  </tbody>\n",
       "</table>\n",
       "</div>"
      ],
      "text/plain": [
       "   order_id  product_id  add_to_cart_order  reordered\n",
       "0   2141543       11440               17.0          0"
      ]
     },
     "execution_count": 6,
     "metadata": {},
     "output_type": "execute_result"
    }
   ],
   "source": [
    "df_orders_products = pd.read_csv('/datasets/order_products.csv',sep = ';')\n",
    "df_orders_products.head(1)\n",
    "# df_orders_products.info()"
   ]
  },
  {
   "cell_type": "markdown",
   "id": "52776bfc",
   "metadata": {},
   "source": [
    "<div class=\"alert alert-block alert-warning\">📝\n",
    "    \n",
    "\n",
    "__Reviewer's comment №1__\n",
    "\n",
    "It would be good to comment on the data somehow"
   ]
  },
  {
   "cell_type": "markdown",
   "id": "7a2dc7a1",
   "metadata": {},
   "source": [
    "<div class=\"alert alert-info\"> <b>Student сomments:</b> ..</div>\n",
    "For the  df_orders, the days_since_prior_order column has some missing values.\n",
    "The product_name of the df_products have some missing values\n",
    "The df_orders_products, df_products and df_orders have the product_id and order_id columns\n",
    "The df_departments and df_aisles have just two columns each"
   ]
  },
  {
   "cell_type": "markdown",
   "id": "07357848-dc64-4156-9cc3-01ff4365226d",
   "metadata": {},
   "source": [
    "## Find and remove duplicate values (and describe why you make your choices)"
   ]
  },
  {
   "cell_type": "markdown",
   "id": "f179f0a9",
   "metadata": {},
   "source": [
    "### `orders` data frame"
   ]
  },
  {
   "cell_type": "code",
   "execution_count": 7,
   "id": "b99297a5-405a-463d-8535-9adc3da4ad74",
   "metadata": {},
   "outputs": [
    {
     "data": {
      "text/plain": [
       "15"
      ]
     },
     "execution_count": 7,
     "metadata": {},
     "output_type": "execute_result"
    }
   ],
   "source": [
    "# Check for duplicated orders\n",
    "df_orders.duplicated().sum()"
   ]
  },
  {
   "cell_type": "code",
   "execution_count": 8,
   "id": "0d44de5d",
   "metadata": {},
   "outputs": [
    {
     "data": {
      "text/plain": [
       "0"
      ]
     },
     "execution_count": 8,
     "metadata": {},
     "output_type": "execute_result"
    }
   ],
   "source": [
    "# Check for all orders placed Wednesday at 2:00 AM\n",
    "df_orders[(df_orders['order_hour_of_day']==14)&(df_orders['order_dow']==3)].duplicated().sum()"
   ]
  },
  {
   "cell_type": "code",
   "execution_count": 9,
   "id": "480563c7",
   "metadata": {},
   "outputs": [],
   "source": [
    "# Remove duplicate orders\n",
    "df_orders.drop_duplicates(inplace=True)"
   ]
  },
  {
   "cell_type": "code",
   "execution_count": 10,
   "id": "0b2396a2",
   "metadata": {},
   "outputs": [
    {
     "data": {
      "text/plain": [
       "0"
      ]
     },
     "execution_count": 10,
     "metadata": {},
     "output_type": "execute_result"
    }
   ],
   "source": [
    "# Double check for duplicate rows\n",
    "df_orders.duplicated().sum()"
   ]
  },
  {
   "cell_type": "code",
   "execution_count": 11,
   "id": "f6113ef1",
   "metadata": {},
   "outputs": [
    {
     "data": {
      "text/plain": [
       "0"
      ]
     },
     "execution_count": 11,
     "metadata": {},
     "output_type": "execute_result"
    }
   ],
   "source": [
    "# Double check for duplicate order IDs only\n",
    "df_orders.duplicated(subset =['order_id','user_id'] ).sum()"
   ]
  },
  {
   "cell_type": "markdown",
   "id": "5e8905ae",
   "metadata": {},
   "source": [
    "<div class=\"alert alert-block alert-success\">✔️\n",
    "    \n",
    "\n",
    "__Reviewer's comment №1__\n",
    "\n",
    "Duplicate checking is the basis of data preprocessing"
   ]
  },
  {
   "cell_type": "markdown",
   "id": "45e6bc46",
   "metadata": {},
   "source": [
    "### `products` data frame"
   ]
  },
  {
   "cell_type": "code",
   "execution_count": 12,
   "id": "5f526b5b-8175-46fa-a0fd-441767d50e64",
   "metadata": {},
   "outputs": [
    {
     "data": {
      "text/plain": [
       "0"
      ]
     },
     "execution_count": 12,
     "metadata": {},
     "output_type": "execute_result"
    }
   ],
   "source": [
    "# Check for fully duplicate rows\n",
    "df_products.duplicated().sum()"
   ]
  },
  {
   "cell_type": "code",
   "execution_count": 13,
   "id": "88daa4f4",
   "metadata": {},
   "outputs": [
    {
     "data": {
      "text/plain": [
       "0"
      ]
     },
     "execution_count": 13,
     "metadata": {},
     "output_type": "execute_result"
    }
   ],
   "source": [
    "# Check for just duplicate product IDs\n",
    "ids_columns = [col for col in df_products if col != 'product_name']\n",
    "df_products.duplicated(subset = ids_columns).sum()"
   ]
  },
  {
   "cell_type": "code",
   "execution_count": 14,
   "id": "c773f0bf",
   "metadata": {},
   "outputs": [
    {
     "data": {
      "text/plain": [
       "1361"
      ]
     },
     "execution_count": 14,
     "metadata": {},
     "output_type": "execute_result"
    }
   ],
   "source": [
    "# Check for just duplicate product names (convert names to lowercase to compare better)\n",
    "product_name = df_products['product_name'].str.lower()\n",
    "product_name.duplicated().sum()"
   ]
  },
  {
   "cell_type": "markdown",
   "id": "5ffef5ec",
   "metadata": {},
   "source": [
    "The oders data frame has 15 duplicated rows while the products dataframe has 1361 duplicated values on the product_name coloumn "
   ]
  },
  {
   "cell_type": "markdown",
   "id": "9da8d293",
   "metadata": {},
   "source": [
    "<div class=\"alert alert-info\"> <b>Student сomments:</b> ..</div>\n",
    "the products data frame has no duplicated rows. However, the product_name coloumn has some dupliacted values"
   ]
  },
  {
   "cell_type": "markdown",
   "id": "60f30db1",
   "metadata": {},
   "source": [
    "### `departments` data frame"
   ]
  },
  {
   "cell_type": "code",
   "execution_count": 15,
   "id": "fb410ad4-0fbf-4b80-bb09-23fdea79afe3",
   "metadata": {},
   "outputs": [
    {
     "name": "stdout",
     "output_type": "stream",
     "text": [
      "<class 'pandas.core.frame.DataFrame'>\n",
      "RangeIndex: 21 entries, 0 to 20\n",
      "Data columns (total 2 columns):\n",
      " #   Column         Non-Null Count  Dtype \n",
      "---  ------         --------------  ----- \n",
      " 0   department_id  21 non-null     int64 \n",
      " 1   department     21 non-null     object\n",
      "dtypes: int64(1), object(1)\n",
      "memory usage: 464.0+ bytes\n"
     ]
    }
   ],
   "source": [
    "df_departments.info()"
   ]
  },
  {
   "cell_type": "code",
   "execution_count": 16,
   "id": "332b12bb",
   "metadata": {},
   "outputs": [
    {
     "data": {
      "text/plain": [
       "0"
      ]
     },
     "execution_count": 16,
     "metadata": {},
     "output_type": "execute_result"
    }
   ],
   "source": [
    "df_departments.duplicated().sum()"
   ]
  },
  {
   "cell_type": "markdown",
   "id": "bd30d78e",
   "metadata": {},
   "source": [
    "<div class=\"alert alert-info\"> <b>Student сomments:</b> ..</div>\n",
    "the departments data frame is clean"
   ]
  },
  {
   "cell_type": "markdown",
   "id": "889349c1",
   "metadata": {},
   "source": [
    "### `aisles` data frame"
   ]
  },
  {
   "cell_type": "code",
   "execution_count": 17,
   "id": "9da89fb9-4679-40f5-ad0d-c34df753a3f8",
   "metadata": {},
   "outputs": [
    {
     "name": "stdout",
     "output_type": "stream",
     "text": [
      "<class 'pandas.core.frame.DataFrame'>\n",
      "RangeIndex: 134 entries, 0 to 133\n",
      "Data columns (total 2 columns):\n",
      " #   Column    Non-Null Count  Dtype \n",
      "---  ------    --------------  ----- \n",
      " 0   aisle_id  134 non-null    int64 \n",
      " 1   aisle     134 non-null    object\n",
      "dtypes: int64(1), object(1)\n",
      "memory usage: 2.2+ KB\n"
     ]
    }
   ],
   "source": [
    "df_aisles.info()"
   ]
  },
  {
   "cell_type": "code",
   "execution_count": 18,
   "id": "da7c2822",
   "metadata": {},
   "outputs": [
    {
     "data": {
      "text/plain": [
       "0"
      ]
     },
     "execution_count": 18,
     "metadata": {},
     "output_type": "execute_result"
    }
   ],
   "source": [
    "df_aisles.duplicated().sum()"
   ]
  },
  {
   "cell_type": "markdown",
   "id": "ac63826f",
   "metadata": {},
   "source": [
    "The department and aisles data frames are now ready for analysis"
   ]
  },
  {
   "cell_type": "markdown",
   "id": "274cd06a",
   "metadata": {},
   "source": [
    "### `order_products` data frame"
   ]
  },
  {
   "cell_type": "code",
   "execution_count": 19,
   "id": "52326689-84a8-4b8f-a881-7c68780f62c9",
   "metadata": {},
   "outputs": [
    {
     "data": {
      "text/plain": [
       "0"
      ]
     },
     "execution_count": 19,
     "metadata": {},
     "output_type": "execute_result"
    }
   ],
   "source": [
    "# Check for fullly duplicate rows\n",
    "df_orders_products.duplicated().sum()"
   ]
  },
  {
   "cell_type": "code",
   "execution_count": 20,
   "id": "7b861391",
   "metadata": {},
   "outputs": [
    {
     "data": {
      "text/plain": [
       "4544942"
      ]
     },
     "execution_count": 20,
     "metadata": {},
     "output_type": "execute_result"
    }
   ],
   "source": [
    "# Double check for any other tricky duplicates\n",
    "df_orders_products['add_to_cart_order'].duplicated().sum()"
   ]
  },
  {
   "cell_type": "markdown",
   "id": "0b890492",
   "metadata": {},
   "source": [
    "<div class=\"alert alert-block alert-success\">✔️\n",
    "    \n",
    "\n",
    "__Reviewer's comment №1__\n",
    "\n",
    "Great"
   ]
  },
  {
   "cell_type": "markdown",
   "id": "1e46de76",
   "metadata": {},
   "source": [
    "## Find and remove missing values\n"
   ]
  },
  {
   "cell_type": "markdown",
   "id": "c0aebd78",
   "metadata": {},
   "source": [
    "### `products` data frame"
   ]
  },
  {
   "cell_type": "code",
   "execution_count": 21,
   "id": "fe4a8b0f",
   "metadata": {},
   "outputs": [
    {
     "data": {
      "text/plain": [
       "product_id          0\n",
       "product_name     1258\n",
       "aisle_id            0\n",
       "department_id       0\n",
       "dtype: int64"
      ]
     },
     "execution_count": 21,
     "metadata": {},
     "output_type": "execute_result"
    }
   ],
   "source": [
    "df_products.isnull().sum()"
   ]
  },
  {
   "cell_type": "code",
   "execution_count": 22,
   "id": "e96167bc",
   "metadata": {
    "scrolled": false
   },
   "outputs": [
    {
     "data": {
      "text/plain": [
       "product_id       0\n",
       "product_name     0\n",
       "aisle_id         0\n",
       "department_id    0\n",
       "dtype: int64"
      ]
     },
     "execution_count": 22,
     "metadata": {},
     "output_type": "execute_result"
    }
   ],
   "source": [
    "# Are all of the missing product names associated with aisle ID 100?\n",
    "df_100 = df_products[df_products['aisle_id']>100]\n",
    "df_100.isnull().sum()"
   ]
  },
  {
   "attachments": {
    "image.png": {
     "image/png": "[encoded data removed]"
    }
   },
   "cell_type": "markdown",
   "id": "c696b331",
   "metadata": {},
   "source": [
    "<div class=\"alert alert-block alert-danger\">✍\n",
    "    \n",
    "\n",
    "__Reviewer's comment №1__\n",
    "\n",
    "Some blocks of code are not working. Please see what went wrong. Before submitting a project, you should check if the code works - you can do this by clicking on the Jupiter Hub Kernel and Restart & Run All panels ![image.png](attachment:image.png)"
   ]
  },
  {
   "cell_type": "markdown",
   "id": "fef85a55",
   "metadata": {},
   "source": [
    "\n",
    "I have tried everthing but the code doesn't recognise the aisle_id column"
   ]
  },
  {
   "cell_type": "code",
   "execution_count": 23,
   "id": "b8dc610f",
   "metadata": {},
   "outputs": [
    {
     "data": {
      "text/html": [
       "<div>\n",
       "<style scoped>\n",
       "    .dataframe tbody tr th:only-of-type {\n",
       "        vertical-align: middle;\n",
       "    }\n",
       "\n",
       "    .dataframe tbody tr th {\n",
       "        vertical-align: top;\n",
       "    }\n",
       "\n",
       "    .dataframe thead th {\n",
       "        text-align: right;\n",
       "    }\n",
       "</style>\n",
       "<table border=\"1\" class=\"dataframe\">\n",
       "  <thead>\n",
       "    <tr style=\"text-align: right;\">\n",
       "      <th></th>\n",
       "      <th>product_id</th>\n",
       "      <th>product_name</th>\n",
       "      <th>aisle_id</th>\n",
       "      <th>department_id</th>\n",
       "    </tr>\n",
       "  </thead>\n",
       "  <tbody>\n",
       "    <tr>\n",
       "      <th>0</th>\n",
       "      <td>1</td>\n",
       "      <td>Chocolate Sandwich Cookies</td>\n",
       "      <td>61</td>\n",
       "      <td>19</td>\n",
       "    </tr>\n",
       "  </tbody>\n",
       "</table>\n",
       "</div>"
      ],
      "text/plain": [
       "   product_id                product_name  aisle_id  department_id\n",
       "0           1  Chocolate Sandwich Cookies        61             19"
      ]
     },
     "execution_count": 23,
     "metadata": {},
     "output_type": "execute_result"
    }
   ],
   "source": [
    "df_products.head(1)"
   ]
  },
  {
   "attachments": {
    "image.png": {
     "image/png": "[encoded data removed]"
    }
   },
   "cell_type": "markdown",
   "id": "33aa8a6d",
   "metadata": {},
   "source": [
    "<div class=\"alert alert-block alert-danger\">✍\n",
    "    \n",
    "\n",
    "__Reviewer's comment №2__\n",
    "    \n",
    "The df_products variable does not have this column because you overwrote this variable in cell 14 (which is an error).\n",
    "\n",
    "![image.png](attachment:image.png)"
   ]
  },
  {
   "cell_type": "code",
   "execution_count": 24,
   "id": "8fd0a541",
   "metadata": {},
   "outputs": [
    {
     "data": {
      "text/plain": [
       "product_id          0\n",
       "product_name     1258\n",
       "aisle_id            0\n",
       "department_id       0\n",
       "dtype: int64"
      ]
     },
     "execution_count": 24,
     "metadata": {},
     "output_type": "execute_result"
    }
   ],
   "source": [
    "# Are all of the missing product names associated with department ID 21?\n",
    "df_products[df_products['department_id']==21].isnull().sum()"
   ]
  },
  {
   "cell_type": "code",
   "execution_count": 25,
   "id": "325c3464",
   "metadata": {},
   "outputs": [],
   "source": [
    "# What is this ailse and department?\n"
   ]
  },
  {
   "cell_type": "code",
   "execution_count": 26,
   "id": "6b295120",
   "metadata": {},
   "outputs": [],
   "source": [
    "# Fill missing product names with 'Unknown'\n",
    "df_products['product_name']=df_products['product_name'].fillna('Unknown')"
   ]
  },
  {
   "cell_type": "markdown",
   "id": "69b00348",
   "metadata": {},
   "source": [
    "<div class=\"alert alert-block alert-success\">✔️\n",
    "    \n",
    "\n",
    "__Reviewer's comment №2__\n",
    "\n",
    "You chose the most correct way to replace the omissions in the categorical column. Well done!)"
   ]
  },
  {
   "cell_type": "markdown",
   "id": "fc70e5ad",
   "metadata": {},
   "source": []
  },
  {
   "cell_type": "markdown",
   "id": "7eb45c86",
   "metadata": {},
   "source": [
    "### `orders` data frame"
   ]
  },
  {
   "cell_type": "code",
   "execution_count": 27,
   "id": "93e41d96",
   "metadata": {},
   "outputs": [
    {
     "data": {
      "text/plain": [
       "order_id                      0\n",
       "user_id                       0\n",
       "order_number                  0\n",
       "order_dow                     0\n",
       "order_hour_of_day             0\n",
       "days_since_prior_order    28817\n",
       "dtype: int64"
      ]
     },
     "execution_count": 27,
     "metadata": {},
     "output_type": "execute_result"
    }
   ],
   "source": [
    "df_orders.isnull().sum()"
   ]
  },
  {
   "cell_type": "code",
   "execution_count": 28,
   "id": "166e5a86",
   "metadata": {},
   "outputs": [
    {
     "data": {
      "text/plain": [
       "order_id                  0\n",
       "user_id                   0\n",
       "order_number              0\n",
       "order_dow                 0\n",
       "order_hour_of_day         0\n",
       "days_since_prior_order    0\n",
       "dtype: int64"
      ]
     },
     "execution_count": 28,
     "metadata": {},
     "output_type": "execute_result"
    }
   ],
   "source": [
    "# Are there any missing values where it's not a customer's first order?\n",
    "df_orders[df_orders['order_number']!=1].isnull().sum()"
   ]
  },
  {
   "cell_type": "markdown",
   "id": "4e23d089",
   "metadata": {},
   "source": [
    "\n"
   ]
  },
  {
   "cell_type": "markdown",
   "id": "69dc9ca4",
   "metadata": {},
   "source": [
    "### `order_products` data frame"
   ]
  },
  {
   "cell_type": "code",
   "execution_count": 29,
   "id": "b8240253",
   "metadata": {},
   "outputs": [
    {
     "data": {
      "text/plain": [
       "order_id               0\n",
       "product_id             0\n",
       "add_to_cart_order    836\n",
       "reordered              0\n",
       "dtype: int64"
      ]
     },
     "execution_count": 29,
     "metadata": {},
     "output_type": "execute_result"
    }
   ],
   "source": [
    "df_orders_products.isnull().sum()"
   ]
  },
  {
   "cell_type": "code",
   "execution_count": 30,
   "id": "9a78e5ee",
   "metadata": {},
   "outputs": [
    {
     "data": {
      "text/plain": [
       "(1.0, 64.0)"
      ]
     },
     "execution_count": 30,
     "metadata": {},
     "output_type": "execute_result"
    }
   ],
   "source": [
    "# What are the min and max values in this column?\n",
    "df_orders_products['add_to_cart_order'].min(),df_orders_products['add_to_cart_order'].max()"
   ]
  },
  {
   "cell_type": "code",
   "execution_count": 31,
   "id": "ab9d0c2b",
   "metadata": {},
   "outputs": [],
   "source": [
    "# Save all order IDs with at least one missing value in 'add_to_cart_order'"
   ]
  },
  {
   "cell_type": "code",
   "execution_count": 32,
   "id": "54c31695",
   "metadata": {},
   "outputs": [
    {
     "data": {
      "text/plain": [
       "order_id             0.0\n",
       "product_id           0.0\n",
       "add_to_cart_order    0.0\n",
       "reordered            0.0\n",
       "dtype: float64"
      ]
     },
     "execution_count": 32,
     "metadata": {},
     "output_type": "execute_result"
    }
   ],
   "source": [
    "# Do all orders with missing values have more than 64 products?\n",
    "df_orders_products[df_orders_products['add_to_cart_order']>64].isnull().sum()"
   ]
  },
  {
   "cell_type": "code",
   "execution_count": 33,
   "id": "7a987d08",
   "metadata": {},
   "outputs": [],
   "source": [
    "# Replace missing values with 999 and convert column to integer type\n",
    "df_orders_products.fillna(999,inplace = True)\n",
    "df_orders_products['add_to_cart_order'] = df_orders_products['add_to_cart_order'].astype(int)"
   ]
  },
  {
   "cell_type": "markdown",
   "id": "fea4bcc7",
   "metadata": {},
   "source": [
    "<div class=\"alert alert-block alert-warning\">📝\n",
    "    \n",
    "\n",
    "__Reviewer's comment №2__\n",
    "\n",
    "\n",
    "Replacing it with 999/-1 etc is not really good. Tip for the future, look, it's not good to try to fill in the blanks left and right. In real work - replace with zero now, then forget and average count a month later. Plus there may be times when a bonus purchase or gift, will cost zero. In general, if it is possible to leave skips as skips - and here it can be done, it is better to do so, the results, even if we want to calculate something - it will not affect the results\n",
    "\n",
    "It is better to use this code construction:\n",
    "    \n",
    "    data[''] = data[''].astype('Int64', errors='ignore')\n",
    "</div>"
   ]
  },
  {
   "cell_type": "markdown",
   "id": "922dc940",
   "metadata": {},
   "source": [
    "<div class=\"alert alert-info\"> <b>Student сomments:</b> ..</div>\n",
    "noted sir"
   ]
  },
  {
   "cell_type": "markdown",
   "id": "turkish-kidney",
   "metadata": {},
   "source": [
    "# [A] Easy (must complete all to pass)"
   ]
  },
  {
   "cell_type": "markdown",
   "id": "short-capability",
   "metadata": {},
   "source": [
    "### [A1] Verify that the `'order_hour_of_day'` and `'order_dow'` values in the `orders` tables are sensible (i.e. `'order_hour_of_day'` ranges from 0 to 23 and `'order_dow'` ranges from 0 to 6)"
   ]
  },
  {
   "cell_type": "code",
   "execution_count": 34,
   "id": "growing-fruit",
   "metadata": {},
   "outputs": [
    {
     "data": {
      "text/plain": [
       "(0, 23)"
      ]
     },
     "execution_count": 34,
     "metadata": {},
     "output_type": "execute_result"
    }
   ],
   "source": [
    "df_orders['order_hour_of_day'].min(),df_orders['order_hour_of_day'].max()"
   ]
  },
  {
   "cell_type": "code",
   "execution_count": 35,
   "id": "accessory-malaysia",
   "metadata": {},
   "outputs": [
    {
     "data": {
      "text/plain": [
       "(0, 6)"
      ]
     },
     "execution_count": 35,
     "metadata": {},
     "output_type": "execute_result"
    }
   ],
   "source": [
    "df_orders['order_dow'].min(),df_orders['order_dow'].max()"
   ]
  },
  {
   "cell_type": "markdown",
   "id": "a6743a70",
   "metadata": {},
   "source": [
    "### [A2] What time of day do people shop for groceries?"
   ]
  },
  {
   "cell_type": "code",
   "execution_count": 36,
   "id": "a36cca27",
   "metadata": {},
   "outputs": [
    {
     "data": {
      "image/png": "[encoded data removed]",
      "text/plain": [
       "<Figure size 640x480 with 1 Axes>"
      ]
     },
     "metadata": {},
     "output_type": "display_data"
    }
   ],
   "source": [
    "hour_of_day_counts = df_orders[\"order_hour_of_day\"].value_counts().sort_index()\n",
    "hour_of_day_counts.plot(\n",
    "    kind=\"bar\",\n",
    "    title=\"Orders by time of day\",\n",
    "    xlabel=\"Hour of day\",\n",
    "    ylabel=\"Number of orders\",\n",
    ")\n",
    "plt.show()\n"
   ]
  },
  {
   "cell_type": "markdown",
   "id": "e52a780d",
   "metadata": {},
   "source": [
    "<div class=\"alert alert-info\"> <b>Student сomments:</b> ..</div>\n",
    "From the graph, more customers placed orders at between the 10th and 15th hour of the day, with the 10th hour of the day having the highest number of orders.\n",
    "The 3th and 4th hour of the day have the least number of orders."
   ]
  },
  {
   "cell_type": "markdown",
   "id": "11270eed",
   "metadata": {},
   "source": [
    "<div class=\"alert alert-block alert-danger\">✍\n",
    "    \n",
    "\n",
    "__Reviewer's comment №2__\n",
    "\n",
    "It is better after each section, graph (or series of tests) to write a conclusion on the obtained data taking into account the set business task - so it is easier to read the project, because future colleagues or customers will not have to interpret the results of each section, test or graph themselves.\n",
    "    \n",
    "---\n",
    "    \n",
    "In markdown ![image.png](attachment:image.png)"
   ]
  },
  {
   "cell_type": "markdown",
   "id": "48c82bed",
   "metadata": {},
   "source": [
    "<div class=\"alert alert-block alert-success\">✔️\n",
    "    \n",
    "\n",
    "__Reviewer's comment №3__\n",
    "Now correct"
   ]
  },
  {
   "cell_type": "markdown",
   "id": "documented-command",
   "metadata": {},
   "source": [
    "### [A3] What day of the week do people shop for groceries?"
   ]
  },
  {
   "cell_type": "code",
   "execution_count": 37,
   "id": "chief-digit",
   "metadata": {},
   "outputs": [
    {
     "data": {
      "image/png": "[encoded data removed]",
      "text/plain": [
       "<Figure size 640x480 with 1 Axes>"
      ]
     },
     "metadata": {},
     "output_type": "display_data"
    }
   ],
   "source": [
    "dow_counts = df_orders[\"order_dow\"].value_counts().sort_index()\n",
    "dow_counts.plot(\n",
    "    kind=\"bar\",\n",
    "    title=\"Shopping day of the week\",\n",
    "    xlabel=\"days of the week\",\n",
    "    ylabel=\"Number of orders\",\n",
    ")\n",
    "plt.show()"
   ]
  },
  {
   "cell_type": "markdown",
   "id": "dominant-lightning",
   "metadata": {},
   "source": [
    "Most orders of the week and done on Sunday and the least on Thursday.\n",
    "From the graph, the least number of orders each day is between 50000 and 60000 is is not bad."
   ]
  },
  {
   "cell_type": "markdown",
   "id": "cutting-concert",
   "metadata": {},
   "source": [
    "### [A4] How long do people wait until placing another order?"
   ]
  },
  {
   "cell_type": "code",
   "execution_count": 38,
   "id": "c231f523",
   "metadata": {},
   "outputs": [
    {
     "data": {
      "image/png": "[encoded data removed]",
      "text/plain": [
       "<Figure size 640x480 with 1 Axes>"
      ]
     },
     "metadata": {},
     "output_type": "display_data"
    }
   ],
   "source": [
    "waiting_period_counts = df_orders[\"days_since_prior_order\"].value_counts().sort_index()\n",
    "waiting_period_counts.plot(\n",
    "    kind=\"bar\",\n",
    "    title=\"waiting periods\",\n",
    "    xlabel=\"Prior order days\",\n",
    "    ylabel=\"Number of orders\",\n",
    ")\n",
    "plt.show()"
   ]
  },
  {
   "cell_type": "markdown",
   "id": "discrete-vertex",
   "metadata": {},
   "source": [
    "<div class=\"alert alert-info\"> <b>Student сomments:</b> ..</div>\n",
    "The hightest number of  customers can wait for up to 30day before placind an order.\n",
    "If we ignore this, we see that there is right skew meaning the average time for customer to place their orders id around 7 days "
   ]
  },
  {
   "cell_type": "markdown",
   "id": "ef7ab2f3",
   "metadata": {},
   "source": [
    "<div class=\"alert alert-block alert-success\">✔️\n",
    "    \n",
    "\n",
    "__Reviewer's comment №2__\n",
    "\n",
    "The 0 values probably correspond to customers who placed more than one order on the same day."
   ]
  },
  {
   "cell_type": "markdown",
   "id": "8d926614",
   "metadata": {},
   "source": []
  },
  {
   "cell_type": "markdown",
   "id": "tight-staff",
   "metadata": {},
   "source": [
    "# [B] Medium (must complete all to pass)"
   ]
  },
  {
   "cell_type": "markdown",
   "id": "packed-classic",
   "metadata": {},
   "source": [
    "### [B1] Is there a difference in `'order_hour_of_day'` distributions on Wednesdays and Saturdays? Plot the histograms for both days and describe the differences that you see."
   ]
  },
  {
   "cell_type": "code",
   "execution_count": 39,
   "id": "d89b8403",
   "metadata": {},
   "outputs": [],
   "source": [
    "wednesday_counts = df_orders[ df_orders[ 'order_dow']==3]['order_hour_of_day'].value_counts().sort_index()"
   ]
  },
  {
   "cell_type": "code",
   "execution_count": 40,
   "id": "94e54e8a",
   "metadata": {},
   "outputs": [],
   "source": [
    "saturday_counts = df_orders[df_orders[\"order_dow\"]==6]['order_hour_of_day'].value_counts().sort_index()"
   ]
  },
  {
   "cell_type": "code",
   "execution_count": 41,
   "id": "797c90a8",
   "metadata": {},
   "outputs": [
    {
     "data": {
      "image/png": "[encoded data removed]",
      "text/plain": [
       "<Figure size 640x480 with 1 Axes>"
      ]
     },
     "metadata": {},
     "output_type": "display_data"
    }
   ],
   "source": [
    "hour_counts = pd.concat([wednesday_counts , saturday_counts], axis=1)\n",
    "hour_counts.columns = [ 'Wednesday', 'Saturday']\n",
    "hour_counts.plot(kind='bar',title ='wednesday and Saturday distribution', ylabel = 'number of orders', xlabel = 'hour of the day')\n",
    "\n",
    "plt.show()"
   ]
  },
  {
   "cell_type": "code",
   "execution_count": 42,
   "id": "35bcea30",
   "metadata": {},
   "outputs": [
    {
     "data": {
      "text/html": [
       "<div>\n",
       "<style scoped>\n",
       "    .dataframe tbody tr th:only-of-type {\n",
       "        vertical-align: middle;\n",
       "    }\n",
       "\n",
       "    .dataframe tbody tr th {\n",
       "        vertical-align: top;\n",
       "    }\n",
       "\n",
       "    .dataframe thead th {\n",
       "        text-align: right;\n",
       "    }\n",
       "</style>\n",
       "<table border=\"1\" class=\"dataframe\">\n",
       "  <thead>\n",
       "    <tr style=\"text-align: right;\">\n",
       "      <th></th>\n",
       "      <th>order_id</th>\n",
       "      <th>user_id</th>\n",
       "      <th>order_number</th>\n",
       "      <th>order_dow</th>\n",
       "      <th>order_hour_of_day</th>\n",
       "      <th>days_since_prior_order</th>\n",
       "    </tr>\n",
       "  </thead>\n",
       "  <tbody>\n",
       "    <tr>\n",
       "      <th>0</th>\n",
       "      <td>1515936</td>\n",
       "      <td>183418</td>\n",
       "      <td>11</td>\n",
       "      <td>6</td>\n",
       "      <td>13</td>\n",
       "      <td>30.0</td>\n",
       "    </tr>\n",
       "    <tr>\n",
       "      <th>1</th>\n",
       "      <td>1690866</td>\n",
       "      <td>163593</td>\n",
       "      <td>5</td>\n",
       "      <td>5</td>\n",
       "      <td>12</td>\n",
       "      <td>9.0</td>\n",
       "    </tr>\n",
       "    <tr>\n",
       "      <th>2</th>\n",
       "      <td>1454967</td>\n",
       "      <td>39980</td>\n",
       "      <td>4</td>\n",
       "      <td>5</td>\n",
       "      <td>19</td>\n",
       "      <td>2.0</td>\n",
       "    </tr>\n",
       "    <tr>\n",
       "      <th>3</th>\n",
       "      <td>1768857</td>\n",
       "      <td>82516</td>\n",
       "      <td>56</td>\n",
       "      <td>0</td>\n",
       "      <td>20</td>\n",
       "      <td>10.0</td>\n",
       "    </tr>\n",
       "    <tr>\n",
       "      <th>4</th>\n",
       "      <td>3007858</td>\n",
       "      <td>196724</td>\n",
       "      <td>2</td>\n",
       "      <td>4</td>\n",
       "      <td>12</td>\n",
       "      <td>17.0</td>\n",
       "    </tr>\n",
       "  </tbody>\n",
       "</table>\n",
       "</div>"
      ],
      "text/plain": [
       "   order_id  user_id  order_number  order_dow  order_hour_of_day  \\\n",
       "0   1515936   183418            11          6                 13   \n",
       "1   1690866   163593             5          5                 12   \n",
       "2   1454967    39980             4          5                 19   \n",
       "3   1768857    82516            56          0                 20   \n",
       "4   3007858   196724             2          4                 12   \n",
       "\n",
       "   days_since_prior_order  \n",
       "0                    30.0  \n",
       "1                     9.0  \n",
       "2                     2.0  \n",
       "3                    10.0  \n",
       "4                    17.0  "
      ]
     },
     "execution_count": 42,
     "metadata": {},
     "output_type": "execute_result"
    }
   ],
   "source": [
    "df_orders.head()"
   ]
  },
  {
   "cell_type": "markdown",
   "id": "charitable-congo",
   "metadata": {},
   "source": [
    "<div class=\"alert alert-info\"> <b>Student сomments:</b> ..</div>\n",
    "Wednesday and Saturday have the same partern in terms of number of orders at given intervals in a day.\n",
    "However, between the the 12th and 14th hour, Saturday has more orders as compared to wednesday."
   ]
  },
  {
   "cell_type": "markdown",
   "id": "e3891143",
   "metadata": {},
   "source": [
    "### [B2] What's the distribution for the number of orders per customer?"
   ]
  },
  {
   "cell_type": "code",
   "execution_count": 43,
   "id": "d8c26c23",
   "metadata": {},
   "outputs": [],
   "source": [
    "order_frequency = df_orders['order_number'].value_counts().sort_index()"
   ]
  },
  {
   "cell_type": "code",
   "execution_count": 44,
   "id": "07ad480f",
   "metadata": {},
   "outputs": [
    {
     "data": {
      "image/png": "[encoded data removed]",
      "text/plain": [
       "<Figure size 640x480 with 1 Axes>"
      ]
     },
     "metadata": {},
     "output_type": "display_data"
    }
   ],
   "source": [
    "order_frequency.plot(kind=\"bar\", title=\"Distribution of Customer Orders\",\n",
    "                     xlabel=\"Number of Orders Placed\",\n",
    "                     ylabel=\"Number of Customers\")\n",
    "plt.show()"
   ]
  },
  {
   "cell_type": "markdown",
   "id": "ff9fed50",
   "metadata": {},
   "source": [
    "<div class=\"alert alert-info\"> <b>Student сomments:</b> ..</div>\n",
    "The tail of the histogram extends to the right side.\n",
    "Many customers place their orders once or do not place any order after "
   ]
  },
  {
   "cell_type": "markdown",
   "id": "d2eff7d5",
   "metadata": {},
   "source": []
  },
  {
   "cell_type": "markdown",
   "id": "54a0319c",
   "metadata": {},
   "source": [
    "### [B3] What are the top 20 popular products (display their id and name)?"
   ]
  },
  {
   "cell_type": "code",
   "execution_count": 45,
   "id": "exterior-arizona",
   "metadata": {
    "scrolled": true
   },
   "outputs": [
    {
     "data": {
      "text/plain": [
       "product_id\n",
       "1        1\n",
       "33146    1\n",
       "33124    1\n",
       "33125    1\n",
       "33126    1\n",
       "dtype: int64"
      ]
     },
     "execution_count": 45,
     "metadata": {},
     "output_type": "execute_result"
    }
   ],
   "source": [
    "product_counts = df_products.groupby('product_id').size().sort_values(ascending=False)\n",
    "product_counts.head()"
   ]
  },
  {
   "cell_type": "code",
   "execution_count": 46,
   "id": "universal-facial",
   "metadata": {},
   "outputs": [
    {
     "data": {
      "text/plain": [
       "product_id\n",
       "1        1\n",
       "33146    1\n",
       "33124    1\n",
       "33125    1\n",
       "33126    1\n",
       "dtype: int64"
      ]
     },
     "execution_count": 46,
     "metadata": {},
     "output_type": "execute_result"
    }
   ],
   "source": [
    "top_20_products = product_counts.head(20)\n",
    "top_20_products.head()"
   ]
  },
  {
   "cell_type": "code",
   "execution_count": 47,
   "id": "bbcdd20b",
   "metadata": {},
   "outputs": [
    {
     "data": {
      "text/html": [
       "<div>\n",
       "<style scoped>\n",
       "    .dataframe tbody tr th:only-of-type {\n",
       "        vertical-align: middle;\n",
       "    }\n",
       "\n",
       "    .dataframe tbody tr th {\n",
       "        vertical-align: top;\n",
       "    }\n",
       "\n",
       "    .dataframe thead th {\n",
       "        text-align: right;\n",
       "    }\n",
       "</style>\n",
       "<table border=\"1\" class=\"dataframe\">\n",
       "  <thead>\n",
       "    <tr style=\"text-align: right;\">\n",
       "      <th></th>\n",
       "      <th>product_id</th>\n",
       "      <th>0</th>\n",
       "      <th>product_name</th>\n",
       "    </tr>\n",
       "  </thead>\n",
       "  <tbody>\n",
       "    <tr>\n",
       "      <th>0</th>\n",
       "      <td>1</td>\n",
       "      <td>1</td>\n",
       "      <td>Chocolate Sandwich Cookies</td>\n",
       "    </tr>\n",
       "    <tr>\n",
       "      <th>1</th>\n",
       "      <td>33146</td>\n",
       "      <td>1</td>\n",
       "      <td>Revolt Killer Citrus</td>\n",
       "    </tr>\n",
       "    <tr>\n",
       "      <th>2</th>\n",
       "      <td>33124</td>\n",
       "      <td>1</td>\n",
       "      <td>Healthy Kids Organic Chocolate Nutritional Shake</td>\n",
       "    </tr>\n",
       "    <tr>\n",
       "      <th>3</th>\n",
       "      <td>33125</td>\n",
       "      <td>1</td>\n",
       "      <td>Organic Mini Cheddar Cheese Crackers</td>\n",
       "    </tr>\n",
       "    <tr>\n",
       "      <th>4</th>\n",
       "      <td>33126</td>\n",
       "      <td>1</td>\n",
       "      <td>Sesame Flatbread</td>\n",
       "    </tr>\n",
       "    <tr>\n",
       "      <th>5</th>\n",
       "      <td>33127</td>\n",
       "      <td>1</td>\n",
       "      <td>No Salt Roasted Pistachios</td>\n",
       "    </tr>\n",
       "    <tr>\n",
       "      <th>6</th>\n",
       "      <td>33128</td>\n",
       "      <td>1</td>\n",
       "      <td>Riccardo Balsamic Vinegar</td>\n",
       "    </tr>\n",
       "    <tr>\n",
       "      <th>7</th>\n",
       "      <td>33129</td>\n",
       "      <td>1</td>\n",
       "      <td>Classic Hummus</td>\n",
       "    </tr>\n",
       "    <tr>\n",
       "      <th>8</th>\n",
       "      <td>33130</td>\n",
       "      <td>1</td>\n",
       "      <td>Organic Salt Free Cabbage Dill Raw Sauerkrat</td>\n",
       "    </tr>\n",
       "    <tr>\n",
       "      <th>9</th>\n",
       "      <td>33131</td>\n",
       "      <td>1</td>\n",
       "      <td>Hair Remover Wax Strip Kit</td>\n",
       "    </tr>\n",
       "    <tr>\n",
       "      <th>10</th>\n",
       "      <td>33132</td>\n",
       "      <td>1</td>\n",
       "      <td>Mild Red Taco Sauce</td>\n",
       "    </tr>\n",
       "    <tr>\n",
       "      <th>11</th>\n",
       "      <td>33133</td>\n",
       "      <td>1</td>\n",
       "      <td>Rising Crust Spicy Italian Sausage Pizza</td>\n",
       "    </tr>\n",
       "    <tr>\n",
       "      <th>12</th>\n",
       "      <td>33134</td>\n",
       "      <td>1</td>\n",
       "      <td>Orange Recovery Energy Drink</td>\n",
       "    </tr>\n",
       "    <tr>\n",
       "      <th>13</th>\n",
       "      <td>33135</td>\n",
       "      <td>1</td>\n",
       "      <td>Organic Blueberry Kefir</td>\n",
       "    </tr>\n",
       "    <tr>\n",
       "      <th>14</th>\n",
       "      <td>33136</td>\n",
       "      <td>1</td>\n",
       "      <td>Tissue with Lotion Aloe &amp; E</td>\n",
       "    </tr>\n",
       "    <tr>\n",
       "      <th>15</th>\n",
       "      <td>33137</td>\n",
       "      <td>1</td>\n",
       "      <td>Mexican Style Chili Beans</td>\n",
       "    </tr>\n",
       "    <tr>\n",
       "      <th>16</th>\n",
       "      <td>33138</td>\n",
       "      <td>1</td>\n",
       "      <td>Classic Chopped Grill Feast Cat Food</td>\n",
       "    </tr>\n",
       "    <tr>\n",
       "      <th>17</th>\n",
       "      <td>33139</td>\n",
       "      <td>1</td>\n",
       "      <td>Vegetarian Worcestershire Sauce</td>\n",
       "    </tr>\n",
       "    <tr>\n",
       "      <th>18</th>\n",
       "      <td>33140</td>\n",
       "      <td>1</td>\n",
       "      <td>Cruisers Diapers Jumbo Pack - Size 6</td>\n",
       "    </tr>\n",
       "    <tr>\n",
       "      <th>19</th>\n",
       "      <td>33141</td>\n",
       "      <td>1</td>\n",
       "      <td>Stir Fry Sauce</td>\n",
       "    </tr>\n",
       "  </tbody>\n",
       "</table>\n",
       "</div>"
      ],
      "text/plain": [
       "    product_id  0                                      product_name\n",
       "0            1  1                        Chocolate Sandwich Cookies\n",
       "1        33146  1                              Revolt Killer Citrus\n",
       "2        33124  1  Healthy Kids Organic Chocolate Nutritional Shake\n",
       "3        33125  1              Organic Mini Cheddar Cheese Crackers\n",
       "4        33126  1                                  Sesame Flatbread\n",
       "5        33127  1                        No Salt Roasted Pistachios\n",
       "6        33128  1                         Riccardo Balsamic Vinegar\n",
       "7        33129  1                                    Classic Hummus\n",
       "8        33130  1      Organic Salt Free Cabbage Dill Raw Sauerkrat\n",
       "9        33131  1                        Hair Remover Wax Strip Kit\n",
       "10       33132  1                               Mild Red Taco Sauce\n",
       "11       33133  1          Rising Crust Spicy Italian Sausage Pizza\n",
       "12       33134  1                      Orange Recovery Energy Drink\n",
       "13       33135  1                           Organic Blueberry Kefir\n",
       "14       33136  1                       Tissue with Lotion Aloe & E\n",
       "15       33137  1                         Mexican Style Chili Beans\n",
       "16       33138  1              Classic Chopped Grill Feast Cat Food\n",
       "17       33139  1                   Vegetarian Worcestershire Sauce\n",
       "18       33140  1              Cruisers Diapers Jumbo Pack - Size 6\n",
       "19       33141  1                                    Stir Fry Sauce"
      ]
     },
     "execution_count": 47,
     "metadata": {},
     "output_type": "execute_result"
    }
   ],
   "source": [
    "top_20_products_df = top_20_products.to_frame().reset_index().merge(df_products[['product_id', 'product_name']], how='left', on='product_id')\n",
    "top_20_products_df"
   ]
  },
  {
   "cell_type": "markdown",
   "id": "7df00f47",
   "metadata": {},
   "source": [
    "<div class=\"alert alert-info\"> <b>Student сomments:</b> ..</div>\n",
    "There quite a good number of prodcuts that are solicitated by customers \n",
    "\n"
   ]
  },
  {
   "cell_type": "markdown",
   "id": "gross-theme",
   "metadata": {},
   "source": [
    "# [C] Hard (must complete at least two to pass)"
   ]
  },
  {
   "cell_type": "markdown",
   "id": "romantic-deposit",
   "metadata": {},
   "source": [
    "### [C1] How many items do people typically buy in one order? What does the distribution look like?"
   ]
  },
  {
   "cell_type": "code",
   "execution_count": 48,
   "id": "virtual-punch",
   "metadata": {},
   "outputs": [
    {
     "data": {
      "text/plain": [
       "count    450046.000000\n",
       "mean         10.098983\n",
       "std           7.540206\n",
       "min           1.000000\n",
       "25%           5.000000\n",
       "50%           8.000000\n",
       "75%          14.000000\n",
       "max         127.000000\n",
       "Name: product_id, dtype: float64"
      ]
     },
     "execution_count": 48,
     "metadata": {},
     "output_type": "execute_result"
    }
   ],
   "source": [
    "items_per_order = df_orders_products.groupby('order_id')['product_id'].count()\n",
    "items_per_order.describe()"
   ]
  },
  {
   "cell_type": "code",
   "execution_count": 49,
   "id": "sensitive-breathing",
   "metadata": {
    "scrolled": true
   },
   "outputs": [
    {
     "data": {
      "image/png": "[encoded data removed]",
      "text/plain": [
       "<Figure size 640x480 with 1 Axes>"
      ]
     },
     "metadata": {},
     "output_type": "display_data"
    }
   ],
   "source": [
    "plt.hist(items_per_order, bins=20,)\n",
    "plt.xlabel('Number of Items per Order')\n",
    "plt.ylabel('Frequency')\n",
    "plt.title('Distribution of Items per Order')\n",
    "plt.show()"
   ]
  },
  {
   "cell_type": "code",
   "execution_count": null,
   "id": "completed-frank",
   "metadata": {},
   "outputs": [],
   "source": []
  },
  {
   "cell_type": "markdown",
   "id": "designed-mortality",
   "metadata": {},
   "source": [
    "<div class=\"alert alert-info\"> <b>Student сomments:</b> ..</div>\n",
    "Many items are placed per order by customers."
   ]
  },
  {
   "cell_type": "markdown",
   "id": "5e6b5537",
   "metadata": {},
   "source": [
    "### [C2] What are the top 20 items that are reordered most frequently (display their names and product IDs)?"
   ]
  },
  {
   "cell_type": "code",
   "execution_count": 50,
   "id": "9374e55a",
   "metadata": {},
   "outputs": [
    {
     "data": {
      "text/html": [
       "<div>\n",
       "<style scoped>\n",
       "    .dataframe tbody tr th:only-of-type {\n",
       "        vertical-align: middle;\n",
       "    }\n",
       "\n",
       "    .dataframe tbody tr th {\n",
       "        vertical-align: top;\n",
       "    }\n",
       "\n",
       "    .dataframe thead th {\n",
       "        text-align: right;\n",
       "    }\n",
       "</style>\n",
       "<table border=\"1\" class=\"dataframe\">\n",
       "  <thead>\n",
       "    <tr style=\"text-align: right;\">\n",
       "      <th></th>\n",
       "      <th>order_id</th>\n",
       "      <th>product_id</th>\n",
       "      <th>add_to_cart_order</th>\n",
       "      <th>reordered</th>\n",
       "      <th>product_name</th>\n",
       "      <th>aisle_id</th>\n",
       "      <th>department_id</th>\n",
       "    </tr>\n",
       "  </thead>\n",
       "  <tbody>\n",
       "    <tr>\n",
       "      <th>0</th>\n",
       "      <td>2141543</td>\n",
       "      <td>11440</td>\n",
       "      <td>17</td>\n",
       "      <td>0</td>\n",
       "      <td>Chicken Breast Tenders Breaded</td>\n",
       "      <td>129</td>\n",
       "      <td>1</td>\n",
       "    </tr>\n",
       "    <tr>\n",
       "      <th>1</th>\n",
       "      <td>147172</td>\n",
       "      <td>11440</td>\n",
       "      <td>7</td>\n",
       "      <td>1</td>\n",
       "      <td>Chicken Breast Tenders Breaded</td>\n",
       "      <td>129</td>\n",
       "      <td>1</td>\n",
       "    </tr>\n",
       "    <tr>\n",
       "      <th>2</th>\n",
       "      <td>3341719</td>\n",
       "      <td>11440</td>\n",
       "      <td>4</td>\n",
       "      <td>1</td>\n",
       "      <td>Chicken Breast Tenders Breaded</td>\n",
       "      <td>129</td>\n",
       "      <td>1</td>\n",
       "    </tr>\n",
       "    <tr>\n",
       "      <th>3</th>\n",
       "      <td>1938779</td>\n",
       "      <td>11440</td>\n",
       "      <td>8</td>\n",
       "      <td>1</td>\n",
       "      <td>Chicken Breast Tenders Breaded</td>\n",
       "      <td>129</td>\n",
       "      <td>1</td>\n",
       "    </tr>\n",
       "    <tr>\n",
       "      <th>4</th>\n",
       "      <td>1728338</td>\n",
       "      <td>11440</td>\n",
       "      <td>23</td>\n",
       "      <td>0</td>\n",
       "      <td>Chicken Breast Tenders Breaded</td>\n",
       "      <td>129</td>\n",
       "      <td>1</td>\n",
       "    </tr>\n",
       "  </tbody>\n",
       "</table>\n",
       "</div>"
      ],
      "text/plain": [
       "   order_id  product_id  add_to_cart_order  reordered  \\\n",
       "0   2141543       11440                 17          0   \n",
       "1    147172       11440                  7          1   \n",
       "2   3341719       11440                  4          1   \n",
       "3   1938779       11440                  8          1   \n",
       "4   1728338       11440                 23          0   \n",
       "\n",
       "                     product_name  aisle_id  department_id  \n",
       "0  Chicken Breast Tenders Breaded       129              1  \n",
       "1  Chicken Breast Tenders Breaded       129              1  \n",
       "2  Chicken Breast Tenders Breaded       129              1  \n",
       "3  Chicken Breast Tenders Breaded       129              1  \n",
       "4  Chicken Breast Tenders Breaded       129              1  "
      ]
     },
     "execution_count": 50,
     "metadata": {},
     "output_type": "execute_result"
    }
   ],
   "source": [
    "merged_df = df_orders_products.merge(df_products, on='product_id')\n",
    "merged_df.head()"
   ]
  },
  {
   "cell_type": "code",
   "execution_count": 51,
   "id": "possible-change",
   "metadata": {
    "scrolled": true
   },
   "outputs": [
    {
     "data": {
      "text/html": [
       "<div>\n",
       "<style scoped>\n",
       "    .dataframe tbody tr th:only-of-type {\n",
       "        vertical-align: middle;\n",
       "    }\n",
       "\n",
       "    .dataframe tbody tr th {\n",
       "        vertical-align: top;\n",
       "    }\n",
       "\n",
       "    .dataframe thead th {\n",
       "        text-align: right;\n",
       "    }\n",
       "</style>\n",
       "<table border=\"1\" class=\"dataframe\">\n",
       "  <thead>\n",
       "    <tr style=\"text-align: right;\">\n",
       "      <th></th>\n",
       "      <th>product_id</th>\n",
       "      <th>product_name</th>\n",
       "      <th>reordered</th>\n",
       "    </tr>\n",
       "  </thead>\n",
       "  <tbody>\n",
       "    <tr>\n",
       "      <th>0</th>\n",
       "      <td>1</td>\n",
       "      <td>Chocolate Sandwich Cookies</td>\n",
       "      <td>158</td>\n",
       "    </tr>\n",
       "    <tr>\n",
       "      <th>1</th>\n",
       "      <td>2</td>\n",
       "      <td>All-Seasons Salt</td>\n",
       "      <td>0</td>\n",
       "    </tr>\n",
       "    <tr>\n",
       "      <th>2</th>\n",
       "      <td>3</td>\n",
       "      <td>Robust Golden Unsweetened Oolong Tea</td>\n",
       "      <td>31</td>\n",
       "    </tr>\n",
       "    <tr>\n",
       "      <th>3</th>\n",
       "      <td>4</td>\n",
       "      <td>Smart Ones Classic Favorites Mini Rigatoni Wit...</td>\n",
       "      <td>25</td>\n",
       "    </tr>\n",
       "    <tr>\n",
       "      <th>4</th>\n",
       "      <td>7</td>\n",
       "      <td>Pure Coconut Water With Orange</td>\n",
       "      <td>1</td>\n",
       "    </tr>\n",
       "  </tbody>\n",
       "</table>\n",
       "</div>"
      ],
      "text/plain": [
       "   product_id                                       product_name  reordered\n",
       "0           1                         Chocolate Sandwich Cookies        158\n",
       "1           2                                   All-Seasons Salt          0\n",
       "2           3               Robust Golden Unsweetened Oolong Tea         31\n",
       "3           4  Smart Ones Classic Favorites Mini Rigatoni Wit...         25\n",
       "4           7                     Pure Coconut Water With Orange          1"
      ]
     },
     "execution_count": 51,
     "metadata": {},
     "output_type": "execute_result"
    }
   ],
   "source": [
    "grouped_df = merged_df.groupby(['product_id', 'product_name'])['reordered'].sum().reset_index()\n",
    "grouped_df.head()"
   ]
  },
  {
   "cell_type": "code",
   "execution_count": 52,
   "id": "professional-surfing",
   "metadata": {
    "scrolled": true
   },
   "outputs": [
    {
     "data": {
      "text/html": [
       "<div>\n",
       "<style scoped>\n",
       "    .dataframe tbody tr th:only-of-type {\n",
       "        vertical-align: middle;\n",
       "    }\n",
       "\n",
       "    .dataframe tbody tr th {\n",
       "        vertical-align: top;\n",
       "    }\n",
       "\n",
       "    .dataframe thead th {\n",
       "        text-align: right;\n",
       "    }\n",
       "</style>\n",
       "<table border=\"1\" class=\"dataframe\">\n",
       "  <thead>\n",
       "    <tr style=\"text-align: right;\">\n",
       "      <th></th>\n",
       "      <th>product_id</th>\n",
       "      <th>product_name</th>\n",
       "      <th>reordered</th>\n",
       "    </tr>\n",
       "  </thead>\n",
       "  <tbody>\n",
       "    <tr>\n",
       "      <th>22808</th>\n",
       "      <td>24852</td>\n",
       "      <td>Banana</td>\n",
       "      <td>55763</td>\n",
       "    </tr>\n",
       "    <tr>\n",
       "      <th>12025</th>\n",
       "      <td>13176</td>\n",
       "      <td>Bag of Organic Bananas</td>\n",
       "      <td>44450</td>\n",
       "    </tr>\n",
       "    <tr>\n",
       "      <th>19370</th>\n",
       "      <td>21137</td>\n",
       "      <td>Organic Strawberries</td>\n",
       "      <td>28639</td>\n",
       "    </tr>\n",
       "    <tr>\n",
       "      <th>20077</th>\n",
       "      <td>21903</td>\n",
       "      <td>Organic Baby Spinach</td>\n",
       "      <td>26233</td>\n",
       "    </tr>\n",
       "    <tr>\n",
       "      <th>43271</th>\n",
       "      <td>47209</td>\n",
       "      <td>Organic Hass Avocado</td>\n",
       "      <td>23629</td>\n",
       "    </tr>\n",
       "    <tr>\n",
       "      <th>43788</th>\n",
       "      <td>47766</td>\n",
       "      <td>Organic Avocado</td>\n",
       "      <td>18743</td>\n",
       "    </tr>\n",
       "    <tr>\n",
       "      <th>25556</th>\n",
       "      <td>27845</td>\n",
       "      <td>Organic Whole Milk</td>\n",
       "      <td>16251</td>\n",
       "    </tr>\n",
       "    <tr>\n",
       "      <th>43663</th>\n",
       "      <td>47626</td>\n",
       "      <td>Large Lemon</td>\n",
       "      <td>15044</td>\n",
       "    </tr>\n",
       "    <tr>\n",
       "      <th>25666</th>\n",
       "      <td>27966</td>\n",
       "      <td>Organic Raspberries</td>\n",
       "      <td>14748</td>\n",
       "    </tr>\n",
       "    <tr>\n",
       "      <th>15364</th>\n",
       "      <td>16797</td>\n",
       "      <td>Strawberries</td>\n",
       "      <td>13945</td>\n",
       "    </tr>\n",
       "    <tr>\n",
       "      <th>24047</th>\n",
       "      <td>26209</td>\n",
       "      <td>Limes</td>\n",
       "      <td>13327</td>\n",
       "    </tr>\n",
       "    <tr>\n",
       "      <th>21025</th>\n",
       "      <td>22935</td>\n",
       "      <td>Organic Yellow Onion</td>\n",
       "      <td>11145</td>\n",
       "    </tr>\n",
       "    <tr>\n",
       "      <th>22908</th>\n",
       "      <td>24964</td>\n",
       "      <td>Organic Garlic</td>\n",
       "      <td>10411</td>\n",
       "    </tr>\n",
       "    <tr>\n",
       "      <th>41244</th>\n",
       "      <td>45007</td>\n",
       "      <td>Organic Zucchini</td>\n",
       "      <td>10076</td>\n",
       "    </tr>\n",
       "    <tr>\n",
       "      <th>45561</th>\n",
       "      <td>49683</td>\n",
       "      <td>Cucumber Kirby</td>\n",
       "      <td>9538</td>\n",
       "    </tr>\n",
       "    <tr>\n",
       "      <th>25889</th>\n",
       "      <td>28204</td>\n",
       "      <td>Organic Fuji Apple</td>\n",
       "      <td>8989</td>\n",
       "    </tr>\n",
       "    <tr>\n",
       "      <th>7543</th>\n",
       "      <td>8277</td>\n",
       "      <td>Apple Honeycrisp Organic</td>\n",
       "      <td>8836</td>\n",
       "    </tr>\n",
       "    <tr>\n",
       "      <th>35996</th>\n",
       "      <td>39275</td>\n",
       "      <td>Organic Blueberries</td>\n",
       "      <td>8799</td>\n",
       "    </tr>\n",
       "    <tr>\n",
       "      <th>5375</th>\n",
       "      <td>5876</td>\n",
       "      <td>Organic Lemon</td>\n",
       "      <td>8412</td>\n",
       "    </tr>\n",
       "    <tr>\n",
       "      <th>45155</th>\n",
       "      <td>49235</td>\n",
       "      <td>Organic Half &amp; Half</td>\n",
       "      <td>8389</td>\n",
       "    </tr>\n",
       "  </tbody>\n",
       "</table>\n",
       "</div>"
      ],
      "text/plain": [
       "       product_id              product_name  reordered\n",
       "22808       24852                    Banana      55763\n",
       "12025       13176    Bag of Organic Bananas      44450\n",
       "19370       21137      Organic Strawberries      28639\n",
       "20077       21903      Organic Baby Spinach      26233\n",
       "43271       47209      Organic Hass Avocado      23629\n",
       "43788       47766           Organic Avocado      18743\n",
       "25556       27845        Organic Whole Milk      16251\n",
       "43663       47626               Large Lemon      15044\n",
       "25666       27966       Organic Raspberries      14748\n",
       "15364       16797              Strawberries      13945\n",
       "24047       26209                     Limes      13327\n",
       "21025       22935      Organic Yellow Onion      11145\n",
       "22908       24964            Organic Garlic      10411\n",
       "41244       45007          Organic Zucchini      10076\n",
       "45561       49683            Cucumber Kirby       9538\n",
       "25889       28204        Organic Fuji Apple       8989\n",
       "7543         8277  Apple Honeycrisp Organic       8836\n",
       "35996       39275       Organic Blueberries       8799\n",
       "5375         5876             Organic Lemon       8412\n",
       "45155       49235       Organic Half & Half       8389"
      ]
     },
     "execution_count": 52,
     "metadata": {},
     "output_type": "execute_result"
    }
   ],
   "source": [
    "top_20_reordered = grouped_df.sort_values(by='reordered', ascending=False).head(20)\n",
    "top_20_reordered"
   ]
  },
  {
   "cell_type": "code",
   "execution_count": null,
   "id": "48dd3658",
   "metadata": {},
   "outputs": [],
   "source": []
  },
  {
   "cell_type": "markdown",
   "id": "80e70c74",
   "metadata": {},
   "source": [
    "<div class=\"alert alert-info\"> <b>Student сomments:</b> ..</div>\n",
    "Above is the list of items are likely to be reordered\n"
   ]
  },
  {
   "cell_type": "markdown",
   "id": "9d312b14",
   "metadata": {},
   "source": [
    "### [C3] For each product, what proportion of its orders are reorders?"
   ]
  },
  {
   "cell_type": "code",
   "execution_count": 53,
   "id": "8ae9f4b1",
   "metadata": {},
   "outputs": [
    {
     "data": {
      "text/html": [
       "<div>\n",
       "<style scoped>\n",
       "    .dataframe tbody tr th:only-of-type {\n",
       "        vertical-align: middle;\n",
       "    }\n",
       "\n",
       "    .dataframe tbody tr th {\n",
       "        vertical-align: top;\n",
       "    }\n",
       "\n",
       "    .dataframe thead th {\n",
       "        text-align: right;\n",
       "    }\n",
       "</style>\n",
       "<table border=\"1\" class=\"dataframe\">\n",
       "  <thead>\n",
       "    <tr style=\"text-align: right;\">\n",
       "      <th></th>\n",
       "      <th>order_id</th>\n",
       "      <th>product_id</th>\n",
       "      <th>add_to_cart_order</th>\n",
       "      <th>reordered</th>\n",
       "      <th>product_name</th>\n",
       "      <th>aisle_id</th>\n",
       "      <th>department_id</th>\n",
       "      <th>user_id</th>\n",
       "      <th>order_number</th>\n",
       "      <th>order_dow</th>\n",
       "      <th>order_hour_of_day</th>\n",
       "      <th>days_since_prior_order</th>\n",
       "    </tr>\n",
       "  </thead>\n",
       "  <tbody>\n",
       "    <tr>\n",
       "      <th>0</th>\n",
       "      <td>2141543</td>\n",
       "      <td>11440</td>\n",
       "      <td>17</td>\n",
       "      <td>0</td>\n",
       "      <td>Chicken Breast Tenders Breaded</td>\n",
       "      <td>129</td>\n",
       "      <td>1</td>\n",
       "      <td>58454</td>\n",
       "      <td>25</td>\n",
       "      <td>0</td>\n",
       "      <td>15</td>\n",
       "      <td>8.0</td>\n",
       "    </tr>\n",
       "  </tbody>\n",
       "</table>\n",
       "</div>"
      ],
      "text/plain": [
       "   order_id  product_id  add_to_cart_order  reordered  \\\n",
       "0   2141543       11440                 17          0   \n",
       "\n",
       "                     product_name  aisle_id  department_id  user_id  \\\n",
       "0  Chicken Breast Tenders Breaded       129              1    58454   \n",
       "\n",
       "   order_number  order_dow  order_hour_of_day  days_since_prior_order  \n",
       "0            25          0                 15                     8.0  "
      ]
     },
     "execution_count": 53,
     "metadata": {},
     "output_type": "execute_result"
    }
   ],
   "source": [
    "merged_df = merged_df.merge(df_orders, on='order_id')\n",
    "merged_df.head(1)"
   ]
  },
  {
   "cell_type": "code",
   "execution_count": 54,
   "id": "103e7fe1",
   "metadata": {},
   "outputs": [],
   "source": [
    "product_reorder_prop = merged_df.groupby('product_id')['reordered'].mean().reset_index()\n",
    "product_reorder_prop.rename(columns={'reordered': 'reorder_proportion'}, inplace=True)"
   ]
  },
  {
   "cell_type": "code",
   "execution_count": 55,
   "id": "social-individual",
   "metadata": {},
   "outputs": [
    {
     "data": {
      "text/html": [
       "<div>\n",
       "<style scoped>\n",
       "    .dataframe tbody tr th:only-of-type {\n",
       "        vertical-align: middle;\n",
       "    }\n",
       "\n",
       "    .dataframe tbody tr th {\n",
       "        vertical-align: top;\n",
       "    }\n",
       "\n",
       "    .dataframe thead th {\n",
       "        text-align: right;\n",
       "    }\n",
       "</style>\n",
       "<table border=\"1\" class=\"dataframe\">\n",
       "  <thead>\n",
       "    <tr style=\"text-align: right;\">\n",
       "      <th></th>\n",
       "      <th>product_id</th>\n",
       "      <th>reorder_proportion</th>\n",
       "      <th>product_name</th>\n",
       "    </tr>\n",
       "  </thead>\n",
       "  <tbody>\n",
       "    <tr>\n",
       "      <th>0</th>\n",
       "      <td>1</td>\n",
       "      <td>0.564286</td>\n",
       "      <td>Chocolate Sandwich Cookies</td>\n",
       "    </tr>\n",
       "    <tr>\n",
       "      <th>1</th>\n",
       "      <td>2</td>\n",
       "      <td>0.000000</td>\n",
       "      <td>All-Seasons Salt</td>\n",
       "    </tr>\n",
       "    <tr>\n",
       "      <th>2</th>\n",
       "      <td>3</td>\n",
       "      <td>0.738095</td>\n",
       "      <td>Robust Golden Unsweetened Oolong Tea</td>\n",
       "    </tr>\n",
       "    <tr>\n",
       "      <th>3</th>\n",
       "      <td>4</td>\n",
       "      <td>0.510204</td>\n",
       "      <td>Smart Ones Classic Favorites Mini Rigatoni Wit...</td>\n",
       "    </tr>\n",
       "    <tr>\n",
       "      <th>4</th>\n",
       "      <td>7</td>\n",
       "      <td>0.500000</td>\n",
       "      <td>Pure Coconut Water With Orange</td>\n",
       "    </tr>\n",
       "  </tbody>\n",
       "</table>\n",
       "</div>"
      ],
      "text/plain": [
       "   product_id  reorder_proportion  \\\n",
       "0           1            0.564286   \n",
       "1           2            0.000000   \n",
       "2           3            0.738095   \n",
       "3           4            0.510204   \n",
       "4           7            0.500000   \n",
       "\n",
       "                                        product_name  \n",
       "0                         Chocolate Sandwich Cookies  \n",
       "1                                   All-Seasons Salt  \n",
       "2               Robust Golden Unsweetened Oolong Tea  \n",
       "3  Smart Ones Classic Favorites Mini Rigatoni Wit...  \n",
       "4                     Pure Coconut Water With Orange  "
      ]
     },
     "execution_count": 55,
     "metadata": {},
     "output_type": "execute_result"
    }
   ],
   "source": [
    "result_df = product_reorder_prop.merge(df_products[['product_id', 'product_name']], on='product_id')\n",
    "result_df.head()"
   ]
  },
  {
   "cell_type": "markdown",
   "id": "subject-boxing",
   "metadata": {},
   "source": [
    "### [C4] For each customer, what proportion of their products ordered are reorders?"
   ]
  },
  {
   "cell_type": "code",
   "execution_count": 56,
   "id": "medical-couple",
   "metadata": {
    "scrolled": true
   },
   "outputs": [
    {
     "data": {
      "text/html": [
       "<div>\n",
       "<style scoped>\n",
       "    .dataframe tbody tr th:only-of-type {\n",
       "        vertical-align: middle;\n",
       "    }\n",
       "\n",
       "    .dataframe tbody tr th {\n",
       "        vertical-align: top;\n",
       "    }\n",
       "\n",
       "    .dataframe thead th {\n",
       "        text-align: right;\n",
       "    }\n",
       "</style>\n",
       "<table border=\"1\" class=\"dataframe\">\n",
       "  <thead>\n",
       "    <tr style=\"text-align: right;\">\n",
       "      <th></th>\n",
       "      <th>order_id</th>\n",
       "      <th>product_id</th>\n",
       "      <th>add_to_cart_order</th>\n",
       "      <th>reordered</th>\n",
       "      <th>user_id</th>\n",
       "      <th>order_number</th>\n",
       "      <th>order_dow</th>\n",
       "      <th>order_hour_of_day</th>\n",
       "      <th>days_since_prior_order</th>\n",
       "    </tr>\n",
       "  </thead>\n",
       "  <tbody>\n",
       "    <tr>\n",
       "      <th>0</th>\n",
       "      <td>2141543</td>\n",
       "      <td>11440</td>\n",
       "      <td>17</td>\n",
       "      <td>0</td>\n",
       "      <td>58454</td>\n",
       "      <td>25</td>\n",
       "      <td>0</td>\n",
       "      <td>15</td>\n",
       "      <td>8.0</td>\n",
       "    </tr>\n",
       "  </tbody>\n",
       "</table>\n",
       "</div>"
      ],
      "text/plain": [
       "   order_id  product_id  add_to_cart_order  reordered  user_id  order_number  \\\n",
       "0   2141543       11440                 17          0    58454            25   \n",
       "\n",
       "   order_dow  order_hour_of_day  days_since_prior_order  \n",
       "0          0                 15                     8.0  "
      ]
     },
     "execution_count": 56,
     "metadata": {},
     "output_type": "execute_result"
    }
   ],
   "source": [
    "merged_df = df_orders_products.merge(df_orders, on='order_id')\n",
    "merged_df.head(1)"
   ]
  },
  {
   "cell_type": "code",
   "execution_count": 57,
   "id": "8892e4b4",
   "metadata": {},
   "outputs": [
    {
     "data": {
      "text/html": [
       "<div>\n",
       "<style scoped>\n",
       "    .dataframe tbody tr th:only-of-type {\n",
       "        vertical-align: middle;\n",
       "    }\n",
       "\n",
       "    .dataframe tbody tr th {\n",
       "        vertical-align: top;\n",
       "    }\n",
       "\n",
       "    .dataframe thead th {\n",
       "        text-align: right;\n",
       "    }\n",
       "</style>\n",
       "<table border=\"1\" class=\"dataframe\">\n",
       "  <thead>\n",
       "    <tr style=\"text-align: right;\">\n",
       "      <th></th>\n",
       "      <th>user_id</th>\n",
       "      <th>reorder_proportion</th>\n",
       "    </tr>\n",
       "  </thead>\n",
       "  <tbody>\n",
       "    <tr>\n",
       "      <th>0</th>\n",
       "      <td>2</td>\n",
       "      <td>0.038462</td>\n",
       "    </tr>\n",
       "  </tbody>\n",
       "</table>\n",
       "</div>"
      ],
      "text/plain": [
       "   user_id  reorder_proportion\n",
       "0        2            0.038462"
      ]
     },
     "execution_count": 57,
     "metadata": {},
     "output_type": "execute_result"
    }
   ],
   "source": [
    "customer_reorder_prop = merged_df.groupby('user_id')['reordered'].mean().reset_index()\n",
    "customer_reorder_prop.rename(columns={'reordered': 'reorder_proportion'}, inplace=True)\n",
    "customer_reorder_prop.head(1)"
   ]
  },
  {
   "cell_type": "markdown",
   "id": "92d35137",
   "metadata": {},
   "source": [
    "### [C5] What are the top 20 items that people put in their carts first? "
   ]
  },
  {
   "cell_type": "code",
   "execution_count": 58,
   "id": "0ae57274",
   "metadata": {
    "scrolled": true
   },
   "outputs": [
    {
     "data": {
      "text/html": [
       "<div>\n",
       "<style scoped>\n",
       "    .dataframe tbody tr th:only-of-type {\n",
       "        vertical-align: middle;\n",
       "    }\n",
       "\n",
       "    .dataframe tbody tr th {\n",
       "        vertical-align: top;\n",
       "    }\n",
       "\n",
       "    .dataframe thead th {\n",
       "        text-align: right;\n",
       "    }\n",
       "</style>\n",
       "<table border=\"1\" class=\"dataframe\">\n",
       "  <thead>\n",
       "    <tr style=\"text-align: right;\">\n",
       "      <th></th>\n",
       "      <th>order_id</th>\n",
       "      <th>product_id</th>\n",
       "      <th>add_to_cart_order</th>\n",
       "      <th>reordered</th>\n",
       "      <th>product_name</th>\n",
       "      <th>aisle_id</th>\n",
       "      <th>department_id</th>\n",
       "    </tr>\n",
       "  </thead>\n",
       "  <tbody>\n",
       "    <tr>\n",
       "      <th>0</th>\n",
       "      <td>2141543</td>\n",
       "      <td>11440</td>\n",
       "      <td>17</td>\n",
       "      <td>0</td>\n",
       "      <td>Chicken Breast Tenders Breaded</td>\n",
       "      <td>129</td>\n",
       "      <td>1</td>\n",
       "    </tr>\n",
       "    <tr>\n",
       "      <th>1</th>\n",
       "      <td>147172</td>\n",
       "      <td>11440</td>\n",
       "      <td>7</td>\n",
       "      <td>1</td>\n",
       "      <td>Chicken Breast Tenders Breaded</td>\n",
       "      <td>129</td>\n",
       "      <td>1</td>\n",
       "    </tr>\n",
       "    <tr>\n",
       "      <th>2</th>\n",
       "      <td>3341719</td>\n",
       "      <td>11440</td>\n",
       "      <td>4</td>\n",
       "      <td>1</td>\n",
       "      <td>Chicken Breast Tenders Breaded</td>\n",
       "      <td>129</td>\n",
       "      <td>1</td>\n",
       "    </tr>\n",
       "    <tr>\n",
       "      <th>3</th>\n",
       "      <td>1938779</td>\n",
       "      <td>11440</td>\n",
       "      <td>8</td>\n",
       "      <td>1</td>\n",
       "      <td>Chicken Breast Tenders Breaded</td>\n",
       "      <td>129</td>\n",
       "      <td>1</td>\n",
       "    </tr>\n",
       "    <tr>\n",
       "      <th>4</th>\n",
       "      <td>1728338</td>\n",
       "      <td>11440</td>\n",
       "      <td>23</td>\n",
       "      <td>0</td>\n",
       "      <td>Chicken Breast Tenders Breaded</td>\n",
       "      <td>129</td>\n",
       "      <td>1</td>\n",
       "    </tr>\n",
       "  </tbody>\n",
       "</table>\n",
       "</div>"
      ],
      "text/plain": [
       "   order_id  product_id  add_to_cart_order  reordered  \\\n",
       "0   2141543       11440                 17          0   \n",
       "1    147172       11440                  7          1   \n",
       "2   3341719       11440                  4          1   \n",
       "3   1938779       11440                  8          1   \n",
       "4   1728338       11440                 23          0   \n",
       "\n",
       "                     product_name  aisle_id  department_id  \n",
       "0  Chicken Breast Tenders Breaded       129              1  \n",
       "1  Chicken Breast Tenders Breaded       129              1  \n",
       "2  Chicken Breast Tenders Breaded       129              1  \n",
       "3  Chicken Breast Tenders Breaded       129              1  \n",
       "4  Chicken Breast Tenders Breaded       129              1  "
      ]
     },
     "execution_count": 58,
     "metadata": {},
     "output_type": "execute_result"
    }
   ],
   "source": [
    "merge_df = df_orders_products.merge(df_products, on='product_id')\n",
    "merge_df.head()"
   ]
  },
  {
   "cell_type": "code",
   "execution_count": 59,
   "id": "forty-netherlands",
   "metadata": {
    "scrolled": true
   },
   "outputs": [],
   "source": [
    "first_items = merge_df[merge_df['add_to_cart_order'] == 1]\n",
    "top_20_first_items = (first_items.groupby('product_id')\n",
    "                      .size()\n",
    "                      .to_frame(name='count')\n",
    "                      .sort_values(by='count', ascending=False)\n",
    "                      .head(20)\n",
    "                      .reset_index())"
   ]
  },
  {
   "cell_type": "code",
   "execution_count": 60,
   "id": "08e41ec2",
   "metadata": {},
   "outputs": [
    {
     "data": {
      "text/html": [
       "<div>\n",
       "<style scoped>\n",
       "    .dataframe tbody tr th:only-of-type {\n",
       "        vertical-align: middle;\n",
       "    }\n",
       "\n",
       "    .dataframe tbody tr th {\n",
       "        vertical-align: top;\n",
       "    }\n",
       "\n",
       "    .dataframe thead th {\n",
       "        text-align: right;\n",
       "    }\n",
       "</style>\n",
       "<table border=\"1\" class=\"dataframe\">\n",
       "  <thead>\n",
       "    <tr style=\"text-align: right;\">\n",
       "      <th></th>\n",
       "      <th>product_id</th>\n",
       "      <th>product_name</th>\n",
       "      <th>count</th>\n",
       "    </tr>\n",
       "  </thead>\n",
       "  <tbody>\n",
       "    <tr>\n",
       "      <th>0</th>\n",
       "      <td>24852</td>\n",
       "      <td>Banana</td>\n",
       "      <td>15562</td>\n",
       "    </tr>\n",
       "    <tr>\n",
       "      <th>1</th>\n",
       "      <td>13176</td>\n",
       "      <td>Bag of Organic Bananas</td>\n",
       "      <td>11026</td>\n",
       "    </tr>\n",
       "    <tr>\n",
       "      <th>2</th>\n",
       "      <td>27845</td>\n",
       "      <td>Organic Whole Milk</td>\n",
       "      <td>4363</td>\n",
       "    </tr>\n",
       "    <tr>\n",
       "      <th>3</th>\n",
       "      <td>21137</td>\n",
       "      <td>Organic Strawberries</td>\n",
       "      <td>3946</td>\n",
       "    </tr>\n",
       "    <tr>\n",
       "      <th>4</th>\n",
       "      <td>47209</td>\n",
       "      <td>Organic Hass Avocado</td>\n",
       "      <td>3390</td>\n",
       "    </tr>\n",
       "  </tbody>\n",
       "</table>\n",
       "</div>"
      ],
      "text/plain": [
       "   product_id            product_name  count\n",
       "0       24852                  Banana  15562\n",
       "1       13176  Bag of Organic Bananas  11026\n",
       "2       27845      Organic Whole Milk   4363\n",
       "3       21137    Organic Strawberries   3946\n",
       "4       47209    Organic Hass Avocado   3390"
      ]
     },
     "execution_count": 60,
     "metadata": {},
     "output_type": "execute_result"
    }
   ],
   "source": [
    "top_20_first_items = top_20_first_items.merge(df_products, on='product_id')\n",
    "top_20_first_items[['product_id', 'product_name', 'count']].head()"
   ]
  },
  {
   "cell_type": "markdown",
   "id": "28ce9872",
   "metadata": {},
   "source": [
    "<div class=\"alert alert-info\"> <b>Student сomments:</b> ..</div>\n",
    "\n",
    "In con\"In conclusion, this project successfully achieved its objectives by preparing the giving date for analysis.\n",
    "Despite challenges such as counting the values of the columns to plot the histogram and merging two more data frames to obtained the required results.\n",
    "The experience provided valuable insights into data cleaning, data visualization .\n",
    "\n",
    "The project touched all the most important aspects to enable comprehension of the subject matter."
   ]
  },
  {
   "cell_type": "markdown",
   "id": "12f04dce",
   "metadata": {},
   "source": [
    "<div class=\"alert alert-block alert-danger\">✍\n",
    "    \n",
    "\n",
    "__Reviewer's comment №2__\n",
    "\n",
    "In the conclusion of the project, you should aim to summarize the key outcomes, reflect on the objectives you achieved, and highlight the significance of your findings. Consider the following structure:\n",
    "\n",
    "1. **Restate the Project Objectives**: Briefly mention the main goals of your project.\n",
    "2. **Summarize Key Results**: Highlight the most important findings or outcomes you achieved during the project.\n",
    "3. **eflect on Challenges and Learning**: Share any significant challenges you faced and how you overcame them, as well as what you learned during the process.\n",
    "4. **Discuss Impact and Implications**: Explain how your project contributes to the field, solves a problem, or opens new opportunities for further research.\n",
    "5. **End with a Future Outlook**: Mention potential next steps, improvements, or unanswered questions that could be explored in future work.\n",
    "    \n",
    "    \n",
    "For example: *\"In conclusion, this project successfully achieved its objectives by [briefly mention main results]. Despite challenges such as [name challenges], the experience provided valuable insights into [key learnings]. The outcomes contribute to [relevance to field or application], paving the way for future exploration into [potential next steps].\"*"
   ]
  },
  {
   "cell_type": "markdown",
   "id": "b639c0bf",
   "metadata": {},
   "source": [
    "<div class=\"alert alert-block alert-success\">✔️\n",
    "    \n",
    "\n",
    "__Reviewer's comment №3__\n",
    "\n",
    "\n",
    "Otherwise it's great😊. Your project is begging for github =)   \n",
    "    \n",
    "Congratulations on the successful completion of the project 😊👍\n",
    "And I wish you success in new works 😊"
   ]
  }
 ],
 "metadata": {
  "ExecuteTimeLog": [
   {
    "duration": 273,
    "start_time": "2024-11-24T06:45:03.245Z"
   },
   {
    "duration": 281,
    "start_time": "2024-11-24T06:46:37.477Z"
   },
   {
    "duration": 259,
    "start_time": "2024-11-24T06:46:52.695Z"
   },
   {
    "duration": 246,
    "start_time": "2024-11-24T06:47:13.443Z"
   },
   {
    "duration": 182,
    "start_time": "2024-11-24T06:49:24.569Z"
   },
   {
    "duration": 18,
    "start_time": "2024-11-24T06:49:35.563Z"
   },
   {
    "duration": 273,
    "start_time": "2024-11-24T06:49:47.632Z"
   },
   {
    "duration": 316,
    "start_time": "2024-11-24T06:50:06.503Z"
   },
   {
    "duration": 251,
    "start_time": "2024-11-24T06:50:06.821Z"
   },
   {
    "duration": 198,
    "start_time": "2024-11-24T06:50:07.073Z"
   },
   {
    "duration": 0,
    "start_time": "2024-11-24T06:50:07.273Z"
   },
   {
    "duration": 0,
    "start_time": "2024-11-24T06:50:07.274Z"
   },
   {
    "duration": 0,
    "start_time": "2024-11-24T06:50:07.275Z"
   },
   {
    "duration": 0,
    "start_time": "2024-11-24T06:50:07.276Z"
   },
   {
    "duration": 0,
    "start_time": "2024-11-24T06:50:07.277Z"
   },
   {
    "duration": 0,
    "start_time": "2024-11-24T06:50:07.278Z"
   },
   {
    "duration": 0,
    "start_time": "2024-11-24T06:50:07.279Z"
   },
   {
    "duration": 0,
    "start_time": "2024-11-24T06:50:07.280Z"
   },
   {
    "duration": 0,
    "start_time": "2024-11-24T06:50:07.281Z"
   },
   {
    "duration": 0,
    "start_time": "2024-11-24T06:50:07.281Z"
   },
   {
    "duration": 0,
    "start_time": "2024-11-24T06:50:07.282Z"
   },
   {
    "duration": 0,
    "start_time": "2024-11-24T06:50:07.283Z"
   },
   {
    "duration": 0,
    "start_time": "2024-11-24T06:50:07.285Z"
   },
   {
    "duration": 0,
    "start_time": "2024-11-24T06:50:07.286Z"
   },
   {
    "duration": 0,
    "start_time": "2024-11-24T06:50:07.288Z"
   },
   {
    "duration": 0,
    "start_time": "2024-11-24T06:50:07.288Z"
   },
   {
    "duration": 0,
    "start_time": "2024-11-24T06:50:07.289Z"
   },
   {
    "duration": 0,
    "start_time": "2024-11-24T06:50:07.291Z"
   },
   {
    "duration": 0,
    "start_time": "2024-11-24T06:50:07.292Z"
   },
   {
    "duration": 0,
    "start_time": "2024-11-24T06:50:07.293Z"
   },
   {
    "duration": 55,
    "start_time": "2024-11-24T06:50:21.759Z"
   },
   {
    "duration": 349,
    "start_time": "2024-11-24T06:51:18.263Z"
   },
   {
    "duration": 60,
    "start_time": "2024-11-24T06:51:50.428Z"
   },
   {
    "duration": 58,
    "start_time": "2024-11-24T06:51:59.241Z"
   },
   {
    "duration": 6,
    "start_time": "2024-11-24T06:52:30.770Z"
   },
   {
    "duration": 6,
    "start_time": "2024-11-24T06:53:25.636Z"
   },
   {
    "duration": 1962,
    "start_time": "2024-11-24T06:54:03.986Z"
   },
   {
    "duration": 103,
    "start_time": "2024-11-24T06:54:24.404Z"
   },
   {
    "duration": 28,
    "start_time": "2024-11-24T06:54:41.707Z"
   },
   {
    "duration": 257,
    "start_time": "2024-11-24T07:02:17.977Z"
   },
   {
    "duration": 116,
    "start_time": "2024-11-24T07:03:05.207Z"
   },
   {
    "duration": 33,
    "start_time": "2024-11-24T07:03:43.142Z"
   },
   {
    "duration": 34,
    "start_time": "2024-11-24T07:04:07.008Z"
   },
   {
    "duration": 10,
    "start_time": "2024-11-24T07:04:49.187Z"
   },
   {
    "duration": 10,
    "start_time": "2024-11-24T07:05:13.842Z"
   },
   {
    "duration": 8,
    "start_time": "2024-11-24T07:05:24.689Z"
   },
   {
    "duration": 711,
    "start_time": "2024-11-24T07:06:07.269Z"
   },
   {
    "duration": 16,
    "start_time": "2024-11-24T07:06:55.665Z"
   },
   {
    "duration": 9,
    "start_time": "2024-11-24T07:07:04.495Z"
   },
   {
    "duration": 123,
    "start_time": "2024-11-24T07:07:19.466Z"
   },
   {
    "duration": 110,
    "start_time": "2024-11-24T07:07:52.311Z"
   },
   {
    "duration": 38,
    "start_time": "2024-11-24T07:08:54.123Z"
   },
   {
    "duration": 39,
    "start_time": "2024-11-24T07:11:55.340Z"
   },
   {
    "duration": 12,
    "start_time": "2024-11-24T07:19:17.581Z"
   },
   {
    "duration": 11,
    "start_time": "2024-11-24T07:19:25.786Z"
   },
   {
    "duration": 81,
    "start_time": "2024-11-24T07:21:32.542Z"
   },
   {
    "duration": 73,
    "start_time": "2024-11-24T07:21:56.250Z"
   },
   {
    "duration": 17,
    "start_time": "2024-11-24T07:25:02.517Z"
   },
   {
    "duration": 83,
    "start_time": "2024-11-24T07:32:02.422Z"
   },
   {
    "duration": 84,
    "start_time": "2024-11-24T07:32:12.955Z"
   },
   {
    "duration": 281,
    "start_time": "2024-11-24T07:32:20.055Z"
   },
   {
    "duration": 134,
    "start_time": "2024-11-24T07:32:20.339Z"
   },
   {
    "duration": 46,
    "start_time": "2024-11-24T07:32:20.475Z"
   },
   {
    "duration": 9,
    "start_time": "2024-11-24T07:32:20.524Z"
   },
   {
    "duration": 9,
    "start_time": "2024-11-24T07:32:20.534Z"
   },
   {
    "duration": 743,
    "start_time": "2024-11-24T07:32:20.544Z"
   },
   {
    "duration": 112,
    "start_time": "2024-11-24T07:32:21.289Z"
   },
   {
    "duration": 13,
    "start_time": "2024-11-24T07:32:21.402Z"
   },
   {
    "duration": 132,
    "start_time": "2024-11-24T07:32:21.417Z"
   },
   {
    "duration": 120,
    "start_time": "2024-11-24T07:32:21.551Z"
   },
   {
    "duration": 2,
    "start_time": "2024-11-24T07:32:21.673Z"
   },
   {
    "duration": 3,
    "start_time": "2024-11-24T07:32:21.677Z"
   },
   {
    "duration": 2,
    "start_time": "2024-11-24T07:32:21.681Z"
   },
   {
    "duration": 3,
    "start_time": "2024-11-24T07:32:21.685Z"
   },
   {
    "duration": 3,
    "start_time": "2024-11-24T07:32:21.689Z"
   },
   {
    "duration": 4,
    "start_time": "2024-11-24T07:32:21.693Z"
   },
   {
    "duration": 3,
    "start_time": "2024-11-24T07:32:21.698Z"
   },
   {
    "duration": 3,
    "start_time": "2024-11-24T07:32:21.702Z"
   },
   {
    "duration": 3,
    "start_time": "2024-11-24T07:32:21.706Z"
   },
   {
    "duration": 2,
    "start_time": "2024-11-24T07:32:21.711Z"
   },
   {
    "duration": 2,
    "start_time": "2024-11-24T07:32:21.715Z"
   },
   {
    "duration": 2,
    "start_time": "2024-11-24T07:32:21.720Z"
   },
   {
    "duration": 3,
    "start_time": "2024-11-24T07:32:21.771Z"
   },
   {
    "duration": 3,
    "start_time": "2024-11-24T07:32:21.775Z"
   },
   {
    "duration": 3,
    "start_time": "2024-11-24T07:32:21.779Z"
   },
   {
    "duration": 3,
    "start_time": "2024-11-24T07:32:21.783Z"
   },
   {
    "duration": 100,
    "start_time": "2024-11-24T07:33:30.857Z"
   },
   {
    "duration": 99,
    "start_time": "2024-11-24T07:35:06.997Z"
   },
   {
    "duration": 96,
    "start_time": "2024-11-24T07:35:16.069Z"
   },
   {
    "duration": 2,
    "start_time": "2024-11-24T07:35:32.665Z"
   },
   {
    "duration": 97,
    "start_time": "2024-11-24T07:35:36.981Z"
   },
   {
    "duration": 12,
    "start_time": "2024-11-24T07:35:45.715Z"
   },
   {
    "duration": 12,
    "start_time": "2024-11-24T07:35:52.621Z"
   },
   {
    "duration": 105,
    "start_time": "2024-11-24T07:36:03.293Z"
   },
   {
    "duration": 95,
    "start_time": "2024-11-24T07:36:06.318Z"
   },
   {
    "duration": 92,
    "start_time": "2024-11-24T07:36:14.264Z"
   },
   {
    "duration": 90,
    "start_time": "2024-11-24T07:37:51.402Z"
   },
   {
    "duration": 90,
    "start_time": "2024-11-24T07:39:56.807Z"
   },
   {
    "duration": 545,
    "start_time": "2024-11-24T07:41:39.322Z"
   },
   {
    "duration": 70,
    "start_time": "2024-11-24T07:43:07.440Z"
   },
   {
    "duration": 118,
    "start_time": "2024-11-24T07:43:27.515Z"
   },
   {
    "duration": 112,
    "start_time": "2024-11-24T07:44:11.190Z"
   },
   {
    "duration": 110,
    "start_time": "2024-11-24T07:44:43.671Z"
   },
   {
    "duration": 97,
    "start_time": "2024-11-24T07:45:02.255Z"
   },
   {
    "duration": 801,
    "start_time": "2024-11-24T07:45:47.848Z"
   },
   {
    "duration": 272,
    "start_time": "2024-11-24T07:46:15.146Z"
   },
   {
    "duration": 128,
    "start_time": "2024-11-24T07:46:15.420Z"
   },
   {
    "duration": 48,
    "start_time": "2024-11-24T07:46:15.550Z"
   },
   {
    "duration": 13,
    "start_time": "2024-11-24T07:46:15.600Z"
   },
   {
    "duration": 8,
    "start_time": "2024-11-24T07:46:15.614Z"
   },
   {
    "duration": 731,
    "start_time": "2024-11-24T07:46:15.624Z"
   },
   {
    "duration": 100,
    "start_time": "2024-11-24T07:46:16.359Z"
   },
   {
    "duration": 20,
    "start_time": "2024-11-24T07:46:16.461Z"
   },
   {
    "duration": 130,
    "start_time": "2024-11-24T07:46:16.482Z"
   },
   {
    "duration": 99,
    "start_time": "2024-11-24T07:46:16.616Z"
   },
   {
    "duration": 76,
    "start_time": "2024-11-24T07:46:16.717Z"
   },
   {
    "duration": 763,
    "start_time": "2024-11-24T07:46:16.794Z"
   },
   {
    "duration": 2,
    "start_time": "2024-11-24T07:46:17.569Z"
   },
   {
    "duration": 4,
    "start_time": "2024-11-24T07:46:17.573Z"
   },
   {
    "duration": 3,
    "start_time": "2024-11-24T07:46:17.578Z"
   },
   {
    "duration": 3,
    "start_time": "2024-11-24T07:46:17.582Z"
   },
   {
    "duration": 2,
    "start_time": "2024-11-24T07:46:17.586Z"
   },
   {
    "duration": 3,
    "start_time": "2024-11-24T07:46:17.590Z"
   },
   {
    "duration": 3,
    "start_time": "2024-11-24T07:46:17.594Z"
   },
   {
    "duration": 2,
    "start_time": "2024-11-24T07:46:17.598Z"
   },
   {
    "duration": 2,
    "start_time": "2024-11-24T07:46:17.602Z"
   },
   {
    "duration": 2,
    "start_time": "2024-11-24T07:46:17.606Z"
   },
   {
    "duration": 2,
    "start_time": "2024-11-24T07:46:17.610Z"
   },
   {
    "duration": 2,
    "start_time": "2024-11-24T07:46:17.614Z"
   },
   {
    "duration": 2,
    "start_time": "2024-11-24T07:46:17.618Z"
   },
   {
    "duration": 50,
    "start_time": "2024-11-24T07:46:17.621Z"
   },
   {
    "duration": 78,
    "start_time": "2024-11-24T07:46:39.201Z"
   },
   {
    "duration": 328,
    "start_time": "2024-11-24T07:46:45.682Z"
   },
   {
    "duration": 129,
    "start_time": "2024-11-24T07:46:46.012Z"
   },
   {
    "duration": 48,
    "start_time": "2024-11-24T07:46:46.143Z"
   },
   {
    "duration": 11,
    "start_time": "2024-11-24T07:46:46.194Z"
   },
   {
    "duration": 8,
    "start_time": "2024-11-24T07:46:46.207Z"
   },
   {
    "duration": 778,
    "start_time": "2024-11-24T07:46:46.216Z"
   },
   {
    "duration": 114,
    "start_time": "2024-11-24T07:46:46.996Z"
   },
   {
    "duration": 15,
    "start_time": "2024-11-24T07:46:47.112Z"
   },
   {
    "duration": 136,
    "start_time": "2024-11-24T07:46:47.129Z"
   },
   {
    "duration": 97,
    "start_time": "2024-11-24T07:46:47.268Z"
   },
   {
    "duration": 74,
    "start_time": "2024-11-24T07:46:47.367Z"
   },
   {
    "duration": 798,
    "start_time": "2024-11-24T07:46:47.442Z"
   },
   {
    "duration": 2,
    "start_time": "2024-11-24T07:46:48.242Z"
   },
   {
    "duration": 2,
    "start_time": "2024-11-24T07:46:48.246Z"
   },
   {
    "duration": 2,
    "start_time": "2024-11-24T07:46:48.250Z"
   },
   {
    "duration": 3,
    "start_time": "2024-11-24T07:46:48.269Z"
   },
   {
    "duration": 3,
    "start_time": "2024-11-24T07:46:48.273Z"
   },
   {
    "duration": 2,
    "start_time": "2024-11-24T07:46:48.278Z"
   },
   {
    "duration": 2,
    "start_time": "2024-11-24T07:46:48.282Z"
   },
   {
    "duration": 3,
    "start_time": "2024-11-24T07:46:48.286Z"
   },
   {
    "duration": 2,
    "start_time": "2024-11-24T07:46:48.290Z"
   },
   {
    "duration": 3,
    "start_time": "2024-11-24T07:46:48.294Z"
   },
   {
    "duration": 2,
    "start_time": "2024-11-24T07:46:48.298Z"
   },
   {
    "duration": 2,
    "start_time": "2024-11-24T07:46:48.302Z"
   },
   {
    "duration": 3,
    "start_time": "2024-11-24T07:46:48.306Z"
   },
   {
    "duration": 3,
    "start_time": "2024-11-24T07:46:48.310Z"
   },
   {
    "duration": 108,
    "start_time": "2024-11-24T08:19:53.598Z"
   },
   {
    "duration": 8,
    "start_time": "2024-11-24T08:23:58.502Z"
   },
   {
    "duration": 277,
    "start_time": "2024-11-24T08:24:23.248Z"
   },
   {
    "duration": 137,
    "start_time": "2024-11-24T08:24:23.527Z"
   },
   {
    "duration": 46,
    "start_time": "2024-11-24T08:24:23.666Z"
   },
   {
    "duration": 9,
    "start_time": "2024-11-24T08:24:23.714Z"
   },
   {
    "duration": 9,
    "start_time": "2024-11-24T08:24:23.725Z"
   },
   {
    "duration": 729,
    "start_time": "2024-11-24T08:24:23.735Z"
   },
   {
    "duration": 104,
    "start_time": "2024-11-24T08:24:24.470Z"
   },
   {
    "duration": 10,
    "start_time": "2024-11-24T08:24:24.575Z"
   },
   {
    "duration": 115,
    "start_time": "2024-11-24T08:24:24.586Z"
   },
   {
    "duration": 102,
    "start_time": "2024-11-24T08:24:24.705Z"
   },
   {
    "duration": 84,
    "start_time": "2024-11-24T08:24:24.808Z"
   },
   {
    "duration": 760,
    "start_time": "2024-11-24T08:24:24.895Z"
   },
   {
    "duration": 2,
    "start_time": "2024-11-24T08:24:25.658Z"
   },
   {
    "duration": 2,
    "start_time": "2024-11-24T08:24:25.670Z"
   },
   {
    "duration": 3,
    "start_time": "2024-11-24T08:24:25.673Z"
   },
   {
    "duration": 3,
    "start_time": "2024-11-24T08:24:25.677Z"
   },
   {
    "duration": 3,
    "start_time": "2024-11-24T08:24:25.681Z"
   },
   {
    "duration": 3,
    "start_time": "2024-11-24T08:24:25.685Z"
   },
   {
    "duration": 2,
    "start_time": "2024-11-24T08:24:25.689Z"
   },
   {
    "duration": 3,
    "start_time": "2024-11-24T08:24:25.693Z"
   },
   {
    "duration": 3,
    "start_time": "2024-11-24T08:24:25.697Z"
   },
   {
    "duration": 2,
    "start_time": "2024-11-24T08:24:25.702Z"
   },
   {
    "duration": 2,
    "start_time": "2024-11-24T08:24:25.706Z"
   },
   {
    "duration": 2,
    "start_time": "2024-11-24T08:24:25.710Z"
   },
   {
    "duration": 6,
    "start_time": "2024-11-24T08:24:25.713Z"
   },
   {
    "duration": 50,
    "start_time": "2024-11-24T08:24:25.721Z"
   },
   {
    "duration": 118,
    "start_time": "2024-11-24T08:24:49.081Z"
   },
   {
    "duration": 174,
    "start_time": "2024-11-24T08:25:37.637Z"
   },
   {
    "duration": 735,
    "start_time": "2024-11-24T08:27:00.336Z"
   },
   {
    "duration": 763,
    "start_time": "2024-11-24T08:27:20.658Z"
   },
   {
    "duration": 753,
    "start_time": "2024-11-24T08:27:34.230Z"
   },
   {
    "duration": 34,
    "start_time": "2024-11-24T08:28:12.063Z"
   },
   {
    "duration": 12,
    "start_time": "2024-11-24T08:29:31.999Z"
   },
   {
    "duration": 191,
    "start_time": "2024-11-24T08:29:42.496Z"
   },
   {
    "duration": 63,
    "start_time": "2024-11-24T08:32:37.515Z"
   },
   {
    "duration": 336,
    "start_time": "2024-11-24T08:32:49.987Z"
   },
   {
    "duration": 130,
    "start_time": "2024-11-24T08:32:50.325Z"
   },
   {
    "duration": 49,
    "start_time": "2024-11-24T08:32:50.457Z"
   },
   {
    "duration": 9,
    "start_time": "2024-11-24T08:32:50.509Z"
   },
   {
    "duration": 7,
    "start_time": "2024-11-24T08:32:50.519Z"
   },
   {
    "duration": 726,
    "start_time": "2024-11-24T08:32:50.528Z"
   },
   {
    "duration": 109,
    "start_time": "2024-11-24T08:32:51.256Z"
   },
   {
    "duration": 11,
    "start_time": "2024-11-24T08:32:51.370Z"
   },
   {
    "duration": 125,
    "start_time": "2024-11-24T08:32:51.382Z"
   },
   {
    "duration": 107,
    "start_time": "2024-11-24T08:32:51.510Z"
   },
   {
    "duration": 76,
    "start_time": "2024-11-24T08:32:51.619Z"
   },
   {
    "duration": 774,
    "start_time": "2024-11-24T08:32:51.697Z"
   },
   {
    "duration": 384,
    "start_time": "2024-11-24T08:32:52.472Z"
   },
   {
    "duration": 0,
    "start_time": "2024-11-24T08:32:52.858Z"
   },
   {
    "duration": 0,
    "start_time": "2024-11-24T08:32:52.859Z"
   },
   {
    "duration": 0,
    "start_time": "2024-11-24T08:32:52.860Z"
   },
   {
    "duration": 0,
    "start_time": "2024-11-24T08:32:52.869Z"
   },
   {
    "duration": 0,
    "start_time": "2024-11-24T08:32:52.870Z"
   },
   {
    "duration": 0,
    "start_time": "2024-11-24T08:32:52.872Z"
   },
   {
    "duration": 0,
    "start_time": "2024-11-24T08:32:52.874Z"
   },
   {
    "duration": 0,
    "start_time": "2024-11-24T08:32:52.875Z"
   },
   {
    "duration": 0,
    "start_time": "2024-11-24T08:32:52.876Z"
   },
   {
    "duration": 0,
    "start_time": "2024-11-24T08:32:52.877Z"
   },
   {
    "duration": 0,
    "start_time": "2024-11-24T08:32:52.878Z"
   },
   {
    "duration": 0,
    "start_time": "2024-11-24T08:32:52.880Z"
   },
   {
    "duration": 0,
    "start_time": "2024-11-24T08:32:52.882Z"
   },
   {
    "duration": 11,
    "start_time": "2024-11-24T08:33:58.630Z"
   },
   {
    "duration": 767,
    "start_time": "2024-11-24T08:38:50.293Z"
   },
   {
    "duration": 296,
    "start_time": "2024-11-24T08:43:15.911Z"
   },
   {
    "duration": 137,
    "start_time": "2024-11-24T08:43:16.209Z"
   },
   {
    "duration": 44,
    "start_time": "2024-11-24T08:43:16.348Z"
   },
   {
    "duration": 9,
    "start_time": "2024-11-24T08:43:16.395Z"
   },
   {
    "duration": 8,
    "start_time": "2024-11-24T08:43:16.405Z"
   },
   {
    "duration": 748,
    "start_time": "2024-11-24T08:43:16.415Z"
   },
   {
    "duration": 114,
    "start_time": "2024-11-24T08:43:17.165Z"
   },
   {
    "duration": 9,
    "start_time": "2024-11-24T08:43:17.281Z"
   },
   {
    "duration": 113,
    "start_time": "2024-11-24T08:43:17.292Z"
   },
   {
    "duration": 98,
    "start_time": "2024-11-24T08:43:17.409Z"
   },
   {
    "duration": 80,
    "start_time": "2024-11-24T08:43:17.509Z"
   },
   {
    "duration": 14,
    "start_time": "2024-11-24T08:43:17.590Z"
   },
   {
    "duration": 6,
    "start_time": "2024-11-24T08:43:17.607Z"
   },
   {
    "duration": 2,
    "start_time": "2024-11-24T08:43:17.614Z"
   },
   {
    "duration": 3,
    "start_time": "2024-11-24T08:43:17.618Z"
   },
   {
    "duration": 2,
    "start_time": "2024-11-24T08:43:17.622Z"
   },
   {
    "duration": 3,
    "start_time": "2024-11-24T08:43:17.626Z"
   },
   {
    "duration": 3,
    "start_time": "2024-11-24T08:43:17.630Z"
   },
   {
    "duration": 2,
    "start_time": "2024-11-24T08:43:17.671Z"
   },
   {
    "duration": 2,
    "start_time": "2024-11-24T08:43:17.675Z"
   },
   {
    "duration": 3,
    "start_time": "2024-11-24T08:43:17.678Z"
   },
   {
    "duration": 2,
    "start_time": "2024-11-24T08:43:17.683Z"
   },
   {
    "duration": 3,
    "start_time": "2024-11-24T08:43:17.686Z"
   },
   {
    "duration": 3,
    "start_time": "2024-11-24T08:43:17.690Z"
   },
   {
    "duration": 2,
    "start_time": "2024-11-24T08:43:17.695Z"
   },
   {
    "duration": 2,
    "start_time": "2024-11-24T08:43:17.699Z"
   },
   {
    "duration": 85,
    "start_time": "2024-11-24T08:45:55.948Z"
   },
   {
    "duration": 10,
    "start_time": "2024-11-24T08:46:03.326Z"
   },
   {
    "duration": 10,
    "start_time": "2024-11-24T08:46:39.791Z"
   },
   {
    "duration": 16,
    "start_time": "2024-11-24T08:48:28.134Z"
   },
   {
    "duration": 229,
    "start_time": "2024-11-24T08:49:25.878Z"
   },
   {
    "duration": 323,
    "start_time": "2024-11-24T08:49:52.601Z"
   },
   {
    "duration": 122,
    "start_time": "2024-11-24T08:49:52.926Z"
   },
   {
    "duration": 51,
    "start_time": "2024-11-24T08:49:53.050Z"
   },
   {
    "duration": 8,
    "start_time": "2024-11-24T08:49:53.103Z"
   },
   {
    "duration": 7,
    "start_time": "2024-11-24T08:49:53.114Z"
   },
   {
    "duration": 729,
    "start_time": "2024-11-24T08:49:53.122Z"
   },
   {
    "duration": 103,
    "start_time": "2024-11-24T08:49:53.853Z"
   },
   {
    "duration": 14,
    "start_time": "2024-11-24T08:49:53.958Z"
   },
   {
    "duration": 113,
    "start_time": "2024-11-24T08:49:53.974Z"
   },
   {
    "duration": 98,
    "start_time": "2024-11-24T08:49:54.088Z"
   },
   {
    "duration": 71,
    "start_time": "2024-11-24T08:49:54.189Z"
   },
   {
    "duration": 13,
    "start_time": "2024-11-24T08:49:54.270Z"
   },
   {
    "duration": 8,
    "start_time": "2024-11-24T08:49:54.284Z"
   },
   {
    "duration": 18,
    "start_time": "2024-11-24T08:49:54.294Z"
   },
   {
    "duration": 3,
    "start_time": "2024-11-24T08:49:54.314Z"
   },
   {
    "duration": 3,
    "start_time": "2024-11-24T08:49:54.321Z"
   },
   {
    "duration": 2,
    "start_time": "2024-11-24T08:49:54.326Z"
   },
   {
    "duration": 2,
    "start_time": "2024-11-24T08:49:54.330Z"
   },
   {
    "duration": 2,
    "start_time": "2024-11-24T08:49:54.334Z"
   },
   {
    "duration": 2,
    "start_time": "2024-11-24T08:49:54.370Z"
   },
   {
    "duration": 2,
    "start_time": "2024-11-24T08:49:54.374Z"
   },
   {
    "duration": 3,
    "start_time": "2024-11-24T08:49:54.377Z"
   },
   {
    "duration": 2,
    "start_time": "2024-11-24T08:49:54.381Z"
   },
   {
    "duration": 2,
    "start_time": "2024-11-24T08:49:54.385Z"
   },
   {
    "duration": 2,
    "start_time": "2024-11-24T08:49:54.389Z"
   },
   {
    "duration": 2,
    "start_time": "2024-11-24T08:49:54.393Z"
   },
   {
    "duration": 302,
    "start_time": "2024-11-24T08:50:27.742Z"
   },
   {
    "duration": 317,
    "start_time": "2024-11-24T08:50:44.792Z"
   },
   {
    "duration": 128,
    "start_time": "2024-11-24T08:50:45.110Z"
   },
   {
    "duration": 47,
    "start_time": "2024-11-24T08:50:45.239Z"
   },
   {
    "duration": 8,
    "start_time": "2024-11-24T08:50:45.288Z"
   },
   {
    "duration": 6,
    "start_time": "2024-11-24T08:50:45.299Z"
   },
   {
    "duration": 745,
    "start_time": "2024-11-24T08:50:45.307Z"
   },
   {
    "duration": 101,
    "start_time": "2024-11-24T08:50:46.054Z"
   },
   {
    "duration": 17,
    "start_time": "2024-11-24T08:50:46.157Z"
   },
   {
    "duration": 109,
    "start_time": "2024-11-24T08:50:46.175Z"
   },
   {
    "duration": 113,
    "start_time": "2024-11-24T08:50:46.286Z"
   },
   {
    "duration": 73,
    "start_time": "2024-11-24T08:50:46.401Z"
   },
   {
    "duration": 13,
    "start_time": "2024-11-24T08:50:46.476Z"
   },
   {
    "duration": 6,
    "start_time": "2024-11-24T08:50:46.491Z"
   },
   {
    "duration": 17,
    "start_time": "2024-11-24T08:50:46.500Z"
   },
   {
    "duration": 3,
    "start_time": "2024-11-24T08:50:46.518Z"
   },
   {
    "duration": 2,
    "start_time": "2024-11-24T08:50:46.523Z"
   },
   {
    "duration": 4,
    "start_time": "2024-11-24T08:50:46.528Z"
   },
   {
    "duration": 35,
    "start_time": "2024-11-24T08:50:46.535Z"
   },
   {
    "duration": 2,
    "start_time": "2024-11-24T08:50:46.573Z"
   },
   {
    "duration": 3,
    "start_time": "2024-11-24T08:50:46.576Z"
   },
   {
    "duration": 2,
    "start_time": "2024-11-24T08:50:46.581Z"
   },
   {
    "duration": 2,
    "start_time": "2024-11-24T08:50:46.585Z"
   },
   {
    "duration": 3,
    "start_time": "2024-11-24T08:50:46.589Z"
   },
   {
    "duration": 2,
    "start_time": "2024-11-24T08:50:46.593Z"
   },
   {
    "duration": 2,
    "start_time": "2024-11-24T08:50:46.597Z"
   },
   {
    "duration": 2,
    "start_time": "2024-11-24T08:50:46.601Z"
   },
   {
    "duration": 273,
    "start_time": "2024-11-24T08:59:31.158Z"
   },
   {
    "duration": 128,
    "start_time": "2024-11-24T08:59:31.433Z"
   },
   {
    "duration": 44,
    "start_time": "2024-11-24T08:59:31.563Z"
   },
   {
    "duration": 8,
    "start_time": "2024-11-24T08:59:31.609Z"
   },
   {
    "duration": 7,
    "start_time": "2024-11-24T08:59:31.619Z"
   },
   {
    "duration": 726,
    "start_time": "2024-11-24T08:59:31.627Z"
   },
   {
    "duration": 108,
    "start_time": "2024-11-24T08:59:32.354Z"
   },
   {
    "duration": 13,
    "start_time": "2024-11-24T08:59:32.463Z"
   },
   {
    "duration": 106,
    "start_time": "2024-11-24T08:59:32.478Z"
   },
   {
    "duration": 99,
    "start_time": "2024-11-24T08:59:32.587Z"
   },
   {
    "duration": 66,
    "start_time": "2024-11-24T08:59:32.688Z"
   },
   {
    "duration": 24,
    "start_time": "2024-11-24T08:59:32.756Z"
   },
   {
    "duration": 6,
    "start_time": "2024-11-24T08:59:32.781Z"
   },
   {
    "duration": 17,
    "start_time": "2024-11-24T08:59:32.789Z"
   },
   {
    "duration": 3,
    "start_time": "2024-11-24T08:59:32.808Z"
   },
   {
    "duration": 3,
    "start_time": "2024-11-24T08:59:32.812Z"
   },
   {
    "duration": 3,
    "start_time": "2024-11-24T08:59:32.817Z"
   },
   {
    "duration": 3,
    "start_time": "2024-11-24T08:59:32.821Z"
   },
   {
    "duration": 3,
    "start_time": "2024-11-24T08:59:32.825Z"
   },
   {
    "duration": 41,
    "start_time": "2024-11-24T08:59:32.829Z"
   },
   {
    "duration": 3,
    "start_time": "2024-11-24T08:59:32.872Z"
   },
   {
    "duration": 3,
    "start_time": "2024-11-24T08:59:32.876Z"
   },
   {
    "duration": 2,
    "start_time": "2024-11-24T08:59:32.881Z"
   },
   {
    "duration": 3,
    "start_time": "2024-11-24T08:59:32.884Z"
   },
   {
    "duration": 3,
    "start_time": "2024-11-24T08:59:32.888Z"
   },
   {
    "duration": 3,
    "start_time": "2024-11-24T08:59:32.892Z"
   },
   {
    "duration": 275,
    "start_time": "2024-11-24T15:44:51.577Z"
   },
   {
    "duration": 147,
    "start_time": "2024-11-24T15:44:51.854Z"
   },
   {
    "duration": 66,
    "start_time": "2024-11-24T15:44:52.003Z"
   },
   {
    "duration": 10,
    "start_time": "2024-11-24T15:44:52.071Z"
   },
   {
    "duration": 8,
    "start_time": "2024-11-24T15:44:52.082Z"
   },
   {
    "duration": 849,
    "start_time": "2024-11-24T15:44:52.091Z"
   },
   {
    "duration": 103,
    "start_time": "2024-11-24T15:44:52.942Z"
   },
   {
    "duration": 9,
    "start_time": "2024-11-24T15:44:53.046Z"
   },
   {
    "duration": 108,
    "start_time": "2024-11-24T15:44:53.056Z"
   },
   {
    "duration": 92,
    "start_time": "2024-11-24T15:44:53.167Z"
   },
   {
    "duration": 67,
    "start_time": "2024-11-24T15:44:53.260Z"
   },
   {
    "duration": 12,
    "start_time": "2024-11-24T15:44:53.329Z"
   },
   {
    "duration": 7,
    "start_time": "2024-11-24T15:44:53.342Z"
   },
   {
    "duration": 17,
    "start_time": "2024-11-24T15:44:53.350Z"
   },
   {
    "duration": 2,
    "start_time": "2024-11-24T15:44:53.368Z"
   },
   {
    "duration": 1,
    "start_time": "2024-11-24T15:44:53.372Z"
   },
   {
    "duration": 30,
    "start_time": "2024-11-24T15:44:53.375Z"
   },
   {
    "duration": 3,
    "start_time": "2024-11-24T15:44:53.406Z"
   },
   {
    "duration": 3,
    "start_time": "2024-11-24T15:44:53.410Z"
   },
   {
    "duration": 2,
    "start_time": "2024-11-24T15:44:53.414Z"
   },
   {
    "duration": 2,
    "start_time": "2024-11-24T15:44:53.418Z"
   },
   {
    "duration": 2,
    "start_time": "2024-11-24T15:44:53.422Z"
   },
   {
    "duration": 2,
    "start_time": "2024-11-24T15:44:53.426Z"
   },
   {
    "duration": 3,
    "start_time": "2024-11-24T15:44:53.429Z"
   },
   {
    "duration": 3,
    "start_time": "2024-11-24T15:44:53.433Z"
   },
   {
    "duration": 2,
    "start_time": "2024-11-24T15:44:53.438Z"
   },
   {
    "duration": 286,
    "start_time": "2024-11-25T03:53:29.284Z"
   },
   {
    "duration": 166,
    "start_time": "2024-11-25T03:53:29.572Z"
   },
   {
    "duration": 66,
    "start_time": "2024-11-25T03:53:29.741Z"
   },
   {
    "duration": 11,
    "start_time": "2024-11-25T03:53:29.810Z"
   },
   {
    "duration": 9,
    "start_time": "2024-11-25T03:53:29.822Z"
   },
   {
    "duration": 787,
    "start_time": "2024-11-25T03:53:29.833Z"
   },
   {
    "duration": 102,
    "start_time": "2024-11-25T03:53:30.622Z"
   },
   {
    "duration": 8,
    "start_time": "2024-11-25T03:53:30.726Z"
   },
   {
    "duration": 117,
    "start_time": "2024-11-25T03:53:30.736Z"
   },
   {
    "duration": 89,
    "start_time": "2024-11-25T03:53:30.856Z"
   },
   {
    "duration": 75,
    "start_time": "2024-11-25T03:53:30.947Z"
   },
   {
    "duration": 12,
    "start_time": "2024-11-25T03:53:31.023Z"
   },
   {
    "duration": 6,
    "start_time": "2024-11-25T03:53:31.037Z"
   },
   {
    "duration": 18,
    "start_time": "2024-11-25T03:53:31.045Z"
   },
   {
    "duration": 2,
    "start_time": "2024-11-25T03:53:31.067Z"
   },
   {
    "duration": 3,
    "start_time": "2024-11-25T03:53:31.070Z"
   },
   {
    "duration": 3,
    "start_time": "2024-11-25T03:53:31.074Z"
   },
   {
    "duration": 3,
    "start_time": "2024-11-25T03:53:31.109Z"
   },
   {
    "duration": 3,
    "start_time": "2024-11-25T03:53:31.113Z"
   },
   {
    "duration": 3,
    "start_time": "2024-11-25T03:53:31.117Z"
   },
   {
    "duration": 3,
    "start_time": "2024-11-25T03:53:31.121Z"
   },
   {
    "duration": 3,
    "start_time": "2024-11-25T03:53:31.125Z"
   },
   {
    "duration": 3,
    "start_time": "2024-11-25T03:53:31.129Z"
   },
   {
    "duration": 3,
    "start_time": "2024-11-25T03:53:31.134Z"
   },
   {
    "duration": 4,
    "start_time": "2024-11-25T03:53:31.138Z"
   },
   {
    "duration": 3,
    "start_time": "2024-11-25T03:53:31.143Z"
   },
   {
    "duration": 4,
    "start_time": "2024-11-25T04:01:36.943Z"
   },
   {
    "duration": 12,
    "start_time": "2024-11-25T04:02:48.017Z"
   },
   {
    "duration": 12,
    "start_time": "2024-11-25T04:04:39.305Z"
   },
   {
    "duration": 10,
    "start_time": "2024-11-25T04:05:47.440Z"
   },
   {
    "duration": 4,
    "start_time": "2024-11-25T04:06:49.992Z"
   },
   {
    "duration": 8,
    "start_time": "2024-11-25T04:07:10.274Z"
   },
   {
    "duration": 303,
    "start_time": "2024-11-25T04:07:15.959Z"
   },
   {
    "duration": 132,
    "start_time": "2024-11-25T04:07:16.264Z"
   },
   {
    "duration": 48,
    "start_time": "2024-11-25T04:07:16.398Z"
   },
   {
    "duration": 6,
    "start_time": "2024-11-25T04:07:16.449Z"
   },
   {
    "duration": 11,
    "start_time": "2024-11-25T04:07:16.456Z"
   },
   {
    "duration": 726,
    "start_time": "2024-11-25T04:07:16.469Z"
   },
   {
    "duration": 129,
    "start_time": "2024-11-25T04:07:17.197Z"
   },
   {
    "duration": 9,
    "start_time": "2024-11-25T04:07:17.329Z"
   },
   {
    "duration": 120,
    "start_time": "2024-11-25T04:07:17.340Z"
   },
   {
    "duration": 104,
    "start_time": "2024-11-25T04:07:17.463Z"
   },
   {
    "duration": 77,
    "start_time": "2024-11-25T04:07:17.569Z"
   },
   {
    "duration": 13,
    "start_time": "2024-11-25T04:07:17.648Z"
   },
   {
    "duration": 7,
    "start_time": "2024-11-25T04:07:17.663Z"
   },
   {
    "duration": 18,
    "start_time": "2024-11-25T04:07:17.671Z"
   },
   {
    "duration": 19,
    "start_time": "2024-11-25T04:07:17.691Z"
   },
   {
    "duration": 11,
    "start_time": "2024-11-25T04:07:17.712Z"
   },
   {
    "duration": 8,
    "start_time": "2024-11-25T04:07:17.725Z"
   },
   {
    "duration": 8,
    "start_time": "2024-11-25T04:07:17.735Z"
   },
   {
    "duration": 4,
    "start_time": "2024-11-25T04:07:17.746Z"
   },
   {
    "duration": 2,
    "start_time": "2024-11-25T04:07:17.752Z"
   },
   {
    "duration": 3,
    "start_time": "2024-11-25T04:07:17.755Z"
   },
   {
    "duration": 3,
    "start_time": "2024-11-25T04:07:17.760Z"
   },
   {
    "duration": 3,
    "start_time": "2024-11-25T04:07:17.764Z"
   },
   {
    "duration": 2,
    "start_time": "2024-11-25T04:07:17.810Z"
   },
   {
    "duration": 5,
    "start_time": "2024-11-25T04:07:17.814Z"
   },
   {
    "duration": 4,
    "start_time": "2024-11-25T04:07:17.821Z"
   },
   {
    "duration": 3,
    "start_time": "2024-11-25T04:07:17.827Z"
   },
   {
    "duration": 3,
    "start_time": "2024-11-25T04:07:17.835Z"
   },
   {
    "duration": 3,
    "start_time": "2024-11-25T04:07:17.839Z"
   },
   {
    "duration": 4,
    "start_time": "2024-11-25T04:07:17.844Z"
   },
   {
    "duration": 8,
    "start_time": "2024-11-25T04:07:51.149Z"
   },
   {
    "duration": 21,
    "start_time": "2024-11-25T04:08:35.616Z"
   },
   {
    "duration": 295,
    "start_time": "2024-11-25T04:09:19.664Z"
   },
   {
    "duration": 127,
    "start_time": "2024-11-25T04:09:19.962Z"
   },
   {
    "duration": 48,
    "start_time": "2024-11-25T04:09:20.090Z"
   },
   {
    "duration": 6,
    "start_time": "2024-11-25T04:09:20.140Z"
   },
   {
    "duration": 10,
    "start_time": "2024-11-25T04:09:20.148Z"
   },
   {
    "duration": 727,
    "start_time": "2024-11-25T04:09:20.159Z"
   },
   {
    "duration": 102,
    "start_time": "2024-11-25T04:09:20.888Z"
   },
   {
    "duration": 17,
    "start_time": "2024-11-25T04:09:20.992Z"
   },
   {
    "duration": 111,
    "start_time": "2024-11-25T04:09:21.011Z"
   },
   {
    "duration": 103,
    "start_time": "2024-11-25T04:09:21.123Z"
   },
   {
    "duration": 69,
    "start_time": "2024-11-25T04:09:21.228Z"
   },
   {
    "duration": 21,
    "start_time": "2024-11-25T04:09:21.299Z"
   },
   {
    "duration": 7,
    "start_time": "2024-11-25T04:09:21.322Z"
   },
   {
    "duration": 18,
    "start_time": "2024-11-25T04:09:21.332Z"
   },
   {
    "duration": 3,
    "start_time": "2024-11-25T04:09:21.351Z"
   },
   {
    "duration": 8,
    "start_time": "2024-11-25T04:09:21.355Z"
   },
   {
    "duration": 5,
    "start_time": "2024-11-25T04:09:21.365Z"
   },
   {
    "duration": 7,
    "start_time": "2024-11-25T04:09:21.408Z"
   },
   {
    "duration": 4,
    "start_time": "2024-11-25T04:09:21.417Z"
   },
   {
    "duration": 20,
    "start_time": "2024-11-25T04:09:21.422Z"
   },
   {
    "duration": 3,
    "start_time": "2024-11-25T04:09:21.443Z"
   },
   {
    "duration": 2,
    "start_time": "2024-11-25T04:09:21.447Z"
   },
   {
    "duration": 2,
    "start_time": "2024-11-25T04:09:21.451Z"
   },
   {
    "duration": 3,
    "start_time": "2024-11-25T04:09:21.455Z"
   },
   {
    "duration": 3,
    "start_time": "2024-11-25T04:09:21.459Z"
   },
   {
    "duration": 3,
    "start_time": "2024-11-25T04:09:21.464Z"
   },
   {
    "duration": 2,
    "start_time": "2024-11-25T04:09:21.508Z"
   },
   {
    "duration": 2,
    "start_time": "2024-11-25T04:09:21.512Z"
   },
   {
    "duration": 3,
    "start_time": "2024-11-25T04:09:21.516Z"
   },
   {
    "duration": 2,
    "start_time": "2024-11-25T04:09:21.521Z"
   },
   {
    "duration": 37,
    "start_time": "2024-11-25T04:22:11.459Z"
   },
   {
    "duration": 184,
    "start_time": "2024-11-25T04:22:39.654Z"
   },
   {
    "duration": 280,
    "start_time": "2024-11-25T04:22:52.999Z"
   },
   {
    "duration": 128,
    "start_time": "2024-11-25T04:22:53.281Z"
   },
   {
    "duration": 44,
    "start_time": "2024-11-25T04:22:53.411Z"
   },
   {
    "duration": 7,
    "start_time": "2024-11-25T04:22:53.457Z"
   },
   {
    "duration": 10,
    "start_time": "2024-11-25T04:22:53.467Z"
   },
   {
    "duration": 735,
    "start_time": "2024-11-25T04:22:53.479Z"
   },
   {
    "duration": 100,
    "start_time": "2024-11-25T04:22:54.216Z"
   },
   {
    "duration": 9,
    "start_time": "2024-11-25T04:22:54.318Z"
   },
   {
    "duration": 121,
    "start_time": "2024-11-25T04:22:54.328Z"
   },
   {
    "duration": 93,
    "start_time": "2024-11-25T04:22:54.450Z"
   },
   {
    "duration": 77,
    "start_time": "2024-11-25T04:22:54.545Z"
   },
   {
    "duration": 12,
    "start_time": "2024-11-25T04:22:54.624Z"
   },
   {
    "duration": 6,
    "start_time": "2024-11-25T04:22:54.638Z"
   },
   {
    "duration": 17,
    "start_time": "2024-11-25T04:22:54.648Z"
   },
   {
    "duration": 2,
    "start_time": "2024-11-25T04:22:54.667Z"
   },
   {
    "duration": 7,
    "start_time": "2024-11-25T04:22:54.671Z"
   },
   {
    "duration": 5,
    "start_time": "2024-11-25T04:22:54.708Z"
   },
   {
    "duration": 7,
    "start_time": "2024-11-25T04:22:54.714Z"
   },
   {
    "duration": 4,
    "start_time": "2024-11-25T04:22:54.723Z"
   },
   {
    "duration": 194,
    "start_time": "2024-11-25T04:22:54.729Z"
   },
   {
    "duration": 0,
    "start_time": "2024-11-25T04:22:54.925Z"
   },
   {
    "duration": 0,
    "start_time": "2024-11-25T04:22:54.926Z"
   },
   {
    "duration": 0,
    "start_time": "2024-11-25T04:22:54.927Z"
   },
   {
    "duration": 0,
    "start_time": "2024-11-25T04:22:54.928Z"
   },
   {
    "duration": 0,
    "start_time": "2024-11-25T04:22:54.929Z"
   },
   {
    "duration": 0,
    "start_time": "2024-11-25T04:22:54.930Z"
   },
   {
    "duration": 0,
    "start_time": "2024-11-25T04:22:54.931Z"
   },
   {
    "duration": 0,
    "start_time": "2024-11-25T04:22:54.932Z"
   },
   {
    "duration": 0,
    "start_time": "2024-11-25T04:22:54.933Z"
   },
   {
    "duration": 0,
    "start_time": "2024-11-25T04:22:54.935Z"
   },
   {
    "duration": 806,
    "start_time": "2024-11-25T04:23:09.327Z"
   },
   {
    "duration": 39,
    "start_time": "2024-11-25T04:23:16.947Z"
   },
   {
    "duration": 315,
    "start_time": "2024-11-25T04:23:58.438Z"
   },
   {
    "duration": 138,
    "start_time": "2024-11-25T04:23:58.756Z"
   },
   {
    "duration": 42,
    "start_time": "2024-11-25T04:23:58.896Z"
   },
   {
    "duration": 6,
    "start_time": "2024-11-25T04:23:58.940Z"
   },
   {
    "duration": 10,
    "start_time": "2024-11-25T04:23:58.949Z"
   },
   {
    "duration": 722,
    "start_time": "2024-11-25T04:23:58.961Z"
   },
   {
    "duration": 125,
    "start_time": "2024-11-25T04:23:59.685Z"
   },
   {
    "duration": 9,
    "start_time": "2024-11-25T04:23:59.812Z"
   },
   {
    "duration": 122,
    "start_time": "2024-11-25T04:23:59.823Z"
   },
   {
    "duration": 96,
    "start_time": "2024-11-25T04:23:59.947Z"
   },
   {
    "duration": 77,
    "start_time": "2024-11-25T04:24:00.044Z"
   },
   {
    "duration": 12,
    "start_time": "2024-11-25T04:24:00.123Z"
   },
   {
    "duration": 8,
    "start_time": "2024-11-25T04:24:00.136Z"
   },
   {
    "duration": 17,
    "start_time": "2024-11-25T04:24:00.147Z"
   },
   {
    "duration": 3,
    "start_time": "2024-11-25T04:24:00.165Z"
   },
   {
    "duration": 9,
    "start_time": "2024-11-25T04:24:00.169Z"
   },
   {
    "duration": 33,
    "start_time": "2024-11-25T04:24:00.179Z"
   },
   {
    "duration": 8,
    "start_time": "2024-11-25T04:24:00.214Z"
   },
   {
    "duration": 4,
    "start_time": "2024-11-25T04:24:00.224Z"
   },
   {
    "duration": 779,
    "start_time": "2024-11-25T04:24:00.230Z"
   },
   {
    "duration": 40,
    "start_time": "2024-11-25T04:24:01.010Z"
   },
   {
    "duration": 3,
    "start_time": "2024-11-25T04:24:01.052Z"
   },
   {
    "duration": 3,
    "start_time": "2024-11-25T04:24:01.056Z"
   },
   {
    "duration": 3,
    "start_time": "2024-11-25T04:24:01.060Z"
   },
   {
    "duration": 3,
    "start_time": "2024-11-25T04:24:01.064Z"
   },
   {
    "duration": 2,
    "start_time": "2024-11-25T04:24:01.069Z"
   },
   {
    "duration": 3,
    "start_time": "2024-11-25T04:24:01.073Z"
   },
   {
    "duration": 32,
    "start_time": "2024-11-25T04:24:01.077Z"
   },
   {
    "duration": 3,
    "start_time": "2024-11-25T04:24:01.110Z"
   },
   {
    "duration": 3,
    "start_time": "2024-11-25T04:24:01.114Z"
   },
   {
    "duration": 7,
    "start_time": "2024-11-25T04:25:15.010Z"
   },
   {
    "duration": 21,
    "start_time": "2024-11-25T04:25:35.123Z"
   },
   {
    "duration": 694,
    "start_time": "2024-11-25T04:28:18.251Z"
   },
   {
    "duration": 713,
    "start_time": "2024-11-25T04:28:32.949Z"
   },
   {
    "duration": 282,
    "start_time": "2024-11-25T04:28:46.085Z"
   },
   {
    "duration": 126,
    "start_time": "2024-11-25T04:28:46.370Z"
   },
   {
    "duration": 44,
    "start_time": "2024-11-25T04:28:46.498Z"
   },
   {
    "duration": 7,
    "start_time": "2024-11-25T04:28:46.544Z"
   },
   {
    "duration": 11,
    "start_time": "2024-11-25T04:28:46.553Z"
   },
   {
    "duration": 732,
    "start_time": "2024-11-25T04:28:46.567Z"
   },
   {
    "duration": 122,
    "start_time": "2024-11-25T04:28:47.301Z"
   },
   {
    "duration": 9,
    "start_time": "2024-11-25T04:28:47.425Z"
   },
   {
    "duration": 122,
    "start_time": "2024-11-25T04:28:47.436Z"
   },
   {
    "duration": 105,
    "start_time": "2024-11-25T04:28:47.559Z"
   },
   {
    "duration": 79,
    "start_time": "2024-11-25T04:28:47.667Z"
   },
   {
    "duration": 13,
    "start_time": "2024-11-25T04:28:47.747Z"
   },
   {
    "duration": 9,
    "start_time": "2024-11-25T04:28:47.761Z"
   },
   {
    "duration": 44,
    "start_time": "2024-11-25T04:28:47.774Z"
   },
   {
    "duration": 2,
    "start_time": "2024-11-25T04:28:47.820Z"
   },
   {
    "duration": 8,
    "start_time": "2024-11-25T04:28:47.828Z"
   },
   {
    "duration": 4,
    "start_time": "2024-11-25T04:28:47.838Z"
   },
   {
    "duration": 7,
    "start_time": "2024-11-25T04:28:47.844Z"
   },
   {
    "duration": 4,
    "start_time": "2024-11-25T04:28:47.854Z"
   },
   {
    "duration": 801,
    "start_time": "2024-11-25T04:28:47.859Z"
   },
   {
    "duration": 51,
    "start_time": "2024-11-25T04:28:48.662Z"
   },
   {
    "duration": 2,
    "start_time": "2024-11-25T04:28:48.715Z"
   },
   {
    "duration": 3,
    "start_time": "2024-11-25T04:28:48.718Z"
   },
   {
    "duration": 3,
    "start_time": "2024-11-25T04:28:48.723Z"
   },
   {
    "duration": 2,
    "start_time": "2024-11-25T04:28:48.728Z"
   },
   {
    "duration": 3,
    "start_time": "2024-11-25T04:28:48.731Z"
   },
   {
    "duration": 3,
    "start_time": "2024-11-25T04:28:48.735Z"
   },
   {
    "duration": 3,
    "start_time": "2024-11-25T04:28:48.740Z"
   },
   {
    "duration": 2,
    "start_time": "2024-11-25T04:28:48.744Z"
   },
   {
    "duration": 3,
    "start_time": "2024-11-25T04:28:48.748Z"
   },
   {
    "duration": 6,
    "start_time": "2024-11-25T04:31:55.800Z"
   },
   {
    "duration": 303,
    "start_time": "2024-11-25T04:34:50.315Z"
   },
   {
    "duration": 300,
    "start_time": "2024-11-25T04:35:52.852Z"
   },
   {
    "duration": 131,
    "start_time": "2024-11-25T04:35:53.153Z"
   },
   {
    "duration": 48,
    "start_time": "2024-11-25T04:35:53.285Z"
   },
   {
    "duration": 6,
    "start_time": "2024-11-25T04:35:53.336Z"
   },
   {
    "duration": 10,
    "start_time": "2024-11-25T04:35:53.343Z"
   },
   {
    "duration": 733,
    "start_time": "2024-11-25T04:35:53.354Z"
   },
   {
    "duration": 103,
    "start_time": "2024-11-25T04:35:54.089Z"
   },
   {
    "duration": 17,
    "start_time": "2024-11-25T04:35:54.193Z"
   },
   {
    "duration": 112,
    "start_time": "2024-11-25T04:35:54.212Z"
   },
   {
    "duration": 95,
    "start_time": "2024-11-25T04:35:54.327Z"
   },
   {
    "duration": 67,
    "start_time": "2024-11-25T04:35:54.423Z"
   },
   {
    "duration": 20,
    "start_time": "2024-11-25T04:35:54.492Z"
   },
   {
    "duration": 7,
    "start_time": "2024-11-25T04:35:54.514Z"
   },
   {
    "duration": 19,
    "start_time": "2024-11-25T04:35:54.524Z"
   },
   {
    "duration": 2,
    "start_time": "2024-11-25T04:35:54.545Z"
   },
   {
    "duration": 7,
    "start_time": "2024-11-25T04:35:54.550Z"
   },
   {
    "duration": 4,
    "start_time": "2024-11-25T04:35:54.559Z"
   },
   {
    "duration": 8,
    "start_time": "2024-11-25T04:35:54.565Z"
   },
   {
    "duration": 4,
    "start_time": "2024-11-25T04:35:54.609Z"
   },
   {
    "duration": 781,
    "start_time": "2024-11-25T04:35:54.615Z"
   },
   {
    "duration": 43,
    "start_time": "2024-11-25T04:35:55.398Z"
   },
   {
    "duration": 5,
    "start_time": "2024-11-25T04:35:55.442Z"
   },
   {
    "duration": 312,
    "start_time": "2024-11-25T04:35:55.449Z"
   },
   {
    "duration": 0,
    "start_time": "2024-11-25T04:35:55.762Z"
   },
   {
    "duration": 0,
    "start_time": "2024-11-25T04:35:55.764Z"
   },
   {
    "duration": 0,
    "start_time": "2024-11-25T04:35:55.766Z"
   },
   {
    "duration": 0,
    "start_time": "2024-11-25T04:35:55.767Z"
   },
   {
    "duration": 0,
    "start_time": "2024-11-25T04:35:55.768Z"
   },
   {
    "duration": 1,
    "start_time": "2024-11-25T04:35:55.769Z"
   },
   {
    "duration": 0,
    "start_time": "2024-11-25T04:35:55.771Z"
   },
   {
    "duration": 0,
    "start_time": "2024-11-25T04:35:55.772Z"
   },
   {
    "duration": 66,
    "start_time": "2024-11-25T04:39:11.823Z"
   },
   {
    "duration": 26,
    "start_time": "2024-11-25T04:39:21.000Z"
   },
   {
    "duration": 27,
    "start_time": "2024-11-25T04:40:10.875Z"
   },
   {
    "duration": 16,
    "start_time": "2024-11-25T04:40:47.413Z"
   },
   {
    "duration": 288,
    "start_time": "2024-11-25T04:41:00.869Z"
   },
   {
    "duration": 126,
    "start_time": "2024-11-25T04:41:01.159Z"
   },
   {
    "duration": 47,
    "start_time": "2024-11-25T04:41:01.287Z"
   },
   {
    "duration": 6,
    "start_time": "2024-11-25T04:41:01.336Z"
   },
   {
    "duration": 10,
    "start_time": "2024-11-25T04:41:01.343Z"
   },
   {
    "duration": 723,
    "start_time": "2024-11-25T04:41:01.354Z"
   },
   {
    "duration": 111,
    "start_time": "2024-11-25T04:41:02.079Z"
   },
   {
    "duration": 19,
    "start_time": "2024-11-25T04:41:02.191Z"
   },
   {
    "duration": 114,
    "start_time": "2024-11-25T04:41:02.211Z"
   },
   {
    "duration": 100,
    "start_time": "2024-11-25T04:41:02.329Z"
   },
   {
    "duration": 79,
    "start_time": "2024-11-25T04:41:02.430Z"
   },
   {
    "duration": 13,
    "start_time": "2024-11-25T04:41:02.511Z"
   },
   {
    "duration": 6,
    "start_time": "2024-11-25T04:41:02.525Z"
   },
   {
    "duration": 17,
    "start_time": "2024-11-25T04:41:02.533Z"
   },
   {
    "duration": 2,
    "start_time": "2024-11-25T04:41:02.552Z"
   },
   {
    "duration": 8,
    "start_time": "2024-11-25T04:41:02.556Z"
   },
   {
    "duration": 4,
    "start_time": "2024-11-25T04:41:02.566Z"
   },
   {
    "duration": 41,
    "start_time": "2024-11-25T04:41:02.572Z"
   },
   {
    "duration": 4,
    "start_time": "2024-11-25T04:41:02.615Z"
   },
   {
    "duration": 791,
    "start_time": "2024-11-25T04:41:02.621Z"
   },
   {
    "duration": 38,
    "start_time": "2024-11-25T04:41:03.414Z"
   },
   {
    "duration": 6,
    "start_time": "2024-11-25T04:41:03.453Z"
   },
   {
    "duration": 105,
    "start_time": "2024-11-25T04:41:03.461Z"
   },
   {
    "duration": 0,
    "start_time": "2024-11-25T04:41:03.568Z"
   },
   {
    "duration": 0,
    "start_time": "2024-11-25T04:41:03.569Z"
   },
   {
    "duration": 0,
    "start_time": "2024-11-25T04:41:03.570Z"
   },
   {
    "duration": 0,
    "start_time": "2024-11-25T04:41:03.571Z"
   },
   {
    "duration": 0,
    "start_time": "2024-11-25T04:41:03.572Z"
   },
   {
    "duration": 0,
    "start_time": "2024-11-25T04:41:03.573Z"
   },
   {
    "duration": 0,
    "start_time": "2024-11-25T04:41:03.576Z"
   },
   {
    "duration": 0,
    "start_time": "2024-11-25T04:41:03.577Z"
   },
   {
    "duration": 34,
    "start_time": "2024-11-25T04:41:43.242Z"
   },
   {
    "duration": 6,
    "start_time": "2024-11-25T04:42:27.559Z"
   },
   {
    "duration": 10,
    "start_time": "2024-11-25T04:42:37.832Z"
   },
   {
    "duration": 4,
    "start_time": "2024-11-25T04:43:21.626Z"
   },
   {
    "duration": 5,
    "start_time": "2024-11-25T04:43:50.218Z"
   },
   {
    "duration": 105,
    "start_time": "2024-11-25T04:44:04.094Z"
   },
   {
    "duration": 8,
    "start_time": "2024-11-25T04:44:20.527Z"
   },
   {
    "duration": 14,
    "start_time": "2024-11-25T04:44:53.517Z"
   },
   {
    "duration": 14,
    "start_time": "2024-11-25T04:45:04.283Z"
   },
   {
    "duration": 7,
    "start_time": "2024-11-25T04:45:09.741Z"
   },
   {
    "duration": 9,
    "start_time": "2024-11-25T04:45:18.930Z"
   },
   {
    "duration": 290,
    "start_time": "2024-11-25T04:45:39.570Z"
   },
   {
    "duration": 120,
    "start_time": "2024-11-25T04:45:39.862Z"
   },
   {
    "duration": 46,
    "start_time": "2024-11-25T04:45:39.984Z"
   },
   {
    "duration": 5,
    "start_time": "2024-11-25T04:45:40.032Z"
   },
   {
    "duration": 9,
    "start_time": "2024-11-25T04:45:40.040Z"
   },
   {
    "duration": 711,
    "start_time": "2024-11-25T04:45:40.052Z"
   },
   {
    "duration": 107,
    "start_time": "2024-11-25T04:45:40.765Z"
   },
   {
    "duration": 9,
    "start_time": "2024-11-25T04:45:40.874Z"
   },
   {
    "duration": 120,
    "start_time": "2024-11-25T04:45:40.885Z"
   },
   {
    "duration": 90,
    "start_time": "2024-11-25T04:45:41.007Z"
   },
   {
    "duration": 71,
    "start_time": "2024-11-25T04:45:41.108Z"
   },
   {
    "duration": 13,
    "start_time": "2024-11-25T04:45:41.180Z"
   },
   {
    "duration": 19,
    "start_time": "2024-11-25T04:45:41.194Z"
   },
   {
    "duration": 17,
    "start_time": "2024-11-25T04:45:41.217Z"
   },
   {
    "duration": 2,
    "start_time": "2024-11-25T04:45:41.235Z"
   },
   {
    "duration": 8,
    "start_time": "2024-11-25T04:45:41.239Z"
   },
   {
    "duration": 4,
    "start_time": "2024-11-25T04:45:41.248Z"
   },
   {
    "duration": 8,
    "start_time": "2024-11-25T04:45:41.253Z"
   },
   {
    "duration": 4,
    "start_time": "2024-11-25T04:45:41.263Z"
   },
   {
    "duration": 781,
    "start_time": "2024-11-25T04:45:41.309Z"
   },
   {
    "duration": 46,
    "start_time": "2024-11-25T04:45:42.092Z"
   },
   {
    "duration": 5,
    "start_time": "2024-11-25T04:45:42.140Z"
   },
   {
    "duration": 316,
    "start_time": "2024-11-25T04:45:42.147Z"
   },
   {
    "duration": 0,
    "start_time": "2024-11-25T04:45:42.465Z"
   },
   {
    "duration": 0,
    "start_time": "2024-11-25T04:45:42.466Z"
   },
   {
    "duration": 0,
    "start_time": "2024-11-25T04:45:42.467Z"
   },
   {
    "duration": 0,
    "start_time": "2024-11-25T04:45:42.469Z"
   },
   {
    "duration": 0,
    "start_time": "2024-11-25T04:45:42.470Z"
   },
   {
    "duration": 0,
    "start_time": "2024-11-25T04:45:42.471Z"
   },
   {
    "duration": 0,
    "start_time": "2024-11-25T04:45:42.472Z"
   },
   {
    "duration": 0,
    "start_time": "2024-11-25T04:45:42.473Z"
   },
   {
    "duration": 65,
    "start_time": "2024-11-25T04:46:03.092Z"
   },
   {
    "duration": 26,
    "start_time": "2024-11-25T04:46:07.957Z"
   },
   {
    "duration": 299,
    "start_time": "2024-11-25T04:46:16.858Z"
   },
   {
    "duration": 163,
    "start_time": "2024-11-25T04:46:17.159Z"
   },
   {
    "duration": 46,
    "start_time": "2024-11-25T04:46:17.324Z"
   },
   {
    "duration": 6,
    "start_time": "2024-11-25T04:46:17.373Z"
   },
   {
    "duration": 9,
    "start_time": "2024-11-25T04:46:17.381Z"
   },
   {
    "duration": 750,
    "start_time": "2024-11-25T04:46:17.392Z"
   },
   {
    "duration": 110,
    "start_time": "2024-11-25T04:46:18.144Z"
   },
   {
    "duration": 10,
    "start_time": "2024-11-25T04:46:18.255Z"
   },
   {
    "duration": 125,
    "start_time": "2024-11-25T04:46:18.266Z"
   },
   {
    "duration": 94,
    "start_time": "2024-11-25T04:46:18.395Z"
   },
   {
    "duration": 76,
    "start_time": "2024-11-25T04:46:18.491Z"
   },
   {
    "duration": 12,
    "start_time": "2024-11-25T04:46:18.569Z"
   },
   {
    "duration": 7,
    "start_time": "2024-11-25T04:46:18.584Z"
   },
   {
    "duration": 31,
    "start_time": "2024-11-25T04:46:18.592Z"
   },
   {
    "duration": 2,
    "start_time": "2024-11-25T04:46:18.625Z"
   },
   {
    "duration": 7,
    "start_time": "2024-11-25T04:46:18.629Z"
   },
   {
    "duration": 4,
    "start_time": "2024-11-25T04:46:18.638Z"
   },
   {
    "duration": 8,
    "start_time": "2024-11-25T04:46:18.643Z"
   },
   {
    "duration": 4,
    "start_time": "2024-11-25T04:46:18.653Z"
   },
   {
    "duration": 826,
    "start_time": "2024-11-25T04:46:18.658Z"
   },
   {
    "duration": 45,
    "start_time": "2024-11-25T04:46:19.486Z"
   },
   {
    "duration": 5,
    "start_time": "2024-11-25T04:46:19.533Z"
   },
   {
    "duration": 324,
    "start_time": "2024-11-25T04:46:19.540Z"
   },
   {
    "duration": 0,
    "start_time": "2024-11-25T04:46:19.866Z"
   },
   {
    "duration": 0,
    "start_time": "2024-11-25T04:46:19.868Z"
   },
   {
    "duration": 0,
    "start_time": "2024-11-25T04:46:19.869Z"
   },
   {
    "duration": 0,
    "start_time": "2024-11-25T04:46:19.870Z"
   },
   {
    "duration": 0,
    "start_time": "2024-11-25T04:46:19.871Z"
   },
   {
    "duration": 0,
    "start_time": "2024-11-25T04:46:19.873Z"
   },
   {
    "duration": 0,
    "start_time": "2024-11-25T04:46:19.874Z"
   },
   {
    "duration": 0,
    "start_time": "2024-11-25T04:46:19.875Z"
   },
   {
    "duration": 65,
    "start_time": "2024-11-25T04:49:14.640Z"
   },
   {
    "duration": 5,
    "start_time": "2024-11-25T04:53:39.502Z"
   },
   {
    "duration": 4,
    "start_time": "2024-11-25T04:54:19.244Z"
   },
   {
    "duration": 27,
    "start_time": "2024-11-25T04:54:30.838Z"
   },
   {
    "duration": 307,
    "start_time": "2024-11-25T04:54:46.104Z"
   },
   {
    "duration": 126,
    "start_time": "2024-11-25T04:54:46.413Z"
   },
   {
    "duration": 48,
    "start_time": "2024-11-25T04:54:46.541Z"
   },
   {
    "duration": 17,
    "start_time": "2024-11-25T04:54:46.592Z"
   },
   {
    "duration": 10,
    "start_time": "2024-11-25T04:54:46.610Z"
   },
   {
    "duration": 763,
    "start_time": "2024-11-25T04:54:46.622Z"
   },
   {
    "duration": 106,
    "start_time": "2024-11-25T04:54:47.387Z"
   },
   {
    "duration": 18,
    "start_time": "2024-11-25T04:54:47.495Z"
   },
   {
    "duration": 114,
    "start_time": "2024-11-25T04:54:47.514Z"
   },
   {
    "duration": 102,
    "start_time": "2024-11-25T04:54:47.631Z"
   },
   {
    "duration": 75,
    "start_time": "2024-11-25T04:54:47.735Z"
   },
   {
    "duration": 12,
    "start_time": "2024-11-25T04:54:47.813Z"
   },
   {
    "duration": 7,
    "start_time": "2024-11-25T04:54:47.827Z"
   },
   {
    "duration": 18,
    "start_time": "2024-11-25T04:54:47.835Z"
   },
   {
    "duration": 3,
    "start_time": "2024-11-25T04:54:47.854Z"
   },
   {
    "duration": 8,
    "start_time": "2024-11-25T04:54:47.858Z"
   },
   {
    "duration": 4,
    "start_time": "2024-11-25T04:54:47.868Z"
   },
   {
    "duration": 45,
    "start_time": "2024-11-25T04:54:47.874Z"
   },
   {
    "duration": 4,
    "start_time": "2024-11-25T04:54:47.921Z"
   },
   {
    "duration": 803,
    "start_time": "2024-11-25T04:54:47.927Z"
   },
   {
    "duration": 38,
    "start_time": "2024-11-25T04:54:48.732Z"
   },
   {
    "duration": 5,
    "start_time": "2024-11-25T04:54:48.772Z"
   },
   {
    "duration": 326,
    "start_time": "2024-11-25T04:54:48.779Z"
   },
   {
    "duration": 0,
    "start_time": "2024-11-25T04:54:49.107Z"
   },
   {
    "duration": 0,
    "start_time": "2024-11-25T04:54:49.108Z"
   },
   {
    "duration": 0,
    "start_time": "2024-11-25T04:54:49.110Z"
   },
   {
    "duration": 0,
    "start_time": "2024-11-25T04:54:49.111Z"
   },
   {
    "duration": 0,
    "start_time": "2024-11-25T04:54:49.112Z"
   },
   {
    "duration": 0,
    "start_time": "2024-11-25T04:54:49.113Z"
   },
   {
    "duration": 0,
    "start_time": "2024-11-25T04:54:49.114Z"
   },
   {
    "duration": 0,
    "start_time": "2024-11-25T04:54:49.115Z"
   },
   {
    "duration": 34,
    "start_time": "2024-11-25T04:55:20.223Z"
   },
   {
    "duration": 5,
    "start_time": "2024-11-25T04:56:18.393Z"
   },
   {
    "duration": 2,
    "start_time": "2024-11-25T04:56:41.101Z"
   },
   {
    "duration": 5,
    "start_time": "2024-11-25T04:56:59.520Z"
   },
   {
    "duration": 4,
    "start_time": "2024-11-25T04:57:22.998Z"
   },
   {
    "duration": 5,
    "start_time": "2024-11-25T04:57:35.324Z"
   },
   {
    "duration": 11,
    "start_time": "2024-11-25T04:57:52.969Z"
   },
   {
    "duration": 8,
    "start_time": "2024-11-25T04:58:14.404Z"
   },
   {
    "duration": 9,
    "start_time": "2024-11-25T04:59:02.175Z"
   },
   {
    "duration": 10,
    "start_time": "2024-11-25T04:59:17.009Z"
   },
   {
    "duration": 8,
    "start_time": "2024-11-25T04:59:34.686Z"
   },
   {
    "duration": 6,
    "start_time": "2024-11-25T04:59:58.416Z"
   },
   {
    "duration": 6,
    "start_time": "2024-11-25T05:00:17.023Z"
   },
   {
    "duration": 317,
    "start_time": "2024-11-25T05:00:56.337Z"
   },
   {
    "duration": 127,
    "start_time": "2024-11-25T05:00:56.656Z"
   },
   {
    "duration": 46,
    "start_time": "2024-11-25T05:00:56.785Z"
   },
   {
    "duration": 6,
    "start_time": "2024-11-25T05:00:56.833Z"
   },
   {
    "duration": 11,
    "start_time": "2024-11-25T05:00:56.841Z"
   },
   {
    "duration": 749,
    "start_time": "2024-11-25T05:00:56.853Z"
   },
   {
    "duration": 107,
    "start_time": "2024-11-25T05:00:57.603Z"
   },
   {
    "duration": 13,
    "start_time": "2024-11-25T05:00:57.711Z"
   },
   {
    "duration": 117,
    "start_time": "2024-11-25T05:00:57.726Z"
   },
   {
    "duration": 108,
    "start_time": "2024-11-25T05:00:57.845Z"
   },
   {
    "duration": 76,
    "start_time": "2024-11-25T05:00:57.955Z"
   },
   {
    "duration": 15,
    "start_time": "2024-11-25T05:00:58.033Z"
   },
   {
    "duration": 9,
    "start_time": "2024-11-25T05:00:58.049Z"
   },
   {
    "duration": 17,
    "start_time": "2024-11-25T05:00:58.061Z"
   },
   {
    "duration": 2,
    "start_time": "2024-11-25T05:00:58.080Z"
   },
   {
    "duration": 8,
    "start_time": "2024-11-25T05:00:58.108Z"
   },
   {
    "duration": 5,
    "start_time": "2024-11-25T05:00:58.118Z"
   },
   {
    "duration": 7,
    "start_time": "2024-11-25T05:00:58.125Z"
   },
   {
    "duration": 5,
    "start_time": "2024-11-25T05:00:58.134Z"
   },
   {
    "duration": 797,
    "start_time": "2024-11-25T05:00:58.141Z"
   },
   {
    "duration": 38,
    "start_time": "2024-11-25T05:00:58.940Z"
   },
   {
    "duration": 6,
    "start_time": "2024-11-25T05:00:58.980Z"
   },
   {
    "duration": 331,
    "start_time": "2024-11-25T05:00:58.987Z"
   },
   {
    "duration": 0,
    "start_time": "2024-11-25T05:00:59.320Z"
   },
   {
    "duration": 0,
    "start_time": "2024-11-25T05:00:59.320Z"
   },
   {
    "duration": 0,
    "start_time": "2024-11-25T05:00:59.322Z"
   },
   {
    "duration": 0,
    "start_time": "2024-11-25T05:00:59.325Z"
   },
   {
    "duration": 0,
    "start_time": "2024-11-25T05:00:59.326Z"
   },
   {
    "duration": 0,
    "start_time": "2024-11-25T05:00:59.328Z"
   },
   {
    "duration": 0,
    "start_time": "2024-11-25T05:00:59.329Z"
   },
   {
    "duration": 0,
    "start_time": "2024-11-25T05:00:59.330Z"
   },
   {
    "duration": 8,
    "start_time": "2024-11-25T05:02:18.681Z"
   },
   {
    "duration": 9,
    "start_time": "2024-11-25T05:03:26.346Z"
   },
   {
    "duration": 14,
    "start_time": "2024-11-25T05:05:54.066Z"
   },
   {
    "duration": 16,
    "start_time": "2024-11-25T05:06:33.452Z"
   },
   {
    "duration": 16,
    "start_time": "2024-11-25T05:07:12.687Z"
   },
   {
    "duration": 32,
    "start_time": "2024-11-25T05:12:45.370Z"
   },
   {
    "duration": 35,
    "start_time": "2024-11-25T05:13:36.899Z"
   },
   {
    "duration": 40,
    "start_time": "2024-11-25T05:16:23.039Z"
   },
   {
    "duration": 599,
    "start_time": "2024-11-25T05:17:30.416Z"
   },
   {
    "duration": 59,
    "start_time": "2024-11-25T05:18:25.522Z"
   },
   {
    "duration": 23,
    "start_time": "2024-11-25T05:21:51.956Z"
   },
   {
    "duration": 76,
    "start_time": "2024-11-25T05:21:55.933Z"
   },
   {
    "duration": 30,
    "start_time": "2024-11-25T05:22:20.652Z"
   },
   {
    "duration": 30,
    "start_time": "2024-11-25T05:22:29.633Z"
   },
   {
    "duration": 26,
    "start_time": "2024-11-25T05:22:43.946Z"
   },
   {
    "duration": 297,
    "start_time": "2024-11-25T05:22:55.666Z"
   },
   {
    "duration": 129,
    "start_time": "2024-11-25T05:22:55.965Z"
   },
   {
    "duration": 47,
    "start_time": "2024-11-25T05:22:56.096Z"
   },
   {
    "duration": 7,
    "start_time": "2024-11-25T05:22:56.145Z"
   },
   {
    "duration": 11,
    "start_time": "2024-11-25T05:22:56.154Z"
   },
   {
    "duration": 715,
    "start_time": "2024-11-25T05:22:56.166Z"
   },
   {
    "duration": 109,
    "start_time": "2024-11-25T05:22:56.882Z"
   },
   {
    "duration": 17,
    "start_time": "2024-11-25T05:22:56.992Z"
   },
   {
    "duration": 114,
    "start_time": "2024-11-25T05:22:57.011Z"
   },
   {
    "duration": 119,
    "start_time": "2024-11-25T05:22:57.127Z"
   },
   {
    "duration": 88,
    "start_time": "2024-11-25T05:22:57.247Z"
   },
   {
    "duration": 13,
    "start_time": "2024-11-25T05:22:57.337Z"
   },
   {
    "duration": 7,
    "start_time": "2024-11-25T05:22:57.351Z"
   },
   {
    "duration": 20,
    "start_time": "2024-11-25T05:22:57.361Z"
   },
   {
    "duration": 2,
    "start_time": "2024-11-25T05:22:57.384Z"
   },
   {
    "duration": 10,
    "start_time": "2024-11-25T05:22:57.409Z"
   },
   {
    "duration": 4,
    "start_time": "2024-11-25T05:22:57.422Z"
   },
   {
    "duration": 8,
    "start_time": "2024-11-25T05:22:57.427Z"
   },
   {
    "duration": 4,
    "start_time": "2024-11-25T05:22:57.437Z"
   },
   {
    "duration": 838,
    "start_time": "2024-11-25T05:22:57.442Z"
   },
   {
    "duration": 45,
    "start_time": "2024-11-25T05:22:58.282Z"
   },
   {
    "duration": 6,
    "start_time": "2024-11-25T05:22:58.329Z"
   },
   {
    "duration": 316,
    "start_time": "2024-11-25T05:22:58.337Z"
   },
   {
    "duration": 0,
    "start_time": "2024-11-25T05:22:58.655Z"
   },
   {
    "duration": 0,
    "start_time": "2024-11-25T05:22:58.656Z"
   },
   {
    "duration": 0,
    "start_time": "2024-11-25T05:22:58.658Z"
   },
   {
    "duration": 0,
    "start_time": "2024-11-25T05:22:58.659Z"
   },
   {
    "duration": 0,
    "start_time": "2024-11-25T05:22:58.661Z"
   },
   {
    "duration": 0,
    "start_time": "2024-11-25T05:22:58.662Z"
   },
   {
    "duration": 0,
    "start_time": "2024-11-25T05:22:58.663Z"
   },
   {
    "duration": 0,
    "start_time": "2024-11-25T05:22:58.664Z"
   },
   {
    "duration": 0,
    "start_time": "2024-11-25T05:22:58.665Z"
   },
   {
    "duration": 0,
    "start_time": "2024-11-25T05:22:58.665Z"
   },
   {
    "duration": 7,
    "start_time": "2024-11-25T05:23:28.036Z"
   },
   {
    "duration": 32,
    "start_time": "2024-11-25T05:26:32.410Z"
   },
   {
    "duration": 17,
    "start_time": "2024-11-25T05:26:40.326Z"
   },
   {
    "duration": 65,
    "start_time": "2024-11-25T05:26:46.868Z"
   },
   {
    "duration": 29,
    "start_time": "2024-11-25T05:27:09.355Z"
   },
   {
    "duration": 304,
    "start_time": "2024-11-25T05:27:22.907Z"
   },
   {
    "duration": 125,
    "start_time": "2024-11-25T05:27:23.214Z"
   },
   {
    "duration": 45,
    "start_time": "2024-11-25T05:27:23.346Z"
   },
   {
    "duration": 19,
    "start_time": "2024-11-25T05:27:23.393Z"
   },
   {
    "duration": 10,
    "start_time": "2024-11-25T05:27:23.414Z"
   },
   {
    "duration": 741,
    "start_time": "2024-11-25T05:27:23.425Z"
   },
   {
    "duration": 108,
    "start_time": "2024-11-25T05:27:24.168Z"
   },
   {
    "duration": 10,
    "start_time": "2024-11-25T05:27:24.279Z"
   },
   {
    "duration": 119,
    "start_time": "2024-11-25T05:27:24.290Z"
   },
   {
    "duration": 91,
    "start_time": "2024-11-25T05:27:24.410Z"
   },
   {
    "duration": 68,
    "start_time": "2024-11-25T05:27:24.509Z"
   },
   {
    "duration": 13,
    "start_time": "2024-11-25T05:27:24.579Z"
   },
   {
    "duration": 21,
    "start_time": "2024-11-25T05:27:24.593Z"
   },
   {
    "duration": 17,
    "start_time": "2024-11-25T05:27:24.616Z"
   },
   {
    "duration": 3,
    "start_time": "2024-11-25T05:27:24.635Z"
   },
   {
    "duration": 9,
    "start_time": "2024-11-25T05:27:24.639Z"
   },
   {
    "duration": 4,
    "start_time": "2024-11-25T05:27:24.649Z"
   },
   {
    "duration": 7,
    "start_time": "2024-11-25T05:27:24.655Z"
   },
   {
    "duration": 44,
    "start_time": "2024-11-25T05:27:24.664Z"
   },
   {
    "duration": 769,
    "start_time": "2024-11-25T05:27:24.710Z"
   },
   {
    "duration": 46,
    "start_time": "2024-11-25T05:27:25.481Z"
   },
   {
    "duration": 6,
    "start_time": "2024-11-25T05:27:25.528Z"
   },
   {
    "duration": 330,
    "start_time": "2024-11-25T05:27:25.536Z"
   },
   {
    "duration": 1,
    "start_time": "2024-11-25T05:27:25.868Z"
   },
   {
    "duration": 0,
    "start_time": "2024-11-25T05:27:25.870Z"
   },
   {
    "duration": 0,
    "start_time": "2024-11-25T05:27:25.872Z"
   },
   {
    "duration": 0,
    "start_time": "2024-11-25T05:27:25.873Z"
   },
   {
    "duration": 0,
    "start_time": "2024-11-25T05:27:25.874Z"
   },
   {
    "duration": 0,
    "start_time": "2024-11-25T05:27:25.876Z"
   },
   {
    "duration": 0,
    "start_time": "2024-11-25T05:27:25.877Z"
   },
   {
    "duration": 0,
    "start_time": "2024-11-25T05:27:25.878Z"
   },
   {
    "duration": 0,
    "start_time": "2024-11-25T05:27:25.879Z"
   },
   {
    "duration": 0,
    "start_time": "2024-11-25T05:27:25.880Z"
   },
   {
    "duration": 7,
    "start_time": "2024-11-25T05:27:43.000Z"
   },
   {
    "duration": 15,
    "start_time": "2024-11-25T05:27:46.081Z"
   },
   {
    "duration": 17,
    "start_time": "2024-11-25T05:27:54.786Z"
   },
   {
    "duration": 34,
    "start_time": "2024-11-25T05:27:57.334Z"
   },
   {
    "duration": 7,
    "start_time": "2024-11-25T05:28:00.938Z"
   },
   {
    "duration": 14,
    "start_time": "2024-11-25T05:35:48.221Z"
   },
   {
    "duration": 17,
    "start_time": "2024-11-25T05:36:31.314Z"
   },
   {
    "duration": 8,
    "start_time": "2024-11-25T05:36:57.113Z"
   },
   {
    "duration": 328,
    "start_time": "2024-11-25T05:46:37.621Z"
   },
   {
    "duration": 134,
    "start_time": "2024-11-25T05:46:37.951Z"
   },
   {
    "duration": 48,
    "start_time": "2024-11-25T05:46:38.087Z"
   },
   {
    "duration": 7,
    "start_time": "2024-11-25T05:46:38.138Z"
   },
   {
    "duration": 11,
    "start_time": "2024-11-25T05:46:38.146Z"
   },
   {
    "duration": 720,
    "start_time": "2024-11-25T05:46:38.158Z"
   },
   {
    "duration": 102,
    "start_time": "2024-11-25T05:46:38.880Z"
   },
   {
    "duration": 9,
    "start_time": "2024-11-25T05:46:38.984Z"
   },
   {
    "duration": 127,
    "start_time": "2024-11-25T05:46:38.994Z"
   },
   {
    "duration": 99,
    "start_time": "2024-11-25T05:46:39.125Z"
   },
   {
    "duration": 69,
    "start_time": "2024-11-25T05:46:39.226Z"
   },
   {
    "duration": 22,
    "start_time": "2024-11-25T05:46:39.297Z"
   },
   {
    "duration": 7,
    "start_time": "2024-11-25T05:46:39.320Z"
   },
   {
    "duration": 17,
    "start_time": "2024-11-25T05:46:39.329Z"
   },
   {
    "duration": 2,
    "start_time": "2024-11-25T05:46:39.348Z"
   },
   {
    "duration": 8,
    "start_time": "2024-11-25T05:46:39.352Z"
   },
   {
    "duration": 4,
    "start_time": "2024-11-25T05:46:39.362Z"
   },
   {
    "duration": 44,
    "start_time": "2024-11-25T05:46:39.368Z"
   },
   {
    "duration": 5,
    "start_time": "2024-11-25T05:46:39.414Z"
   },
   {
    "duration": 789,
    "start_time": "2024-11-25T05:46:39.420Z"
   },
   {
    "duration": 38,
    "start_time": "2024-11-25T05:46:40.210Z"
   },
   {
    "duration": 7,
    "start_time": "2024-11-25T05:46:40.249Z"
   },
   {
    "duration": 323,
    "start_time": "2024-11-25T05:46:40.257Z"
   },
   {
    "duration": 0,
    "start_time": "2024-11-25T05:46:40.583Z"
   },
   {
    "duration": 0,
    "start_time": "2024-11-25T05:46:40.584Z"
   },
   {
    "duration": 0,
    "start_time": "2024-11-25T05:46:40.586Z"
   },
   {
    "duration": 0,
    "start_time": "2024-11-25T05:46:40.587Z"
   },
   {
    "duration": 0,
    "start_time": "2024-11-25T05:46:40.589Z"
   },
   {
    "duration": 0,
    "start_time": "2024-11-25T05:46:40.609Z"
   },
   {
    "duration": 0,
    "start_time": "2024-11-25T05:46:40.610Z"
   },
   {
    "duration": 0,
    "start_time": "2024-11-25T05:46:40.611Z"
   },
   {
    "duration": 0,
    "start_time": "2024-11-25T05:46:40.612Z"
   },
   {
    "duration": 0,
    "start_time": "2024-11-25T05:46:40.613Z"
   },
   {
    "duration": 128,
    "start_time": "2024-11-25T05:49:28.386Z"
   },
   {
    "duration": 106,
    "start_time": "2024-11-25T05:49:40.028Z"
   },
   {
    "duration": 7,
    "start_time": "2024-11-25T05:49:58.218Z"
   },
   {
    "duration": 102,
    "start_time": "2024-11-25T05:50:12.802Z"
   },
   {
    "duration": 99,
    "start_time": "2024-11-25T05:50:18.763Z"
   },
   {
    "duration": 30,
    "start_time": "2024-11-25T05:50:25.215Z"
   },
   {
    "duration": 6,
    "start_time": "2024-11-25T05:50:31.235Z"
   },
   {
    "duration": 683,
    "start_time": "2024-11-25T05:50:38.306Z"
   },
   {
    "duration": 5,
    "start_time": "2024-11-25T05:52:16.848Z"
   },
   {
    "duration": 4,
    "start_time": "2024-11-25T05:52:29.040Z"
   },
   {
    "duration": 5,
    "start_time": "2024-11-25T05:52:44.904Z"
   },
   {
    "duration": 5,
    "start_time": "2024-11-25T05:53:11.460Z"
   },
   {
    "duration": 4,
    "start_time": "2024-11-25T05:54:02.788Z"
   },
   {
    "duration": 5,
    "start_time": "2024-11-25T05:55:03.707Z"
   },
   {
    "duration": 5,
    "start_time": "2024-11-25T05:55:45.184Z"
   },
   {
    "duration": 4,
    "start_time": "2024-11-25T05:55:56.393Z"
   },
   {
    "duration": 4,
    "start_time": "2024-11-25T05:57:09.784Z"
   },
   {
    "duration": 5,
    "start_time": "2024-11-25T05:57:47.400Z"
   },
   {
    "duration": 7,
    "start_time": "2024-11-25T05:59:48.205Z"
   },
   {
    "duration": 12,
    "start_time": "2024-11-25T06:00:39.237Z"
   },
   {
    "duration": 10,
    "start_time": "2024-11-25T06:01:00.405Z"
   },
   {
    "duration": 8,
    "start_time": "2024-11-25T06:01:44.793Z"
   },
   {
    "duration": 6,
    "start_time": "2024-11-25T06:02:03.484Z"
   },
   {
    "duration": 6,
    "start_time": "2024-11-25T06:02:10.194Z"
   },
   {
    "duration": 7,
    "start_time": "2024-11-25T06:03:46.820Z"
   },
   {
    "duration": 4,
    "start_time": "2024-11-25T06:05:13.064Z"
   },
   {
    "duration": 1824,
    "start_time": "2024-11-25T06:05:22.539Z"
   },
   {
    "duration": 2232,
    "start_time": "2024-11-25T06:20:03.457Z"
   },
   {
    "duration": 14,
    "start_time": "2024-11-25T06:25:16.219Z"
   },
   {
    "duration": 11,
    "start_time": "2024-11-25T06:27:01.538Z"
   },
   {
    "duration": 20,
    "start_time": "2024-11-25T06:29:46.135Z"
   },
   {
    "duration": 282,
    "start_time": "2024-11-25T06:30:14.079Z"
   },
   {
    "duration": 122,
    "start_time": "2024-11-25T06:30:14.363Z"
   },
   {
    "duration": 42,
    "start_time": "2024-11-25T06:30:14.486Z"
   },
   {
    "duration": 6,
    "start_time": "2024-11-25T06:30:14.531Z"
   },
   {
    "duration": 6,
    "start_time": "2024-11-25T06:30:14.538Z"
   },
   {
    "duration": 736,
    "start_time": "2024-11-25T06:30:14.545Z"
   },
   {
    "duration": 118,
    "start_time": "2024-11-25T06:30:15.283Z"
   },
   {
    "duration": 14,
    "start_time": "2024-11-25T06:30:15.403Z"
   },
   {
    "duration": 118,
    "start_time": "2024-11-25T06:30:15.419Z"
   },
   {
    "duration": 96,
    "start_time": "2024-11-25T06:30:15.539Z"
   },
   {
    "duration": 72,
    "start_time": "2024-11-25T06:30:15.637Z"
   },
   {
    "duration": 17,
    "start_time": "2024-11-25T06:30:15.711Z"
   },
   {
    "duration": 8,
    "start_time": "2024-11-25T06:30:15.729Z"
   },
   {
    "duration": 20,
    "start_time": "2024-11-25T06:30:15.739Z"
   },
   {
    "duration": 2,
    "start_time": "2024-11-25T06:30:15.760Z"
   },
   {
    "duration": 11,
    "start_time": "2024-11-25T06:30:15.764Z"
   },
   {
    "duration": 34,
    "start_time": "2024-11-25T06:30:15.777Z"
   },
   {
    "duration": 9,
    "start_time": "2024-11-25T06:30:15.813Z"
   },
   {
    "duration": 4,
    "start_time": "2024-11-25T06:30:15.823Z"
   },
   {
    "duration": 817,
    "start_time": "2024-11-25T06:30:15.829Z"
   },
   {
    "duration": 39,
    "start_time": "2024-11-25T06:30:16.647Z"
   },
   {
    "duration": 5,
    "start_time": "2024-11-25T06:30:16.688Z"
   },
   {
    "duration": 318,
    "start_time": "2024-11-25T06:30:16.695Z"
   },
   {
    "duration": 0,
    "start_time": "2024-11-25T06:30:17.016Z"
   },
   {
    "duration": 0,
    "start_time": "2024-11-25T06:30:17.017Z"
   },
   {
    "duration": 0,
    "start_time": "2024-11-25T06:30:17.018Z"
   },
   {
    "duration": 0,
    "start_time": "2024-11-25T06:30:17.019Z"
   },
   {
    "duration": 0,
    "start_time": "2024-11-25T06:30:17.020Z"
   },
   {
    "duration": 0,
    "start_time": "2024-11-25T06:30:17.021Z"
   },
   {
    "duration": 0,
    "start_time": "2024-11-25T06:30:17.022Z"
   },
   {
    "duration": 0,
    "start_time": "2024-11-25T06:30:17.023Z"
   },
   {
    "duration": 0,
    "start_time": "2024-11-25T06:30:17.023Z"
   },
   {
    "duration": 0,
    "start_time": "2024-11-25T06:30:17.024Z"
   },
   {
    "duration": 0,
    "start_time": "2024-11-25T06:30:17.027Z"
   },
   {
    "duration": 0,
    "start_time": "2024-11-25T06:30:17.028Z"
   },
   {
    "duration": 0,
    "start_time": "2024-11-25T06:30:17.030Z"
   },
   {
    "duration": 0,
    "start_time": "2024-11-25T06:30:17.031Z"
   },
   {
    "duration": 0,
    "start_time": "2024-11-25T06:30:17.033Z"
   },
   {
    "duration": 0,
    "start_time": "2024-11-25T06:30:17.034Z"
   },
   {
    "duration": 0,
    "start_time": "2024-11-25T06:30:17.036Z"
   },
   {
    "duration": 5,
    "start_time": "2024-11-25T06:30:36.318Z"
   },
   {
    "duration": 5,
    "start_time": "2024-11-25T06:30:39.095Z"
   },
   {
    "duration": 189,
    "start_time": "2024-11-25T06:30:42.684Z"
   },
   {
    "duration": 13,
    "start_time": "2024-11-25T06:32:24.786Z"
   },
   {
    "duration": 13,
    "start_time": "2024-11-25T06:32:31.325Z"
   },
   {
    "duration": 13,
    "start_time": "2024-11-25T06:39:28.761Z"
   },
   {
    "duration": 13,
    "start_time": "2024-11-25T06:39:31.722Z"
   },
   {
    "duration": 13,
    "start_time": "2024-11-25T06:39:34.419Z"
   },
   {
    "duration": 331,
    "start_time": "2024-11-25T06:39:41.330Z"
   },
   {
    "duration": 127,
    "start_time": "2024-11-25T06:39:41.663Z"
   },
   {
    "duration": 40,
    "start_time": "2024-11-25T06:39:41.792Z"
   },
   {
    "duration": 5,
    "start_time": "2024-11-25T06:39:41.835Z"
   },
   {
    "duration": 5,
    "start_time": "2024-11-25T06:39:41.841Z"
   },
   {
    "duration": 723,
    "start_time": "2024-11-25T06:39:41.848Z"
   },
   {
    "duration": 104,
    "start_time": "2024-11-25T06:39:42.573Z"
   },
   {
    "duration": 10,
    "start_time": "2024-11-25T06:39:42.678Z"
   },
   {
    "duration": 117,
    "start_time": "2024-11-25T06:39:42.689Z"
   },
   {
    "duration": 90,
    "start_time": "2024-11-25T06:39:42.810Z"
   },
   {
    "duration": 69,
    "start_time": "2024-11-25T06:39:42.909Z"
   },
   {
    "duration": 13,
    "start_time": "2024-11-25T06:39:42.980Z"
   },
   {
    "duration": 18,
    "start_time": "2024-11-25T06:39:42.995Z"
   },
   {
    "duration": 17,
    "start_time": "2024-11-25T06:39:43.015Z"
   },
   {
    "duration": 3,
    "start_time": "2024-11-25T06:39:43.033Z"
   },
   {
    "duration": 10,
    "start_time": "2024-11-25T06:39:43.037Z"
   },
   {
    "duration": 4,
    "start_time": "2024-11-25T06:39:43.048Z"
   },
   {
    "duration": 7,
    "start_time": "2024-11-25T06:39:43.054Z"
   },
   {
    "duration": 5,
    "start_time": "2024-11-25T06:39:43.062Z"
   },
   {
    "duration": 857,
    "start_time": "2024-11-25T06:39:43.068Z"
   },
   {
    "duration": 38,
    "start_time": "2024-11-25T06:39:43.927Z"
   },
   {
    "duration": 5,
    "start_time": "2024-11-25T06:39:43.968Z"
   },
   {
    "duration": 320,
    "start_time": "2024-11-25T06:39:43.975Z"
   },
   {
    "duration": 0,
    "start_time": "2024-11-25T06:39:44.297Z"
   },
   {
    "duration": 0,
    "start_time": "2024-11-25T06:39:44.298Z"
   },
   {
    "duration": 0,
    "start_time": "2024-11-25T06:39:44.299Z"
   },
   {
    "duration": 0,
    "start_time": "2024-11-25T06:39:44.309Z"
   },
   {
    "duration": 0,
    "start_time": "2024-11-25T06:39:44.310Z"
   },
   {
    "duration": 0,
    "start_time": "2024-11-25T06:39:44.311Z"
   },
   {
    "duration": 0,
    "start_time": "2024-11-25T06:39:44.312Z"
   },
   {
    "duration": 0,
    "start_time": "2024-11-25T06:39:44.313Z"
   },
   {
    "duration": 0,
    "start_time": "2024-11-25T06:39:44.314Z"
   },
   {
    "duration": 0,
    "start_time": "2024-11-25T06:39:44.315Z"
   },
   {
    "duration": 0,
    "start_time": "2024-11-25T06:39:44.316Z"
   },
   {
    "duration": 0,
    "start_time": "2024-11-25T06:39:44.316Z"
   },
   {
    "duration": 0,
    "start_time": "2024-11-25T06:39:44.317Z"
   },
   {
    "duration": 0,
    "start_time": "2024-11-25T06:39:44.318Z"
   },
   {
    "duration": 0,
    "start_time": "2024-11-25T06:39:44.319Z"
   },
   {
    "duration": 0,
    "start_time": "2024-11-25T06:39:44.320Z"
   },
   {
    "duration": 0,
    "start_time": "2024-11-25T06:39:44.321Z"
   },
   {
    "duration": 11,
    "start_time": "2024-11-25T06:39:47.157Z"
   },
   {
    "duration": 9,
    "start_time": "2024-11-25T06:39:50.066Z"
   },
   {
    "duration": 196,
    "start_time": "2024-11-25T06:40:43.037Z"
   },
   {
    "duration": 27,
    "start_time": "2024-11-25T06:42:03.584Z"
   },
   {
    "duration": 24,
    "start_time": "2024-11-25T06:42:18.174Z"
   },
   {
    "duration": 1375,
    "start_time": "2024-11-25T06:42:30.539Z"
   },
   {
    "duration": 1553,
    "start_time": "2024-11-25T06:44:09.855Z"
   },
   {
    "duration": 9339,
    "start_time": "2024-11-25T06:45:50.828Z"
   },
   {
    "duration": 324,
    "start_time": "2024-11-25T06:46:53.918Z"
   },
   {
    "duration": 127,
    "start_time": "2024-11-25T06:46:54.244Z"
   },
   {
    "duration": 42,
    "start_time": "2024-11-25T06:46:54.373Z"
   },
   {
    "duration": 6,
    "start_time": "2024-11-25T06:46:54.418Z"
   },
   {
    "duration": 5,
    "start_time": "2024-11-25T06:46:54.425Z"
   },
   {
    "duration": 720,
    "start_time": "2024-11-25T06:46:54.431Z"
   },
   {
    "duration": 112,
    "start_time": "2024-11-25T06:46:55.152Z"
   },
   {
    "duration": 10,
    "start_time": "2024-11-25T06:46:55.265Z"
   },
   {
    "duration": 115,
    "start_time": "2024-11-25T06:46:55.278Z"
   },
   {
    "duration": 103,
    "start_time": "2024-11-25T06:46:55.396Z"
   },
   {
    "duration": 66,
    "start_time": "2024-11-25T06:46:55.509Z"
   },
   {
    "duration": 12,
    "start_time": "2024-11-25T06:46:55.577Z"
   },
   {
    "duration": 20,
    "start_time": "2024-11-25T06:46:55.591Z"
   },
   {
    "duration": 17,
    "start_time": "2024-11-25T06:46:55.613Z"
   },
   {
    "duration": 3,
    "start_time": "2024-11-25T06:46:55.631Z"
   },
   {
    "duration": 9,
    "start_time": "2024-11-25T06:46:55.636Z"
   },
   {
    "duration": 4,
    "start_time": "2024-11-25T06:46:55.647Z"
   },
   {
    "duration": 8,
    "start_time": "2024-11-25T06:46:55.652Z"
   },
   {
    "duration": 4,
    "start_time": "2024-11-25T06:46:55.662Z"
   },
   {
    "duration": 856,
    "start_time": "2024-11-25T06:46:55.667Z"
   },
   {
    "duration": 37,
    "start_time": "2024-11-25T06:46:56.526Z"
   },
   {
    "duration": 6,
    "start_time": "2024-11-25T06:46:56.565Z"
   },
   {
    "duration": 315,
    "start_time": "2024-11-25T06:46:56.573Z"
   },
   {
    "duration": 0,
    "start_time": "2024-11-25T06:46:56.890Z"
   },
   {
    "duration": 0,
    "start_time": "2024-11-25T06:46:56.891Z"
   },
   {
    "duration": 0,
    "start_time": "2024-11-25T06:46:56.893Z"
   },
   {
    "duration": 0,
    "start_time": "2024-11-25T06:46:56.893Z"
   },
   {
    "duration": 0,
    "start_time": "2024-11-25T06:46:56.895Z"
   },
   {
    "duration": 0,
    "start_time": "2024-11-25T06:46:56.895Z"
   },
   {
    "duration": 0,
    "start_time": "2024-11-25T06:46:56.896Z"
   },
   {
    "duration": 0,
    "start_time": "2024-11-25T06:46:56.897Z"
   },
   {
    "duration": 0,
    "start_time": "2024-11-25T06:46:56.897Z"
   },
   {
    "duration": 0,
    "start_time": "2024-11-25T06:46:56.898Z"
   },
   {
    "duration": 0,
    "start_time": "2024-11-25T06:46:56.898Z"
   },
   {
    "duration": 0,
    "start_time": "2024-11-25T06:46:56.899Z"
   },
   {
    "duration": 0,
    "start_time": "2024-11-25T06:46:56.899Z"
   },
   {
    "duration": 0,
    "start_time": "2024-11-25T06:46:56.908Z"
   },
   {
    "duration": 0,
    "start_time": "2024-11-25T06:46:56.909Z"
   },
   {
    "duration": 0,
    "start_time": "2024-11-25T06:46:56.910Z"
   },
   {
    "duration": 0,
    "start_time": "2024-11-25T06:46:56.911Z"
   },
   {
    "duration": 9374,
    "start_time": "2024-11-25T06:47:14.873Z"
   },
   {
    "duration": 15,
    "start_time": "2024-11-25T06:47:24.268Z"
   },
   {
    "duration": 9319,
    "start_time": "2024-11-25T06:49:16.601Z"
   },
   {
    "duration": 2224,
    "start_time": "2024-11-25T06:52:04.520Z"
   },
   {
    "duration": 1457,
    "start_time": "2024-11-25T06:52:18.059Z"
   },
   {
    "duration": 5,
    "start_time": "2024-11-25T06:54:47.594Z"
   },
   {
    "duration": 5,
    "start_time": "2024-11-25T06:54:49.797Z"
   },
   {
    "duration": 10,
    "start_time": "2024-11-25T06:56:00.843Z"
   },
   {
    "duration": 9,
    "start_time": "2024-11-25T06:56:04.591Z"
   },
   {
    "duration": 5,
    "start_time": "2024-11-25T06:56:44.798Z"
   },
   {
    "duration": 5,
    "start_time": "2024-11-25T06:57:20.620Z"
   },
   {
    "duration": 4,
    "start_time": "2024-11-25T06:57:35.350Z"
   },
   {
    "duration": 302,
    "start_time": "2024-11-25T06:57:49.238Z"
   },
   {
    "duration": 297,
    "start_time": "2024-11-25T06:58:08.523Z"
   },
   {
    "duration": 312,
    "start_time": "2024-11-25T06:58:32.117Z"
   },
   {
    "duration": 1282,
    "start_time": "2024-11-25T06:59:39.143Z"
   },
   {
    "duration": 292,
    "start_time": "2024-11-25T06:59:58.387Z"
   },
   {
    "duration": 298,
    "start_time": "2024-11-25T07:00:19.999Z"
   },
   {
    "duration": 803,
    "start_time": "2024-11-25T07:00:34.256Z"
   },
   {
    "duration": 291,
    "start_time": "2024-11-25T07:00:46.458Z"
   },
   {
    "duration": 293,
    "start_time": "2024-11-25T07:01:03.617Z"
   },
   {
    "duration": 437,
    "start_time": "2024-11-25T07:01:13.162Z"
   },
   {
    "duration": 362,
    "start_time": "2024-11-25T07:03:54.549Z"
   },
   {
    "duration": 4,
    "start_time": "2024-11-25T07:06:32.668Z"
   },
   {
    "duration": 337,
    "start_time": "2024-11-25T07:07:07.399Z"
   },
   {
    "duration": 1308,
    "start_time": "2024-11-25T07:07:34.674Z"
   },
   {
    "duration": 324,
    "start_time": "2024-11-25T07:08:15.658Z"
   },
   {
    "duration": 328,
    "start_time": "2024-11-25T07:08:25.335Z"
   },
   {
    "duration": 6,
    "start_time": "2024-11-25T07:10:30.889Z"
   },
   {
    "duration": 332,
    "start_time": "2024-11-25T07:10:53.195Z"
   },
   {
    "duration": 6,
    "start_time": "2024-11-25T07:17:22.111Z"
   },
   {
    "duration": 328,
    "start_time": "2024-11-25T07:17:35.045Z"
   },
   {
    "duration": 1302,
    "start_time": "2024-11-25T07:18:57.879Z"
   },
   {
    "duration": 326,
    "start_time": "2024-11-25T07:19:28.816Z"
   },
   {
    "duration": 397,
    "start_time": "2024-11-25T07:22:45.144Z"
   },
   {
    "duration": 4,
    "start_time": "2024-11-25T07:24:36.338Z"
   },
   {
    "duration": 470,
    "start_time": "2024-11-25T07:24:42.578Z"
   },
   {
    "duration": 378,
    "start_time": "2024-11-25T07:24:53.533Z"
   },
   {
    "duration": 848,
    "start_time": "2024-11-25T07:27:50.673Z"
   },
   {
    "duration": 307,
    "start_time": "2024-11-25T08:30:23.307Z"
   },
   {
    "duration": 154,
    "start_time": "2024-11-25T08:30:23.616Z"
   },
   {
    "duration": 59,
    "start_time": "2024-11-25T08:30:23.772Z"
   },
   {
    "duration": 7,
    "start_time": "2024-11-25T08:30:23.834Z"
   },
   {
    "duration": 7,
    "start_time": "2024-11-25T08:30:23.843Z"
   },
   {
    "duration": 792,
    "start_time": "2024-11-25T08:30:23.852Z"
   },
   {
    "duration": 103,
    "start_time": "2024-11-25T08:30:24.645Z"
   },
   {
    "duration": 10,
    "start_time": "2024-11-25T08:30:24.750Z"
   },
   {
    "duration": 109,
    "start_time": "2024-11-25T08:30:24.770Z"
   },
   {
    "duration": 94,
    "start_time": "2024-11-25T08:30:24.882Z"
   },
   {
    "duration": 69,
    "start_time": "2024-11-25T08:30:24.978Z"
   },
   {
    "duration": 30,
    "start_time": "2024-11-25T08:30:25.048Z"
   },
   {
    "duration": 7,
    "start_time": "2024-11-25T08:30:25.079Z"
   },
   {
    "duration": 17,
    "start_time": "2024-11-25T08:30:25.088Z"
   },
   {
    "duration": 2,
    "start_time": "2024-11-25T08:30:25.107Z"
   },
   {
    "duration": 8,
    "start_time": "2024-11-25T08:30:25.111Z"
   },
   {
    "duration": 3,
    "start_time": "2024-11-25T08:30:25.121Z"
   },
   {
    "duration": 8,
    "start_time": "2024-11-25T08:30:25.126Z"
   },
   {
    "duration": 6,
    "start_time": "2024-11-25T08:30:25.170Z"
   },
   {
    "duration": 786,
    "start_time": "2024-11-25T08:30:25.178Z"
   },
   {
    "duration": 38,
    "start_time": "2024-11-25T08:30:25.969Z"
   },
   {
    "duration": 5,
    "start_time": "2024-11-25T08:30:26.008Z"
   },
   {
    "duration": 322,
    "start_time": "2024-11-25T08:30:26.015Z"
   },
   {
    "duration": 0,
    "start_time": "2024-11-25T08:30:26.341Z"
   },
   {
    "duration": 0,
    "start_time": "2024-11-25T08:30:26.346Z"
   },
   {
    "duration": 0,
    "start_time": "2024-11-25T08:30:26.347Z"
   },
   {
    "duration": 0,
    "start_time": "2024-11-25T08:30:26.348Z"
   },
   {
    "duration": 0,
    "start_time": "2024-11-25T08:30:26.349Z"
   },
   {
    "duration": 0,
    "start_time": "2024-11-25T08:30:26.351Z"
   },
   {
    "duration": 0,
    "start_time": "2024-11-25T08:30:26.352Z"
   },
   {
    "duration": 0,
    "start_time": "2024-11-25T08:30:26.352Z"
   },
   {
    "duration": 0,
    "start_time": "2024-11-25T08:30:26.354Z"
   },
   {
    "duration": 0,
    "start_time": "2024-11-25T08:30:26.355Z"
   },
   {
    "duration": 0,
    "start_time": "2024-11-25T08:30:26.356Z"
   },
   {
    "duration": 0,
    "start_time": "2024-11-25T08:30:26.357Z"
   },
   {
    "duration": 0,
    "start_time": "2024-11-25T08:30:26.358Z"
   },
   {
    "duration": 0,
    "start_time": "2024-11-25T08:30:26.358Z"
   },
   {
    "duration": 0,
    "start_time": "2024-11-25T08:30:26.359Z"
   },
   {
    "duration": 0,
    "start_time": "2024-11-25T08:30:26.359Z"
   },
   {
    "duration": 0,
    "start_time": "2024-11-25T08:30:26.360Z"
   },
   {
    "duration": 0,
    "start_time": "2024-11-25T08:30:26.360Z"
   },
   {
    "duration": 0,
    "start_time": "2024-11-25T08:30:26.361Z"
   },
   {
    "duration": 2171,
    "start_time": "2024-12-04T14:31:11.481Z"
   },
   {
    "duration": 153,
    "start_time": "2024-12-04T14:31:13.654Z"
   },
   {
    "duration": 56,
    "start_time": "2024-12-04T14:31:13.808Z"
   },
   {
    "duration": 6,
    "start_time": "2024-12-04T14:31:13.866Z"
   },
   {
    "duration": 4,
    "start_time": "2024-12-04T14:31:13.875Z"
   },
   {
    "duration": 0,
    "start_time": "2024-12-04T14:31:13.881Z"
   },
   {
    "duration": 0,
    "start_time": "2024-12-04T14:31:13.885Z"
   },
   {
    "duration": 0,
    "start_time": "2024-12-04T14:31:13.886Z"
   },
   {
    "duration": 0,
    "start_time": "2024-12-04T14:31:13.888Z"
   },
   {
    "duration": 0,
    "start_time": "2024-12-04T14:31:13.889Z"
   },
   {
    "duration": 0,
    "start_time": "2024-12-04T14:31:13.890Z"
   },
   {
    "duration": 0,
    "start_time": "2024-12-04T14:31:13.891Z"
   },
   {
    "duration": 0,
    "start_time": "2024-12-04T14:31:13.893Z"
   },
   {
    "duration": 0,
    "start_time": "2024-12-04T14:31:13.895Z"
   },
   {
    "duration": 0,
    "start_time": "2024-12-04T14:31:13.904Z"
   },
   {
    "duration": 0,
    "start_time": "2024-12-04T14:31:13.906Z"
   },
   {
    "duration": 0,
    "start_time": "2024-12-04T14:31:13.907Z"
   },
   {
    "duration": 0,
    "start_time": "2024-12-04T14:31:13.909Z"
   },
   {
    "duration": 0,
    "start_time": "2024-12-04T14:31:13.910Z"
   },
   {
    "duration": 0,
    "start_time": "2024-12-04T14:31:13.912Z"
   },
   {
    "duration": 0,
    "start_time": "2024-12-04T14:31:13.913Z"
   },
   {
    "duration": 0,
    "start_time": "2024-12-04T14:31:13.914Z"
   },
   {
    "duration": 0,
    "start_time": "2024-12-04T14:31:13.916Z"
   },
   {
    "duration": 0,
    "start_time": "2024-12-04T14:31:13.917Z"
   },
   {
    "duration": 0,
    "start_time": "2024-12-04T14:31:13.918Z"
   },
   {
    "duration": 0,
    "start_time": "2024-12-04T14:31:13.920Z"
   },
   {
    "duration": 0,
    "start_time": "2024-12-04T14:31:13.921Z"
   },
   {
    "duration": 0,
    "start_time": "2024-12-04T14:31:13.923Z"
   },
   {
    "duration": 0,
    "start_time": "2024-12-04T14:31:13.924Z"
   },
   {
    "duration": 0,
    "start_time": "2024-12-04T14:31:13.926Z"
   },
   {
    "duration": 1,
    "start_time": "2024-12-04T14:31:13.927Z"
   },
   {
    "duration": 0,
    "start_time": "2024-12-04T14:31:13.929Z"
   },
   {
    "duration": 0,
    "start_time": "2024-12-04T14:31:13.930Z"
   },
   {
    "duration": 0,
    "start_time": "2024-12-04T14:31:13.932Z"
   },
   {
    "duration": 0,
    "start_time": "2024-12-04T14:31:13.933Z"
   },
   {
    "duration": 0,
    "start_time": "2024-12-04T14:31:13.935Z"
   },
   {
    "duration": 0,
    "start_time": "2024-12-04T14:31:13.936Z"
   },
   {
    "duration": 0,
    "start_time": "2024-12-04T14:31:13.937Z"
   },
   {
    "duration": 0,
    "start_time": "2024-12-04T14:31:13.938Z"
   },
   {
    "duration": 0,
    "start_time": "2024-12-04T14:31:13.939Z"
   },
   {
    "duration": 0,
    "start_time": "2024-12-04T14:31:13.940Z"
   },
   {
    "duration": 0,
    "start_time": "2024-12-04T14:31:13.941Z"
   },
   {
    "duration": 123,
    "start_time": "2024-12-04T14:31:52.944Z"
   },
   {
    "duration": 33,
    "start_time": "2024-12-04T14:31:55.538Z"
   },
   {
    "duration": 4,
    "start_time": "2024-12-04T14:32:11.349Z"
   },
   {
    "duration": 2,
    "start_time": "2024-12-04T14:33:05.212Z"
   },
   {
    "duration": 7,
    "start_time": "2024-12-04T14:37:35.928Z"
   },
   {
    "duration": 14,
    "start_time": "2024-12-04T14:37:58.291Z"
   },
   {
    "duration": 7,
    "start_time": "2024-12-04T14:38:05.402Z"
   },
   {
    "duration": 6,
    "start_time": "2024-12-04T14:38:12.802Z"
   },
   {
    "duration": 19,
    "start_time": "2024-12-04T14:38:23.088Z"
   },
   {
    "duration": 212,
    "start_time": "2024-12-04T14:38:26.959Z"
   },
   {
    "duration": 12,
    "start_time": "2024-12-04T14:38:30.536Z"
   },
   {
    "duration": 797,
    "start_time": "2024-12-04T14:39:01.054Z"
   },
   {
    "duration": 30,
    "start_time": "2024-12-04T14:39:26.728Z"
   },
   {
    "duration": 13,
    "start_time": "2024-12-04T14:39:30.259Z"
   },
   {
    "duration": 25,
    "start_time": "2024-12-04T14:39:34.698Z"
   },
   {
    "duration": 76,
    "start_time": "2024-12-04T14:39:38.492Z"
   },
   {
    "duration": 342,
    "start_time": "2024-12-04T14:39:42.821Z"
   },
   {
    "duration": 4,
    "start_time": "2024-12-04T14:40:03.298Z"
   },
   {
    "duration": 5,
    "start_time": "2024-12-04T14:40:06.155Z"
   },
   {
    "duration": 337,
    "start_time": "2024-12-04T14:46:10.531Z"
   },
   {
    "duration": 347,
    "start_time": "2024-12-04T14:47:09.076Z"
   },
   {
    "duration": 120,
    "start_time": "2024-12-04T14:52:04.491Z"
   },
   {
    "duration": 2198,
    "start_time": "2024-12-04T14:57:59.708Z"
   },
   {
    "duration": 367,
    "start_time": "2024-12-04T15:02:54.618Z"
   },
   {
    "duration": 176,
    "start_time": "2024-12-04T15:07:51.535Z"
   },
   {
    "duration": 111,
    "start_time": "2024-12-04T15:12:43.512Z"
   },
   {
    "duration": 171,
    "start_time": "2024-12-04T15:13:21.710Z"
   },
   {
    "duration": 111,
    "start_time": "2024-12-04T15:14:55.946Z"
   },
   {
    "duration": 191,
    "start_time": "2024-12-04T15:17:51.041Z"
   },
   {
    "duration": 193,
    "start_time": "2024-12-04T15:36:49.278Z"
   },
   {
    "duration": 2119,
    "start_time": "2024-12-10T13:35:09.360Z"
   },
   {
    "duration": 162,
    "start_time": "2024-12-10T13:35:11.481Z"
   },
   {
    "duration": 57,
    "start_time": "2024-12-10T13:35:11.645Z"
   },
   {
    "duration": 6,
    "start_time": "2024-12-10T13:35:11.705Z"
   },
   {
    "duration": 6,
    "start_time": "2024-12-10T13:35:11.712Z"
   },
   {
    "duration": 784,
    "start_time": "2024-12-10T13:35:11.720Z"
   },
   {
    "duration": 97,
    "start_time": "2024-12-10T13:35:12.505Z"
   },
   {
    "duration": 9,
    "start_time": "2024-12-10T13:35:12.604Z"
   },
   {
    "duration": 118,
    "start_time": "2024-12-10T13:35:12.614Z"
   },
   {
    "duration": 102,
    "start_time": "2024-12-10T13:35:12.735Z"
   },
   {
    "duration": 84,
    "start_time": "2024-12-10T13:35:12.838Z"
   },
   {
    "duration": 13,
    "start_time": "2024-12-10T13:35:12.923Z"
   },
   {
    "duration": 7,
    "start_time": "2024-12-10T13:35:12.937Z"
   },
   {
    "duration": 18,
    "start_time": "2024-12-10T13:35:12.946Z"
   },
   {
    "duration": 2,
    "start_time": "2024-12-10T13:35:12.987Z"
   },
   {
    "duration": 10,
    "start_time": "2024-12-10T13:35:12.991Z"
   },
   {
    "duration": 3,
    "start_time": "2024-12-10T13:35:13.004Z"
   },
   {
    "duration": 8,
    "start_time": "2024-12-10T13:35:13.009Z"
   },
   {
    "duration": 4,
    "start_time": "2024-12-10T13:35:13.020Z"
   },
   {
    "duration": 905,
    "start_time": "2024-12-10T13:35:13.027Z"
   },
   {
    "duration": 38,
    "start_time": "2024-12-10T13:35:13.934Z"
   },
   {
    "duration": 14,
    "start_time": "2024-12-10T13:35:13.974Z"
   },
   {
    "duration": 364,
    "start_time": "2024-12-10T13:35:13.990Z"
   },
   {
    "duration": 0,
    "start_time": "2024-12-10T13:35:14.357Z"
   },
   {
    "duration": 0,
    "start_time": "2024-12-10T13:35:14.358Z"
   },
   {
    "duration": 0,
    "start_time": "2024-12-10T13:35:14.360Z"
   },
   {
    "duration": 0,
    "start_time": "2024-12-10T13:35:14.361Z"
   },
   {
    "duration": 0,
    "start_time": "2024-12-10T13:35:14.362Z"
   },
   {
    "duration": 0,
    "start_time": "2024-12-10T13:35:14.363Z"
   },
   {
    "duration": 0,
    "start_time": "2024-12-10T13:35:14.364Z"
   },
   {
    "duration": 0,
    "start_time": "2024-12-10T13:35:14.365Z"
   },
   {
    "duration": 0,
    "start_time": "2024-12-10T13:35:14.366Z"
   },
   {
    "duration": 0,
    "start_time": "2024-12-10T13:35:14.367Z"
   },
   {
    "duration": 0,
    "start_time": "2024-12-10T13:35:14.386Z"
   },
   {
    "duration": 0,
    "start_time": "2024-12-10T13:35:14.387Z"
   },
   {
    "duration": 0,
    "start_time": "2024-12-10T13:35:14.388Z"
   },
   {
    "duration": 0,
    "start_time": "2024-12-10T13:35:14.390Z"
   },
   {
    "duration": 0,
    "start_time": "2024-12-10T13:35:14.392Z"
   },
   {
    "duration": 0,
    "start_time": "2024-12-10T13:35:14.393Z"
   },
   {
    "duration": 0,
    "start_time": "2024-12-10T13:35:14.396Z"
   },
   {
    "duration": 0,
    "start_time": "2024-12-10T13:35:14.397Z"
   },
   {
    "duration": 0,
    "start_time": "2024-12-10T13:35:14.398Z"
   },
   {
    "duration": 459,
    "start_time": "2024-12-10T13:35:29.410Z"
   },
   {
    "duration": 169,
    "start_time": "2024-12-10T13:35:29.872Z"
   },
   {
    "duration": 37,
    "start_time": "2024-12-10T13:35:30.042Z"
   },
   {
    "duration": 5,
    "start_time": "2024-12-10T13:35:30.087Z"
   },
   {
    "duration": 4,
    "start_time": "2024-12-10T13:35:30.095Z"
   },
   {
    "duration": 736,
    "start_time": "2024-12-10T13:35:30.101Z"
   },
   {
    "duration": 109,
    "start_time": "2024-12-10T13:35:30.839Z"
   },
   {
    "duration": 9,
    "start_time": "2024-12-10T13:35:30.950Z"
   },
   {
    "duration": 122,
    "start_time": "2024-12-10T13:35:30.961Z"
   },
   {
    "duration": 107,
    "start_time": "2024-12-10T13:35:31.086Z"
   },
   {
    "duration": 84,
    "start_time": "2024-12-10T13:35:31.194Z"
   },
   {
    "duration": 19,
    "start_time": "2024-12-10T13:35:31.279Z"
   },
   {
    "duration": 7,
    "start_time": "2024-12-10T13:35:31.299Z"
   },
   {
    "duration": 18,
    "start_time": "2024-12-10T13:35:31.310Z"
   },
   {
    "duration": 2,
    "start_time": "2024-12-10T13:35:31.330Z"
   },
   {
    "duration": 9,
    "start_time": "2024-12-10T13:35:31.334Z"
   },
   {
    "duration": 40,
    "start_time": "2024-12-10T13:35:31.346Z"
   },
   {
    "duration": 9,
    "start_time": "2024-12-10T13:35:31.388Z"
   },
   {
    "duration": 5,
    "start_time": "2024-12-10T13:35:31.398Z"
   },
   {
    "duration": 857,
    "start_time": "2024-12-10T13:35:31.404Z"
   },
   {
    "duration": 47,
    "start_time": "2024-12-10T13:35:32.263Z"
   },
   {
    "duration": 5,
    "start_time": "2024-12-10T13:35:32.312Z"
   },
   {
    "duration": 321,
    "start_time": "2024-12-10T13:35:32.319Z"
   },
   {
    "duration": 0,
    "start_time": "2024-12-10T13:35:32.642Z"
   },
   {
    "duration": 0,
    "start_time": "2024-12-10T13:35:32.643Z"
   },
   {
    "duration": 0,
    "start_time": "2024-12-10T13:35:32.644Z"
   },
   {
    "duration": 0,
    "start_time": "2024-12-10T13:35:32.645Z"
   },
   {
    "duration": 0,
    "start_time": "2024-12-10T13:35:32.647Z"
   },
   {
    "duration": 0,
    "start_time": "2024-12-10T13:35:32.649Z"
   },
   {
    "duration": 0,
    "start_time": "2024-12-10T13:35:32.650Z"
   },
   {
    "duration": 0,
    "start_time": "2024-12-10T13:35:32.651Z"
   },
   {
    "duration": 0,
    "start_time": "2024-12-10T13:35:32.652Z"
   },
   {
    "duration": 0,
    "start_time": "2024-12-10T13:35:32.653Z"
   },
   {
    "duration": 0,
    "start_time": "2024-12-10T13:35:32.654Z"
   },
   {
    "duration": 0,
    "start_time": "2024-12-10T13:35:32.655Z"
   },
   {
    "duration": 0,
    "start_time": "2024-12-10T13:35:32.656Z"
   },
   {
    "duration": 0,
    "start_time": "2024-12-10T13:35:32.659Z"
   },
   {
    "duration": 0,
    "start_time": "2024-12-10T13:35:32.687Z"
   },
   {
    "duration": 0,
    "start_time": "2024-12-10T13:35:32.688Z"
   },
   {
    "duration": 0,
    "start_time": "2024-12-10T13:35:32.690Z"
   },
   {
    "duration": 0,
    "start_time": "2024-12-10T13:35:32.691Z"
   },
   {
    "duration": 0,
    "start_time": "2024-12-10T13:35:32.693Z"
   },
   {
    "duration": 27,
    "start_time": "2024-12-10T13:35:42.076Z"
   },
   {
    "duration": 30,
    "start_time": "2024-12-10T13:35:46.071Z"
   },
   {
    "duration": 2,
    "start_time": "2024-12-10T13:35:54.761Z"
   },
   {
    "duration": 125,
    "start_time": "2024-12-10T13:35:59.902Z"
   },
   {
    "duration": 30,
    "start_time": "2024-12-10T13:36:02.630Z"
   },
   {
    "duration": 32,
    "start_time": "2024-12-10T13:36:05.338Z"
   },
   {
    "duration": 5,
    "start_time": "2024-12-10T13:36:08.549Z"
   },
   {
    "duration": 5,
    "start_time": "2024-12-10T13:36:12.259Z"
   },
   {
    "duration": 697,
    "start_time": "2024-12-10T13:36:14.638Z"
   },
   {
    "duration": 81,
    "start_time": "2024-12-10T13:36:19.114Z"
   },
   {
    "duration": 8,
    "start_time": "2024-12-10T13:36:21.812Z"
   },
   {
    "duration": 82,
    "start_time": "2024-12-10T13:36:24.619Z"
   },
   {
    "duration": 87,
    "start_time": "2024-12-10T13:36:27.087Z"
   },
   {
    "duration": 63,
    "start_time": "2024-12-10T13:36:31.099Z"
   },
   {
    "duration": 13,
    "start_time": "2024-12-10T13:36:34.860Z"
   },
   {
    "duration": 8,
    "start_time": "2024-12-10T13:36:37.444Z"
   },
   {
    "duration": 19,
    "start_time": "2024-12-10T13:36:40.207Z"
   },
   {
    "duration": 9,
    "start_time": "2024-12-10T13:36:44.457Z"
   },
   {
    "duration": 5,
    "start_time": "2024-12-10T13:36:48.113Z"
   },
   {
    "duration": 8,
    "start_time": "2024-12-10T13:36:51.852Z"
   },
   {
    "duration": 6,
    "start_time": "2024-12-10T13:36:57.880Z"
   },
   {
    "duration": 27,
    "start_time": "2024-12-10T13:37:01.073Z"
   },
   {
    "duration": 29,
    "start_time": "2024-12-10T13:37:05.847Z"
   },
   {
    "duration": 25,
    "start_time": "2024-12-10T13:37:10.938Z"
   },
   {
    "duration": 26,
    "start_time": "2024-12-10T13:37:13.955Z"
   },
   {
    "duration": 8,
    "start_time": "2024-12-10T13:37:19.277Z"
   },
   {
    "duration": 14,
    "start_time": "2024-12-10T13:37:23.191Z"
   },
   {
    "duration": 17,
    "start_time": "2024-12-10T13:37:27.012Z"
   },
   {
    "duration": 33,
    "start_time": "2024-12-10T13:37:29.434Z"
   },
   {
    "duration": 14,
    "start_time": "2024-12-10T13:37:31.954Z"
   },
   {
    "duration": 23,
    "start_time": "2024-12-10T13:37:35.563Z"
   },
   {
    "duration": 76,
    "start_time": "2024-12-10T13:37:38.487Z"
   },
   {
    "duration": 5,
    "start_time": "2024-12-10T13:37:42.681Z"
   },
   {
    "duration": 5,
    "start_time": "2024-12-10T13:37:45.176Z"
   },
   {
    "duration": 256,
    "start_time": "2024-12-10T13:37:48.032Z"
   },
   {
    "duration": 115,
    "start_time": "2024-12-10T13:37:51.641Z"
   },
   {
    "duration": 193,
    "start_time": "2024-12-10T13:37:55.015Z"
   },
   {
    "duration": 220,
    "start_time": "2024-12-10T13:38:02.684Z"
   },
   {
    "duration": 210,
    "start_time": "2024-12-10T13:38:37.244Z"
   },
   {
    "duration": 94,
    "start_time": "2024-12-10T13:39:48.186Z"
   },
   {
    "duration": 607,
    "start_time": "2024-12-10T13:40:33.553Z"
   },
   {
    "duration": 220,
    "start_time": "2024-12-10T13:40:49.724Z"
   },
   {
    "duration": 219,
    "start_time": "2024-12-10T13:41:11.090Z"
   },
   {
    "duration": 212,
    "start_time": "2024-12-10T13:41:26.451Z"
   },
   {
    "duration": 17,
    "start_time": "2024-12-10T14:32:51.915Z"
   },
   {
    "duration": 15,
    "start_time": "2024-12-10T14:33:07.157Z"
   },
   {
    "duration": 15,
    "start_time": "2024-12-10T14:36:10.039Z"
   },
   {
    "duration": 15,
    "start_time": "2024-12-10T14:36:14.552Z"
   },
   {
    "duration": 193,
    "start_time": "2024-12-10T14:36:25.201Z"
   },
   {
    "duration": 15,
    "start_time": "2024-12-10T14:36:38.342Z"
   },
   {
    "duration": 293,
    "start_time": "2024-12-10T14:38:28.689Z"
   },
   {
    "duration": 200,
    "start_time": "2024-12-10T14:40:30.904Z"
   },
   {
    "duration": 7,
    "start_time": "2024-12-10T14:43:54.474Z"
   },
   {
    "duration": 232,
    "start_time": "2024-12-10T14:44:01.251Z"
   },
   {
    "duration": 232,
    "start_time": "2024-12-10T14:45:13.315Z"
   },
   {
    "duration": 8,
    "start_time": "2024-12-10T14:46:07.648Z"
   },
   {
    "duration": 912,
    "start_time": "2024-12-10T15:41:19.013Z"
   },
   {
    "duration": 15,
    "start_time": "2024-12-10T15:49:07.773Z"
   },
   {
    "duration": 178,
    "start_time": "2024-12-10T15:51:27.097Z"
   },
   {
    "duration": 7,
    "start_time": "2024-12-10T15:56:52.382Z"
   },
   {
    "duration": 158,
    "start_time": "2024-12-10T15:57:01.797Z"
   },
   {
    "duration": 11,
    "start_time": "2024-12-10T15:57:19.482Z"
   },
   {
    "duration": 11,
    "start_time": "2024-12-10T15:57:22.170Z"
   },
   {
    "duration": 516,
    "start_time": "2024-12-10T15:57:28.996Z"
   },
   {
    "duration": 165,
    "start_time": "2024-12-10T15:57:31.678Z"
   },
   {
    "duration": 57,
    "start_time": "2024-12-10T15:57:35.086Z"
   },
   {
    "duration": 7,
    "start_time": "2024-12-10T15:57:37.796Z"
   },
   {
    "duration": 6,
    "start_time": "2024-12-10T15:57:41.816Z"
   },
   {
    "duration": 5,
    "start_time": "2024-12-10T15:57:48.029Z"
   },
   {
    "duration": 5,
    "start_time": "2024-12-10T15:57:53.448Z"
   },
   {
    "duration": 857,
    "start_time": "2024-12-10T15:57:56.092Z"
   },
   {
    "duration": 97,
    "start_time": "2024-12-10T15:57:59.833Z"
   },
   {
    "duration": 14,
    "start_time": "2024-12-10T15:58:03.941Z"
   },
   {
    "duration": 111,
    "start_time": "2024-12-10T15:58:06.268Z"
   },
   {
    "duration": 106,
    "start_time": "2024-12-10T15:58:09.314Z"
   },
   {
    "duration": 92,
    "start_time": "2024-12-10T15:58:11.560Z"
   },
   {
    "duration": 79,
    "start_time": "2024-12-10T15:58:23.963Z"
   },
   {
    "duration": 12,
    "start_time": "2024-12-10T15:58:26.443Z"
   },
   {
    "duration": 8,
    "start_time": "2024-12-10T15:58:29.314Z"
   },
   {
    "duration": 18,
    "start_time": "2024-12-10T15:58:33.194Z"
   },
   {
    "duration": 13,
    "start_time": "2024-12-10T15:58:36.689Z"
   },
   {
    "duration": 4,
    "start_time": "2024-12-10T15:58:40.121Z"
   },
   {
    "duration": 5,
    "start_time": "2024-12-10T15:58:54.327Z"
   },
   {
    "duration": 860,
    "start_time": "2024-12-10T15:58:57.494Z"
   },
   {
    "duration": 44,
    "start_time": "2024-12-10T15:59:00.996Z"
   },
   {
    "duration": 38,
    "start_time": "2024-12-10T15:59:05.305Z"
   },
   {
    "duration": 6,
    "start_time": "2024-12-10T15:59:11.728Z"
   },
   {
    "duration": 178,
    "start_time": "2024-12-10T15:59:14.117Z"
   },
   {
    "duration": 26,
    "start_time": "2024-12-10T15:59:21.694Z"
   },
   {
    "duration": 26,
    "start_time": "2024-12-10T15:59:26.198Z"
   },
   {
    "duration": 8,
    "start_time": "2024-12-10T15:59:32.639Z"
   },
   {
    "duration": 18,
    "start_time": "2024-12-10T15:59:35.411Z"
   },
   {
    "duration": 17,
    "start_time": "2024-12-10T15:59:38.392Z"
   },
   {
    "duration": 33,
    "start_time": "2024-12-10T15:59:41.070Z"
   },
   {
    "duration": 14,
    "start_time": "2024-12-10T15:59:45.049Z"
   },
   {
    "duration": 23,
    "start_time": "2024-12-10T15:59:48.819Z"
   },
   {
    "duration": 5,
    "start_time": "2024-12-10T15:59:51.530Z"
   },
   {
    "duration": 425,
    "start_time": "2024-12-10T16:18:15.552Z"
   },
   {
    "duration": 206,
    "start_time": "2024-12-10T16:18:15.979Z"
   },
   {
    "duration": 57,
    "start_time": "2024-12-10T16:18:16.188Z"
   },
   {
    "duration": 6,
    "start_time": "2024-12-10T16:18:16.247Z"
   },
   {
    "duration": 6,
    "start_time": "2024-12-10T16:18:16.256Z"
   },
   {
    "duration": 818,
    "start_time": "2024-12-10T16:18:16.264Z"
   },
   {
    "duration": 119,
    "start_time": "2024-12-10T16:18:17.084Z"
   },
   {
    "duration": 9,
    "start_time": "2024-12-10T16:18:17.205Z"
   },
   {
    "duration": 126,
    "start_time": "2024-12-10T16:18:17.216Z"
   },
   {
    "duration": 112,
    "start_time": "2024-12-10T16:18:17.344Z"
   },
   {
    "duration": 91,
    "start_time": "2024-12-10T16:18:17.458Z"
   },
   {
    "duration": 13,
    "start_time": "2024-12-10T16:18:17.552Z"
   },
   {
    "duration": 20,
    "start_time": "2024-12-10T16:18:17.567Z"
   },
   {
    "duration": 19,
    "start_time": "2024-12-10T16:18:17.592Z"
   },
   {
    "duration": 6,
    "start_time": "2024-12-10T16:18:17.612Z"
   },
   {
    "duration": 8,
    "start_time": "2024-12-10T16:18:17.619Z"
   },
   {
    "duration": 5,
    "start_time": "2024-12-10T16:18:17.629Z"
   },
   {
    "duration": 8,
    "start_time": "2024-12-10T16:18:17.635Z"
   },
   {
    "duration": 4,
    "start_time": "2024-12-10T16:18:17.645Z"
   },
   {
    "duration": 893,
    "start_time": "2024-12-10T16:18:17.687Z"
   },
   {
    "duration": 42,
    "start_time": "2024-12-10T16:18:18.582Z"
   },
   {
    "duration": 5,
    "start_time": "2024-12-10T16:18:18.626Z"
   },
   {
    "duration": 327,
    "start_time": "2024-12-10T16:18:18.633Z"
   },
   {
    "duration": 0,
    "start_time": "2024-12-10T16:18:18.962Z"
   },
   {
    "duration": 0,
    "start_time": "2024-12-10T16:18:18.963Z"
   },
   {
    "duration": 0,
    "start_time": "2024-12-10T16:18:18.964Z"
   },
   {
    "duration": 1,
    "start_time": "2024-12-10T16:18:18.965Z"
   },
   {
    "duration": 0,
    "start_time": "2024-12-10T16:18:18.966Z"
   },
   {
    "duration": 0,
    "start_time": "2024-12-10T16:18:18.967Z"
   },
   {
    "duration": 0,
    "start_time": "2024-12-10T16:18:18.968Z"
   },
   {
    "duration": 0,
    "start_time": "2024-12-10T16:18:18.969Z"
   },
   {
    "duration": 0,
    "start_time": "2024-12-10T16:18:18.970Z"
   },
   {
    "duration": 0,
    "start_time": "2024-12-10T16:18:18.970Z"
   },
   {
    "duration": 0,
    "start_time": "2024-12-10T16:18:18.971Z"
   },
   {
    "duration": 0,
    "start_time": "2024-12-10T16:18:18.971Z"
   },
   {
    "duration": 0,
    "start_time": "2024-12-10T16:18:18.972Z"
   },
   {
    "duration": 0,
    "start_time": "2024-12-10T16:18:18.972Z"
   },
   {
    "duration": 0,
    "start_time": "2024-12-10T16:18:18.973Z"
   },
   {
    "duration": 0,
    "start_time": "2024-12-10T16:18:18.973Z"
   },
   {
    "duration": 0,
    "start_time": "2024-12-10T16:18:18.987Z"
   },
   {
    "duration": 0,
    "start_time": "2024-12-10T16:18:18.988Z"
   },
   {
    "duration": 0,
    "start_time": "2024-12-10T16:18:18.989Z"
   },
   {
    "duration": 139,
    "start_time": "2024-12-10T16:18:31.965Z"
   },
   {
    "duration": 215,
    "start_time": "2024-12-10T16:18:34.921Z"
   },
   {
    "duration": 173,
    "start_time": "2024-12-10T16:18:41.673Z"
   },
   {
    "duration": 5,
    "start_time": "2024-12-10T16:18:44.271Z"
   },
   {
    "duration": 5,
    "start_time": "2024-12-10T16:18:46.302Z"
   },
   {
    "duration": 114,
    "start_time": "2024-12-10T16:19:03.147Z"
   },
   {
    "duration": 9,
    "start_time": "2024-12-10T16:19:40.005Z"
   },
   {
    "duration": 736,
    "start_time": "2024-12-10T16:19:53.604Z"
   },
   {
    "duration": 5,
    "start_time": "2024-12-10T16:20:04.039Z"
   },
   {
    "duration": 707,
    "start_time": "2024-12-10T16:20:06.769Z"
   },
   {
    "duration": 221,
    "start_time": "2024-12-10T16:20:17.586Z"
   },
   {
    "duration": 76,
    "start_time": "2024-12-10T16:20:29.533Z"
   },
   {
    "duration": 52,
    "start_time": "2024-12-10T16:50:19.534Z"
   },
   {
    "duration": 438,
    "start_time": "2024-12-10T16:52:38.645Z"
   },
   {
    "duration": 197,
    "start_time": "2024-12-10T16:52:39.085Z"
   },
   {
    "duration": 43,
    "start_time": "2024-12-10T16:52:39.284Z"
   },
   {
    "duration": 5,
    "start_time": "2024-12-10T16:52:39.329Z"
   },
   {
    "duration": 5,
    "start_time": "2024-12-10T16:52:39.336Z"
   },
   {
    "duration": 831,
    "start_time": "2024-12-10T16:52:39.343Z"
   },
   {
    "duration": 102,
    "start_time": "2024-12-10T16:52:40.176Z"
   },
   {
    "duration": 8,
    "start_time": "2024-12-10T16:52:40.286Z"
   },
   {
    "duration": 117,
    "start_time": "2024-12-10T16:52:40.296Z"
   },
   {
    "duration": 104,
    "start_time": "2024-12-10T16:52:40.415Z"
   },
   {
    "duration": 80,
    "start_time": "2024-12-10T16:52:40.521Z"
   },
   {
    "duration": 14,
    "start_time": "2024-12-10T16:52:40.603Z"
   },
   {
    "duration": 8,
    "start_time": "2024-12-10T16:52:40.619Z"
   },
   {
    "duration": 26,
    "start_time": "2024-12-10T16:52:40.632Z"
   },
   {
    "duration": 3,
    "start_time": "2024-12-10T16:52:40.660Z"
   },
   {
    "duration": 11,
    "start_time": "2024-12-10T16:52:40.688Z"
   },
   {
    "duration": 5,
    "start_time": "2024-12-10T16:52:40.701Z"
   },
   {
    "duration": 11,
    "start_time": "2024-12-10T16:52:40.708Z"
   },
   {
    "duration": 5,
    "start_time": "2024-12-10T16:52:40.721Z"
   },
   {
    "duration": 905,
    "start_time": "2024-12-10T16:52:40.729Z"
   },
   {
    "duration": 72,
    "start_time": "2024-12-10T16:52:41.636Z"
   },
   {
    "duration": 7,
    "start_time": "2024-12-10T16:52:41.710Z"
   },
   {
    "duration": 341,
    "start_time": "2024-12-10T16:52:41.719Z"
   },
   {
    "duration": 0,
    "start_time": "2024-12-10T16:52:42.063Z"
   },
   {
    "duration": 0,
    "start_time": "2024-12-10T16:52:42.064Z"
   },
   {
    "duration": 0,
    "start_time": "2024-12-10T16:52:42.066Z"
   },
   {
    "duration": 0,
    "start_time": "2024-12-10T16:52:42.067Z"
   },
   {
    "duration": 0,
    "start_time": "2024-12-10T16:52:42.069Z"
   },
   {
    "duration": 0,
    "start_time": "2024-12-10T16:52:42.086Z"
   },
   {
    "duration": 0,
    "start_time": "2024-12-10T16:52:42.087Z"
   },
   {
    "duration": 0,
    "start_time": "2024-12-10T16:52:42.089Z"
   },
   {
    "duration": 0,
    "start_time": "2024-12-10T16:52:42.090Z"
   },
   {
    "duration": 0,
    "start_time": "2024-12-10T16:52:42.091Z"
   },
   {
    "duration": 0,
    "start_time": "2024-12-10T16:52:42.093Z"
   },
   {
    "duration": 0,
    "start_time": "2024-12-10T16:52:42.094Z"
   },
   {
    "duration": 0,
    "start_time": "2024-12-10T16:52:42.096Z"
   },
   {
    "duration": 0,
    "start_time": "2024-12-10T16:52:42.097Z"
   },
   {
    "duration": 0,
    "start_time": "2024-12-10T16:52:42.099Z"
   },
   {
    "duration": 0,
    "start_time": "2024-12-10T16:52:42.100Z"
   },
   {
    "duration": 0,
    "start_time": "2024-12-10T16:52:42.101Z"
   },
   {
    "duration": 0,
    "start_time": "2024-12-10T16:52:42.104Z"
   },
   {
    "duration": 0,
    "start_time": "2024-12-10T16:52:42.105Z"
   },
   {
    "duration": 214,
    "start_time": "2024-12-10T16:52:48.799Z"
   },
   {
    "duration": 279,
    "start_time": "2024-12-10T16:52:53.991Z"
   },
   {
    "duration": 418,
    "start_time": "2024-12-10T16:55:05.464Z"
   },
   {
    "duration": 174,
    "start_time": "2024-12-10T16:55:05.887Z"
   },
   {
    "duration": 43,
    "start_time": "2024-12-10T16:55:06.063Z"
   },
   {
    "duration": 5,
    "start_time": "2024-12-10T16:55:06.109Z"
   },
   {
    "duration": 4,
    "start_time": "2024-12-10T16:55:06.115Z"
   },
   {
    "duration": 722,
    "start_time": "2024-12-10T16:55:06.121Z"
   },
   {
    "duration": 115,
    "start_time": "2024-12-10T16:55:06.845Z"
   },
   {
    "duration": 9,
    "start_time": "2024-12-10T16:55:06.962Z"
   },
   {
    "duration": 120,
    "start_time": "2024-12-10T16:55:06.972Z"
   },
   {
    "duration": 113,
    "start_time": "2024-12-10T16:55:07.096Z"
   },
   {
    "duration": 86,
    "start_time": "2024-12-10T16:55:07.211Z"
   },
   {
    "duration": 14,
    "start_time": "2024-12-10T16:55:07.299Z"
   },
   {
    "duration": 7,
    "start_time": "2024-12-10T16:55:07.315Z"
   },
   {
    "duration": 19,
    "start_time": "2024-12-10T16:55:07.324Z"
   },
   {
    "duration": 4,
    "start_time": "2024-12-10T16:55:07.345Z"
   },
   {
    "duration": 36,
    "start_time": "2024-12-10T16:55:07.352Z"
   },
   {
    "duration": 5,
    "start_time": "2024-12-10T16:55:07.390Z"
   },
   {
    "duration": 8,
    "start_time": "2024-12-10T16:55:07.397Z"
   },
   {
    "duration": 4,
    "start_time": "2024-12-10T16:55:07.407Z"
   },
   {
    "duration": 874,
    "start_time": "2024-12-10T16:55:07.413Z"
   },
   {
    "duration": 38,
    "start_time": "2024-12-10T16:55:08.290Z"
   },
   {
    "duration": 6,
    "start_time": "2024-12-10T16:55:08.330Z"
   },
   {
    "duration": 344,
    "start_time": "2024-12-10T16:55:08.338Z"
   },
   {
    "duration": 1,
    "start_time": "2024-12-10T16:55:08.686Z"
   },
   {
    "duration": 0,
    "start_time": "2024-12-10T16:55:08.688Z"
   },
   {
    "duration": 0,
    "start_time": "2024-12-10T16:55:08.690Z"
   },
   {
    "duration": 0,
    "start_time": "2024-12-10T16:55:08.690Z"
   },
   {
    "duration": 0,
    "start_time": "2024-12-10T16:55:08.691Z"
   },
   {
    "duration": 0,
    "start_time": "2024-12-10T16:55:08.692Z"
   },
   {
    "duration": 0,
    "start_time": "2024-12-10T16:55:08.694Z"
   },
   {
    "duration": 0,
    "start_time": "2024-12-10T16:55:08.695Z"
   },
   {
    "duration": 0,
    "start_time": "2024-12-10T16:55:08.696Z"
   },
   {
    "duration": 0,
    "start_time": "2024-12-10T16:55:08.696Z"
   },
   {
    "duration": 0,
    "start_time": "2024-12-10T16:55:08.697Z"
   },
   {
    "duration": 0,
    "start_time": "2024-12-10T16:55:08.699Z"
   },
   {
    "duration": 0,
    "start_time": "2024-12-10T16:55:08.700Z"
   },
   {
    "duration": 0,
    "start_time": "2024-12-10T16:55:08.700Z"
   },
   {
    "duration": 0,
    "start_time": "2024-12-10T16:55:08.701Z"
   },
   {
    "duration": 0,
    "start_time": "2024-12-10T16:55:08.702Z"
   },
   {
    "duration": 0,
    "start_time": "2024-12-10T16:55:08.703Z"
   },
   {
    "duration": 0,
    "start_time": "2024-12-10T16:55:08.704Z"
   },
   {
    "duration": 0,
    "start_time": "2024-12-10T16:55:08.705Z"
   },
   {
    "duration": 10,
    "start_time": "2024-12-10T16:55:17.066Z"
   },
   {
    "duration": 8,
    "start_time": "2024-12-10T16:55:19.769Z"
   },
   {
    "duration": 45,
    "start_time": "2024-12-10T16:55:24.954Z"
   },
   {
    "duration": 478,
    "start_time": "2024-12-10T16:58:46.799Z"
   },
   {
    "duration": 201,
    "start_time": "2024-12-10T16:58:47.279Z"
   },
   {
    "duration": 59,
    "start_time": "2024-12-10T16:58:47.482Z"
   },
   {
    "duration": 6,
    "start_time": "2024-12-10T16:58:47.543Z"
   },
   {
    "duration": 6,
    "start_time": "2024-12-10T16:58:47.552Z"
   },
   {
    "duration": 828,
    "start_time": "2024-12-10T16:58:47.559Z"
   },
   {
    "duration": 109,
    "start_time": "2024-12-10T16:58:48.388Z"
   },
   {
    "duration": 9,
    "start_time": "2024-12-10T16:58:48.499Z"
   },
   {
    "duration": 121,
    "start_time": "2024-12-10T16:58:48.510Z"
   },
   {
    "duration": 109,
    "start_time": "2024-12-10T16:58:48.634Z"
   },
   {
    "duration": 85,
    "start_time": "2024-12-10T16:58:48.745Z"
   },
   {
    "duration": 14,
    "start_time": "2024-12-10T16:58:48.832Z"
   },
   {
    "duration": 8,
    "start_time": "2024-12-10T16:58:48.848Z"
   },
   {
    "duration": 43,
    "start_time": "2024-12-10T16:58:48.858Z"
   },
   {
    "duration": 2,
    "start_time": "2024-12-10T16:58:48.904Z"
   },
   {
    "duration": 8,
    "start_time": "2024-12-10T16:58:48.909Z"
   },
   {
    "duration": 4,
    "start_time": "2024-12-10T16:58:48.919Z"
   },
   {
    "duration": 8,
    "start_time": "2024-12-10T16:58:48.925Z"
   },
   {
    "duration": 5,
    "start_time": "2024-12-10T16:58:48.935Z"
   },
   {
    "duration": 868,
    "start_time": "2024-12-10T16:58:48.941Z"
   },
   {
    "duration": 40,
    "start_time": "2024-12-10T16:58:49.812Z"
   },
   {
    "duration": 5,
    "start_time": "2024-12-10T16:58:49.854Z"
   },
   {
    "duration": 335,
    "start_time": "2024-12-10T16:58:49.861Z"
   },
   {
    "duration": 0,
    "start_time": "2024-12-10T16:58:50.199Z"
   },
   {
    "duration": 0,
    "start_time": "2024-12-10T16:58:50.200Z"
   },
   {
    "duration": 0,
    "start_time": "2024-12-10T16:58:50.201Z"
   },
   {
    "duration": 0,
    "start_time": "2024-12-10T16:58:50.202Z"
   },
   {
    "duration": 0,
    "start_time": "2024-12-10T16:58:50.203Z"
   },
   {
    "duration": 0,
    "start_time": "2024-12-10T16:58:50.204Z"
   },
   {
    "duration": 0,
    "start_time": "2024-12-10T16:58:50.206Z"
   },
   {
    "duration": 0,
    "start_time": "2024-12-10T16:58:50.207Z"
   },
   {
    "duration": 0,
    "start_time": "2024-12-10T16:58:50.209Z"
   },
   {
    "duration": 0,
    "start_time": "2024-12-10T16:58:50.210Z"
   },
   {
    "duration": 0,
    "start_time": "2024-12-10T16:58:50.212Z"
   },
   {
    "duration": 0,
    "start_time": "2024-12-10T16:58:50.213Z"
   },
   {
    "duration": 0,
    "start_time": "2024-12-10T16:58:50.215Z"
   },
   {
    "duration": 0,
    "start_time": "2024-12-10T16:58:50.217Z"
   },
   {
    "duration": 0,
    "start_time": "2024-12-10T16:58:50.218Z"
   },
   {
    "duration": 0,
    "start_time": "2024-12-10T16:58:50.219Z"
   },
   {
    "duration": 0,
    "start_time": "2024-12-10T16:58:50.221Z"
   },
   {
    "duration": 0,
    "start_time": "2024-12-10T16:58:50.222Z"
   },
   {
    "duration": 0,
    "start_time": "2024-12-10T16:58:50.224Z"
   },
   {
    "duration": 54,
    "start_time": "2024-12-10T16:59:00.893Z"
   },
   {
    "duration": 427,
    "start_time": "2024-12-10T16:59:26.642Z"
   },
   {
    "duration": 171,
    "start_time": "2024-12-10T16:59:27.071Z"
   },
   {
    "duration": 42,
    "start_time": "2024-12-10T16:59:27.244Z"
   },
   {
    "duration": 6,
    "start_time": "2024-12-10T16:59:27.289Z"
   },
   {
    "duration": 5,
    "start_time": "2024-12-10T16:59:27.296Z"
   },
   {
    "duration": 735,
    "start_time": "2024-12-10T16:59:27.303Z"
   },
   {
    "duration": 105,
    "start_time": "2024-12-10T16:59:28.039Z"
   },
   {
    "duration": 8,
    "start_time": "2024-12-10T16:59:28.146Z"
   },
   {
    "duration": 115,
    "start_time": "2024-12-10T16:59:28.156Z"
   },
   {
    "duration": 104,
    "start_time": "2024-12-10T16:59:28.275Z"
   },
   {
    "duration": 78,
    "start_time": "2024-12-10T16:59:28.380Z"
   },
   {
    "duration": 27,
    "start_time": "2024-12-10T16:59:28.460Z"
   },
   {
    "duration": 7,
    "start_time": "2024-12-10T16:59:28.489Z"
   },
   {
    "duration": 18,
    "start_time": "2024-12-10T16:59:28.497Z"
   },
   {
    "duration": 2,
    "start_time": "2024-12-10T16:59:28.517Z"
   },
   {
    "duration": 10,
    "start_time": "2024-12-10T16:59:28.521Z"
   },
   {
    "duration": 4,
    "start_time": "2024-12-10T16:59:28.532Z"
   },
   {
    "duration": 8,
    "start_time": "2024-12-10T16:59:28.538Z"
   },
   {
    "duration": 40,
    "start_time": "2024-12-10T16:59:28.548Z"
   },
   {
    "duration": 814,
    "start_time": "2024-12-10T16:59:28.590Z"
   },
   {
    "duration": 39,
    "start_time": "2024-12-10T16:59:29.406Z"
   },
   {
    "duration": 6,
    "start_time": "2024-12-10T16:59:29.447Z"
   },
   {
    "duration": 333,
    "start_time": "2024-12-10T16:59:29.454Z"
   },
   {
    "duration": 0,
    "start_time": "2024-12-10T16:59:29.790Z"
   },
   {
    "duration": 0,
    "start_time": "2024-12-10T16:59:29.792Z"
   },
   {
    "duration": 0,
    "start_time": "2024-12-10T16:59:29.793Z"
   },
   {
    "duration": 0,
    "start_time": "2024-12-10T16:59:29.794Z"
   },
   {
    "duration": 0,
    "start_time": "2024-12-10T16:59:29.796Z"
   },
   {
    "duration": 0,
    "start_time": "2024-12-10T16:59:29.797Z"
   },
   {
    "duration": 0,
    "start_time": "2024-12-10T16:59:29.798Z"
   },
   {
    "duration": 0,
    "start_time": "2024-12-10T16:59:29.799Z"
   },
   {
    "duration": 0,
    "start_time": "2024-12-10T16:59:29.800Z"
   },
   {
    "duration": 0,
    "start_time": "2024-12-10T16:59:29.801Z"
   },
   {
    "duration": 0,
    "start_time": "2024-12-10T16:59:29.802Z"
   },
   {
    "duration": 0,
    "start_time": "2024-12-10T16:59:29.803Z"
   },
   {
    "duration": 0,
    "start_time": "2024-12-10T16:59:29.804Z"
   },
   {
    "duration": 0,
    "start_time": "2024-12-10T16:59:29.806Z"
   },
   {
    "duration": 0,
    "start_time": "2024-12-10T16:59:29.807Z"
   },
   {
    "duration": 0,
    "start_time": "2024-12-10T16:59:29.808Z"
   },
   {
    "duration": 0,
    "start_time": "2024-12-10T16:59:29.809Z"
   },
   {
    "duration": 0,
    "start_time": "2024-12-10T16:59:29.810Z"
   },
   {
    "duration": 0,
    "start_time": "2024-12-10T16:59:29.811Z"
   },
   {
    "duration": 404,
    "start_time": "2024-12-10T16:59:57.447Z"
   },
   {
    "duration": 174,
    "start_time": "2024-12-10T16:59:57.853Z"
   },
   {
    "duration": 37,
    "start_time": "2024-12-10T16:59:58.029Z"
   },
   {
    "duration": 6,
    "start_time": "2024-12-10T16:59:58.068Z"
   },
   {
    "duration": 5,
    "start_time": "2024-12-10T16:59:58.086Z"
   },
   {
    "duration": 725,
    "start_time": "2024-12-10T16:59:58.092Z"
   },
   {
    "duration": 110,
    "start_time": "2024-12-10T16:59:58.819Z"
   },
   {
    "duration": 9,
    "start_time": "2024-12-10T16:59:58.932Z"
   },
   {
    "duration": 117,
    "start_time": "2024-12-10T16:59:58.943Z"
   },
   {
    "duration": 2154,
    "start_time": "2024-12-10T21:02:26.791Z"
   },
   {
    "duration": 178,
    "start_time": "2024-12-10T21:02:28.947Z"
   },
   {
    "duration": 58,
    "start_time": "2024-12-10T21:02:29.127Z"
   },
   {
    "duration": 8,
    "start_time": "2024-12-10T21:02:29.187Z"
   },
   {
    "duration": 7,
    "start_time": "2024-12-10T21:02:29.196Z"
   },
   {
    "duration": 775,
    "start_time": "2024-12-10T21:02:29.205Z"
   },
   {
    "duration": 94,
    "start_time": "2024-12-10T21:02:29.982Z"
   },
   {
    "duration": 9,
    "start_time": "2024-12-10T21:02:30.077Z"
   },
   {
    "duration": 116,
    "start_time": "2024-12-10T21:02:30.087Z"
   },
   {
    "duration": 96,
    "start_time": "2024-12-10T21:02:30.207Z"
   },
   {
    "duration": 78,
    "start_time": "2024-12-10T21:02:30.305Z"
   },
   {
    "duration": 11,
    "start_time": "2024-12-10T21:02:30.385Z"
   },
   {
    "duration": 7,
    "start_time": "2024-12-10T21:02:30.398Z"
   },
   {
    "duration": 32,
    "start_time": "2024-12-10T21:02:30.406Z"
   },
   {
    "duration": 13,
    "start_time": "2024-12-10T21:02:30.440Z"
   },
   {
    "duration": 24,
    "start_time": "2024-12-10T21:02:30.454Z"
   },
   {
    "duration": 14,
    "start_time": "2024-12-10T21:02:30.480Z"
   },
   {
    "duration": 20,
    "start_time": "2024-12-10T21:02:30.496Z"
   },
   {
    "duration": 14,
    "start_time": "2024-12-10T21:02:30.518Z"
   },
   {
    "duration": 801,
    "start_time": "2024-12-10T21:02:30.534Z"
   },
   {
    "duration": 38,
    "start_time": "2024-12-10T21:02:31.336Z"
   },
   {
    "duration": 6,
    "start_time": "2024-12-10T21:02:31.376Z"
   },
   {
    "duration": 348,
    "start_time": "2024-12-10T21:02:31.384Z"
   },
   {
    "duration": 0,
    "start_time": "2024-12-10T21:02:31.735Z"
   },
   {
    "duration": 0,
    "start_time": "2024-12-10T21:02:31.736Z"
   },
   {
    "duration": 0,
    "start_time": "2024-12-10T21:02:31.738Z"
   },
   {
    "duration": 0,
    "start_time": "2024-12-10T21:02:31.740Z"
   },
   {
    "duration": 0,
    "start_time": "2024-12-10T21:02:31.741Z"
   },
   {
    "duration": 0,
    "start_time": "2024-12-10T21:02:31.743Z"
   },
   {
    "duration": 1,
    "start_time": "2024-12-10T21:02:31.744Z"
   },
   {
    "duration": 0,
    "start_time": "2024-12-10T21:02:31.746Z"
   },
   {
    "duration": 1,
    "start_time": "2024-12-10T21:02:31.747Z"
   },
   {
    "duration": 0,
    "start_time": "2024-12-10T21:02:31.749Z"
   },
   {
    "duration": 0,
    "start_time": "2024-12-10T21:02:31.751Z"
   },
   {
    "duration": 0,
    "start_time": "2024-12-10T21:02:31.752Z"
   },
   {
    "duration": 0,
    "start_time": "2024-12-10T21:02:31.753Z"
   },
   {
    "duration": 0,
    "start_time": "2024-12-10T21:02:31.755Z"
   },
   {
    "duration": 0,
    "start_time": "2024-12-10T21:02:31.756Z"
   },
   {
    "duration": 0,
    "start_time": "2024-12-10T21:02:31.757Z"
   },
   {
    "duration": 0,
    "start_time": "2024-12-10T21:02:31.758Z"
   },
   {
    "duration": 0,
    "start_time": "2024-12-10T21:02:31.760Z"
   },
   {
    "duration": 0,
    "start_time": "2024-12-10T21:02:31.762Z"
   },
   {
    "duration": 420,
    "start_time": "2024-12-10T21:07:39.178Z"
   },
   {
    "duration": 169,
    "start_time": "2024-12-10T21:07:39.601Z"
   },
   {
    "duration": 34,
    "start_time": "2024-12-10T21:07:39.772Z"
   },
   {
    "duration": 15,
    "start_time": "2024-12-10T21:07:39.809Z"
   },
   {
    "duration": 4,
    "start_time": "2024-12-10T21:07:39.826Z"
   },
   {
    "duration": 736,
    "start_time": "2024-12-10T21:07:39.832Z"
   },
   {
    "duration": 105,
    "start_time": "2024-12-10T21:07:40.570Z"
   },
   {
    "duration": 9,
    "start_time": "2024-12-10T21:07:40.677Z"
   },
   {
    "duration": 111,
    "start_time": "2024-12-10T21:07:40.688Z"
   },
   {
    "duration": 105,
    "start_time": "2024-12-10T21:07:40.802Z"
   },
   {
    "duration": 79,
    "start_time": "2024-12-10T21:07:40.908Z"
   },
   {
    "duration": 13,
    "start_time": "2024-12-10T21:07:40.989Z"
   },
   {
    "duration": 22,
    "start_time": "2024-12-10T21:07:41.003Z"
   },
   {
    "duration": 18,
    "start_time": "2024-12-10T21:07:41.027Z"
   },
   {
    "duration": 2,
    "start_time": "2024-12-10T21:07:41.047Z"
   },
   {
    "duration": 9,
    "start_time": "2024-12-10T21:07:41.051Z"
   },
   {
    "duration": 5,
    "start_time": "2024-12-10T21:07:41.061Z"
   },
   {
    "duration": 8,
    "start_time": "2024-12-10T21:07:41.068Z"
   },
   {
    "duration": 5,
    "start_time": "2024-12-10T21:07:41.077Z"
   },
   {
    "duration": 891,
    "start_time": "2024-12-10T21:07:41.084Z"
   },
   {
    "duration": 48,
    "start_time": "2024-12-10T21:07:41.977Z"
   },
   {
    "duration": 6,
    "start_time": "2024-12-10T21:07:42.027Z"
   },
   {
    "duration": 330,
    "start_time": "2024-12-10T21:07:42.035Z"
   },
   {
    "duration": 0,
    "start_time": "2024-12-10T21:07:42.368Z"
   },
   {
    "duration": 0,
    "start_time": "2024-12-10T21:07:42.369Z"
   },
   {
    "duration": 0,
    "start_time": "2024-12-10T21:07:42.370Z"
   },
   {
    "duration": 0,
    "start_time": "2024-12-10T21:07:42.371Z"
   },
   {
    "duration": 0,
    "start_time": "2024-12-10T21:07:42.373Z"
   },
   {
    "duration": 0,
    "start_time": "2024-12-10T21:07:42.375Z"
   },
   {
    "duration": 0,
    "start_time": "2024-12-10T21:07:42.376Z"
   },
   {
    "duration": 0,
    "start_time": "2024-12-10T21:07:42.377Z"
   },
   {
    "duration": 0,
    "start_time": "2024-12-10T21:07:42.378Z"
   },
   {
    "duration": 0,
    "start_time": "2024-12-10T21:07:42.379Z"
   },
   {
    "duration": 0,
    "start_time": "2024-12-10T21:07:42.380Z"
   },
   {
    "duration": 0,
    "start_time": "2024-12-10T21:07:42.381Z"
   },
   {
    "duration": 0,
    "start_time": "2024-12-10T21:07:42.382Z"
   },
   {
    "duration": 0,
    "start_time": "2024-12-10T21:07:42.383Z"
   },
   {
    "duration": 0,
    "start_time": "2024-12-10T21:07:42.384Z"
   },
   {
    "duration": 0,
    "start_time": "2024-12-10T21:07:42.385Z"
   },
   {
    "duration": 1,
    "start_time": "2024-12-10T21:07:42.386Z"
   },
   {
    "duration": 0,
    "start_time": "2024-12-10T21:07:42.424Z"
   },
   {
    "duration": 0,
    "start_time": "2024-12-10T21:07:42.425Z"
   },
   {
    "duration": 230,
    "start_time": "2024-12-10T21:07:58.709Z"
   },
   {
    "duration": 429,
    "start_time": "2024-12-10T21:08:52.448Z"
   },
   {
    "duration": 154,
    "start_time": "2024-12-10T21:08:52.879Z"
   },
   {
    "duration": 35,
    "start_time": "2024-12-10T21:08:53.035Z"
   },
   {
    "duration": 5,
    "start_time": "2024-12-10T21:08:53.073Z"
   },
   {
    "duration": 4,
    "start_time": "2024-12-10T21:08:53.080Z"
   },
   {
    "duration": 735,
    "start_time": "2024-12-10T21:08:53.085Z"
   },
   {
    "duration": 104,
    "start_time": "2024-12-10T21:08:53.822Z"
   },
   {
    "duration": 9,
    "start_time": "2024-12-10T21:08:53.928Z"
   },
   {
    "duration": 108,
    "start_time": "2024-12-10T21:08:53.939Z"
   },
   {
    "duration": 95,
    "start_time": "2024-12-10T21:08:54.051Z"
   },
   {
    "duration": 78,
    "start_time": "2024-12-10T21:08:54.148Z"
   },
   {
    "duration": 12,
    "start_time": "2024-12-10T21:08:54.227Z"
   },
   {
    "duration": 6,
    "start_time": "2024-12-10T21:08:54.242Z"
   },
   {
    "duration": 17,
    "start_time": "2024-12-10T21:08:54.250Z"
   },
   {
    "duration": 3,
    "start_time": "2024-12-10T21:08:54.268Z"
   },
   {
    "duration": 9,
    "start_time": "2024-12-10T21:08:54.273Z"
   },
   {
    "duration": 40,
    "start_time": "2024-12-10T21:08:54.284Z"
   },
   {
    "duration": 8,
    "start_time": "2024-12-10T21:08:54.325Z"
   },
   {
    "duration": 4,
    "start_time": "2024-12-10T21:08:54.335Z"
   },
   {
    "duration": 782,
    "start_time": "2024-12-10T21:08:54.340Z"
   },
   {
    "duration": 37,
    "start_time": "2024-12-10T21:08:55.124Z"
   },
   {
    "duration": 5,
    "start_time": "2024-12-10T21:08:55.163Z"
   },
   {
    "duration": 323,
    "start_time": "2024-12-10T21:08:55.170Z"
   },
   {
    "duration": 0,
    "start_time": "2024-12-10T21:08:55.495Z"
   },
   {
    "duration": 0,
    "start_time": "2024-12-10T21:08:55.496Z"
   },
   {
    "duration": 0,
    "start_time": "2024-12-10T21:08:55.498Z"
   },
   {
    "duration": 0,
    "start_time": "2024-12-10T21:08:55.499Z"
   },
   {
    "duration": 0,
    "start_time": "2024-12-10T21:08:55.500Z"
   },
   {
    "duration": 0,
    "start_time": "2024-12-10T21:08:55.502Z"
   },
   {
    "duration": 0,
    "start_time": "2024-12-10T21:08:55.503Z"
   },
   {
    "duration": 0,
    "start_time": "2024-12-10T21:08:55.504Z"
   },
   {
    "duration": 0,
    "start_time": "2024-12-10T21:08:55.505Z"
   },
   {
    "duration": 0,
    "start_time": "2024-12-10T21:08:55.506Z"
   },
   {
    "duration": 0,
    "start_time": "2024-12-10T21:08:55.524Z"
   },
   {
    "duration": 0,
    "start_time": "2024-12-10T21:08:55.526Z"
   },
   {
    "duration": 0,
    "start_time": "2024-12-10T21:08:55.527Z"
   },
   {
    "duration": 0,
    "start_time": "2024-12-10T21:08:55.528Z"
   },
   {
    "duration": 0,
    "start_time": "2024-12-10T21:08:55.530Z"
   },
   {
    "duration": 0,
    "start_time": "2024-12-10T21:08:55.530Z"
   },
   {
    "duration": 0,
    "start_time": "2024-12-10T21:08:55.532Z"
   },
   {
    "duration": 0,
    "start_time": "2024-12-10T21:08:55.533Z"
   },
   {
    "duration": 0,
    "start_time": "2024-12-10T21:08:55.535Z"
   },
   {
    "duration": 7,
    "start_time": "2024-12-10T21:09:33.496Z"
   },
   {
    "duration": 4,
    "start_time": "2024-12-10T21:13:56.848Z"
   },
   {
    "duration": 37,
    "start_time": "2024-12-10T21:14:59.446Z"
   },
   {
    "duration": 6,
    "start_time": "2024-12-10T21:15:53.246Z"
   },
   {
    "duration": 10,
    "start_time": "2024-12-10T21:16:07.220Z"
   },
   {
    "duration": 3,
    "start_time": "2024-12-10T21:16:35.113Z"
   },
   {
    "duration": 4,
    "start_time": "2024-12-10T21:16:54.429Z"
   },
   {
    "duration": 310,
    "start_time": "2024-12-10T21:17:35.336Z"
   },
   {
    "duration": 14,
    "start_time": "2024-12-10T21:18:49.410Z"
   },
   {
    "duration": 157,
    "start_time": "2024-12-10T21:28:23.862Z"
   },
   {
    "duration": 12,
    "start_time": "2024-12-10T21:28:29.011Z"
   },
   {
    "duration": 15,
    "start_time": "2024-12-10T21:29:04.717Z"
   },
   {
    "duration": 11,
    "start_time": "2024-12-10T21:29:29.230Z"
   },
   {
    "duration": 449,
    "start_time": "2024-12-10T21:29:46.153Z"
   },
   {
    "duration": 190,
    "start_time": "2024-12-10T21:29:46.603Z"
   },
   {
    "duration": 60,
    "start_time": "2024-12-10T21:29:46.795Z"
   },
   {
    "duration": 7,
    "start_time": "2024-12-10T21:29:46.857Z"
   },
   {
    "duration": 6,
    "start_time": "2024-12-10T21:29:46.865Z"
   },
   {
    "duration": 792,
    "start_time": "2024-12-10T21:29:46.872Z"
   },
   {
    "duration": 105,
    "start_time": "2024-12-10T21:29:47.666Z"
   },
   {
    "duration": 9,
    "start_time": "2024-12-10T21:29:47.773Z"
   },
   {
    "duration": 109,
    "start_time": "2024-12-10T21:29:47.783Z"
   },
   {
    "duration": 97,
    "start_time": "2024-12-10T21:29:47.896Z"
   },
   {
    "duration": 82,
    "start_time": "2024-12-10T21:29:47.995Z"
   },
   {
    "duration": 12,
    "start_time": "2024-12-10T21:29:48.079Z"
   },
   {
    "duration": 7,
    "start_time": "2024-12-10T21:29:48.092Z"
   },
   {
    "duration": 32,
    "start_time": "2024-12-10T21:29:48.101Z"
   },
   {
    "duration": 3,
    "start_time": "2024-12-10T21:29:48.135Z"
   },
   {
    "duration": 8,
    "start_time": "2024-12-10T21:29:48.140Z"
   },
   {
    "duration": 4,
    "start_time": "2024-12-10T21:29:48.150Z"
   },
   {
    "duration": 8,
    "start_time": "2024-12-10T21:29:48.156Z"
   },
   {
    "duration": 5,
    "start_time": "2024-12-10T21:29:48.166Z"
   },
   {
    "duration": 783,
    "start_time": "2024-12-10T21:29:48.172Z"
   },
   {
    "duration": 39,
    "start_time": "2024-12-10T21:29:48.957Z"
   },
   {
    "duration": 6,
    "start_time": "2024-12-10T21:29:48.998Z"
   },
   {
    "duration": 334,
    "start_time": "2024-12-10T21:29:49.005Z"
   },
   {
    "duration": 0,
    "start_time": "2024-12-10T21:29:49.341Z"
   },
   {
    "duration": 0,
    "start_time": "2024-12-10T21:29:49.342Z"
   },
   {
    "duration": 0,
    "start_time": "2024-12-10T21:29:49.343Z"
   },
   {
    "duration": 0,
    "start_time": "2024-12-10T21:29:49.344Z"
   },
   {
    "duration": 0,
    "start_time": "2024-12-10T21:29:49.345Z"
   },
   {
    "duration": 0,
    "start_time": "2024-12-10T21:29:49.345Z"
   },
   {
    "duration": 0,
    "start_time": "2024-12-10T21:29:49.346Z"
   },
   {
    "duration": 0,
    "start_time": "2024-12-10T21:29:49.347Z"
   },
   {
    "duration": 0,
    "start_time": "2024-12-10T21:29:49.348Z"
   },
   {
    "duration": 0,
    "start_time": "2024-12-10T21:29:49.351Z"
   },
   {
    "duration": 0,
    "start_time": "2024-12-10T21:29:49.353Z"
   },
   {
    "duration": 0,
    "start_time": "2024-12-10T21:29:49.354Z"
   },
   {
    "duration": 0,
    "start_time": "2024-12-10T21:29:49.355Z"
   },
   {
    "duration": 0,
    "start_time": "2024-12-10T21:29:49.356Z"
   },
   {
    "duration": 0,
    "start_time": "2024-12-10T21:29:49.356Z"
   },
   {
    "duration": 0,
    "start_time": "2024-12-10T21:29:49.357Z"
   },
   {
    "duration": 0,
    "start_time": "2024-12-10T21:29:49.359Z"
   },
   {
    "duration": 0,
    "start_time": "2024-12-10T21:29:49.360Z"
   },
   {
    "duration": 0,
    "start_time": "2024-12-10T21:29:49.361Z"
   },
   {
    "duration": 0,
    "start_time": "2024-12-10T21:29:49.362Z"
   },
   {
    "duration": 0,
    "start_time": "2024-12-10T21:29:49.363Z"
   },
   {
    "duration": 0,
    "start_time": "2024-12-10T21:29:49.364Z"
   },
   {
    "duration": 0,
    "start_time": "2024-12-10T21:29:49.365Z"
   },
   {
    "duration": 185,
    "start_time": "2024-12-10T21:29:58.375Z"
   },
   {
    "duration": 13,
    "start_time": "2024-12-10T21:30:05.204Z"
   },
   {
    "duration": 11,
    "start_time": "2024-12-10T21:30:12.038Z"
   },
   {
    "duration": 8,
    "start_time": "2024-12-10T21:30:15.302Z"
   },
   {
    "duration": 41,
    "start_time": "2024-12-10T21:30:20.449Z"
   },
   {
    "duration": 12,
    "start_time": "2024-12-10T21:30:25.961Z"
   },
   {
    "duration": 435,
    "start_time": "2024-12-10T21:30:35.021Z"
   },
   {
    "duration": 160,
    "start_time": "2024-12-10T21:30:35.459Z"
   },
   {
    "duration": 37,
    "start_time": "2024-12-10T21:30:35.622Z"
   },
   {
    "duration": 4,
    "start_time": "2024-12-10T21:30:35.662Z"
   },
   {
    "duration": 4,
    "start_time": "2024-12-10T21:30:35.668Z"
   },
   {
    "duration": 713,
    "start_time": "2024-12-10T21:30:35.673Z"
   },
   {
    "duration": 99,
    "start_time": "2024-12-10T21:30:36.388Z"
   },
   {
    "duration": 10,
    "start_time": "2024-12-10T21:30:36.489Z"
   },
   {
    "duration": 112,
    "start_time": "2024-12-10T21:30:36.501Z"
   },
   {
    "duration": 92,
    "start_time": "2024-12-10T21:30:36.617Z"
   },
   {
    "duration": 78,
    "start_time": "2024-12-10T21:30:36.711Z"
   },
   {
    "duration": 14,
    "start_time": "2024-12-10T21:30:36.790Z"
   },
   {
    "duration": 6,
    "start_time": "2024-12-10T21:30:36.805Z"
   },
   {
    "duration": 25,
    "start_time": "2024-12-10T21:30:36.813Z"
   },
   {
    "duration": 3,
    "start_time": "2024-12-10T21:30:36.840Z"
   },
   {
    "duration": 9,
    "start_time": "2024-12-10T21:30:36.845Z"
   },
   {
    "duration": 4,
    "start_time": "2024-12-10T21:30:36.857Z"
   },
   {
    "duration": 6,
    "start_time": "2024-12-10T21:30:36.863Z"
   },
   {
    "duration": 5,
    "start_time": "2024-12-10T21:30:36.871Z"
   },
   {
    "duration": 829,
    "start_time": "2024-12-10T21:30:36.878Z"
   },
   {
    "duration": 47,
    "start_time": "2024-12-10T21:30:37.709Z"
   },
   {
    "duration": 5,
    "start_time": "2024-12-10T21:30:37.758Z"
   },
   {
    "duration": 339,
    "start_time": "2024-12-10T21:30:37.765Z"
   },
   {
    "duration": 0,
    "start_time": "2024-12-10T21:30:38.106Z"
   },
   {
    "duration": 0,
    "start_time": "2024-12-10T21:30:38.107Z"
   },
   {
    "duration": 0,
    "start_time": "2024-12-10T21:30:38.109Z"
   },
   {
    "duration": 0,
    "start_time": "2024-12-10T21:30:38.124Z"
   },
   {
    "duration": 0,
    "start_time": "2024-12-10T21:30:38.125Z"
   },
   {
    "duration": 0,
    "start_time": "2024-12-10T21:30:38.126Z"
   },
   {
    "duration": 0,
    "start_time": "2024-12-10T21:30:38.128Z"
   },
   {
    "duration": 0,
    "start_time": "2024-12-10T21:30:38.129Z"
   },
   {
    "duration": 0,
    "start_time": "2024-12-10T21:30:38.129Z"
   },
   {
    "duration": 0,
    "start_time": "2024-12-10T21:30:38.130Z"
   },
   {
    "duration": 0,
    "start_time": "2024-12-10T21:30:38.131Z"
   },
   {
    "duration": 0,
    "start_time": "2024-12-10T21:30:38.134Z"
   },
   {
    "duration": 0,
    "start_time": "2024-12-10T21:30:38.135Z"
   },
   {
    "duration": 0,
    "start_time": "2024-12-10T21:30:38.137Z"
   },
   {
    "duration": 0,
    "start_time": "2024-12-10T21:30:38.137Z"
   },
   {
    "duration": 0,
    "start_time": "2024-12-10T21:30:38.139Z"
   },
   {
    "duration": 0,
    "start_time": "2024-12-10T21:30:38.140Z"
   },
   {
    "duration": 0,
    "start_time": "2024-12-10T21:30:38.140Z"
   },
   {
    "duration": 0,
    "start_time": "2024-12-10T21:30:38.141Z"
   },
   {
    "duration": 0,
    "start_time": "2024-12-10T21:30:38.142Z"
   },
   {
    "duration": 0,
    "start_time": "2024-12-10T21:30:38.143Z"
   },
   {
    "duration": 0,
    "start_time": "2024-12-10T21:30:38.144Z"
   },
   {
    "duration": 0,
    "start_time": "2024-12-10T21:30:38.145Z"
   },
   {
    "duration": 7,
    "start_time": "2024-12-10T21:30:49.511Z"
   },
   {
    "duration": 4,
    "start_time": "2024-12-10T21:31:24.078Z"
   },
   {
    "duration": 7,
    "start_time": "2024-12-10T21:33:33.774Z"
   },
   {
    "duration": 7,
    "start_time": "2024-12-10T21:33:52.599Z"
   },
   {
    "duration": 12,
    "start_time": "2024-12-10T21:50:42.260Z"
   },
   {
    "duration": 267,
    "start_time": "2024-12-10T21:50:56.891Z"
   },
   {
    "duration": 276,
    "start_time": "2024-12-10T21:51:21.148Z"
   },
   {
    "duration": 262,
    "start_time": "2024-12-10T21:51:33.233Z"
   },
   {
    "duration": 138,
    "start_time": "2024-12-10T21:52:10.176Z"
   },
   {
    "duration": 128,
    "start_time": "2024-12-10T21:52:29.150Z"
   },
   {
    "duration": 13,
    "start_time": "2024-12-10T21:52:54.192Z"
   },
   {
    "duration": 13,
    "start_time": "2024-12-10T21:53:05.143Z"
   },
   {
    "duration": 68,
    "start_time": "2024-12-10T21:53:19.801Z"
   },
   {
    "duration": 65,
    "start_time": "2024-12-10T21:53:25.949Z"
   },
   {
    "duration": 13,
    "start_time": "2024-12-10T21:53:30.866Z"
   },
   {
    "duration": 24,
    "start_time": "2024-12-10T21:53:43.954Z"
   },
   {
    "duration": 398,
    "start_time": "2024-12-10T21:59:55.899Z"
   },
   {
    "duration": 159,
    "start_time": "2024-12-10T21:59:56.299Z"
   },
   {
    "duration": 40,
    "start_time": "2024-12-10T21:59:56.460Z"
   },
   {
    "duration": 4,
    "start_time": "2024-12-10T21:59:56.503Z"
   },
   {
    "duration": 18,
    "start_time": "2024-12-10T21:59:56.508Z"
   },
   {
    "duration": 710,
    "start_time": "2024-12-10T21:59:56.528Z"
   },
   {
    "duration": 99,
    "start_time": "2024-12-10T21:59:57.239Z"
   },
   {
    "duration": 9,
    "start_time": "2024-12-10T21:59:57.339Z"
   },
   {
    "duration": 111,
    "start_time": "2024-12-10T21:59:57.350Z"
   },
   {
    "duration": 107,
    "start_time": "2024-12-10T21:59:57.465Z"
   },
   {
    "duration": 89,
    "start_time": "2024-12-10T21:59:57.574Z"
   },
   {
    "duration": 15,
    "start_time": "2024-12-10T21:59:57.665Z"
   },
   {
    "duration": 7,
    "start_time": "2024-12-10T21:59:57.682Z"
   },
   {
    "duration": 38,
    "start_time": "2024-12-10T21:59:57.691Z"
   },
   {
    "duration": 2,
    "start_time": "2024-12-10T21:59:57.733Z"
   },
   {
    "duration": 9,
    "start_time": "2024-12-10T21:59:57.737Z"
   },
   {
    "duration": 5,
    "start_time": "2024-12-10T21:59:57.747Z"
   },
   {
    "duration": 8,
    "start_time": "2024-12-10T21:59:57.754Z"
   },
   {
    "duration": 5,
    "start_time": "2024-12-10T21:59:57.763Z"
   },
   {
    "duration": 797,
    "start_time": "2024-12-10T21:59:57.769Z"
   },
   {
    "duration": 39,
    "start_time": "2024-12-10T21:59:58.568Z"
   },
   {
    "duration": 16,
    "start_time": "2024-12-10T21:59:58.608Z"
   },
   {
    "duration": 316,
    "start_time": "2024-12-10T21:59:58.626Z"
   },
   {
    "duration": 0,
    "start_time": "2024-12-10T21:59:58.946Z"
   },
   {
    "duration": 0,
    "start_time": "2024-12-10T21:59:58.947Z"
   },
   {
    "duration": 0,
    "start_time": "2024-12-10T21:59:58.949Z"
   },
   {
    "duration": 0,
    "start_time": "2024-12-10T21:59:58.950Z"
   },
   {
    "duration": 0,
    "start_time": "2024-12-10T21:59:58.951Z"
   },
   {
    "duration": 0,
    "start_time": "2024-12-10T21:59:58.952Z"
   },
   {
    "duration": 0,
    "start_time": "2024-12-10T21:59:58.953Z"
   },
   {
    "duration": 0,
    "start_time": "2024-12-10T21:59:58.954Z"
   },
   {
    "duration": 0,
    "start_time": "2024-12-10T21:59:58.955Z"
   },
   {
    "duration": 0,
    "start_time": "2024-12-10T21:59:58.955Z"
   },
   {
    "duration": 0,
    "start_time": "2024-12-10T21:59:58.956Z"
   },
   {
    "duration": 0,
    "start_time": "2024-12-10T21:59:58.958Z"
   },
   {
    "duration": 0,
    "start_time": "2024-12-10T21:59:58.959Z"
   },
   {
    "duration": 0,
    "start_time": "2024-12-10T21:59:58.960Z"
   },
   {
    "duration": 0,
    "start_time": "2024-12-10T21:59:58.961Z"
   },
   {
    "duration": 0,
    "start_time": "2024-12-10T21:59:58.963Z"
   },
   {
    "duration": 0,
    "start_time": "2024-12-10T21:59:58.964Z"
   },
   {
    "duration": 0,
    "start_time": "2024-12-10T21:59:58.966Z"
   },
   {
    "duration": 0,
    "start_time": "2024-12-10T21:59:58.967Z"
   },
   {
    "duration": 0,
    "start_time": "2024-12-10T21:59:58.968Z"
   },
   {
    "duration": 0,
    "start_time": "2024-12-10T21:59:58.969Z"
   },
   {
    "duration": 0,
    "start_time": "2024-12-10T21:59:58.970Z"
   },
   {
    "duration": 0,
    "start_time": "2024-12-10T21:59:58.972Z"
   },
   {
    "duration": 0,
    "start_time": "2024-12-10T21:59:58.973Z"
   },
   {
    "duration": 0,
    "start_time": "2024-12-10T21:59:58.974Z"
   },
   {
    "duration": 0,
    "start_time": "2024-12-10T21:59:58.975Z"
   },
   {
    "duration": 0,
    "start_time": "2024-12-10T21:59:58.976Z"
   },
   {
    "duration": 0,
    "start_time": "2024-12-10T21:59:58.977Z"
   },
   {
    "duration": 0,
    "start_time": "2024-12-10T21:59:58.978Z"
   },
   {
    "duration": 69,
    "start_time": "2024-12-10T22:00:09.927Z"
   },
   {
    "duration": 65,
    "start_time": "2024-12-10T22:00:12.462Z"
   },
   {
    "duration": 25,
    "start_time": "2024-12-10T22:00:18.088Z"
   },
   {
    "duration": 69,
    "start_time": "2024-12-10T22:00:42.629Z"
   },
   {
    "duration": 67,
    "start_time": "2024-12-10T22:01:13.426Z"
   },
   {
    "duration": 10,
    "start_time": "2024-12-10T22:07:38.707Z"
   },
   {
    "duration": 12,
    "start_time": "2024-12-10T22:09:24.922Z"
   },
   {
    "duration": 156,
    "start_time": "2024-12-10T22:10:14.676Z"
   },
   {
    "duration": 208,
    "start_time": "2024-12-10T22:10:28.015Z"
   },
   {
    "duration": 13,
    "start_time": "2024-12-10T22:10:31.805Z"
   },
   {
    "duration": 401,
    "start_time": "2024-12-10T22:10:40.111Z"
   },
   {
    "duration": 157,
    "start_time": "2024-12-10T22:10:40.514Z"
   },
   {
    "duration": 40,
    "start_time": "2024-12-10T22:10:40.673Z"
   },
   {
    "duration": 13,
    "start_time": "2024-12-10T22:10:40.715Z"
   },
   {
    "duration": 4,
    "start_time": "2024-12-10T22:10:40.730Z"
   },
   {
    "duration": 724,
    "start_time": "2024-12-10T22:10:40.736Z"
   },
   {
    "duration": 97,
    "start_time": "2024-12-10T22:10:41.462Z"
   },
   {
    "duration": 10,
    "start_time": "2024-12-10T22:10:41.560Z"
   },
   {
    "duration": 119,
    "start_time": "2024-12-10T22:10:41.571Z"
   },
   {
    "duration": 98,
    "start_time": "2024-12-10T22:10:41.694Z"
   },
   {
    "duration": 92,
    "start_time": "2024-12-10T22:10:41.793Z"
   },
   {
    "duration": 13,
    "start_time": "2024-12-10T22:10:41.887Z"
   },
   {
    "duration": 7,
    "start_time": "2024-12-10T22:10:41.902Z"
   },
   {
    "duration": 17,
    "start_time": "2024-12-10T22:10:41.924Z"
   },
   {
    "duration": 2,
    "start_time": "2024-12-10T22:10:41.942Z"
   },
   {
    "duration": 8,
    "start_time": "2024-12-10T22:10:41.946Z"
   },
   {
    "duration": 4,
    "start_time": "2024-12-10T22:10:41.955Z"
   },
   {
    "duration": 7,
    "start_time": "2024-12-10T22:10:41.961Z"
   },
   {
    "duration": 4,
    "start_time": "2024-12-10T22:10:41.970Z"
   },
   {
    "duration": 784,
    "start_time": "2024-12-10T22:10:41.977Z"
   },
   {
    "duration": 37,
    "start_time": "2024-12-10T22:10:42.763Z"
   },
   {
    "duration": 5,
    "start_time": "2024-12-10T22:10:42.802Z"
   },
   {
    "duration": 309,
    "start_time": "2024-12-10T22:10:42.824Z"
   },
   {
    "duration": 0,
    "start_time": "2024-12-10T22:10:43.136Z"
   },
   {
    "duration": 0,
    "start_time": "2024-12-10T22:10:43.138Z"
   },
   {
    "duration": 0,
    "start_time": "2024-12-10T22:10:43.139Z"
   },
   {
    "duration": 0,
    "start_time": "2024-12-10T22:10:43.141Z"
   },
   {
    "duration": 0,
    "start_time": "2024-12-10T22:10:43.143Z"
   },
   {
    "duration": 0,
    "start_time": "2024-12-10T22:10:43.147Z"
   },
   {
    "duration": 0,
    "start_time": "2024-12-10T22:10:43.149Z"
   },
   {
    "duration": 0,
    "start_time": "2024-12-10T22:10:43.150Z"
   },
   {
    "duration": 0,
    "start_time": "2024-12-10T22:10:43.155Z"
   },
   {
    "duration": 0,
    "start_time": "2024-12-10T22:10:43.156Z"
   },
   {
    "duration": 0,
    "start_time": "2024-12-10T22:10:43.157Z"
   },
   {
    "duration": 0,
    "start_time": "2024-12-10T22:10:43.158Z"
   },
   {
    "duration": 0,
    "start_time": "2024-12-10T22:10:43.160Z"
   },
   {
    "duration": 0,
    "start_time": "2024-12-10T22:10:43.163Z"
   },
   {
    "duration": 0,
    "start_time": "2024-12-10T22:10:43.164Z"
   },
   {
    "duration": 0,
    "start_time": "2024-12-10T22:10:43.165Z"
   },
   {
    "duration": 0,
    "start_time": "2024-12-10T22:10:43.167Z"
   },
   {
    "duration": 0,
    "start_time": "2024-12-10T22:10:43.169Z"
   },
   {
    "duration": 0,
    "start_time": "2024-12-10T22:10:43.170Z"
   },
   {
    "duration": 0,
    "start_time": "2024-12-10T22:10:43.172Z"
   },
   {
    "duration": 0,
    "start_time": "2024-12-10T22:10:43.173Z"
   },
   {
    "duration": 0,
    "start_time": "2024-12-10T22:10:43.174Z"
   },
   {
    "duration": 0,
    "start_time": "2024-12-10T22:10:43.176Z"
   },
   {
    "duration": 0,
    "start_time": "2024-12-10T22:10:43.177Z"
   },
   {
    "duration": 0,
    "start_time": "2024-12-10T22:10:43.178Z"
   },
   {
    "duration": 0,
    "start_time": "2024-12-10T22:10:43.180Z"
   },
   {
    "duration": 0,
    "start_time": "2024-12-10T22:10:43.225Z"
   },
   {
    "duration": 0,
    "start_time": "2024-12-10T22:10:43.226Z"
   },
   {
    "duration": 200,
    "start_time": "2024-12-10T22:10:50.225Z"
   },
   {
    "duration": 13,
    "start_time": "2024-12-10T22:11:00.348Z"
   },
   {
    "duration": 13,
    "start_time": "2024-12-10T22:11:04.396Z"
   },
   {
    "duration": 2131,
    "start_time": "2024-12-11T04:43:52.098Z"
   },
   {
    "duration": 161,
    "start_time": "2024-12-11T04:43:54.231Z"
   },
   {
    "duration": 58,
    "start_time": "2024-12-11T04:43:54.394Z"
   },
   {
    "duration": 6,
    "start_time": "2024-12-11T04:43:54.454Z"
   },
   {
    "duration": 6,
    "start_time": "2024-12-11T04:43:54.461Z"
   },
   {
    "duration": 806,
    "start_time": "2024-12-11T04:43:54.469Z"
   },
   {
    "duration": 97,
    "start_time": "2024-12-11T04:43:55.277Z"
   },
   {
    "duration": 9,
    "start_time": "2024-12-11T04:43:55.375Z"
   },
   {
    "duration": 114,
    "start_time": "2024-12-11T04:43:55.385Z"
   },
   {
    "duration": 101,
    "start_time": "2024-12-11T04:43:55.502Z"
   },
   {
    "duration": 77,
    "start_time": "2024-12-11T04:43:55.605Z"
   },
   {
    "duration": 12,
    "start_time": "2024-12-11T04:43:55.684Z"
   },
   {
    "duration": 7,
    "start_time": "2024-12-11T04:43:55.697Z"
   },
   {
    "duration": 17,
    "start_time": "2024-12-11T04:43:55.705Z"
   },
   {
    "duration": 19,
    "start_time": "2024-12-11T04:43:55.724Z"
   },
   {
    "duration": 8,
    "start_time": "2024-12-11T04:43:55.744Z"
   },
   {
    "duration": 4,
    "start_time": "2024-12-11T04:43:55.754Z"
   },
   {
    "duration": 7,
    "start_time": "2024-12-11T04:43:55.760Z"
   },
   {
    "duration": 4,
    "start_time": "2024-12-11T04:43:55.769Z"
   },
   {
    "duration": 812,
    "start_time": "2024-12-11T04:43:55.775Z"
   },
   {
    "duration": 39,
    "start_time": "2024-12-11T04:43:56.589Z"
   },
   {
    "duration": 14,
    "start_time": "2024-12-11T04:43:56.630Z"
   },
   {
    "duration": 354,
    "start_time": "2024-12-11T04:43:56.646Z"
   },
   {
    "duration": 0,
    "start_time": "2024-12-11T04:43:57.002Z"
   },
   {
    "duration": 0,
    "start_time": "2024-12-11T04:43:57.003Z"
   },
   {
    "duration": 0,
    "start_time": "2024-12-11T04:43:57.004Z"
   },
   {
    "duration": 0,
    "start_time": "2024-12-11T04:43:57.006Z"
   },
   {
    "duration": 0,
    "start_time": "2024-12-11T04:43:57.007Z"
   },
   {
    "duration": 0,
    "start_time": "2024-12-11T04:43:57.008Z"
   },
   {
    "duration": 0,
    "start_time": "2024-12-11T04:43:57.010Z"
   },
   {
    "duration": 0,
    "start_time": "2024-12-11T04:43:57.011Z"
   },
   {
    "duration": 0,
    "start_time": "2024-12-11T04:43:57.012Z"
   },
   {
    "duration": 0,
    "start_time": "2024-12-11T04:43:57.013Z"
   },
   {
    "duration": 0,
    "start_time": "2024-12-11T04:43:57.014Z"
   },
   {
    "duration": 0,
    "start_time": "2024-12-11T04:43:57.015Z"
   },
   {
    "duration": 0,
    "start_time": "2024-12-11T04:43:57.016Z"
   },
   {
    "duration": 0,
    "start_time": "2024-12-11T04:43:57.043Z"
   },
   {
    "duration": 0,
    "start_time": "2024-12-11T04:43:57.044Z"
   },
   {
    "duration": 0,
    "start_time": "2024-12-11T04:43:57.045Z"
   },
   {
    "duration": 0,
    "start_time": "2024-12-11T04:43:57.047Z"
   },
   {
    "duration": 0,
    "start_time": "2024-12-11T04:43:57.048Z"
   },
   {
    "duration": 0,
    "start_time": "2024-12-11T04:43:57.050Z"
   },
   {
    "duration": 0,
    "start_time": "2024-12-11T04:43:57.051Z"
   },
   {
    "duration": 0,
    "start_time": "2024-12-11T04:43:57.053Z"
   },
   {
    "duration": 0,
    "start_time": "2024-12-11T04:43:57.055Z"
   },
   {
    "duration": 0,
    "start_time": "2024-12-11T04:43:57.056Z"
   },
   {
    "duration": 0,
    "start_time": "2024-12-11T04:43:57.057Z"
   },
   {
    "duration": 0,
    "start_time": "2024-12-11T04:43:57.058Z"
   },
   {
    "duration": 0,
    "start_time": "2024-12-11T04:43:57.060Z"
   },
   {
    "duration": 0,
    "start_time": "2024-12-11T04:43:57.061Z"
   },
   {
    "duration": 0,
    "start_time": "2024-12-11T04:43:57.062Z"
   },
   {
    "duration": 26,
    "start_time": "2024-12-11T04:44:50.013Z"
   },
   {
    "duration": 25,
    "start_time": "2024-12-11T04:45:22.910Z"
   },
   {
    "duration": 26,
    "start_time": "2024-12-11T04:45:45.485Z"
   },
   {
    "duration": 2,
    "start_time": "2024-12-11T04:48:12.949Z"
   },
   {
    "duration": 143,
    "start_time": "2024-12-11T04:48:12.956Z"
   },
   {
    "duration": 42,
    "start_time": "2024-12-11T04:48:13.101Z"
   },
   {
    "duration": 5,
    "start_time": "2024-12-11T04:48:13.146Z"
   },
   {
    "duration": 4,
    "start_time": "2024-12-11T04:48:13.153Z"
   },
   {
    "duration": 765,
    "start_time": "2024-12-11T04:48:13.159Z"
   },
   {
    "duration": 83,
    "start_time": "2024-12-11T04:48:13.926Z"
   },
   {
    "duration": 8,
    "start_time": "2024-12-11T04:48:14.011Z"
   },
   {
    "duration": 97,
    "start_time": "2024-12-11T04:48:14.022Z"
   },
   {
    "duration": 84,
    "start_time": "2024-12-11T04:48:14.121Z"
   },
   {
    "duration": 66,
    "start_time": "2024-12-11T04:48:14.207Z"
   },
   {
    "duration": 13,
    "start_time": "2024-12-11T04:48:14.275Z"
   },
   {
    "duration": 6,
    "start_time": "2024-12-11T04:48:14.290Z"
   },
   {
    "duration": 17,
    "start_time": "2024-12-11T04:48:14.298Z"
   },
   {
    "duration": 27,
    "start_time": "2024-12-11T04:48:14.317Z"
   },
   {
    "duration": 9,
    "start_time": "2024-12-11T04:48:14.345Z"
   },
   {
    "duration": 4,
    "start_time": "2024-12-11T04:48:14.355Z"
   },
   {
    "duration": 8,
    "start_time": "2024-12-11T04:48:14.361Z"
   },
   {
    "duration": 3,
    "start_time": "2024-12-11T04:48:14.371Z"
   },
   {
    "duration": 808,
    "start_time": "2024-12-11T04:48:14.376Z"
   },
   {
    "duration": 40,
    "start_time": "2024-12-11T04:48:15.186Z"
   },
   {
    "duration": 16,
    "start_time": "2024-12-11T04:48:15.228Z"
   },
   {
    "duration": 26,
    "start_time": "2024-12-11T04:48:15.246Z"
   },
   {
    "duration": 0,
    "start_time": "2024-12-11T04:48:15.275Z"
   },
   {
    "duration": 0,
    "start_time": "2024-12-11T04:48:15.276Z"
   },
   {
    "duration": 0,
    "start_time": "2024-12-11T04:48:15.277Z"
   },
   {
    "duration": 0,
    "start_time": "2024-12-11T04:48:15.278Z"
   },
   {
    "duration": 0,
    "start_time": "2024-12-11T04:48:15.279Z"
   },
   {
    "duration": 0,
    "start_time": "2024-12-11T04:48:15.280Z"
   },
   {
    "duration": 0,
    "start_time": "2024-12-11T04:48:15.280Z"
   },
   {
    "duration": 0,
    "start_time": "2024-12-11T04:48:15.281Z"
   },
   {
    "duration": 0,
    "start_time": "2024-12-11T04:48:15.282Z"
   },
   {
    "duration": 0,
    "start_time": "2024-12-11T04:48:15.284Z"
   },
   {
    "duration": 0,
    "start_time": "2024-12-11T04:48:15.285Z"
   },
   {
    "duration": 0,
    "start_time": "2024-12-11T04:48:15.286Z"
   },
   {
    "duration": 0,
    "start_time": "2024-12-11T04:48:15.287Z"
   },
   {
    "duration": 0,
    "start_time": "2024-12-11T04:48:15.287Z"
   },
   {
    "duration": 0,
    "start_time": "2024-12-11T04:48:15.288Z"
   },
   {
    "duration": 0,
    "start_time": "2024-12-11T04:48:15.290Z"
   },
   {
    "duration": 0,
    "start_time": "2024-12-11T04:48:15.291Z"
   },
   {
    "duration": 0,
    "start_time": "2024-12-11T04:48:15.292Z"
   },
   {
    "duration": 0,
    "start_time": "2024-12-11T04:48:15.293Z"
   },
   {
    "duration": 0,
    "start_time": "2024-12-11T04:48:15.294Z"
   },
   {
    "duration": 0,
    "start_time": "2024-12-11T04:48:15.295Z"
   },
   {
    "duration": 0,
    "start_time": "2024-12-11T04:48:15.296Z"
   },
   {
    "duration": 0,
    "start_time": "2024-12-11T04:48:15.297Z"
   },
   {
    "duration": 0,
    "start_time": "2024-12-11T04:48:15.298Z"
   },
   {
    "duration": 0,
    "start_time": "2024-12-11T04:48:15.299Z"
   },
   {
    "duration": 0,
    "start_time": "2024-12-11T04:48:15.300Z"
   },
   {
    "duration": 0,
    "start_time": "2024-12-11T04:48:15.343Z"
   },
   {
    "duration": 0,
    "start_time": "2024-12-11T04:48:15.344Z"
   },
   {
    "duration": 2111,
    "start_time": "2024-12-11T07:40:54.392Z"
   },
   {
    "duration": 165,
    "start_time": "2024-12-11T07:40:56.505Z"
   },
   {
    "duration": 59,
    "start_time": "2024-12-11T07:40:56.671Z"
   },
   {
    "duration": 8,
    "start_time": "2024-12-11T07:40:56.733Z"
   },
   {
    "duration": 8,
    "start_time": "2024-12-11T07:40:56.742Z"
   },
   {
    "duration": 790,
    "start_time": "2024-12-11T07:40:56.751Z"
   },
   {
    "duration": 125,
    "start_time": "2024-12-11T07:40:57.543Z"
   },
   {
    "duration": 11,
    "start_time": "2024-12-11T07:40:57.675Z"
   },
   {
    "duration": 119,
    "start_time": "2024-12-11T07:40:57.688Z"
   },
   {
    "duration": 111,
    "start_time": "2024-12-11T07:40:57.811Z"
   },
   {
    "duration": 87,
    "start_time": "2024-12-11T07:40:57.924Z"
   },
   {
    "duration": 21,
    "start_time": "2024-12-11T07:40:58.013Z"
   },
   {
    "duration": 8,
    "start_time": "2024-12-11T07:40:58.036Z"
   },
   {
    "duration": 18,
    "start_time": "2024-12-11T07:40:58.046Z"
   },
   {
    "duration": 3,
    "start_time": "2024-12-11T07:40:58.066Z"
   },
   {
    "duration": 9,
    "start_time": "2024-12-11T07:40:58.070Z"
   },
   {
    "duration": 4,
    "start_time": "2024-12-11T07:40:58.080Z"
   },
   {
    "duration": 8,
    "start_time": "2024-12-11T07:40:58.085Z"
   },
   {
    "duration": 43,
    "start_time": "2024-12-11T07:40:58.094Z"
   },
   {
    "duration": 799,
    "start_time": "2024-12-11T07:40:58.140Z"
   },
   {
    "duration": 39,
    "start_time": "2024-12-11T07:40:58.941Z"
   },
   {
    "duration": 6,
    "start_time": "2024-12-11T07:40:58.981Z"
   },
   {
    "duration": 361,
    "start_time": "2024-12-11T07:40:58.988Z"
   },
   {
    "duration": 0,
    "start_time": "2024-12-11T07:40:59.353Z"
   },
   {
    "duration": 0,
    "start_time": "2024-12-11T07:40:59.354Z"
   },
   {
    "duration": 1,
    "start_time": "2024-12-11T07:40:59.355Z"
   },
   {
    "duration": 0,
    "start_time": "2024-12-11T07:40:59.357Z"
   },
   {
    "duration": 0,
    "start_time": "2024-12-11T07:40:59.358Z"
   },
   {
    "duration": 0,
    "start_time": "2024-12-11T07:40:59.360Z"
   },
   {
    "duration": 0,
    "start_time": "2024-12-11T07:40:59.362Z"
   },
   {
    "duration": 0,
    "start_time": "2024-12-11T07:40:59.363Z"
   },
   {
    "duration": 0,
    "start_time": "2024-12-11T07:40:59.365Z"
   },
   {
    "duration": 0,
    "start_time": "2024-12-11T07:40:59.366Z"
   },
   {
    "duration": 0,
    "start_time": "2024-12-11T07:40:59.368Z"
   },
   {
    "duration": 0,
    "start_time": "2024-12-11T07:40:59.369Z"
   },
   {
    "duration": 0,
    "start_time": "2024-12-11T07:40:59.370Z"
   },
   {
    "duration": 0,
    "start_time": "2024-12-11T07:40:59.371Z"
   },
   {
    "duration": 0,
    "start_time": "2024-12-11T07:40:59.372Z"
   },
   {
    "duration": 0,
    "start_time": "2024-12-11T07:40:59.374Z"
   },
   {
    "duration": 0,
    "start_time": "2024-12-11T07:40:59.374Z"
   },
   {
    "duration": 0,
    "start_time": "2024-12-11T07:40:59.376Z"
   },
   {
    "duration": 0,
    "start_time": "2024-12-11T07:40:59.377Z"
   },
   {
    "duration": 0,
    "start_time": "2024-12-11T07:40:59.378Z"
   },
   {
    "duration": 0,
    "start_time": "2024-12-11T07:40:59.379Z"
   },
   {
    "duration": 0,
    "start_time": "2024-12-11T07:40:59.380Z"
   },
   {
    "duration": 0,
    "start_time": "2024-12-11T07:40:59.381Z"
   },
   {
    "duration": 0,
    "start_time": "2024-12-11T07:40:59.382Z"
   },
   {
    "duration": 0,
    "start_time": "2024-12-11T07:40:59.383Z"
   },
   {
    "duration": 0,
    "start_time": "2024-12-11T07:40:59.384Z"
   },
   {
    "duration": 0,
    "start_time": "2024-12-11T07:40:59.385Z"
   },
   {
    "duration": 0,
    "start_time": "2024-12-11T07:40:59.385Z"
   },
   {
    "duration": 4,
    "start_time": "2024-12-11T07:41:19.864Z"
   },
   {
    "duration": 2,
    "start_time": "2024-12-11T07:41:30.088Z"
   },
   {
    "duration": 127,
    "start_time": "2024-12-11T07:41:32.793Z"
   },
   {
    "duration": 38,
    "start_time": "2024-12-11T07:41:36.147Z"
   },
   {
    "duration": 6,
    "start_time": "2024-12-11T07:41:38.389Z"
   },
   {
    "duration": 6,
    "start_time": "2024-12-11T07:41:40.744Z"
   },
   {
    "duration": 6,
    "start_time": "2024-12-11T07:41:59.781Z"
   },
   {
    "duration": 5,
    "start_time": "2024-12-11T07:42:03.708Z"
   },
   {
    "duration": 7,
    "start_time": "2024-12-11T07:42:06.361Z"
   },
   {
    "duration": 17,
    "start_time": "2024-12-11T07:42:09.704Z"
   },
   {
    "duration": 16,
    "start_time": "2024-12-11T07:42:12.431Z"
   },
   {
    "duration": 34,
    "start_time": "2024-12-11T07:42:15.199Z"
   },
   {
    "duration": 14,
    "start_time": "2024-12-11T07:42:18.559Z"
   },
   {
    "duration": 22,
    "start_time": "2024-12-11T07:42:21.383Z"
   },
   {
    "duration": 6,
    "start_time": "2024-12-11T07:42:26.244Z"
   },
   {
    "duration": 4,
    "start_time": "2024-12-11T07:42:28.798Z"
   },
   {
    "duration": 184,
    "start_time": "2024-12-11T07:42:32.177Z"
   },
   {
    "duration": 113,
    "start_time": "2024-12-11T07:42:35.609Z"
   },
   {
    "duration": 195,
    "start_time": "2024-12-11T07:42:38.502Z"
   },
   {
    "duration": 267,
    "start_time": "2024-12-11T07:42:44.419Z"
   },
   {
    "duration": 2166,
    "start_time": "2024-12-11T17:12:27.124Z"
   },
   {
    "duration": 166,
    "start_time": "2024-12-11T17:12:29.293Z"
   },
   {
    "duration": 58,
    "start_time": "2024-12-11T17:12:29.461Z"
   },
   {
    "duration": 6,
    "start_time": "2024-12-11T17:12:29.521Z"
   },
   {
    "duration": 5,
    "start_time": "2024-12-11T17:12:29.530Z"
   },
   {
    "duration": 800,
    "start_time": "2024-12-11T17:12:29.537Z"
   },
   {
    "duration": 98,
    "start_time": "2024-12-11T17:12:30.339Z"
   },
   {
    "duration": 9,
    "start_time": "2024-12-11T17:12:30.438Z"
   },
   {
    "duration": 110,
    "start_time": "2024-12-11T17:12:30.448Z"
   },
   {
    "duration": 96,
    "start_time": "2024-12-11T17:12:30.560Z"
   },
   {
    "duration": 80,
    "start_time": "2024-12-11T17:12:30.658Z"
   },
   {
    "duration": 12,
    "start_time": "2024-12-11T17:12:30.740Z"
   },
   {
    "duration": 6,
    "start_time": "2024-12-11T17:12:30.754Z"
   },
   {
    "duration": 17,
    "start_time": "2024-12-11T17:12:30.764Z"
   },
   {
    "duration": 23,
    "start_time": "2024-12-11T17:12:30.782Z"
   },
   {
    "duration": 8,
    "start_time": "2024-12-11T17:12:30.807Z"
   },
   {
    "duration": 5,
    "start_time": "2024-12-11T17:12:30.816Z"
   },
   {
    "duration": 7,
    "start_time": "2024-12-11T17:12:30.823Z"
   },
   {
    "duration": 5,
    "start_time": "2024-12-11T17:12:30.831Z"
   },
   {
    "duration": 785,
    "start_time": "2024-12-11T17:12:30.837Z"
   },
   {
    "duration": 37,
    "start_time": "2024-12-11T17:12:31.624Z"
   },
   {
    "duration": 5,
    "start_time": "2024-12-11T17:12:31.663Z"
   },
   {
    "duration": 359,
    "start_time": "2024-12-11T17:12:31.670Z"
   },
   {
    "duration": 0,
    "start_time": "2024-12-11T17:12:32.032Z"
   },
   {
    "duration": 0,
    "start_time": "2024-12-11T17:12:32.033Z"
   },
   {
    "duration": 0,
    "start_time": "2024-12-11T17:12:32.035Z"
   },
   {
    "duration": 0,
    "start_time": "2024-12-11T17:12:32.036Z"
   },
   {
    "duration": 0,
    "start_time": "2024-12-11T17:12:32.038Z"
   },
   {
    "duration": 0,
    "start_time": "2024-12-11T17:12:32.039Z"
   },
   {
    "duration": 0,
    "start_time": "2024-12-11T17:12:32.041Z"
   },
   {
    "duration": 0,
    "start_time": "2024-12-11T17:12:32.042Z"
   },
   {
    "duration": 0,
    "start_time": "2024-12-11T17:12:32.044Z"
   },
   {
    "duration": 0,
    "start_time": "2024-12-11T17:12:32.045Z"
   },
   {
    "duration": 0,
    "start_time": "2024-12-11T17:12:32.046Z"
   },
   {
    "duration": 0,
    "start_time": "2024-12-11T17:12:32.048Z"
   },
   {
    "duration": 0,
    "start_time": "2024-12-11T17:12:32.050Z"
   },
   {
    "duration": 0,
    "start_time": "2024-12-11T17:12:32.051Z"
   },
   {
    "duration": 0,
    "start_time": "2024-12-11T17:12:32.052Z"
   },
   {
    "duration": 0,
    "start_time": "2024-12-11T17:12:32.054Z"
   },
   {
    "duration": 0,
    "start_time": "2024-12-11T17:12:32.056Z"
   },
   {
    "duration": 0,
    "start_time": "2024-12-11T17:12:32.056Z"
   },
   {
    "duration": 0,
    "start_time": "2024-12-11T17:12:32.057Z"
   },
   {
    "duration": 0,
    "start_time": "2024-12-11T17:12:32.058Z"
   },
   {
    "duration": 0,
    "start_time": "2024-12-11T17:12:32.059Z"
   },
   {
    "duration": 0,
    "start_time": "2024-12-11T17:12:32.060Z"
   },
   {
    "duration": 0,
    "start_time": "2024-12-11T17:12:32.105Z"
   },
   {
    "duration": 0,
    "start_time": "2024-12-11T17:12:32.107Z"
   },
   {
    "duration": 0,
    "start_time": "2024-12-11T17:12:32.108Z"
   },
   {
    "duration": 0,
    "start_time": "2024-12-11T17:12:32.110Z"
   },
   {
    "duration": 0,
    "start_time": "2024-12-11T17:12:32.111Z"
   },
   {
    "duration": 0,
    "start_time": "2024-12-11T17:12:32.112Z"
   },
   {
    "duration": 4,
    "start_time": "2024-12-11T17:22:47.378Z"
   },
   {
    "duration": 28,
    "start_time": "2024-12-11T17:23:03.419Z"
   },
   {
    "duration": 5,
    "start_time": "2024-12-11T17:23:13.507Z"
   },
   {
    "duration": 156,
    "start_time": "2024-12-20T02:11:04.859Z"
   },
   {
    "duration": 2185,
    "start_time": "2024-12-20T02:11:30.979Z"
   },
   {
    "duration": 158,
    "start_time": "2024-12-20T02:11:33.166Z"
   },
   {
    "duration": 63,
    "start_time": "2024-12-20T02:11:33.326Z"
   },
   {
    "duration": 8,
    "start_time": "2024-12-20T02:11:33.391Z"
   },
   {
    "duration": 7,
    "start_time": "2024-12-20T02:11:33.401Z"
   },
   {
    "duration": 804,
    "start_time": "2024-12-20T02:11:33.410Z"
   },
   {
    "duration": 102,
    "start_time": "2024-12-20T02:11:34.216Z"
   },
   {
    "duration": 13,
    "start_time": "2024-12-20T02:11:34.320Z"
   },
   {
    "duration": 109,
    "start_time": "2024-12-20T02:11:34.335Z"
   },
   {
    "duration": 103,
    "start_time": "2024-12-20T02:11:34.447Z"
   },
   {
    "duration": 91,
    "start_time": "2024-12-20T02:11:34.552Z"
   },
   {
    "duration": 14,
    "start_time": "2024-12-20T02:11:34.644Z"
   },
   {
    "duration": 7,
    "start_time": "2024-12-20T02:11:34.659Z"
   },
   {
    "duration": 18,
    "start_time": "2024-12-20T02:11:34.667Z"
   },
   {
    "duration": 4,
    "start_time": "2024-12-20T02:11:34.687Z"
   },
   {
    "duration": 9,
    "start_time": "2024-12-20T02:11:34.692Z"
   },
   {
    "duration": 5,
    "start_time": "2024-12-20T02:11:34.732Z"
   },
   {
    "duration": 9,
    "start_time": "2024-12-20T02:11:34.739Z"
   },
   {
    "duration": 6,
    "start_time": "2024-12-20T02:11:34.750Z"
   },
   {
    "duration": 834,
    "start_time": "2024-12-20T02:11:34.758Z"
   },
   {
    "duration": 43,
    "start_time": "2024-12-20T02:11:35.594Z"
   },
   {
    "duration": 7,
    "start_time": "2024-12-20T02:11:35.639Z"
   },
   {
    "duration": 7,
    "start_time": "2024-12-20T02:11:35.647Z"
   },
   {
    "duration": 8,
    "start_time": "2024-12-20T02:11:35.656Z"
   },
   {
    "duration": 6,
    "start_time": "2024-12-20T02:11:35.665Z"
   },
   {
    "duration": 2,
    "start_time": "2024-12-20T02:11:35.672Z"
   },
   {
    "duration": 6,
    "start_time": "2024-12-20T02:11:35.676Z"
   },
   {
    "duration": 47,
    "start_time": "2024-12-20T02:11:35.687Z"
   },
   {
    "duration": 18,
    "start_time": "2024-12-20T02:11:35.735Z"
   },
   {
    "duration": 18,
    "start_time": "2024-12-20T02:11:35.754Z"
   },
   {
    "duration": 32,
    "start_time": "2024-12-20T02:11:35.774Z"
   },
   {
    "duration": 24,
    "start_time": "2024-12-20T02:11:35.808Z"
   },
   {
    "duration": 14,
    "start_time": "2024-12-20T02:11:35.835Z"
   },
   {
    "duration": 22,
    "start_time": "2024-12-20T02:11:35.850Z"
   },
   {
    "duration": 5,
    "start_time": "2024-12-20T02:11:35.874Z"
   },
   {
    "duration": 4,
    "start_time": "2024-12-20T02:11:35.881Z"
   },
   {
    "duration": 227,
    "start_time": "2024-12-20T02:11:35.887Z"
   },
   {
    "duration": 121,
    "start_time": "2024-12-20T02:11:36.115Z"
   },
   {
    "duration": 242,
    "start_time": "2024-12-20T02:11:36.238Z"
   },
   {
    "duration": 225,
    "start_time": "2024-12-20T02:11:36.482Z"
   },
   {
    "duration": 10,
    "start_time": "2024-12-20T02:11:36.709Z"
   },
   {
    "duration": 11,
    "start_time": "2024-12-20T02:11:36.721Z"
   },
   {
    "duration": 414,
    "start_time": "2024-12-20T02:13:30.824Z"
   },
   {
    "duration": 161,
    "start_time": "2024-12-20T02:13:31.240Z"
   },
   {
    "duration": 50,
    "start_time": "2024-12-20T02:13:31.403Z"
   },
   {
    "duration": 7,
    "start_time": "2024-12-20T02:13:31.455Z"
   },
   {
    "duration": 4,
    "start_time": "2024-12-20T02:13:31.464Z"
   },
   {
    "duration": 743,
    "start_time": "2024-12-20T02:13:31.470Z"
   },
   {
    "duration": 116,
    "start_time": "2024-12-20T02:13:32.215Z"
   },
   {
    "duration": 9,
    "start_time": "2024-12-20T02:13:32.332Z"
   },
   {
    "duration": 119,
    "start_time": "2024-12-20T02:13:32.343Z"
   },
   {
    "duration": 104,
    "start_time": "2024-12-20T02:13:32.466Z"
   },
   {
    "duration": 81,
    "start_time": "2024-12-20T02:13:32.572Z"
   },
   {
    "duration": 17,
    "start_time": "2024-12-20T02:13:32.655Z"
   },
   {
    "duration": 8,
    "start_time": "2024-12-20T02:13:32.673Z"
   },
   {
    "duration": 20,
    "start_time": "2024-12-20T02:13:32.683Z"
   },
   {
    "duration": 27,
    "start_time": "2024-12-20T02:13:32.705Z"
   },
   {
    "duration": 9,
    "start_time": "2024-12-20T02:13:32.734Z"
   },
   {
    "duration": 4,
    "start_time": "2024-12-20T02:13:32.745Z"
   },
   {
    "duration": 14,
    "start_time": "2024-12-20T02:13:32.751Z"
   },
   {
    "duration": 5,
    "start_time": "2024-12-20T02:13:32.766Z"
   },
   {
    "duration": 828,
    "start_time": "2024-12-20T02:13:32.772Z"
   },
   {
    "duration": 43,
    "start_time": "2024-12-20T02:13:33.602Z"
   },
   {
    "duration": 7,
    "start_time": "2024-12-20T02:13:33.647Z"
   },
   {
    "duration": 7,
    "start_time": "2024-12-20T02:13:33.656Z"
   },
   {
    "duration": 8,
    "start_time": "2024-12-20T02:13:33.664Z"
   },
   {
    "duration": 6,
    "start_time": "2024-12-20T02:13:33.674Z"
   },
   {
    "duration": 2,
    "start_time": "2024-12-20T02:13:33.682Z"
   },
   {
    "duration": 5,
    "start_time": "2024-12-20T02:13:33.686Z"
   },
   {
    "duration": 7,
    "start_time": "2024-12-20T02:13:33.734Z"
   },
   {
    "duration": 20,
    "start_time": "2024-12-20T02:13:33.743Z"
   },
   {
    "duration": 19,
    "start_time": "2024-12-20T02:13:33.765Z"
   },
   {
    "duration": 57,
    "start_time": "2024-12-20T02:13:33.786Z"
   },
   {
    "duration": 2,
    "start_time": "2024-12-20T02:13:33.846Z"
   },
   {
    "duration": 14,
    "start_time": "2024-12-20T02:13:33.850Z"
   },
   {
    "duration": 21,
    "start_time": "2024-12-20T02:13:33.866Z"
   },
   {
    "duration": 5,
    "start_time": "2024-12-20T02:13:33.889Z"
   },
   {
    "duration": 4,
    "start_time": "2024-12-20T02:13:33.896Z"
   },
   {
    "duration": 215,
    "start_time": "2024-12-20T02:13:33.901Z"
   },
   {
    "duration": 120,
    "start_time": "2024-12-20T02:13:34.117Z"
   },
   {
    "duration": 202,
    "start_time": "2024-12-20T02:13:34.238Z"
   },
   {
    "duration": 229,
    "start_time": "2024-12-20T02:13:34.442Z"
   },
   {
    "duration": 11,
    "start_time": "2024-12-20T02:13:34.673Z"
   },
   {
    "duration": 7,
    "start_time": "2024-12-20T02:13:34.685Z"
   },
   {
    "duration": 414,
    "start_time": "2024-12-20T02:14:21.508Z"
   },
   {
    "duration": 177,
    "start_time": "2024-12-20T02:14:21.925Z"
   },
   {
    "duration": 47,
    "start_time": "2024-12-20T02:14:22.104Z"
   },
   {
    "duration": 6,
    "start_time": "2024-12-20T02:14:22.155Z"
   },
   {
    "duration": 6,
    "start_time": "2024-12-20T02:14:22.165Z"
   },
   {
    "duration": 735,
    "start_time": "2024-12-20T02:14:22.173Z"
   },
   {
    "duration": 100,
    "start_time": "2024-12-20T02:14:22.910Z"
   },
   {
    "duration": 20,
    "start_time": "2024-12-20T02:14:23.012Z"
   },
   {
    "duration": 110,
    "start_time": "2024-12-20T02:14:23.034Z"
   },
   {
    "duration": 116,
    "start_time": "2024-12-20T02:14:23.148Z"
   },
   {
    "duration": 80,
    "start_time": "2024-12-20T02:14:23.266Z"
   },
   {
    "duration": 13,
    "start_time": "2024-12-20T02:14:23.348Z"
   },
   {
    "duration": 6,
    "start_time": "2024-12-20T02:14:23.363Z"
   },
   {
    "duration": 18,
    "start_time": "2024-12-20T02:14:23.371Z"
   },
   {
    "duration": 3,
    "start_time": "2024-12-20T02:14:23.391Z"
   },
   {
    "duration": 38,
    "start_time": "2024-12-20T02:14:23.395Z"
   },
   {
    "duration": 6,
    "start_time": "2024-12-20T02:14:23.434Z"
   },
   {
    "duration": 8,
    "start_time": "2024-12-20T02:14:23.441Z"
   },
   {
    "duration": 4,
    "start_time": "2024-12-20T02:14:23.451Z"
   },
   {
    "duration": 839,
    "start_time": "2024-12-20T02:14:23.456Z"
   },
   {
    "duration": 47,
    "start_time": "2024-12-20T02:14:24.298Z"
   },
   {
    "duration": 8,
    "start_time": "2024-12-20T02:14:24.347Z"
   },
   {
    "duration": 7,
    "start_time": "2024-12-20T02:14:24.357Z"
   },
   {
    "duration": 9,
    "start_time": "2024-12-20T02:14:24.365Z"
   },
   {
    "duration": 7,
    "start_time": "2024-12-20T02:14:24.375Z"
   },
   {
    "duration": 2,
    "start_time": "2024-12-20T02:14:24.383Z"
   },
   {
    "duration": 6,
    "start_time": "2024-12-20T02:14:24.387Z"
   },
   {
    "duration": 7,
    "start_time": "2024-12-20T02:14:24.431Z"
   },
   {
    "duration": 16,
    "start_time": "2024-12-20T02:14:24.439Z"
   },
   {
    "duration": 17,
    "start_time": "2024-12-20T02:14:24.457Z"
   },
   {
    "duration": 61,
    "start_time": "2024-12-20T02:14:24.475Z"
   },
   {
    "duration": 3,
    "start_time": "2024-12-20T02:14:24.537Z"
   },
   {
    "duration": 21,
    "start_time": "2024-12-20T02:14:24.543Z"
   },
   {
    "duration": 23,
    "start_time": "2024-12-20T02:14:24.566Z"
   },
   {
    "duration": 5,
    "start_time": "2024-12-20T02:14:24.591Z"
   },
   {
    "duration": 5,
    "start_time": "2024-12-20T02:14:24.598Z"
   },
   {
    "duration": 220,
    "start_time": "2024-12-20T02:14:24.605Z"
   },
   {
    "duration": 126,
    "start_time": "2024-12-20T02:14:24.827Z"
   },
   {
    "duration": 199,
    "start_time": "2024-12-20T02:14:24.954Z"
   },
   {
    "duration": 235,
    "start_time": "2024-12-20T02:14:25.155Z"
   },
   {
    "duration": 11,
    "start_time": "2024-12-20T02:14:25.392Z"
   },
   {
    "duration": 6,
    "start_time": "2024-12-20T02:14:25.405Z"
   },
   {
    "duration": 477,
    "start_time": "2024-12-20T02:16:10.038Z"
   },
   {
    "duration": 172,
    "start_time": "2024-12-20T02:16:10.518Z"
   },
   {
    "duration": 43,
    "start_time": "2024-12-20T02:16:10.692Z"
   },
   {
    "duration": 4,
    "start_time": "2024-12-20T02:16:10.738Z"
   },
   {
    "duration": 4,
    "start_time": "2024-12-20T02:16:10.744Z"
   },
   {
    "duration": 733,
    "start_time": "2024-12-20T02:16:10.750Z"
   },
   {
    "duration": 122,
    "start_time": "2024-12-20T02:16:11.485Z"
   },
   {
    "duration": 10,
    "start_time": "2024-12-20T02:16:11.609Z"
   },
   {
    "duration": 121,
    "start_time": "2024-12-20T02:16:11.631Z"
   },
   {
    "duration": 119,
    "start_time": "2024-12-20T02:16:11.756Z"
   },
   {
    "duration": 96,
    "start_time": "2024-12-20T02:16:11.876Z"
   },
   {
    "duration": 17,
    "start_time": "2024-12-20T02:16:11.973Z"
   },
   {
    "duration": 8,
    "start_time": "2024-12-20T02:16:11.992Z"
   },
   {
    "duration": 38,
    "start_time": "2024-12-20T02:16:12.002Z"
   },
   {
    "duration": 2,
    "start_time": "2024-12-20T02:16:12.042Z"
   },
   {
    "duration": 10,
    "start_time": "2024-12-20T02:16:12.046Z"
   },
   {
    "duration": 5,
    "start_time": "2024-12-20T02:16:12.058Z"
   },
   {
    "duration": 9,
    "start_time": "2024-12-20T02:16:12.065Z"
   },
   {
    "duration": 5,
    "start_time": "2024-12-20T02:16:12.075Z"
   },
   {
    "duration": 894,
    "start_time": "2024-12-20T02:16:12.082Z"
   },
   {
    "duration": 39,
    "start_time": "2024-12-20T02:16:12.978Z"
   },
   {
    "duration": 17,
    "start_time": "2024-12-20T02:16:13.019Z"
   },
   {
    "duration": 7,
    "start_time": "2024-12-20T02:16:13.038Z"
   },
   {
    "duration": 9,
    "start_time": "2024-12-20T02:16:13.046Z"
   },
   {
    "duration": 7,
    "start_time": "2024-12-20T02:16:13.057Z"
   },
   {
    "duration": 2,
    "start_time": "2024-12-20T02:16:13.066Z"
   },
   {
    "duration": 5,
    "start_time": "2024-12-20T02:16:13.070Z"
   },
   {
    "duration": 7,
    "start_time": "2024-12-20T02:16:13.080Z"
   },
   {
    "duration": 57,
    "start_time": "2024-12-20T02:16:13.088Z"
   },
   {
    "duration": 17,
    "start_time": "2024-12-20T02:16:13.148Z"
   },
   {
    "duration": 39,
    "start_time": "2024-12-20T02:16:13.168Z"
   },
   {
    "duration": 5,
    "start_time": "2024-12-20T02:16:13.210Z"
   },
   {
    "duration": 15,
    "start_time": "2024-12-20T02:16:13.230Z"
   },
   {
    "duration": 23,
    "start_time": "2024-12-20T02:16:13.247Z"
   },
   {
    "duration": 6,
    "start_time": "2024-12-20T02:16:13.272Z"
   },
   {
    "duration": 5,
    "start_time": "2024-12-20T02:16:13.280Z"
   },
   {
    "duration": 218,
    "start_time": "2024-12-20T02:16:13.287Z"
   },
   {
    "duration": 128,
    "start_time": "2024-12-20T02:16:13.507Z"
   },
   {
    "duration": 207,
    "start_time": "2024-12-20T02:16:13.637Z"
   },
   {
    "duration": 228,
    "start_time": "2024-12-20T02:16:13.846Z"
   },
   {
    "duration": 8,
    "start_time": "2024-12-20T02:16:14.077Z"
   },
   {
    "duration": 5,
    "start_time": "2024-12-20T02:16:14.086Z"
   },
   {
    "duration": 16,
    "start_time": "2024-12-20T02:16:14.092Z"
   },
   {
    "duration": 288,
    "start_time": "2024-12-20T02:16:14.131Z"
   },
   {
    "duration": 134,
    "start_time": "2024-12-20T02:16:14.422Z"
   },
   {
    "duration": 119,
    "start_time": "2024-12-20T02:16:14.558Z"
   },
   {
    "duration": 68,
    "start_time": "2024-12-20T02:16:14.679Z"
   },
   {
    "duration": 473,
    "start_time": "2024-12-20T02:16:14.749Z"
   },
   {
    "duration": 0,
    "start_time": "2024-12-20T02:16:15.224Z"
   },
   {
    "duration": 0,
    "start_time": "2024-12-20T02:16:15.232Z"
   },
   {
    "duration": 9,
    "start_time": "2024-12-20T02:16:48.440Z"
   },
   {
    "duration": 63,
    "start_time": "2024-12-20T02:17:29.646Z"
   },
   {
    "duration": 52,
    "start_time": "2024-12-20T02:17:38.116Z"
   },
   {
    "duration": 51,
    "start_time": "2024-12-20T02:17:42.555Z"
   },
   {
    "duration": 2,
    "start_time": "2024-12-20T02:18:19.169Z"
   },
   {
    "duration": 47,
    "start_time": "2024-12-20T02:18:25.004Z"
   },
   {
    "duration": 54,
    "start_time": "2024-12-20T02:18:29.683Z"
   },
   {
    "duration": 57,
    "start_time": "2024-12-20T02:18:39.044Z"
   },
   {
    "duration": 45,
    "start_time": "2024-12-20T02:19:11.879Z"
   },
   {
    "duration": 13,
    "start_time": "2024-12-20T02:43:30.965Z"
   },
   {
    "duration": 14,
    "start_time": "2024-12-20T02:43:44.127Z"
   },
   {
    "duration": 428,
    "start_time": "2024-12-20T02:44:18.832Z"
   },
   {
    "duration": 449,
    "start_time": "2024-12-20T02:44:39.905Z"
   },
   {
    "duration": 465,
    "start_time": "2024-12-20T02:45:34.075Z"
   },
   {
    "duration": 455,
    "start_time": "2024-12-20T02:46:02.005Z"
   },
   {
    "duration": 8,
    "start_time": "2024-12-20T02:46:36.126Z"
   },
   {
    "duration": 12,
    "start_time": "2024-12-20T02:46:49.998Z"
   },
   {
    "duration": 380,
    "start_time": "2024-12-20T02:52:53.433Z"
   },
   {
    "duration": 437,
    "start_time": "2024-12-20T02:53:12.231Z"
   },
   {
    "duration": 168,
    "start_time": "2024-12-20T02:53:12.670Z"
   },
   {
    "duration": 40,
    "start_time": "2024-12-20T02:53:12.840Z"
   },
   {
    "duration": 5,
    "start_time": "2024-12-20T02:53:12.882Z"
   },
   {
    "duration": 5,
    "start_time": "2024-12-20T02:53:12.890Z"
   },
   {
    "duration": 743,
    "start_time": "2024-12-20T02:53:12.897Z"
   },
   {
    "duration": 106,
    "start_time": "2024-12-20T02:53:13.642Z"
   },
   {
    "duration": 9,
    "start_time": "2024-12-20T02:53:13.751Z"
   },
   {
    "duration": 120,
    "start_time": "2024-12-20T02:53:13.761Z"
   },
   {
    "duration": 101,
    "start_time": "2024-12-20T02:53:13.883Z"
   },
   {
    "duration": 82,
    "start_time": "2024-12-20T02:53:13.986Z"
   },
   {
    "duration": 14,
    "start_time": "2024-12-20T02:53:14.070Z"
   },
   {
    "duration": 7,
    "start_time": "2024-12-20T02:53:14.086Z"
   },
   {
    "duration": 40,
    "start_time": "2024-12-20T02:53:14.097Z"
   },
   {
    "duration": 4,
    "start_time": "2024-12-20T02:53:14.139Z"
   },
   {
    "duration": 9,
    "start_time": "2024-12-20T02:53:14.145Z"
   },
   {
    "duration": 4,
    "start_time": "2024-12-20T02:53:14.156Z"
   },
   {
    "duration": 7,
    "start_time": "2024-12-20T02:53:14.162Z"
   },
   {
    "duration": 4,
    "start_time": "2024-12-20T02:53:14.171Z"
   },
   {
    "duration": 803,
    "start_time": "2024-12-20T02:53:14.176Z"
   },
   {
    "duration": 39,
    "start_time": "2024-12-20T02:53:14.981Z"
   },
   {
    "duration": 8,
    "start_time": "2024-12-20T02:53:15.032Z"
   },
   {
    "duration": 9,
    "start_time": "2024-12-20T02:53:15.042Z"
   },
   {
    "duration": 9,
    "start_time": "2024-12-20T02:53:15.052Z"
   },
   {
    "duration": 8,
    "start_time": "2024-12-20T02:53:15.063Z"
   },
   {
    "duration": 2,
    "start_time": "2024-12-20T02:53:15.073Z"
   },
   {
    "duration": 6,
    "start_time": "2024-12-20T02:53:15.077Z"
   },
   {
    "duration": 47,
    "start_time": "2024-12-20T02:53:15.085Z"
   },
   {
    "duration": 18,
    "start_time": "2024-12-20T02:53:15.134Z"
   },
   {
    "duration": 17,
    "start_time": "2024-12-20T02:53:15.153Z"
   },
   {
    "duration": 33,
    "start_time": "2024-12-20T02:53:15.171Z"
   },
   {
    "duration": 26,
    "start_time": "2024-12-20T02:53:15.206Z"
   },
   {
    "duration": 14,
    "start_time": "2024-12-20T02:53:15.234Z"
   },
   {
    "duration": 22,
    "start_time": "2024-12-20T02:53:15.249Z"
   },
   {
    "duration": 5,
    "start_time": "2024-12-20T02:53:15.273Z"
   },
   {
    "duration": 5,
    "start_time": "2024-12-20T02:53:15.280Z"
   },
   {
    "duration": 218,
    "start_time": "2024-12-20T02:53:15.287Z"
   },
   {
    "duration": 124,
    "start_time": "2024-12-20T02:53:15.507Z"
   },
   {
    "duration": 201,
    "start_time": "2024-12-20T02:53:15.633Z"
   },
   {
    "duration": 222,
    "start_time": "2024-12-20T02:53:15.836Z"
   },
   {
    "duration": 8,
    "start_time": "2024-12-20T02:53:16.062Z"
   },
   {
    "duration": 4,
    "start_time": "2024-12-20T02:53:16.072Z"
   },
   {
    "duration": 15,
    "start_time": "2024-12-20T02:53:16.078Z"
   },
   {
    "duration": 327,
    "start_time": "2024-12-20T02:53:16.095Z"
   },
   {
    "duration": 141,
    "start_time": "2024-12-20T02:53:16.431Z"
   },
   {
    "duration": 684,
    "start_time": "2024-12-20T02:53:16.575Z"
   },
   {
    "duration": 480,
    "start_time": "2024-12-20T02:53:17.260Z"
   },
   {
    "duration": 13,
    "start_time": "2024-12-20T02:53:17.741Z"
   },
   {
    "duration": 647,
    "start_time": "2024-12-20T02:53:17.755Z"
   },
   {
    "duration": 0,
    "start_time": "2024-12-20T02:53:18.403Z"
   },
   {
    "duration": 7,
    "start_time": "2024-12-20T02:54:07.981Z"
   },
   {
    "duration": 6,
    "start_time": "2024-12-20T02:55:23.262Z"
   },
   {
    "duration": 7,
    "start_time": "2024-12-20T02:55:36.983Z"
   },
   {
    "duration": 40,
    "start_time": "2024-12-20T02:56:52.509Z"
   },
   {
    "duration": 101,
    "start_time": "2024-12-20T02:57:29.144Z"
   },
   {
    "duration": 180,
    "start_time": "2024-12-20T02:58:25.986Z"
   },
   {
    "duration": 39,
    "start_time": "2024-12-20T02:58:45.599Z"
   },
   {
    "duration": 21,
    "start_time": "2024-12-20T02:59:01.213Z"
   },
   {
    "duration": 101,
    "start_time": "2024-12-20T02:59:34.269Z"
   },
   {
    "duration": 9,
    "start_time": "2024-12-20T03:03:48.533Z"
   },
   {
    "duration": 1189,
    "start_time": "2024-12-20T03:04:37.885Z"
   },
   {
    "duration": 625,
    "start_time": "2024-12-20T03:04:53.730Z"
   },
   {
    "duration": 674,
    "start_time": "2024-12-20T03:05:29.209Z"
   },
   {
    "duration": 103,
    "start_time": "2024-12-20T03:06:31.746Z"
   },
   {
    "duration": 13,
    "start_time": "2024-12-20T03:06:57.156Z"
   },
   {
    "duration": 19,
    "start_time": "2024-12-20T03:07:18.538Z"
   },
   {
    "duration": 14,
    "start_time": "2024-12-20T03:08:54.132Z"
   },
   {
    "duration": 855,
    "start_time": "2024-12-20T03:09:09.252Z"
   },
   {
    "duration": 819,
    "start_time": "2024-12-20T03:09:26.105Z"
   },
   {
    "duration": 112,
    "start_time": "2024-12-20T03:10:10.260Z"
   },
   {
    "duration": 12,
    "start_time": "2024-12-20T03:14:04.283Z"
   },
   {
    "duration": 77,
    "start_time": "2024-12-20T03:14:23.831Z"
   },
   {
    "duration": 29,
    "start_time": "2024-12-20T03:14:47.225Z"
   },
   {
    "duration": 13,
    "start_time": "2024-12-20T03:17:06.003Z"
   },
   {
    "duration": 14,
    "start_time": "2024-12-20T03:17:22.503Z"
   },
   {
    "duration": 12,
    "start_time": "2024-12-20T03:21:19.502Z"
   },
   {
    "duration": 19,
    "start_time": "2024-12-20T03:21:37.613Z"
   },
   {
    "duration": 6,
    "start_time": "2024-12-20T03:22:10.924Z"
   },
   {
    "duration": 6,
    "start_time": "2024-12-20T03:22:34.642Z"
   },
   {
    "duration": 9,
    "start_time": "2024-12-20T03:25:16.480Z"
   },
   {
    "duration": 4,
    "start_time": "2024-12-20T03:25:24.862Z"
   },
   {
    "duration": 13,
    "start_time": "2024-12-20T03:28:29.138Z"
   },
   {
    "duration": 20,
    "start_time": "2024-12-20T03:28:35.469Z"
   },
   {
    "duration": 19,
    "start_time": "2024-12-20T03:28:39.572Z"
   },
   {
    "duration": 19,
    "start_time": "2024-12-20T03:28:54.502Z"
   },
   {
    "duration": 18,
    "start_time": "2024-12-20T03:29:03.955Z"
   },
   {
    "duration": 6,
    "start_time": "2024-12-20T03:29:25.306Z"
   },
   {
    "duration": 473,
    "start_time": "2024-12-20T03:29:45.053Z"
   },
   {
    "duration": 14,
    "start_time": "2024-12-20T03:30:44.596Z"
   },
   {
    "duration": 5,
    "start_time": "2024-12-20T03:31:03.474Z"
   },
   {
    "duration": 123,
    "start_time": "2024-12-20T03:31:56.102Z"
   },
   {
    "duration": 295,
    "start_time": "2024-12-20T03:32:46.234Z"
   },
   {
    "duration": 9,
    "start_time": "2024-12-20T03:33:35.260Z"
   },
   {
    "duration": 9,
    "start_time": "2024-12-20T03:33:39.984Z"
   },
   {
    "duration": 5,
    "start_time": "2024-12-20T03:33:56.496Z"
   },
   {
    "duration": 13,
    "start_time": "2024-12-20T03:34:08.981Z"
   },
   {
    "duration": 36,
    "start_time": "2024-12-20T03:34:19.631Z"
   },
   {
    "duration": 14,
    "start_time": "2024-12-20T03:34:25.389Z"
   },
   {
    "duration": 440,
    "start_time": "2024-12-20T03:36:10.288Z"
   },
   {
    "duration": 165,
    "start_time": "2024-12-20T03:36:10.729Z"
   },
   {
    "duration": 45,
    "start_time": "2024-12-20T03:36:10.896Z"
   },
   {
    "duration": 6,
    "start_time": "2024-12-20T03:36:10.943Z"
   },
   {
    "duration": 5,
    "start_time": "2024-12-20T03:36:10.950Z"
   },
   {
    "duration": 724,
    "start_time": "2024-12-20T03:36:10.957Z"
   },
   {
    "duration": 104,
    "start_time": "2024-12-20T03:36:11.683Z"
   },
   {
    "duration": 9,
    "start_time": "2024-12-20T03:36:11.789Z"
   },
   {
    "duration": 127,
    "start_time": "2024-12-20T03:36:11.799Z"
   },
   {
    "duration": 113,
    "start_time": "2024-12-20T03:36:11.929Z"
   },
   {
    "duration": 75,
    "start_time": "2024-12-20T03:36:12.044Z"
   },
   {
    "duration": 23,
    "start_time": "2024-12-20T03:36:12.121Z"
   },
   {
    "duration": 8,
    "start_time": "2024-12-20T03:36:12.145Z"
   },
   {
    "duration": 19,
    "start_time": "2024-12-20T03:36:12.154Z"
   },
   {
    "duration": 3,
    "start_time": "2024-12-20T03:36:12.175Z"
   },
   {
    "duration": 9,
    "start_time": "2024-12-20T03:36:12.180Z"
   },
   {
    "duration": 41,
    "start_time": "2024-12-20T03:36:12.191Z"
   },
   {
    "duration": 9,
    "start_time": "2024-12-20T03:36:12.234Z"
   },
   {
    "duration": 10,
    "start_time": "2024-12-20T03:36:12.244Z"
   },
   {
    "duration": 799,
    "start_time": "2024-12-20T03:36:12.256Z"
   },
   {
    "duration": 38,
    "start_time": "2024-12-20T03:36:13.058Z"
   },
   {
    "duration": 8,
    "start_time": "2024-12-20T03:36:13.098Z"
   },
   {
    "duration": 9,
    "start_time": "2024-12-20T03:36:13.131Z"
   },
   {
    "duration": 9,
    "start_time": "2024-12-20T03:36:13.142Z"
   },
   {
    "duration": 6,
    "start_time": "2024-12-20T03:36:13.154Z"
   },
   {
    "duration": 2,
    "start_time": "2024-12-20T03:36:13.162Z"
   },
   {
    "duration": 6,
    "start_time": "2024-12-20T03:36:13.166Z"
   },
   {
    "duration": 10,
    "start_time": "2024-12-20T03:36:13.177Z"
   },
   {
    "duration": 52,
    "start_time": "2024-12-20T03:36:13.190Z"
   },
   {
    "duration": 20,
    "start_time": "2024-12-20T03:36:13.244Z"
   },
   {
    "duration": 33,
    "start_time": "2024-12-20T03:36:13.266Z"
   },
   {
    "duration": 3,
    "start_time": "2024-12-20T03:36:13.301Z"
   },
   {
    "duration": 38,
    "start_time": "2024-12-20T03:36:13.306Z"
   },
   {
    "duration": 23,
    "start_time": "2024-12-20T03:36:13.346Z"
   },
   {
    "duration": 5,
    "start_time": "2024-12-20T03:36:13.371Z"
   },
   {
    "duration": 5,
    "start_time": "2024-12-20T03:36:13.378Z"
   },
   {
    "duration": 214,
    "start_time": "2024-12-20T03:36:13.385Z"
   },
   {
    "duration": 123,
    "start_time": "2024-12-20T03:36:13.601Z"
   },
   {
    "duration": 198,
    "start_time": "2024-12-20T03:36:13.726Z"
   },
   {
    "duration": 223,
    "start_time": "2024-12-20T03:36:13.926Z"
   },
   {
    "duration": 8,
    "start_time": "2024-12-20T03:36:14.150Z"
   },
   {
    "duration": 4,
    "start_time": "2024-12-20T03:36:14.160Z"
   },
   {
    "duration": 15,
    "start_time": "2024-12-20T03:36:14.165Z"
   },
   {
    "duration": 330,
    "start_time": "2024-12-20T03:36:14.183Z"
   },
   {
    "duration": 145,
    "start_time": "2024-12-20T03:36:14.514Z"
   },
   {
    "duration": 680,
    "start_time": "2024-12-20T03:36:14.661Z"
   },
   {
    "duration": 471,
    "start_time": "2024-12-20T03:36:15.342Z"
   },
   {
    "duration": 18,
    "start_time": "2024-12-20T03:36:15.814Z"
   },
   {
    "duration": 1205,
    "start_time": "2024-12-20T03:36:15.834Z"
   },
   {
    "duration": 113,
    "start_time": "2024-12-20T03:36:17.041Z"
   },
   {
    "duration": 16,
    "start_time": "2024-12-20T03:36:17.156Z"
   },
   {
    "duration": 898,
    "start_time": "2024-12-20T03:36:17.173Z"
   },
   {
    "duration": 117,
    "start_time": "2024-12-20T03:36:18.073Z"
   },
   {
    "duration": 700,
    "start_time": "2024-12-20T03:36:18.192Z"
   },
   {
    "duration": 242,
    "start_time": "2024-12-20T03:36:18.894Z"
   },
   {
    "duration": 0,
    "start_time": "2024-12-20T03:36:19.138Z"
   },
   {
    "duration": 507,
    "start_time": "2024-12-20T03:36:40.658Z"
   },
   {
    "duration": 18,
    "start_time": "2024-12-20T03:36:47.730Z"
   },
   {
    "duration": 827,
    "start_time": "2024-12-20T03:36:52.956Z"
   },
   {
    "duration": 120,
    "start_time": "2024-12-20T03:36:59.178Z"
   },
   {
    "duration": 129,
    "start_time": "2024-12-20T03:37:14.435Z"
   },
   {
    "duration": 34,
    "start_time": "2024-12-20T03:37:18.445Z"
   },
   {
    "duration": 8,
    "start_time": "2024-12-20T03:37:25.443Z"
   },
   {
    "duration": 8,
    "start_time": "2024-12-20T03:37:29.014Z"
   },
   {
    "duration": 705,
    "start_time": "2024-12-20T03:37:34.289Z"
   },
   {
    "duration": 6,
    "start_time": "2024-12-20T03:40:11.077Z"
   },
   {
    "duration": 8,
    "start_time": "2024-12-20T03:43:15.587Z"
   },
   {
    "duration": 7,
    "start_time": "2024-12-20T03:43:18.263Z"
   },
   {
    "duration": 221,
    "start_time": "2024-12-20T03:43:21.410Z"
   },
   {
    "duration": 13,
    "start_time": "2024-12-20T03:43:50.083Z"
   },
   {
    "duration": 414,
    "start_time": "2024-12-20T03:44:52.102Z"
   },
   {
    "duration": 166,
    "start_time": "2024-12-20T03:44:52.518Z"
   },
   {
    "duration": 49,
    "start_time": "2024-12-20T03:44:52.686Z"
   },
   {
    "duration": 8,
    "start_time": "2024-12-20T03:44:52.737Z"
   },
   {
    "duration": 5,
    "start_time": "2024-12-20T03:44:52.748Z"
   },
   {
    "duration": 731,
    "start_time": "2024-12-20T03:44:52.754Z"
   },
   {
    "duration": 104,
    "start_time": "2024-12-20T03:44:53.487Z"
   },
   {
    "duration": 9,
    "start_time": "2024-12-20T03:44:53.593Z"
   },
   {
    "duration": 129,
    "start_time": "2024-12-20T03:44:53.604Z"
   },
   {
    "duration": 110,
    "start_time": "2024-12-20T03:44:53.735Z"
   },
   {
    "duration": 77,
    "start_time": "2024-12-20T03:44:53.847Z"
   },
   {
    "duration": 13,
    "start_time": "2024-12-20T03:44:53.931Z"
   },
   {
    "duration": 7,
    "start_time": "2024-12-20T03:44:53.945Z"
   },
   {
    "duration": 21,
    "start_time": "2024-12-20T03:44:53.957Z"
   },
   {
    "duration": 3,
    "start_time": "2024-12-20T03:44:53.980Z"
   },
   {
    "duration": 9,
    "start_time": "2024-12-20T03:44:53.985Z"
   },
   {
    "duration": 38,
    "start_time": "2024-12-20T03:44:53.996Z"
   },
   {
    "duration": 8,
    "start_time": "2024-12-20T03:44:54.037Z"
   },
   {
    "duration": 4,
    "start_time": "2024-12-20T03:44:54.047Z"
   },
   {
    "duration": 802,
    "start_time": "2024-12-20T03:44:54.053Z"
   },
   {
    "duration": 38,
    "start_time": "2024-12-20T03:44:54.857Z"
   },
   {
    "duration": 8,
    "start_time": "2024-12-20T03:44:54.896Z"
   },
   {
    "duration": 28,
    "start_time": "2024-12-20T03:44:54.905Z"
   },
   {
    "duration": 5,
    "start_time": "2024-12-20T03:44:54.935Z"
   },
   {
    "duration": 6,
    "start_time": "2024-12-20T03:44:54.942Z"
   },
   {
    "duration": 2,
    "start_time": "2024-12-20T03:44:54.949Z"
   },
   {
    "duration": 5,
    "start_time": "2024-12-20T03:44:54.953Z"
   },
   {
    "duration": 6,
    "start_time": "2024-12-20T03:44:54.960Z"
   },
   {
    "duration": 18,
    "start_time": "2024-12-20T03:44:54.968Z"
   },
   {
    "duration": 50,
    "start_time": "2024-12-20T03:44:54.987Z"
   },
   {
    "duration": 32,
    "start_time": "2024-12-20T03:44:55.039Z"
   },
   {
    "duration": 2,
    "start_time": "2024-12-20T03:44:55.073Z"
   },
   {
    "duration": 15,
    "start_time": "2024-12-20T03:44:55.077Z"
   },
   {
    "duration": 50,
    "start_time": "2024-12-20T03:44:55.093Z"
   },
   {
    "duration": 6,
    "start_time": "2024-12-20T03:44:55.145Z"
   },
   {
    "duration": 8,
    "start_time": "2024-12-20T03:44:55.152Z"
   },
   {
    "duration": 196,
    "start_time": "2024-12-20T03:44:55.161Z"
   },
   {
    "duration": 123,
    "start_time": "2024-12-20T03:44:55.358Z"
   },
   {
    "duration": 206,
    "start_time": "2024-12-20T03:44:55.483Z"
   },
   {
    "duration": 7,
    "start_time": "2024-12-20T03:44:55.691Z"
   },
   {
    "duration": 6,
    "start_time": "2024-12-20T03:44:55.702Z"
   },
   {
    "duration": 225,
    "start_time": "2024-12-20T03:44:55.710Z"
   },
   {
    "duration": 8,
    "start_time": "2024-12-20T03:44:55.937Z"
   },
   {
    "duration": 4,
    "start_time": "2024-12-20T03:44:55.947Z"
   },
   {
    "duration": 14,
    "start_time": "2024-12-20T03:44:55.953Z"
   },
   {
    "duration": 314,
    "start_time": "2024-12-20T03:44:55.969Z"
   },
   {
    "duration": 139,
    "start_time": "2024-12-20T03:44:56.285Z"
   },
   {
    "duration": 694,
    "start_time": "2024-12-20T03:44:56.430Z"
   },
   {
    "duration": 490,
    "start_time": "2024-12-20T03:44:57.126Z"
   },
   {
    "duration": 19,
    "start_time": "2024-12-20T03:44:57.618Z"
   },
   {
    "duration": 1234,
    "start_time": "2024-12-20T03:44:57.639Z"
   },
   {
    "duration": 113,
    "start_time": "2024-12-20T03:44:58.874Z"
   },
   {
    "duration": 15,
    "start_time": "2024-12-20T03:44:58.989Z"
   },
   {
    "duration": 855,
    "start_time": "2024-12-20T03:44:59.006Z"
   },
   {
    "duration": 128,
    "start_time": "2024-12-20T03:44:59.863Z"
   },
   {
    "duration": 718,
    "start_time": "2024-12-20T03:44:59.993Z"
   },
   {
    "duration": 247,
    "start_time": "2024-12-20T03:45:00.713Z"
   },
   {
    "duration": 0,
    "start_time": "2024-12-20T03:45:00.962Z"
   },
   {
    "duration": 14,
    "start_time": "2024-12-20T03:46:39.628Z"
   },
   {
    "duration": 108,
    "start_time": "2024-12-20T03:46:48.350Z"
   },
   {
    "duration": 13,
    "start_time": "2024-12-20T03:46:52.061Z"
   },
   {
    "duration": 7,
    "start_time": "2024-12-20T03:52:52.669Z"
   },
   {
    "duration": 5,
    "start_time": "2024-12-20T03:53:08.761Z"
   },
   {
    "duration": 945,
    "start_time": "2024-12-20T03:53:37.755Z"
   },
   {
    "duration": 442,
    "start_time": "2024-12-20T03:53:55.972Z"
   },
   {
    "duration": 164,
    "start_time": "2024-12-20T03:53:56.416Z"
   },
   {
    "duration": 41,
    "start_time": "2024-12-20T03:53:56.582Z"
   },
   {
    "duration": 8,
    "start_time": "2024-12-20T03:53:56.631Z"
   },
   {
    "duration": 4,
    "start_time": "2024-12-20T03:53:56.641Z"
   },
   {
    "duration": 732,
    "start_time": "2024-12-20T03:53:56.647Z"
   },
   {
    "duration": 104,
    "start_time": "2024-12-20T03:53:57.381Z"
   },
   {
    "duration": 8,
    "start_time": "2024-12-20T03:53:57.487Z"
   },
   {
    "duration": 121,
    "start_time": "2024-12-20T03:53:57.497Z"
   },
   {
    "duration": 126,
    "start_time": "2024-12-20T03:53:57.621Z"
   },
   {
    "duration": 85,
    "start_time": "2024-12-20T03:53:57.748Z"
   },
   {
    "duration": 19,
    "start_time": "2024-12-20T03:53:57.835Z"
   },
   {
    "duration": 7,
    "start_time": "2024-12-20T03:53:57.855Z"
   },
   {
    "duration": 20,
    "start_time": "2024-12-20T03:53:57.863Z"
   },
   {
    "duration": 2,
    "start_time": "2024-12-20T03:53:57.885Z"
   },
   {
    "duration": 9,
    "start_time": "2024-12-20T03:53:57.889Z"
   },
   {
    "duration": 7,
    "start_time": "2024-12-20T03:53:57.931Z"
   },
   {
    "duration": 10,
    "start_time": "2024-12-20T03:53:57.940Z"
   },
   {
    "duration": 4,
    "start_time": "2024-12-20T03:53:57.952Z"
   },
   {
    "duration": 856,
    "start_time": "2024-12-20T03:53:57.958Z"
   },
   {
    "duration": 47,
    "start_time": "2024-12-20T03:53:58.816Z"
   },
   {
    "duration": 6,
    "start_time": "2024-12-20T03:53:58.866Z"
   },
   {
    "duration": 6,
    "start_time": "2024-12-20T03:53:58.874Z"
   },
   {
    "duration": 5,
    "start_time": "2024-12-20T03:53:58.882Z"
   },
   {
    "duration": 5,
    "start_time": "2024-12-20T03:53:58.889Z"
   },
   {
    "duration": 2,
    "start_time": "2024-12-20T03:53:58.896Z"
   },
   {
    "duration": 5,
    "start_time": "2024-12-20T03:53:58.932Z"
   },
   {
    "duration": 6,
    "start_time": "2024-12-20T03:53:58.941Z"
   },
   {
    "duration": 17,
    "start_time": "2024-12-20T03:53:58.948Z"
   },
   {
    "duration": 17,
    "start_time": "2024-12-20T03:53:58.967Z"
   },
   {
    "duration": 60,
    "start_time": "2024-12-20T03:53:58.986Z"
   },
   {
    "duration": 3,
    "start_time": "2024-12-20T03:53:59.048Z"
   },
   {
    "duration": 14,
    "start_time": "2024-12-20T03:53:59.052Z"
   },
   {
    "duration": 22,
    "start_time": "2024-12-20T03:53:59.068Z"
   },
   {
    "duration": 4,
    "start_time": "2024-12-20T03:53:59.092Z"
   },
   {
    "duration": 4,
    "start_time": "2024-12-20T03:53:59.098Z"
   },
   {
    "duration": 201,
    "start_time": "2024-12-20T03:53:59.133Z"
   },
   {
    "duration": 124,
    "start_time": "2024-12-20T03:53:59.336Z"
   },
   {
    "duration": 209,
    "start_time": "2024-12-20T03:53:59.462Z"
   },
   {
    "duration": 8,
    "start_time": "2024-12-20T03:53:59.672Z"
   },
   {
    "duration": 7,
    "start_time": "2024-12-20T03:53:59.681Z"
   },
   {
    "duration": 242,
    "start_time": "2024-12-20T03:53:59.689Z"
   },
   {
    "duration": 7,
    "start_time": "2024-12-20T03:53:59.933Z"
   },
   {
    "duration": 5,
    "start_time": "2024-12-20T03:53:59.942Z"
   },
   {
    "duration": 974,
    "start_time": "2024-12-20T03:53:59.949Z"
   },
   {
    "duration": 8,
    "start_time": "2024-12-20T03:54:00.930Z"
   },
   {
    "duration": 3,
    "start_time": "2024-12-20T03:54:00.940Z"
   },
   {
    "duration": 14,
    "start_time": "2024-12-20T03:54:00.945Z"
   },
   {
    "duration": 290,
    "start_time": "2024-12-20T03:54:00.961Z"
   },
   {
    "duration": 135,
    "start_time": "2024-12-20T03:54:01.253Z"
   },
   {
    "duration": 692,
    "start_time": "2024-12-20T03:54:01.390Z"
   },
   {
    "duration": 481,
    "start_time": "2024-12-20T03:54:02.084Z"
   },
   {
    "duration": 11,
    "start_time": "2024-12-20T03:54:02.567Z"
   },
   {
    "duration": 1202,
    "start_time": "2024-12-20T03:54:02.579Z"
   },
   {
    "duration": 109,
    "start_time": "2024-12-20T03:54:03.783Z"
   },
   {
    "duration": 16,
    "start_time": "2024-12-20T03:54:03.894Z"
   },
   {
    "duration": 999,
    "start_time": "2024-12-20T03:54:03.912Z"
   },
   {
    "duration": 127,
    "start_time": "2024-12-20T03:54:04.913Z"
   },
   {
    "duration": 693,
    "start_time": "2024-12-20T03:54:05.042Z"
   },
   {
    "duration": 114,
    "start_time": "2024-12-20T03:54:05.737Z"
   },
   {
    "duration": 13,
    "start_time": "2024-12-20T03:54:05.853Z"
   },
   {
    "duration": 423,
    "start_time": "2024-12-20T07:43:07.321Z"
   },
   {
    "duration": 183,
    "start_time": "2024-12-20T07:43:07.747Z"
   },
   {
    "duration": 73,
    "start_time": "2024-12-20T07:43:07.931Z"
   },
   {
    "duration": 11,
    "start_time": "2024-12-20T07:43:08.009Z"
   },
   {
    "duration": 6,
    "start_time": "2024-12-20T07:43:08.022Z"
   },
   {
    "duration": 851,
    "start_time": "2024-12-20T07:43:08.030Z"
   },
   {
    "duration": 109,
    "start_time": "2024-12-20T07:43:08.883Z"
   },
   {
    "duration": 10,
    "start_time": "2024-12-20T07:43:08.995Z"
   },
   {
    "duration": 138,
    "start_time": "2024-12-20T07:43:09.006Z"
   },
   {
    "duration": 105,
    "start_time": "2024-12-20T07:43:09.146Z"
   },
   {
    "duration": 89,
    "start_time": "2024-12-20T07:43:09.253Z"
   },
   {
    "duration": 13,
    "start_time": "2024-12-20T07:43:09.344Z"
   },
   {
    "duration": 15,
    "start_time": "2024-12-20T07:43:09.360Z"
   },
   {
    "duration": 24,
    "start_time": "2024-12-20T07:43:09.379Z"
   },
   {
    "duration": 2,
    "start_time": "2024-12-20T07:43:09.406Z"
   },
   {
    "duration": 9,
    "start_time": "2024-12-20T07:43:09.409Z"
   },
   {
    "duration": 4,
    "start_time": "2024-12-20T07:43:09.420Z"
   },
   {
    "duration": 7,
    "start_time": "2024-12-20T07:43:09.426Z"
   },
   {
    "duration": 35,
    "start_time": "2024-12-20T07:43:09.435Z"
   },
   {
    "duration": 785,
    "start_time": "2024-12-20T07:43:09.472Z"
   },
   {
    "duration": 43,
    "start_time": "2024-12-20T07:43:10.259Z"
   },
   {
    "duration": 7,
    "start_time": "2024-12-20T07:43:10.303Z"
   },
   {
    "duration": 7,
    "start_time": "2024-12-20T07:43:10.312Z"
   },
   {
    "duration": 5,
    "start_time": "2024-12-20T07:43:10.322Z"
   },
   {
    "duration": 6,
    "start_time": "2024-12-20T07:43:10.328Z"
   },
   {
    "duration": 35,
    "start_time": "2024-12-20T07:43:10.335Z"
   },
   {
    "duration": 6,
    "start_time": "2024-12-20T07:43:10.372Z"
   },
   {
    "duration": 8,
    "start_time": "2024-12-20T07:43:10.380Z"
   },
   {
    "duration": 16,
    "start_time": "2024-12-20T07:43:10.390Z"
   },
   {
    "duration": 25,
    "start_time": "2024-12-20T07:43:10.408Z"
   },
   {
    "duration": 59,
    "start_time": "2024-12-20T07:43:10.435Z"
   },
   {
    "duration": 3,
    "start_time": "2024-12-20T07:43:10.496Z"
   },
   {
    "duration": 16,
    "start_time": "2024-12-20T07:43:10.501Z"
   },
   {
    "duration": 22,
    "start_time": "2024-12-20T07:43:10.519Z"
   },
   {
    "duration": 27,
    "start_time": "2024-12-20T07:43:10.543Z"
   },
   {
    "duration": 5,
    "start_time": "2024-12-20T07:43:10.571Z"
   },
   {
    "duration": 197,
    "start_time": "2024-12-20T07:43:10.577Z"
   },
   {
    "duration": 122,
    "start_time": "2024-12-20T07:43:10.775Z"
   },
   {
    "duration": 209,
    "start_time": "2024-12-20T07:43:10.899Z"
   },
   {
    "duration": 8,
    "start_time": "2024-12-20T07:43:11.110Z"
   },
   {
    "duration": 7,
    "start_time": "2024-12-20T07:43:11.123Z"
   },
   {
    "duration": 246,
    "start_time": "2024-12-20T07:43:11.131Z"
   },
   {
    "duration": 8,
    "start_time": "2024-12-20T07:43:11.379Z"
   },
   {
    "duration": 5,
    "start_time": "2024-12-20T07:43:11.389Z"
   },
   {
    "duration": 958,
    "start_time": "2024-12-20T07:43:11.396Z"
   },
   {
    "duration": 17,
    "start_time": "2024-12-20T07:43:12.356Z"
   },
   {
    "duration": 4,
    "start_time": "2024-12-20T07:43:12.375Z"
   },
   {
    "duration": 14,
    "start_time": "2024-12-20T07:43:12.380Z"
   },
   {
    "duration": 288,
    "start_time": "2024-12-20T07:43:12.396Z"
   },
   {
    "duration": 135,
    "start_time": "2024-12-20T07:43:12.686Z"
   },
   {
    "duration": 681,
    "start_time": "2024-12-20T07:43:12.823Z"
   },
   {
    "duration": 475,
    "start_time": "2024-12-20T07:43:13.506Z"
   },
   {
    "duration": 12,
    "start_time": "2024-12-20T07:43:13.984Z"
   },
   {
    "duration": 1182,
    "start_time": "2024-12-20T07:43:13.998Z"
   },
   {
    "duration": 116,
    "start_time": "2024-12-20T07:43:15.182Z"
   },
   {
    "duration": 17,
    "start_time": "2024-12-20T07:43:15.300Z"
   },
   {
    "duration": 867,
    "start_time": "2024-12-20T07:43:15.318Z"
   },
   {
    "duration": 185,
    "start_time": "2024-12-20T07:43:16.188Z"
   },
   {
    "duration": 707,
    "start_time": "2024-12-20T07:43:16.375Z"
   },
   {
    "duration": 116,
    "start_time": "2024-12-20T07:43:17.084Z"
   },
   {
    "duration": 14,
    "start_time": "2024-12-20T07:43:17.202Z"
   },
   {
    "duration": 157,
    "start_time": "2024-12-20T14:28:26.666Z"
   },
   {
    "duration": 2137,
    "start_time": "2024-12-20T14:28:44.916Z"
   },
   {
    "duration": 157,
    "start_time": "2024-12-20T14:28:47.055Z"
   },
   {
    "duration": 66,
    "start_time": "2024-12-20T14:28:47.214Z"
   },
   {
    "duration": 11,
    "start_time": "2024-12-20T14:28:47.283Z"
   },
   {
    "duration": 8,
    "start_time": "2024-12-20T14:28:47.296Z"
   },
   {
    "duration": 806,
    "start_time": "2024-12-20T14:28:47.307Z"
   },
   {
    "duration": 106,
    "start_time": "2024-12-20T14:28:48.115Z"
   },
   {
    "duration": 9,
    "start_time": "2024-12-20T14:28:48.222Z"
   },
   {
    "duration": 113,
    "start_time": "2024-12-20T14:28:48.233Z"
   },
   {
    "duration": 90,
    "start_time": "2024-12-20T14:28:48.349Z"
   },
   {
    "duration": 73,
    "start_time": "2024-12-20T14:28:48.440Z"
   },
   {
    "duration": 14,
    "start_time": "2024-12-20T14:28:48.515Z"
   },
   {
    "duration": 6,
    "start_time": "2024-12-20T14:28:48.531Z"
   },
   {
    "duration": 17,
    "start_time": "2024-12-20T14:28:48.539Z"
   },
   {
    "duration": 7,
    "start_time": "2024-12-20T14:28:48.558Z"
   },
   {
    "duration": 5,
    "start_time": "2024-12-20T14:28:48.567Z"
   },
   {
    "duration": 43,
    "start_time": "2024-12-20T14:28:48.574Z"
   },
   {
    "duration": 5,
    "start_time": "2024-12-20T14:28:48.619Z"
   },
   {
    "duration": 748,
    "start_time": "2024-12-20T14:28:48.625Z"
   },
   {
    "duration": 42,
    "start_time": "2024-12-20T14:28:49.375Z"
   },
   {
    "duration": 7,
    "start_time": "2024-12-20T14:28:49.419Z"
   },
   {
    "duration": 8,
    "start_time": "2024-12-20T14:28:49.427Z"
   },
   {
    "duration": 6,
    "start_time": "2024-12-20T14:28:49.436Z"
   },
   {
    "duration": 5,
    "start_time": "2024-12-20T14:28:49.443Z"
   },
   {
    "duration": 2,
    "start_time": "2024-12-20T14:28:49.450Z"
   },
   {
    "duration": 5,
    "start_time": "2024-12-20T14:28:49.454Z"
   },
   {
    "duration": 6,
    "start_time": "2024-12-20T14:28:49.461Z"
   },
   {
    "duration": 14,
    "start_time": "2024-12-20T14:28:49.511Z"
   },
   {
    "duration": 19,
    "start_time": "2024-12-20T14:28:49.526Z"
   },
   {
    "duration": 31,
    "start_time": "2024-12-20T14:28:49.546Z"
   },
   {
    "duration": 2,
    "start_time": "2024-12-20T14:28:49.579Z"
   },
   {
    "duration": 39,
    "start_time": "2024-12-20T14:28:49.583Z"
   },
   {
    "duration": 21,
    "start_time": "2024-12-20T14:28:49.624Z"
   },
   {
    "duration": 5,
    "start_time": "2024-12-20T14:28:49.648Z"
   },
   {
    "duration": 5,
    "start_time": "2024-12-20T14:28:49.654Z"
   },
   {
    "duration": 210,
    "start_time": "2024-12-20T14:28:49.660Z"
   },
   {
    "duration": 162,
    "start_time": "2024-12-20T14:28:49.871Z"
   },
   {
    "duration": 200,
    "start_time": "2024-12-20T14:28:50.034Z"
   },
   {
    "duration": 7,
    "start_time": "2024-12-20T14:28:50.236Z"
   },
   {
    "duration": 7,
    "start_time": "2024-12-20T14:28:50.245Z"
   },
   {
    "duration": 228,
    "start_time": "2024-12-20T14:28:50.253Z"
   },
   {
    "duration": 7,
    "start_time": "2024-12-20T14:28:50.482Z"
   },
   {
    "duration": 5,
    "start_time": "2024-12-20T14:28:50.491Z"
   },
   {
    "duration": 923,
    "start_time": "2024-12-20T14:28:50.497Z"
   },
   {
    "duration": 9,
    "start_time": "2024-12-20T14:28:51.422Z"
   },
   {
    "duration": 4,
    "start_time": "2024-12-20T14:28:51.433Z"
   },
   {
    "duration": 15,
    "start_time": "2024-12-20T14:28:51.438Z"
   },
   {
    "duration": 275,
    "start_time": "2024-12-20T14:28:51.454Z"
   },
   {
    "duration": 134,
    "start_time": "2024-12-20T14:28:51.731Z"
   },
   {
    "duration": 666,
    "start_time": "2024-12-20T14:28:51.866Z"
   },
   {
    "duration": 467,
    "start_time": "2024-12-20T14:28:52.534Z"
   },
   {
    "duration": 14,
    "start_time": "2024-12-20T14:28:53.003Z"
   },
   {
    "duration": 1081,
    "start_time": "2024-12-20T14:28:53.019Z"
   },
   {
    "duration": 111,
    "start_time": "2024-12-20T14:28:54.102Z"
   },
   {
    "duration": 15,
    "start_time": "2024-12-20T14:28:54.215Z"
   },
   {
    "duration": 814,
    "start_time": "2024-12-20T14:28:54.232Z"
   },
   {
    "duration": 122,
    "start_time": "2024-12-20T14:28:55.048Z"
   },
   {
    "duration": 687,
    "start_time": "2024-12-20T14:28:55.172Z"
   },
   {
    "duration": 111,
    "start_time": "2024-12-20T14:28:55.861Z"
   },
   {
    "duration": 12,
    "start_time": "2024-12-20T14:28:55.974Z"
   },
   {
    "duration": 12,
    "start_time": "2024-12-20T15:10:44.643Z"
   },
   {
    "duration": 710,
    "start_time": "2024-12-20T15:11:07.891Z"
   },
   {
    "duration": 12,
    "start_time": "2024-12-20T15:11:32.486Z"
   },
   {
    "duration": 38,
    "start_time": "2024-12-20T15:12:16.652Z"
   },
   {
    "duration": 109,
    "start_time": "2024-12-20T15:16:52.485Z"
   },
   {
    "duration": 112,
    "start_time": "2024-12-20T15:17:40.747Z"
   },
   {
    "duration": 692,
    "start_time": "2024-12-20T15:21:24.136Z"
   },
   {
    "duration": 14,
    "start_time": "2024-12-20T15:21:41.514Z"
   },
   {
    "duration": 9,
    "start_time": "2024-12-20T15:21:49.842Z"
   },
   {
    "duration": 421,
    "start_time": "2024-12-20T15:26:02.062Z"
   },
   {
    "duration": 181,
    "start_time": "2024-12-20T15:26:02.485Z"
   },
   {
    "duration": 51,
    "start_time": "2024-12-20T15:26:02.668Z"
   },
   {
    "duration": 10,
    "start_time": "2024-12-20T15:26:02.722Z"
   },
   {
    "duration": 9,
    "start_time": "2024-12-20T15:26:02.734Z"
   },
   {
    "duration": 732,
    "start_time": "2024-12-20T15:26:02.744Z"
   },
   {
    "duration": 102,
    "start_time": "2024-12-20T15:26:03.478Z"
   },
   {
    "duration": 8,
    "start_time": "2024-12-20T15:26:03.581Z"
   },
   {
    "duration": 117,
    "start_time": "2024-12-20T15:26:03.591Z"
   },
   {
    "duration": 86,
    "start_time": "2024-12-20T15:26:03.713Z"
   },
   {
    "duration": 75,
    "start_time": "2024-12-20T15:26:03.801Z"
   },
   {
    "duration": 13,
    "start_time": "2024-12-20T15:26:03.877Z"
   },
   {
    "duration": 21,
    "start_time": "2024-12-20T15:26:03.892Z"
   },
   {
    "duration": 18,
    "start_time": "2024-12-20T15:26:03.914Z"
   },
   {
    "duration": 8,
    "start_time": "2024-12-20T15:26:03.933Z"
   },
   {
    "duration": 4,
    "start_time": "2024-12-20T15:26:03.943Z"
   },
   {
    "duration": 8,
    "start_time": "2024-12-20T15:26:03.948Z"
   },
   {
    "duration": 6,
    "start_time": "2024-12-20T15:26:03.957Z"
   },
   {
    "duration": 790,
    "start_time": "2024-12-20T15:26:03.965Z"
   },
   {
    "duration": 38,
    "start_time": "2024-12-20T15:26:04.757Z"
   },
   {
    "duration": 18,
    "start_time": "2024-12-20T15:26:04.797Z"
   },
   {
    "duration": 9,
    "start_time": "2024-12-20T15:26:04.817Z"
   },
   {
    "duration": 6,
    "start_time": "2024-12-20T15:26:04.827Z"
   },
   {
    "duration": 5,
    "start_time": "2024-12-20T15:26:04.834Z"
   },
   {
    "duration": 2,
    "start_time": "2024-12-20T15:26:04.841Z"
   },
   {
    "duration": 6,
    "start_time": "2024-12-20T15:26:04.846Z"
   },
   {
    "duration": 6,
    "start_time": "2024-12-20T15:26:04.853Z"
   },
   {
    "duration": 50,
    "start_time": "2024-12-20T15:26:04.863Z"
   },
   {
    "duration": 19,
    "start_time": "2024-12-20T15:26:04.915Z"
   },
   {
    "duration": 29,
    "start_time": "2024-12-20T15:26:04.935Z"
   },
   {
    "duration": 2,
    "start_time": "2024-12-20T15:26:04.966Z"
   },
   {
    "duration": 14,
    "start_time": "2024-12-20T15:26:04.970Z"
   },
   {
    "duration": 51,
    "start_time": "2024-12-20T15:26:04.985Z"
   },
   {
    "duration": 4,
    "start_time": "2024-12-20T15:26:05.039Z"
   },
   {
    "duration": 4,
    "start_time": "2024-12-20T15:26:05.046Z"
   },
   {
    "duration": 207,
    "start_time": "2024-12-20T15:26:05.052Z"
   },
   {
    "duration": 118,
    "start_time": "2024-12-20T15:26:05.261Z"
   },
   {
    "duration": 202,
    "start_time": "2024-12-20T15:26:05.381Z"
   },
   {
    "duration": 7,
    "start_time": "2024-12-20T15:26:05.584Z"
   },
   {
    "duration": 6,
    "start_time": "2024-12-20T15:26:05.592Z"
   },
   {
    "duration": 221,
    "start_time": "2024-12-20T15:26:05.600Z"
   },
   {
    "duration": 7,
    "start_time": "2024-12-20T15:26:05.823Z"
   },
   {
    "duration": 6,
    "start_time": "2024-12-20T15:26:05.831Z"
   },
   {
    "duration": 928,
    "start_time": "2024-12-20T15:26:05.838Z"
   },
   {
    "duration": 8,
    "start_time": "2024-12-20T15:26:06.768Z"
   },
   {
    "duration": 4,
    "start_time": "2024-12-20T15:26:06.777Z"
   },
   {
    "duration": 34,
    "start_time": "2024-12-20T15:26:06.783Z"
   },
   {
    "duration": 256,
    "start_time": "2024-12-20T15:26:06.819Z"
   },
   {
    "duration": 141,
    "start_time": "2024-12-20T15:26:07.077Z"
   },
   {
    "duration": 643,
    "start_time": "2024-12-20T15:26:07.220Z"
   },
   {
    "duration": 474,
    "start_time": "2024-12-20T15:26:07.865Z"
   },
   {
    "duration": 10,
    "start_time": "2024-12-20T15:26:08.341Z"
   },
   {
    "duration": 1040,
    "start_time": "2024-12-20T15:26:08.353Z"
   },
   {
    "duration": 111,
    "start_time": "2024-12-20T15:26:09.395Z"
   },
   {
    "duration": 17,
    "start_time": "2024-12-20T15:26:09.508Z"
   },
   {
    "duration": 790,
    "start_time": "2024-12-20T15:26:09.526Z"
   },
   {
    "duration": 178,
    "start_time": "2024-12-20T15:26:10.317Z"
   },
   {
    "duration": 671,
    "start_time": "2024-12-20T15:26:10.497Z"
   },
   {
    "duration": 113,
    "start_time": "2024-12-20T15:26:11.170Z"
   },
   {
    "duration": 13,
    "start_time": "2024-12-20T15:26:11.284Z"
   },
   {
    "duration": 16,
    "start_time": "2024-12-20T16:22:54.888Z"
   },
   {
    "duration": 16,
    "start_time": "2024-12-20T16:23:11.201Z"
   },
   {
    "duration": 440,
    "start_time": "2024-12-20T16:54:57.340Z"
   },
   {
    "duration": 169,
    "start_time": "2024-12-20T16:54:57.783Z"
   },
   {
    "duration": 41,
    "start_time": "2024-12-20T16:54:57.954Z"
   },
   {
    "duration": 19,
    "start_time": "2024-12-20T16:54:57.998Z"
   },
   {
    "duration": 17,
    "start_time": "2024-12-20T16:54:58.019Z"
   },
   {
    "duration": 737,
    "start_time": "2024-12-20T16:54:58.037Z"
   },
   {
    "duration": 109,
    "start_time": "2024-12-20T16:54:58.776Z"
   },
   {
    "duration": 9,
    "start_time": "2024-12-20T16:54:58.887Z"
   },
   {
    "duration": 122,
    "start_time": "2024-12-20T16:54:58.898Z"
   },
   {
    "duration": 90,
    "start_time": "2024-12-20T16:54:59.024Z"
   },
   {
    "duration": 66,
    "start_time": "2024-12-20T16:54:59.116Z"
   },
   {
    "duration": 29,
    "start_time": "2024-12-20T16:54:59.184Z"
   },
   {
    "duration": 8,
    "start_time": "2024-12-20T16:54:59.214Z"
   },
   {
    "duration": 18,
    "start_time": "2024-12-20T16:54:59.224Z"
   },
   {
    "duration": 8,
    "start_time": "2024-12-20T16:54:59.244Z"
   },
   {
    "duration": 5,
    "start_time": "2024-12-20T16:54:59.253Z"
   },
   {
    "duration": 8,
    "start_time": "2024-12-20T16:54:59.260Z"
   },
   {
    "duration": 41,
    "start_time": "2024-12-20T16:54:59.271Z"
   },
   {
    "duration": 730,
    "start_time": "2024-12-20T16:54:59.314Z"
   },
   {
    "duration": 38,
    "start_time": "2024-12-20T16:55:00.046Z"
   },
   {
    "duration": 6,
    "start_time": "2024-12-20T16:55:00.086Z"
   },
   {
    "duration": 24,
    "start_time": "2024-12-20T16:55:00.094Z"
   },
   {
    "duration": 6,
    "start_time": "2024-12-20T16:55:00.119Z"
   },
   {
    "duration": 5,
    "start_time": "2024-12-20T16:55:00.127Z"
   },
   {
    "duration": 3,
    "start_time": "2024-12-20T16:55:00.133Z"
   },
   {
    "duration": 6,
    "start_time": "2024-12-20T16:55:00.138Z"
   },
   {
    "duration": 5,
    "start_time": "2024-12-20T16:55:00.147Z"
   },
   {
    "duration": 13,
    "start_time": "2024-12-20T16:55:00.156Z"
   },
   {
    "duration": 52,
    "start_time": "2024-12-20T16:55:00.171Z"
   },
   {
    "duration": 29,
    "start_time": "2024-12-20T16:55:00.224Z"
   },
   {
    "duration": 2,
    "start_time": "2024-12-20T16:55:00.255Z"
   },
   {
    "duration": 14,
    "start_time": "2024-12-20T16:55:00.259Z"
   },
   {
    "duration": 50,
    "start_time": "2024-12-20T16:55:00.275Z"
   },
   {
    "duration": 5,
    "start_time": "2024-12-20T16:55:00.328Z"
   },
   {
    "duration": 4,
    "start_time": "2024-12-20T16:55:00.335Z"
   },
   {
    "duration": 206,
    "start_time": "2024-12-20T16:55:00.341Z"
   },
   {
    "duration": 123,
    "start_time": "2024-12-20T16:55:00.548Z"
   },
   {
    "duration": 197,
    "start_time": "2024-12-20T16:55:00.672Z"
   },
   {
    "duration": 7,
    "start_time": "2024-12-20T16:55:00.870Z"
   },
   {
    "duration": 6,
    "start_time": "2024-12-20T16:55:00.878Z"
   },
   {
    "duration": 230,
    "start_time": "2024-12-20T16:55:00.885Z"
   },
   {
    "duration": 9,
    "start_time": "2024-12-20T16:55:01.117Z"
   },
   {
    "duration": 6,
    "start_time": "2024-12-20T16:55:01.127Z"
   },
   {
    "duration": 934,
    "start_time": "2024-12-20T16:55:01.134Z"
   },
   {
    "duration": 8,
    "start_time": "2024-12-20T16:55:02.070Z"
   },
   {
    "duration": 4,
    "start_time": "2024-12-20T16:55:02.079Z"
   },
   {
    "duration": 30,
    "start_time": "2024-12-20T16:55:02.085Z"
   },
   {
    "duration": 266,
    "start_time": "2024-12-20T16:55:02.117Z"
   },
   {
    "duration": 135,
    "start_time": "2024-12-20T16:55:02.385Z"
   },
   {
    "duration": 636,
    "start_time": "2024-12-20T16:55:02.522Z"
   },
   {
    "duration": 458,
    "start_time": "2024-12-20T16:55:03.160Z"
   },
   {
    "duration": 11,
    "start_time": "2024-12-20T16:55:03.621Z"
   },
   {
    "duration": 1057,
    "start_time": "2024-12-20T16:55:03.634Z"
   },
   {
    "duration": 118,
    "start_time": "2024-12-20T16:55:04.693Z"
   },
   {
    "duration": 16,
    "start_time": "2024-12-20T16:55:04.812Z"
   },
   {
    "duration": 812,
    "start_time": "2024-12-20T16:55:04.830Z"
   },
   {
    "duration": 181,
    "start_time": "2024-12-20T16:55:05.643Z"
   },
   {
    "duration": 676,
    "start_time": "2024-12-20T16:55:05.826Z"
   },
   {
    "duration": 108,
    "start_time": "2024-12-20T16:55:06.505Z"
   },
   {
    "duration": 12,
    "start_time": "2024-12-20T16:55:06.615Z"
   },
   {
    "duration": 2144,
    "start_time": "2024-12-20T20:31:59.331Z"
   },
   {
    "duration": 153,
    "start_time": "2024-12-20T20:32:01.480Z"
   },
   {
    "duration": 65,
    "start_time": "2024-12-20T20:32:01.635Z"
   },
   {
    "duration": 10,
    "start_time": "2024-12-20T20:32:01.702Z"
   },
   {
    "duration": 11,
    "start_time": "2024-12-20T20:32:01.715Z"
   },
   {
    "duration": 821,
    "start_time": "2024-12-20T20:32:01.728Z"
   },
   {
    "duration": 102,
    "start_time": "2024-12-20T20:32:02.551Z"
   },
   {
    "duration": 9,
    "start_time": "2024-12-20T20:32:02.655Z"
   },
   {
    "duration": 120,
    "start_time": "2024-12-20T20:32:02.666Z"
   },
   {
    "duration": 88,
    "start_time": "2024-12-20T20:32:02.788Z"
   },
   {
    "duration": 71,
    "start_time": "2024-12-20T20:32:02.878Z"
   },
   {
    "duration": 13,
    "start_time": "2024-12-20T20:32:02.950Z"
   },
   {
    "duration": 23,
    "start_time": "2024-12-20T20:32:02.965Z"
   },
   {
    "duration": 21,
    "start_time": "2024-12-20T20:32:02.993Z"
   },
   {
    "duration": 9,
    "start_time": "2024-12-20T20:32:03.017Z"
   },
   {
    "duration": 6,
    "start_time": "2024-12-20T20:32:03.028Z"
   },
   {
    "duration": 9,
    "start_time": "2024-12-20T20:32:03.035Z"
   },
   {
    "duration": 4,
    "start_time": "2024-12-20T20:32:03.046Z"
   },
   {
    "duration": 814,
    "start_time": "2024-12-20T20:32:03.052Z"
   },
   {
    "duration": 46,
    "start_time": "2024-12-20T20:32:03.868Z"
   },
   {
    "duration": 7,
    "start_time": "2024-12-20T20:32:03.916Z"
   },
   {
    "duration": 7,
    "start_time": "2024-12-20T20:32:03.924Z"
   },
   {
    "duration": 6,
    "start_time": "2024-12-20T20:32:03.933Z"
   },
   {
    "duration": 5,
    "start_time": "2024-12-20T20:32:03.941Z"
   },
   {
    "duration": 2,
    "start_time": "2024-12-20T20:32:03.948Z"
   },
   {
    "duration": 35,
    "start_time": "2024-12-20T20:32:03.951Z"
   },
   {
    "duration": 8,
    "start_time": "2024-12-20T20:32:03.988Z"
   },
   {
    "duration": 14,
    "start_time": "2024-12-20T20:32:03.998Z"
   },
   {
    "duration": 16,
    "start_time": "2024-12-20T20:32:04.014Z"
   },
   {
    "duration": 55,
    "start_time": "2024-12-20T20:32:04.032Z"
   },
   {
    "duration": 2,
    "start_time": "2024-12-20T20:32:04.090Z"
   },
   {
    "duration": 13,
    "start_time": "2024-12-20T20:32:04.094Z"
   },
   {
    "duration": 23,
    "start_time": "2024-12-20T20:32:04.109Z"
   },
   {
    "duration": 6,
    "start_time": "2024-12-20T20:32:04.134Z"
   },
   {
    "duration": 5,
    "start_time": "2024-12-20T20:32:04.141Z"
   },
   {
    "duration": 250,
    "start_time": "2024-12-20T20:32:04.147Z"
   },
   {
    "duration": 122,
    "start_time": "2024-12-20T20:32:04.399Z"
   },
   {
    "duration": 199,
    "start_time": "2024-12-20T20:32:04.523Z"
   },
   {
    "duration": 7,
    "start_time": "2024-12-20T20:32:04.724Z"
   },
   {
    "duration": 7,
    "start_time": "2024-12-20T20:32:04.732Z"
   },
   {
    "duration": 232,
    "start_time": "2024-12-20T20:32:04.743Z"
   },
   {
    "duration": 14,
    "start_time": "2024-12-20T20:32:04.977Z"
   },
   {
    "duration": 6,
    "start_time": "2024-12-20T20:32:04.992Z"
   },
   {
    "duration": 942,
    "start_time": "2024-12-20T20:32:04.999Z"
   },
   {
    "duration": 9,
    "start_time": "2024-12-20T20:32:05.942Z"
   },
   {
    "duration": 3,
    "start_time": "2024-12-20T20:32:05.953Z"
   },
   {
    "duration": 29,
    "start_time": "2024-12-20T20:32:05.958Z"
   },
   {
    "duration": 273,
    "start_time": "2024-12-20T20:32:05.989Z"
   },
   {
    "duration": 138,
    "start_time": "2024-12-20T20:32:06.264Z"
   },
   {
    "duration": 650,
    "start_time": "2024-12-20T20:32:06.403Z"
   },
   {
    "duration": 472,
    "start_time": "2024-12-20T20:32:07.054Z"
   },
   {
    "duration": 10,
    "start_time": "2024-12-20T20:32:07.527Z"
   },
   {
    "duration": 1121,
    "start_time": "2024-12-20T20:32:07.539Z"
   },
   {
    "duration": 116,
    "start_time": "2024-12-20T20:32:08.662Z"
   },
   {
    "duration": 19,
    "start_time": "2024-12-20T20:32:08.780Z"
   },
   {
    "duration": 821,
    "start_time": "2024-12-20T20:32:08.800Z"
   },
   {
    "duration": 127,
    "start_time": "2024-12-20T20:32:09.622Z"
   },
   {
    "duration": 689,
    "start_time": "2024-12-20T20:32:09.751Z"
   },
   {
    "duration": 112,
    "start_time": "2024-12-20T20:32:10.442Z"
   },
   {
    "duration": 12,
    "start_time": "2024-12-20T20:32:10.555Z"
   }
  ],
  "kernelspec": {
   "display_name": "Python 3 (ipykernel)",
   "language": "python",
   "name": "python3"
  },
  "language_info": {
   "codemirror_mode": {
    "name": "ipython",
    "version": 3
   },
   "file_extension": ".py",
   "mimetype": "text/x-python",
   "name": "python",
   "nbconvert_exporter": "python",
   "pygments_lexer": "ipython3",
   "version": "3.9.19"
  },
  "toc": {
   "base_numbering": 1,
   "nav_menu": {},
   "number_sections": true,
   "sideBar": true,
   "skip_h1_title": true,
   "title_cell": "Table of Contents",
   "title_sidebar": "Contents",
   "toc_cell": false,
   "toc_position": {},
   "toc_section_display": true,
   "toc_window_display": true
  },
  "vscode": {
   "interpreter": {
    "hash": "01a7be9ec63e704a62cefc5fe7a4756944464ee731be31632bdf42a4cb4688cf"
   }
  }
 },
 "nbformat": 4,
 "nbformat_minor": 5
}
