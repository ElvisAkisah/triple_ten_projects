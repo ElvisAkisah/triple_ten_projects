{
 "cells": [
  {
   "cell_type": "markdown",
   "metadata": {},
   "source": [
    "<h1 align = \"center\"><span style = \"font-size: 2em; font-weight: bold\"> SPRINT 17 - FINAL PROJECT </span></h1>"
   ]
  },
  {
   "cell_type": "markdown",
   "metadata": {},
   "source": [
    "<h1 align = \"center\"><span style = \"font-size: 2em; font-weight: bold\"> SOLUTION CODE   </span></h1>"
   ]
  },
  {
   "cell_type": "code",
   "execution_count": 1,
   "metadata": {},
   "outputs": [],
   "source": [
    "import pandas as pd\n",
    "import numpy as np\n",
    "import matplotlib.pyplot as plt\n",
    "import seaborn as sns\n",
    "from sklearn.model_selection import train_test_split\n",
    "from sklearn.preprocessing import StandardScaler\n",
    "from sklearn.linear_model import LogisticRegression\n",
    "from sklearn.ensemble import RandomForestClassifier\n",
    "from lightgbm import LGBMClassifier\n",
    "from sklearn.metrics import roc_auc_score, accuracy_score\n",
    "import warnings"
   ]
  },
  {
   "cell_type": "markdown",
   "metadata": {},
   "source": [
    "## Contract information"
   ]
  },
  {
   "cell_type": "code",
   "execution_count": 2,
   "metadata": {},
   "outputs": [
    {
     "name": "stdout",
     "output_type": "stream",
     "text": [
      "   customerID   BeginDate              EndDate            Type  \\\n",
      "0  7590-VHVEG  2020-01-01                   No  Month-to-month   \n",
      "1  5575-GNVDE  2017-04-01                   No        One year   \n",
      "2  3668-QPYBK  2019-10-01  2019-12-01 00:00:00  Month-to-month   \n",
      "3  7795-CFOCW  2016-05-01                   No        One year   \n",
      "4  9237-HQITU  2019-09-01  2019-11-01 00:00:00  Month-to-month   \n",
      "\n",
      "  PaperlessBilling              PaymentMethod  MonthlyCharges TotalCharges  \n",
      "0              Yes           Electronic check           29.85        29.85  \n",
      "1               No               Mailed check           56.95       1889.5  \n",
      "2              Yes               Mailed check           53.85       108.15  \n",
      "3               No  Bank transfer (automatic)           42.30      1840.75  \n",
      "4              Yes           Electronic check           70.70       151.65  \n",
      "------------------------------------------------------------------------------------\n",
      "Data info\n",
      "<class 'pandas.core.frame.DataFrame'>\n",
      "RangeIndex: 7043 entries, 0 to 7042\n",
      "Data columns (total 8 columns):\n",
      " #   Column            Non-Null Count  Dtype  \n",
      "---  ------            --------------  -----  \n",
      " 0   customerID        7043 non-null   object \n",
      " 1   BeginDate         7043 non-null   object \n",
      " 2   EndDate           7043 non-null   object \n",
      " 3   Type              7043 non-null   object \n",
      " 4   PaperlessBilling  7043 non-null   object \n",
      " 5   PaymentMethod     7043 non-null   object \n",
      " 6   MonthlyCharges    7043 non-null   float64\n",
      " 7   TotalCharges      7043 non-null   object \n",
      "dtypes: float64(1), object(7)\n",
      "memory usage: 440.3+ KB\n",
      "None\n",
      "------------------------------------------------------------------------------------\n",
      "missing Values count\n",
      "customerID          0\n",
      "BeginDate           0\n",
      "EndDate             0\n",
      "Type                0\n",
      "PaperlessBilling    0\n",
      "PaymentMethod       0\n",
      "MonthlyCharges      0\n",
      "TotalCharges        0\n",
      "dtype: int64\n",
      "------------------------------------------------------------------------------------\n",
      "Basic Descriptive statistics\n",
      "       MonthlyCharges\n",
      "count     7043.000000\n",
      "mean        64.761692\n",
      "std         30.090047\n",
      "min         18.250000\n",
      "25%         35.500000\n",
      "50%         70.350000\n",
      "75%         89.850000\n",
      "max        118.750000\n"
     ]
    }
   ],
   "source": [
    "df_contract = pd.read_csv('/datasets/final_provider/contract.csv')\n",
    "print(df_contract.head())\n",
    "\n",
    "print(\"------------------------------------------------------------------------------------\")\n",
    "print(\"Data info\")\n",
    "print(df_contract.info())\n",
    "\n",
    "print(\"------------------------------------------------------------------------------------\")\n",
    "print(\"missing Values count\")\n",
    "print(df_contract.isnull().sum())\n",
    "print(\"------------------------------------------------------------------------------------\")\n",
    "print(\"Basic Descriptive statistics\")\n",
    "print(df_contract.describe()\n",
    ")"
   ]
  },
  {
   "cell_type": "markdown",
   "metadata": {},
   "source": [
    "## The client's personal data"
   ]
  },
  {
   "cell_type": "code",
   "execution_count": 3,
   "metadata": {},
   "outputs": [
    {
     "name": "stdout",
     "output_type": "stream",
     "text": [
      "   customerID  gender  SeniorCitizen Partner Dependents\n",
      "0  7590-VHVEG  Female              0     Yes         No\n",
      "1  5575-GNVDE    Male              0      No         No\n",
      "2  3668-QPYBK    Male              0      No         No\n",
      "3  7795-CFOCW    Male              0      No         No\n",
      "4  9237-HQITU  Female              0      No         No\n",
      "------------------------------------------------------------------------------------\n",
      "Data info\n",
      "<class 'pandas.core.frame.DataFrame'>\n",
      "RangeIndex: 7043 entries, 0 to 7042\n",
      "Data columns (total 5 columns):\n",
      " #   Column         Non-Null Count  Dtype \n",
      "---  ------         --------------  ----- \n",
      " 0   customerID     7043 non-null   object\n",
      " 1   gender         7043 non-null   object\n",
      " 2   SeniorCitizen  7043 non-null   int64 \n",
      " 3   Partner        7043 non-null   object\n",
      " 4   Dependents     7043 non-null   object\n",
      "dtypes: int64(1), object(4)\n",
      "memory usage: 275.2+ KB\n",
      "None\n",
      "------------------------------------------------------------------------------------\n",
      "missing Values count\n",
      "customerID       0\n",
      "gender           0\n",
      "SeniorCitizen    0\n",
      "Partner          0\n",
      "Dependents       0\n",
      "dtype: int64\n",
      "------------------------------------------------------------------------------------\n",
      "Basic Descriptive statistics\n",
      "       SeniorCitizen\n",
      "count    7043.000000\n",
      "mean        0.162147\n",
      "std         0.368612\n",
      "min         0.000000\n",
      "25%         0.000000\n",
      "50%         0.000000\n",
      "75%         0.000000\n",
      "max         1.000000\n"
     ]
    }
   ],
   "source": [
    "df_personal = pd.read_csv('/datasets/final_provider/personal.csv')\n",
    "print(df_personal.head())\n",
    "\n",
    "print(\"------------------------------------------------------------------------------------\")\n",
    "print(\"Data info\")\n",
    "print(df_personal.info())\n",
    "\n",
    "print(\"------------------------------------------------------------------------------------\")\n",
    "print(\"missing Values count\")\n",
    "print(df_personal.isnull().sum())\n",
    "print(\"------------------------------------------------------------------------------------\")\n",
    "print(\"Basic Descriptive statistics\")\n",
    "print(df_personal.describe())"
   ]
  },
  {
   "cell_type": "markdown",
   "metadata": {},
   "source": [
    "##  Information about Internet services"
   ]
  },
  {
   "cell_type": "code",
   "execution_count": 4,
   "metadata": {},
   "outputs": [
    {
     "name": "stdout",
     "output_type": "stream",
     "text": [
      "   customerID InternetService OnlineSecurity OnlineBackup DeviceProtection  \\\n",
      "0  7590-VHVEG             DSL             No          Yes               No   \n",
      "1  5575-GNVDE             DSL            Yes           No              Yes   \n",
      "2  3668-QPYBK             DSL            Yes          Yes               No   \n",
      "3  7795-CFOCW             DSL            Yes           No              Yes   \n",
      "4  9237-HQITU     Fiber optic             No           No               No   \n",
      "\n",
      "  TechSupport StreamingTV StreamingMovies  \n",
      "0          No          No              No  \n",
      "1          No          No              No  \n",
      "2          No          No              No  \n",
      "3         Yes          No              No  \n",
      "4          No          No              No  \n",
      "------------------------------------------------------------------------------------\n",
      "Data info\n",
      "<class 'pandas.core.frame.DataFrame'>\n",
      "RangeIndex: 5517 entries, 0 to 5516\n",
      "Data columns (total 8 columns):\n",
      " #   Column            Non-Null Count  Dtype \n",
      "---  ------            --------------  ----- \n",
      " 0   customerID        5517 non-null   object\n",
      " 1   InternetService   5517 non-null   object\n",
      " 2   OnlineSecurity    5517 non-null   object\n",
      " 3   OnlineBackup      5517 non-null   object\n",
      " 4   DeviceProtection  5517 non-null   object\n",
      " 5   TechSupport       5517 non-null   object\n",
      " 6   StreamingTV       5517 non-null   object\n",
      " 7   StreamingMovies   5517 non-null   object\n",
      "dtypes: object(8)\n",
      "memory usage: 344.9+ KB\n",
      "None\n",
      "------------------------------------------------------------------------------------\n",
      "missing Values count\n",
      "customerID          0\n",
      "InternetService     0\n",
      "OnlineSecurity      0\n",
      "OnlineBackup        0\n",
      "DeviceProtection    0\n",
      "TechSupport         0\n",
      "StreamingTV         0\n",
      "StreamingMovies     0\n",
      "dtype: int64\n",
      "------------------------------------------------------------------------------------\n",
      "Basic DEscriptive statistics\n",
      "        customerID InternetService OnlineSecurity OnlineBackup  \\\n",
      "count         5517            5517           5517         5517   \n",
      "unique        5517               2              2            2   \n",
      "top     7549-MYGPK     Fiber optic             No           No   \n",
      "freq             1            3096           3498         3088   \n",
      "\n",
      "       DeviceProtection TechSupport StreamingTV StreamingMovies  \n",
      "count              5517        5517        5517            5517  \n",
      "unique                2           2           2               2  \n",
      "top                  No          No          No              No  \n",
      "freq               3095        3473        2810            2785  \n"
     ]
    }
   ],
   "source": [
    "\n",
    "df_internet = pd.read_csv('/datasets/final_provider/internet.csv')\n",
    "print(df_internet.head())\n",
    "\n",
    "print(\"------------------------------------------------------------------------------------\")\n",
    "print(\"Data info\")\n",
    "print(df_internet.info())\n",
    "\n",
    "print(\"------------------------------------------------------------------------------------\")\n",
    "print(\"missing Values count\")\n",
    "print(df_internet.isnull().sum())\n",
    "print(\"------------------------------------------------------------------------------------\")\n",
    "print(\"Basic DEscriptive statistics\")\n",
    "print(df_internet.describe())\n"
   ]
  },
  {
   "cell_type": "markdown",
   "metadata": {},
   "source": [
    "## Information about telephone services"
   ]
  },
  {
   "cell_type": "code",
   "execution_count": 5,
   "metadata": {},
   "outputs": [
    {
     "name": "stdout",
     "output_type": "stream",
     "text": [
      "   customerID InternetService OnlineSecurity OnlineBackup DeviceProtection  \\\n",
      "0  7590-VHVEG             DSL             No          Yes               No   \n",
      "1  5575-GNVDE             DSL            Yes           No              Yes   \n",
      "2  3668-QPYBK             DSL            Yes          Yes               No   \n",
      "3  7795-CFOCW             DSL            Yes           No              Yes   \n",
      "4  9237-HQITU     Fiber optic             No           No               No   \n",
      "\n",
      "  TechSupport StreamingTV StreamingMovies  \n",
      "0          No          No              No  \n",
      "1          No          No              No  \n",
      "2          No          No              No  \n",
      "3         Yes          No              No  \n",
      "4          No          No              No  \n",
      "------------------------------------------------------------------------------------\n",
      "Data info\n",
      "<class 'pandas.core.frame.DataFrame'>\n",
      "RangeIndex: 6361 entries, 0 to 6360\n",
      "Data columns (total 2 columns):\n",
      " #   Column         Non-Null Count  Dtype \n",
      "---  ------         --------------  ----- \n",
      " 0   customerID     6361 non-null   object\n",
      " 1   MultipleLines  6361 non-null   object\n",
      "dtypes: object(2)\n",
      "memory usage: 99.5+ KB\n",
      "None\n",
      "------------------------------------------------------------------------------------\n",
      "missing Values count\n",
      "customerID       0\n",
      "MultipleLines    0\n",
      "dtype: int64\n",
      "------------------------------------------------------------------------------------\n",
      "Basic DEscriptive statistics\n",
      "        customerID MultipleLines\n",
      "count         6361          6361\n",
      "unique        6361             2\n",
      "top     8780-RSYYU            No\n",
      "freq             1          3390\n"
     ]
    }
   ],
   "source": [
    "df_phone = pd.read_csv('/datasets/final_provider/phone.csv')\n",
    "print(df_internet.head())\n",
    "\n",
    "print(\"------------------------------------------------------------------------------------\")\n",
    "print(\"Data info\")\n",
    "print(df_phone.info())\n",
    "\n",
    "print(\"------------------------------------------------------------------------------------\")\n",
    "print(\"missing Values count\")\n",
    "print(df_phone.isnull().sum())\n",
    "print(\"------------------------------------------------------------------------------------\")\n",
    "print(\"Basic DEscriptive statistics\")\n",
    "print(df_phone.describe())\n"
   ]
  },
  {
   "cell_type": "markdown",
   "metadata": {},
   "source": [
    "# Data Merging and Feature Engineering "
   ]
  },
  {
   "cell_type": "code",
   "execution_count": 6,
   "metadata": {},
   "outputs": [
    {
     "data": {
      "text/html": [
       "<div>\n",
       "<style scoped>\n",
       "    .dataframe tbody tr th:only-of-type {\n",
       "        vertical-align: middle;\n",
       "    }\n",
       "\n",
       "    .dataframe tbody tr th {\n",
       "        vertical-align: top;\n",
       "    }\n",
       "\n",
       "    .dataframe thead th {\n",
       "        text-align: right;\n",
       "    }\n",
       "</style>\n",
       "<table border=\"1\" class=\"dataframe\">\n",
       "  <thead>\n",
       "    <tr style=\"text-align: right;\">\n",
       "      <th></th>\n",
       "      <th>customerID</th>\n",
       "      <th>BeginDate</th>\n",
       "      <th>EndDate</th>\n",
       "      <th>Type</th>\n",
       "      <th>PaperlessBilling</th>\n",
       "      <th>PaymentMethod</th>\n",
       "      <th>MonthlyCharges</th>\n",
       "      <th>TotalCharges</th>\n",
       "      <th>gender</th>\n",
       "      <th>SeniorCitizen</th>\n",
       "      <th>Partner</th>\n",
       "      <th>Dependents</th>\n",
       "    </tr>\n",
       "  </thead>\n",
       "  <tbody>\n",
       "    <tr>\n",
       "      <th>0</th>\n",
       "      <td>7590-VHVEG</td>\n",
       "      <td>2020-01-01</td>\n",
       "      <td>No</td>\n",
       "      <td>Month-to-month</td>\n",
       "      <td>Yes</td>\n",
       "      <td>Electronic check</td>\n",
       "      <td>29.85</td>\n",
       "      <td>29.85</td>\n",
       "      <td>Female</td>\n",
       "      <td>0</td>\n",
       "      <td>Yes</td>\n",
       "      <td>No</td>\n",
       "    </tr>\n",
       "    <tr>\n",
       "      <th>1</th>\n",
       "      <td>5575-GNVDE</td>\n",
       "      <td>2017-04-01</td>\n",
       "      <td>No</td>\n",
       "      <td>One year</td>\n",
       "      <td>No</td>\n",
       "      <td>Mailed check</td>\n",
       "      <td>56.95</td>\n",
       "      <td>1889.5</td>\n",
       "      <td>Male</td>\n",
       "      <td>0</td>\n",
       "      <td>No</td>\n",
       "      <td>No</td>\n",
       "    </tr>\n",
       "    <tr>\n",
       "      <th>2</th>\n",
       "      <td>3668-QPYBK</td>\n",
       "      <td>2019-10-01</td>\n",
       "      <td>2019-12-01 00:00:00</td>\n",
       "      <td>Month-to-month</td>\n",
       "      <td>Yes</td>\n",
       "      <td>Mailed check</td>\n",
       "      <td>53.85</td>\n",
       "      <td>108.15</td>\n",
       "      <td>Male</td>\n",
       "      <td>0</td>\n",
       "      <td>No</td>\n",
       "      <td>No</td>\n",
       "    </tr>\n",
       "    <tr>\n",
       "      <th>3</th>\n",
       "      <td>7795-CFOCW</td>\n",
       "      <td>2016-05-01</td>\n",
       "      <td>No</td>\n",
       "      <td>One year</td>\n",
       "      <td>No</td>\n",
       "      <td>Bank transfer (automatic)</td>\n",
       "      <td>42.30</td>\n",
       "      <td>1840.75</td>\n",
       "      <td>Male</td>\n",
       "      <td>0</td>\n",
       "      <td>No</td>\n",
       "      <td>No</td>\n",
       "    </tr>\n",
       "    <tr>\n",
       "      <th>4</th>\n",
       "      <td>9237-HQITU</td>\n",
       "      <td>2019-09-01</td>\n",
       "      <td>2019-11-01 00:00:00</td>\n",
       "      <td>Month-to-month</td>\n",
       "      <td>Yes</td>\n",
       "      <td>Electronic check</td>\n",
       "      <td>70.70</td>\n",
       "      <td>151.65</td>\n",
       "      <td>Female</td>\n",
       "      <td>0</td>\n",
       "      <td>No</td>\n",
       "      <td>No</td>\n",
       "    </tr>\n",
       "  </tbody>\n",
       "</table>\n",
       "</div>"
      ],
      "text/plain": [
       "   customerID   BeginDate              EndDate            Type  \\\n",
       "0  7590-VHVEG  2020-01-01                   No  Month-to-month   \n",
       "1  5575-GNVDE  2017-04-01                   No        One year   \n",
       "2  3668-QPYBK  2019-10-01  2019-12-01 00:00:00  Month-to-month   \n",
       "3  7795-CFOCW  2016-05-01                   No        One year   \n",
       "4  9237-HQITU  2019-09-01  2019-11-01 00:00:00  Month-to-month   \n",
       "\n",
       "  PaperlessBilling              PaymentMethod  MonthlyCharges TotalCharges  \\\n",
       "0              Yes           Electronic check           29.85        29.85   \n",
       "1               No               Mailed check           56.95       1889.5   \n",
       "2              Yes               Mailed check           53.85       108.15   \n",
       "3               No  Bank transfer (automatic)           42.30      1840.75   \n",
       "4              Yes           Electronic check           70.70       151.65   \n",
       "\n",
       "   gender  SeniorCitizen Partner Dependents  \n",
       "0  Female              0     Yes         No  \n",
       "1    Male              0      No         No  \n",
       "2    Male              0      No         No  \n",
       "3    Male              0      No         No  \n",
       "4  Female              0      No         No  "
      ]
     },
     "execution_count": 6,
     "metadata": {},
     "output_type": "execute_result"
    }
   ],
   "source": [
    "# Start by merging 'contract' and 'personal' data on 'customerID'\n",
    "merged_2 = pd.merge(df_contract, df_personal, on='customerID', how='left')\n",
    "merged_2.head()"
   ]
  },
  {
   "cell_type": "code",
   "execution_count": 7,
   "metadata": {},
   "outputs": [
    {
     "data": {
      "text/html": [
       "<div>\n",
       "<style scoped>\n",
       "    .dataframe tbody tr th:only-of-type {\n",
       "        vertical-align: middle;\n",
       "    }\n",
       "\n",
       "    .dataframe tbody tr th {\n",
       "        vertical-align: top;\n",
       "    }\n",
       "\n",
       "    .dataframe thead th {\n",
       "        text-align: right;\n",
       "    }\n",
       "</style>\n",
       "<table border=\"1\" class=\"dataframe\">\n",
       "  <thead>\n",
       "    <tr style=\"text-align: right;\">\n",
       "      <th></th>\n",
       "      <th>customerID</th>\n",
       "      <th>BeginDate</th>\n",
       "      <th>EndDate</th>\n",
       "      <th>Type</th>\n",
       "      <th>PaperlessBilling</th>\n",
       "      <th>PaymentMethod</th>\n",
       "      <th>MonthlyCharges</th>\n",
       "      <th>TotalCharges</th>\n",
       "      <th>gender</th>\n",
       "      <th>SeniorCitizen</th>\n",
       "      <th>Partner</th>\n",
       "      <th>Dependents</th>\n",
       "      <th>InternetService</th>\n",
       "      <th>OnlineSecurity</th>\n",
       "      <th>OnlineBackup</th>\n",
       "      <th>DeviceProtection</th>\n",
       "      <th>TechSupport</th>\n",
       "      <th>StreamingTV</th>\n",
       "      <th>StreamingMovies</th>\n",
       "    </tr>\n",
       "  </thead>\n",
       "  <tbody>\n",
       "    <tr>\n",
       "      <th>0</th>\n",
       "      <td>7590-VHVEG</td>\n",
       "      <td>2020-01-01</td>\n",
       "      <td>No</td>\n",
       "      <td>Month-to-month</td>\n",
       "      <td>Yes</td>\n",
       "      <td>Electronic check</td>\n",
       "      <td>29.85</td>\n",
       "      <td>29.85</td>\n",
       "      <td>Female</td>\n",
       "      <td>0</td>\n",
       "      <td>Yes</td>\n",
       "      <td>No</td>\n",
       "      <td>DSL</td>\n",
       "      <td>No</td>\n",
       "      <td>Yes</td>\n",
       "      <td>No</td>\n",
       "      <td>No</td>\n",
       "      <td>No</td>\n",
       "      <td>No</td>\n",
       "    </tr>\n",
       "    <tr>\n",
       "      <th>1</th>\n",
       "      <td>5575-GNVDE</td>\n",
       "      <td>2017-04-01</td>\n",
       "      <td>No</td>\n",
       "      <td>One year</td>\n",
       "      <td>No</td>\n",
       "      <td>Mailed check</td>\n",
       "      <td>56.95</td>\n",
       "      <td>1889.5</td>\n",
       "      <td>Male</td>\n",
       "      <td>0</td>\n",
       "      <td>No</td>\n",
       "      <td>No</td>\n",
       "      <td>DSL</td>\n",
       "      <td>Yes</td>\n",
       "      <td>No</td>\n",
       "      <td>Yes</td>\n",
       "      <td>No</td>\n",
       "      <td>No</td>\n",
       "      <td>No</td>\n",
       "    </tr>\n",
       "    <tr>\n",
       "      <th>2</th>\n",
       "      <td>3668-QPYBK</td>\n",
       "      <td>2019-10-01</td>\n",
       "      <td>2019-12-01 00:00:00</td>\n",
       "      <td>Month-to-month</td>\n",
       "      <td>Yes</td>\n",
       "      <td>Mailed check</td>\n",
       "      <td>53.85</td>\n",
       "      <td>108.15</td>\n",
       "      <td>Male</td>\n",
       "      <td>0</td>\n",
       "      <td>No</td>\n",
       "      <td>No</td>\n",
       "      <td>DSL</td>\n",
       "      <td>Yes</td>\n",
       "      <td>Yes</td>\n",
       "      <td>No</td>\n",
       "      <td>No</td>\n",
       "      <td>No</td>\n",
       "      <td>No</td>\n",
       "    </tr>\n",
       "    <tr>\n",
       "      <th>3</th>\n",
       "      <td>7795-CFOCW</td>\n",
       "      <td>2016-05-01</td>\n",
       "      <td>No</td>\n",
       "      <td>One year</td>\n",
       "      <td>No</td>\n",
       "      <td>Bank transfer (automatic)</td>\n",
       "      <td>42.30</td>\n",
       "      <td>1840.75</td>\n",
       "      <td>Male</td>\n",
       "      <td>0</td>\n",
       "      <td>No</td>\n",
       "      <td>No</td>\n",
       "      <td>DSL</td>\n",
       "      <td>Yes</td>\n",
       "      <td>No</td>\n",
       "      <td>Yes</td>\n",
       "      <td>Yes</td>\n",
       "      <td>No</td>\n",
       "      <td>No</td>\n",
       "    </tr>\n",
       "    <tr>\n",
       "      <th>4</th>\n",
       "      <td>9237-HQITU</td>\n",
       "      <td>2019-09-01</td>\n",
       "      <td>2019-11-01 00:00:00</td>\n",
       "      <td>Month-to-month</td>\n",
       "      <td>Yes</td>\n",
       "      <td>Electronic check</td>\n",
       "      <td>70.70</td>\n",
       "      <td>151.65</td>\n",
       "      <td>Female</td>\n",
       "      <td>0</td>\n",
       "      <td>No</td>\n",
       "      <td>No</td>\n",
       "      <td>Fiber optic</td>\n",
       "      <td>No</td>\n",
       "      <td>No</td>\n",
       "      <td>No</td>\n",
       "      <td>No</td>\n",
       "      <td>No</td>\n",
       "      <td>No</td>\n",
       "    </tr>\n",
       "  </tbody>\n",
       "</table>\n",
       "</div>"
      ],
      "text/plain": [
       "   customerID   BeginDate              EndDate            Type  \\\n",
       "0  7590-VHVEG  2020-01-01                   No  Month-to-month   \n",
       "1  5575-GNVDE  2017-04-01                   No        One year   \n",
       "2  3668-QPYBK  2019-10-01  2019-12-01 00:00:00  Month-to-month   \n",
       "3  7795-CFOCW  2016-05-01                   No        One year   \n",
       "4  9237-HQITU  2019-09-01  2019-11-01 00:00:00  Month-to-month   \n",
       "\n",
       "  PaperlessBilling              PaymentMethod  MonthlyCharges TotalCharges  \\\n",
       "0              Yes           Electronic check           29.85        29.85   \n",
       "1               No               Mailed check           56.95       1889.5   \n",
       "2              Yes               Mailed check           53.85       108.15   \n",
       "3               No  Bank transfer (automatic)           42.30      1840.75   \n",
       "4              Yes           Electronic check           70.70       151.65   \n",
       "\n",
       "   gender  SeniorCitizen Partner Dependents InternetService OnlineSecurity  \\\n",
       "0  Female              0     Yes         No             DSL             No   \n",
       "1    Male              0      No         No             DSL            Yes   \n",
       "2    Male              0      No         No             DSL            Yes   \n",
       "3    Male              0      No         No             DSL            Yes   \n",
       "4  Female              0      No         No     Fiber optic             No   \n",
       "\n",
       "  OnlineBackup DeviceProtection TechSupport StreamingTV StreamingMovies  \n",
       "0          Yes               No          No          No              No  \n",
       "1           No              Yes          No          No              No  \n",
       "2          Yes               No          No          No              No  \n",
       "3           No              Yes         Yes          No              No  \n",
       "4           No               No          No          No              No  "
      ]
     },
     "execution_count": 7,
     "metadata": {},
     "output_type": "execute_result"
    }
   ],
   "source": [
    "# Merge with 'internet' data\n",
    "merged_3 = pd.merge(merged_2, df_internet, on='customerID', how='left')\n",
    "merged_3.head()"
   ]
  },
  {
   "cell_type": "code",
   "execution_count": 8,
   "metadata": {},
   "outputs": [
    {
     "data": {
      "text/html": [
       "<div>\n",
       "<style scoped>\n",
       "    .dataframe tbody tr th:only-of-type {\n",
       "        vertical-align: middle;\n",
       "    }\n",
       "\n",
       "    .dataframe tbody tr th {\n",
       "        vertical-align: top;\n",
       "    }\n",
       "\n",
       "    .dataframe thead th {\n",
       "        text-align: right;\n",
       "    }\n",
       "</style>\n",
       "<table border=\"1\" class=\"dataframe\">\n",
       "  <thead>\n",
       "    <tr style=\"text-align: right;\">\n",
       "      <th></th>\n",
       "      <th>customerID</th>\n",
       "      <th>BeginDate</th>\n",
       "      <th>EndDate</th>\n",
       "      <th>Type</th>\n",
       "      <th>PaperlessBilling</th>\n",
       "      <th>PaymentMethod</th>\n",
       "      <th>MonthlyCharges</th>\n",
       "      <th>TotalCharges</th>\n",
       "      <th>gender</th>\n",
       "      <th>SeniorCitizen</th>\n",
       "      <th>Partner</th>\n",
       "      <th>Dependents</th>\n",
       "      <th>InternetService</th>\n",
       "      <th>OnlineSecurity</th>\n",
       "      <th>OnlineBackup</th>\n",
       "      <th>DeviceProtection</th>\n",
       "      <th>TechSupport</th>\n",
       "      <th>StreamingTV</th>\n",
       "      <th>StreamingMovies</th>\n",
       "      <th>MultipleLines</th>\n",
       "    </tr>\n",
       "  </thead>\n",
       "  <tbody>\n",
       "    <tr>\n",
       "      <th>0</th>\n",
       "      <td>7590-VHVEG</td>\n",
       "      <td>2020-01-01</td>\n",
       "      <td>No</td>\n",
       "      <td>Month-to-month</td>\n",
       "      <td>Yes</td>\n",
       "      <td>Electronic check</td>\n",
       "      <td>29.85</td>\n",
       "      <td>29.85</td>\n",
       "      <td>Female</td>\n",
       "      <td>0</td>\n",
       "      <td>Yes</td>\n",
       "      <td>No</td>\n",
       "      <td>DSL</td>\n",
       "      <td>No</td>\n",
       "      <td>Yes</td>\n",
       "      <td>No</td>\n",
       "      <td>No</td>\n",
       "      <td>No</td>\n",
       "      <td>No</td>\n",
       "      <td>NaN</td>\n",
       "    </tr>\n",
       "    <tr>\n",
       "      <th>1</th>\n",
       "      <td>5575-GNVDE</td>\n",
       "      <td>2017-04-01</td>\n",
       "      <td>No</td>\n",
       "      <td>One year</td>\n",
       "      <td>No</td>\n",
       "      <td>Mailed check</td>\n",
       "      <td>56.95</td>\n",
       "      <td>1889.5</td>\n",
       "      <td>Male</td>\n",
       "      <td>0</td>\n",
       "      <td>No</td>\n",
       "      <td>No</td>\n",
       "      <td>DSL</td>\n",
       "      <td>Yes</td>\n",
       "      <td>No</td>\n",
       "      <td>Yes</td>\n",
       "      <td>No</td>\n",
       "      <td>No</td>\n",
       "      <td>No</td>\n",
       "      <td>No</td>\n",
       "    </tr>\n",
       "    <tr>\n",
       "      <th>2</th>\n",
       "      <td>3668-QPYBK</td>\n",
       "      <td>2019-10-01</td>\n",
       "      <td>2019-12-01 00:00:00</td>\n",
       "      <td>Month-to-month</td>\n",
       "      <td>Yes</td>\n",
       "      <td>Mailed check</td>\n",
       "      <td>53.85</td>\n",
       "      <td>108.15</td>\n",
       "      <td>Male</td>\n",
       "      <td>0</td>\n",
       "      <td>No</td>\n",
       "      <td>No</td>\n",
       "      <td>DSL</td>\n",
       "      <td>Yes</td>\n",
       "      <td>Yes</td>\n",
       "      <td>No</td>\n",
       "      <td>No</td>\n",
       "      <td>No</td>\n",
       "      <td>No</td>\n",
       "      <td>No</td>\n",
       "    </tr>\n",
       "    <tr>\n",
       "      <th>3</th>\n",
       "      <td>7795-CFOCW</td>\n",
       "      <td>2016-05-01</td>\n",
       "      <td>No</td>\n",
       "      <td>One year</td>\n",
       "      <td>No</td>\n",
       "      <td>Bank transfer (automatic)</td>\n",
       "      <td>42.30</td>\n",
       "      <td>1840.75</td>\n",
       "      <td>Male</td>\n",
       "      <td>0</td>\n",
       "      <td>No</td>\n",
       "      <td>No</td>\n",
       "      <td>DSL</td>\n",
       "      <td>Yes</td>\n",
       "      <td>No</td>\n",
       "      <td>Yes</td>\n",
       "      <td>Yes</td>\n",
       "      <td>No</td>\n",
       "      <td>No</td>\n",
       "      <td>NaN</td>\n",
       "    </tr>\n",
       "    <tr>\n",
       "      <th>4</th>\n",
       "      <td>9237-HQITU</td>\n",
       "      <td>2019-09-01</td>\n",
       "      <td>2019-11-01 00:00:00</td>\n",
       "      <td>Month-to-month</td>\n",
       "      <td>Yes</td>\n",
       "      <td>Electronic check</td>\n",
       "      <td>70.70</td>\n",
       "      <td>151.65</td>\n",
       "      <td>Female</td>\n",
       "      <td>0</td>\n",
       "      <td>No</td>\n",
       "      <td>No</td>\n",
       "      <td>Fiber optic</td>\n",
       "      <td>No</td>\n",
       "      <td>No</td>\n",
       "      <td>No</td>\n",
       "      <td>No</td>\n",
       "      <td>No</td>\n",
       "      <td>No</td>\n",
       "      <td>No</td>\n",
       "    </tr>\n",
       "  </tbody>\n",
       "</table>\n",
       "</div>"
      ],
      "text/plain": [
       "   customerID   BeginDate              EndDate            Type  \\\n",
       "0  7590-VHVEG  2020-01-01                   No  Month-to-month   \n",
       "1  5575-GNVDE  2017-04-01                   No        One year   \n",
       "2  3668-QPYBK  2019-10-01  2019-12-01 00:00:00  Month-to-month   \n",
       "3  7795-CFOCW  2016-05-01                   No        One year   \n",
       "4  9237-HQITU  2019-09-01  2019-11-01 00:00:00  Month-to-month   \n",
       "\n",
       "  PaperlessBilling              PaymentMethod  MonthlyCharges TotalCharges  \\\n",
       "0              Yes           Electronic check           29.85        29.85   \n",
       "1               No               Mailed check           56.95       1889.5   \n",
       "2              Yes               Mailed check           53.85       108.15   \n",
       "3               No  Bank transfer (automatic)           42.30      1840.75   \n",
       "4              Yes           Electronic check           70.70       151.65   \n",
       "\n",
       "   gender  SeniorCitizen Partner Dependents InternetService OnlineSecurity  \\\n",
       "0  Female              0     Yes         No             DSL             No   \n",
       "1    Male              0      No         No             DSL            Yes   \n",
       "2    Male              0      No         No             DSL            Yes   \n",
       "3    Male              0      No         No             DSL            Yes   \n",
       "4  Female              0      No         No     Fiber optic             No   \n",
       "\n",
       "  OnlineBackup DeviceProtection TechSupport StreamingTV StreamingMovies  \\\n",
       "0          Yes               No          No          No              No   \n",
       "1           No              Yes          No          No              No   \n",
       "2          Yes               No          No          No              No   \n",
       "3           No              Yes         Yes          No              No   \n",
       "4           No               No          No          No              No   \n",
       "\n",
       "  MultipleLines  \n",
       "0           NaN  \n",
       "1            No  \n",
       "2            No  \n",
       "3           NaN  \n",
       "4            No  "
      ]
     },
     "execution_count": 8,
     "metadata": {},
     "output_type": "execute_result"
    }
   ],
   "source": [
    "# Merge with 'phone' data\n",
    "merged_df = pd.merge(merged_3, df_phone, on='customerID', how='left')\n",
    "merged_df.head()"
   ]
  },
  {
   "cell_type": "code",
   "execution_count": 9,
   "metadata": {},
   "outputs": [
    {
     "name": "stdout",
     "output_type": "stream",
     "text": [
      "Datasets merged successfully. New DataFrame shape: (7043, 20)\n",
      "\n",
      "First 5 rows of the merged DataFrame:\n",
      "   customerID   BeginDate              EndDate            Type  \\\n",
      "0  7590-VHVEG  2020-01-01                   No  Month-to-month   \n",
      "1  5575-GNVDE  2017-04-01                   No        One year   \n",
      "2  3668-QPYBK  2019-10-01  2019-12-01 00:00:00  Month-to-month   \n",
      "3  7795-CFOCW  2016-05-01                   No        One year   \n",
      "4  9237-HQITU  2019-09-01  2019-11-01 00:00:00  Month-to-month   \n",
      "\n",
      "  PaperlessBilling              PaymentMethod  MonthlyCharges TotalCharges  \\\n",
      "0              Yes           Electronic check           29.85        29.85   \n",
      "1               No               Mailed check           56.95       1889.5   \n",
      "2              Yes               Mailed check           53.85       108.15   \n",
      "3               No  Bank transfer (automatic)           42.30      1840.75   \n",
      "4              Yes           Electronic check           70.70       151.65   \n",
      "\n",
      "   gender  SeniorCitizen Partner Dependents InternetService OnlineSecurity  \\\n",
      "0  Female              0     Yes         No             DSL             No   \n",
      "1    Male              0      No         No             DSL            Yes   \n",
      "2    Male              0      No         No             DSL            Yes   \n",
      "3    Male              0      No         No             DSL            Yes   \n",
      "4  Female              0      No         No     Fiber optic             No   \n",
      "\n",
      "  OnlineBackup DeviceProtection TechSupport StreamingTV StreamingMovies  \\\n",
      "0          Yes               No          No          No              No   \n",
      "1           No              Yes          No          No              No   \n",
      "2          Yes               No          No          No              No   \n",
      "3           No              Yes         Yes          No              No   \n",
      "4           No               No          No          No              No   \n",
      "\n",
      "  MultipleLines  \n",
      "0           NaN  \n",
      "1            No  \n",
      "2            No  \n",
      "3           NaN  \n",
      "4            No  \n"
     ]
    }
   ],
   "source": [
    "print(\"Datasets merged successfully. New DataFrame shape:\", merged_df.shape)\n",
    "print(\"\\nFirst 5 rows of the merged DataFrame:\")\n",
    "print(merged_df.head())"
   ]
  },
  {
   "cell_type": "code",
   "execution_count": 10,
   "metadata": {},
   "outputs": [
    {
     "data": {
      "text/html": [
       "<div>\n",
       "<style scoped>\n",
       "    .dataframe tbody tr th:only-of-type {\n",
       "        vertical-align: middle;\n",
       "    }\n",
       "\n",
       "    .dataframe tbody tr th {\n",
       "        vertical-align: top;\n",
       "    }\n",
       "\n",
       "    .dataframe thead th {\n",
       "        text-align: right;\n",
       "    }\n",
       "</style>\n",
       "<table border=\"1\" class=\"dataframe\">\n",
       "  <thead>\n",
       "    <tr style=\"text-align: right;\">\n",
       "      <th></th>\n",
       "      <th>TotalCharges</th>\n",
       "    </tr>\n",
       "  </thead>\n",
       "  <tbody>\n",
       "    <tr>\n",
       "      <th>0</th>\n",
       "      <td>29.85</td>\n",
       "    </tr>\n",
       "    <tr>\n",
       "      <th>1</th>\n",
       "      <td>1889.50</td>\n",
       "    </tr>\n",
       "    <tr>\n",
       "      <th>2</th>\n",
       "      <td>108.15</td>\n",
       "    </tr>\n",
       "    <tr>\n",
       "      <th>3</th>\n",
       "      <td>1840.75</td>\n",
       "    </tr>\n",
       "    <tr>\n",
       "      <th>4</th>\n",
       "      <td>151.65</td>\n",
       "    </tr>\n",
       "  </tbody>\n",
       "</table>\n",
       "</div>"
      ],
      "text/plain": [
       "   TotalCharges\n",
       "0         29.85\n",
       "1       1889.50\n",
       "2        108.15\n",
       "3       1840.75\n",
       "4        151.65"
      ]
     },
     "execution_count": 10,
     "metadata": {},
     "output_type": "execute_result"
    }
   ],
   "source": [
    "# A. Handle 'TotalCharges' column\n",
    "# Convert 'TotalCharges' to a numeric type, coercing errors to NaN\n",
    "merged_df['TotalCharges'] = pd.to_numeric(merged_df['TotalCharges'], errors='coerce')\n",
    "merged_df[['TotalCharges']].head()"
   ]
  },
  {
   "cell_type": "code",
   "execution_count": 11,
   "metadata": {},
   "outputs": [
    {
     "data": {
      "text/html": [
       "<div>\n",
       "<style scoped>\n",
       "    .dataframe tbody tr th:only-of-type {\n",
       "        vertical-align: middle;\n",
       "    }\n",
       "\n",
       "    .dataframe tbody tr th {\n",
       "        vertical-align: top;\n",
       "    }\n",
       "\n",
       "    .dataframe thead th {\n",
       "        text-align: right;\n",
       "    }\n",
       "</style>\n",
       "<table border=\"1\" class=\"dataframe\">\n",
       "  <thead>\n",
       "    <tr style=\"text-align: right;\">\n",
       "      <th></th>\n",
       "      <th>TotalCharges</th>\n",
       "    </tr>\n",
       "  </thead>\n",
       "  <tbody>\n",
       "    <tr>\n",
       "      <th>0</th>\n",
       "      <td>29.85</td>\n",
       "    </tr>\n",
       "    <tr>\n",
       "      <th>1</th>\n",
       "      <td>1889.50</td>\n",
       "    </tr>\n",
       "    <tr>\n",
       "      <th>2</th>\n",
       "      <td>108.15</td>\n",
       "    </tr>\n",
       "    <tr>\n",
       "      <th>3</th>\n",
       "      <td>1840.75</td>\n",
       "    </tr>\n",
       "    <tr>\n",
       "      <th>4</th>\n",
       "      <td>151.65</td>\n",
       "    </tr>\n",
       "  </tbody>\n",
       "</table>\n",
       "</div>"
      ],
      "text/plain": [
       "   TotalCharges\n",
       "0         29.85\n",
       "1       1889.50\n",
       "2        108.15\n",
       "3       1840.75\n",
       "4        151.65"
      ]
     },
     "execution_count": 11,
     "metadata": {},
     "output_type": "execute_result"
    }
   ],
   "source": [
    "# Fill missing 'TotalCharges' values with 0, as they are likely new customers\n",
    "merged_df['TotalCharges'] = merged_df['TotalCharges'].fillna(0)\n",
    "merged_df[['TotalCharges']].head()"
   ]
  },
  {
   "cell_type": "code",
   "execution_count": 12,
   "metadata": {},
   "outputs": [
    {
     "data": {
      "text/html": [
       "<div>\n",
       "<style scoped>\n",
       "    .dataframe tbody tr th:only-of-type {\n",
       "        vertical-align: middle;\n",
       "    }\n",
       "\n",
       "    .dataframe tbody tr th {\n",
       "        vertical-align: top;\n",
       "    }\n",
       "\n",
       "    .dataframe thead th {\n",
       "        text-align: right;\n",
       "    }\n",
       "</style>\n",
       "<table border=\"1\" class=\"dataframe\">\n",
       "  <thead>\n",
       "    <tr style=\"text-align: right;\">\n",
       "      <th></th>\n",
       "      <th>Churn</th>\n",
       "    </tr>\n",
       "  </thead>\n",
       "  <tbody>\n",
       "    <tr>\n",
       "      <th>0</th>\n",
       "      <td>0</td>\n",
       "    </tr>\n",
       "    <tr>\n",
       "      <th>1</th>\n",
       "      <td>0</td>\n",
       "    </tr>\n",
       "    <tr>\n",
       "      <th>2</th>\n",
       "      <td>1</td>\n",
       "    </tr>\n",
       "    <tr>\n",
       "      <th>3</th>\n",
       "      <td>0</td>\n",
       "    </tr>\n",
       "    <tr>\n",
       "      <th>4</th>\n",
       "      <td>1</td>\n",
       "    </tr>\n",
       "  </tbody>\n",
       "</table>\n",
       "</div>"
      ],
      "text/plain": [
       "   Churn\n",
       "0      0\n",
       "1      0\n",
       "2      1\n",
       "3      0\n",
       "4      1"
      ]
     },
     "execution_count": 12,
     "metadata": {},
     "output_type": "execute_result"
    }
   ],
   "source": [
    "# B. Create the 'Churn' target feature\n",
    "# Create a new column 'Churn' where '1' means they've churned, and '0' means they're active.\n",
    "merged_df['Churn'] = (merged_df['EndDate'] != 'No').astype(int)\n",
    "merged_df[['Churn']].head()"
   ]
  },
  {
   "cell_type": "code",
   "execution_count": 13,
   "metadata": {},
   "outputs": [
    {
     "data": {
      "text/html": [
       "<div>\n",
       "<style scoped>\n",
       "    .dataframe tbody tr th:only-of-type {\n",
       "        vertical-align: middle;\n",
       "    }\n",
       "\n",
       "    .dataframe tbody tr th {\n",
       "        vertical-align: top;\n",
       "    }\n",
       "\n",
       "    .dataframe thead th {\n",
       "        text-align: right;\n",
       "    }\n",
       "</style>\n",
       "<table border=\"1\" class=\"dataframe\">\n",
       "  <thead>\n",
       "    <tr style=\"text-align: right;\">\n",
       "      <th></th>\n",
       "      <th>BeginDate</th>\n",
       "      <th>EndDate</th>\n",
       "    </tr>\n",
       "  </thead>\n",
       "  <tbody>\n",
       "    <tr>\n",
       "      <th>0</th>\n",
       "      <td>2020-01-01</td>\n",
       "      <td>NaT</td>\n",
       "    </tr>\n",
       "    <tr>\n",
       "      <th>1</th>\n",
       "      <td>2017-04-01</td>\n",
       "      <td>NaT</td>\n",
       "    </tr>\n",
       "    <tr>\n",
       "      <th>2</th>\n",
       "      <td>2019-10-01</td>\n",
       "      <td>2019-12-01</td>\n",
       "    </tr>\n",
       "    <tr>\n",
       "      <th>3</th>\n",
       "      <td>2016-05-01</td>\n",
       "      <td>NaT</td>\n",
       "    </tr>\n",
       "    <tr>\n",
       "      <th>4</th>\n",
       "      <td>2019-09-01</td>\n",
       "      <td>2019-11-01</td>\n",
       "    </tr>\n",
       "  </tbody>\n",
       "</table>\n",
       "</div>"
      ],
      "text/plain": [
       "   BeginDate    EndDate\n",
       "0 2020-01-01        NaT\n",
       "1 2017-04-01        NaT\n",
       "2 2019-10-01 2019-12-01\n",
       "3 2016-05-01        NaT\n",
       "4 2019-09-01 2019-11-01"
      ]
     },
     "execution_count": 13,
     "metadata": {},
     "output_type": "execute_result"
    }
   ],
   "source": [
    "# C. Calculate 'Tenure' (months active)\n",
    "# Convert 'BeginDate' and 'EndDate' to datetime objects\n",
    "merged_df['BeginDate'] = pd.to_datetime(merged_df['BeginDate'])\n",
    "merged_df['EndDate'] = pd.to_datetime(merged_df['EndDate'], errors='coerce')\n",
    "merged_df[['BeginDate','EndDate']].head()"
   ]
  },
  {
   "cell_type": "code",
   "execution_count": 14,
   "metadata": {},
   "outputs": [
    {
     "data": {
      "text/html": [
       "<div>\n",
       "<style scoped>\n",
       "    .dataframe tbody tr th:only-of-type {\n",
       "        vertical-align: middle;\n",
       "    }\n",
       "\n",
       "    .dataframe tbody tr th {\n",
       "        vertical-align: top;\n",
       "    }\n",
       "\n",
       "    .dataframe thead th {\n",
       "        text-align: right;\n",
       "    }\n",
       "</style>\n",
       "<table border=\"1\" class=\"dataframe\">\n",
       "  <thead>\n",
       "    <tr style=\"text-align: right;\">\n",
       "      <th></th>\n",
       "      <th>BeginDate</th>\n",
       "      <th>EndDate</th>\n",
       "    </tr>\n",
       "  </thead>\n",
       "  <tbody>\n",
       "    <tr>\n",
       "      <th>0</th>\n",
       "      <td>2020-01-01</td>\n",
       "      <td>NaT</td>\n",
       "    </tr>\n",
       "    <tr>\n",
       "      <th>1</th>\n",
       "      <td>2017-04-01</td>\n",
       "      <td>NaT</td>\n",
       "    </tr>\n",
       "    <tr>\n",
       "      <th>2</th>\n",
       "      <td>2019-10-01</td>\n",
       "      <td>2019-12-01</td>\n",
       "    </tr>\n",
       "    <tr>\n",
       "      <th>3</th>\n",
       "      <td>2016-05-01</td>\n",
       "      <td>NaT</td>\n",
       "    </tr>\n",
       "    <tr>\n",
       "      <th>4</th>\n",
       "      <td>2019-09-01</td>\n",
       "      <td>2019-11-01</td>\n",
       "    </tr>\n",
       "  </tbody>\n",
       "</table>\n",
       "</div>"
      ],
      "text/plain": [
       "   BeginDate    EndDate\n",
       "0 2020-01-01        NaT\n",
       "1 2017-04-01        NaT\n",
       "2 2019-10-01 2019-12-01\n",
       "3 2016-05-01        NaT\n",
       "4 2019-09-01 2019-11-01"
      ]
     },
     "execution_count": 14,
     "metadata": {},
     "output_type": "execute_result"
    }
   ],
   "source": [
    "# Use the fixed reference date '2020-02-01' for active clients as suggested in the review\n",
    "reference_date = pd.to_datetime('2020-02-01')\n",
    "merged_df[['BeginDate','EndDate']].head()"
   ]
  },
  {
   "cell_type": "code",
   "execution_count": 15,
   "metadata": {},
   "outputs": [
    {
     "data": {
      "text/html": [
       "<div>\n",
       "<style scoped>\n",
       "    .dataframe tbody tr th:only-of-type {\n",
       "        vertical-align: middle;\n",
       "    }\n",
       "\n",
       "    .dataframe tbody tr th {\n",
       "        vertical-align: top;\n",
       "    }\n",
       "\n",
       "    .dataframe thead th {\n",
       "        text-align: right;\n",
       "    }\n",
       "</style>\n",
       "<table border=\"1\" class=\"dataframe\">\n",
       "  <thead>\n",
       "    <tr style=\"text-align: right;\">\n",
       "      <th></th>\n",
       "      <th>tenure_months</th>\n",
       "    </tr>\n",
       "  </thead>\n",
       "  <tbody>\n",
       "    <tr>\n",
       "      <th>0</th>\n",
       "      <td>1.033333</td>\n",
       "    </tr>\n",
       "    <tr>\n",
       "      <th>1</th>\n",
       "      <td>34.533333</td>\n",
       "    </tr>\n",
       "    <tr>\n",
       "      <th>2</th>\n",
       "      <td>2.033333</td>\n",
       "    </tr>\n",
       "    <tr>\n",
       "      <th>3</th>\n",
       "      <td>45.700000</td>\n",
       "    </tr>\n",
       "    <tr>\n",
       "      <th>4</th>\n",
       "      <td>2.033333</td>\n",
       "    </tr>\n",
       "  </tbody>\n",
       "</table>\n",
       "</div>"
      ],
      "text/plain": [
       "   tenure_months\n",
       "0       1.033333\n",
       "1      34.533333\n",
       "2       2.033333\n",
       "3      45.700000\n",
       "4       2.033333"
      ]
     },
     "execution_count": 15,
     "metadata": {},
     "output_type": "execute_result"
    }
   ],
   "source": [
    "\n",
    "# Calculate the duration in months\n",
    "merged_df['tenure_months'] = np.where(\n",
    "    merged_df['Churn'] == 1,\n",
    "    (merged_df['EndDate'] - merged_df['BeginDate']).dt.days / 30,\n",
    "    (reference_date - merged_df['BeginDate']).dt.days / 30\n",
    ")\n",
    "merged_df[['tenure_months']].head()"
   ]
  },
  {
   "cell_type": "code",
   "execution_count": 16,
   "metadata": {},
   "outputs": [
    {
     "data": {
      "text/html": [
       "<div>\n",
       "<style scoped>\n",
       "    .dataframe tbody tr th:only-of-type {\n",
       "        vertical-align: middle;\n",
       "    }\n",
       "\n",
       "    .dataframe tbody tr th {\n",
       "        vertical-align: top;\n",
       "    }\n",
       "\n",
       "    .dataframe thead th {\n",
       "        text-align: right;\n",
       "    }\n",
       "</style>\n",
       "<table border=\"1\" class=\"dataframe\">\n",
       "  <thead>\n",
       "    <tr style=\"text-align: right;\">\n",
       "      <th></th>\n",
       "      <th>tenure_months</th>\n",
       "    </tr>\n",
       "  </thead>\n",
       "  <tbody>\n",
       "    <tr>\n",
       "      <th>0</th>\n",
       "      <td>1</td>\n",
       "    </tr>\n",
       "    <tr>\n",
       "      <th>1</th>\n",
       "      <td>35</td>\n",
       "    </tr>\n",
       "    <tr>\n",
       "      <th>2</th>\n",
       "      <td>2</td>\n",
       "    </tr>\n",
       "    <tr>\n",
       "      <th>3</th>\n",
       "      <td>46</td>\n",
       "    </tr>\n",
       "    <tr>\n",
       "      <th>4</th>\n",
       "      <td>2</td>\n",
       "    </tr>\n",
       "  </tbody>\n",
       "</table>\n",
       "</div>"
      ],
      "text/plain": [
       "   tenure_months\n",
       "0              1\n",
       "1             35\n",
       "2              2\n",
       "3             46\n",
       "4              2"
      ]
     },
     "execution_count": 16,
     "metadata": {},
     "output_type": "execute_result"
    }
   ],
   "source": [
    "# The 'tenure_months' might have some floating-point inaccuracies, let's round them.\n",
    "merged_df['tenure_months'] = merged_df['tenure_months'].round().astype(int)\n",
    "merged_df[['tenure_months']].head()"
   ]
  },
  {
   "cell_type": "code",
   "execution_count": 17,
   "metadata": {},
   "outputs": [
    {
     "name": "stdout",
     "output_type": "stream",
     "text": [
      "\n",
      "DataFrame info after cleaning and feature engineering:\n",
      "<class 'pandas.core.frame.DataFrame'>\n",
      "Int64Index: 7043 entries, 0 to 7042\n",
      "Data columns (total 22 columns):\n",
      " #   Column            Non-Null Count  Dtype         \n",
      "---  ------            --------------  -----         \n",
      " 0   customerID        7043 non-null   object        \n",
      " 1   BeginDate         7043 non-null   datetime64[ns]\n",
      " 2   EndDate           1869 non-null   datetime64[ns]\n",
      " 3   Type              7043 non-null   object        \n",
      " 4   PaperlessBilling  7043 non-null   object        \n",
      " 5   PaymentMethod     7043 non-null   object        \n",
      " 6   MonthlyCharges    7043 non-null   float64       \n",
      " 7   TotalCharges      7043 non-null   float64       \n",
      " 8   gender            7043 non-null   object        \n",
      " 9   SeniorCitizen     7043 non-null   int64         \n",
      " 10  Partner           7043 non-null   object        \n",
      " 11  Dependents        7043 non-null   object        \n",
      " 12  InternetService   5517 non-null   object        \n",
      " 13  OnlineSecurity    5517 non-null   object        \n",
      " 14  OnlineBackup      5517 non-null   object        \n",
      " 15  DeviceProtection  5517 non-null   object        \n",
      " 16  TechSupport       5517 non-null   object        \n",
      " 17  StreamingTV       5517 non-null   object        \n",
      " 18  StreamingMovies   5517 non-null   object        \n",
      " 19  MultipleLines     6361 non-null   object        \n",
      " 20  Churn             7043 non-null   int64         \n",
      " 21  tenure_months     7043 non-null   int64         \n",
      "dtypes: datetime64[ns](2), float64(2), int64(3), object(15)\n",
      "memory usage: 1.2+ MB\n"
     ]
    }
   ],
   "source": [
    "# --- Verification of Changes ---\n",
    "print(\"\\nDataFrame info after cleaning and feature engineering:\")\n",
    "merged_df.info()"
   ]
  },
  {
   "cell_type": "code",
   "execution_count": 18,
   "metadata": {},
   "outputs": [
    {
     "name": "stdout",
     "output_type": "stream",
     "text": [
      "\n",
      "Distribution of the new 'Churn' target variable:\n",
      "0    0.73463\n",
      "1    0.26537\n",
      "Name: Churn, dtype: float64\n"
     ]
    }
   ],
   "source": [
    "print(\"\\nDistribution of the new 'Churn' target variable:\")\n",
    "print(merged_df['Churn'].value_counts(normalize=True))"
   ]
  },
  {
   "cell_type": "code",
   "execution_count": 19,
   "metadata": {},
   "outputs": [
    {
     "name": "stdout",
     "output_type": "stream",
     "text": [
      "\n",
      "Descriptive statistics for 'TotalCharges' and 'tenure_months':\n",
      "       TotalCharges  tenure_months\n",
      "count   7043.000000    7043.000000\n",
      "mean    2279.734304      32.831180\n",
      "std     2266.794470      25.004181\n",
      "min        0.000000       0.000000\n",
      "25%      398.550000       9.000000\n",
      "50%     1394.550000      29.000000\n",
      "75%     3786.600000      56.000000\n",
      "max     8684.800000      73.000000\n"
     ]
    }
   ],
   "source": [
    "print(\"\\nDescriptive statistics for 'TotalCharges' and 'tenure_months':\")\n",
    "print(merged_df[['TotalCharges', 'tenure_months']].describe())"
   ]
  },
  {
   "cell_type": "markdown",
   "metadata": {},
   "source": [
    "# Exploratory Data Analysis (EDA)"
   ]
  },
  {
   "cell_type": "code",
   "execution_count": 20,
   "metadata": {},
   "outputs": [],
   "source": [
    "# Set a professional plot style\n",
    "sns.set_style(\"whitegrid\")"
   ]
  },
  {
   "cell_type": "code",
   "execution_count": 21,
   "metadata": {},
   "outputs": [
    {
     "data": {
      "image/png": "[encoded data removed]",
      "text/plain": [
       "<Figure size 700x500 with 1 Axes>"
      ]
     },
     "metadata": {},
     "output_type": "display_data"
    },
    {
     "name": "stdout",
     "output_type": "stream",
     "text": [
      "Churn Rate: 26.54%\n"
     ]
    }
   ],
   "source": [
    "# Churn Rate Bar Plot\n",
    "plt.figure(figsize=(7, 5))\n",
    "churn_rate = merged_df['Churn'].value_counts(normalize=True) * 100\n",
    "sns.barplot(x=churn_rate.index, y=churn_rate.values, palette=['#4CAF50', '#FF5733'])\n",
    "plt.title('Client Churn Rate', fontsize=16)\n",
    "plt.xlabel('Churn Status', fontsize=12)\n",
    "plt.ylabel('Percentage of Clients (%)', fontsize=12)\n",
    "plt.xticks([0, 1], ['No Churn', 'Churn'])\n",
    "plt.show()\n",
    "print(f\"Churn Rate: {merged_df['Churn'].mean() * 100:.2f}%\")"
   ]
  },
  {
   "cell_type": "markdown",
   "metadata": {},
   "source": [
    "* The overall churn rate is 26.54%.\n",
    "\n",
    "* The dataset is imbalanced, with a significantly larger number of non-churned clients compared to churned ones. This is an important consideration for model training."
   ]
  },
  {
   "cell_type": "code",
   "execution_count": 22,
   "metadata": {},
   "outputs": [
    {
     "data": {
      "image/png": "[encoded data removed]",
      "text/plain": [
       "<Figure size 1000x600 with 1 Axes>"
      ]
     },
     "metadata": {},
     "output_type": "display_data"
    }
   ],
   "source": [
    "\n",
    "# 2. Churn by Contract Type\n",
    "plt.figure(figsize=(10, 6))\n",
    "churn_by_contract = merged_df.groupby('Type')['Churn'].mean().reset_index()\n",
    "sns.barplot(x='Type', y='Churn', data=churn_by_contract, palette='viridis')\n",
    "plt.title('Churn Rate by Contract Type', fontsize=16)\n",
    "plt.xlabel('Contract Type', fontsize=12)\n",
    "plt.ylabel('Churn Rate', fontsize=12)\n",
    "plt.show()"
   ]
  },
  {
   "cell_type": "markdown",
   "metadata": {},
   "source": [
    "* Contract type is a powerful predictor of churn.\n",
    "\n",
    "* Clients on month-to-month contracts have a very high churn rate.\n",
    "\n",
    "* Clients with one- or two-year contracts have a significantly lower churn rate, indicating these long-term commitments are effective for retention."
   ]
  },
  {
   "cell_type": "code",
   "execution_count": 23,
   "metadata": {},
   "outputs": [
    {
     "data": {
      "image/png": "[encoded data removed]",
      "text/plain": [
       "<Figure size 1200x700 with 1 Axes>"
      ]
     },
     "metadata": {},
     "output_type": "display_data"
    }
   ],
   "source": [
    "# Tenure vs. Churn (Histogram)\n",
    "plt.figure(figsize=(12, 7))\n",
    "sns.histplot(data=merged_df, x='tenure_months', hue='Churn', multiple=\"stack\", bins=30, palette='coolwarm')\n",
    "plt.title('Distribution of Tenure by Churn Status', fontsize=16)\n",
    "plt.xlabel('Tenure (Months)', fontsize=12)\n",
    "plt.ylabel('Count', fontsize=12)\n",
    "plt.legend(title='Churn', labels=['No Churn', 'Churn'])\n",
    "plt.show()"
   ]
  },
  {
   "cell_type": "markdown",
   "metadata": {},
   "source": [
    "* Tenure has a strong inverse relationship with churn.\n",
    "\n",
    "* The majority of churned clients are new customers with very low tenure.\n",
    "\n",
    "* Conversely, clients who do not churn are heavily concentrated in the higher tenure brackets."
   ]
  },
  {
   "cell_type": "code",
   "execution_count": 24,
   "metadata": {},
   "outputs": [
    {
     "data": {
      "image/png": "[encoded data removed]",
      "text/plain": [
       "<Figure size 1000x600 with 1 Axes>"
      ]
     },
     "metadata": {},
     "output_type": "display_data"
    }
   ],
   "source": [
    "# Monthly Charges vs. Churn (Box Plot)\n",
    "plt.figure(figsize=(10, 6))\n",
    "sns.boxplot(x='Churn', y='MonthlyCharges', data=merged_df, palette=['#4CAF50', '#FF5733'])\n",
    "plt.title('Monthly Charges Distribution by Churn Status', fontsize=16)\n",
    "plt.xlabel('Churn (0: No, 1: Yes)', fontsize=12)\n",
    "plt.ylabel('Monthly Charges ($)', fontsize=12)\n",
    "plt.xticks([0, 1], ['No Churn', 'Churn'])\n",
    "plt.show()"
   ]
  },
  {
   "cell_type": "markdown",
   "metadata": {},
   "source": [
    "* Clients who churned tend to have higher monthly charges than those who did not.\n",
    "\n",
    "* The median monthly charge for churned clients is noticeably higher, suggesting that cost sensitivity is a factor in churn."
   ]
  },
  {
   "cell_type": "code",
   "execution_count": 25,
   "metadata": {},
   "outputs": [
    {
     "data": {
      "image/png": "[encoded data removed]",
      "text/plain": [
       "<Figure size 1500x1000 with 4 Axes>"
      ]
     },
     "metadata": {},
     "output_type": "display_data"
    }
   ],
   "source": [
    "# 5. Churn Rate by Demographics (Gender, SeniorCitizen, Partner, Dependents)\n",
    "demographic_cols = ['gender', 'SeniorCitizen', 'Partner', 'Dependents']\n",
    "\n",
    "plt.figure(figsize=(15, 10))\n",
    "for i, col in enumerate(demographic_cols, 1):\n",
    "    plt.subplot(2, 2, i)\n",
    "    churn_by_demographics = merged_df.groupby(col)['Churn'].mean().reset_index()\n",
    "    sns.barplot(x=col, y='Churn', data=churn_by_demographics, palette='plasma')\n",
    "    plt.title(f'Churn Rate by {col}', fontsize=14)\n",
    "    plt.xlabel(col, fontsize=12)\n",
    "    plt.ylabel('Churn Rate', fontsize=12)\n",
    "plt.tight_layout()\n",
    "plt.show()"
   ]
  },
  {
   "cell_type": "markdown",
   "metadata": {},
   "source": [
    "* Gender does not appear to be a strong predictor of churn, as the rates are very similar for both males and females.\n",
    "\n",
    "* Senior citizens have a higher churn rate than non-senior citizens.\n",
    "\n",
    "* Clients with no partner or no dependents are more likely to churn. This suggests that household ties and shared responsibilities may play a role in customer loyalty."
   ]
  },
  {
   "cell_type": "markdown",
   "metadata": {},
   "source": [
    "# Data Preprocessing for Model Training"
   ]
  },
  {
   "cell_type": "code",
   "execution_count": 26,
   "metadata": {},
   "outputs": [
    {
     "name": "stdout",
     "output_type": "stream",
     "text": [
      "<class 'pandas.core.frame.DataFrame'>\n",
      "Int64Index: 7043 entries, 0 to 7042\n",
      "Data columns (total 19 columns):\n",
      " #   Column            Non-Null Count  Dtype  \n",
      "---  ------            --------------  -----  \n",
      " 0   Type              7043 non-null   object \n",
      " 1   PaperlessBilling  7043 non-null   object \n",
      " 2   PaymentMethod     7043 non-null   object \n",
      " 3   MonthlyCharges    7043 non-null   float64\n",
      " 4   TotalCharges      7043 non-null   float64\n",
      " 5   gender            7043 non-null   object \n",
      " 6   SeniorCitizen     7043 non-null   int64  \n",
      " 7   Partner           7043 non-null   object \n",
      " 8   Dependents        7043 non-null   object \n",
      " 9   InternetService   5517 non-null   object \n",
      " 10  OnlineSecurity    5517 non-null   object \n",
      " 11  OnlineBackup      5517 non-null   object \n",
      " 12  DeviceProtection  5517 non-null   object \n",
      " 13  TechSupport       5517 non-null   object \n",
      " 14  StreamingTV       5517 non-null   object \n",
      " 15  StreamingMovies   5517 non-null   object \n",
      " 16  MultipleLines     6361 non-null   object \n",
      " 17  Churn             7043 non-null   int64  \n",
      " 18  tenure_months     7043 non-null   int64  \n",
      "dtypes: float64(2), int64(3), object(14)\n",
      "memory usage: 1.3+ MB\n"
     ]
    }
   ],
   "source": [
    "# Dropping the original date columns and customer ID as they are no longer needed\n",
    "df_processed = merged_df.drop(columns=['customerID', 'BeginDate', 'EndDate'])\n",
    "df_processed.info()"
   ]
  },
  {
   "cell_type": "code",
   "execution_count": 27,
   "metadata": {},
   "outputs": [],
   "source": [
    "# Separating the target variable 'Churn' from the features\n",
    "X = df_processed.drop('Churn', axis=1)\n",
    "y = df_processed['Churn']"
   ]
  },
  {
   "cell_type": "code",
   "execution_count": 28,
   "metadata": {},
   "outputs": [],
   "source": [
    "# First, splitting  the data into 80% for training + validation and 20% for testing\n",
    "X_train_val, X_test, y_train_val, y_test = train_test_split(\n",
    "    X, y, test_size=0.2, random_state=42, stratify=y\n",
    ")"
   ]
  },
  {
   "cell_type": "code",
   "execution_count": 29,
   "metadata": {},
   "outputs": [],
   "source": [
    "# Then, splitting  the remaining 80% into 60% training and 20% validation\n",
    "X_train, X_val, y_train, y_val = train_test_split(\n",
    "    X_train_val, y_train_val, test_size=0.25, random_state=42, stratify=y_train_val\n",
    ")"
   ]
  },
  {
   "cell_type": "code",
   "execution_count": 30,
   "metadata": {
    "scrolled": true
   },
   "outputs": [
    {
     "name": "stdout",
     "output_type": "stream",
     "text": [
      "Training set shape: (4225, 18)\n",
      "Validation set shape: (1409, 18)\n",
      "Test set shape: (1409, 18)\n"
     ]
    }
   ],
   "source": [
    "print(f\"Training set shape: {X_train.shape}\")\n",
    "print(f\"Validation set shape: {X_val.shape}\")\n",
    "print(f\"Test set shape: {X_test.shape}\")"
   ]
  },
  {
   "cell_type": "code",
   "execution_count": 31,
   "metadata": {},
   "outputs": [],
   "source": [
    "# Identify categorical and numerical columns for processing\n",
    "categorical_cols = X.select_dtypes(include=['object']).columns\n",
    "numerical_cols = X.select_dtypes(exclude=['object']).columns"
   ]
  },
  {
   "cell_type": "code",
   "execution_count": 32,
   "metadata": {},
   "outputs": [],
   "source": [
    "# Apply One-Hot Encoding to categorical features\n",
    "X_train_encoded = pd.get_dummies(X_train, columns=categorical_cols, drop_first=True)\n",
    "X_val_encoded = pd.get_dummies(X_val, columns=categorical_cols, drop_first=True)\n",
    "X_test_encoded = pd.get_dummies(X_test, columns=categorical_cols, drop_first=True)"
   ]
  },
  {
   "cell_type": "code",
   "execution_count": 33,
   "metadata": {},
   "outputs": [],
   "source": [
    "# Align columns to ensure all dataframes have the same features after encoding\n",
    "X_train_encoded, X_val_encoded = X_train_encoded.align(X_val_encoded, join='left', axis=1, fill_value=0)\n",
    "X_train_encoded, X_test_encoded = X_train_encoded.align(X_test_encoded, join='left', axis=1, fill_value=0)\n"
   ]
  },
  {
   "cell_type": "code",
   "execution_count": 34,
   "metadata": {},
   "outputs": [],
   "source": [
    "# Scale numerical features\n",
    "scaler = StandardScaler()"
   ]
  },
  {
   "cell_type": "code",
   "execution_count": 35,
   "metadata": {},
   "outputs": [],
   "source": [
    "# Fit the scaler ONLY on the training data to prevent data leakage\n",
    "X_train_scaled = X_train_encoded.copy()\n",
    "X_val_scaled = X_val_encoded.copy()\n",
    "X_test_scaled = X_test_encoded.copy()"
   ]
  },
  {
   "cell_type": "code",
   "execution_count": 36,
   "metadata": {},
   "outputs": [],
   "source": [
    "X_train_scaled[numerical_cols] = scaler.fit_transform(X_train_encoded[numerical_cols])\n",
    "X_val_scaled[numerical_cols] = scaler.transform(X_val_encoded[numerical_cols])\n",
    "X_test_scaled[numerical_cols] = scaler.transform(X_test_encoded[numerical_cols])"
   ]
  },
  {
   "cell_type": "code",
   "execution_count": 37,
   "metadata": {},
   "outputs": [
    {
     "name": "stdout",
     "output_type": "stream",
     "text": [
      "\n",
      "Data preprocessing complete. Final dataframes are ready for model training.\n"
     ]
    }
   ],
   "source": [
    "print(\"\\nData preprocessing complete. Final dataframes are ready for model training.\")"
   ]
  },
  {
   "cell_type": "markdown",
   "metadata": {},
   "source": [
    "# Model Selection and Initial Training"
   ]
  },
  {
   "cell_type": "code",
   "execution_count": 38,
   "metadata": {},
   "outputs": [],
   "source": [
    "# Suppressing warnings for cleaner output\n",
    "warnings.filterwarnings('ignore')"
   ]
  },
  {
   "cell_type": "code",
   "execution_count": 39,
   "metadata": {},
   "outputs": [],
   "source": [
    "# Initializing models with class_weight='balanced' to handle imbalance\n",
    "models = {\n",
    "    'Logistic Regression': LogisticRegression(random_state=42, class_weight='balanced'),\n",
    "    'Random Forest': RandomForestClassifier(random_state=42, class_weight='balanced'),\n",
    "    'LightGBM': LGBMClassifier(random_state=42, class_weight='balanced')\n",
    "}"
   ]
  },
  {
   "cell_type": "code",
   "execution_count": 40,
   "metadata": {
    "scrolled": true
   },
   "outputs": [
    {
     "name": "stdout",
     "output_type": "stream",
     "text": [
      "--- Training Logistic Regression ---\n",
      "  > Validation Accuracy: 0.7438\n",
      "  > Validation AUC-ROC: 0.8337\n",
      "\n",
      "--- Training Random Forest ---\n",
      "  > Validation Accuracy: 0.7842\n",
      "  > Validation AUC-ROC: 0.8119\n",
      "\n",
      "--- Training LightGBM ---\n",
      "  > Validation Accuracy: 0.7573\n",
      "  > Validation AUC-ROC: 0.8270\n",
      "\n"
     ]
    }
   ],
   "source": [
    "# Train and evaluate each model\n",
    "for name, model in models.items():\n",
    "    print(f\"--- Training {name} ---\")\n",
    "\n",
    "    # Train the model on the training set\n",
    "    model.fit(X_train_scaled, y_train)\n",
    "\n",
    "    # Make predictions on the validation set\n",
    "    y_pred_val = model.predict(X_val_scaled)\n",
    "    y_prob_val = model.predict_proba(X_val_scaled)[:, 1]\n",
    "\n",
    "    # Calculate metrics\n",
    "    accuracy = accuracy_score(y_val, y_pred_val)\n",
    "    auc_roc = roc_auc_score(y_val, y_prob_val)\n",
    "\n",
    "    # Print results\n",
    "    print(f\"  > Validation Accuracy: {accuracy:.4f}\")\n",
    "    print(f\"  > Validation AUC-ROC: {auc_roc:.4f}\\n\")"
   ]
  },
  {
   "cell_type": "markdown",
   "metadata": {},
   "source": [
    "* **AUC-ROC:** <br> The models performed well, with all three achieving an AUC-ROC score above 0.81. The Logistic Regression model had the best performance on the validation set at 0.8337, followed closely by LightGBM at 0.8270. This suggests that even a simpler model can perform very well on this dataset.\n",
    "\n",
    "* **Accuracy:** <br> The Random Forest model had the highest accuracy at 0.7842, outperforming both Logistic Regression and LightGBM on this metric. This is an important distinction, as AUC-ROC and Accuracy measure different aspects of model performance.\n",
    "\n",
    "* **Imbalance Handling:** <br> The class_weight='balanced' parameter appears to have been effective, as the AUC-ROC scores indicate the models are performing well at distinguishing between the two classes despite the data imbalance."
   ]
  },
  {
   "cell_type": "markdown",
   "metadata": {},
   "source": [
    "# Final Model Evaluation"
   ]
  },
  {
   "cell_type": "code",
   "execution_count": 41,
   "metadata": {},
   "outputs": [],
   "source": [
    "# Combining the training and validation sets for a more robust final model\n",
    "X_train_final = pd.concat([X_train_scaled, X_val_scaled], ignore_index=True)\n",
    "y_train_final = pd.concat([y_train, y_val], ignore_index=True)"
   ]
  },
  {
   "cell_type": "code",
   "execution_count": 42,
   "metadata": {},
   "outputs": [],
   "source": [
    "# Instantiate the final LightGBM model with class_weight='balanced'\n",
    "final_model = LGBMClassifier(random_state=42, class_weight='balanced')"
   ]
  },
  {
   "cell_type": "code",
   "execution_count": 43,
   "metadata": {},
   "outputs": [
    {
     "name": "stdout",
     "output_type": "stream",
     "text": [
      "Training the final LightGBM model on combined train+validation data...\n",
      "Training complete.\n"
     ]
    }
   ],
   "source": [
    "print(\"Training the final LightGBM model on combined train+validation data...\")\n",
    "final_model.fit(X_train_final, y_train_final)\n",
    "print(\"Training complete.\")"
   ]
  },
  {
   "cell_type": "code",
   "execution_count": 44,
   "metadata": {},
   "outputs": [],
   "source": [
    "# Making  predictions on the unseen test set\n",
    "y_pred_test = final_model.predict(X_test_scaled)\n",
    "y_prob_test = final_model.predict_proba(X_test_scaled)[:, 1]"
   ]
  },
  {
   "cell_type": "code",
   "execution_count": 45,
   "metadata": {},
   "outputs": [],
   "source": [
    "# Calculate final metrics on the test set\n",
    "final_accuracy = accuracy_score(y_test, y_pred_test)\n",
    "final_auc_roc = roc_auc_score(y_test, y_prob_test)"
   ]
  },
  {
   "cell_type": "code",
   "execution_count": 46,
   "metadata": {},
   "outputs": [
    {
     "name": "stdout",
     "output_type": "stream",
     "text": [
      "\n",
      "--- Final Model Performance on the Test Set ---\n",
      "Final Accuracy: 0.7544\n",
      "Final AUC-ROC: 0.8334\n"
     ]
    }
   ],
   "source": [
    "# Print the final results\n",
    "print(\"\\n--- Final Model Performance on the Test Set ---\")\n",
    "print(f\"Final Accuracy: {final_accuracy:.4f}\")\n",
    "print(f\"Final AUC-ROC: {final_auc_roc:.4f}\")"
   ]
  },
  {
   "cell_type": "markdown",
   "metadata": {},
   "source": [
    "<div class=\"alert alert-block alert-success\">\n",
    "<b>Reviewer's comment</b> <a class=\"tocSkip\"></a>\n",
    "\n",
    "Very nice, this looks like a good project overall, well written and commented on! Congratulations!\n",
    "</div>"
   ]
  },
  {
   "cell_type": "markdown",
   "metadata": {},
   "source": [
    "* **Final AUC-ROC:** <br>  The final model (LightGBM) achieved an AUC-ROC of 0.8334 on the test set. This is a very strong result, confirming that the model generalizes well to new, unseen data.\n",
    "\n",
    "* **Final Accuracy:** <br>  The final accuracy score of 0.7544 on the test set is also solid. It's slightly lower than the Random Forest's validation accuracy but still indicates good overall performance.\n",
    "\n",
    "* **Assessment Criteria:** <br> An AUC-ROC score of 0.8334 falls into the 0.81 ≤ AUC-ROC < 0.85 range, which corresponds to a project score of 4.5 SP. This is a great outcome for the project."
   ]
  },
  {
   "cell_type": "markdown",
   "metadata": {},
   "source": [
    "# CONCLUSION"
   ]
  },
  {
   "cell_type": "markdown",
   "metadata": {},
   "source": [
    "* The project successfully developed a machine learning model to forecast client churn for Interconnect. The model's performance, as measured by its **Final AUC-ROC of 0.8334**, is excellent and falls within the target range for a high score on the project's assessment criteria. This indicates the model is highly effective at distinguishing between clients who will churn and those who will not.\n",
    "\n",
    "* The exploratory data analysis revealed several critical factors influencing churn:\n",
    "\n",
    "**Contract Type:**<br> Clients on month-to-month contracts are significantly more likely to churn than those on long-term contracts.<br>\n",
    "\n",
    "**Tenure:** <br> There is a strong inverse relationship between a client's tenure and their likelihood of churning. New clients are the most vulnerable to churn.<br>\n",
    "\n",
    "**Monthly Charges:** <br> Clients with higher monthly charges are more prone to leaving the service.<br>\n",
    "\n",
    "**Demographics:** <br>  Demographics such as being a Senior Citizen or lacking a Partner or Dependents correlate with a higher churn rate.  <br>\n",
    "* The chosen LightGBM model proved to be a robust and high-performing solution. Its final scores on unseen data (AUC-ROC: 0.8334, Accuracy: 0.7544) confirm that the model generalizes well and can be reliably used by Interconnect to identify at-risk customers for targeted promotional campaigns."
   ]
  }
 ],
 "metadata": {
  "kernelspec": {
   "display_name": "Python 3 (ipykernel)",
   "language": "python",
   "name": "python3"
  },
  "language_info": {
   "codemirror_mode": {
    "name": "ipython",
    "version": 3
   },
   "file_extension": ".py",
   "mimetype": "text/x-python",
   "name": "python",
   "nbconvert_exporter": "python",
   "pygments_lexer": "ipython3",
   "version": "3.9.23"
  }
 },
 "nbformat": 4,
 "nbformat_minor": 4
}
